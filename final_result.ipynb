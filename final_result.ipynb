{
 "cells": [
  {
   "cell_type": "code",
   "execution_count": 2,
   "outputs": [],
   "source": [
    "import pandas as pd"
   ],
   "metadata": {
    "collapsed": false,
    "ExecuteTime": {
     "end_time": "2024-09-09T06:12:11.193512400Z",
     "start_time": "2024-09-09T06:12:11.167466300Z"
    }
   },
   "id": "a6291c3145180e33"
  },
  {
   "cell_type": "code",
   "execution_count": 17,
   "outputs": [
    {
     "data": {
      "text/plain": "  Unnamed: 0 Unnamed: 1 Unnamed: 2     TN   FP   FN   TP     Acc    Prec  \\\n0   Baseline    Sunspot         DT  12050  564  435  175  0.9245  0.2368   \n1        NaN        NaN         RF  12539   75  514   96  0.9555  0.5614   \n2        NaN        NaN        SVM  12603   11  590   20  0.9546  0.6452   \n3        NaN        NaN         GB  12579   35  544   66  0.9562  0.6535   \n4        NaN        NaN       LSTM  12580   34  561   49  0.9550  0.5904   \n\n     Reca      F1     TSS     HSS  Unnamed: 13  POSITIVE  NEGATIVE  \n0  0.2869  0.2595  0.2422  0.2200          NaN       610     12614  \n1  0.1574  0.2459  0.1514  0.2303          NaN       610     12614  \n2  0.0328  0.0624  0.0319  0.0582          NaN       610     12614  \n3  0.1082  0.1857  0.1054  0.1748          NaN       610     12614  \n4  0.0803  0.1414  0.0776  0.1318          NaN       610     12614  ",
      "text/html": "<div>\n<style scoped>\n    .dataframe tbody tr th:only-of-type {\n        vertical-align: middle;\n    }\n\n    .dataframe tbody tr th {\n        vertical-align: top;\n    }\n\n    .dataframe thead th {\n        text-align: right;\n    }\n</style>\n<table border=\"1\" class=\"dataframe\">\n  <thead>\n    <tr style=\"text-align: right;\">\n      <th></th>\n      <th>Unnamed: 0</th>\n      <th>Unnamed: 1</th>\n      <th>Unnamed: 2</th>\n      <th>TN</th>\n      <th>FP</th>\n      <th>FN</th>\n      <th>TP</th>\n      <th>Acc</th>\n      <th>Prec</th>\n      <th>Reca</th>\n      <th>F1</th>\n      <th>TSS</th>\n      <th>HSS</th>\n      <th>Unnamed: 13</th>\n      <th>POSITIVE</th>\n      <th>NEGATIVE</th>\n    </tr>\n  </thead>\n  <tbody>\n    <tr>\n      <th>0</th>\n      <td>Baseline</td>\n      <td>Sunspot</td>\n      <td>DT</td>\n      <td>12050</td>\n      <td>564</td>\n      <td>435</td>\n      <td>175</td>\n      <td>0.9245</td>\n      <td>0.2368</td>\n      <td>0.2869</td>\n      <td>0.2595</td>\n      <td>0.2422</td>\n      <td>0.2200</td>\n      <td>NaN</td>\n      <td>610</td>\n      <td>12614</td>\n    </tr>\n    <tr>\n      <th>1</th>\n      <td>NaN</td>\n      <td>NaN</td>\n      <td>RF</td>\n      <td>12539</td>\n      <td>75</td>\n      <td>514</td>\n      <td>96</td>\n      <td>0.9555</td>\n      <td>0.5614</td>\n      <td>0.1574</td>\n      <td>0.2459</td>\n      <td>0.1514</td>\n      <td>0.2303</td>\n      <td>NaN</td>\n      <td>610</td>\n      <td>12614</td>\n    </tr>\n    <tr>\n      <th>2</th>\n      <td>NaN</td>\n      <td>NaN</td>\n      <td>SVM</td>\n      <td>12603</td>\n      <td>11</td>\n      <td>590</td>\n      <td>20</td>\n      <td>0.9546</td>\n      <td>0.6452</td>\n      <td>0.0328</td>\n      <td>0.0624</td>\n      <td>0.0319</td>\n      <td>0.0582</td>\n      <td>NaN</td>\n      <td>610</td>\n      <td>12614</td>\n    </tr>\n    <tr>\n      <th>3</th>\n      <td>NaN</td>\n      <td>NaN</td>\n      <td>GB</td>\n      <td>12579</td>\n      <td>35</td>\n      <td>544</td>\n      <td>66</td>\n      <td>0.9562</td>\n      <td>0.6535</td>\n      <td>0.1082</td>\n      <td>0.1857</td>\n      <td>0.1054</td>\n      <td>0.1748</td>\n      <td>NaN</td>\n      <td>610</td>\n      <td>12614</td>\n    </tr>\n    <tr>\n      <th>4</th>\n      <td>NaN</td>\n      <td>NaN</td>\n      <td>LSTM</td>\n      <td>12580</td>\n      <td>34</td>\n      <td>561</td>\n      <td>49</td>\n      <td>0.9550</td>\n      <td>0.5904</td>\n      <td>0.0803</td>\n      <td>0.1414</td>\n      <td>0.0776</td>\n      <td>0.1318</td>\n      <td>NaN</td>\n      <td>610</td>\n      <td>12614</td>\n    </tr>\n  </tbody>\n</table>\n</div>"
     },
     "execution_count": 17,
     "metadata": {},
     "output_type": "execute_result"
    }
   ],
   "source": [
    "df = pd.read_excel(\"data/results.xlsx\", sheet_name=\"Sheet1\")\n",
    "df.head()"
   ],
   "metadata": {
    "collapsed": false,
    "ExecuteTime": {
     "end_time": "2024-09-09T07:07:36.876112900Z",
     "start_time": "2024-09-09T07:07:36.804084900Z"
    }
   },
   "id": "f9b6165a60b90d92"
  },
  {
   "cell_type": "code",
   "execution_count": null,
   "outputs": [],
   "source": [
    "df.columns = ['A', 'B', 'C', 'TN', 'FP', 'FN', 'TP', 'Accuracy', 'Precision', 'Recall', 'F1-score', 'TSS', 'HSS', 'Extra', 'POSITIVE', 'NEGATIVE']\n",
    "\n",
    "df['A'].fillna(method='ffill', inplace=True)\n",
    "df['B'].fillna(method='ffill', inplace=True)\n",
    "\n",
    "df_filtered = df[['Accuracy', 'Precision', 'Recall', 'F1-score', 'TSS', 'HSS', 'TN', 'FP', 'FN', 'TP']]\n",
    "\n",
    "df_filtered.index = df.apply(lambda row: f\"{row['A']}-{row['B']}({row['C']})\", axis=1)\n",
    "df = df_filtered"
   ],
   "metadata": {
    "collapsed": false
   },
   "id": "84b83baf64eb6bdd"
  },
  {
   "cell_type": "code",
   "execution_count": 19,
   "outputs": [
    {
     "data": {
      "text/plain": "                          Accuracy  Precision  Recall  F1-score     TSS  \\\nBaseline-Sunspot(DT)        0.9245     0.2368  0.2869    0.2595  0.2422   \nBaseline-Sunspot(RF)        0.9555     0.5614  0.1574    0.2459  0.1514   \nBaseline-Sunspot(SVM)       0.9546     0.6452  0.0328    0.0624  0.0319   \nBaseline-Sunspot(GB)        0.9562     0.6535  0.1082    0.1857  0.1054   \nBaseline-Sunspot(LSTM)      0.9550     0.5904  0.0803    0.1414  0.0776   \n...                            ...        ...     ...       ...     ...   \nUnder-fit-Combined(RF)      0.9595     0.5625  0.0818    0.1428  0.0791   \nUnder-fit-Combined(SVM)     0.9587     0.0000  0.0000    0.0000  0.0000   \nUnder-fit-Combined(GB)      0.9568     0.4444  0.1818    0.2580  0.1720   \nUnder-fit-Combined(LSTM)    0.9583     0.0000  0.0000    0.0000 -0.0004   \nUnder-fit-Combined(CNN)     0.9580     0.4000  0.0364    0.0667  0.0340   \n\n                             HSS     TN   FP   FN   TP  \nBaseline-Sunspot(DT)      0.2200  12050  564  435  175  \nBaseline-Sunspot(RF)      0.2303  12539   75  514   96  \nBaseline-Sunspot(SVM)     0.0582  12603   11  590   20  \nBaseline-Sunspot(GB)      0.1748  12579   35  544   66  \nBaseline-Sunspot(LSTM)    0.1318  12580   34  561   49  \n...                          ...    ...  ...  ...  ...  \nUnder-fit-Combined(RF)    0.1338   2548    7  101    9  \nUnder-fit-Combined(SVM)   0.0000   2555    0  110    0  \nUnder-fit-Combined(GB)    0.2398   2530   25   90   20  \nUnder-fit-Combined(LSTM) -0.0007   2554    1  110    0  \nUnder-fit-Combined(CNN)   0.0602   2549    6  106    4  \n\n[108 rows x 10 columns]",
      "text/html": "<div>\n<style scoped>\n    .dataframe tbody tr th:only-of-type {\n        vertical-align: middle;\n    }\n\n    .dataframe tbody tr th {\n        vertical-align: top;\n    }\n\n    .dataframe thead th {\n        text-align: right;\n    }\n</style>\n<table border=\"1\" class=\"dataframe\">\n  <thead>\n    <tr style=\"text-align: right;\">\n      <th></th>\n      <th>Accuracy</th>\n      <th>Precision</th>\n      <th>Recall</th>\n      <th>F1-score</th>\n      <th>TSS</th>\n      <th>HSS</th>\n      <th>TN</th>\n      <th>FP</th>\n      <th>FN</th>\n      <th>TP</th>\n    </tr>\n  </thead>\n  <tbody>\n    <tr>\n      <th>Baseline-Sunspot(DT)</th>\n      <td>0.9245</td>\n      <td>0.2368</td>\n      <td>0.2869</td>\n      <td>0.2595</td>\n      <td>0.2422</td>\n      <td>0.2200</td>\n      <td>12050</td>\n      <td>564</td>\n      <td>435</td>\n      <td>175</td>\n    </tr>\n    <tr>\n      <th>Baseline-Sunspot(RF)</th>\n      <td>0.9555</td>\n      <td>0.5614</td>\n      <td>0.1574</td>\n      <td>0.2459</td>\n      <td>0.1514</td>\n      <td>0.2303</td>\n      <td>12539</td>\n      <td>75</td>\n      <td>514</td>\n      <td>96</td>\n    </tr>\n    <tr>\n      <th>Baseline-Sunspot(SVM)</th>\n      <td>0.9546</td>\n      <td>0.6452</td>\n      <td>0.0328</td>\n      <td>0.0624</td>\n      <td>0.0319</td>\n      <td>0.0582</td>\n      <td>12603</td>\n      <td>11</td>\n      <td>590</td>\n      <td>20</td>\n    </tr>\n    <tr>\n      <th>Baseline-Sunspot(GB)</th>\n      <td>0.9562</td>\n      <td>0.6535</td>\n      <td>0.1082</td>\n      <td>0.1857</td>\n      <td>0.1054</td>\n      <td>0.1748</td>\n      <td>12579</td>\n      <td>35</td>\n      <td>544</td>\n      <td>66</td>\n    </tr>\n    <tr>\n      <th>Baseline-Sunspot(LSTM)</th>\n      <td>0.9550</td>\n      <td>0.5904</td>\n      <td>0.0803</td>\n      <td>0.1414</td>\n      <td>0.0776</td>\n      <td>0.1318</td>\n      <td>12580</td>\n      <td>34</td>\n      <td>561</td>\n      <td>49</td>\n    </tr>\n    <tr>\n      <th>...</th>\n      <td>...</td>\n      <td>...</td>\n      <td>...</td>\n      <td>...</td>\n      <td>...</td>\n      <td>...</td>\n      <td>...</td>\n      <td>...</td>\n      <td>...</td>\n      <td>...</td>\n    </tr>\n    <tr>\n      <th>Under-fit-Combined(RF)</th>\n      <td>0.9595</td>\n      <td>0.5625</td>\n      <td>0.0818</td>\n      <td>0.1428</td>\n      <td>0.0791</td>\n      <td>0.1338</td>\n      <td>2548</td>\n      <td>7</td>\n      <td>101</td>\n      <td>9</td>\n    </tr>\n    <tr>\n      <th>Under-fit-Combined(SVM)</th>\n      <td>0.9587</td>\n      <td>0.0000</td>\n      <td>0.0000</td>\n      <td>0.0000</td>\n      <td>0.0000</td>\n      <td>0.0000</td>\n      <td>2555</td>\n      <td>0</td>\n      <td>110</td>\n      <td>0</td>\n    </tr>\n    <tr>\n      <th>Under-fit-Combined(GB)</th>\n      <td>0.9568</td>\n      <td>0.4444</td>\n      <td>0.1818</td>\n      <td>0.2580</td>\n      <td>0.1720</td>\n      <td>0.2398</td>\n      <td>2530</td>\n      <td>25</td>\n      <td>90</td>\n      <td>20</td>\n    </tr>\n    <tr>\n      <th>Under-fit-Combined(LSTM)</th>\n      <td>0.9583</td>\n      <td>0.0000</td>\n      <td>0.0000</td>\n      <td>0.0000</td>\n      <td>-0.0004</td>\n      <td>-0.0007</td>\n      <td>2554</td>\n      <td>1</td>\n      <td>110</td>\n      <td>0</td>\n    </tr>\n    <tr>\n      <th>Under-fit-Combined(CNN)</th>\n      <td>0.9580</td>\n      <td>0.4000</td>\n      <td>0.0364</td>\n      <td>0.0667</td>\n      <td>0.0340</td>\n      <td>0.0602</td>\n      <td>2549</td>\n      <td>6</td>\n      <td>106</td>\n      <td>4</td>\n    </tr>\n  </tbody>\n</table>\n<p>108 rows × 10 columns</p>\n</div>"
     },
     "execution_count": 19,
     "metadata": {},
     "output_type": "execute_result"
    }
   ],
   "source": [
    "df"
   ],
   "metadata": {
    "collapsed": false,
    "ExecuteTime": {
     "end_time": "2024-09-09T07:08:15.923650700Z",
     "start_time": "2024-09-09T07:08:15.884741100Z"
    }
   },
   "id": "3877bc2c26923074"
  },
  {
   "cell_type": "code",
   "execution_count": 14,
   "outputs": [
    {
     "data": {
      "text/plain": "                            Accuracy  Precision  Recall  F1-score     TSS  \\\nOver-sample-Combined(LSTM)    0.8101     0.1678  0.9091    0.2833  0.7150   \nOver-sample-Combined(CNN)     0.7749     0.1449  0.9091    0.2500  0.6782   \nDown-sample-Combined(SVM)     0.7955     0.1542  0.8818    0.2625  0.6736   \nDown-sample-Combined(RF)      0.7944     0.1524  0.8727    0.2595  0.6637   \nDown-sample-Combined(GB)      0.7940     0.1521  0.8727    0.2591  0.6633   \n...                              ...        ...     ...       ...     ...   \nUnder-fit-SHARP(SVM)          0.9690     0.0000  0.0000    0.0000  0.0000   \nUnder-fit-Combined(SVM)       0.9587     0.0000  0.0000    0.0000  0.0000   \nBaseline-Combined(SVM)        0.9583     0.0000  0.0000    0.0000 -0.0004   \nOver-fit-Combined(SVM)        0.9583     0.0000  0.0000    0.0000 -0.0004   \nUnder-fit-Combined(LSTM)      0.9583     0.0000  0.0000    0.0000 -0.0004   \n\n                               HSS  \nOver-sample-Combined(LSTM)  0.2296  \nOver-sample-Combined(CNN)   0.1925  \nDown-sample-Combined(SVM)   0.2068  \nDown-sample-Combined(RF)    0.2035  \nDown-sample-Combined(GB)    0.2031  \n...                            ...  \nUnder-fit-SHARP(SVM)        0.0000  \nUnder-fit-Combined(SVM)     0.0000  \nBaseline-Combined(SVM)     -0.0007  \nOver-fit-Combined(SVM)     -0.0007  \nUnder-fit-Combined(LSTM)   -0.0007  \n\n[108 rows x 6 columns]",
      "text/html": "<div>\n<style scoped>\n    .dataframe tbody tr th:only-of-type {\n        vertical-align: middle;\n    }\n\n    .dataframe tbody tr th {\n        vertical-align: top;\n    }\n\n    .dataframe thead th {\n        text-align: right;\n    }\n</style>\n<table border=\"1\" class=\"dataframe\">\n  <thead>\n    <tr style=\"text-align: right;\">\n      <th></th>\n      <th>Accuracy</th>\n      <th>Precision</th>\n      <th>Recall</th>\n      <th>F1-score</th>\n      <th>TSS</th>\n      <th>HSS</th>\n    </tr>\n  </thead>\n  <tbody>\n    <tr>\n      <th>Over-sample-Combined(LSTM)</th>\n      <td>0.8101</td>\n      <td>0.1678</td>\n      <td>0.9091</td>\n      <td>0.2833</td>\n      <td>0.7150</td>\n      <td>0.2296</td>\n    </tr>\n    <tr>\n      <th>Over-sample-Combined(CNN)</th>\n      <td>0.7749</td>\n      <td>0.1449</td>\n      <td>0.9091</td>\n      <td>0.2500</td>\n      <td>0.6782</td>\n      <td>0.1925</td>\n    </tr>\n    <tr>\n      <th>Down-sample-Combined(SVM)</th>\n      <td>0.7955</td>\n      <td>0.1542</td>\n      <td>0.8818</td>\n      <td>0.2625</td>\n      <td>0.6736</td>\n      <td>0.2068</td>\n    </tr>\n    <tr>\n      <th>Down-sample-Combined(RF)</th>\n      <td>0.7944</td>\n      <td>0.1524</td>\n      <td>0.8727</td>\n      <td>0.2595</td>\n      <td>0.6637</td>\n      <td>0.2035</td>\n    </tr>\n    <tr>\n      <th>Down-sample-Combined(GB)</th>\n      <td>0.7940</td>\n      <td>0.1521</td>\n      <td>0.8727</td>\n      <td>0.2591</td>\n      <td>0.6633</td>\n      <td>0.2031</td>\n    </tr>\n    <tr>\n      <th>...</th>\n      <td>...</td>\n      <td>...</td>\n      <td>...</td>\n      <td>...</td>\n      <td>...</td>\n      <td>...</td>\n    </tr>\n    <tr>\n      <th>Under-fit-SHARP(SVM)</th>\n      <td>0.9690</td>\n      <td>0.0000</td>\n      <td>0.0000</td>\n      <td>0.0000</td>\n      <td>0.0000</td>\n      <td>0.0000</td>\n    </tr>\n    <tr>\n      <th>Under-fit-Combined(SVM)</th>\n      <td>0.9587</td>\n      <td>0.0000</td>\n      <td>0.0000</td>\n      <td>0.0000</td>\n      <td>0.0000</td>\n      <td>0.0000</td>\n    </tr>\n    <tr>\n      <th>Baseline-Combined(SVM)</th>\n      <td>0.9583</td>\n      <td>0.0000</td>\n      <td>0.0000</td>\n      <td>0.0000</td>\n      <td>-0.0004</td>\n      <td>-0.0007</td>\n    </tr>\n    <tr>\n      <th>Over-fit-Combined(SVM)</th>\n      <td>0.9583</td>\n      <td>0.0000</td>\n      <td>0.0000</td>\n      <td>0.0000</td>\n      <td>-0.0004</td>\n      <td>-0.0007</td>\n    </tr>\n    <tr>\n      <th>Under-fit-Combined(LSTM)</th>\n      <td>0.9583</td>\n      <td>0.0000</td>\n      <td>0.0000</td>\n      <td>0.0000</td>\n      <td>-0.0004</td>\n      <td>-0.0007</td>\n    </tr>\n  </tbody>\n</table>\n<p>108 rows × 6 columns</p>\n</div>"
     },
     "execution_count": 14,
     "metadata": {},
     "output_type": "execute_result"
    }
   ],
   "source": [
    "df.sort_values(by=[\"Recall\", \"F1-score\", \"Precision\", \"TSS\", \"HSS\"],\n",
    "                        ascending=[False, False, False, False, False])"
   ],
   "metadata": {
    "collapsed": false,
    "ExecuteTime": {
     "end_time": "2024-09-09T06:53:07.720855800Z",
     "start_time": "2024-09-09T06:53:07.653068700Z"
    }
   },
   "id": "3b496e27fb3692b3"
  },
  {
   "cell_type": "code",
   "execution_count": 21,
   "outputs": [],
   "source": [
    "df['score'] = (df['F1-score']*.8 + df['Recall']*.7 + df['TSS']*.6 +\n",
    " df['Precision']*.4 + df['HSS']*.3 + df['Accuracy']*.05)"
   ],
   "metadata": {
    "collapsed": false,
    "ExecuteTime": {
     "end_time": "2024-09-09T07:10:06.946897700Z",
     "start_time": "2024-09-09T07:10:06.856864400Z"
    }
   },
   "id": "bb8bfc9edd38b1b3"
  },
  {
   "cell_type": "code",
   "execution_count": 23,
   "outputs": [
    {
     "data": {
      "text/plain": "                             score     TN   FP   FN   TP\nBaseline-Sunspot(DT)      0.760695  12050  564  435  175\nBaseline-Sunspot(RF)      0.739165  12539   75  514   96\nBaseline-Sunspot(SVM)     0.415290  12603   11  590   20\nBaseline-Sunspot(GB)      0.649190  12579   35  544   66\nBaseline-Sunspot(LSTM)    0.539340  12580   34  561   49\n...                            ...    ...  ...  ...  ...\nUnder-fit-Combined(RF)    0.532075   2548    7  101    9\nUnder-fit-Combined(SVM)   0.047935   2555    0  110    0\nUnder-fit-Combined(GB)    0.734400   2530   25   90   20\nUnder-fit-Combined(LSTM)  0.047465   2554    1  110    0\nUnder-fit-Combined(CNN)   0.325200   2549    6  106    4\n\n[108 rows x 5 columns]",
      "text/html": "<div>\n<style scoped>\n    .dataframe tbody tr th:only-of-type {\n        vertical-align: middle;\n    }\n\n    .dataframe tbody tr th {\n        vertical-align: top;\n    }\n\n    .dataframe thead th {\n        text-align: right;\n    }\n</style>\n<table border=\"1\" class=\"dataframe\">\n  <thead>\n    <tr style=\"text-align: right;\">\n      <th></th>\n      <th>score</th>\n      <th>TN</th>\n      <th>FP</th>\n      <th>FN</th>\n      <th>TP</th>\n    </tr>\n  </thead>\n  <tbody>\n    <tr>\n      <th>Baseline-Sunspot(DT)</th>\n      <td>0.760695</td>\n      <td>12050</td>\n      <td>564</td>\n      <td>435</td>\n      <td>175</td>\n    </tr>\n    <tr>\n      <th>Baseline-Sunspot(RF)</th>\n      <td>0.739165</td>\n      <td>12539</td>\n      <td>75</td>\n      <td>514</td>\n      <td>96</td>\n    </tr>\n    <tr>\n      <th>Baseline-Sunspot(SVM)</th>\n      <td>0.415290</td>\n      <td>12603</td>\n      <td>11</td>\n      <td>590</td>\n      <td>20</td>\n    </tr>\n    <tr>\n      <th>Baseline-Sunspot(GB)</th>\n      <td>0.649190</td>\n      <td>12579</td>\n      <td>35</td>\n      <td>544</td>\n      <td>66</td>\n    </tr>\n    <tr>\n      <th>Baseline-Sunspot(LSTM)</th>\n      <td>0.539340</td>\n      <td>12580</td>\n      <td>34</td>\n      <td>561</td>\n      <td>49</td>\n    </tr>\n    <tr>\n      <th>...</th>\n      <td>...</td>\n      <td>...</td>\n      <td>...</td>\n      <td>...</td>\n      <td>...</td>\n    </tr>\n    <tr>\n      <th>Under-fit-Combined(RF)</th>\n      <td>0.532075</td>\n      <td>2548</td>\n      <td>7</td>\n      <td>101</td>\n      <td>9</td>\n    </tr>\n    <tr>\n      <th>Under-fit-Combined(SVM)</th>\n      <td>0.047935</td>\n      <td>2555</td>\n      <td>0</td>\n      <td>110</td>\n      <td>0</td>\n    </tr>\n    <tr>\n      <th>Under-fit-Combined(GB)</th>\n      <td>0.734400</td>\n      <td>2530</td>\n      <td>25</td>\n      <td>90</td>\n      <td>20</td>\n    </tr>\n    <tr>\n      <th>Under-fit-Combined(LSTM)</th>\n      <td>0.047465</td>\n      <td>2554</td>\n      <td>1</td>\n      <td>110</td>\n      <td>0</td>\n    </tr>\n    <tr>\n      <th>Under-fit-Combined(CNN)</th>\n      <td>0.325200</td>\n      <td>2549</td>\n      <td>6</td>\n      <td>106</td>\n      <td>4</td>\n    </tr>\n  </tbody>\n</table>\n<p>108 rows × 5 columns</p>\n</div>"
     },
     "execution_count": 23,
     "metadata": {},
     "output_type": "execute_result"
    }
   ],
   "source": [
    "df[['score', 'TN', 'FP','FN', 'TP']]"
   ],
   "metadata": {
    "collapsed": false,
    "ExecuteTime": {
     "end_time": "2024-09-09T07:11:40.108618100Z",
     "start_time": "2024-09-09T07:11:40.076608300Z"
    }
   },
   "id": "87e772f8c0090851"
  },
  {
   "cell_type": "code",
   "execution_count": 49,
   "outputs": [
    {
     "data": {
      "text/plain": "                            Accuracy  Precision  Recall  F1-score     TSS  \\\nOver-sample-Combined(LSTM)    0.8101     0.1678  0.9091    0.2833  0.7150   \nOver-sample-Combined(SVM)     0.8334     0.1788  0.8455    0.2952  0.6783   \nOver-sample-Combined(CNN)     0.7749     0.1449  0.9091    0.2500  0.6782   \nDown-sample-Combined(SVM)     0.7955     0.1542  0.8818    0.2625  0.6736   \nOver-sample-SHARP(SVM)        0.8446     0.1495  0.8571    0.2546  0.7014   \n...                              ...        ...     ...       ...     ...   \nUnder-fit-Combined(SVM)       0.9587     0.0000  0.0000    0.0000  0.0000   \nUnder-fit-Sunspot(SVM)        0.9539     0.0000  0.0000    0.0000  0.0000   \nUnder-fit-Combined(LSTM)      0.9583     0.0000  0.0000    0.0000 -0.0004   \nOver-fit-Combined(SVM)        0.9583     0.0000  0.0000    0.0000 -0.0004   \nBaseline-Combined(SVM)        0.9583     0.0000  0.0000    0.0000 -0.0004   \n\n                               HSS     score  \nOver-sample-Combined(LSTM)  0.2296  1.468515  \nOver-sample-Combined(SVM)   0.2437  1.421290  \nOver-sample-Combined(CNN)   0.1925  1.397745  \nDown-sample-Combined(SVM)   0.2068  1.394915  \nOver-sample-SHARP(SVM)      0.2132  1.390480  \n...                            ...       ...  \nUnder-fit-Combined(SVM)     0.0000  0.047935  \nUnder-fit-Sunspot(SVM)      0.0000  0.047695  \nUnder-fit-Combined(LSTM)   -0.0007  0.047465  \nOver-fit-Combined(SVM)     -0.0007  0.047465  \nBaseline-Combined(SVM)     -0.0007  0.047465  \n\n[108 rows x 7 columns]",
      "text/html": "<div>\n<style scoped>\n    .dataframe tbody tr th:only-of-type {\n        vertical-align: middle;\n    }\n\n    .dataframe tbody tr th {\n        vertical-align: top;\n    }\n\n    .dataframe thead th {\n        text-align: right;\n    }\n</style>\n<table border=\"1\" class=\"dataframe\">\n  <thead>\n    <tr style=\"text-align: right;\">\n      <th></th>\n      <th>Accuracy</th>\n      <th>Precision</th>\n      <th>Recall</th>\n      <th>F1-score</th>\n      <th>TSS</th>\n      <th>HSS</th>\n      <th>score</th>\n    </tr>\n  </thead>\n  <tbody>\n    <tr>\n      <th>Over-sample-Combined(LSTM)</th>\n      <td>0.8101</td>\n      <td>0.1678</td>\n      <td>0.9091</td>\n      <td>0.2833</td>\n      <td>0.7150</td>\n      <td>0.2296</td>\n      <td>1.468515</td>\n    </tr>\n    <tr>\n      <th>Over-sample-Combined(SVM)</th>\n      <td>0.8334</td>\n      <td>0.1788</td>\n      <td>0.8455</td>\n      <td>0.2952</td>\n      <td>0.6783</td>\n      <td>0.2437</td>\n      <td>1.421290</td>\n    </tr>\n    <tr>\n      <th>Over-sample-Combined(CNN)</th>\n      <td>0.7749</td>\n      <td>0.1449</td>\n      <td>0.9091</td>\n      <td>0.2500</td>\n      <td>0.6782</td>\n      <td>0.1925</td>\n      <td>1.397745</td>\n    </tr>\n    <tr>\n      <th>Down-sample-Combined(SVM)</th>\n      <td>0.7955</td>\n      <td>0.1542</td>\n      <td>0.8818</td>\n      <td>0.2625</td>\n      <td>0.6736</td>\n      <td>0.2068</td>\n      <td>1.394915</td>\n    </tr>\n    <tr>\n      <th>Over-sample-SHARP(SVM)</th>\n      <td>0.8446</td>\n      <td>0.1495</td>\n      <td>0.8571</td>\n      <td>0.2546</td>\n      <td>0.7014</td>\n      <td>0.2132</td>\n      <td>1.390480</td>\n    </tr>\n    <tr>\n      <th>...</th>\n      <td>...</td>\n      <td>...</td>\n      <td>...</td>\n      <td>...</td>\n      <td>...</td>\n      <td>...</td>\n      <td>...</td>\n    </tr>\n    <tr>\n      <th>Under-fit-Combined(SVM)</th>\n      <td>0.9587</td>\n      <td>0.0000</td>\n      <td>0.0000</td>\n      <td>0.0000</td>\n      <td>0.0000</td>\n      <td>0.0000</td>\n      <td>0.047935</td>\n    </tr>\n    <tr>\n      <th>Under-fit-Sunspot(SVM)</th>\n      <td>0.9539</td>\n      <td>0.0000</td>\n      <td>0.0000</td>\n      <td>0.0000</td>\n      <td>0.0000</td>\n      <td>0.0000</td>\n      <td>0.047695</td>\n    </tr>\n    <tr>\n      <th>Under-fit-Combined(LSTM)</th>\n      <td>0.9583</td>\n      <td>0.0000</td>\n      <td>0.0000</td>\n      <td>0.0000</td>\n      <td>-0.0004</td>\n      <td>-0.0007</td>\n      <td>0.047465</td>\n    </tr>\n    <tr>\n      <th>Over-fit-Combined(SVM)</th>\n      <td>0.9583</td>\n      <td>0.0000</td>\n      <td>0.0000</td>\n      <td>0.0000</td>\n      <td>-0.0004</td>\n      <td>-0.0007</td>\n      <td>0.047465</td>\n    </tr>\n    <tr>\n      <th>Baseline-Combined(SVM)</th>\n      <td>0.9583</td>\n      <td>0.0000</td>\n      <td>0.0000</td>\n      <td>0.0000</td>\n      <td>-0.0004</td>\n      <td>-0.0007</td>\n      <td>0.047465</td>\n    </tr>\n  </tbody>\n</table>\n<p>108 rows × 7 columns</p>\n</div>"
     },
     "execution_count": 49,
     "metadata": {},
     "output_type": "execute_result"
    }
   ],
   "source": [
    "df.drop(columns=['TN', 'FP', 'TP', 'FN']).sort_values(by='score', ascending=False)"
   ],
   "metadata": {
    "collapsed": false,
    "ExecuteTime": {
     "end_time": "2024-09-09T18:26:12.523836Z",
     "start_time": "2024-09-09T18:26:12.432697700Z"
    }
   },
   "id": "449681c4854d3a97"
  },
  {
   "cell_type": "code",
   "execution_count": 27,
   "outputs": [],
   "source": [
    "def get_score(_filter):\n",
    "  return df[df.index.str.contains(_filter)].sort_values(by='score', ascending=False)"
   ],
   "metadata": {
    "collapsed": false,
    "ExecuteTime": {
     "end_time": "2024-09-09T15:01:47.899055800Z",
     "start_time": "2024-09-09T15:01:47.820064300Z"
    }
   },
   "id": "e2e044d659df10eb"
  },
  {
   "cell_type": "code",
   "execution_count": 33,
   "outputs": [
    {
     "data": {
      "text/plain": "                        Accuracy  Precision  Recall  F1-score     TSS     HSS  \\\nBaseline-Sunspot(DT)      0.9245     0.2368  0.2869    0.2595  0.2422  0.2200   \nBaseline-Sunspot(RF)      0.9555     0.5614  0.1574    0.2459  0.1514  0.2303   \nBaseline-Sunspot(GB)      0.9562     0.6535  0.1082    0.1857  0.1054  0.1748   \nBaseline-Sunspot(LSTM)    0.9550     0.5904  0.0803    0.1414  0.0776  0.1318   \nBaseline-Sunspot(CNN)     0.9546     0.6250  0.0410    0.0770  0.0398  0.0717   \nBaseline-Sunspot(SVM)     0.9546     0.6452  0.0328    0.0624  0.0319  0.0582   \n\n                           TN   FP   FN   TP     score  \nBaseline-Sunspot(DT)    12050  564  435  175  0.760695  \nBaseline-Sunspot(RF)    12539   75  514   96  0.739165  \nBaseline-Sunspot(GB)    12579   35  544   66  0.649190  \nBaseline-Sunspot(LSTM)  12580   34  561   49  0.539340  \nBaseline-Sunspot(CNN)   12599   15  585   25  0.433420  \nBaseline-Sunspot(SVM)   12603   11  590   20  0.415290  ",
      "text/html": "<div>\n<style scoped>\n    .dataframe tbody tr th:only-of-type {\n        vertical-align: middle;\n    }\n\n    .dataframe tbody tr th {\n        vertical-align: top;\n    }\n\n    .dataframe thead th {\n        text-align: right;\n    }\n</style>\n<table border=\"1\" class=\"dataframe\">\n  <thead>\n    <tr style=\"text-align: right;\">\n      <th></th>\n      <th>Accuracy</th>\n      <th>Precision</th>\n      <th>Recall</th>\n      <th>F1-score</th>\n      <th>TSS</th>\n      <th>HSS</th>\n      <th>TN</th>\n      <th>FP</th>\n      <th>FN</th>\n      <th>TP</th>\n      <th>score</th>\n    </tr>\n  </thead>\n  <tbody>\n    <tr>\n      <th>Baseline-Sunspot(DT)</th>\n      <td>0.9245</td>\n      <td>0.2368</td>\n      <td>0.2869</td>\n      <td>0.2595</td>\n      <td>0.2422</td>\n      <td>0.2200</td>\n      <td>12050</td>\n      <td>564</td>\n      <td>435</td>\n      <td>175</td>\n      <td>0.760695</td>\n    </tr>\n    <tr>\n      <th>Baseline-Sunspot(RF)</th>\n      <td>0.9555</td>\n      <td>0.5614</td>\n      <td>0.1574</td>\n      <td>0.2459</td>\n      <td>0.1514</td>\n      <td>0.2303</td>\n      <td>12539</td>\n      <td>75</td>\n      <td>514</td>\n      <td>96</td>\n      <td>0.739165</td>\n    </tr>\n    <tr>\n      <th>Baseline-Sunspot(GB)</th>\n      <td>0.9562</td>\n      <td>0.6535</td>\n      <td>0.1082</td>\n      <td>0.1857</td>\n      <td>0.1054</td>\n      <td>0.1748</td>\n      <td>12579</td>\n      <td>35</td>\n      <td>544</td>\n      <td>66</td>\n      <td>0.649190</td>\n    </tr>\n    <tr>\n      <th>Baseline-Sunspot(LSTM)</th>\n      <td>0.9550</td>\n      <td>0.5904</td>\n      <td>0.0803</td>\n      <td>0.1414</td>\n      <td>0.0776</td>\n      <td>0.1318</td>\n      <td>12580</td>\n      <td>34</td>\n      <td>561</td>\n      <td>49</td>\n      <td>0.539340</td>\n    </tr>\n    <tr>\n      <th>Baseline-Sunspot(CNN)</th>\n      <td>0.9546</td>\n      <td>0.6250</td>\n      <td>0.0410</td>\n      <td>0.0770</td>\n      <td>0.0398</td>\n      <td>0.0717</td>\n      <td>12599</td>\n      <td>15</td>\n      <td>585</td>\n      <td>25</td>\n      <td>0.433420</td>\n    </tr>\n    <tr>\n      <th>Baseline-Sunspot(SVM)</th>\n      <td>0.9546</td>\n      <td>0.6452</td>\n      <td>0.0328</td>\n      <td>0.0624</td>\n      <td>0.0319</td>\n      <td>0.0582</td>\n      <td>12603</td>\n      <td>11</td>\n      <td>590</td>\n      <td>20</td>\n      <td>0.415290</td>\n    </tr>\n  </tbody>\n</table>\n</div>"
     },
     "execution_count": 33,
     "metadata": {},
     "output_type": "execute_result"
    }
   ],
   "source": [
    "get_score('Baseline-Sunspot')"
   ],
   "metadata": {
    "collapsed": false,
    "ExecuteTime": {
     "end_time": "2024-09-09T15:03:38.444704400Z",
     "start_time": "2024-09-09T15:03:38.379942600Z"
    }
   },
   "id": "28a633fd6e988ec0"
  },
  {
   "cell_type": "code",
   "execution_count": 34,
   "outputs": [
    {
     "data": {
      "text/plain": "                          Accuracy  Precision  Recall  F1-score     TSS  \\\nEnsemble-Sunspot(SC/SVM)    0.9560     0.5805  0.1656    0.2577  0.1598   \nEnsemble-Sunspot(VC)        0.9242     0.2308  0.2754    0.2511  0.2310   \nEnsemble-Sunspot(SC/RF)     0.9352     0.2742  0.2459    0.2593  0.2144   \nEnsemble-Sunspot(BC)        0.9533     0.4831  0.1639    0.2448  0.1555   \nEnsemble-Sunspot(SC/GB)     0.9343     0.2615  0.2328    0.2463  0.2010   \nEnsemble-Sunspot(SC/DT)     0.9335     0.2536  0.2279    0.2401  0.1954   \n\n                             HSS     TN   FP   FN   TP     score  \nEnsemble-Sunspot(SC/SVM)  0.2421  12541   73  509  101  0.770590  \nEnsemble-Sunspot(VC)      0.2115  12054  560  442  168  0.734240  \nEnsemble-Sunspot(SC/RF)   0.2255  12217  397  460  150  0.732300  \nEnsemble-Sunspot(BC)      0.2267  12507  107  510  100  0.712785  \nEnsemble-Sunspot(SC/GB)   0.2121  12213  401  468  142  0.695545  \nEnsemble-Sunspot(SC/DT)   0.2054  12205  409  471  139  0.678585  ",
      "text/html": "<div>\n<style scoped>\n    .dataframe tbody tr th:only-of-type {\n        vertical-align: middle;\n    }\n\n    .dataframe tbody tr th {\n        vertical-align: top;\n    }\n\n    .dataframe thead th {\n        text-align: right;\n    }\n</style>\n<table border=\"1\" class=\"dataframe\">\n  <thead>\n    <tr style=\"text-align: right;\">\n      <th></th>\n      <th>Accuracy</th>\n      <th>Precision</th>\n      <th>Recall</th>\n      <th>F1-score</th>\n      <th>TSS</th>\n      <th>HSS</th>\n      <th>TN</th>\n      <th>FP</th>\n      <th>FN</th>\n      <th>TP</th>\n      <th>score</th>\n    </tr>\n  </thead>\n  <tbody>\n    <tr>\n      <th>Ensemble-Sunspot(SC/SVM)</th>\n      <td>0.9560</td>\n      <td>0.5805</td>\n      <td>0.1656</td>\n      <td>0.2577</td>\n      <td>0.1598</td>\n      <td>0.2421</td>\n      <td>12541</td>\n      <td>73</td>\n      <td>509</td>\n      <td>101</td>\n      <td>0.770590</td>\n    </tr>\n    <tr>\n      <th>Ensemble-Sunspot(VC)</th>\n      <td>0.9242</td>\n      <td>0.2308</td>\n      <td>0.2754</td>\n      <td>0.2511</td>\n      <td>0.2310</td>\n      <td>0.2115</td>\n      <td>12054</td>\n      <td>560</td>\n      <td>442</td>\n      <td>168</td>\n      <td>0.734240</td>\n    </tr>\n    <tr>\n      <th>Ensemble-Sunspot(SC/RF)</th>\n      <td>0.9352</td>\n      <td>0.2742</td>\n      <td>0.2459</td>\n      <td>0.2593</td>\n      <td>0.2144</td>\n      <td>0.2255</td>\n      <td>12217</td>\n      <td>397</td>\n      <td>460</td>\n      <td>150</td>\n      <td>0.732300</td>\n    </tr>\n    <tr>\n      <th>Ensemble-Sunspot(BC)</th>\n      <td>0.9533</td>\n      <td>0.4831</td>\n      <td>0.1639</td>\n      <td>0.2448</td>\n      <td>0.1555</td>\n      <td>0.2267</td>\n      <td>12507</td>\n      <td>107</td>\n      <td>510</td>\n      <td>100</td>\n      <td>0.712785</td>\n    </tr>\n    <tr>\n      <th>Ensemble-Sunspot(SC/GB)</th>\n      <td>0.9343</td>\n      <td>0.2615</td>\n      <td>0.2328</td>\n      <td>0.2463</td>\n      <td>0.2010</td>\n      <td>0.2121</td>\n      <td>12213</td>\n      <td>401</td>\n      <td>468</td>\n      <td>142</td>\n      <td>0.695545</td>\n    </tr>\n    <tr>\n      <th>Ensemble-Sunspot(SC/DT)</th>\n      <td>0.9335</td>\n      <td>0.2536</td>\n      <td>0.2279</td>\n      <td>0.2401</td>\n      <td>0.1954</td>\n      <td>0.2054</td>\n      <td>12205</td>\n      <td>409</td>\n      <td>471</td>\n      <td>139</td>\n      <td>0.678585</td>\n    </tr>\n  </tbody>\n</table>\n</div>"
     },
     "execution_count": 34,
     "metadata": {},
     "output_type": "execute_result"
    }
   ],
   "source": [
    "get_score('Ensemble-Sunspot')"
   ],
   "metadata": {
    "collapsed": false,
    "ExecuteTime": {
     "end_time": "2024-09-09T15:03:39.279627Z",
     "start_time": "2024-09-09T15:03:39.240762Z"
    }
   },
   "id": "fd002ab57c0664a7"
  },
  {
   "cell_type": "code",
   "execution_count": 66,
   "outputs": [
    {
     "data": {
      "text/plain": "                           Accuracy  Precision  Recall  F1-score     TSS  \\\nOver-sample-Sunspot(GB)      0.8352     0.1861  0.7623    0.2992  0.6010   \nOver-sample-Sunspot(CNN)     0.7812     0.1539  0.8328    0.2598  0.6114   \nOver-sample-Sunspot(LSTM)    0.7804     0.1520  0.8213    0.2565  0.5997   \nOver-sample-Sunspot(SVM)     0.7752     0.1489  0.8213    0.2521  0.5943   \nOver-sample-Sunspot(RF)      0.9307     0.2993  0.3754    0.3331  0.3329   \nOver-sample-Sunspot(DT)      0.9176     0.2300  0.3344    0.2725  0.2803   \n\n                              HSS     TN    FP   FN   TP     score  \nOver-sample-Sunspot(GB)    0.2430  10580  2034  145  465  1.322670  \nOver-sample-Sunspot(CNN)   0.1973   9822  2792  102  508  1.317450  \nOver-sample-Sunspot(LSTM)  0.1938   9819  2795  109  501  1.297890  \nOver-sample-Sunspot(SVM)   0.1887   9750  2864  109  501  1.288100  \nOver-sample-Sunspot(RF)    0.2970  12078   536  381  229  0.984355  \nOver-sample-Sunspot(DT)    0.2305  11931   683  406  204  0.827290  ",
      "text/html": "<div>\n<style scoped>\n    .dataframe tbody tr th:only-of-type {\n        vertical-align: middle;\n    }\n\n    .dataframe tbody tr th {\n        vertical-align: top;\n    }\n\n    .dataframe thead th {\n        text-align: right;\n    }\n</style>\n<table border=\"1\" class=\"dataframe\">\n  <thead>\n    <tr style=\"text-align: right;\">\n      <th></th>\n      <th>Accuracy</th>\n      <th>Precision</th>\n      <th>Recall</th>\n      <th>F1-score</th>\n      <th>TSS</th>\n      <th>HSS</th>\n      <th>TN</th>\n      <th>FP</th>\n      <th>FN</th>\n      <th>TP</th>\n      <th>score</th>\n    </tr>\n  </thead>\n  <tbody>\n    <tr>\n      <th>Over-sample-Sunspot(GB)</th>\n      <td>0.8352</td>\n      <td>0.1861</td>\n      <td>0.7623</td>\n      <td>0.2992</td>\n      <td>0.6010</td>\n      <td>0.2430</td>\n      <td>10580</td>\n      <td>2034</td>\n      <td>145</td>\n      <td>465</td>\n      <td>1.322670</td>\n    </tr>\n    <tr>\n      <th>Over-sample-Sunspot(CNN)</th>\n      <td>0.7812</td>\n      <td>0.1539</td>\n      <td>0.8328</td>\n      <td>0.2598</td>\n      <td>0.6114</td>\n      <td>0.1973</td>\n      <td>9822</td>\n      <td>2792</td>\n      <td>102</td>\n      <td>508</td>\n      <td>1.317450</td>\n    </tr>\n    <tr>\n      <th>Over-sample-Sunspot(LSTM)</th>\n      <td>0.7804</td>\n      <td>0.1520</td>\n      <td>0.8213</td>\n      <td>0.2565</td>\n      <td>0.5997</td>\n      <td>0.1938</td>\n      <td>9819</td>\n      <td>2795</td>\n      <td>109</td>\n      <td>501</td>\n      <td>1.297890</td>\n    </tr>\n    <tr>\n      <th>Over-sample-Sunspot(SVM)</th>\n      <td>0.7752</td>\n      <td>0.1489</td>\n      <td>0.8213</td>\n      <td>0.2521</td>\n      <td>0.5943</td>\n      <td>0.1887</td>\n      <td>9750</td>\n      <td>2864</td>\n      <td>109</td>\n      <td>501</td>\n      <td>1.288100</td>\n    </tr>\n    <tr>\n      <th>Over-sample-Sunspot(RF)</th>\n      <td>0.9307</td>\n      <td>0.2993</td>\n      <td>0.3754</td>\n      <td>0.3331</td>\n      <td>0.3329</td>\n      <td>0.2970</td>\n      <td>12078</td>\n      <td>536</td>\n      <td>381</td>\n      <td>229</td>\n      <td>0.984355</td>\n    </tr>\n    <tr>\n      <th>Over-sample-Sunspot(DT)</th>\n      <td>0.9176</td>\n      <td>0.2300</td>\n      <td>0.3344</td>\n      <td>0.2725</td>\n      <td>0.2803</td>\n      <td>0.2305</td>\n      <td>11931</td>\n      <td>683</td>\n      <td>406</td>\n      <td>204</td>\n      <td>0.827290</td>\n    </tr>\n  </tbody>\n</table>\n</div>"
     },
     "execution_count": 66,
     "metadata": {},
     "output_type": "execute_result"
    }
   ],
   "source": [
    "get_score('Over-sample-Sunspot')"
   ],
   "metadata": {
    "collapsed": false,
    "ExecuteTime": {
     "end_time": "2024-09-09T22:37:45.249845900Z",
     "start_time": "2024-09-09T22:37:45.222451100Z"
    }
   },
   "id": "4d431e611a06b68b"
  },
  {
   "cell_type": "code",
   "execution_count": 32,
   "outputs": [
    {
     "data": {
      "text/plain": "                           Accuracy  Precision  Recall  F1-score     TSS  \\\nDown-sample-Sunspot(GB)      0.7755     0.1511  0.8377    0.2560  0.6102   \nDown-sample-Sunspot(RF)      0.7669     0.1452  0.8295    0.2471  0.5934   \nDown-sample-Sunspot(SVM)     0.7717     0.1467  0.8197    0.2489  0.5891   \nDown-sample-Sunspot(LSTM)    0.7683     0.1450  0.8213    0.2465  0.5870   \nDown-sample-Sunspot(CNN)     0.7371     0.1327  0.8492    0.2295  0.5808   \nDown-sample-Sunspot(DT)      0.7148     0.1071  0.7066    0.1860  0.4218   \n\n                              HSS    TN    FP   FN   TP     score  \nDown-sample-Sunspot(GB)    0.1930  9744  2870   99  511  1.314425  \nDown-sample-Sunspot(RF)    0.1831  9636  2978  104  506  1.285725  \nDown-sample-Sunspot(SVM)   0.1850  9705  2909  110  500  1.279135  \nDown-sample-Sunspot(LSTM)  0.1823  9659  2955  109  501  1.275415  \nDown-sample-Sunspot(CNN)   0.1628  9229  3385   92  518  1.265295  \nDown-sample-Sunspot(DT)    0.1152  9022  3592  179  431  1.009640  ",
      "text/html": "<div>\n<style scoped>\n    .dataframe tbody tr th:only-of-type {\n        vertical-align: middle;\n    }\n\n    .dataframe tbody tr th {\n        vertical-align: top;\n    }\n\n    .dataframe thead th {\n        text-align: right;\n    }\n</style>\n<table border=\"1\" class=\"dataframe\">\n  <thead>\n    <tr style=\"text-align: right;\">\n      <th></th>\n      <th>Accuracy</th>\n      <th>Precision</th>\n      <th>Recall</th>\n      <th>F1-score</th>\n      <th>TSS</th>\n      <th>HSS</th>\n      <th>TN</th>\n      <th>FP</th>\n      <th>FN</th>\n      <th>TP</th>\n      <th>score</th>\n    </tr>\n  </thead>\n  <tbody>\n    <tr>\n      <th>Down-sample-Sunspot(GB)</th>\n      <td>0.7755</td>\n      <td>0.1511</td>\n      <td>0.8377</td>\n      <td>0.2560</td>\n      <td>0.6102</td>\n      <td>0.1930</td>\n      <td>9744</td>\n      <td>2870</td>\n      <td>99</td>\n      <td>511</td>\n      <td>1.314425</td>\n    </tr>\n    <tr>\n      <th>Down-sample-Sunspot(RF)</th>\n      <td>0.7669</td>\n      <td>0.1452</td>\n      <td>0.8295</td>\n      <td>0.2471</td>\n      <td>0.5934</td>\n      <td>0.1831</td>\n      <td>9636</td>\n      <td>2978</td>\n      <td>104</td>\n      <td>506</td>\n      <td>1.285725</td>\n    </tr>\n    <tr>\n      <th>Down-sample-Sunspot(SVM)</th>\n      <td>0.7717</td>\n      <td>0.1467</td>\n      <td>0.8197</td>\n      <td>0.2489</td>\n      <td>0.5891</td>\n      <td>0.1850</td>\n      <td>9705</td>\n      <td>2909</td>\n      <td>110</td>\n      <td>500</td>\n      <td>1.279135</td>\n    </tr>\n    <tr>\n      <th>Down-sample-Sunspot(LSTM)</th>\n      <td>0.7683</td>\n      <td>0.1450</td>\n      <td>0.8213</td>\n      <td>0.2465</td>\n      <td>0.5870</td>\n      <td>0.1823</td>\n      <td>9659</td>\n      <td>2955</td>\n      <td>109</td>\n      <td>501</td>\n      <td>1.275415</td>\n    </tr>\n    <tr>\n      <th>Down-sample-Sunspot(CNN)</th>\n      <td>0.7371</td>\n      <td>0.1327</td>\n      <td>0.8492</td>\n      <td>0.2295</td>\n      <td>0.5808</td>\n      <td>0.1628</td>\n      <td>9229</td>\n      <td>3385</td>\n      <td>92</td>\n      <td>518</td>\n      <td>1.265295</td>\n    </tr>\n    <tr>\n      <th>Down-sample-Sunspot(DT)</th>\n      <td>0.7148</td>\n      <td>0.1071</td>\n      <td>0.7066</td>\n      <td>0.1860</td>\n      <td>0.4218</td>\n      <td>0.1152</td>\n      <td>9022</td>\n      <td>3592</td>\n      <td>179</td>\n      <td>431</td>\n      <td>1.009640</td>\n    </tr>\n  </tbody>\n</table>\n</div>"
     },
     "execution_count": 32,
     "metadata": {},
     "output_type": "execute_result"
    }
   ],
   "source": [
    "get_score('Down-sample-Sunspot')"
   ],
   "metadata": {
    "collapsed": false,
    "ExecuteTime": {
     "end_time": "2024-09-09T15:03:13.392536100Z",
     "start_time": "2024-09-09T15:03:13.365367300Z"
    }
   },
   "id": "46ceacf2c7a41ae3"
  },
  {
   "cell_type": "code",
   "execution_count": 68,
   "outputs": [
    {
     "data": {
      "text/plain": "                        Accuracy  Precision  Recall  F1-score     TSS     HSS  \\\nOver-fit-Sunspot(RF)      0.9555     0.5640  0.1590    0.2481  0.1531  0.2325   \nOver-fit-Sunspot(DT)      0.9247     0.2304  0.2705    0.2488  0.2268  0.2095   \nOver-fit-Sunspot(GB)      0.9521     0.4311  0.1180    0.1853  0.1105  0.1688   \nOver-fit-Sunspot(CNN)     0.9552     0.6076  0.0787    0.1394  0.0762  0.1301   \nOver-fit-Sunspot(LSTM)    0.9549     0.6226  0.0541    0.0995  0.0525  0.0929   \nOver-fit-Sunspot(SVM)     0.9547     0.6774  0.0344    0.0655  0.0336  0.0613   \n\n                           TN   FP   FN   TP     score  \nOver-fit-Sunspot(RF)    12539   75  513   97  0.744765  \nOver-fit-Sunspot(DT)    12063  551  445  165  0.725715  \nOver-fit-Sunspot(GB)    12519   95  538   72  0.567825  \nOver-fit-Sunspot(CNN)   12583   31  562   48  0.542160  \nOver-fit-Sunspot(LSTM)  12594   20  577   33  0.473625  \nOver-fit-Sunspot(SVM)   12604   10  589   21  0.433725  ",
      "text/html": "<div>\n<style scoped>\n    .dataframe tbody tr th:only-of-type {\n        vertical-align: middle;\n    }\n\n    .dataframe tbody tr th {\n        vertical-align: top;\n    }\n\n    .dataframe thead th {\n        text-align: right;\n    }\n</style>\n<table border=\"1\" class=\"dataframe\">\n  <thead>\n    <tr style=\"text-align: right;\">\n      <th></th>\n      <th>Accuracy</th>\n      <th>Precision</th>\n      <th>Recall</th>\n      <th>F1-score</th>\n      <th>TSS</th>\n      <th>HSS</th>\n      <th>TN</th>\n      <th>FP</th>\n      <th>FN</th>\n      <th>TP</th>\n      <th>score</th>\n    </tr>\n  </thead>\n  <tbody>\n    <tr>\n      <th>Over-fit-Sunspot(RF)</th>\n      <td>0.9555</td>\n      <td>0.5640</td>\n      <td>0.1590</td>\n      <td>0.2481</td>\n      <td>0.1531</td>\n      <td>0.2325</td>\n      <td>12539</td>\n      <td>75</td>\n      <td>513</td>\n      <td>97</td>\n      <td>0.744765</td>\n    </tr>\n    <tr>\n      <th>Over-fit-Sunspot(DT)</th>\n      <td>0.9247</td>\n      <td>0.2304</td>\n      <td>0.2705</td>\n      <td>0.2488</td>\n      <td>0.2268</td>\n      <td>0.2095</td>\n      <td>12063</td>\n      <td>551</td>\n      <td>445</td>\n      <td>165</td>\n      <td>0.725715</td>\n    </tr>\n    <tr>\n      <th>Over-fit-Sunspot(GB)</th>\n      <td>0.9521</td>\n      <td>0.4311</td>\n      <td>0.1180</td>\n      <td>0.1853</td>\n      <td>0.1105</td>\n      <td>0.1688</td>\n      <td>12519</td>\n      <td>95</td>\n      <td>538</td>\n      <td>72</td>\n      <td>0.567825</td>\n    </tr>\n    <tr>\n      <th>Over-fit-Sunspot(CNN)</th>\n      <td>0.9552</td>\n      <td>0.6076</td>\n      <td>0.0787</td>\n      <td>0.1394</td>\n      <td>0.0762</td>\n      <td>0.1301</td>\n      <td>12583</td>\n      <td>31</td>\n      <td>562</td>\n      <td>48</td>\n      <td>0.542160</td>\n    </tr>\n    <tr>\n      <th>Over-fit-Sunspot(LSTM)</th>\n      <td>0.9549</td>\n      <td>0.6226</td>\n      <td>0.0541</td>\n      <td>0.0995</td>\n      <td>0.0525</td>\n      <td>0.0929</td>\n      <td>12594</td>\n      <td>20</td>\n      <td>577</td>\n      <td>33</td>\n      <td>0.473625</td>\n    </tr>\n    <tr>\n      <th>Over-fit-Sunspot(SVM)</th>\n      <td>0.9547</td>\n      <td>0.6774</td>\n      <td>0.0344</td>\n      <td>0.0655</td>\n      <td>0.0336</td>\n      <td>0.0613</td>\n      <td>12604</td>\n      <td>10</td>\n      <td>589</td>\n      <td>21</td>\n      <td>0.433725</td>\n    </tr>\n  </tbody>\n</table>\n</div>"
     },
     "execution_count": 68,
     "metadata": {},
     "output_type": "execute_result"
    }
   ],
   "source": [
    "get_score('Over-fit-Sunspot')"
   ],
   "metadata": {
    "collapsed": false,
    "ExecuteTime": {
     "end_time": "2024-09-09T22:42:55.013153Z",
     "start_time": "2024-09-09T22:42:54.994096700Z"
    }
   },
   "id": "46e241cdc727ad26"
  },
  {
   "cell_type": "code",
   "execution_count": 69,
   "outputs": [
    {
     "data": {
      "text/plain": "                         Accuracy  Precision  Recall  F1-score     TSS  \\\nUnder-fit-Sunspot(RF)      0.9569     0.6786  0.1246    0.2105  0.1217   \nUnder-fit-Sunspot(GB)      0.9557     0.5909  0.1279    0.2103  0.1236   \nUnder-fit-Sunspot(DT)      0.9521     0.4341  0.1295    0.1995  0.1213   \nUnder-fit-Sunspot(LSTM)    0.9550     0.6119  0.0672    0.1211  0.0652   \nUnder-fit-Sunspot(CNN)     0.9548     0.5882  0.0656    0.1180  0.0634   \nUnder-fit-Sunspot(SVM)     0.9539     0.0000  0.0000    0.0000  0.0000   \n\n                            HSS     TN   FP   FN  TP     score  \nUnder-fit-Sunspot(RF)    0.1991  12578   36  534  76  0.707655  \nUnder-fit-Sunspot(GB)    0.1971  12560   54  532  78  0.675205  \nUnder-fit-Sunspot(DT)    0.1822  12511  103  531  79  0.598935  \nUnder-fit-Sunspot(LSTM)  0.1130  12588   26  569  41  0.509450  \nUnder-fit-Sunspot(CNN)   0.1098  12586   28  570  40  0.494320  \nUnder-fit-Sunspot(SVM)   0.0000  12614    0  610   0  0.047695  ",
      "text/html": "<div>\n<style scoped>\n    .dataframe tbody tr th:only-of-type {\n        vertical-align: middle;\n    }\n\n    .dataframe tbody tr th {\n        vertical-align: top;\n    }\n\n    .dataframe thead th {\n        text-align: right;\n    }\n</style>\n<table border=\"1\" class=\"dataframe\">\n  <thead>\n    <tr style=\"text-align: right;\">\n      <th></th>\n      <th>Accuracy</th>\n      <th>Precision</th>\n      <th>Recall</th>\n      <th>F1-score</th>\n      <th>TSS</th>\n      <th>HSS</th>\n      <th>TN</th>\n      <th>FP</th>\n      <th>FN</th>\n      <th>TP</th>\n      <th>score</th>\n    </tr>\n  </thead>\n  <tbody>\n    <tr>\n      <th>Under-fit-Sunspot(RF)</th>\n      <td>0.9569</td>\n      <td>0.6786</td>\n      <td>0.1246</td>\n      <td>0.2105</td>\n      <td>0.1217</td>\n      <td>0.1991</td>\n      <td>12578</td>\n      <td>36</td>\n      <td>534</td>\n      <td>76</td>\n      <td>0.707655</td>\n    </tr>\n    <tr>\n      <th>Under-fit-Sunspot(GB)</th>\n      <td>0.9557</td>\n      <td>0.5909</td>\n      <td>0.1279</td>\n      <td>0.2103</td>\n      <td>0.1236</td>\n      <td>0.1971</td>\n      <td>12560</td>\n      <td>54</td>\n      <td>532</td>\n      <td>78</td>\n      <td>0.675205</td>\n    </tr>\n    <tr>\n      <th>Under-fit-Sunspot(DT)</th>\n      <td>0.9521</td>\n      <td>0.4341</td>\n      <td>0.1295</td>\n      <td>0.1995</td>\n      <td>0.1213</td>\n      <td>0.1822</td>\n      <td>12511</td>\n      <td>103</td>\n      <td>531</td>\n      <td>79</td>\n      <td>0.598935</td>\n    </tr>\n    <tr>\n      <th>Under-fit-Sunspot(LSTM)</th>\n      <td>0.9550</td>\n      <td>0.6119</td>\n      <td>0.0672</td>\n      <td>0.1211</td>\n      <td>0.0652</td>\n      <td>0.1130</td>\n      <td>12588</td>\n      <td>26</td>\n      <td>569</td>\n      <td>41</td>\n      <td>0.509450</td>\n    </tr>\n    <tr>\n      <th>Under-fit-Sunspot(CNN)</th>\n      <td>0.9548</td>\n      <td>0.5882</td>\n      <td>0.0656</td>\n      <td>0.1180</td>\n      <td>0.0634</td>\n      <td>0.1098</td>\n      <td>12586</td>\n      <td>28</td>\n      <td>570</td>\n      <td>40</td>\n      <td>0.494320</td>\n    </tr>\n    <tr>\n      <th>Under-fit-Sunspot(SVM)</th>\n      <td>0.9539</td>\n      <td>0.0000</td>\n      <td>0.0000</td>\n      <td>0.0000</td>\n      <td>0.0000</td>\n      <td>0.0000</td>\n      <td>12614</td>\n      <td>0</td>\n      <td>610</td>\n      <td>0</td>\n      <td>0.047695</td>\n    </tr>\n  </tbody>\n</table>\n</div>"
     },
     "execution_count": 69,
     "metadata": {},
     "output_type": "execute_result"
    }
   ],
   "source": [
    "get_score('Under-fit-Sunspot')"
   ],
   "metadata": {
    "collapsed": false,
    "ExecuteTime": {
     "end_time": "2024-09-09T22:42:58.605812600Z",
     "start_time": "2024-09-09T22:42:58.573066200Z"
    }
   },
   "id": "901b4d2e836736c9"
  },
  {
   "cell_type": "markdown",
   "source": [
    "SHARP"
   ],
   "metadata": {
    "collapsed": false
   },
   "id": "117595353cf675a7"
  },
  {
   "cell_type": "code",
   "execution_count": 58,
   "outputs": [
    {
     "data": {
      "text/plain": "                      Accuracy  Precision  Recall  F1-score     TSS     HSS  \\\nBaseline-SHARP(DT)      0.9513     0.2576  0.3036    0.2787  0.2756  0.2537   \nBaseline-SHARP(RF)      0.9696     0.5455  0.1071    0.1790  0.1043  0.1707   \nBaseline-SHARP(GB)      0.9696     0.5500  0.0982    0.1666  0.0956  0.1588   \nBaseline-SHARP(CNN)     0.9693     0.5714  0.0357    0.0672  0.0349  0.0638   \nBaseline-SHARP(SVM)     0.9690     0.5000  0.0089    0.0175  0.0086  0.0165   \nBaseline-SHARP(LSTM)    0.9688     0.4000  0.0179    0.0343  0.0170  0.0316   \n\n                        TN  FP   FN  TP     score  \nBaseline-SHARP(DT)    3407  98   78  34  0.827555  \nBaseline-SHARP(RF)    3495  10  100  12  0.598640  \nBaseline-SHARP(GB)    3496   9  101  11  0.575500  \nBaseline-SHARP(CNN)   3502   3  108   4  0.395855  \nBaseline-SHARP(SVM)   3504   1  111   1  0.278790  \nBaseline-SHARP(LSTM)  3502   3  110   2  0.268090  ",
      "text/html": "<div>\n<style scoped>\n    .dataframe tbody tr th:only-of-type {\n        vertical-align: middle;\n    }\n\n    .dataframe tbody tr th {\n        vertical-align: top;\n    }\n\n    .dataframe thead th {\n        text-align: right;\n    }\n</style>\n<table border=\"1\" class=\"dataframe\">\n  <thead>\n    <tr style=\"text-align: right;\">\n      <th></th>\n      <th>Accuracy</th>\n      <th>Precision</th>\n      <th>Recall</th>\n      <th>F1-score</th>\n      <th>TSS</th>\n      <th>HSS</th>\n      <th>TN</th>\n      <th>FP</th>\n      <th>FN</th>\n      <th>TP</th>\n      <th>score</th>\n    </tr>\n  </thead>\n  <tbody>\n    <tr>\n      <th>Baseline-SHARP(DT)</th>\n      <td>0.9513</td>\n      <td>0.2576</td>\n      <td>0.3036</td>\n      <td>0.2787</td>\n      <td>0.2756</td>\n      <td>0.2537</td>\n      <td>3407</td>\n      <td>98</td>\n      <td>78</td>\n      <td>34</td>\n      <td>0.827555</td>\n    </tr>\n    <tr>\n      <th>Baseline-SHARP(RF)</th>\n      <td>0.9696</td>\n      <td>0.5455</td>\n      <td>0.1071</td>\n      <td>0.1790</td>\n      <td>0.1043</td>\n      <td>0.1707</td>\n      <td>3495</td>\n      <td>10</td>\n      <td>100</td>\n      <td>12</td>\n      <td>0.598640</td>\n    </tr>\n    <tr>\n      <th>Baseline-SHARP(GB)</th>\n      <td>0.9696</td>\n      <td>0.5500</td>\n      <td>0.0982</td>\n      <td>0.1666</td>\n      <td>0.0956</td>\n      <td>0.1588</td>\n      <td>3496</td>\n      <td>9</td>\n      <td>101</td>\n      <td>11</td>\n      <td>0.575500</td>\n    </tr>\n    <tr>\n      <th>Baseline-SHARP(CNN)</th>\n      <td>0.9693</td>\n      <td>0.5714</td>\n      <td>0.0357</td>\n      <td>0.0672</td>\n      <td>0.0349</td>\n      <td>0.0638</td>\n      <td>3502</td>\n      <td>3</td>\n      <td>108</td>\n      <td>4</td>\n      <td>0.395855</td>\n    </tr>\n    <tr>\n      <th>Baseline-SHARP(SVM)</th>\n      <td>0.9690</td>\n      <td>0.5000</td>\n      <td>0.0089</td>\n      <td>0.0175</td>\n      <td>0.0086</td>\n      <td>0.0165</td>\n      <td>3504</td>\n      <td>1</td>\n      <td>111</td>\n      <td>1</td>\n      <td>0.278790</td>\n    </tr>\n    <tr>\n      <th>Baseline-SHARP(LSTM)</th>\n      <td>0.9688</td>\n      <td>0.4000</td>\n      <td>0.0179</td>\n      <td>0.0343</td>\n      <td>0.0170</td>\n      <td>0.0316</td>\n      <td>3502</td>\n      <td>3</td>\n      <td>110</td>\n      <td>2</td>\n      <td>0.268090</td>\n    </tr>\n  </tbody>\n</table>\n</div>"
     },
     "execution_count": 58,
     "metadata": {},
     "output_type": "execute_result"
    }
   ],
   "source": [
    "get_score('Baseline-SHARP')"
   ],
   "metadata": {
    "collapsed": false,
    "ExecuteTime": {
     "end_time": "2024-09-09T19:00:13.098014500Z",
     "start_time": "2024-09-09T19:00:13.077768200Z"
    }
   },
   "id": "934fee039dda23e2"
  },
  {
   "cell_type": "code",
   "execution_count": 37,
   "outputs": [
    {
     "data": {
      "text/plain": "                        Accuracy  Precision  Recall  F1-score     TSS     HSS  \\\nEnsemble-SHARP(VC)        0.9530     0.2661  0.2946    0.2796  0.2687  0.2554   \nEnsemble-SHARP(BC)        0.9679     0.4375  0.1250    0.1944  0.1199  0.1832   \nEnsemble-SHARP(SC/DT)     0.9690     0.5000  0.0625    0.1111  0.0605  0.1050   \nEnsemble-SHARP(SC/RF)     0.9682     0.4118  0.0625    0.1085  0.0596  0.1012   \nEnsemble-SHARP(SC/GB)     0.9693     0.6667  0.0179    0.0349  0.0176  0.0332   \nEnsemble-SHARP(SC/SVM)    0.9690     0.0000  0.0000    0.0000  0.0000  0.0000   \n\n                          TN  FP   FN  TP     score  \nEnsemble-SHARP(VC)      3414  91   79  33  0.821830  \nEnsemble-SHARP(BC)      3487  18   98  14  0.593315  \nEnsemble-SHARP(SC/DT)   3498   7  105   7  0.448880  \nEnsemble-SHARP(SC/RF)   3495  10  105   7  0.409800  \nEnsemble-SHARP(SC/GB)   3504   1  110   2  0.376115  \nEnsemble-SHARP(SC/SVM)  3505   0  112   0  0.048450  ",
      "text/html": "<div>\n<style scoped>\n    .dataframe tbody tr th:only-of-type {\n        vertical-align: middle;\n    }\n\n    .dataframe tbody tr th {\n        vertical-align: top;\n    }\n\n    .dataframe thead th {\n        text-align: right;\n    }\n</style>\n<table border=\"1\" class=\"dataframe\">\n  <thead>\n    <tr style=\"text-align: right;\">\n      <th></th>\n      <th>Accuracy</th>\n      <th>Precision</th>\n      <th>Recall</th>\n      <th>F1-score</th>\n      <th>TSS</th>\n      <th>HSS</th>\n      <th>TN</th>\n      <th>FP</th>\n      <th>FN</th>\n      <th>TP</th>\n      <th>score</th>\n    </tr>\n  </thead>\n  <tbody>\n    <tr>\n      <th>Ensemble-SHARP(VC)</th>\n      <td>0.9530</td>\n      <td>0.2661</td>\n      <td>0.2946</td>\n      <td>0.2796</td>\n      <td>0.2687</td>\n      <td>0.2554</td>\n      <td>3414</td>\n      <td>91</td>\n      <td>79</td>\n      <td>33</td>\n      <td>0.821830</td>\n    </tr>\n    <tr>\n      <th>Ensemble-SHARP(BC)</th>\n      <td>0.9679</td>\n      <td>0.4375</td>\n      <td>0.1250</td>\n      <td>0.1944</td>\n      <td>0.1199</td>\n      <td>0.1832</td>\n      <td>3487</td>\n      <td>18</td>\n      <td>98</td>\n      <td>14</td>\n      <td>0.593315</td>\n    </tr>\n    <tr>\n      <th>Ensemble-SHARP(SC/DT)</th>\n      <td>0.9690</td>\n      <td>0.5000</td>\n      <td>0.0625</td>\n      <td>0.1111</td>\n      <td>0.0605</td>\n      <td>0.1050</td>\n      <td>3498</td>\n      <td>7</td>\n      <td>105</td>\n      <td>7</td>\n      <td>0.448880</td>\n    </tr>\n    <tr>\n      <th>Ensemble-SHARP(SC/RF)</th>\n      <td>0.9682</td>\n      <td>0.4118</td>\n      <td>0.0625</td>\n      <td>0.1085</td>\n      <td>0.0596</td>\n      <td>0.1012</td>\n      <td>3495</td>\n      <td>10</td>\n      <td>105</td>\n      <td>7</td>\n      <td>0.409800</td>\n    </tr>\n    <tr>\n      <th>Ensemble-SHARP(SC/GB)</th>\n      <td>0.9693</td>\n      <td>0.6667</td>\n      <td>0.0179</td>\n      <td>0.0349</td>\n      <td>0.0176</td>\n      <td>0.0332</td>\n      <td>3504</td>\n      <td>1</td>\n      <td>110</td>\n      <td>2</td>\n      <td>0.376115</td>\n    </tr>\n    <tr>\n      <th>Ensemble-SHARP(SC/SVM)</th>\n      <td>0.9690</td>\n      <td>0.0000</td>\n      <td>0.0000</td>\n      <td>0.0000</td>\n      <td>0.0000</td>\n      <td>0.0000</td>\n      <td>3505</td>\n      <td>0</td>\n      <td>112</td>\n      <td>0</td>\n      <td>0.048450</td>\n    </tr>\n  </tbody>\n</table>\n</div>"
     },
     "execution_count": 37,
     "metadata": {},
     "output_type": "execute_result"
    }
   ],
   "source": [
    "get_score('Ensemble-SHARP')"
   ],
   "metadata": {
    "collapsed": false,
    "ExecuteTime": {
     "end_time": "2024-09-09T15:04:56.343325400Z",
     "start_time": "2024-09-09T15:04:56.227533900Z"
    }
   },
   "id": "d478de01c2ed2e52"
  },
  {
   "cell_type": "code",
   "execution_count": 67,
   "outputs": [
    {
     "data": {
      "text/plain": "                         Accuracy  Precision  Recall  F1-score     TSS  \\\nOver-sample-SHARP(SVM)     0.8446     0.1495  0.8571    0.2546  0.7014   \nOver-sample-SHARP(CNN)     0.8289     0.1363  0.8482    0.2349  0.6765   \nOver-sample-SHARP(LSTM)    0.8408     0.1420  0.8214    0.2421  0.6628   \nOver-sample-SHARP(GB)      0.8897     0.1775  0.7054    0.2836  0.6009   \nOver-sample-SHARP(RF)      0.9422     0.2723  0.5179    0.3569  0.4736   \nOver-sample-SHARP(DT)      0.9077     0.1396  0.3839    0.2047  0.3083   \n\n                            HSS    TN   FP  FN  TP     score  \nOver-sample-SHARP(SVM)   0.2132  2959  546  16  96  1.390480  \nOver-sample-SHARP(CNN)   0.1917  2903  602  17  95  1.341035  \nOver-sample-SHARP(LSTM)  0.1999  2949  556  20  92  1.325150  \nOver-sample-SHARP(GB)    0.2464  3139  366  33  79  1.270605  \nOver-sample-SHARP(RF)    0.3297  3350  155  54  58  1.187150  \nOver-sample-SHARP(DT)    0.1669  3240  265  69  43  0.768765  ",
      "text/html": "<div>\n<style scoped>\n    .dataframe tbody tr th:only-of-type {\n        vertical-align: middle;\n    }\n\n    .dataframe tbody tr th {\n        vertical-align: top;\n    }\n\n    .dataframe thead th {\n        text-align: right;\n    }\n</style>\n<table border=\"1\" class=\"dataframe\">\n  <thead>\n    <tr style=\"text-align: right;\">\n      <th></th>\n      <th>Accuracy</th>\n      <th>Precision</th>\n      <th>Recall</th>\n      <th>F1-score</th>\n      <th>TSS</th>\n      <th>HSS</th>\n      <th>TN</th>\n      <th>FP</th>\n      <th>FN</th>\n      <th>TP</th>\n      <th>score</th>\n    </tr>\n  </thead>\n  <tbody>\n    <tr>\n      <th>Over-sample-SHARP(SVM)</th>\n      <td>0.8446</td>\n      <td>0.1495</td>\n      <td>0.8571</td>\n      <td>0.2546</td>\n      <td>0.7014</td>\n      <td>0.2132</td>\n      <td>2959</td>\n      <td>546</td>\n      <td>16</td>\n      <td>96</td>\n      <td>1.390480</td>\n    </tr>\n    <tr>\n      <th>Over-sample-SHARP(CNN)</th>\n      <td>0.8289</td>\n      <td>0.1363</td>\n      <td>0.8482</td>\n      <td>0.2349</td>\n      <td>0.6765</td>\n      <td>0.1917</td>\n      <td>2903</td>\n      <td>602</td>\n      <td>17</td>\n      <td>95</td>\n      <td>1.341035</td>\n    </tr>\n    <tr>\n      <th>Over-sample-SHARP(LSTM)</th>\n      <td>0.8408</td>\n      <td>0.1420</td>\n      <td>0.8214</td>\n      <td>0.2421</td>\n      <td>0.6628</td>\n      <td>0.1999</td>\n      <td>2949</td>\n      <td>556</td>\n      <td>20</td>\n      <td>92</td>\n      <td>1.325150</td>\n    </tr>\n    <tr>\n      <th>Over-sample-SHARP(GB)</th>\n      <td>0.8897</td>\n      <td>0.1775</td>\n      <td>0.7054</td>\n      <td>0.2836</td>\n      <td>0.6009</td>\n      <td>0.2464</td>\n      <td>3139</td>\n      <td>366</td>\n      <td>33</td>\n      <td>79</td>\n      <td>1.270605</td>\n    </tr>\n    <tr>\n      <th>Over-sample-SHARP(RF)</th>\n      <td>0.9422</td>\n      <td>0.2723</td>\n      <td>0.5179</td>\n      <td>0.3569</td>\n      <td>0.4736</td>\n      <td>0.3297</td>\n      <td>3350</td>\n      <td>155</td>\n      <td>54</td>\n      <td>58</td>\n      <td>1.187150</td>\n    </tr>\n    <tr>\n      <th>Over-sample-SHARP(DT)</th>\n      <td>0.9077</td>\n      <td>0.1396</td>\n      <td>0.3839</td>\n      <td>0.2047</td>\n      <td>0.3083</td>\n      <td>0.1669</td>\n      <td>3240</td>\n      <td>265</td>\n      <td>69</td>\n      <td>43</td>\n      <td>0.768765</td>\n    </tr>\n  </tbody>\n</table>\n</div>"
     },
     "execution_count": 67,
     "metadata": {},
     "output_type": "execute_result"
    }
   ],
   "source": [
    "get_score('Over-sample-SHARP')"
   ],
   "metadata": {
    "collapsed": false,
    "ExecuteTime": {
     "end_time": "2024-09-09T22:39:40.150526100Z",
     "start_time": "2024-09-09T22:39:40.119989400Z"
    }
   },
   "id": "462210b7f5cfb979"
  },
  {
   "cell_type": "code",
   "execution_count": 70,
   "outputs": [
    {
     "data": {
      "text/plain": "                         Accuracy  Precision  Recall  F1-score     TSS  \\\nDown-sample-SHARP(SVM)     0.8261     0.1333  0.8393    0.2301  0.6650   \nDown-sample-SHARP(GB)      0.8349     0.1375  0.8214    0.2356  0.6568   \nDown-sample-SHARP(RF)      0.8316     0.1329  0.8036    0.2281  0.6361   \nDown-sample-SHARP(LSTM)    0.8416     0.1370  0.7768    0.2329  0.6204   \nDown-sample-SHARP(CNN)     0.8056     0.1187  0.8214    0.2074  0.6266   \nDown-sample-SHARP(DT)      0.7896     0.0887  0.6250    0.1554  0.4199   \n\n                            HSS    TN   FP  FN  TP     score  \nDown-sample-SHARP(SVM)   0.1866  2894  611  18  94  1.321195  \nDown-sample-SHARP(GB)    0.1928  2928  577  20  92  1.312125  \nDown-sample-SHARP(RF)    0.1848  2918  587  22  90  1.276840  \nDown-sample-SHARP(LSTM)  0.1903  2957  548  25  87  1.256290  \nDown-sample-SHARP(CNN)   0.1621  2822  683  20  92  1.253250  \nDown-sample-SHARP(DT)    0.1070  2786  719  42  70  0.920820  ",
      "text/html": "<div>\n<style scoped>\n    .dataframe tbody tr th:only-of-type {\n        vertical-align: middle;\n    }\n\n    .dataframe tbody tr th {\n        vertical-align: top;\n    }\n\n    .dataframe thead th {\n        text-align: right;\n    }\n</style>\n<table border=\"1\" class=\"dataframe\">\n  <thead>\n    <tr style=\"text-align: right;\">\n      <th></th>\n      <th>Accuracy</th>\n      <th>Precision</th>\n      <th>Recall</th>\n      <th>F1-score</th>\n      <th>TSS</th>\n      <th>HSS</th>\n      <th>TN</th>\n      <th>FP</th>\n      <th>FN</th>\n      <th>TP</th>\n      <th>score</th>\n    </tr>\n  </thead>\n  <tbody>\n    <tr>\n      <th>Down-sample-SHARP(SVM)</th>\n      <td>0.8261</td>\n      <td>0.1333</td>\n      <td>0.8393</td>\n      <td>0.2301</td>\n      <td>0.6650</td>\n      <td>0.1866</td>\n      <td>2894</td>\n      <td>611</td>\n      <td>18</td>\n      <td>94</td>\n      <td>1.321195</td>\n    </tr>\n    <tr>\n      <th>Down-sample-SHARP(GB)</th>\n      <td>0.8349</td>\n      <td>0.1375</td>\n      <td>0.8214</td>\n      <td>0.2356</td>\n      <td>0.6568</td>\n      <td>0.1928</td>\n      <td>2928</td>\n      <td>577</td>\n      <td>20</td>\n      <td>92</td>\n      <td>1.312125</td>\n    </tr>\n    <tr>\n      <th>Down-sample-SHARP(RF)</th>\n      <td>0.8316</td>\n      <td>0.1329</td>\n      <td>0.8036</td>\n      <td>0.2281</td>\n      <td>0.6361</td>\n      <td>0.1848</td>\n      <td>2918</td>\n      <td>587</td>\n      <td>22</td>\n      <td>90</td>\n      <td>1.276840</td>\n    </tr>\n    <tr>\n      <th>Down-sample-SHARP(LSTM)</th>\n      <td>0.8416</td>\n      <td>0.1370</td>\n      <td>0.7768</td>\n      <td>0.2329</td>\n      <td>0.6204</td>\n      <td>0.1903</td>\n      <td>2957</td>\n      <td>548</td>\n      <td>25</td>\n      <td>87</td>\n      <td>1.256290</td>\n    </tr>\n    <tr>\n      <th>Down-sample-SHARP(CNN)</th>\n      <td>0.8056</td>\n      <td>0.1187</td>\n      <td>0.8214</td>\n      <td>0.2074</td>\n      <td>0.6266</td>\n      <td>0.1621</td>\n      <td>2822</td>\n      <td>683</td>\n      <td>20</td>\n      <td>92</td>\n      <td>1.253250</td>\n    </tr>\n    <tr>\n      <th>Down-sample-SHARP(DT)</th>\n      <td>0.7896</td>\n      <td>0.0887</td>\n      <td>0.6250</td>\n      <td>0.1554</td>\n      <td>0.4199</td>\n      <td>0.1070</td>\n      <td>2786</td>\n      <td>719</td>\n      <td>42</td>\n      <td>70</td>\n      <td>0.920820</td>\n    </tr>\n  </tbody>\n</table>\n</div>"
     },
     "execution_count": 70,
     "metadata": {},
     "output_type": "execute_result"
    }
   ],
   "source": [
    "get_score('Down-sample-SHARP')"
   ],
   "metadata": {
    "collapsed": false,
    "ExecuteTime": {
     "end_time": "2024-09-09T22:44:08.506576400Z",
     "start_time": "2024-09-09T22:44:08.478114Z"
    }
   },
   "id": "576f7ebfdd6842c3"
  },
  {
   "cell_type": "code",
   "execution_count": 40,
   "outputs": [
    {
     "data": {
      "text/plain": "                      Accuracy  Precision  Recall  F1-score     TSS     HSS  \\\nOver-fit-SHARP(DT)      0.9508     0.2339  0.2589    0.2458  0.2318  0.2204   \nOver-fit-SHARP(GB)      0.9610     0.2836  0.1696    0.2123  0.1559  0.1936   \nOver-fit-SHARP(RF)      0.9696     0.5500  0.0982    0.1666  0.0956  0.1588   \nOver-fit-SHARP(SVM)     0.9704     0.8571  0.0536    0.1009  0.0533  0.0976   \nOver-fit-SHARP(CNN)     0.9668     0.2500  0.0357    0.0625  0.0323  0.0552   \nOver-fit-SHARP(LSTM)    0.9690     0.0000  0.0000    0.0000  0.0000  0.0000   \n\n                        TN  FP   FN  TP    score  \nOver-fit-SHARP(DT)    3410  95   83  29  0.72417  \nOver-fit-SHARP(GB)    3457  48   93  19  0.60167  \nOver-fit-SHARP(RF)    3496   9  101  11  0.57550  \nOver-fit-SHARP(SVM)   3504   1  106   6  0.57086  \nOver-fit-SHARP(CNN)   3493  12  108   4  0.25927  \nOver-fit-SHARP(LSTM)  3505   0  112   0  0.04845  ",
      "text/html": "<div>\n<style scoped>\n    .dataframe tbody tr th:only-of-type {\n        vertical-align: middle;\n    }\n\n    .dataframe tbody tr th {\n        vertical-align: top;\n    }\n\n    .dataframe thead th {\n        text-align: right;\n    }\n</style>\n<table border=\"1\" class=\"dataframe\">\n  <thead>\n    <tr style=\"text-align: right;\">\n      <th></th>\n      <th>Accuracy</th>\n      <th>Precision</th>\n      <th>Recall</th>\n      <th>F1-score</th>\n      <th>TSS</th>\n      <th>HSS</th>\n      <th>TN</th>\n      <th>FP</th>\n      <th>FN</th>\n      <th>TP</th>\n      <th>score</th>\n    </tr>\n  </thead>\n  <tbody>\n    <tr>\n      <th>Over-fit-SHARP(DT)</th>\n      <td>0.9508</td>\n      <td>0.2339</td>\n      <td>0.2589</td>\n      <td>0.2458</td>\n      <td>0.2318</td>\n      <td>0.2204</td>\n      <td>3410</td>\n      <td>95</td>\n      <td>83</td>\n      <td>29</td>\n      <td>0.72417</td>\n    </tr>\n    <tr>\n      <th>Over-fit-SHARP(GB)</th>\n      <td>0.9610</td>\n      <td>0.2836</td>\n      <td>0.1696</td>\n      <td>0.2123</td>\n      <td>0.1559</td>\n      <td>0.1936</td>\n      <td>3457</td>\n      <td>48</td>\n      <td>93</td>\n      <td>19</td>\n      <td>0.60167</td>\n    </tr>\n    <tr>\n      <th>Over-fit-SHARP(RF)</th>\n      <td>0.9696</td>\n      <td>0.5500</td>\n      <td>0.0982</td>\n      <td>0.1666</td>\n      <td>0.0956</td>\n      <td>0.1588</td>\n      <td>3496</td>\n      <td>9</td>\n      <td>101</td>\n      <td>11</td>\n      <td>0.57550</td>\n    </tr>\n    <tr>\n      <th>Over-fit-SHARP(SVM)</th>\n      <td>0.9704</td>\n      <td>0.8571</td>\n      <td>0.0536</td>\n      <td>0.1009</td>\n      <td>0.0533</td>\n      <td>0.0976</td>\n      <td>3504</td>\n      <td>1</td>\n      <td>106</td>\n      <td>6</td>\n      <td>0.57086</td>\n    </tr>\n    <tr>\n      <th>Over-fit-SHARP(CNN)</th>\n      <td>0.9668</td>\n      <td>0.2500</td>\n      <td>0.0357</td>\n      <td>0.0625</td>\n      <td>0.0323</td>\n      <td>0.0552</td>\n      <td>3493</td>\n      <td>12</td>\n      <td>108</td>\n      <td>4</td>\n      <td>0.25927</td>\n    </tr>\n    <tr>\n      <th>Over-fit-SHARP(LSTM)</th>\n      <td>0.9690</td>\n      <td>0.0000</td>\n      <td>0.0000</td>\n      <td>0.0000</td>\n      <td>0.0000</td>\n      <td>0.0000</td>\n      <td>3505</td>\n      <td>0</td>\n      <td>112</td>\n      <td>0</td>\n      <td>0.04845</td>\n    </tr>\n  </tbody>\n</table>\n</div>"
     },
     "execution_count": 40,
     "metadata": {},
     "output_type": "execute_result"
    }
   ],
   "source": [
    "get_score('Over-fit-SHARP')"
   ],
   "metadata": {
    "collapsed": false,
    "ExecuteTime": {
     "end_time": "2024-09-09T15:04:56.356327500Z",
     "start_time": "2024-09-09T15:04:56.260748400Z"
    }
   },
   "id": "4d7cd47f05513171"
  },
  {
   "cell_type": "code",
   "execution_count": 41,
   "outputs": [
    {
     "data": {
      "text/plain": "                       Accuracy  Precision  Recall  F1-score     TSS     HSS  \\\nUnder-fit-SHARP(DT)      0.9613     0.2813  0.1607    0.2045  0.1476  0.1862   \nUnder-fit-SHARP(GB)      0.9657     0.3571  0.1339    0.1948  0.1262  0.1810   \nUnder-fit-SHARP(RF)      0.9693     0.5294  0.0804    0.1396  0.0781  0.1325   \nUnder-fit-SHARP(LSTM)    0.9685     0.4444  0.0714    0.1230  0.0686  0.1155   \nUnder-fit-SHARP(CNN)     0.9688     0.4667  0.0625    0.1102  0.0602  0.1037   \nUnder-fit-SHARP(SVM)     0.9690     0.0000  0.0000    0.0000  0.0000  0.0000   \n\n                         TN  FP   FN  TP     score  \nUnder-fit-SHARP(DT)    3459  46   94  18  0.581095  \nUnder-fit-SHARP(GB)    3478  27   97  15  0.570715  \nUnder-fit-SHARP(RF)    3497   8  103   9  0.514795  \nUnder-fit-SHARP(LSTM)  3495  10  104   8  0.450375  \nUnder-fit-SHARP(CNN)   3497   8  105   7  0.434260  \nUnder-fit-SHARP(SVM)   3505   0  112   0  0.048450  ",
      "text/html": "<div>\n<style scoped>\n    .dataframe tbody tr th:only-of-type {\n        vertical-align: middle;\n    }\n\n    .dataframe tbody tr th {\n        vertical-align: top;\n    }\n\n    .dataframe thead th {\n        text-align: right;\n    }\n</style>\n<table border=\"1\" class=\"dataframe\">\n  <thead>\n    <tr style=\"text-align: right;\">\n      <th></th>\n      <th>Accuracy</th>\n      <th>Precision</th>\n      <th>Recall</th>\n      <th>F1-score</th>\n      <th>TSS</th>\n      <th>HSS</th>\n      <th>TN</th>\n      <th>FP</th>\n      <th>FN</th>\n      <th>TP</th>\n      <th>score</th>\n    </tr>\n  </thead>\n  <tbody>\n    <tr>\n      <th>Under-fit-SHARP(DT)</th>\n      <td>0.9613</td>\n      <td>0.2813</td>\n      <td>0.1607</td>\n      <td>0.2045</td>\n      <td>0.1476</td>\n      <td>0.1862</td>\n      <td>3459</td>\n      <td>46</td>\n      <td>94</td>\n      <td>18</td>\n      <td>0.581095</td>\n    </tr>\n    <tr>\n      <th>Under-fit-SHARP(GB)</th>\n      <td>0.9657</td>\n      <td>0.3571</td>\n      <td>0.1339</td>\n      <td>0.1948</td>\n      <td>0.1262</td>\n      <td>0.1810</td>\n      <td>3478</td>\n      <td>27</td>\n      <td>97</td>\n      <td>15</td>\n      <td>0.570715</td>\n    </tr>\n    <tr>\n      <th>Under-fit-SHARP(RF)</th>\n      <td>0.9693</td>\n      <td>0.5294</td>\n      <td>0.0804</td>\n      <td>0.1396</td>\n      <td>0.0781</td>\n      <td>0.1325</td>\n      <td>3497</td>\n      <td>8</td>\n      <td>103</td>\n      <td>9</td>\n      <td>0.514795</td>\n    </tr>\n    <tr>\n      <th>Under-fit-SHARP(LSTM)</th>\n      <td>0.9685</td>\n      <td>0.4444</td>\n      <td>0.0714</td>\n      <td>0.1230</td>\n      <td>0.0686</td>\n      <td>0.1155</td>\n      <td>3495</td>\n      <td>10</td>\n      <td>104</td>\n      <td>8</td>\n      <td>0.450375</td>\n    </tr>\n    <tr>\n      <th>Under-fit-SHARP(CNN)</th>\n      <td>0.9688</td>\n      <td>0.4667</td>\n      <td>0.0625</td>\n      <td>0.1102</td>\n      <td>0.0602</td>\n      <td>0.1037</td>\n      <td>3497</td>\n      <td>8</td>\n      <td>105</td>\n      <td>7</td>\n      <td>0.434260</td>\n    </tr>\n    <tr>\n      <th>Under-fit-SHARP(SVM)</th>\n      <td>0.9690</td>\n      <td>0.0000</td>\n      <td>0.0000</td>\n      <td>0.0000</td>\n      <td>0.0000</td>\n      <td>0.0000</td>\n      <td>3505</td>\n      <td>0</td>\n      <td>112</td>\n      <td>0</td>\n      <td>0.048450</td>\n    </tr>\n  </tbody>\n</table>\n</div>"
     },
     "execution_count": 41,
     "metadata": {},
     "output_type": "execute_result"
    }
   ],
   "source": [
    "get_score('Under-fit-SHARP')"
   ],
   "metadata": {
    "collapsed": false,
    "ExecuteTime": {
     "end_time": "2024-09-09T15:04:56.356327500Z",
     "start_time": "2024-09-09T15:04:56.275341Z"
    }
   },
   "id": "b037fd88e1c4d16b"
  },
  {
   "cell_type": "markdown",
   "source": [
    "both"
   ],
   "metadata": {
    "collapsed": false
   },
   "id": "78b994b836ca5a8e"
  },
  {
   "cell_type": "code",
   "execution_count": 60,
   "outputs": [
    {
     "data": {
      "text/plain": "                         Accuracy  Precision  Recall  F1-score     TSS  \\\nBaseline-Combined(DT)      0.9403     0.2975  0.3273    0.3117  0.2940   \nBaseline-Combined(RF)      0.9598     0.5882  0.0909    0.1575  0.0882   \nBaseline-Combined(LSTM)    0.9595     0.6000  0.0545    0.0999  0.0530   \nBaseline-Combined(GB)      0.9587     0.5000  0.0636    0.1128  0.0609   \nBaseline-Combined(CNN)     0.9587     0.5000  0.0182    0.0351  0.0174   \nBaseline-Combined(SVM)     0.9583     0.0000  0.0000    0.0000 -0.0004   \n\n                            HSS    TN  FP   FN  TP     score  \nBaseline-Combined(DT)    0.2806  2470  85   74  36  0.905065  \nBaseline-Combined(RF)    0.1481  2548   7  100  10  0.570250  \nBaseline-Combined(LSTM)  0.0938  2551   4  104   6  0.465985  \nBaseline-Combined(GB)    0.1046  2548   7  103   7  0.450615  \nBaseline-Combined(CNN)   0.0323  2553   2  108   2  0.308885  \nBaseline-Combined(SVM)  -0.0007  2554   1  110   0  0.047465  ",
      "text/html": "<div>\n<style scoped>\n    .dataframe tbody tr th:only-of-type {\n        vertical-align: middle;\n    }\n\n    .dataframe tbody tr th {\n        vertical-align: top;\n    }\n\n    .dataframe thead th {\n        text-align: right;\n    }\n</style>\n<table border=\"1\" class=\"dataframe\">\n  <thead>\n    <tr style=\"text-align: right;\">\n      <th></th>\n      <th>Accuracy</th>\n      <th>Precision</th>\n      <th>Recall</th>\n      <th>F1-score</th>\n      <th>TSS</th>\n      <th>HSS</th>\n      <th>TN</th>\n      <th>FP</th>\n      <th>FN</th>\n      <th>TP</th>\n      <th>score</th>\n    </tr>\n  </thead>\n  <tbody>\n    <tr>\n      <th>Baseline-Combined(DT)</th>\n      <td>0.9403</td>\n      <td>0.2975</td>\n      <td>0.3273</td>\n      <td>0.3117</td>\n      <td>0.2940</td>\n      <td>0.2806</td>\n      <td>2470</td>\n      <td>85</td>\n      <td>74</td>\n      <td>36</td>\n      <td>0.905065</td>\n    </tr>\n    <tr>\n      <th>Baseline-Combined(RF)</th>\n      <td>0.9598</td>\n      <td>0.5882</td>\n      <td>0.0909</td>\n      <td>0.1575</td>\n      <td>0.0882</td>\n      <td>0.1481</td>\n      <td>2548</td>\n      <td>7</td>\n      <td>100</td>\n      <td>10</td>\n      <td>0.570250</td>\n    </tr>\n    <tr>\n      <th>Baseline-Combined(LSTM)</th>\n      <td>0.9595</td>\n      <td>0.6000</td>\n      <td>0.0545</td>\n      <td>0.0999</td>\n      <td>0.0530</td>\n      <td>0.0938</td>\n      <td>2551</td>\n      <td>4</td>\n      <td>104</td>\n      <td>6</td>\n      <td>0.465985</td>\n    </tr>\n    <tr>\n      <th>Baseline-Combined(GB)</th>\n      <td>0.9587</td>\n      <td>0.5000</td>\n      <td>0.0636</td>\n      <td>0.1128</td>\n      <td>0.0609</td>\n      <td>0.1046</td>\n      <td>2548</td>\n      <td>7</td>\n      <td>103</td>\n      <td>7</td>\n      <td>0.450615</td>\n    </tr>\n    <tr>\n      <th>Baseline-Combined(CNN)</th>\n      <td>0.9587</td>\n      <td>0.5000</td>\n      <td>0.0182</td>\n      <td>0.0351</td>\n      <td>0.0174</td>\n      <td>0.0323</td>\n      <td>2553</td>\n      <td>2</td>\n      <td>108</td>\n      <td>2</td>\n      <td>0.308885</td>\n    </tr>\n    <tr>\n      <th>Baseline-Combined(SVM)</th>\n      <td>0.9583</td>\n      <td>0.0000</td>\n      <td>0.0000</td>\n      <td>0.0000</td>\n      <td>-0.0004</td>\n      <td>-0.0007</td>\n      <td>2554</td>\n      <td>1</td>\n      <td>110</td>\n      <td>0</td>\n      <td>0.047465</td>\n    </tr>\n  </tbody>\n</table>\n</div>"
     },
     "execution_count": 60,
     "metadata": {},
     "output_type": "execute_result"
    }
   ],
   "source": [
    "get_score('Baseline-Combined')"
   ],
   "metadata": {
    "collapsed": false,
    "ExecuteTime": {
     "end_time": "2024-09-09T22:21:48.393497100Z",
     "start_time": "2024-09-09T22:21:48.353437500Z"
    }
   },
   "id": "938b8fc3774d9e0"
  },
  {
   "cell_type": "code",
   "execution_count": 51,
   "outputs": [
    {
     "data": {
      "text/plain": "                           Accuracy  Precision  Recall  F1-score     TSS  \\\nEnsemble-Combined(VC)        0.9433     0.3084  0.3000    0.3041  0.2710   \nEnsemble-Combined(BC)        0.9602     0.5769  0.1364    0.2206  0.1321   \nEnsemble-Combined(SC/RF)     0.9565     0.4211  0.1455    0.2163  0.1368   \nEnsemble-Combined(SC/GB)     0.9587     0.5000  0.0545    0.0983  0.0522   \nEnsemble-Combined(SC/DT)     0.9580     0.4286  0.0545    0.0967  0.0514   \nEnsemble-Combined(SC/SVM)    0.9587     0.0000  0.0000    0.0000  0.0000   \n\n                              HSS    TN  FP   FN  TP     score  \nEnsemble-Combined(VC)      0.2746  2481  74   77  33  0.868785  \nEnsemble-Combined(BC)      0.2081  2544  11   95  15  0.692420  \nEnsemble-Combined(SC/RF)   0.1992  2533  22   94  16  0.632995  \nEnsemble-Combined(SC/GB)   0.0910  2549   6  104   6  0.423345  \nEnsemble-Combined(SC/DT)   0.0883  2547   8  104   6  0.392180  \nEnsemble-Combined(SC/SVM)  0.0000  2555   0  110   0  0.047935  ",
      "text/html": "<div>\n<style scoped>\n    .dataframe tbody tr th:only-of-type {\n        vertical-align: middle;\n    }\n\n    .dataframe tbody tr th {\n        vertical-align: top;\n    }\n\n    .dataframe thead th {\n        text-align: right;\n    }\n</style>\n<table border=\"1\" class=\"dataframe\">\n  <thead>\n    <tr style=\"text-align: right;\">\n      <th></th>\n      <th>Accuracy</th>\n      <th>Precision</th>\n      <th>Recall</th>\n      <th>F1-score</th>\n      <th>TSS</th>\n      <th>HSS</th>\n      <th>TN</th>\n      <th>FP</th>\n      <th>FN</th>\n      <th>TP</th>\n      <th>score</th>\n    </tr>\n  </thead>\n  <tbody>\n    <tr>\n      <th>Ensemble-Combined(VC)</th>\n      <td>0.9433</td>\n      <td>0.3084</td>\n      <td>0.3000</td>\n      <td>0.3041</td>\n      <td>0.2710</td>\n      <td>0.2746</td>\n      <td>2481</td>\n      <td>74</td>\n      <td>77</td>\n      <td>33</td>\n      <td>0.868785</td>\n    </tr>\n    <tr>\n      <th>Ensemble-Combined(BC)</th>\n      <td>0.9602</td>\n      <td>0.5769</td>\n      <td>0.1364</td>\n      <td>0.2206</td>\n      <td>0.1321</td>\n      <td>0.2081</td>\n      <td>2544</td>\n      <td>11</td>\n      <td>95</td>\n      <td>15</td>\n      <td>0.692420</td>\n    </tr>\n    <tr>\n      <th>Ensemble-Combined(SC/RF)</th>\n      <td>0.9565</td>\n      <td>0.4211</td>\n      <td>0.1455</td>\n      <td>0.2163</td>\n      <td>0.1368</td>\n      <td>0.1992</td>\n      <td>2533</td>\n      <td>22</td>\n      <td>94</td>\n      <td>16</td>\n      <td>0.632995</td>\n    </tr>\n    <tr>\n      <th>Ensemble-Combined(SC/GB)</th>\n      <td>0.9587</td>\n      <td>0.5000</td>\n      <td>0.0545</td>\n      <td>0.0983</td>\n      <td>0.0522</td>\n      <td>0.0910</td>\n      <td>2549</td>\n      <td>6</td>\n      <td>104</td>\n      <td>6</td>\n      <td>0.423345</td>\n    </tr>\n    <tr>\n      <th>Ensemble-Combined(SC/DT)</th>\n      <td>0.9580</td>\n      <td>0.4286</td>\n      <td>0.0545</td>\n      <td>0.0967</td>\n      <td>0.0514</td>\n      <td>0.0883</td>\n      <td>2547</td>\n      <td>8</td>\n      <td>104</td>\n      <td>6</td>\n      <td>0.392180</td>\n    </tr>\n    <tr>\n      <th>Ensemble-Combined(SC/SVM)</th>\n      <td>0.9587</td>\n      <td>0.0000</td>\n      <td>0.0000</td>\n      <td>0.0000</td>\n      <td>0.0000</td>\n      <td>0.0000</td>\n      <td>2555</td>\n      <td>0</td>\n      <td>110</td>\n      <td>0</td>\n      <td>0.047935</td>\n    </tr>\n  </tbody>\n</table>\n</div>"
     },
     "execution_count": 51,
     "metadata": {},
     "output_type": "execute_result"
    }
   ],
   "source": [
    "get_score('Ensemble-Combined')"
   ],
   "metadata": {
    "collapsed": false,
    "ExecuteTime": {
     "end_time": "2024-09-09T18:28:25.391987400Z",
     "start_time": "2024-09-09T18:28:25.335378600Z"
    }
   },
   "id": "b7feed2d3d9e95a1"
  },
  {
   "cell_type": "code",
   "execution_count": 52,
   "outputs": [
    {
     "data": {
      "text/plain": "                            Accuracy  Precision  Recall  F1-score     TSS  \\\nOver-sample-Combined(LSTM)    0.8101     0.1678  0.9091    0.2833  0.7150   \nOver-sample-Combined(SVM)     0.8334     0.1788  0.8455    0.2952  0.6783   \nOver-sample-Combined(CNN)     0.7749     0.1449  0.9091    0.2500  0.6782   \nOver-sample-Combined(GB)      0.8923     0.2358  0.7182    0.3550  0.6180   \nOver-sample-Combined(RF)      0.9358     0.3057  0.4364    0.3595  0.3937   \nOver-sample-Combined(DT)      0.8987     0.1748  0.3909    0.2416  0.3115   \n\n                               HSS    TN   FP  FN   TP     score  \nOver-sample-Combined(LSTM)  0.2296  2059  496  10  100  1.468515  \nOver-sample-Combined(SVM)   0.2437  2128  427  17   93  1.421290  \nOver-sample-Combined(CNN)   0.1925  1965  590  10  100  1.397745  \nOver-sample-Combined(GB)    0.3123  2299  256  31   79  1.390165  \nOver-sample-Combined(RF)    0.3269  2446  109  62   48  1.096440  \nOver-sample-Combined(DT)    0.1957  2352  203  67   43  0.827375  ",
      "text/html": "<div>\n<style scoped>\n    .dataframe tbody tr th:only-of-type {\n        vertical-align: middle;\n    }\n\n    .dataframe tbody tr th {\n        vertical-align: top;\n    }\n\n    .dataframe thead th {\n        text-align: right;\n    }\n</style>\n<table border=\"1\" class=\"dataframe\">\n  <thead>\n    <tr style=\"text-align: right;\">\n      <th></th>\n      <th>Accuracy</th>\n      <th>Precision</th>\n      <th>Recall</th>\n      <th>F1-score</th>\n      <th>TSS</th>\n      <th>HSS</th>\n      <th>TN</th>\n      <th>FP</th>\n      <th>FN</th>\n      <th>TP</th>\n      <th>score</th>\n    </tr>\n  </thead>\n  <tbody>\n    <tr>\n      <th>Over-sample-Combined(LSTM)</th>\n      <td>0.8101</td>\n      <td>0.1678</td>\n      <td>0.9091</td>\n      <td>0.2833</td>\n      <td>0.7150</td>\n      <td>0.2296</td>\n      <td>2059</td>\n      <td>496</td>\n      <td>10</td>\n      <td>100</td>\n      <td>1.468515</td>\n    </tr>\n    <tr>\n      <th>Over-sample-Combined(SVM)</th>\n      <td>0.8334</td>\n      <td>0.1788</td>\n      <td>0.8455</td>\n      <td>0.2952</td>\n      <td>0.6783</td>\n      <td>0.2437</td>\n      <td>2128</td>\n      <td>427</td>\n      <td>17</td>\n      <td>93</td>\n      <td>1.421290</td>\n    </tr>\n    <tr>\n      <th>Over-sample-Combined(CNN)</th>\n      <td>0.7749</td>\n      <td>0.1449</td>\n      <td>0.9091</td>\n      <td>0.2500</td>\n      <td>0.6782</td>\n      <td>0.1925</td>\n      <td>1965</td>\n      <td>590</td>\n      <td>10</td>\n      <td>100</td>\n      <td>1.397745</td>\n    </tr>\n    <tr>\n      <th>Over-sample-Combined(GB)</th>\n      <td>0.8923</td>\n      <td>0.2358</td>\n      <td>0.7182</td>\n      <td>0.3550</td>\n      <td>0.6180</td>\n      <td>0.3123</td>\n      <td>2299</td>\n      <td>256</td>\n      <td>31</td>\n      <td>79</td>\n      <td>1.390165</td>\n    </tr>\n    <tr>\n      <th>Over-sample-Combined(RF)</th>\n      <td>0.9358</td>\n      <td>0.3057</td>\n      <td>0.4364</td>\n      <td>0.3595</td>\n      <td>0.3937</td>\n      <td>0.3269</td>\n      <td>2446</td>\n      <td>109</td>\n      <td>62</td>\n      <td>48</td>\n      <td>1.096440</td>\n    </tr>\n    <tr>\n      <th>Over-sample-Combined(DT)</th>\n      <td>0.8987</td>\n      <td>0.1748</td>\n      <td>0.3909</td>\n      <td>0.2416</td>\n      <td>0.3115</td>\n      <td>0.1957</td>\n      <td>2352</td>\n      <td>203</td>\n      <td>67</td>\n      <td>43</td>\n      <td>0.827375</td>\n    </tr>\n  </tbody>\n</table>\n</div>"
     },
     "execution_count": 52,
     "metadata": {},
     "output_type": "execute_result"
    }
   ],
   "source": [
    "get_score('Over-sample-Combined')"
   ],
   "metadata": {
    "collapsed": false,
    "ExecuteTime": {
     "end_time": "2024-09-09T18:28:26.304086900Z",
     "start_time": "2024-09-09T18:28:26.276373600Z"
    }
   },
   "id": "a7586aa647b09715"
  },
  {
   "cell_type": "code",
   "execution_count": 53,
   "outputs": [
    {
     "data": {
      "text/plain": "                            Accuracy  Precision  Recall  F1-score     TSS  \\\nDown-sample-Combined(SVM)     0.7955     0.1542  0.8818    0.2625  0.6736   \nDown-sample-Combined(RF)      0.7944     0.1524  0.8727    0.2595  0.6637   \nDown-sample-Combined(CNN)     0.8664     0.2029  0.7636    0.3206  0.6345   \nDown-sample-Combined(GB)      0.7940     0.1521  0.8727    0.2591  0.6633   \nDown-sample-Combined(LSTM)    0.8180     0.1646  0.8364    0.2751  0.6536   \nDown-sample-Combined(DT)      0.7295     0.1088  0.7727    0.1907  0.5003   \n\n                               HSS    TN   FP  FN  TP     score  \nDown-sample-Combined(SVM)   0.2068  2023  532  13  97  1.394915  \nDown-sample-Combined(RF)    0.2035  2021  534  14  96  1.378440  \nDown-sample-Combined(CNN)   0.2732  2225  330  26  84  1.378140  \nDown-sample-Combined(GB)    0.2031  2020  535  14  96  1.377620  \nDown-sample-Combined(LSTM)  0.2213  2088  467  18  92  1.370850  \nDown-sample-Combined(DT)    0.1277  1859  696  25  85  1.111935  ",
      "text/html": "<div>\n<style scoped>\n    .dataframe tbody tr th:only-of-type {\n        vertical-align: middle;\n    }\n\n    .dataframe tbody tr th {\n        vertical-align: top;\n    }\n\n    .dataframe thead th {\n        text-align: right;\n    }\n</style>\n<table border=\"1\" class=\"dataframe\">\n  <thead>\n    <tr style=\"text-align: right;\">\n      <th></th>\n      <th>Accuracy</th>\n      <th>Precision</th>\n      <th>Recall</th>\n      <th>F1-score</th>\n      <th>TSS</th>\n      <th>HSS</th>\n      <th>TN</th>\n      <th>FP</th>\n      <th>FN</th>\n      <th>TP</th>\n      <th>score</th>\n    </tr>\n  </thead>\n  <tbody>\n    <tr>\n      <th>Down-sample-Combined(SVM)</th>\n      <td>0.7955</td>\n      <td>0.1542</td>\n      <td>0.8818</td>\n      <td>0.2625</td>\n      <td>0.6736</td>\n      <td>0.2068</td>\n      <td>2023</td>\n      <td>532</td>\n      <td>13</td>\n      <td>97</td>\n      <td>1.394915</td>\n    </tr>\n    <tr>\n      <th>Down-sample-Combined(RF)</th>\n      <td>0.7944</td>\n      <td>0.1524</td>\n      <td>0.8727</td>\n      <td>0.2595</td>\n      <td>0.6637</td>\n      <td>0.2035</td>\n      <td>2021</td>\n      <td>534</td>\n      <td>14</td>\n      <td>96</td>\n      <td>1.378440</td>\n    </tr>\n    <tr>\n      <th>Down-sample-Combined(CNN)</th>\n      <td>0.8664</td>\n      <td>0.2029</td>\n      <td>0.7636</td>\n      <td>0.3206</td>\n      <td>0.6345</td>\n      <td>0.2732</td>\n      <td>2225</td>\n      <td>330</td>\n      <td>26</td>\n      <td>84</td>\n      <td>1.378140</td>\n    </tr>\n    <tr>\n      <th>Down-sample-Combined(GB)</th>\n      <td>0.7940</td>\n      <td>0.1521</td>\n      <td>0.8727</td>\n      <td>0.2591</td>\n      <td>0.6633</td>\n      <td>0.2031</td>\n      <td>2020</td>\n      <td>535</td>\n      <td>14</td>\n      <td>96</td>\n      <td>1.377620</td>\n    </tr>\n    <tr>\n      <th>Down-sample-Combined(LSTM)</th>\n      <td>0.8180</td>\n      <td>0.1646</td>\n      <td>0.8364</td>\n      <td>0.2751</td>\n      <td>0.6536</td>\n      <td>0.2213</td>\n      <td>2088</td>\n      <td>467</td>\n      <td>18</td>\n      <td>92</td>\n      <td>1.370850</td>\n    </tr>\n    <tr>\n      <th>Down-sample-Combined(DT)</th>\n      <td>0.7295</td>\n      <td>0.1088</td>\n      <td>0.7727</td>\n      <td>0.1907</td>\n      <td>0.5003</td>\n      <td>0.1277</td>\n      <td>1859</td>\n      <td>696</td>\n      <td>25</td>\n      <td>85</td>\n      <td>1.111935</td>\n    </tr>\n  </tbody>\n</table>\n</div>"
     },
     "execution_count": 53,
     "metadata": {},
     "output_type": "execute_result"
    }
   ],
   "source": [
    "get_score('Down-sample-Combined')"
   ],
   "metadata": {
    "collapsed": false,
    "ExecuteTime": {
     "end_time": "2024-09-09T18:28:28.788358100Z",
     "start_time": "2024-09-09T18:28:28.768303500Z"
    }
   },
   "id": "fc9e6e9bc787066c"
  },
  {
   "cell_type": "code",
   "execution_count": 54,
   "outputs": [
    {
     "data": {
      "text/plain": "                         Accuracy  Precision  Recall  F1-score     TSS  \\\nOver-fit-Combined(DT)      0.9396     0.2783  0.2909    0.2845  0.2584   \nOver-fit-Combined(GB)      0.9535     0.3793  0.2000    0.2619  0.1859   \nOver-fit-Combined(RF)      0.9595     0.5556  0.0909    0.1562  0.0878   \nOver-fit-Combined(CNN)     0.9587     0.5000  0.0182    0.0351  0.0174   \nOver-fit-Combined(LSTM)    0.9587     0.0000  0.0000    0.0000  0.0000   \nOver-fit-Combined(SVM)     0.9583     0.0000  0.0000    0.0000 -0.0004   \n\n                            HSS    TN  FP   FN  TP     score  \nOver-fit-Combined(DT)    0.2529  2472  83   78  32  0.820440  \nOver-fit-Combined(GB)    0.2403  2519  36   88  22  0.732545  \nOver-fit-Combined(RF)    0.1463  2547   8  100  10  0.555375  \nOver-fit-Combined(CNN)   0.0323  2553   2  108   2  0.308885  \nOver-fit-Combined(LSTM)  0.0000  2555   0  110   0  0.047935  \nOver-fit-Combined(SVM)  -0.0007  2554   1  110   0  0.047465  ",
      "text/html": "<div>\n<style scoped>\n    .dataframe tbody tr th:only-of-type {\n        vertical-align: middle;\n    }\n\n    .dataframe tbody tr th {\n        vertical-align: top;\n    }\n\n    .dataframe thead th {\n        text-align: right;\n    }\n</style>\n<table border=\"1\" class=\"dataframe\">\n  <thead>\n    <tr style=\"text-align: right;\">\n      <th></th>\n      <th>Accuracy</th>\n      <th>Precision</th>\n      <th>Recall</th>\n      <th>F1-score</th>\n      <th>TSS</th>\n      <th>HSS</th>\n      <th>TN</th>\n      <th>FP</th>\n      <th>FN</th>\n      <th>TP</th>\n      <th>score</th>\n    </tr>\n  </thead>\n  <tbody>\n    <tr>\n      <th>Over-fit-Combined(DT)</th>\n      <td>0.9396</td>\n      <td>0.2783</td>\n      <td>0.2909</td>\n      <td>0.2845</td>\n      <td>0.2584</td>\n      <td>0.2529</td>\n      <td>2472</td>\n      <td>83</td>\n      <td>78</td>\n      <td>32</td>\n      <td>0.820440</td>\n    </tr>\n    <tr>\n      <th>Over-fit-Combined(GB)</th>\n      <td>0.9535</td>\n      <td>0.3793</td>\n      <td>0.2000</td>\n      <td>0.2619</td>\n      <td>0.1859</td>\n      <td>0.2403</td>\n      <td>2519</td>\n      <td>36</td>\n      <td>88</td>\n      <td>22</td>\n      <td>0.732545</td>\n    </tr>\n    <tr>\n      <th>Over-fit-Combined(RF)</th>\n      <td>0.9595</td>\n      <td>0.5556</td>\n      <td>0.0909</td>\n      <td>0.1562</td>\n      <td>0.0878</td>\n      <td>0.1463</td>\n      <td>2547</td>\n      <td>8</td>\n      <td>100</td>\n      <td>10</td>\n      <td>0.555375</td>\n    </tr>\n    <tr>\n      <th>Over-fit-Combined(CNN)</th>\n      <td>0.9587</td>\n      <td>0.5000</td>\n      <td>0.0182</td>\n      <td>0.0351</td>\n      <td>0.0174</td>\n      <td>0.0323</td>\n      <td>2553</td>\n      <td>2</td>\n      <td>108</td>\n      <td>2</td>\n      <td>0.308885</td>\n    </tr>\n    <tr>\n      <th>Over-fit-Combined(LSTM)</th>\n      <td>0.9587</td>\n      <td>0.0000</td>\n      <td>0.0000</td>\n      <td>0.0000</td>\n      <td>0.0000</td>\n      <td>0.0000</td>\n      <td>2555</td>\n      <td>0</td>\n      <td>110</td>\n      <td>0</td>\n      <td>0.047935</td>\n    </tr>\n    <tr>\n      <th>Over-fit-Combined(SVM)</th>\n      <td>0.9583</td>\n      <td>0.0000</td>\n      <td>0.0000</td>\n      <td>0.0000</td>\n      <td>-0.0004</td>\n      <td>-0.0007</td>\n      <td>2554</td>\n      <td>1</td>\n      <td>110</td>\n      <td>0</td>\n      <td>0.047465</td>\n    </tr>\n  </tbody>\n</table>\n</div>"
     },
     "execution_count": 54,
     "metadata": {},
     "output_type": "execute_result"
    }
   ],
   "source": [
    "get_score('Over-fit-Combined')"
   ],
   "metadata": {
    "collapsed": false,
    "ExecuteTime": {
     "end_time": "2024-09-09T18:28:29.143671900Z",
     "start_time": "2024-09-09T18:28:29.088319Z"
    }
   },
   "id": "eda2135ac5a5d6bb"
  },
  {
   "cell_type": "code",
   "execution_count": 55,
   "outputs": [
    {
     "data": {
      "text/plain": "                          Accuracy  Precision  Recall  F1-score     TSS  \\\nUnder-fit-Combined(DT)      0.9542     0.4063  0.2364    0.2989  0.2215   \nUnder-fit-Combined(GB)      0.9568     0.4444  0.1818    0.2580  0.1720   \nUnder-fit-Combined(RF)      0.9595     0.5625  0.0818    0.1428  0.0791   \nUnder-fit-Combined(CNN)     0.9580     0.4000  0.0364    0.0667  0.0340   \nUnder-fit-Combined(SVM)     0.9587     0.0000  0.0000    0.0000  0.0000   \nUnder-fit-Combined(LSTM)    0.9583     0.0000  0.0000    0.0000 -0.0004   \n\n                             HSS    TN  FP   FN  TP     score  \nUnder-fit-Combined(DT)    0.2769  2517  38   84  26  0.830800  \nUnder-fit-Combined(GB)    0.2398  2530  25   90  20  0.734400  \nUnder-fit-Combined(RF)    0.1338  2548   7  101   9  0.532075  \nUnder-fit-Combined(CNN)   0.0602  2549   6  106   4  0.325200  \nUnder-fit-Combined(SVM)   0.0000  2555   0  110   0  0.047935  \nUnder-fit-Combined(LSTM) -0.0007  2554   1  110   0  0.047465  ",
      "text/html": "<div>\n<style scoped>\n    .dataframe tbody tr th:only-of-type {\n        vertical-align: middle;\n    }\n\n    .dataframe tbody tr th {\n        vertical-align: top;\n    }\n\n    .dataframe thead th {\n        text-align: right;\n    }\n</style>\n<table border=\"1\" class=\"dataframe\">\n  <thead>\n    <tr style=\"text-align: right;\">\n      <th></th>\n      <th>Accuracy</th>\n      <th>Precision</th>\n      <th>Recall</th>\n      <th>F1-score</th>\n      <th>TSS</th>\n      <th>HSS</th>\n      <th>TN</th>\n      <th>FP</th>\n      <th>FN</th>\n      <th>TP</th>\n      <th>score</th>\n    </tr>\n  </thead>\n  <tbody>\n    <tr>\n      <th>Under-fit-Combined(DT)</th>\n      <td>0.9542</td>\n      <td>0.4063</td>\n      <td>0.2364</td>\n      <td>0.2989</td>\n      <td>0.2215</td>\n      <td>0.2769</td>\n      <td>2517</td>\n      <td>38</td>\n      <td>84</td>\n      <td>26</td>\n      <td>0.830800</td>\n    </tr>\n    <tr>\n      <th>Under-fit-Combined(GB)</th>\n      <td>0.9568</td>\n      <td>0.4444</td>\n      <td>0.1818</td>\n      <td>0.2580</td>\n      <td>0.1720</td>\n      <td>0.2398</td>\n      <td>2530</td>\n      <td>25</td>\n      <td>90</td>\n      <td>20</td>\n      <td>0.734400</td>\n    </tr>\n    <tr>\n      <th>Under-fit-Combined(RF)</th>\n      <td>0.9595</td>\n      <td>0.5625</td>\n      <td>0.0818</td>\n      <td>0.1428</td>\n      <td>0.0791</td>\n      <td>0.1338</td>\n      <td>2548</td>\n      <td>7</td>\n      <td>101</td>\n      <td>9</td>\n      <td>0.532075</td>\n    </tr>\n    <tr>\n      <th>Under-fit-Combined(CNN)</th>\n      <td>0.9580</td>\n      <td>0.4000</td>\n      <td>0.0364</td>\n      <td>0.0667</td>\n      <td>0.0340</td>\n      <td>0.0602</td>\n      <td>2549</td>\n      <td>6</td>\n      <td>106</td>\n      <td>4</td>\n      <td>0.325200</td>\n    </tr>\n    <tr>\n      <th>Under-fit-Combined(SVM)</th>\n      <td>0.9587</td>\n      <td>0.0000</td>\n      <td>0.0000</td>\n      <td>0.0000</td>\n      <td>0.0000</td>\n      <td>0.0000</td>\n      <td>2555</td>\n      <td>0</td>\n      <td>110</td>\n      <td>0</td>\n      <td>0.047935</td>\n    </tr>\n    <tr>\n      <th>Under-fit-Combined(LSTM)</th>\n      <td>0.9583</td>\n      <td>0.0000</td>\n      <td>0.0000</td>\n      <td>0.0000</td>\n      <td>-0.0004</td>\n      <td>-0.0007</td>\n      <td>2554</td>\n      <td>1</td>\n      <td>110</td>\n      <td>0</td>\n      <td>0.047465</td>\n    </tr>\n  </tbody>\n</table>\n</div>"
     },
     "execution_count": 55,
     "metadata": {},
     "output_type": "execute_result"
    }
   ],
   "source": [
    "get_score('Under-fit-Combined')"
   ],
   "metadata": {
    "collapsed": false,
    "ExecuteTime": {
     "end_time": "2024-09-09T18:28:30.473322800Z",
     "start_time": "2024-09-09T18:28:30.435142400Z"
    }
   },
   "id": "6129877aa6b8b913"
  },
  {
   "cell_type": "markdown",
   "source": [
    "# ALL"
   ],
   "metadata": {
    "collapsed": false
   },
   "id": "a92e098dda4c4308"
  },
  {
   "cell_type": "code",
   "execution_count": 56,
   "outputs": [
    {
     "data": {
      "text/plain": "                         Accuracy  Precision  Recall  F1-score     TSS  \\\nBaseline-Combined(DT)      0.9403     0.2975  0.3273    0.3117  0.2940   \nBaseline-SHARP(DT)         0.9513     0.2576  0.3036    0.2787  0.2756   \nBaseline-Sunspot(DT)       0.9245     0.2368  0.2869    0.2595  0.2422   \nBaseline-Sunspot(RF)       0.9555     0.5614  0.1574    0.2459  0.1514   \nBaseline-Sunspot(GB)       0.9562     0.6535  0.1082    0.1857  0.1054   \nBaseline-SHARP(RF)         0.9696     0.5455  0.1071    0.1790  0.1043   \nBaseline-SHARP(GB)         0.9696     0.5500  0.0982    0.1666  0.0956   \nBaseline-Combined(RF)      0.9598     0.5882  0.0909    0.1575  0.0882   \nBaseline-Sunspot(LSTM)     0.9550     0.5904  0.0803    0.1414  0.0776   \nBaseline-Combined(LSTM)    0.9595     0.6000  0.0545    0.0999  0.0530   \nBaseline-Combined(GB)      0.9587     0.5000  0.0636    0.1128  0.0609   \nBaseline-Sunspot(CNN)      0.9546     0.6250  0.0410    0.0770  0.0398   \nBaseline-Sunspot(SVM)      0.9546     0.6452  0.0328    0.0624  0.0319   \nBaseline-SHARP(CNN)        0.9693     0.5714  0.0357    0.0672  0.0349   \nBaseline-Combined(CNN)     0.9587     0.5000  0.0182    0.0351  0.0174   \nBaseline-SHARP(SVM)        0.9690     0.5000  0.0089    0.0175  0.0086   \nBaseline-SHARP(LSTM)       0.9688     0.4000  0.0179    0.0343  0.0170   \nBaseline-Combined(SVM)     0.9583     0.0000  0.0000    0.0000 -0.0004   \n\n                            HSS     TN   FP   FN   TP     score  \nBaseline-Combined(DT)    0.2806   2470   85   74   36  0.905065  \nBaseline-SHARP(DT)       0.2537   3407   98   78   34  0.827555  \nBaseline-Sunspot(DT)     0.2200  12050  564  435  175  0.760695  \nBaseline-Sunspot(RF)     0.2303  12539   75  514   96  0.739165  \nBaseline-Sunspot(GB)     0.1748  12579   35  544   66  0.649190  \nBaseline-SHARP(RF)       0.1707   3495   10  100   12  0.598640  \nBaseline-SHARP(GB)       0.1588   3496    9  101   11  0.575500  \nBaseline-Combined(RF)    0.1481   2548    7  100   10  0.570250  \nBaseline-Sunspot(LSTM)   0.1318  12580   34  561   49  0.539340  \nBaseline-Combined(LSTM)  0.0938   2551    4  104    6  0.465985  \nBaseline-Combined(GB)    0.1046   2548    7  103    7  0.450615  \nBaseline-Sunspot(CNN)    0.0717  12599   15  585   25  0.433420  \nBaseline-Sunspot(SVM)    0.0582  12603   11  590   20  0.415290  \nBaseline-SHARP(CNN)      0.0638   3502    3  108    4  0.395855  \nBaseline-Combined(CNN)   0.0323   2553    2  108    2  0.308885  \nBaseline-SHARP(SVM)      0.0165   3504    1  111    1  0.278790  \nBaseline-SHARP(LSTM)     0.0316   3502    3  110    2  0.268090  \nBaseline-Combined(SVM)  -0.0007   2554    1  110    0  0.047465  ",
      "text/html": "<div>\n<style scoped>\n    .dataframe tbody tr th:only-of-type {\n        vertical-align: middle;\n    }\n\n    .dataframe tbody tr th {\n        vertical-align: top;\n    }\n\n    .dataframe thead th {\n        text-align: right;\n    }\n</style>\n<table border=\"1\" class=\"dataframe\">\n  <thead>\n    <tr style=\"text-align: right;\">\n      <th></th>\n      <th>Accuracy</th>\n      <th>Precision</th>\n      <th>Recall</th>\n      <th>F1-score</th>\n      <th>TSS</th>\n      <th>HSS</th>\n      <th>TN</th>\n      <th>FP</th>\n      <th>FN</th>\n      <th>TP</th>\n      <th>score</th>\n    </tr>\n  </thead>\n  <tbody>\n    <tr>\n      <th>Baseline-Combined(DT)</th>\n      <td>0.9403</td>\n      <td>0.2975</td>\n      <td>0.3273</td>\n      <td>0.3117</td>\n      <td>0.2940</td>\n      <td>0.2806</td>\n      <td>2470</td>\n      <td>85</td>\n      <td>74</td>\n      <td>36</td>\n      <td>0.905065</td>\n    </tr>\n    <tr>\n      <th>Baseline-SHARP(DT)</th>\n      <td>0.9513</td>\n      <td>0.2576</td>\n      <td>0.3036</td>\n      <td>0.2787</td>\n      <td>0.2756</td>\n      <td>0.2537</td>\n      <td>3407</td>\n      <td>98</td>\n      <td>78</td>\n      <td>34</td>\n      <td>0.827555</td>\n    </tr>\n    <tr>\n      <th>Baseline-Sunspot(DT)</th>\n      <td>0.9245</td>\n      <td>0.2368</td>\n      <td>0.2869</td>\n      <td>0.2595</td>\n      <td>0.2422</td>\n      <td>0.2200</td>\n      <td>12050</td>\n      <td>564</td>\n      <td>435</td>\n      <td>175</td>\n      <td>0.760695</td>\n    </tr>\n    <tr>\n      <th>Baseline-Sunspot(RF)</th>\n      <td>0.9555</td>\n      <td>0.5614</td>\n      <td>0.1574</td>\n      <td>0.2459</td>\n      <td>0.1514</td>\n      <td>0.2303</td>\n      <td>12539</td>\n      <td>75</td>\n      <td>514</td>\n      <td>96</td>\n      <td>0.739165</td>\n    </tr>\n    <tr>\n      <th>Baseline-Sunspot(GB)</th>\n      <td>0.9562</td>\n      <td>0.6535</td>\n      <td>0.1082</td>\n      <td>0.1857</td>\n      <td>0.1054</td>\n      <td>0.1748</td>\n      <td>12579</td>\n      <td>35</td>\n      <td>544</td>\n      <td>66</td>\n      <td>0.649190</td>\n    </tr>\n    <tr>\n      <th>Baseline-SHARP(RF)</th>\n      <td>0.9696</td>\n      <td>0.5455</td>\n      <td>0.1071</td>\n      <td>0.1790</td>\n      <td>0.1043</td>\n      <td>0.1707</td>\n      <td>3495</td>\n      <td>10</td>\n      <td>100</td>\n      <td>12</td>\n      <td>0.598640</td>\n    </tr>\n    <tr>\n      <th>Baseline-SHARP(GB)</th>\n      <td>0.9696</td>\n      <td>0.5500</td>\n      <td>0.0982</td>\n      <td>0.1666</td>\n      <td>0.0956</td>\n      <td>0.1588</td>\n      <td>3496</td>\n      <td>9</td>\n      <td>101</td>\n      <td>11</td>\n      <td>0.575500</td>\n    </tr>\n    <tr>\n      <th>Baseline-Combined(RF)</th>\n      <td>0.9598</td>\n      <td>0.5882</td>\n      <td>0.0909</td>\n      <td>0.1575</td>\n      <td>0.0882</td>\n      <td>0.1481</td>\n      <td>2548</td>\n      <td>7</td>\n      <td>100</td>\n      <td>10</td>\n      <td>0.570250</td>\n    </tr>\n    <tr>\n      <th>Baseline-Sunspot(LSTM)</th>\n      <td>0.9550</td>\n      <td>0.5904</td>\n      <td>0.0803</td>\n      <td>0.1414</td>\n      <td>0.0776</td>\n      <td>0.1318</td>\n      <td>12580</td>\n      <td>34</td>\n      <td>561</td>\n      <td>49</td>\n      <td>0.539340</td>\n    </tr>\n    <tr>\n      <th>Baseline-Combined(LSTM)</th>\n      <td>0.9595</td>\n      <td>0.6000</td>\n      <td>0.0545</td>\n      <td>0.0999</td>\n      <td>0.0530</td>\n      <td>0.0938</td>\n      <td>2551</td>\n      <td>4</td>\n      <td>104</td>\n      <td>6</td>\n      <td>0.465985</td>\n    </tr>\n    <tr>\n      <th>Baseline-Combined(GB)</th>\n      <td>0.9587</td>\n      <td>0.5000</td>\n      <td>0.0636</td>\n      <td>0.1128</td>\n      <td>0.0609</td>\n      <td>0.1046</td>\n      <td>2548</td>\n      <td>7</td>\n      <td>103</td>\n      <td>7</td>\n      <td>0.450615</td>\n    </tr>\n    <tr>\n      <th>Baseline-Sunspot(CNN)</th>\n      <td>0.9546</td>\n      <td>0.6250</td>\n      <td>0.0410</td>\n      <td>0.0770</td>\n      <td>0.0398</td>\n      <td>0.0717</td>\n      <td>12599</td>\n      <td>15</td>\n      <td>585</td>\n      <td>25</td>\n      <td>0.433420</td>\n    </tr>\n    <tr>\n      <th>Baseline-Sunspot(SVM)</th>\n      <td>0.9546</td>\n      <td>0.6452</td>\n      <td>0.0328</td>\n      <td>0.0624</td>\n      <td>0.0319</td>\n      <td>0.0582</td>\n      <td>12603</td>\n      <td>11</td>\n      <td>590</td>\n      <td>20</td>\n      <td>0.415290</td>\n    </tr>\n    <tr>\n      <th>Baseline-SHARP(CNN)</th>\n      <td>0.9693</td>\n      <td>0.5714</td>\n      <td>0.0357</td>\n      <td>0.0672</td>\n      <td>0.0349</td>\n      <td>0.0638</td>\n      <td>3502</td>\n      <td>3</td>\n      <td>108</td>\n      <td>4</td>\n      <td>0.395855</td>\n    </tr>\n    <tr>\n      <th>Baseline-Combined(CNN)</th>\n      <td>0.9587</td>\n      <td>0.5000</td>\n      <td>0.0182</td>\n      <td>0.0351</td>\n      <td>0.0174</td>\n      <td>0.0323</td>\n      <td>2553</td>\n      <td>2</td>\n      <td>108</td>\n      <td>2</td>\n      <td>0.308885</td>\n    </tr>\n    <tr>\n      <th>Baseline-SHARP(SVM)</th>\n      <td>0.9690</td>\n      <td>0.5000</td>\n      <td>0.0089</td>\n      <td>0.0175</td>\n      <td>0.0086</td>\n      <td>0.0165</td>\n      <td>3504</td>\n      <td>1</td>\n      <td>111</td>\n      <td>1</td>\n      <td>0.278790</td>\n    </tr>\n    <tr>\n      <th>Baseline-SHARP(LSTM)</th>\n      <td>0.9688</td>\n      <td>0.4000</td>\n      <td>0.0179</td>\n      <td>0.0343</td>\n      <td>0.0170</td>\n      <td>0.0316</td>\n      <td>3502</td>\n      <td>3</td>\n      <td>110</td>\n      <td>2</td>\n      <td>0.268090</td>\n    </tr>\n    <tr>\n      <th>Baseline-Combined(SVM)</th>\n      <td>0.9583</td>\n      <td>0.0000</td>\n      <td>0.0000</td>\n      <td>0.0000</td>\n      <td>-0.0004</td>\n      <td>-0.0007</td>\n      <td>2554</td>\n      <td>1</td>\n      <td>110</td>\n      <td>0</td>\n      <td>0.047465</td>\n    </tr>\n  </tbody>\n</table>\n</div>"
     },
     "execution_count": 56,
     "metadata": {},
     "output_type": "execute_result"
    }
   ],
   "source": [
    "get_score('Baseline')"
   ],
   "metadata": {
    "collapsed": false,
    "ExecuteTime": {
     "end_time": "2024-09-09T18:45:01.835556500Z",
     "start_time": "2024-09-09T18:45:01.742895800Z"
    }
   },
   "id": "ce26ef1d1227b706"
  },
  {
   "cell_type": "code",
   "execution_count": 61,
   "outputs": [
    {
     "data": {
      "text/plain": "                           Accuracy  Precision  Recall  F1-score     TSS  \\\nEnsemble-Combined(VC)        0.9433     0.3084  0.3000    0.3041  0.2710   \nEnsemble-SHARP(VC)           0.9530     0.2661  0.2946    0.2796  0.2687   \nEnsemble-Sunspot(SC/SVM)     0.9560     0.5805  0.1656    0.2577  0.1598   \nEnsemble-Sunspot(VC)         0.9242     0.2308  0.2754    0.2511  0.2310   \nEnsemble-Sunspot(SC/RF)      0.9352     0.2742  0.2459    0.2593  0.2144   \nEnsemble-Sunspot(BC)         0.9533     0.4831  0.1639    0.2448  0.1555   \nEnsemble-Sunspot(SC/GB)      0.9343     0.2615  0.2328    0.2463  0.2010   \nEnsemble-Combined(BC)        0.9602     0.5769  0.1364    0.2206  0.1321   \nEnsemble-Sunspot(SC/DT)      0.9335     0.2536  0.2279    0.2401  0.1954   \nEnsemble-Combined(SC/RF)     0.9565     0.4211  0.1455    0.2163  0.1368   \nEnsemble-SHARP(BC)           0.9679     0.4375  0.1250    0.1944  0.1199   \nEnsemble-SHARP(SC/DT)        0.9690     0.5000  0.0625    0.1111  0.0605   \nEnsemble-Combined(SC/GB)     0.9587     0.5000  0.0545    0.0983  0.0522   \nEnsemble-SHARP(SC/RF)        0.9682     0.4118  0.0625    0.1085  0.0596   \nEnsemble-Combined(SC/DT)     0.9580     0.4286  0.0545    0.0967  0.0514   \nEnsemble-SHARP(SC/GB)        0.9693     0.6667  0.0179    0.0349  0.0176   \nEnsemble-SHARP(SC/SVM)       0.9690     0.0000  0.0000    0.0000  0.0000   \nEnsemble-Combined(SC/SVM)    0.9587     0.0000  0.0000    0.0000  0.0000   \n\n                              HSS     TN   FP   FN   TP     score  \nEnsemble-Combined(VC)      0.2746   2481   74   77   33  0.868785  \nEnsemble-SHARP(VC)         0.2554   3414   91   79   33  0.821830  \nEnsemble-Sunspot(SC/SVM)   0.2421  12541   73  509  101  0.770590  \nEnsemble-Sunspot(VC)       0.2115  12054  560  442  168  0.734240  \nEnsemble-Sunspot(SC/RF)    0.2255  12217  397  460  150  0.732300  \nEnsemble-Sunspot(BC)       0.2267  12507  107  510  100  0.712785  \nEnsemble-Sunspot(SC/GB)    0.2121  12213  401  468  142  0.695545  \nEnsemble-Combined(BC)      0.2081   2544   11   95   15  0.692420  \nEnsemble-Sunspot(SC/DT)    0.2054  12205  409  471  139  0.678585  \nEnsemble-Combined(SC/RF)   0.1992   2533   22   94   16  0.632995  \nEnsemble-SHARP(BC)         0.1832   3487   18   98   14  0.593315  \nEnsemble-SHARP(SC/DT)      0.1050   3498    7  105    7  0.448880  \nEnsemble-Combined(SC/GB)   0.0910   2549    6  104    6  0.423345  \nEnsemble-SHARP(SC/RF)      0.1012   3495   10  105    7  0.409800  \nEnsemble-Combined(SC/DT)   0.0883   2547    8  104    6  0.392180  \nEnsemble-SHARP(SC/GB)      0.0332   3504    1  110    2  0.376115  \nEnsemble-SHARP(SC/SVM)     0.0000   3505    0  112    0  0.048450  \nEnsemble-Combined(SC/SVM)  0.0000   2555    0  110    0  0.047935  ",
      "text/html": "<div>\n<style scoped>\n    .dataframe tbody tr th:only-of-type {\n        vertical-align: middle;\n    }\n\n    .dataframe tbody tr th {\n        vertical-align: top;\n    }\n\n    .dataframe thead th {\n        text-align: right;\n    }\n</style>\n<table border=\"1\" class=\"dataframe\">\n  <thead>\n    <tr style=\"text-align: right;\">\n      <th></th>\n      <th>Accuracy</th>\n      <th>Precision</th>\n      <th>Recall</th>\n      <th>F1-score</th>\n      <th>TSS</th>\n      <th>HSS</th>\n      <th>TN</th>\n      <th>FP</th>\n      <th>FN</th>\n      <th>TP</th>\n      <th>score</th>\n    </tr>\n  </thead>\n  <tbody>\n    <tr>\n      <th>Ensemble-Combined(VC)</th>\n      <td>0.9433</td>\n      <td>0.3084</td>\n      <td>0.3000</td>\n      <td>0.3041</td>\n      <td>0.2710</td>\n      <td>0.2746</td>\n      <td>2481</td>\n      <td>74</td>\n      <td>77</td>\n      <td>33</td>\n      <td>0.868785</td>\n    </tr>\n    <tr>\n      <th>Ensemble-SHARP(VC)</th>\n      <td>0.9530</td>\n      <td>0.2661</td>\n      <td>0.2946</td>\n      <td>0.2796</td>\n      <td>0.2687</td>\n      <td>0.2554</td>\n      <td>3414</td>\n      <td>91</td>\n      <td>79</td>\n      <td>33</td>\n      <td>0.821830</td>\n    </tr>\n    <tr>\n      <th>Ensemble-Sunspot(SC/SVM)</th>\n      <td>0.9560</td>\n      <td>0.5805</td>\n      <td>0.1656</td>\n      <td>0.2577</td>\n      <td>0.1598</td>\n      <td>0.2421</td>\n      <td>12541</td>\n      <td>73</td>\n      <td>509</td>\n      <td>101</td>\n      <td>0.770590</td>\n    </tr>\n    <tr>\n      <th>Ensemble-Sunspot(VC)</th>\n      <td>0.9242</td>\n      <td>0.2308</td>\n      <td>0.2754</td>\n      <td>0.2511</td>\n      <td>0.2310</td>\n      <td>0.2115</td>\n      <td>12054</td>\n      <td>560</td>\n      <td>442</td>\n      <td>168</td>\n      <td>0.734240</td>\n    </tr>\n    <tr>\n      <th>Ensemble-Sunspot(SC/RF)</th>\n      <td>0.9352</td>\n      <td>0.2742</td>\n      <td>0.2459</td>\n      <td>0.2593</td>\n      <td>0.2144</td>\n      <td>0.2255</td>\n      <td>12217</td>\n      <td>397</td>\n      <td>460</td>\n      <td>150</td>\n      <td>0.732300</td>\n    </tr>\n    <tr>\n      <th>Ensemble-Sunspot(BC)</th>\n      <td>0.9533</td>\n      <td>0.4831</td>\n      <td>0.1639</td>\n      <td>0.2448</td>\n      <td>0.1555</td>\n      <td>0.2267</td>\n      <td>12507</td>\n      <td>107</td>\n      <td>510</td>\n      <td>100</td>\n      <td>0.712785</td>\n    </tr>\n    <tr>\n      <th>Ensemble-Sunspot(SC/GB)</th>\n      <td>0.9343</td>\n      <td>0.2615</td>\n      <td>0.2328</td>\n      <td>0.2463</td>\n      <td>0.2010</td>\n      <td>0.2121</td>\n      <td>12213</td>\n      <td>401</td>\n      <td>468</td>\n      <td>142</td>\n      <td>0.695545</td>\n    </tr>\n    <tr>\n      <th>Ensemble-Combined(BC)</th>\n      <td>0.9602</td>\n      <td>0.5769</td>\n      <td>0.1364</td>\n      <td>0.2206</td>\n      <td>0.1321</td>\n      <td>0.2081</td>\n      <td>2544</td>\n      <td>11</td>\n      <td>95</td>\n      <td>15</td>\n      <td>0.692420</td>\n    </tr>\n    <tr>\n      <th>Ensemble-Sunspot(SC/DT)</th>\n      <td>0.9335</td>\n      <td>0.2536</td>\n      <td>0.2279</td>\n      <td>0.2401</td>\n      <td>0.1954</td>\n      <td>0.2054</td>\n      <td>12205</td>\n      <td>409</td>\n      <td>471</td>\n      <td>139</td>\n      <td>0.678585</td>\n    </tr>\n    <tr>\n      <th>Ensemble-Combined(SC/RF)</th>\n      <td>0.9565</td>\n      <td>0.4211</td>\n      <td>0.1455</td>\n      <td>0.2163</td>\n      <td>0.1368</td>\n      <td>0.1992</td>\n      <td>2533</td>\n      <td>22</td>\n      <td>94</td>\n      <td>16</td>\n      <td>0.632995</td>\n    </tr>\n    <tr>\n      <th>Ensemble-SHARP(BC)</th>\n      <td>0.9679</td>\n      <td>0.4375</td>\n      <td>0.1250</td>\n      <td>0.1944</td>\n      <td>0.1199</td>\n      <td>0.1832</td>\n      <td>3487</td>\n      <td>18</td>\n      <td>98</td>\n      <td>14</td>\n      <td>0.593315</td>\n    </tr>\n    <tr>\n      <th>Ensemble-SHARP(SC/DT)</th>\n      <td>0.9690</td>\n      <td>0.5000</td>\n      <td>0.0625</td>\n      <td>0.1111</td>\n      <td>0.0605</td>\n      <td>0.1050</td>\n      <td>3498</td>\n      <td>7</td>\n      <td>105</td>\n      <td>7</td>\n      <td>0.448880</td>\n    </tr>\n    <tr>\n      <th>Ensemble-Combined(SC/GB)</th>\n      <td>0.9587</td>\n      <td>0.5000</td>\n      <td>0.0545</td>\n      <td>0.0983</td>\n      <td>0.0522</td>\n      <td>0.0910</td>\n      <td>2549</td>\n      <td>6</td>\n      <td>104</td>\n      <td>6</td>\n      <td>0.423345</td>\n    </tr>\n    <tr>\n      <th>Ensemble-SHARP(SC/RF)</th>\n      <td>0.9682</td>\n      <td>0.4118</td>\n      <td>0.0625</td>\n      <td>0.1085</td>\n      <td>0.0596</td>\n      <td>0.1012</td>\n      <td>3495</td>\n      <td>10</td>\n      <td>105</td>\n      <td>7</td>\n      <td>0.409800</td>\n    </tr>\n    <tr>\n      <th>Ensemble-Combined(SC/DT)</th>\n      <td>0.9580</td>\n      <td>0.4286</td>\n      <td>0.0545</td>\n      <td>0.0967</td>\n      <td>0.0514</td>\n      <td>0.0883</td>\n      <td>2547</td>\n      <td>8</td>\n      <td>104</td>\n      <td>6</td>\n      <td>0.392180</td>\n    </tr>\n    <tr>\n      <th>Ensemble-SHARP(SC/GB)</th>\n      <td>0.9693</td>\n      <td>0.6667</td>\n      <td>0.0179</td>\n      <td>0.0349</td>\n      <td>0.0176</td>\n      <td>0.0332</td>\n      <td>3504</td>\n      <td>1</td>\n      <td>110</td>\n      <td>2</td>\n      <td>0.376115</td>\n    </tr>\n    <tr>\n      <th>Ensemble-SHARP(SC/SVM)</th>\n      <td>0.9690</td>\n      <td>0.0000</td>\n      <td>0.0000</td>\n      <td>0.0000</td>\n      <td>0.0000</td>\n      <td>0.0000</td>\n      <td>3505</td>\n      <td>0</td>\n      <td>112</td>\n      <td>0</td>\n      <td>0.048450</td>\n    </tr>\n    <tr>\n      <th>Ensemble-Combined(SC/SVM)</th>\n      <td>0.9587</td>\n      <td>0.0000</td>\n      <td>0.0000</td>\n      <td>0.0000</td>\n      <td>0.0000</td>\n      <td>0.0000</td>\n      <td>2555</td>\n      <td>0</td>\n      <td>110</td>\n      <td>0</td>\n      <td>0.047935</td>\n    </tr>\n  </tbody>\n</table>\n</div>"
     },
     "execution_count": 61,
     "metadata": {},
     "output_type": "execute_result"
    }
   ],
   "source": [
    "get_score('Ensemble')"
   ],
   "metadata": {
    "collapsed": false,
    "ExecuteTime": {
     "end_time": "2024-09-09T22:22:05.804958600Z",
     "start_time": "2024-09-09T22:22:05.751957300Z"
    }
   },
   "id": "e127ebc5b3ce6e5b"
  },
  {
   "cell_type": "code",
   "execution_count": 64,
   "outputs": [
    {
     "data": {
      "text/plain": "                            Accuracy  Precision  Recall  F1-score     TSS  \\\nOver-sample-Combined(LSTM)    0.8101     0.1678  0.9091    0.2833  0.7150   \nOver-sample-Combined(SVM)     0.8334     0.1788  0.8455    0.2952  0.6783   \nOver-sample-Combined(CNN)     0.7749     0.1449  0.9091    0.2500  0.6782   \nOver-sample-SHARP(SVM)        0.8446     0.1495  0.8571    0.2546  0.7014   \nOver-sample-Combined(GB)      0.8923     0.2358  0.7182    0.3550  0.6180   \nOver-sample-SHARP(CNN)        0.8289     0.1363  0.8482    0.2349  0.6765   \nOver-sample-SHARP(LSTM)       0.8408     0.1420  0.8214    0.2421  0.6628   \nOver-sample-Sunspot(GB)       0.8352     0.1861  0.7623    0.2992  0.6010   \nOver-sample-Sunspot(CNN)      0.7812     0.1539  0.8328    0.2598  0.6114   \nOver-sample-Sunspot(LSTM)     0.7804     0.1520  0.8213    0.2565  0.5997   \nOver-sample-Sunspot(SVM)      0.7752     0.1489  0.8213    0.2521  0.5943   \nOver-sample-SHARP(GB)         0.8897     0.1775  0.7054    0.2836  0.6009   \nOver-sample-SHARP(RF)         0.9422     0.2723  0.5179    0.3569  0.4736   \nOver-sample-Combined(RF)      0.9358     0.3057  0.4364    0.3595  0.3937   \nOver-sample-Sunspot(RF)       0.9307     0.2993  0.3754    0.3331  0.3329   \nOver-sample-Combined(DT)      0.8987     0.1748  0.3909    0.2416  0.3115   \nOver-sample-Sunspot(DT)       0.9176     0.2300  0.3344    0.2725  0.2803   \nOver-sample-SHARP(DT)         0.9077     0.1396  0.3839    0.2047  0.3083   \n\n                               HSS     TN    FP   FN   TP     score  \nOver-sample-Combined(LSTM)  0.2296   2059   496   10  100  1.468515  \nOver-sample-Combined(SVM)   0.2437   2128   427   17   93  1.421290  \nOver-sample-Combined(CNN)   0.1925   1965   590   10  100  1.397745  \nOver-sample-SHARP(SVM)      0.2132   2959   546   16   96  1.390480  \nOver-sample-Combined(GB)    0.3123   2299   256   31   79  1.390165  \nOver-sample-SHARP(CNN)      0.1917   2903   602   17   95  1.341035  \nOver-sample-SHARP(LSTM)     0.1999   2949   556   20   92  1.325150  \nOver-sample-Sunspot(GB)     0.2430  10580  2034  145  465  1.322670  \nOver-sample-Sunspot(CNN)    0.1973   9822  2792  102  508  1.317450  \nOver-sample-Sunspot(LSTM)   0.1938   9819  2795  109  501  1.297890  \nOver-sample-Sunspot(SVM)    0.1887   9750  2864  109  501  1.288100  \nOver-sample-SHARP(GB)       0.2464   3139   366   33   79  1.270605  \nOver-sample-SHARP(RF)       0.3297   3350   155   54   58  1.187150  \nOver-sample-Combined(RF)    0.3269   2446   109   62   48  1.096440  \nOver-sample-Sunspot(RF)     0.2970  12078   536  381  229  0.984355  \nOver-sample-Combined(DT)    0.1957   2352   203   67   43  0.827375  \nOver-sample-Sunspot(DT)     0.2305  11931   683  406  204  0.827290  \nOver-sample-SHARP(DT)       0.1669   3240   265   69   43  0.768765  ",
      "text/html": "<div>\n<style scoped>\n    .dataframe tbody tr th:only-of-type {\n        vertical-align: middle;\n    }\n\n    .dataframe tbody tr th {\n        vertical-align: top;\n    }\n\n    .dataframe thead th {\n        text-align: right;\n    }\n</style>\n<table border=\"1\" class=\"dataframe\">\n  <thead>\n    <tr style=\"text-align: right;\">\n      <th></th>\n      <th>Accuracy</th>\n      <th>Precision</th>\n      <th>Recall</th>\n      <th>F1-score</th>\n      <th>TSS</th>\n      <th>HSS</th>\n      <th>TN</th>\n      <th>FP</th>\n      <th>FN</th>\n      <th>TP</th>\n      <th>score</th>\n    </tr>\n  </thead>\n  <tbody>\n    <tr>\n      <th>Over-sample-Combined(LSTM)</th>\n      <td>0.8101</td>\n      <td>0.1678</td>\n      <td>0.9091</td>\n      <td>0.2833</td>\n      <td>0.7150</td>\n      <td>0.2296</td>\n      <td>2059</td>\n      <td>496</td>\n      <td>10</td>\n      <td>100</td>\n      <td>1.468515</td>\n    </tr>\n    <tr>\n      <th>Over-sample-Combined(SVM)</th>\n      <td>0.8334</td>\n      <td>0.1788</td>\n      <td>0.8455</td>\n      <td>0.2952</td>\n      <td>0.6783</td>\n      <td>0.2437</td>\n      <td>2128</td>\n      <td>427</td>\n      <td>17</td>\n      <td>93</td>\n      <td>1.421290</td>\n    </tr>\n    <tr>\n      <th>Over-sample-Combined(CNN)</th>\n      <td>0.7749</td>\n      <td>0.1449</td>\n      <td>0.9091</td>\n      <td>0.2500</td>\n      <td>0.6782</td>\n      <td>0.1925</td>\n      <td>1965</td>\n      <td>590</td>\n      <td>10</td>\n      <td>100</td>\n      <td>1.397745</td>\n    </tr>\n    <tr>\n      <th>Over-sample-SHARP(SVM)</th>\n      <td>0.8446</td>\n      <td>0.1495</td>\n      <td>0.8571</td>\n      <td>0.2546</td>\n      <td>0.7014</td>\n      <td>0.2132</td>\n      <td>2959</td>\n      <td>546</td>\n      <td>16</td>\n      <td>96</td>\n      <td>1.390480</td>\n    </tr>\n    <tr>\n      <th>Over-sample-Combined(GB)</th>\n      <td>0.8923</td>\n      <td>0.2358</td>\n      <td>0.7182</td>\n      <td>0.3550</td>\n      <td>0.6180</td>\n      <td>0.3123</td>\n      <td>2299</td>\n      <td>256</td>\n      <td>31</td>\n      <td>79</td>\n      <td>1.390165</td>\n    </tr>\n    <tr>\n      <th>Over-sample-SHARP(CNN)</th>\n      <td>0.8289</td>\n      <td>0.1363</td>\n      <td>0.8482</td>\n      <td>0.2349</td>\n      <td>0.6765</td>\n      <td>0.1917</td>\n      <td>2903</td>\n      <td>602</td>\n      <td>17</td>\n      <td>95</td>\n      <td>1.341035</td>\n    </tr>\n    <tr>\n      <th>Over-sample-SHARP(LSTM)</th>\n      <td>0.8408</td>\n      <td>0.1420</td>\n      <td>0.8214</td>\n      <td>0.2421</td>\n      <td>0.6628</td>\n      <td>0.1999</td>\n      <td>2949</td>\n      <td>556</td>\n      <td>20</td>\n      <td>92</td>\n      <td>1.325150</td>\n    </tr>\n    <tr>\n      <th>Over-sample-Sunspot(GB)</th>\n      <td>0.8352</td>\n      <td>0.1861</td>\n      <td>0.7623</td>\n      <td>0.2992</td>\n      <td>0.6010</td>\n      <td>0.2430</td>\n      <td>10580</td>\n      <td>2034</td>\n      <td>145</td>\n      <td>465</td>\n      <td>1.322670</td>\n    </tr>\n    <tr>\n      <th>Over-sample-Sunspot(CNN)</th>\n      <td>0.7812</td>\n      <td>0.1539</td>\n      <td>0.8328</td>\n      <td>0.2598</td>\n      <td>0.6114</td>\n      <td>0.1973</td>\n      <td>9822</td>\n      <td>2792</td>\n      <td>102</td>\n      <td>508</td>\n      <td>1.317450</td>\n    </tr>\n    <tr>\n      <th>Over-sample-Sunspot(LSTM)</th>\n      <td>0.7804</td>\n      <td>0.1520</td>\n      <td>0.8213</td>\n      <td>0.2565</td>\n      <td>0.5997</td>\n      <td>0.1938</td>\n      <td>9819</td>\n      <td>2795</td>\n      <td>109</td>\n      <td>501</td>\n      <td>1.297890</td>\n    </tr>\n    <tr>\n      <th>Over-sample-Sunspot(SVM)</th>\n      <td>0.7752</td>\n      <td>0.1489</td>\n      <td>0.8213</td>\n      <td>0.2521</td>\n      <td>0.5943</td>\n      <td>0.1887</td>\n      <td>9750</td>\n      <td>2864</td>\n      <td>109</td>\n      <td>501</td>\n      <td>1.288100</td>\n    </tr>\n    <tr>\n      <th>Over-sample-SHARP(GB)</th>\n      <td>0.8897</td>\n      <td>0.1775</td>\n      <td>0.7054</td>\n      <td>0.2836</td>\n      <td>0.6009</td>\n      <td>0.2464</td>\n      <td>3139</td>\n      <td>366</td>\n      <td>33</td>\n      <td>79</td>\n      <td>1.270605</td>\n    </tr>\n    <tr>\n      <th>Over-sample-SHARP(RF)</th>\n      <td>0.9422</td>\n      <td>0.2723</td>\n      <td>0.5179</td>\n      <td>0.3569</td>\n      <td>0.4736</td>\n      <td>0.3297</td>\n      <td>3350</td>\n      <td>155</td>\n      <td>54</td>\n      <td>58</td>\n      <td>1.187150</td>\n    </tr>\n    <tr>\n      <th>Over-sample-Combined(RF)</th>\n      <td>0.9358</td>\n      <td>0.3057</td>\n      <td>0.4364</td>\n      <td>0.3595</td>\n      <td>0.3937</td>\n      <td>0.3269</td>\n      <td>2446</td>\n      <td>109</td>\n      <td>62</td>\n      <td>48</td>\n      <td>1.096440</td>\n    </tr>\n    <tr>\n      <th>Over-sample-Sunspot(RF)</th>\n      <td>0.9307</td>\n      <td>0.2993</td>\n      <td>0.3754</td>\n      <td>0.3331</td>\n      <td>0.3329</td>\n      <td>0.2970</td>\n      <td>12078</td>\n      <td>536</td>\n      <td>381</td>\n      <td>229</td>\n      <td>0.984355</td>\n    </tr>\n    <tr>\n      <th>Over-sample-Combined(DT)</th>\n      <td>0.8987</td>\n      <td>0.1748</td>\n      <td>0.3909</td>\n      <td>0.2416</td>\n      <td>0.3115</td>\n      <td>0.1957</td>\n      <td>2352</td>\n      <td>203</td>\n      <td>67</td>\n      <td>43</td>\n      <td>0.827375</td>\n    </tr>\n    <tr>\n      <th>Over-sample-Sunspot(DT)</th>\n      <td>0.9176</td>\n      <td>0.2300</td>\n      <td>0.3344</td>\n      <td>0.2725</td>\n      <td>0.2803</td>\n      <td>0.2305</td>\n      <td>11931</td>\n      <td>683</td>\n      <td>406</td>\n      <td>204</td>\n      <td>0.827290</td>\n    </tr>\n    <tr>\n      <th>Over-sample-SHARP(DT)</th>\n      <td>0.9077</td>\n      <td>0.1396</td>\n      <td>0.3839</td>\n      <td>0.2047</td>\n      <td>0.3083</td>\n      <td>0.1669</td>\n      <td>3240</td>\n      <td>265</td>\n      <td>69</td>\n      <td>43</td>\n      <td>0.768765</td>\n    </tr>\n  </tbody>\n</table>\n</div>"
     },
     "execution_count": 64,
     "metadata": {},
     "output_type": "execute_result"
    }
   ],
   "source": [
    "get_score('Over-sample')"
   ],
   "metadata": {
    "collapsed": false,
    "ExecuteTime": {
     "end_time": "2024-09-09T22:35:00.481736700Z",
     "start_time": "2024-09-09T22:35:00.407757600Z"
    }
   },
   "id": "ddff9b3591429380"
  },
  {
   "cell_type": "code",
   "execution_count": 65,
   "outputs": [
    {
     "data": {
      "text/plain": "                            Accuracy  Precision  Recall  F1-score     TSS  \\\nDown-sample-Combined(SVM)     0.7955     0.1542  0.8818    0.2625  0.6736   \nDown-sample-Combined(RF)      0.7944     0.1524  0.8727    0.2595  0.6637   \nDown-sample-Combined(CNN)     0.8664     0.2029  0.7636    0.3206  0.6345   \nDown-sample-Combined(GB)      0.7940     0.1521  0.8727    0.2591  0.6633   \nDown-sample-Combined(LSTM)    0.8180     0.1646  0.8364    0.2751  0.6536   \nDown-sample-SHARP(SVM)        0.8261     0.1333  0.8393    0.2301  0.6650   \nDown-sample-Sunspot(GB)       0.7755     0.1511  0.8377    0.2560  0.6102   \nDown-sample-SHARP(GB)         0.8349     0.1375  0.8214    0.2356  0.6568   \nDown-sample-Sunspot(RF)       0.7669     0.1452  0.8295    0.2471  0.5934   \nDown-sample-Sunspot(SVM)      0.7717     0.1467  0.8197    0.2489  0.5891   \nDown-sample-SHARP(RF)         0.8316     0.1329  0.8036    0.2281  0.6361   \nDown-sample-Sunspot(LSTM)     0.7683     0.1450  0.8213    0.2465  0.5870   \nDown-sample-Sunspot(CNN)      0.7371     0.1327  0.8492    0.2295  0.5808   \nDown-sample-SHARP(LSTM)       0.8416     0.1370  0.7768    0.2329  0.6204   \nDown-sample-SHARP(CNN)        0.8056     0.1187  0.8214    0.2074  0.6266   \nDown-sample-Combined(DT)      0.7295     0.1088  0.7727    0.1907  0.5003   \nDown-sample-Sunspot(DT)       0.7148     0.1071  0.7066    0.1860  0.4218   \nDown-sample-SHARP(DT)         0.7896     0.0887  0.6250    0.1554  0.4199   \n\n                               HSS    TN    FP   FN   TP     score  \nDown-sample-Combined(SVM)   0.2068  2023   532   13   97  1.394915  \nDown-sample-Combined(RF)    0.2035  2021   534   14   96  1.378440  \nDown-sample-Combined(CNN)   0.2732  2225   330   26   84  1.378140  \nDown-sample-Combined(GB)    0.2031  2020   535   14   96  1.377620  \nDown-sample-Combined(LSTM)  0.2213  2088   467   18   92  1.370850  \nDown-sample-SHARP(SVM)      0.1866  2894   611   18   94  1.321195  \nDown-sample-Sunspot(GB)     0.1930  9744  2870   99  511  1.314425  \nDown-sample-SHARP(GB)       0.1928  2928   577   20   92  1.312125  \nDown-sample-Sunspot(RF)     0.1831  9636  2978  104  506  1.285725  \nDown-sample-Sunspot(SVM)    0.1850  9705  2909  110  500  1.279135  \nDown-sample-SHARP(RF)       0.1848  2918   587   22   90  1.276840  \nDown-sample-Sunspot(LSTM)   0.1823  9659  2955  109  501  1.275415  \nDown-sample-Sunspot(CNN)    0.1628  9229  3385   92  518  1.265295  \nDown-sample-SHARP(LSTM)     0.1903  2957   548   25   87  1.256290  \nDown-sample-SHARP(CNN)      0.1621  2822   683   20   92  1.253250  \nDown-sample-Combined(DT)    0.1277  1859   696   25   85  1.111935  \nDown-sample-Sunspot(DT)     0.1152  9022  3592  179  431  1.009640  \nDown-sample-SHARP(DT)       0.1070  2786   719   42   70  0.920820  ",
      "text/html": "<div>\n<style scoped>\n    .dataframe tbody tr th:only-of-type {\n        vertical-align: middle;\n    }\n\n    .dataframe tbody tr th {\n        vertical-align: top;\n    }\n\n    .dataframe thead th {\n        text-align: right;\n    }\n</style>\n<table border=\"1\" class=\"dataframe\">\n  <thead>\n    <tr style=\"text-align: right;\">\n      <th></th>\n      <th>Accuracy</th>\n      <th>Precision</th>\n      <th>Recall</th>\n      <th>F1-score</th>\n      <th>TSS</th>\n      <th>HSS</th>\n      <th>TN</th>\n      <th>FP</th>\n      <th>FN</th>\n      <th>TP</th>\n      <th>score</th>\n    </tr>\n  </thead>\n  <tbody>\n    <tr>\n      <th>Down-sample-Combined(SVM)</th>\n      <td>0.7955</td>\n      <td>0.1542</td>\n      <td>0.8818</td>\n      <td>0.2625</td>\n      <td>0.6736</td>\n      <td>0.2068</td>\n      <td>2023</td>\n      <td>532</td>\n      <td>13</td>\n      <td>97</td>\n      <td>1.394915</td>\n    </tr>\n    <tr>\n      <th>Down-sample-Combined(RF)</th>\n      <td>0.7944</td>\n      <td>0.1524</td>\n      <td>0.8727</td>\n      <td>0.2595</td>\n      <td>0.6637</td>\n      <td>0.2035</td>\n      <td>2021</td>\n      <td>534</td>\n      <td>14</td>\n      <td>96</td>\n      <td>1.378440</td>\n    </tr>\n    <tr>\n      <th>Down-sample-Combined(CNN)</th>\n      <td>0.8664</td>\n      <td>0.2029</td>\n      <td>0.7636</td>\n      <td>0.3206</td>\n      <td>0.6345</td>\n      <td>0.2732</td>\n      <td>2225</td>\n      <td>330</td>\n      <td>26</td>\n      <td>84</td>\n      <td>1.378140</td>\n    </tr>\n    <tr>\n      <th>Down-sample-Combined(GB)</th>\n      <td>0.7940</td>\n      <td>0.1521</td>\n      <td>0.8727</td>\n      <td>0.2591</td>\n      <td>0.6633</td>\n      <td>0.2031</td>\n      <td>2020</td>\n      <td>535</td>\n      <td>14</td>\n      <td>96</td>\n      <td>1.377620</td>\n    </tr>\n    <tr>\n      <th>Down-sample-Combined(LSTM)</th>\n      <td>0.8180</td>\n      <td>0.1646</td>\n      <td>0.8364</td>\n      <td>0.2751</td>\n      <td>0.6536</td>\n      <td>0.2213</td>\n      <td>2088</td>\n      <td>467</td>\n      <td>18</td>\n      <td>92</td>\n      <td>1.370850</td>\n    </tr>\n    <tr>\n      <th>Down-sample-SHARP(SVM)</th>\n      <td>0.8261</td>\n      <td>0.1333</td>\n      <td>0.8393</td>\n      <td>0.2301</td>\n      <td>0.6650</td>\n      <td>0.1866</td>\n      <td>2894</td>\n      <td>611</td>\n      <td>18</td>\n      <td>94</td>\n      <td>1.321195</td>\n    </tr>\n    <tr>\n      <th>Down-sample-Sunspot(GB)</th>\n      <td>0.7755</td>\n      <td>0.1511</td>\n      <td>0.8377</td>\n      <td>0.2560</td>\n      <td>0.6102</td>\n      <td>0.1930</td>\n      <td>9744</td>\n      <td>2870</td>\n      <td>99</td>\n      <td>511</td>\n      <td>1.314425</td>\n    </tr>\n    <tr>\n      <th>Down-sample-SHARP(GB)</th>\n      <td>0.8349</td>\n      <td>0.1375</td>\n      <td>0.8214</td>\n      <td>0.2356</td>\n      <td>0.6568</td>\n      <td>0.1928</td>\n      <td>2928</td>\n      <td>577</td>\n      <td>20</td>\n      <td>92</td>\n      <td>1.312125</td>\n    </tr>\n    <tr>\n      <th>Down-sample-Sunspot(RF)</th>\n      <td>0.7669</td>\n      <td>0.1452</td>\n      <td>0.8295</td>\n      <td>0.2471</td>\n      <td>0.5934</td>\n      <td>0.1831</td>\n      <td>9636</td>\n      <td>2978</td>\n      <td>104</td>\n      <td>506</td>\n      <td>1.285725</td>\n    </tr>\n    <tr>\n      <th>Down-sample-Sunspot(SVM)</th>\n      <td>0.7717</td>\n      <td>0.1467</td>\n      <td>0.8197</td>\n      <td>0.2489</td>\n      <td>0.5891</td>\n      <td>0.1850</td>\n      <td>9705</td>\n      <td>2909</td>\n      <td>110</td>\n      <td>500</td>\n      <td>1.279135</td>\n    </tr>\n    <tr>\n      <th>Down-sample-SHARP(RF)</th>\n      <td>0.8316</td>\n      <td>0.1329</td>\n      <td>0.8036</td>\n      <td>0.2281</td>\n      <td>0.6361</td>\n      <td>0.1848</td>\n      <td>2918</td>\n      <td>587</td>\n      <td>22</td>\n      <td>90</td>\n      <td>1.276840</td>\n    </tr>\n    <tr>\n      <th>Down-sample-Sunspot(LSTM)</th>\n      <td>0.7683</td>\n      <td>0.1450</td>\n      <td>0.8213</td>\n      <td>0.2465</td>\n      <td>0.5870</td>\n      <td>0.1823</td>\n      <td>9659</td>\n      <td>2955</td>\n      <td>109</td>\n      <td>501</td>\n      <td>1.275415</td>\n    </tr>\n    <tr>\n      <th>Down-sample-Sunspot(CNN)</th>\n      <td>0.7371</td>\n      <td>0.1327</td>\n      <td>0.8492</td>\n      <td>0.2295</td>\n      <td>0.5808</td>\n      <td>0.1628</td>\n      <td>9229</td>\n      <td>3385</td>\n      <td>92</td>\n      <td>518</td>\n      <td>1.265295</td>\n    </tr>\n    <tr>\n      <th>Down-sample-SHARP(LSTM)</th>\n      <td>0.8416</td>\n      <td>0.1370</td>\n      <td>0.7768</td>\n      <td>0.2329</td>\n      <td>0.6204</td>\n      <td>0.1903</td>\n      <td>2957</td>\n      <td>548</td>\n      <td>25</td>\n      <td>87</td>\n      <td>1.256290</td>\n    </tr>\n    <tr>\n      <th>Down-sample-SHARP(CNN)</th>\n      <td>0.8056</td>\n      <td>0.1187</td>\n      <td>0.8214</td>\n      <td>0.2074</td>\n      <td>0.6266</td>\n      <td>0.1621</td>\n      <td>2822</td>\n      <td>683</td>\n      <td>20</td>\n      <td>92</td>\n      <td>1.253250</td>\n    </tr>\n    <tr>\n      <th>Down-sample-Combined(DT)</th>\n      <td>0.7295</td>\n      <td>0.1088</td>\n      <td>0.7727</td>\n      <td>0.1907</td>\n      <td>0.5003</td>\n      <td>0.1277</td>\n      <td>1859</td>\n      <td>696</td>\n      <td>25</td>\n      <td>85</td>\n      <td>1.111935</td>\n    </tr>\n    <tr>\n      <th>Down-sample-Sunspot(DT)</th>\n      <td>0.7148</td>\n      <td>0.1071</td>\n      <td>0.7066</td>\n      <td>0.1860</td>\n      <td>0.4218</td>\n      <td>0.1152</td>\n      <td>9022</td>\n      <td>3592</td>\n      <td>179</td>\n      <td>431</td>\n      <td>1.009640</td>\n    </tr>\n    <tr>\n      <th>Down-sample-SHARP(DT)</th>\n      <td>0.7896</td>\n      <td>0.0887</td>\n      <td>0.6250</td>\n      <td>0.1554</td>\n      <td>0.4199</td>\n      <td>0.1070</td>\n      <td>2786</td>\n      <td>719</td>\n      <td>42</td>\n      <td>70</td>\n      <td>0.920820</td>\n    </tr>\n  </tbody>\n</table>\n</div>"
     },
     "execution_count": 65,
     "metadata": {},
     "output_type": "execute_result"
    }
   ],
   "source": [
    "get_score('Down-sample')"
   ],
   "metadata": {
    "collapsed": false,
    "ExecuteTime": {
     "end_time": "2024-09-09T22:35:05.742921500Z",
     "start_time": "2024-09-09T22:35:05.711434600Z"
    }
   },
   "id": "dc6d2ac624b29b6d"
  },
  {
   "cell_type": "code",
   "execution_count": 72,
   "outputs": [
    {
     "data": {
      "text/plain": "                         Accuracy  Precision  Recall  F1-score     TSS  \\\nOver-fit-Combined(DT)      0.9396     0.2783  0.2909    0.2845  0.2584   \nOver-fit-Sunspot(RF)       0.9555     0.5640  0.1590    0.2481  0.1531   \nOver-fit-Combined(GB)      0.9535     0.3793  0.2000    0.2619  0.1859   \nOver-fit-Sunspot(DT)       0.9247     0.2304  0.2705    0.2488  0.2268   \nOver-fit-SHARP(DT)         0.9508     0.2339  0.2589    0.2458  0.2318   \nOver-fit-SHARP(GB)         0.9610     0.2836  0.1696    0.2123  0.1559   \nOver-fit-SHARP(RF)         0.9696     0.5500  0.0982    0.1666  0.0956   \nOver-fit-SHARP(SVM)        0.9704     0.8571  0.0536    0.1009  0.0533   \nOver-fit-Sunspot(GB)       0.9521     0.4311  0.1180    0.1853  0.1105   \nOver-fit-Combined(RF)      0.9595     0.5556  0.0909    0.1562  0.0878   \nOver-fit-Sunspot(CNN)      0.9552     0.6076  0.0787    0.1394  0.0762   \nOver-fit-Sunspot(LSTM)     0.9549     0.6226  0.0541    0.0995  0.0525   \nOver-fit-Sunspot(SVM)      0.9547     0.6774  0.0344    0.0655  0.0336   \nOver-fit-Combined(CNN)     0.9587     0.5000  0.0182    0.0351  0.0174   \nOver-fit-SHARP(CNN)        0.9668     0.2500  0.0357    0.0625  0.0323   \nOver-fit-SHARP(LSTM)       0.9690     0.0000  0.0000    0.0000  0.0000   \nOver-fit-Combined(LSTM)    0.9587     0.0000  0.0000    0.0000  0.0000   \nOver-fit-Combined(SVM)     0.9583     0.0000  0.0000    0.0000 -0.0004   \n\n                            HSS     TN   FP   FN   TP     score  \nOver-fit-Combined(DT)    0.2529   2472   83   78   32  0.820440  \nOver-fit-Sunspot(RF)     0.2325  12539   75  513   97  0.744765  \nOver-fit-Combined(GB)    0.2403   2519   36   88   22  0.732545  \nOver-fit-Sunspot(DT)     0.2095  12063  551  445  165  0.725715  \nOver-fit-SHARP(DT)       0.2204   3410   95   83   29  0.724170  \nOver-fit-SHARP(GB)       0.1936   3457   48   93   19  0.601670  \nOver-fit-SHARP(RF)       0.1588   3496    9  101   11  0.575500  \nOver-fit-SHARP(SVM)      0.0976   3504    1  106    6  0.570860  \nOver-fit-Sunspot(GB)     0.1688  12519   95  538   72  0.567825  \nOver-fit-Combined(RF)    0.1463   2547    8  100   10  0.555375  \nOver-fit-Sunspot(CNN)    0.1301  12583   31  562   48  0.542160  \nOver-fit-Sunspot(LSTM)   0.0929  12594   20  577   33  0.473625  \nOver-fit-Sunspot(SVM)    0.0613  12604   10  589   21  0.433725  \nOver-fit-Combined(CNN)   0.0323   2553    2  108    2  0.308885  \nOver-fit-SHARP(CNN)      0.0552   3493   12  108    4  0.259270  \nOver-fit-SHARP(LSTM)     0.0000   3505    0  112    0  0.048450  \nOver-fit-Combined(LSTM)  0.0000   2555    0  110    0  0.047935  \nOver-fit-Combined(SVM)  -0.0007   2554    1  110    0  0.047465  ",
      "text/html": "<div>\n<style scoped>\n    .dataframe tbody tr th:only-of-type {\n        vertical-align: middle;\n    }\n\n    .dataframe tbody tr th {\n        vertical-align: top;\n    }\n\n    .dataframe thead th {\n        text-align: right;\n    }\n</style>\n<table border=\"1\" class=\"dataframe\">\n  <thead>\n    <tr style=\"text-align: right;\">\n      <th></th>\n      <th>Accuracy</th>\n      <th>Precision</th>\n      <th>Recall</th>\n      <th>F1-score</th>\n      <th>TSS</th>\n      <th>HSS</th>\n      <th>TN</th>\n      <th>FP</th>\n      <th>FN</th>\n      <th>TP</th>\n      <th>score</th>\n    </tr>\n  </thead>\n  <tbody>\n    <tr>\n      <th>Over-fit-Combined(DT)</th>\n      <td>0.9396</td>\n      <td>0.2783</td>\n      <td>0.2909</td>\n      <td>0.2845</td>\n      <td>0.2584</td>\n      <td>0.2529</td>\n      <td>2472</td>\n      <td>83</td>\n      <td>78</td>\n      <td>32</td>\n      <td>0.820440</td>\n    </tr>\n    <tr>\n      <th>Over-fit-Sunspot(RF)</th>\n      <td>0.9555</td>\n      <td>0.5640</td>\n      <td>0.1590</td>\n      <td>0.2481</td>\n      <td>0.1531</td>\n      <td>0.2325</td>\n      <td>12539</td>\n      <td>75</td>\n      <td>513</td>\n      <td>97</td>\n      <td>0.744765</td>\n    </tr>\n    <tr>\n      <th>Over-fit-Combined(GB)</th>\n      <td>0.9535</td>\n      <td>0.3793</td>\n      <td>0.2000</td>\n      <td>0.2619</td>\n      <td>0.1859</td>\n      <td>0.2403</td>\n      <td>2519</td>\n      <td>36</td>\n      <td>88</td>\n      <td>22</td>\n      <td>0.732545</td>\n    </tr>\n    <tr>\n      <th>Over-fit-Sunspot(DT)</th>\n      <td>0.9247</td>\n      <td>0.2304</td>\n      <td>0.2705</td>\n      <td>0.2488</td>\n      <td>0.2268</td>\n      <td>0.2095</td>\n      <td>12063</td>\n      <td>551</td>\n      <td>445</td>\n      <td>165</td>\n      <td>0.725715</td>\n    </tr>\n    <tr>\n      <th>Over-fit-SHARP(DT)</th>\n      <td>0.9508</td>\n      <td>0.2339</td>\n      <td>0.2589</td>\n      <td>0.2458</td>\n      <td>0.2318</td>\n      <td>0.2204</td>\n      <td>3410</td>\n      <td>95</td>\n      <td>83</td>\n      <td>29</td>\n      <td>0.724170</td>\n    </tr>\n    <tr>\n      <th>Over-fit-SHARP(GB)</th>\n      <td>0.9610</td>\n      <td>0.2836</td>\n      <td>0.1696</td>\n      <td>0.2123</td>\n      <td>0.1559</td>\n      <td>0.1936</td>\n      <td>3457</td>\n      <td>48</td>\n      <td>93</td>\n      <td>19</td>\n      <td>0.601670</td>\n    </tr>\n    <tr>\n      <th>Over-fit-SHARP(RF)</th>\n      <td>0.9696</td>\n      <td>0.5500</td>\n      <td>0.0982</td>\n      <td>0.1666</td>\n      <td>0.0956</td>\n      <td>0.1588</td>\n      <td>3496</td>\n      <td>9</td>\n      <td>101</td>\n      <td>11</td>\n      <td>0.575500</td>\n    </tr>\n    <tr>\n      <th>Over-fit-SHARP(SVM)</th>\n      <td>0.9704</td>\n      <td>0.8571</td>\n      <td>0.0536</td>\n      <td>0.1009</td>\n      <td>0.0533</td>\n      <td>0.0976</td>\n      <td>3504</td>\n      <td>1</td>\n      <td>106</td>\n      <td>6</td>\n      <td>0.570860</td>\n    </tr>\n    <tr>\n      <th>Over-fit-Sunspot(GB)</th>\n      <td>0.9521</td>\n      <td>0.4311</td>\n      <td>0.1180</td>\n      <td>0.1853</td>\n      <td>0.1105</td>\n      <td>0.1688</td>\n      <td>12519</td>\n      <td>95</td>\n      <td>538</td>\n      <td>72</td>\n      <td>0.567825</td>\n    </tr>\n    <tr>\n      <th>Over-fit-Combined(RF)</th>\n      <td>0.9595</td>\n      <td>0.5556</td>\n      <td>0.0909</td>\n      <td>0.1562</td>\n      <td>0.0878</td>\n      <td>0.1463</td>\n      <td>2547</td>\n      <td>8</td>\n      <td>100</td>\n      <td>10</td>\n      <td>0.555375</td>\n    </tr>\n    <tr>\n      <th>Over-fit-Sunspot(CNN)</th>\n      <td>0.9552</td>\n      <td>0.6076</td>\n      <td>0.0787</td>\n      <td>0.1394</td>\n      <td>0.0762</td>\n      <td>0.1301</td>\n      <td>12583</td>\n      <td>31</td>\n      <td>562</td>\n      <td>48</td>\n      <td>0.542160</td>\n    </tr>\n    <tr>\n      <th>Over-fit-Sunspot(LSTM)</th>\n      <td>0.9549</td>\n      <td>0.6226</td>\n      <td>0.0541</td>\n      <td>0.0995</td>\n      <td>0.0525</td>\n      <td>0.0929</td>\n      <td>12594</td>\n      <td>20</td>\n      <td>577</td>\n      <td>33</td>\n      <td>0.473625</td>\n    </tr>\n    <tr>\n      <th>Over-fit-Sunspot(SVM)</th>\n      <td>0.9547</td>\n      <td>0.6774</td>\n      <td>0.0344</td>\n      <td>0.0655</td>\n      <td>0.0336</td>\n      <td>0.0613</td>\n      <td>12604</td>\n      <td>10</td>\n      <td>589</td>\n      <td>21</td>\n      <td>0.433725</td>\n    </tr>\n    <tr>\n      <th>Over-fit-Combined(CNN)</th>\n      <td>0.9587</td>\n      <td>0.5000</td>\n      <td>0.0182</td>\n      <td>0.0351</td>\n      <td>0.0174</td>\n      <td>0.0323</td>\n      <td>2553</td>\n      <td>2</td>\n      <td>108</td>\n      <td>2</td>\n      <td>0.308885</td>\n    </tr>\n    <tr>\n      <th>Over-fit-SHARP(CNN)</th>\n      <td>0.9668</td>\n      <td>0.2500</td>\n      <td>0.0357</td>\n      <td>0.0625</td>\n      <td>0.0323</td>\n      <td>0.0552</td>\n      <td>3493</td>\n      <td>12</td>\n      <td>108</td>\n      <td>4</td>\n      <td>0.259270</td>\n    </tr>\n    <tr>\n      <th>Over-fit-SHARP(LSTM)</th>\n      <td>0.9690</td>\n      <td>0.0000</td>\n      <td>0.0000</td>\n      <td>0.0000</td>\n      <td>0.0000</td>\n      <td>0.0000</td>\n      <td>3505</td>\n      <td>0</td>\n      <td>112</td>\n      <td>0</td>\n      <td>0.048450</td>\n    </tr>\n    <tr>\n      <th>Over-fit-Combined(LSTM)</th>\n      <td>0.9587</td>\n      <td>0.0000</td>\n      <td>0.0000</td>\n      <td>0.0000</td>\n      <td>0.0000</td>\n      <td>0.0000</td>\n      <td>2555</td>\n      <td>0</td>\n      <td>110</td>\n      <td>0</td>\n      <td>0.047935</td>\n    </tr>\n    <tr>\n      <th>Over-fit-Combined(SVM)</th>\n      <td>0.9583</td>\n      <td>0.0000</td>\n      <td>0.0000</td>\n      <td>0.0000</td>\n      <td>-0.0004</td>\n      <td>-0.0007</td>\n      <td>2554</td>\n      <td>1</td>\n      <td>110</td>\n      <td>0</td>\n      <td>0.047465</td>\n    </tr>\n  </tbody>\n</table>\n</div>"
     },
     "execution_count": 72,
     "metadata": {},
     "output_type": "execute_result"
    }
   ],
   "source": [
    "get_score('Over-fit')"
   ],
   "metadata": {
    "collapsed": false,
    "ExecuteTime": {
     "end_time": "2024-09-09T23:00:29.021041700Z",
     "start_time": "2024-09-09T23:00:28.966983100Z"
    }
   },
   "id": "a17aba548cf32518"
  },
  {
   "cell_type": "code",
   "execution_count": 73,
   "outputs": [
    {
     "data": {
      "text/plain": "                          Accuracy  Precision  Recall  F1-score     TSS  \\\nUnder-fit-Combined(DT)      0.9542     0.4063  0.2364    0.2989  0.2215   \nUnder-fit-Combined(GB)      0.9568     0.4444  0.1818    0.2580  0.1720   \nUnder-fit-Sunspot(RF)       0.9569     0.6786  0.1246    0.2105  0.1217   \nUnder-fit-Sunspot(GB)       0.9557     0.5909  0.1279    0.2103  0.1236   \nUnder-fit-Sunspot(DT)       0.9521     0.4341  0.1295    0.1995  0.1213   \nUnder-fit-SHARP(DT)         0.9613     0.2813  0.1607    0.2045  0.1476   \nUnder-fit-SHARP(GB)         0.9657     0.3571  0.1339    0.1948  0.1262   \nUnder-fit-Combined(RF)      0.9595     0.5625  0.0818    0.1428  0.0791   \nUnder-fit-SHARP(RF)         0.9693     0.5294  0.0804    0.1396  0.0781   \nUnder-fit-Sunspot(LSTM)     0.9550     0.6119  0.0672    0.1211  0.0652   \nUnder-fit-Sunspot(CNN)      0.9548     0.5882  0.0656    0.1180  0.0634   \nUnder-fit-SHARP(LSTM)       0.9685     0.4444  0.0714    0.1230  0.0686   \nUnder-fit-SHARP(CNN)        0.9688     0.4667  0.0625    0.1102  0.0602   \nUnder-fit-Combined(CNN)     0.9580     0.4000  0.0364    0.0667  0.0340   \nUnder-fit-SHARP(SVM)        0.9690     0.0000  0.0000    0.0000  0.0000   \nUnder-fit-Combined(SVM)     0.9587     0.0000  0.0000    0.0000  0.0000   \nUnder-fit-Sunspot(SVM)      0.9539     0.0000  0.0000    0.0000  0.0000   \nUnder-fit-Combined(LSTM)    0.9583     0.0000  0.0000    0.0000 -0.0004   \n\n                             HSS     TN   FP   FN  TP     score  \nUnder-fit-Combined(DT)    0.2769   2517   38   84  26  0.830800  \nUnder-fit-Combined(GB)    0.2398   2530   25   90  20  0.734400  \nUnder-fit-Sunspot(RF)     0.1991  12578   36  534  76  0.707655  \nUnder-fit-Sunspot(GB)     0.1971  12560   54  532  78  0.675205  \nUnder-fit-Sunspot(DT)     0.1822  12511  103  531  79  0.598935  \nUnder-fit-SHARP(DT)       0.1862   3459   46   94  18  0.581095  \nUnder-fit-SHARP(GB)       0.1810   3478   27   97  15  0.570715  \nUnder-fit-Combined(RF)    0.1338   2548    7  101   9  0.532075  \nUnder-fit-SHARP(RF)       0.1325   3497    8  103   9  0.514795  \nUnder-fit-Sunspot(LSTM)   0.1130  12588   26  569  41  0.509450  \nUnder-fit-Sunspot(CNN)    0.1098  12586   28  570  40  0.494320  \nUnder-fit-SHARP(LSTM)     0.1155   3495   10  104   8  0.450375  \nUnder-fit-SHARP(CNN)      0.1037   3497    8  105   7  0.434260  \nUnder-fit-Combined(CNN)   0.0602   2549    6  106   4  0.325200  \nUnder-fit-SHARP(SVM)      0.0000   3505    0  112   0  0.048450  \nUnder-fit-Combined(SVM)   0.0000   2555    0  110   0  0.047935  \nUnder-fit-Sunspot(SVM)    0.0000  12614    0  610   0  0.047695  \nUnder-fit-Combined(LSTM) -0.0007   2554    1  110   0  0.047465  ",
      "text/html": "<div>\n<style scoped>\n    .dataframe tbody tr th:only-of-type {\n        vertical-align: middle;\n    }\n\n    .dataframe tbody tr th {\n        vertical-align: top;\n    }\n\n    .dataframe thead th {\n        text-align: right;\n    }\n</style>\n<table border=\"1\" class=\"dataframe\">\n  <thead>\n    <tr style=\"text-align: right;\">\n      <th></th>\n      <th>Accuracy</th>\n      <th>Precision</th>\n      <th>Recall</th>\n      <th>F1-score</th>\n      <th>TSS</th>\n      <th>HSS</th>\n      <th>TN</th>\n      <th>FP</th>\n      <th>FN</th>\n      <th>TP</th>\n      <th>score</th>\n    </tr>\n  </thead>\n  <tbody>\n    <tr>\n      <th>Under-fit-Combined(DT)</th>\n      <td>0.9542</td>\n      <td>0.4063</td>\n      <td>0.2364</td>\n      <td>0.2989</td>\n      <td>0.2215</td>\n      <td>0.2769</td>\n      <td>2517</td>\n      <td>38</td>\n      <td>84</td>\n      <td>26</td>\n      <td>0.830800</td>\n    </tr>\n    <tr>\n      <th>Under-fit-Combined(GB)</th>\n      <td>0.9568</td>\n      <td>0.4444</td>\n      <td>0.1818</td>\n      <td>0.2580</td>\n      <td>0.1720</td>\n      <td>0.2398</td>\n      <td>2530</td>\n      <td>25</td>\n      <td>90</td>\n      <td>20</td>\n      <td>0.734400</td>\n    </tr>\n    <tr>\n      <th>Under-fit-Sunspot(RF)</th>\n      <td>0.9569</td>\n      <td>0.6786</td>\n      <td>0.1246</td>\n      <td>0.2105</td>\n      <td>0.1217</td>\n      <td>0.1991</td>\n      <td>12578</td>\n      <td>36</td>\n      <td>534</td>\n      <td>76</td>\n      <td>0.707655</td>\n    </tr>\n    <tr>\n      <th>Under-fit-Sunspot(GB)</th>\n      <td>0.9557</td>\n      <td>0.5909</td>\n      <td>0.1279</td>\n      <td>0.2103</td>\n      <td>0.1236</td>\n      <td>0.1971</td>\n      <td>12560</td>\n      <td>54</td>\n      <td>532</td>\n      <td>78</td>\n      <td>0.675205</td>\n    </tr>\n    <tr>\n      <th>Under-fit-Sunspot(DT)</th>\n      <td>0.9521</td>\n      <td>0.4341</td>\n      <td>0.1295</td>\n      <td>0.1995</td>\n      <td>0.1213</td>\n      <td>0.1822</td>\n      <td>12511</td>\n      <td>103</td>\n      <td>531</td>\n      <td>79</td>\n      <td>0.598935</td>\n    </tr>\n    <tr>\n      <th>Under-fit-SHARP(DT)</th>\n      <td>0.9613</td>\n      <td>0.2813</td>\n      <td>0.1607</td>\n      <td>0.2045</td>\n      <td>0.1476</td>\n      <td>0.1862</td>\n      <td>3459</td>\n      <td>46</td>\n      <td>94</td>\n      <td>18</td>\n      <td>0.581095</td>\n    </tr>\n    <tr>\n      <th>Under-fit-SHARP(GB)</th>\n      <td>0.9657</td>\n      <td>0.3571</td>\n      <td>0.1339</td>\n      <td>0.1948</td>\n      <td>0.1262</td>\n      <td>0.1810</td>\n      <td>3478</td>\n      <td>27</td>\n      <td>97</td>\n      <td>15</td>\n      <td>0.570715</td>\n    </tr>\n    <tr>\n      <th>Under-fit-Combined(RF)</th>\n      <td>0.9595</td>\n      <td>0.5625</td>\n      <td>0.0818</td>\n      <td>0.1428</td>\n      <td>0.0791</td>\n      <td>0.1338</td>\n      <td>2548</td>\n      <td>7</td>\n      <td>101</td>\n      <td>9</td>\n      <td>0.532075</td>\n    </tr>\n    <tr>\n      <th>Under-fit-SHARP(RF)</th>\n      <td>0.9693</td>\n      <td>0.5294</td>\n      <td>0.0804</td>\n      <td>0.1396</td>\n      <td>0.0781</td>\n      <td>0.1325</td>\n      <td>3497</td>\n      <td>8</td>\n      <td>103</td>\n      <td>9</td>\n      <td>0.514795</td>\n    </tr>\n    <tr>\n      <th>Under-fit-Sunspot(LSTM)</th>\n      <td>0.9550</td>\n      <td>0.6119</td>\n      <td>0.0672</td>\n      <td>0.1211</td>\n      <td>0.0652</td>\n      <td>0.1130</td>\n      <td>12588</td>\n      <td>26</td>\n      <td>569</td>\n      <td>41</td>\n      <td>0.509450</td>\n    </tr>\n    <tr>\n      <th>Under-fit-Sunspot(CNN)</th>\n      <td>0.9548</td>\n      <td>0.5882</td>\n      <td>0.0656</td>\n      <td>0.1180</td>\n      <td>0.0634</td>\n      <td>0.1098</td>\n      <td>12586</td>\n      <td>28</td>\n      <td>570</td>\n      <td>40</td>\n      <td>0.494320</td>\n    </tr>\n    <tr>\n      <th>Under-fit-SHARP(LSTM)</th>\n      <td>0.9685</td>\n      <td>0.4444</td>\n      <td>0.0714</td>\n      <td>0.1230</td>\n      <td>0.0686</td>\n      <td>0.1155</td>\n      <td>3495</td>\n      <td>10</td>\n      <td>104</td>\n      <td>8</td>\n      <td>0.450375</td>\n    </tr>\n    <tr>\n      <th>Under-fit-SHARP(CNN)</th>\n      <td>0.9688</td>\n      <td>0.4667</td>\n      <td>0.0625</td>\n      <td>0.1102</td>\n      <td>0.0602</td>\n      <td>0.1037</td>\n      <td>3497</td>\n      <td>8</td>\n      <td>105</td>\n      <td>7</td>\n      <td>0.434260</td>\n    </tr>\n    <tr>\n      <th>Under-fit-Combined(CNN)</th>\n      <td>0.9580</td>\n      <td>0.4000</td>\n      <td>0.0364</td>\n      <td>0.0667</td>\n      <td>0.0340</td>\n      <td>0.0602</td>\n      <td>2549</td>\n      <td>6</td>\n      <td>106</td>\n      <td>4</td>\n      <td>0.325200</td>\n    </tr>\n    <tr>\n      <th>Under-fit-SHARP(SVM)</th>\n      <td>0.9690</td>\n      <td>0.0000</td>\n      <td>0.0000</td>\n      <td>0.0000</td>\n      <td>0.0000</td>\n      <td>0.0000</td>\n      <td>3505</td>\n      <td>0</td>\n      <td>112</td>\n      <td>0</td>\n      <td>0.048450</td>\n    </tr>\n    <tr>\n      <th>Under-fit-Combined(SVM)</th>\n      <td>0.9587</td>\n      <td>0.0000</td>\n      <td>0.0000</td>\n      <td>0.0000</td>\n      <td>0.0000</td>\n      <td>0.0000</td>\n      <td>2555</td>\n      <td>0</td>\n      <td>110</td>\n      <td>0</td>\n      <td>0.047935</td>\n    </tr>\n    <tr>\n      <th>Under-fit-Sunspot(SVM)</th>\n      <td>0.9539</td>\n      <td>0.0000</td>\n      <td>0.0000</td>\n      <td>0.0000</td>\n      <td>0.0000</td>\n      <td>0.0000</td>\n      <td>12614</td>\n      <td>0</td>\n      <td>610</td>\n      <td>0</td>\n      <td>0.047695</td>\n    </tr>\n    <tr>\n      <th>Under-fit-Combined(LSTM)</th>\n      <td>0.9583</td>\n      <td>0.0000</td>\n      <td>0.0000</td>\n      <td>0.0000</td>\n      <td>-0.0004</td>\n      <td>-0.0007</td>\n      <td>2554</td>\n      <td>1</td>\n      <td>110</td>\n      <td>0</td>\n      <td>0.047465</td>\n    </tr>\n  </tbody>\n</table>\n</div>"
     },
     "execution_count": 73,
     "metadata": {},
     "output_type": "execute_result"
    }
   ],
   "source": [
    "get_score('Under-fit')"
   ],
   "metadata": {
    "collapsed": false,
    "ExecuteTime": {
     "end_time": "2024-09-09T23:00:37.920824600Z",
     "start_time": "2024-09-09T23:00:37.765753600Z"
    }
   },
   "id": "d4fdd9acd6de3b76"
  },
  {
   "cell_type": "code",
   "execution_count": 79,
   "outputs": [
    {
     "data": {
      "text/plain": "                            Accuracy  Precision  Recall  F1-score     TSS  \\\nBaseline-Sunspot(DT)          0.9245     0.2368  0.2869    0.2595  0.2422   \nBaseline-SHARP(DT)            0.9513     0.2576  0.3036    0.2787  0.2756   \nBaseline-Combined(DT)         0.9403     0.2975  0.3273    0.3117  0.2940   \nEnsemble-Sunspot(SC/SVM)      0.9560     0.5805  0.1656    0.2577  0.1598   \nEnsemble-SHARP(VC)            0.9530     0.2661  0.2946    0.2796  0.2687   \nEnsemble-Combined(VC)         0.9433     0.3084  0.3000    0.3041  0.2710   \nOver-sample-Sunspot(GB)       0.8352     0.1861  0.7623    0.2992  0.6010   \nOver-sample-SHARP(SVM)        0.8446     0.1495  0.8571    0.2546  0.7014   \nOver-sample-Combined(LSTM)    0.8101     0.1678  0.9091    0.2833  0.7150   \nDown-sample-Sunspot(GB)       0.7755     0.1511  0.8377    0.2560  0.6102   \nDown-sample-SHARP(SVM)        0.8261     0.1333  0.8393    0.2301  0.6650   \nDown-sample-Combined(SVM)     0.7955     0.1542  0.8818    0.2625  0.6736   \nOver-fit-Sunspot(RF)          0.9555     0.5640  0.1590    0.2481  0.1531   \nOver-fit-SHARP(DT)            0.9508     0.2339  0.2589    0.2458  0.2318   \nOver-fit-Combined(DT)         0.9396     0.2783  0.2909    0.2845  0.2584   \nUnder-fit-Sunspot(RF)         0.9569     0.6786  0.1246    0.2105  0.1217   \nUnder-fit-SHARP(DT)           0.9613     0.2813  0.1607    0.2045  0.1476   \nUnder-fit-Combined(DT)        0.9542     0.4063  0.2364    0.2989  0.2215   \n\n                               HSS     TN    FP   FN   TP     score  \nBaseline-Sunspot(DT)        0.2200  12050   564  435  175  0.760695  \nBaseline-SHARP(DT)          0.2537   3407    98   78   34  0.827555  \nBaseline-Combined(DT)       0.2806   2470    85   74   36  0.905065  \nEnsemble-Sunspot(SC/SVM)    0.2421  12541    73  509  101  0.770590  \nEnsemble-SHARP(VC)          0.2554   3414    91   79   33  0.821830  \nEnsemble-Combined(VC)       0.2746   2481    74   77   33  0.868785  \nOver-sample-Sunspot(GB)     0.2430  10580  2034  145  465  1.322670  \nOver-sample-SHARP(SVM)      0.2132   2959   546   16   96  1.390480  \nOver-sample-Combined(LSTM)  0.2296   2059   496   10  100  1.468515  \nDown-sample-Sunspot(GB)     0.1930   9744  2870   99  511  1.314425  \nDown-sample-SHARP(SVM)      0.1866   2894   611   18   94  1.321195  \nDown-sample-Combined(SVM)   0.2068   2023   532   13   97  1.394915  \nOver-fit-Sunspot(RF)        0.2325  12539    75  513   97  0.744765  \nOver-fit-SHARP(DT)          0.2204   3410    95   83   29  0.724170  \nOver-fit-Combined(DT)       0.2529   2472    83   78   32  0.820440  \nUnder-fit-Sunspot(RF)       0.1991  12578    36  534   76  0.707655  \nUnder-fit-SHARP(DT)         0.1862   3459    46   94   18  0.581095  \nUnder-fit-Combined(DT)      0.2769   2517    38   84   26  0.830800  ",
      "text/html": "<div>\n<style scoped>\n    .dataframe tbody tr th:only-of-type {\n        vertical-align: middle;\n    }\n\n    .dataframe tbody tr th {\n        vertical-align: top;\n    }\n\n    .dataframe thead th {\n        text-align: right;\n    }\n</style>\n<table border=\"1\" class=\"dataframe\">\n  <thead>\n    <tr style=\"text-align: right;\">\n      <th></th>\n      <th>Accuracy</th>\n      <th>Precision</th>\n      <th>Recall</th>\n      <th>F1-score</th>\n      <th>TSS</th>\n      <th>HSS</th>\n      <th>TN</th>\n      <th>FP</th>\n      <th>FN</th>\n      <th>TP</th>\n      <th>score</th>\n    </tr>\n  </thead>\n  <tbody>\n    <tr>\n      <th>Baseline-Sunspot(DT)</th>\n      <td>0.9245</td>\n      <td>0.2368</td>\n      <td>0.2869</td>\n      <td>0.2595</td>\n      <td>0.2422</td>\n      <td>0.2200</td>\n      <td>12050</td>\n      <td>564</td>\n      <td>435</td>\n      <td>175</td>\n      <td>0.760695</td>\n    </tr>\n    <tr>\n      <th>Baseline-SHARP(DT)</th>\n      <td>0.9513</td>\n      <td>0.2576</td>\n      <td>0.3036</td>\n      <td>0.2787</td>\n      <td>0.2756</td>\n      <td>0.2537</td>\n      <td>3407</td>\n      <td>98</td>\n      <td>78</td>\n      <td>34</td>\n      <td>0.827555</td>\n    </tr>\n    <tr>\n      <th>Baseline-Combined(DT)</th>\n      <td>0.9403</td>\n      <td>0.2975</td>\n      <td>0.3273</td>\n      <td>0.3117</td>\n      <td>0.2940</td>\n      <td>0.2806</td>\n      <td>2470</td>\n      <td>85</td>\n      <td>74</td>\n      <td>36</td>\n      <td>0.905065</td>\n    </tr>\n    <tr>\n      <th>Ensemble-Sunspot(SC/SVM)</th>\n      <td>0.9560</td>\n      <td>0.5805</td>\n      <td>0.1656</td>\n      <td>0.2577</td>\n      <td>0.1598</td>\n      <td>0.2421</td>\n      <td>12541</td>\n      <td>73</td>\n      <td>509</td>\n      <td>101</td>\n      <td>0.770590</td>\n    </tr>\n    <tr>\n      <th>Ensemble-SHARP(VC)</th>\n      <td>0.9530</td>\n      <td>0.2661</td>\n      <td>0.2946</td>\n      <td>0.2796</td>\n      <td>0.2687</td>\n      <td>0.2554</td>\n      <td>3414</td>\n      <td>91</td>\n      <td>79</td>\n      <td>33</td>\n      <td>0.821830</td>\n    </tr>\n    <tr>\n      <th>Ensemble-Combined(VC)</th>\n      <td>0.9433</td>\n      <td>0.3084</td>\n      <td>0.3000</td>\n      <td>0.3041</td>\n      <td>0.2710</td>\n      <td>0.2746</td>\n      <td>2481</td>\n      <td>74</td>\n      <td>77</td>\n      <td>33</td>\n      <td>0.868785</td>\n    </tr>\n    <tr>\n      <th>Over-sample-Sunspot(GB)</th>\n      <td>0.8352</td>\n      <td>0.1861</td>\n      <td>0.7623</td>\n      <td>0.2992</td>\n      <td>0.6010</td>\n      <td>0.2430</td>\n      <td>10580</td>\n      <td>2034</td>\n      <td>145</td>\n      <td>465</td>\n      <td>1.322670</td>\n    </tr>\n    <tr>\n      <th>Over-sample-SHARP(SVM)</th>\n      <td>0.8446</td>\n      <td>0.1495</td>\n      <td>0.8571</td>\n      <td>0.2546</td>\n      <td>0.7014</td>\n      <td>0.2132</td>\n      <td>2959</td>\n      <td>546</td>\n      <td>16</td>\n      <td>96</td>\n      <td>1.390480</td>\n    </tr>\n    <tr>\n      <th>Over-sample-Combined(LSTM)</th>\n      <td>0.8101</td>\n      <td>0.1678</td>\n      <td>0.9091</td>\n      <td>0.2833</td>\n      <td>0.7150</td>\n      <td>0.2296</td>\n      <td>2059</td>\n      <td>496</td>\n      <td>10</td>\n      <td>100</td>\n      <td>1.468515</td>\n    </tr>\n    <tr>\n      <th>Down-sample-Sunspot(GB)</th>\n      <td>0.7755</td>\n      <td>0.1511</td>\n      <td>0.8377</td>\n      <td>0.2560</td>\n      <td>0.6102</td>\n      <td>0.1930</td>\n      <td>9744</td>\n      <td>2870</td>\n      <td>99</td>\n      <td>511</td>\n      <td>1.314425</td>\n    </tr>\n    <tr>\n      <th>Down-sample-SHARP(SVM)</th>\n      <td>0.8261</td>\n      <td>0.1333</td>\n      <td>0.8393</td>\n      <td>0.2301</td>\n      <td>0.6650</td>\n      <td>0.1866</td>\n      <td>2894</td>\n      <td>611</td>\n      <td>18</td>\n      <td>94</td>\n      <td>1.321195</td>\n    </tr>\n    <tr>\n      <th>Down-sample-Combined(SVM)</th>\n      <td>0.7955</td>\n      <td>0.1542</td>\n      <td>0.8818</td>\n      <td>0.2625</td>\n      <td>0.6736</td>\n      <td>0.2068</td>\n      <td>2023</td>\n      <td>532</td>\n      <td>13</td>\n      <td>97</td>\n      <td>1.394915</td>\n    </tr>\n    <tr>\n      <th>Over-fit-Sunspot(RF)</th>\n      <td>0.9555</td>\n      <td>0.5640</td>\n      <td>0.1590</td>\n      <td>0.2481</td>\n      <td>0.1531</td>\n      <td>0.2325</td>\n      <td>12539</td>\n      <td>75</td>\n      <td>513</td>\n      <td>97</td>\n      <td>0.744765</td>\n    </tr>\n    <tr>\n      <th>Over-fit-SHARP(DT)</th>\n      <td>0.9508</td>\n      <td>0.2339</td>\n      <td>0.2589</td>\n      <td>0.2458</td>\n      <td>0.2318</td>\n      <td>0.2204</td>\n      <td>3410</td>\n      <td>95</td>\n      <td>83</td>\n      <td>29</td>\n      <td>0.724170</td>\n    </tr>\n    <tr>\n      <th>Over-fit-Combined(DT)</th>\n      <td>0.9396</td>\n      <td>0.2783</td>\n      <td>0.2909</td>\n      <td>0.2845</td>\n      <td>0.2584</td>\n      <td>0.2529</td>\n      <td>2472</td>\n      <td>83</td>\n      <td>78</td>\n      <td>32</td>\n      <td>0.820440</td>\n    </tr>\n    <tr>\n      <th>Under-fit-Sunspot(RF)</th>\n      <td>0.9569</td>\n      <td>0.6786</td>\n      <td>0.1246</td>\n      <td>0.2105</td>\n      <td>0.1217</td>\n      <td>0.1991</td>\n      <td>12578</td>\n      <td>36</td>\n      <td>534</td>\n      <td>76</td>\n      <td>0.707655</td>\n    </tr>\n    <tr>\n      <th>Under-fit-SHARP(DT)</th>\n      <td>0.9613</td>\n      <td>0.2813</td>\n      <td>0.1607</td>\n      <td>0.2045</td>\n      <td>0.1476</td>\n      <td>0.1862</td>\n      <td>3459</td>\n      <td>46</td>\n      <td>94</td>\n      <td>18</td>\n      <td>0.581095</td>\n    </tr>\n    <tr>\n      <th>Under-fit-Combined(DT)</th>\n      <td>0.9542</td>\n      <td>0.4063</td>\n      <td>0.2364</td>\n      <td>0.2989</td>\n      <td>0.2215</td>\n      <td>0.2769</td>\n      <td>2517</td>\n      <td>38</td>\n      <td>84</td>\n      <td>26</td>\n      <td>0.830800</td>\n    </tr>\n  </tbody>\n</table>\n</div>"
     },
     "execution_count": 79,
     "metadata": {},
     "output_type": "execute_result"
    }
   ],
   "source": [
    "sorted_dfs = []\n",
    "\n",
    "for group in ['Baseline-Sunspot', 'Baseline-SHARP', 'Baseline-Combined',\n",
    "              'Ensemble-Sunspot', 'Ensemble-SHARP', 'Ensemble-Combined',\n",
    "              'Over-sample-Sunspot', 'Over-sample-SHARP', 'Over-sample-Combined',\n",
    "              'Down-sample-Sunspot', 'Down-sample-SHARP', 'Down-sample-Combined',\n",
    "              'Over-fit-Sunspot', 'Over-fit-SHARP', 'Over-fit-Combined',\n",
    "              'Under-fit-Sunspot', 'Under-fit-SHARP', 'Under-fit-Combined']:\n",
    "  group_df = df[df.index.str.contains(group)]\n",
    "  \n",
    "  sorted_group_df = group_df.sort_values(by='score', ascending=False)\n",
    "  \n",
    "  sorted_dfs.append(sorted_group_df.head(1))\n",
    "\n",
    "pd.concat(sorted_dfs)"
   ],
   "metadata": {
    "collapsed": false,
    "ExecuteTime": {
     "end_time": "2024-09-09T23:17:20.360250200Z",
     "start_time": "2024-09-09T23:17:20.329809Z"
    }
   },
   "id": "8184c97056b9a554"
  }
 ],
 "metadata": {
  "kernelspec": {
   "display_name": "Python 3",
   "language": "python",
   "name": "python3"
  },
  "language_info": {
   "codemirror_mode": {
    "name": "ipython",
    "version": 2
   },
   "file_extension": ".py",
   "mimetype": "text/x-python",
   "name": "python",
   "nbconvert_exporter": "python",
   "pygments_lexer": "ipython2",
   "version": "2.7.6"
  }
 },
 "nbformat": 4,
 "nbformat_minor": 5
}
