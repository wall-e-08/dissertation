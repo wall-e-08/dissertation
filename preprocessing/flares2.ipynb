{
 "cells": [
  {
   "cell_type": "code",
   "execution_count": 1,
   "id": "initial_id",
   "metadata": {
    "collapsed": true,
    "ExecuteTime": {
     "end_time": "2024-08-03T19:22:39.798598100Z",
     "start_time": "2024-08-03T19:22:39.410982Z"
    }
   },
   "outputs": [],
   "source": [
    "import numpy as np\n",
    "import pandas as pd\n",
    "\n",
    "from utils.data import *"
   ]
  },
  {
   "cell_type": "code",
   "execution_count": 2,
   "outputs": [
    {
     "data": {
      "text/plain": "             Date Region   Flux  Start Maximum    End\n0      1996-07-31      -  B1.71  01:32   01:36  01:38\n1      1996-07-31      -   B1.7  02:22   02:25  02:27\n2      1996-07-31      -   B1.6  07:00   07:03  07:05\n3      1996-07-31   7981   B2.7  08:29   08:35  08:40\n4      1996-07-31      -  B1.96  11:14   11:17  11:24\n...           ...    ...    ...    ...     ...    ...\n48859  2024-06-30  13731     C2  04:28   04:34  04:39\n48860  2024-06-30  13734   C3.8  05:48   06:18  06:39\n48861  2024-06-30  13727   C2.8  20:56   21:03  21:10\n48862  2024-06-30  13729   C2.3  22:19   22:28  22:37\n48863  2024-06-30  13729   C2.2  23:29   23:39  23:55\n\n[48864 rows x 6 columns]",
      "text/html": "<div>\n<style scoped>\n    .dataframe tbody tr th:only-of-type {\n        vertical-align: middle;\n    }\n\n    .dataframe tbody tr th {\n        vertical-align: top;\n    }\n\n    .dataframe thead th {\n        text-align: right;\n    }\n</style>\n<table border=\"1\" class=\"dataframe\">\n  <thead>\n    <tr style=\"text-align: right;\">\n      <th></th>\n      <th>Date</th>\n      <th>Region</th>\n      <th>Flux</th>\n      <th>Start</th>\n      <th>Maximum</th>\n      <th>End</th>\n    </tr>\n  </thead>\n  <tbody>\n    <tr>\n      <th>0</th>\n      <td>1996-07-31</td>\n      <td>-</td>\n      <td>B1.71</td>\n      <td>01:32</td>\n      <td>01:36</td>\n      <td>01:38</td>\n    </tr>\n    <tr>\n      <th>1</th>\n      <td>1996-07-31</td>\n      <td>-</td>\n      <td>B1.7</td>\n      <td>02:22</td>\n      <td>02:25</td>\n      <td>02:27</td>\n    </tr>\n    <tr>\n      <th>2</th>\n      <td>1996-07-31</td>\n      <td>-</td>\n      <td>B1.6</td>\n      <td>07:00</td>\n      <td>07:03</td>\n      <td>07:05</td>\n    </tr>\n    <tr>\n      <th>3</th>\n      <td>1996-07-31</td>\n      <td>7981</td>\n      <td>B2.7</td>\n      <td>08:29</td>\n      <td>08:35</td>\n      <td>08:40</td>\n    </tr>\n    <tr>\n      <th>4</th>\n      <td>1996-07-31</td>\n      <td>-</td>\n      <td>B1.96</td>\n      <td>11:14</td>\n      <td>11:17</td>\n      <td>11:24</td>\n    </tr>\n    <tr>\n      <th>...</th>\n      <td>...</td>\n      <td>...</td>\n      <td>...</td>\n      <td>...</td>\n      <td>...</td>\n      <td>...</td>\n    </tr>\n    <tr>\n      <th>48859</th>\n      <td>2024-06-30</td>\n      <td>13731</td>\n      <td>C2</td>\n      <td>04:28</td>\n      <td>04:34</td>\n      <td>04:39</td>\n    </tr>\n    <tr>\n      <th>48860</th>\n      <td>2024-06-30</td>\n      <td>13734</td>\n      <td>C3.8</td>\n      <td>05:48</td>\n      <td>06:18</td>\n      <td>06:39</td>\n    </tr>\n    <tr>\n      <th>48861</th>\n      <td>2024-06-30</td>\n      <td>13727</td>\n      <td>C2.8</td>\n      <td>20:56</td>\n      <td>21:03</td>\n      <td>21:10</td>\n    </tr>\n    <tr>\n      <th>48862</th>\n      <td>2024-06-30</td>\n      <td>13729</td>\n      <td>C2.3</td>\n      <td>22:19</td>\n      <td>22:28</td>\n      <td>22:37</td>\n    </tr>\n    <tr>\n      <th>48863</th>\n      <td>2024-06-30</td>\n      <td>13729</td>\n      <td>C2.2</td>\n      <td>23:29</td>\n      <td>23:39</td>\n      <td>23:55</td>\n    </tr>\n  </tbody>\n</table>\n<p>48864 rows × 6 columns</p>\n</div>"
     },
     "execution_count": 2,
     "metadata": {},
     "output_type": "execute_result"
    }
   ],
   "source": [
    "df = pd.read_csv('../data/xray.csv')\n",
    "df"
   ],
   "metadata": {
    "collapsed": false,
    "ExecuteTime": {
     "end_time": "2024-08-03T19:22:39.824939700Z",
     "start_time": "2024-08-03T19:22:39.786744400Z"
    }
   },
   "id": "a214c33aa550206f"
  },
  {
   "cell_type": "code",
   "execution_count": 3,
   "outputs": [
    {
     "data": {
      "text/plain": "array(['-', '7981', '7982', ..., 'XX09:32', '13734', '13731'],\n      dtype=object)"
     },
     "execution_count": 3,
     "metadata": {},
     "output_type": "execute_result"
    }
   ],
   "source": [
    "df['Region'].unique()"
   ],
   "metadata": {
    "collapsed": false,
    "ExecuteTime": {
     "end_time": "2024-08-03T19:22:39.824939700Z",
     "start_time": "2024-08-03T19:22:39.821302300Z"
    }
   },
   "id": "874ec240ecbe8b4e"
  },
  {
   "cell_type": "code",
   "execution_count": 4,
   "outputs": [
    {
     "data": {
      "text/plain": "array(['-', 'XX13:25', 'XX10:28', ..., 'XX21:14', 'XX01:54', 'XX09:32'],\n      dtype=object)"
     },
     "execution_count": 4,
     "metadata": {},
     "output_type": "execute_result"
    }
   ],
   "source": [
    "# non numeric values\n",
    "df[~df['Region'].str.isnumeric()]['Region'].unique()"
   ],
   "metadata": {
    "collapsed": false,
    "ExecuteTime": {
     "end_time": "2024-08-03T19:22:39.838486700Z",
     "start_time": "2024-08-03T19:22:39.823940600Z"
    }
   },
   "id": "5b1d531284f54fa9"
  },
  {
   "cell_type": "code",
   "execution_count": 5,
   "outputs": [
    {
     "data": {
      "text/plain": "array([nan, '7981', '7982', ..., '13730', '13734', '13731'], dtype=object)"
     },
     "execution_count": 5,
     "metadata": {},
     "output_type": "execute_result"
    }
   ],
   "source": [
    "df.loc[df['Region'].str.startswith('XX'), 'Region'] = np.nan  # Replace all XX... region with Nan\n",
    "df.loc[df['Region'] == '-', 'Region'] = np.nan  # Replace all '-' region with Nan\n",
    "df['Region'].unique()"
   ],
   "metadata": {
    "collapsed": false,
    "ExecuteTime": {
     "end_time": "2024-08-03T19:22:39.997494Z",
     "start_time": "2024-08-03T19:22:39.929905400Z"
    }
   },
   "id": "63c20ed39a407a71"
  },
  {
   "cell_type": "code",
   "execution_count": 6,
   "outputs": [],
   "source": [
    "time_format_pattern = r'^\\d{2}:\\d{2}$'"
   ],
   "metadata": {
    "collapsed": false,
    "ExecuteTime": {
     "end_time": "2024-08-03T19:22:40.110674100Z",
     "start_time": "2024-08-03T19:22:40.062635800Z"
    }
   },
   "id": "d1cdf9c38fcca8f8"
  },
  {
   "cell_type": "code",
   "execution_count": 7,
   "outputs": [
    {
     "data": {
      "text/plain": "             Date Region   Flux  Start Maximum    End\n4519   1999-05-17   8541  C2.34  B1:31   13:19  13:20\n5166   1999-08-11    NaN  C2.19  B2:14   22:29  23:04\n21692  2006-09-08   0909  B8.14  B1:01   10:58  11:46",
      "text/html": "<div>\n<style scoped>\n    .dataframe tbody tr th:only-of-type {\n        vertical-align: middle;\n    }\n\n    .dataframe tbody tr th {\n        vertical-align: top;\n    }\n\n    .dataframe thead th {\n        text-align: right;\n    }\n</style>\n<table border=\"1\" class=\"dataframe\">\n  <thead>\n    <tr style=\"text-align: right;\">\n      <th></th>\n      <th>Date</th>\n      <th>Region</th>\n      <th>Flux</th>\n      <th>Start</th>\n      <th>Maximum</th>\n      <th>End</th>\n    </tr>\n  </thead>\n  <tbody>\n    <tr>\n      <th>4519</th>\n      <td>1999-05-17</td>\n      <td>8541</td>\n      <td>C2.34</td>\n      <td>B1:31</td>\n      <td>13:19</td>\n      <td>13:20</td>\n    </tr>\n    <tr>\n      <th>5166</th>\n      <td>1999-08-11</td>\n      <td>NaN</td>\n      <td>C2.19</td>\n      <td>B2:14</td>\n      <td>22:29</td>\n      <td>23:04</td>\n    </tr>\n    <tr>\n      <th>21692</th>\n      <td>2006-09-08</td>\n      <td>0909</td>\n      <td>B8.14</td>\n      <td>B1:01</td>\n      <td>10:58</td>\n      <td>11:46</td>\n    </tr>\n  </tbody>\n</table>\n</div>"
     },
     "execution_count": 7,
     "metadata": {},
     "output_type": "execute_result"
    }
   ],
   "source": [
    "df[~df['Start'].str.match(time_format_pattern)]"
   ],
   "metadata": {
    "collapsed": false,
    "ExecuteTime": {
     "end_time": "2024-08-03T19:22:40.290988500Z",
     "start_time": "2024-08-03T19:22:40.225957200Z"
    }
   },
   "id": "143c1c6bdbcfca8e"
  },
  {
   "cell_type": "code",
   "execution_count": 8,
   "outputs": [
    {
     "data": {
      "text/plain": "Empty DataFrame\nColumns: [Date, Region, Flux, Start, Maximum, End]\nIndex: []",
      "text/html": "<div>\n<style scoped>\n    .dataframe tbody tr th:only-of-type {\n        vertical-align: middle;\n    }\n\n    .dataframe tbody tr th {\n        vertical-align: top;\n    }\n\n    .dataframe thead th {\n        text-align: right;\n    }\n</style>\n<table border=\"1\" class=\"dataframe\">\n  <thead>\n    <tr style=\"text-align: right;\">\n      <th></th>\n      <th>Date</th>\n      <th>Region</th>\n      <th>Flux</th>\n      <th>Start</th>\n      <th>Maximum</th>\n      <th>End</th>\n    </tr>\n  </thead>\n  <tbody>\n  </tbody>\n</table>\n</div>"
     },
     "execution_count": 8,
     "metadata": {},
     "output_type": "execute_result"
    }
   ],
   "source": [
    "df.loc[df['Start'] == 'B1:31', 'Start'] = df['Start'].str.replace('B1', '12')\n",
    "df.loc[df['Start'] == 'B2:14', 'Start'] = df['Start'].str.replace('B', '2')\n",
    "df.loc[df['Start'] == 'B1:01', 'Start'] = df['Start'].str.replace('B1', '10')\n",
    "df[~df['Start'].str.match(time_format_pattern)]"
   ],
   "metadata": {
    "collapsed": false,
    "ExecuteTime": {
     "end_time": "2024-08-03T19:22:40.512604300Z",
     "start_time": "2024-08-03T19:22:40.362630900Z"
    }
   },
   "id": "15cb453e75895cfa"
  },
  {
   "cell_type": "code",
   "execution_count": 9,
   "outputs": [
    {
     "name": "stdout",
     "output_type": "stream",
     "text": [
      "{<class 'str'>}\n",
      "{<class 'str'>}\n",
      "{<class 'str'>}\n"
     ]
    }
   ],
   "source": [
    "print(get_unique_types_of_col(df['Start']))\n",
    "print(get_unique_types_of_col(df['End']))\n",
    "print(get_unique_types_of_col(df['Maximum']))"
   ],
   "metadata": {
    "collapsed": false,
    "ExecuteTime": {
     "end_time": "2024-08-03T19:22:40.544353400Z",
     "start_time": "2024-08-03T19:22:40.494475200Z"
    }
   },
   "id": "a7696ecefc264dde"
  },
  {
   "cell_type": "code",
   "execution_count": 10,
   "outputs": [
    {
     "data": {
      "text/plain": "            Date Region   Flux               Start             Maximum  \\\n0     1996-07-31    NaN  B1.71 1996-07-31 01:32:00 1996-07-31 01:36:00   \n1     1996-07-31    NaN   B1.7 1996-07-31 02:22:00 1996-07-31 02:25:00   \n2     1996-07-31    NaN   B1.6 1996-07-31 07:00:00 1996-07-31 07:03:00   \n3     1996-07-31   7981   B2.7 1996-07-31 08:29:00 1996-07-31 08:35:00   \n4     1996-07-31    NaN  B1.96 1996-07-31 11:14:00 1996-07-31 11:17:00   \n...          ...    ...    ...                 ...                 ...   \n48859 2024-06-30  13731     C2 2024-06-30 04:28:00 2024-06-30 04:34:00   \n48860 2024-06-30  13734   C3.8 2024-06-30 05:48:00 2024-06-30 06:18:00   \n48861 2024-06-30  13727   C2.8 2024-06-30 20:56:00 2024-06-30 21:03:00   \n48862 2024-06-30  13729   C2.3 2024-06-30 22:19:00 2024-06-30 22:28:00   \n48863 2024-06-30  13729   C2.2 2024-06-30 23:29:00 2024-06-30 23:39:00   \n\n                      End  \n0     1996-07-31 01:38:00  \n1     1996-07-31 02:27:00  \n2     1996-07-31 07:05:00  \n3     1996-07-31 08:40:00  \n4     1996-07-31 11:24:00  \n...                   ...  \n48859 2024-06-30 04:39:00  \n48860 2024-06-30 06:39:00  \n48861 2024-06-30 21:10:00  \n48862 2024-06-30 22:37:00  \n48863 2024-06-30 23:55:00  \n\n[48864 rows x 6 columns]",
      "text/html": "<div>\n<style scoped>\n    .dataframe tbody tr th:only-of-type {\n        vertical-align: middle;\n    }\n\n    .dataframe tbody tr th {\n        vertical-align: top;\n    }\n\n    .dataframe thead th {\n        text-align: right;\n    }\n</style>\n<table border=\"1\" class=\"dataframe\">\n  <thead>\n    <tr style=\"text-align: right;\">\n      <th></th>\n      <th>Date</th>\n      <th>Region</th>\n      <th>Flux</th>\n      <th>Start</th>\n      <th>Maximum</th>\n      <th>End</th>\n    </tr>\n  </thead>\n  <tbody>\n    <tr>\n      <th>0</th>\n      <td>1996-07-31</td>\n      <td>NaN</td>\n      <td>B1.71</td>\n      <td>1996-07-31 01:32:00</td>\n      <td>1996-07-31 01:36:00</td>\n      <td>1996-07-31 01:38:00</td>\n    </tr>\n    <tr>\n      <th>1</th>\n      <td>1996-07-31</td>\n      <td>NaN</td>\n      <td>B1.7</td>\n      <td>1996-07-31 02:22:00</td>\n      <td>1996-07-31 02:25:00</td>\n      <td>1996-07-31 02:27:00</td>\n    </tr>\n    <tr>\n      <th>2</th>\n      <td>1996-07-31</td>\n      <td>NaN</td>\n      <td>B1.6</td>\n      <td>1996-07-31 07:00:00</td>\n      <td>1996-07-31 07:03:00</td>\n      <td>1996-07-31 07:05:00</td>\n    </tr>\n    <tr>\n      <th>3</th>\n      <td>1996-07-31</td>\n      <td>7981</td>\n      <td>B2.7</td>\n      <td>1996-07-31 08:29:00</td>\n      <td>1996-07-31 08:35:00</td>\n      <td>1996-07-31 08:40:00</td>\n    </tr>\n    <tr>\n      <th>4</th>\n      <td>1996-07-31</td>\n      <td>NaN</td>\n      <td>B1.96</td>\n      <td>1996-07-31 11:14:00</td>\n      <td>1996-07-31 11:17:00</td>\n      <td>1996-07-31 11:24:00</td>\n    </tr>\n    <tr>\n      <th>...</th>\n      <td>...</td>\n      <td>...</td>\n      <td>...</td>\n      <td>...</td>\n      <td>...</td>\n      <td>...</td>\n    </tr>\n    <tr>\n      <th>48859</th>\n      <td>2024-06-30</td>\n      <td>13731</td>\n      <td>C2</td>\n      <td>2024-06-30 04:28:00</td>\n      <td>2024-06-30 04:34:00</td>\n      <td>2024-06-30 04:39:00</td>\n    </tr>\n    <tr>\n      <th>48860</th>\n      <td>2024-06-30</td>\n      <td>13734</td>\n      <td>C3.8</td>\n      <td>2024-06-30 05:48:00</td>\n      <td>2024-06-30 06:18:00</td>\n      <td>2024-06-30 06:39:00</td>\n    </tr>\n    <tr>\n      <th>48861</th>\n      <td>2024-06-30</td>\n      <td>13727</td>\n      <td>C2.8</td>\n      <td>2024-06-30 20:56:00</td>\n      <td>2024-06-30 21:03:00</td>\n      <td>2024-06-30 21:10:00</td>\n    </tr>\n    <tr>\n      <th>48862</th>\n      <td>2024-06-30</td>\n      <td>13729</td>\n      <td>C2.3</td>\n      <td>2024-06-30 22:19:00</td>\n      <td>2024-06-30 22:28:00</td>\n      <td>2024-06-30 22:37:00</td>\n    </tr>\n    <tr>\n      <th>48863</th>\n      <td>2024-06-30</td>\n      <td>13729</td>\n      <td>C2.2</td>\n      <td>2024-06-30 23:29:00</td>\n      <td>2024-06-30 23:39:00</td>\n      <td>2024-06-30 23:55:00</td>\n    </tr>\n  </tbody>\n</table>\n<p>48864 rows × 6 columns</p>\n</div>"
     },
     "execution_count": 10,
     "metadata": {},
     "output_type": "execute_result"
    }
   ],
   "source": [
    "# Convert Date to datetime\n",
    "df['Date'] = pd.to_datetime(df['Date'])\n",
    "\n",
    "# Convert Start and End to datetime with today's date\n",
    "df['Start'] = pd.to_datetime(df['Date'].dt.strftime('%Y-%m-%d') + ' ' + df['Start'])\n",
    "df['End'] = pd.to_datetime(df['Date'].dt.strftime('%Y-%m-%d') + ' ' + df['End'])\n",
    "df['Maximum'] = pd.to_datetime(df['Date'].dt.strftime('%Y-%m-%d') + ' ' + df['Maximum'])\n",
    "\n",
    "# Adjust End time if it is earlier than Start time\n",
    "df.loc[df['End'] < df['Start'], 'End'] += pd.Timedelta(days=1)\n",
    "df.loc[df['Maximum'] < df['Start'], 'Maximum'] += pd.Timedelta(days=1)\n",
    "df"
   ],
   "metadata": {
    "collapsed": false,
    "ExecuteTime": {
     "end_time": "2024-08-03T19:22:40.798606900Z",
     "start_time": "2024-08-03T19:22:40.644306400Z"
    }
   },
   "id": "bd7b863d703fd9e4"
  },
  {
   "cell_type": "code",
   "execution_count": 11,
   "outputs": [
    {
     "data": {
      "text/plain": "      Region               Start             Maximum                 End  \\\n0        NaN 1996-07-31 01:32:00 1996-07-31 01:36:00 1996-07-31 01:38:00   \n1        NaN 1996-07-31 02:22:00 1996-07-31 02:25:00 1996-07-31 02:27:00   \n2        NaN 1996-07-31 07:00:00 1996-07-31 07:03:00 1996-07-31 07:05:00   \n3       7981 1996-07-31 08:29:00 1996-07-31 08:35:00 1996-07-31 08:40:00   \n4        NaN 1996-07-31 11:14:00 1996-07-31 11:17:00 1996-07-31 11:24:00   \n...      ...                 ...                 ...                 ...   \n48859  13731 2024-06-30 04:28:00 2024-06-30 04:34:00 2024-06-30 04:39:00   \n48860  13734 2024-06-30 05:48:00 2024-06-30 06:18:00 2024-06-30 06:39:00   \n48861  13727 2024-06-30 20:56:00 2024-06-30 21:03:00 2024-06-30 21:10:00   \n48862  13729 2024-06-30 22:19:00 2024-06-30 22:28:00 2024-06-30 22:37:00   \n48863  13729 2024-06-30 23:29:00 2024-06-30 23:39:00 2024-06-30 23:55:00   \n\n      X-ray class  X-ray intensity  Year  Month  Day  \n0               B             1.71  1996      7   31  \n1               B             1.70  1996      7   31  \n2               B             1.60  1996      7   31  \n3               B             2.70  1996      7   31  \n4               B             1.96  1996      7   31  \n...           ...              ...   ...    ...  ...  \n48859           C             2.00  2024      6   30  \n48860           C             3.80  2024      6   30  \n48861           C             2.80  2024      6   30  \n48862           C             2.30  2024      6   30  \n48863           C             2.20  2024      6   30  \n\n[48864 rows x 9 columns]",
      "text/html": "<div>\n<style scoped>\n    .dataframe tbody tr th:only-of-type {\n        vertical-align: middle;\n    }\n\n    .dataframe tbody tr th {\n        vertical-align: top;\n    }\n\n    .dataframe thead th {\n        text-align: right;\n    }\n</style>\n<table border=\"1\" class=\"dataframe\">\n  <thead>\n    <tr style=\"text-align: right;\">\n      <th></th>\n      <th>Region</th>\n      <th>Start</th>\n      <th>Maximum</th>\n      <th>End</th>\n      <th>X-ray class</th>\n      <th>X-ray intensity</th>\n      <th>Year</th>\n      <th>Month</th>\n      <th>Day</th>\n    </tr>\n  </thead>\n  <tbody>\n    <tr>\n      <th>0</th>\n      <td>NaN</td>\n      <td>1996-07-31 01:32:00</td>\n      <td>1996-07-31 01:36:00</td>\n      <td>1996-07-31 01:38:00</td>\n      <td>B</td>\n      <td>1.71</td>\n      <td>1996</td>\n      <td>7</td>\n      <td>31</td>\n    </tr>\n    <tr>\n      <th>1</th>\n      <td>NaN</td>\n      <td>1996-07-31 02:22:00</td>\n      <td>1996-07-31 02:25:00</td>\n      <td>1996-07-31 02:27:00</td>\n      <td>B</td>\n      <td>1.70</td>\n      <td>1996</td>\n      <td>7</td>\n      <td>31</td>\n    </tr>\n    <tr>\n      <th>2</th>\n      <td>NaN</td>\n      <td>1996-07-31 07:00:00</td>\n      <td>1996-07-31 07:03:00</td>\n      <td>1996-07-31 07:05:00</td>\n      <td>B</td>\n      <td>1.60</td>\n      <td>1996</td>\n      <td>7</td>\n      <td>31</td>\n    </tr>\n    <tr>\n      <th>3</th>\n      <td>7981</td>\n      <td>1996-07-31 08:29:00</td>\n      <td>1996-07-31 08:35:00</td>\n      <td>1996-07-31 08:40:00</td>\n      <td>B</td>\n      <td>2.70</td>\n      <td>1996</td>\n      <td>7</td>\n      <td>31</td>\n    </tr>\n    <tr>\n      <th>4</th>\n      <td>NaN</td>\n      <td>1996-07-31 11:14:00</td>\n      <td>1996-07-31 11:17:00</td>\n      <td>1996-07-31 11:24:00</td>\n      <td>B</td>\n      <td>1.96</td>\n      <td>1996</td>\n      <td>7</td>\n      <td>31</td>\n    </tr>\n    <tr>\n      <th>...</th>\n      <td>...</td>\n      <td>...</td>\n      <td>...</td>\n      <td>...</td>\n      <td>...</td>\n      <td>...</td>\n      <td>...</td>\n      <td>...</td>\n      <td>...</td>\n    </tr>\n    <tr>\n      <th>48859</th>\n      <td>13731</td>\n      <td>2024-06-30 04:28:00</td>\n      <td>2024-06-30 04:34:00</td>\n      <td>2024-06-30 04:39:00</td>\n      <td>C</td>\n      <td>2.00</td>\n      <td>2024</td>\n      <td>6</td>\n      <td>30</td>\n    </tr>\n    <tr>\n      <th>48860</th>\n      <td>13734</td>\n      <td>2024-06-30 05:48:00</td>\n      <td>2024-06-30 06:18:00</td>\n      <td>2024-06-30 06:39:00</td>\n      <td>C</td>\n      <td>3.80</td>\n      <td>2024</td>\n      <td>6</td>\n      <td>30</td>\n    </tr>\n    <tr>\n      <th>48861</th>\n      <td>13727</td>\n      <td>2024-06-30 20:56:00</td>\n      <td>2024-06-30 21:03:00</td>\n      <td>2024-06-30 21:10:00</td>\n      <td>C</td>\n      <td>2.80</td>\n      <td>2024</td>\n      <td>6</td>\n      <td>30</td>\n    </tr>\n    <tr>\n      <th>48862</th>\n      <td>13729</td>\n      <td>2024-06-30 22:19:00</td>\n      <td>2024-06-30 22:28:00</td>\n      <td>2024-06-30 22:37:00</td>\n      <td>C</td>\n      <td>2.30</td>\n      <td>2024</td>\n      <td>6</td>\n      <td>30</td>\n    </tr>\n    <tr>\n      <th>48863</th>\n      <td>13729</td>\n      <td>2024-06-30 23:29:00</td>\n      <td>2024-06-30 23:39:00</td>\n      <td>2024-06-30 23:55:00</td>\n      <td>C</td>\n      <td>2.20</td>\n      <td>2024</td>\n      <td>6</td>\n      <td>30</td>\n    </tr>\n  </tbody>\n</table>\n<p>48864 rows × 9 columns</p>\n</div>"
     },
     "execution_count": 11,
     "metadata": {},
     "output_type": "execute_result"
    }
   ],
   "source": [
    "df[['X-ray class', 'X-ray intensity']] = df['Flux'].str.extract(r'([A-Za-z]+)([0-9.]+)')\n",
    "df['X-ray intensity'] = df['X-ray intensity'].astype(float)\n",
    "df.drop(columns=['Flux'], inplace=True)\n",
    "\n",
    "df['Year'] = df['Date'].dt.year\n",
    "df['Month'] = df['Date'].dt.month\n",
    "df['Day'] = df['Date'].dt.day\n",
    "df.drop(columns=['Date'], inplace=True)\n",
    "\n",
    "df"
   ],
   "metadata": {
    "collapsed": false,
    "ExecuteTime": {
     "end_time": "2024-08-03T19:22:40.854320500Z",
     "start_time": "2024-08-03T19:22:40.769104100Z"
    }
   },
   "id": "ecd048d2cfdbf880"
  },
  {
   "cell_type": "markdown",
   "source": [
    "# Old data"
   ],
   "metadata": {
    "collapsed": false
   },
   "id": "1646608ca21ffbe6"
  },
  {
   "cell_type": "code",
   "execution_count": 12,
   "outputs": [
    {
     "data": {
      "text/plain": "(71984, 29)"
     },
     "execution_count": 12,
     "metadata": {},
     "output_type": "execute_result"
    }
   ],
   "source": [
    "flare_cols_and_widths = {\n",
    "  \"Data Code\": 2, # always 31 for x-ray events\n",
    "  \"Station Code\": 3,\n",
    "  \"Year\": 2,\n",
    "  \"Month\": 2,\n",
    "  \"Day\": 2,\n",
    "  \"blank1\": 2,\n",
    "  \"Start Time HHmm\": 4, # Start time of x-ray event - SEE NOTE 1\n",
    "  \"blank2\": 1,\n",
    "  \"End Time HHmm\": 4,\n",
    "  \"blank3\": 1,\n",
    "  \"Max Time HHmm\": 4, # Max time\n",
    "  \"blank4\": 1,\n",
    "  \n",
    "   # latitude of xray flare if known\n",
    "  \"Region\": 6,\n",
    "\n",
    "  \"SXI\": 3, # SXI if data are from SXI imagery, blank otherwise\n",
    "  \"blank5\": 22,\n",
    "  \"X-ray class\": 1,  # X-ray class: C,M,X code - SEE NOTE 2 (Flare Type)\n",
    "  \"blank6\": 1,\n",
    "  \"X-ray intensity\": 2, # X-ray intensity 10-99 for 1.0-9.9 x xray class\n",
    "  \"blank7\": 4,\n",
    "  \"Station\": 4, # Station ame abbreviation - \"Gxx \" for GOES\n",
    "  \"blank8\": 1,\n",
    "  \"Integrated flux\": 8, # units = J/m**2\n",
    "  \"NOAA Sunspot Group Number\": 5, # NOAA/USAF sunspot region number\n",
    "  \"blank9\": 1,\n",
    "  \"Central Meridian Passage Date\": 8, # YYMM D.???\n",
    "  \"blank10\": 1,\n",
    "  \"Total Region Area\": 7, # squared arc seconds\n",
    "  \"blank11\": 1,\n",
    "  \"Total Intensity\": 7  # (units - TBD) from SXI, if available\n",
    "}\n",
    "\n",
    "df_old_data = pd.read_fwf(\"../flares1981-2017.txt\", header=None,\n",
    "                 widths=list(flare_cols_and_widths.values()),\n",
    "                 names=list(flare_cols_and_widths.keys()))\n",
    "\n",
    "df_old_data.shape"
   ],
   "metadata": {
    "collapsed": false,
    "ExecuteTime": {
     "end_time": "2024-08-03T19:22:41.546119800Z",
     "start_time": "2024-08-03T19:22:41.029595300Z"
    }
   },
   "id": "af085c730d406575"
  },
  {
   "cell_type": "code",
   "execution_count": 13,
   "outputs": [
    {
     "data": {
      "text/plain": "       Year  Month  Day  Start Time HHmm  End Time HHmm Max Time HHmm  Region  \\\n0      1981      1    2              441            446          0444     NaN   \n1      1981      1    2              955           1004          1000     NaN   \n2      1981      1    3             1025           1036          1030     NaN   \n3      1981      1    3             1549           1558          1553     NaN   \n4      1981      1    3             1837           1845          1842     NaN   \n...     ...    ...  ...              ...            ...           ...     ...   \n71979  2017      6   26              723            733          0728     NaN   \n71980  2017      6   27              729            741          0735     NaN   \n71981  2017      6   27             2049           2056          2053     NaN   \n71982  2017      6   27             2109           2119          2115  N19W18   \n71983  2017      6   28             1227           1835          1524     NaN   \n\n      X-ray class  X-ray intensity  NOAA Sunspot Group Number  \n0               C             18.0                        NaN  \n1               C             18.0                        NaN  \n2               C             51.0                        NaN  \n3               C             22.0                     2857.0  \n4               C             22.0                        NaN  \n...           ...              ...                        ...  \n71979           B             13.0                        NaN  \n71980           B             11.0                        NaN  \n71981           B             11.0                        NaN  \n71982           B             26.0                    12664.0  \n71983           B             13.0                        NaN  \n\n[71984 rows x 10 columns]",
      "text/html": "<div>\n<style scoped>\n    .dataframe tbody tr th:only-of-type {\n        vertical-align: middle;\n    }\n\n    .dataframe tbody tr th {\n        vertical-align: top;\n    }\n\n    .dataframe thead th {\n        text-align: right;\n    }\n</style>\n<table border=\"1\" class=\"dataframe\">\n  <thead>\n    <tr style=\"text-align: right;\">\n      <th></th>\n      <th>Year</th>\n      <th>Month</th>\n      <th>Day</th>\n      <th>Start Time HHmm</th>\n      <th>End Time HHmm</th>\n      <th>Max Time HHmm</th>\n      <th>Region</th>\n      <th>X-ray class</th>\n      <th>X-ray intensity</th>\n      <th>NOAA Sunspot Group Number</th>\n    </tr>\n  </thead>\n  <tbody>\n    <tr>\n      <th>0</th>\n      <td>1981</td>\n      <td>1</td>\n      <td>2</td>\n      <td>441</td>\n      <td>446</td>\n      <td>0444</td>\n      <td>NaN</td>\n      <td>C</td>\n      <td>18.0</td>\n      <td>NaN</td>\n    </tr>\n    <tr>\n      <th>1</th>\n      <td>1981</td>\n      <td>1</td>\n      <td>2</td>\n      <td>955</td>\n      <td>1004</td>\n      <td>1000</td>\n      <td>NaN</td>\n      <td>C</td>\n      <td>18.0</td>\n      <td>NaN</td>\n    </tr>\n    <tr>\n      <th>2</th>\n      <td>1981</td>\n      <td>1</td>\n      <td>3</td>\n      <td>1025</td>\n      <td>1036</td>\n      <td>1030</td>\n      <td>NaN</td>\n      <td>C</td>\n      <td>51.0</td>\n      <td>NaN</td>\n    </tr>\n    <tr>\n      <th>3</th>\n      <td>1981</td>\n      <td>1</td>\n      <td>3</td>\n      <td>1549</td>\n      <td>1558</td>\n      <td>1553</td>\n      <td>NaN</td>\n      <td>C</td>\n      <td>22.0</td>\n      <td>2857.0</td>\n    </tr>\n    <tr>\n      <th>4</th>\n      <td>1981</td>\n      <td>1</td>\n      <td>3</td>\n      <td>1837</td>\n      <td>1845</td>\n      <td>1842</td>\n      <td>NaN</td>\n      <td>C</td>\n      <td>22.0</td>\n      <td>NaN</td>\n    </tr>\n    <tr>\n      <th>...</th>\n      <td>...</td>\n      <td>...</td>\n      <td>...</td>\n      <td>...</td>\n      <td>...</td>\n      <td>...</td>\n      <td>...</td>\n      <td>...</td>\n      <td>...</td>\n      <td>...</td>\n    </tr>\n    <tr>\n      <th>71979</th>\n      <td>2017</td>\n      <td>6</td>\n      <td>26</td>\n      <td>723</td>\n      <td>733</td>\n      <td>0728</td>\n      <td>NaN</td>\n      <td>B</td>\n      <td>13.0</td>\n      <td>NaN</td>\n    </tr>\n    <tr>\n      <th>71980</th>\n      <td>2017</td>\n      <td>6</td>\n      <td>27</td>\n      <td>729</td>\n      <td>741</td>\n      <td>0735</td>\n      <td>NaN</td>\n      <td>B</td>\n      <td>11.0</td>\n      <td>NaN</td>\n    </tr>\n    <tr>\n      <th>71981</th>\n      <td>2017</td>\n      <td>6</td>\n      <td>27</td>\n      <td>2049</td>\n      <td>2056</td>\n      <td>2053</td>\n      <td>NaN</td>\n      <td>B</td>\n      <td>11.0</td>\n      <td>NaN</td>\n    </tr>\n    <tr>\n      <th>71982</th>\n      <td>2017</td>\n      <td>6</td>\n      <td>27</td>\n      <td>2109</td>\n      <td>2119</td>\n      <td>2115</td>\n      <td>N19W18</td>\n      <td>B</td>\n      <td>26.0</td>\n      <td>12664.0</td>\n    </tr>\n    <tr>\n      <th>71983</th>\n      <td>2017</td>\n      <td>6</td>\n      <td>28</td>\n      <td>1227</td>\n      <td>1835</td>\n      <td>1524</td>\n      <td>NaN</td>\n      <td>B</td>\n      <td>13.0</td>\n      <td>NaN</td>\n    </tr>\n  </tbody>\n</table>\n<p>71984 rows × 10 columns</p>\n</div>"
     },
     "execution_count": 13,
     "metadata": {},
     "output_type": "execute_result"
    }
   ],
   "source": [
    "df_old_data.drop(['Data Code', 'Station Code', 'Station', 'Integrated flux',\n",
    "                  'Central Meridian Passage Date', 'Total Region Area',\n",
    "                  'Total Intensity', 'SXI'], axis=1, inplace=True)\n",
    "df_old_data.drop(columns=df_old_data.filter(like='blank').columns.to_list(), inplace=True)\n",
    "\n",
    "df_old_data['Year'] = df_old_data['Year'].astype(int).apply(lambda x: 1900 + x if x > 50 else 2000 + x)\n",
    "df_old_data['Month'] = df_old_data['Month'].astype(int)\n",
    "df_old_data['Day'] = df_old_data['Day'].astype(int)\n",
    "\n",
    "df_old_data"
   ],
   "metadata": {
    "collapsed": false,
    "ExecuteTime": {
     "end_time": "2024-08-03T19:22:41.575111400Z",
     "start_time": "2024-08-03T19:22:41.548121Z"
    }
   },
   "id": "6faf08cc4338c797"
  },
  {
   "cell_type": "code",
   "execution_count": 14,
   "outputs": [],
   "source": [
    "# df_old_data['Start Time HHmm'] = df_old_data['Start Time HHmm'].astype(str).str.zfill(4)\n",
    "# df_old_data['Max Time HHmm'] = df_old_data['Max Time HHmm'].astype(str).str.zfill(4)\n",
    "# df_old_data['End Time HHmm'] = df_old_data['End Time HHmm'].astype(str).str.zfill(4)"
   ],
   "metadata": {
    "collapsed": false,
    "ExecuteTime": {
     "end_time": "2024-08-03T19:22:41.578100400Z",
     "start_time": "2024-08-03T19:22:41.575111400Z"
    }
   },
   "id": "3dadee25eabebfdc"
  },
  {
   "cell_type": "code",
   "execution_count": 15,
   "outputs": [
    {
     "data": {
      "text/plain": "{float, str}"
     },
     "execution_count": 15,
     "metadata": {},
     "output_type": "execute_result"
    }
   ],
   "source": [
    "get_unique_types_of_col(df_old_data['Max Time HHmm'])"
   ],
   "metadata": {
    "collapsed": false,
    "ExecuteTime": {
     "end_time": "2024-08-03T19:22:41.656407300Z",
     "start_time": "2024-08-03T19:22:41.578100400Z"
    }
   },
   "id": "5a140b3be5bd2c8d"
  },
  {
   "cell_type": "code",
   "execution_count": 16,
   "outputs": [
    {
     "data": {
      "text/plain": "0"
     },
     "execution_count": 16,
     "metadata": {},
     "output_type": "execute_result"
    }
   ],
   "source": [
    "df_old_data['Max Time HHmm'] = (\n",
    "  df_old_data['Max Time HHmm'].apply(\n",
    "    lambda x: int(x) if isinstance(x, int) or (isinstance(x, str) and x.isdigit()) else None\n",
    "  )\n",
    ")\n",
    "df_old_data['Max Time HHmm'] = df_old_data.apply(\n",
    "  lambda row: (row['Start Time HHmm'] + row['End Time HHmm']) // 2 if pd.isnull(row['Max Time HHmm']) else row['Max Time HHmm'], axis=1)\n",
    "# df_old_data['Max Time HHmm'] = pd.to_numeric(df_old_data['Max Time HHmm'], errors='coerce')\n",
    "df_old_data['Max Time HHmm'] = df_old_data['Max Time HHmm'].astype(int)\n",
    "df_old_data['Max Time HHmm'].isnull().sum()"
   ],
   "metadata": {
    "collapsed": false,
    "ExecuteTime": {
     "end_time": "2024-08-03T19:22:41.901275500Z",
     "start_time": "2024-08-03T19:22:41.627251Z"
    }
   },
   "id": "d680c02f7a1f1dfd"
  },
  {
   "cell_type": "code",
   "execution_count": 17,
   "outputs": [
    {
     "data": {
      "text/plain": "{int}"
     },
     "execution_count": 17,
     "metadata": {},
     "output_type": "execute_result"
    }
   ],
   "source": [
    "get_unique_types_of_col(df_old_data['Max Time HHmm'])"
   ],
   "metadata": {
    "collapsed": false,
    "ExecuteTime": {
     "end_time": "2024-08-03T19:22:41.901275500Z",
     "start_time": "2024-08-03T19:22:41.885646900Z"
    }
   },
   "id": "760643cdc3fdd3a2"
  },
  {
   "cell_type": "code",
   "execution_count": 18,
   "outputs": [
    {
     "data": {
      "text/plain": "{int}"
     },
     "execution_count": 18,
     "metadata": {},
     "output_type": "execute_result"
    }
   ],
   "source": [
    "get_unique_types_of_col(df_old_data['Day'])"
   ],
   "metadata": {
    "collapsed": false,
    "ExecuteTime": {
     "end_time": "2024-08-03T19:22:41.923978200Z",
     "start_time": "2024-08-03T19:22:41.906400700Z"
    }
   },
   "id": "687553eb870e09b6"
  },
  {
   "cell_type": "code",
   "execution_count": 19,
   "outputs": [],
   "source": [
    "def zfill2(_item):\n",
    "  return str(_item).zfill(2)\n",
    "\n",
    "# Returns a function to format the time column to 'YYmmdd HHMM'\n",
    "def format_time_column(_t):\n",
    "  def format_row_time(row):  # Formats a single row's time to 'YYmmdd HHMM'\n",
    "    item = row[f'{_t} Time HHmm']\n",
    "    h = zfill2(min(item//100, 23))\n",
    "    m = zfill2(min(item%100, 59))\n",
    "    return f\"{row['Year']}{zfill2(row['Month'])}{zfill2(row['Day'])} {h}{m}\"\n",
    "  return format_row_time"
   ],
   "metadata": {
    "collapsed": false,
    "ExecuteTime": {
     "end_time": "2024-08-03T19:22:42.139270200Z",
     "start_time": "2024-08-03T19:22:42.034047400Z"
    }
   },
   "id": "65c89dcc9b5b8018"
  },
  {
   "cell_type": "code",
   "execution_count": 20,
   "outputs": [
    {
     "data": {
      "text/plain": "       Year  Month  Day  Region X-ray class  X-ray intensity  \\\n0      1981      1    2     NaN           C             18.0   \n1      1981      1    2     NaN           C             18.0   \n2      1981      1    3     NaN           C             51.0   \n3      1981      1    3     NaN           C             22.0   \n4      1981      1    3     NaN           C             22.0   \n...     ...    ...  ...     ...         ...              ...   \n71979  2017      6   26     NaN           B             13.0   \n71980  2017      6   27     NaN           B             11.0   \n71981  2017      6   27     NaN           B             11.0   \n71982  2017      6   27  N19W18           B             26.0   \n71983  2017      6   28     NaN           B             13.0   \n\n       NOAA Sunspot Group Number            End Time          Start Time  \\\n0                            NaN 1981-01-02 04:46:00 1981-01-02 04:41:00   \n1                            NaN 1981-01-02 10:04:00 1981-01-02 09:55:00   \n2                            NaN 1981-01-03 10:36:00 1981-01-03 10:25:00   \n3                         2857.0 1981-01-03 15:58:00 1981-01-03 15:49:00   \n4                            NaN 1981-01-03 18:45:00 1981-01-03 18:37:00   \n...                          ...                 ...                 ...   \n71979                        NaN 2017-06-26 07:33:00 2017-06-26 07:23:00   \n71980                        NaN 2017-06-27 07:41:00 2017-06-27 07:29:00   \n71981                        NaN 2017-06-27 20:56:00 2017-06-27 20:49:00   \n71982                    12664.0 2017-06-27 21:19:00 2017-06-27 21:09:00   \n71983                        NaN 2017-06-28 18:35:00 2017-06-28 12:27:00   \n\n                 Max Time  \n0     1981-01-02 04:44:00  \n1     1981-01-02 10:00:00  \n2     1981-01-03 10:30:00  \n3     1981-01-03 15:53:00  \n4     1981-01-03 18:42:00  \n...                   ...  \n71979 2017-06-26 07:28:00  \n71980 2017-06-27 07:35:00  \n71981 2017-06-27 20:53:00  \n71982 2017-06-27 21:15:00  \n71983 2017-06-28 15:24:00  \n\n[71984 rows x 10 columns]",
      "text/html": "<div>\n<style scoped>\n    .dataframe tbody tr th:only-of-type {\n        vertical-align: middle;\n    }\n\n    .dataframe tbody tr th {\n        vertical-align: top;\n    }\n\n    .dataframe thead th {\n        text-align: right;\n    }\n</style>\n<table border=\"1\" class=\"dataframe\">\n  <thead>\n    <tr style=\"text-align: right;\">\n      <th></th>\n      <th>Year</th>\n      <th>Month</th>\n      <th>Day</th>\n      <th>Region</th>\n      <th>X-ray class</th>\n      <th>X-ray intensity</th>\n      <th>NOAA Sunspot Group Number</th>\n      <th>End Time</th>\n      <th>Start Time</th>\n      <th>Max Time</th>\n    </tr>\n  </thead>\n  <tbody>\n    <tr>\n      <th>0</th>\n      <td>1981</td>\n      <td>1</td>\n      <td>2</td>\n      <td>NaN</td>\n      <td>C</td>\n      <td>18.0</td>\n      <td>NaN</td>\n      <td>1981-01-02 04:46:00</td>\n      <td>1981-01-02 04:41:00</td>\n      <td>1981-01-02 04:44:00</td>\n    </tr>\n    <tr>\n      <th>1</th>\n      <td>1981</td>\n      <td>1</td>\n      <td>2</td>\n      <td>NaN</td>\n      <td>C</td>\n      <td>18.0</td>\n      <td>NaN</td>\n      <td>1981-01-02 10:04:00</td>\n      <td>1981-01-02 09:55:00</td>\n      <td>1981-01-02 10:00:00</td>\n    </tr>\n    <tr>\n      <th>2</th>\n      <td>1981</td>\n      <td>1</td>\n      <td>3</td>\n      <td>NaN</td>\n      <td>C</td>\n      <td>51.0</td>\n      <td>NaN</td>\n      <td>1981-01-03 10:36:00</td>\n      <td>1981-01-03 10:25:00</td>\n      <td>1981-01-03 10:30:00</td>\n    </tr>\n    <tr>\n      <th>3</th>\n      <td>1981</td>\n      <td>1</td>\n      <td>3</td>\n      <td>NaN</td>\n      <td>C</td>\n      <td>22.0</td>\n      <td>2857.0</td>\n      <td>1981-01-03 15:58:00</td>\n      <td>1981-01-03 15:49:00</td>\n      <td>1981-01-03 15:53:00</td>\n    </tr>\n    <tr>\n      <th>4</th>\n      <td>1981</td>\n      <td>1</td>\n      <td>3</td>\n      <td>NaN</td>\n      <td>C</td>\n      <td>22.0</td>\n      <td>NaN</td>\n      <td>1981-01-03 18:45:00</td>\n      <td>1981-01-03 18:37:00</td>\n      <td>1981-01-03 18:42:00</td>\n    </tr>\n    <tr>\n      <th>...</th>\n      <td>...</td>\n      <td>...</td>\n      <td>...</td>\n      <td>...</td>\n      <td>...</td>\n      <td>...</td>\n      <td>...</td>\n      <td>...</td>\n      <td>...</td>\n      <td>...</td>\n    </tr>\n    <tr>\n      <th>71979</th>\n      <td>2017</td>\n      <td>6</td>\n      <td>26</td>\n      <td>NaN</td>\n      <td>B</td>\n      <td>13.0</td>\n      <td>NaN</td>\n      <td>2017-06-26 07:33:00</td>\n      <td>2017-06-26 07:23:00</td>\n      <td>2017-06-26 07:28:00</td>\n    </tr>\n    <tr>\n      <th>71980</th>\n      <td>2017</td>\n      <td>6</td>\n      <td>27</td>\n      <td>NaN</td>\n      <td>B</td>\n      <td>11.0</td>\n      <td>NaN</td>\n      <td>2017-06-27 07:41:00</td>\n      <td>2017-06-27 07:29:00</td>\n      <td>2017-06-27 07:35:00</td>\n    </tr>\n    <tr>\n      <th>71981</th>\n      <td>2017</td>\n      <td>6</td>\n      <td>27</td>\n      <td>NaN</td>\n      <td>B</td>\n      <td>11.0</td>\n      <td>NaN</td>\n      <td>2017-06-27 20:56:00</td>\n      <td>2017-06-27 20:49:00</td>\n      <td>2017-06-27 20:53:00</td>\n    </tr>\n    <tr>\n      <th>71982</th>\n      <td>2017</td>\n      <td>6</td>\n      <td>27</td>\n      <td>N19W18</td>\n      <td>B</td>\n      <td>26.0</td>\n      <td>12664.0</td>\n      <td>2017-06-27 21:19:00</td>\n      <td>2017-06-27 21:09:00</td>\n      <td>2017-06-27 21:15:00</td>\n    </tr>\n    <tr>\n      <th>71983</th>\n      <td>2017</td>\n      <td>6</td>\n      <td>28</td>\n      <td>NaN</td>\n      <td>B</td>\n      <td>13.0</td>\n      <td>NaN</td>\n      <td>2017-06-28 18:35:00</td>\n      <td>2017-06-28 12:27:00</td>\n      <td>2017-06-28 15:24:00</td>\n    </tr>\n  </tbody>\n</table>\n<p>71984 rows × 10 columns</p>\n</div>"
     },
     "execution_count": 20,
     "metadata": {},
     "output_type": "execute_result"
    }
   ],
   "source": [
    "for t in ['End', 'Start', 'Max']:\n",
    "  df_old_data[f'{t} Time HHmm'] = df_old_data.apply(format_time_column(t), axis=1)\n",
    "  df_old_data[f'{t} Time'] = pd.to_datetime(df_old_data[f'{t} Time HHmm'], format='%Y%m%d %H%M')\n",
    "\n",
    "df_old_data.drop(['Start Time HHmm', 'End Time HHmm', 'Max Time HHmm'], axis=1, inplace=True)\n",
    "df_old_data"
   ],
   "metadata": {
    "collapsed": false,
    "ExecuteTime": {
     "end_time": "2024-08-03T19:22:44.333121Z",
     "start_time": "2024-08-03T19:22:42.213062600Z"
    }
   },
   "id": "27a2e10fec2dbbdc"
  },
  {
   "cell_type": "code",
   "execution_count": 21,
   "outputs": [],
   "source": [
    "df_old_data['X-ray intensity'] = df_old_data['X-ray intensity'].apply(\n",
    "  lambda x: x / 10 if pd.notna(x) else x)"
   ],
   "metadata": {
    "collapsed": false,
    "ExecuteTime": {
     "end_time": "2024-08-03T19:22:44.358020200Z",
     "start_time": "2024-08-03T19:22:44.352148900Z"
    }
   },
   "id": "9e000efc03a85691"
  },
  {
   "cell_type": "code",
   "execution_count": 22,
   "outputs": [
    {
     "data": {
      "text/plain": "       Year  Month  Day X-ray class  X-ray intensity   Region  \\\n0      1981      1    2           C              1.8      NaN   \n1      1981      1    2           C              1.8      NaN   \n2      1981      1    3           C              5.1      NaN   \n3      1981      1    3           C              2.2   2857.0   \n4      1981      1    3           C              2.2      NaN   \n...     ...    ...  ...         ...              ...      ...   \n71979  2017      6   26           B              1.3      NaN   \n71980  2017      6   27           B              1.1      NaN   \n71981  2017      6   27           B              1.1      NaN   \n71982  2017      6   27           B              2.6  12664.0   \n71983  2017      6   28           B              1.3      NaN   \n\n                      End               Start             Maximum  \n0     1981-01-02 04:46:00 1981-01-02 04:41:00 1981-01-02 04:44:00  \n1     1981-01-02 10:04:00 1981-01-02 09:55:00 1981-01-02 10:00:00  \n2     1981-01-03 10:36:00 1981-01-03 10:25:00 1981-01-03 10:30:00  \n3     1981-01-03 15:58:00 1981-01-03 15:49:00 1981-01-03 15:53:00  \n4     1981-01-03 18:45:00 1981-01-03 18:37:00 1981-01-03 18:42:00  \n...                   ...                 ...                 ...  \n71979 2017-06-26 07:33:00 2017-06-26 07:23:00 2017-06-26 07:28:00  \n71980 2017-06-27 07:41:00 2017-06-27 07:29:00 2017-06-27 07:35:00  \n71981 2017-06-27 20:56:00 2017-06-27 20:49:00 2017-06-27 20:53:00  \n71982 2017-06-27 21:19:00 2017-06-27 21:09:00 2017-06-27 21:15:00  \n71983 2017-06-28 18:35:00 2017-06-28 12:27:00 2017-06-28 15:24:00  \n\n[71984 rows x 9 columns]",
      "text/html": "<div>\n<style scoped>\n    .dataframe tbody tr th:only-of-type {\n        vertical-align: middle;\n    }\n\n    .dataframe tbody tr th {\n        vertical-align: top;\n    }\n\n    .dataframe thead th {\n        text-align: right;\n    }\n</style>\n<table border=\"1\" class=\"dataframe\">\n  <thead>\n    <tr style=\"text-align: right;\">\n      <th></th>\n      <th>Year</th>\n      <th>Month</th>\n      <th>Day</th>\n      <th>X-ray class</th>\n      <th>X-ray intensity</th>\n      <th>Region</th>\n      <th>End</th>\n      <th>Start</th>\n      <th>Maximum</th>\n    </tr>\n  </thead>\n  <tbody>\n    <tr>\n      <th>0</th>\n      <td>1981</td>\n      <td>1</td>\n      <td>2</td>\n      <td>C</td>\n      <td>1.8</td>\n      <td>NaN</td>\n      <td>1981-01-02 04:46:00</td>\n      <td>1981-01-02 04:41:00</td>\n      <td>1981-01-02 04:44:00</td>\n    </tr>\n    <tr>\n      <th>1</th>\n      <td>1981</td>\n      <td>1</td>\n      <td>2</td>\n      <td>C</td>\n      <td>1.8</td>\n      <td>NaN</td>\n      <td>1981-01-02 10:04:00</td>\n      <td>1981-01-02 09:55:00</td>\n      <td>1981-01-02 10:00:00</td>\n    </tr>\n    <tr>\n      <th>2</th>\n      <td>1981</td>\n      <td>1</td>\n      <td>3</td>\n      <td>C</td>\n      <td>5.1</td>\n      <td>NaN</td>\n      <td>1981-01-03 10:36:00</td>\n      <td>1981-01-03 10:25:00</td>\n      <td>1981-01-03 10:30:00</td>\n    </tr>\n    <tr>\n      <th>3</th>\n      <td>1981</td>\n      <td>1</td>\n      <td>3</td>\n      <td>C</td>\n      <td>2.2</td>\n      <td>2857.0</td>\n      <td>1981-01-03 15:58:00</td>\n      <td>1981-01-03 15:49:00</td>\n      <td>1981-01-03 15:53:00</td>\n    </tr>\n    <tr>\n      <th>4</th>\n      <td>1981</td>\n      <td>1</td>\n      <td>3</td>\n      <td>C</td>\n      <td>2.2</td>\n      <td>NaN</td>\n      <td>1981-01-03 18:45:00</td>\n      <td>1981-01-03 18:37:00</td>\n      <td>1981-01-03 18:42:00</td>\n    </tr>\n    <tr>\n      <th>...</th>\n      <td>...</td>\n      <td>...</td>\n      <td>...</td>\n      <td>...</td>\n      <td>...</td>\n      <td>...</td>\n      <td>...</td>\n      <td>...</td>\n      <td>...</td>\n    </tr>\n    <tr>\n      <th>71979</th>\n      <td>2017</td>\n      <td>6</td>\n      <td>26</td>\n      <td>B</td>\n      <td>1.3</td>\n      <td>NaN</td>\n      <td>2017-06-26 07:33:00</td>\n      <td>2017-06-26 07:23:00</td>\n      <td>2017-06-26 07:28:00</td>\n    </tr>\n    <tr>\n      <th>71980</th>\n      <td>2017</td>\n      <td>6</td>\n      <td>27</td>\n      <td>B</td>\n      <td>1.1</td>\n      <td>NaN</td>\n      <td>2017-06-27 07:41:00</td>\n      <td>2017-06-27 07:29:00</td>\n      <td>2017-06-27 07:35:00</td>\n    </tr>\n    <tr>\n      <th>71981</th>\n      <td>2017</td>\n      <td>6</td>\n      <td>27</td>\n      <td>B</td>\n      <td>1.1</td>\n      <td>NaN</td>\n      <td>2017-06-27 20:56:00</td>\n      <td>2017-06-27 20:49:00</td>\n      <td>2017-06-27 20:53:00</td>\n    </tr>\n    <tr>\n      <th>71982</th>\n      <td>2017</td>\n      <td>6</td>\n      <td>27</td>\n      <td>B</td>\n      <td>2.6</td>\n      <td>12664.0</td>\n      <td>2017-06-27 21:19:00</td>\n      <td>2017-06-27 21:09:00</td>\n      <td>2017-06-27 21:15:00</td>\n    </tr>\n    <tr>\n      <th>71983</th>\n      <td>2017</td>\n      <td>6</td>\n      <td>28</td>\n      <td>B</td>\n      <td>1.3</td>\n      <td>NaN</td>\n      <td>2017-06-28 18:35:00</td>\n      <td>2017-06-28 12:27:00</td>\n      <td>2017-06-28 15:24:00</td>\n    </tr>\n  </tbody>\n</table>\n<p>71984 rows × 9 columns</p>\n</div>"
     },
     "execution_count": 22,
     "metadata": {},
     "output_type": "execute_result"
    }
   ],
   "source": [
    "df_old_data.drop(['Region'], axis=1, inplace=True)\n",
    "df_old_data = df_old_data.rename(columns={'NOAA Sunspot Group Number': 'Region',\n",
    "                                          'Start Time': 'Start',\n",
    "                                          'End Time': 'End',\n",
    "                                          'Max Time': 'Maximum',})\n",
    "df_old_data"
   ],
   "metadata": {
    "collapsed": false,
    "ExecuteTime": {
     "end_time": "2024-08-03T19:22:44.390751600Z",
     "start_time": "2024-08-03T19:22:44.356355900Z"
    }
   },
   "id": "ec06927bd1fbe6d9"
  },
  {
   "cell_type": "code",
   "execution_count": 23,
   "outputs": [],
   "source": [
    "updated_columns = ['Year', 'Month', 'Day',\n",
    "                           'Region', 'X-ray class', 'X-ray intensity',\n",
    "                           'Start', 'End', 'Maximum']\n",
    "df_old_data = df_old_data[updated_columns]\n",
    "df = df[updated_columns]"
   ],
   "metadata": {
    "collapsed": false,
    "ExecuteTime": {
     "end_time": "2024-08-03T19:22:44.413350400Z",
     "start_time": "2024-08-03T19:22:44.378377700Z"
    }
   },
   "id": "e87c086dd5b72949"
  },
  {
   "cell_type": "code",
   "execution_count": 24,
   "outputs": [
    {
     "data": {
      "text/plain": "{'Year': {int},\n 'Month': {int},\n 'Day': {int},\n 'Region': {float, str},\n 'X-ray class': {str},\n 'X-ray intensity': {float},\n 'Start': {pandas._libs.tslibs.timestamps.Timestamp},\n 'End': {pandas._libs.tslibs.timestamps.Timestamp},\n 'Maximum': {pandas._libs.tslibs.timestamps.Timestamp}}"
     },
     "execution_count": 24,
     "metadata": {},
     "output_type": "execute_result"
    }
   ],
   "source": [
    "get_all_unique_types(df)"
   ],
   "metadata": {
    "collapsed": false,
    "ExecuteTime": {
     "end_time": "2024-08-03T19:22:44.568514700Z",
     "start_time": "2024-08-03T19:22:44.383158100Z"
    }
   },
   "id": "7342267a75cef965"
  },
  {
   "cell_type": "code",
   "execution_count": 25,
   "outputs": [
    {
     "data": {
      "text/plain": "{'Year': {int},\n 'Month': {int},\n 'Day': {int},\n 'Region': {float},\n 'X-ray class': {float, str},\n 'X-ray intensity': {float},\n 'Start': {pandas._libs.tslibs.timestamps.Timestamp},\n 'End': {pandas._libs.tslibs.timestamps.Timestamp},\n 'Maximum': {pandas._libs.tslibs.timestamps.Timestamp}}"
     },
     "execution_count": 25,
     "metadata": {},
     "output_type": "execute_result"
    }
   ],
   "source": [
    "get_all_unique_types(df_old_data)"
   ],
   "metadata": {
    "collapsed": false,
    "ExecuteTime": {
     "end_time": "2024-08-03T19:22:44.718443900Z",
     "start_time": "2024-08-03T19:22:44.505249800Z"
    }
   },
   "id": "ddd1d4c9f9110a10"
  },
  {
   "cell_type": "code",
   "execution_count": 26,
   "outputs": [
    {
     "data": {
      "text/plain": "       Year  Month  Day Region X-ray class  X-ray intensity  \\\n36050  2017      7    2  12664           B             4.14   \n36051  2017      7    3  12664           B             4.64   \n36052  2017      7    3  12664           C             1.10   \n36053  2017      7    3  12664           B             2.40   \n36054  2017      7    3  12664           B             1.55   \n...     ...    ...  ...    ...         ...              ...   \n46896  2023     12   31  13536           C             2.40   \n46897  2023     12   31  13536           C             3.80   \n46898  2023     12   31  13536           C             4.20   \n46899  2023     12   31  13536           M             1.00   \n46900  2023     12   31  13536           X             5.00   \n\n                    Start                 End             Maximum  \n36050 2017-07-02 12:23:00 2017-07-02 12:59:00 2017-07-02 12:39:00  \n36051 2017-07-03 06:17:00 2017-07-03 06:25:00 2017-07-03 06:21:00  \n36052 2017-07-03 06:33:00 2017-07-03 06:39:00 2017-07-03 06:37:00  \n36053 2017-07-03 07:06:00 2017-07-03 07:12:00 2017-07-03 07:10:00  \n36054 2017-07-03 07:28:00 2017-07-03 07:34:00 2017-07-03 07:31:00  \n...                   ...                 ...                 ...  \n46896 2023-12-31 17:38:00 2023-12-31 17:51:00 2023-12-31 17:46:00  \n46897 2023-12-31 18:02:00 2023-12-31 18:28:00 2023-12-31 18:16:00  \n46898 2023-12-31 18:28:00 2023-12-31 18:44:00 2023-12-31 18:39:00  \n46899 2023-12-31 18:44:00 2023-12-31 19:40:00 2023-12-31 19:12:00  \n46900 2023-12-31 21:36:00 2023-12-31 22:08:00 2023-12-31 21:55:00  \n\n[10851 rows x 9 columns]",
      "text/html": "<div>\n<style scoped>\n    .dataframe tbody tr th:only-of-type {\n        vertical-align: middle;\n    }\n\n    .dataframe tbody tr th {\n        vertical-align: top;\n    }\n\n    .dataframe thead th {\n        text-align: right;\n    }\n</style>\n<table border=\"1\" class=\"dataframe\">\n  <thead>\n    <tr style=\"text-align: right;\">\n      <th></th>\n      <th>Year</th>\n      <th>Month</th>\n      <th>Day</th>\n      <th>Region</th>\n      <th>X-ray class</th>\n      <th>X-ray intensity</th>\n      <th>Start</th>\n      <th>End</th>\n      <th>Maximum</th>\n    </tr>\n  </thead>\n  <tbody>\n    <tr>\n      <th>36050</th>\n      <td>2017</td>\n      <td>7</td>\n      <td>2</td>\n      <td>12664</td>\n      <td>B</td>\n      <td>4.14</td>\n      <td>2017-07-02 12:23:00</td>\n      <td>2017-07-02 12:59:00</td>\n      <td>2017-07-02 12:39:00</td>\n    </tr>\n    <tr>\n      <th>36051</th>\n      <td>2017</td>\n      <td>7</td>\n      <td>3</td>\n      <td>12664</td>\n      <td>B</td>\n      <td>4.64</td>\n      <td>2017-07-03 06:17:00</td>\n      <td>2017-07-03 06:25:00</td>\n      <td>2017-07-03 06:21:00</td>\n    </tr>\n    <tr>\n      <th>36052</th>\n      <td>2017</td>\n      <td>7</td>\n      <td>3</td>\n      <td>12664</td>\n      <td>C</td>\n      <td>1.10</td>\n      <td>2017-07-03 06:33:00</td>\n      <td>2017-07-03 06:39:00</td>\n      <td>2017-07-03 06:37:00</td>\n    </tr>\n    <tr>\n      <th>36053</th>\n      <td>2017</td>\n      <td>7</td>\n      <td>3</td>\n      <td>12664</td>\n      <td>B</td>\n      <td>2.40</td>\n      <td>2017-07-03 07:06:00</td>\n      <td>2017-07-03 07:12:00</td>\n      <td>2017-07-03 07:10:00</td>\n    </tr>\n    <tr>\n      <th>36054</th>\n      <td>2017</td>\n      <td>7</td>\n      <td>3</td>\n      <td>12664</td>\n      <td>B</td>\n      <td>1.55</td>\n      <td>2017-07-03 07:28:00</td>\n      <td>2017-07-03 07:34:00</td>\n      <td>2017-07-03 07:31:00</td>\n    </tr>\n    <tr>\n      <th>...</th>\n      <td>...</td>\n      <td>...</td>\n      <td>...</td>\n      <td>...</td>\n      <td>...</td>\n      <td>...</td>\n      <td>...</td>\n      <td>...</td>\n      <td>...</td>\n    </tr>\n    <tr>\n      <th>46896</th>\n      <td>2023</td>\n      <td>12</td>\n      <td>31</td>\n      <td>13536</td>\n      <td>C</td>\n      <td>2.40</td>\n      <td>2023-12-31 17:38:00</td>\n      <td>2023-12-31 17:51:00</td>\n      <td>2023-12-31 17:46:00</td>\n    </tr>\n    <tr>\n      <th>46897</th>\n      <td>2023</td>\n      <td>12</td>\n      <td>31</td>\n      <td>13536</td>\n      <td>C</td>\n      <td>3.80</td>\n      <td>2023-12-31 18:02:00</td>\n      <td>2023-12-31 18:28:00</td>\n      <td>2023-12-31 18:16:00</td>\n    </tr>\n    <tr>\n      <th>46898</th>\n      <td>2023</td>\n      <td>12</td>\n      <td>31</td>\n      <td>13536</td>\n      <td>C</td>\n      <td>4.20</td>\n      <td>2023-12-31 18:28:00</td>\n      <td>2023-12-31 18:44:00</td>\n      <td>2023-12-31 18:39:00</td>\n    </tr>\n    <tr>\n      <th>46899</th>\n      <td>2023</td>\n      <td>12</td>\n      <td>31</td>\n      <td>13536</td>\n      <td>M</td>\n      <td>1.00</td>\n      <td>2023-12-31 18:44:00</td>\n      <td>2023-12-31 19:40:00</td>\n      <td>2023-12-31 19:12:00</td>\n    </tr>\n    <tr>\n      <th>46900</th>\n      <td>2023</td>\n      <td>12</td>\n      <td>31</td>\n      <td>13536</td>\n      <td>X</td>\n      <td>5.00</td>\n      <td>2023-12-31 21:36:00</td>\n      <td>2023-12-31 22:08:00</td>\n      <td>2023-12-31 21:55:00</td>\n    </tr>\n  </tbody>\n</table>\n<p>10851 rows × 9 columns</p>\n</div>"
     },
     "execution_count": 26,
     "metadata": {},
     "output_type": "execute_result"
    }
   ],
   "source": [
    "# take all from year 2017 to 2023\n",
    "new_data_after_2017_06 = df[(df['Year'] >= 2017) & (df['Year'] <= 2023)]\n",
    "\n",
    "# Remove all before July 2017\n",
    "new_data_after_2017_06 = new_data_after_2017_06[~((new_data_after_2017_06['Year'] == 2017) & (new_data_after_2017_06['Month'] < 7)) ]\n",
    "new_data_after_2017_06"
   ],
   "metadata": {
    "collapsed": false,
    "ExecuteTime": {
     "end_time": "2024-08-03T19:22:44.721484800Z",
     "start_time": "2024-08-03T19:22:44.649297Z"
    }
   },
   "id": "1bdfe6063523682d"
  },
  {
   "cell_type": "code",
   "execution_count": 27,
   "outputs": [
    {
     "data": {
      "text/plain": "       Year  Month  Day  Region X-ray class  X-ray intensity  \\\n0      1981      1    2     NaN           C              1.8   \n1      1981      1    2     NaN           C              1.8   \n2      1981      1    3     NaN           C              5.1   \n3      1981      1    3  2857.0           C              2.2   \n4      1981      1    3     NaN           C              2.2   \n...     ...    ...  ...     ...         ...              ...   \n82830  2023     12   31   13536           C              2.4   \n82831  2023     12   31   13536           C              3.8   \n82832  2023     12   31   13536           C              4.2   \n82833  2023     12   31   13536           M              1.0   \n82834  2023     12   31   13536           X              5.0   \n\n                    Start                 End             Maximum  \n0     1981-01-02 04:41:00 1981-01-02 04:46:00 1981-01-02 04:44:00  \n1     1981-01-02 09:55:00 1981-01-02 10:04:00 1981-01-02 10:00:00  \n2     1981-01-03 10:25:00 1981-01-03 10:36:00 1981-01-03 10:30:00  \n3     1981-01-03 15:49:00 1981-01-03 15:58:00 1981-01-03 15:53:00  \n4     1981-01-03 18:37:00 1981-01-03 18:45:00 1981-01-03 18:42:00  \n...                   ...                 ...                 ...  \n82830 2023-12-31 17:38:00 2023-12-31 17:51:00 2023-12-31 17:46:00  \n82831 2023-12-31 18:02:00 2023-12-31 18:28:00 2023-12-31 18:16:00  \n82832 2023-12-31 18:28:00 2023-12-31 18:44:00 2023-12-31 18:39:00  \n82833 2023-12-31 18:44:00 2023-12-31 19:40:00 2023-12-31 19:12:00  \n82834 2023-12-31 21:36:00 2023-12-31 22:08:00 2023-12-31 21:55:00  \n\n[82835 rows x 9 columns]",
      "text/html": "<div>\n<style scoped>\n    .dataframe tbody tr th:only-of-type {\n        vertical-align: middle;\n    }\n\n    .dataframe tbody tr th {\n        vertical-align: top;\n    }\n\n    .dataframe thead th {\n        text-align: right;\n    }\n</style>\n<table border=\"1\" class=\"dataframe\">\n  <thead>\n    <tr style=\"text-align: right;\">\n      <th></th>\n      <th>Year</th>\n      <th>Month</th>\n      <th>Day</th>\n      <th>Region</th>\n      <th>X-ray class</th>\n      <th>X-ray intensity</th>\n      <th>Start</th>\n      <th>End</th>\n      <th>Maximum</th>\n    </tr>\n  </thead>\n  <tbody>\n    <tr>\n      <th>0</th>\n      <td>1981</td>\n      <td>1</td>\n      <td>2</td>\n      <td>NaN</td>\n      <td>C</td>\n      <td>1.8</td>\n      <td>1981-01-02 04:41:00</td>\n      <td>1981-01-02 04:46:00</td>\n      <td>1981-01-02 04:44:00</td>\n    </tr>\n    <tr>\n      <th>1</th>\n      <td>1981</td>\n      <td>1</td>\n      <td>2</td>\n      <td>NaN</td>\n      <td>C</td>\n      <td>1.8</td>\n      <td>1981-01-02 09:55:00</td>\n      <td>1981-01-02 10:04:00</td>\n      <td>1981-01-02 10:00:00</td>\n    </tr>\n    <tr>\n      <th>2</th>\n      <td>1981</td>\n      <td>1</td>\n      <td>3</td>\n      <td>NaN</td>\n      <td>C</td>\n      <td>5.1</td>\n      <td>1981-01-03 10:25:00</td>\n      <td>1981-01-03 10:36:00</td>\n      <td>1981-01-03 10:30:00</td>\n    </tr>\n    <tr>\n      <th>3</th>\n      <td>1981</td>\n      <td>1</td>\n      <td>3</td>\n      <td>2857.0</td>\n      <td>C</td>\n      <td>2.2</td>\n      <td>1981-01-03 15:49:00</td>\n      <td>1981-01-03 15:58:00</td>\n      <td>1981-01-03 15:53:00</td>\n    </tr>\n    <tr>\n      <th>4</th>\n      <td>1981</td>\n      <td>1</td>\n      <td>3</td>\n      <td>NaN</td>\n      <td>C</td>\n      <td>2.2</td>\n      <td>1981-01-03 18:37:00</td>\n      <td>1981-01-03 18:45:00</td>\n      <td>1981-01-03 18:42:00</td>\n    </tr>\n    <tr>\n      <th>...</th>\n      <td>...</td>\n      <td>...</td>\n      <td>...</td>\n      <td>...</td>\n      <td>...</td>\n      <td>...</td>\n      <td>...</td>\n      <td>...</td>\n      <td>...</td>\n    </tr>\n    <tr>\n      <th>82830</th>\n      <td>2023</td>\n      <td>12</td>\n      <td>31</td>\n      <td>13536</td>\n      <td>C</td>\n      <td>2.4</td>\n      <td>2023-12-31 17:38:00</td>\n      <td>2023-12-31 17:51:00</td>\n      <td>2023-12-31 17:46:00</td>\n    </tr>\n    <tr>\n      <th>82831</th>\n      <td>2023</td>\n      <td>12</td>\n      <td>31</td>\n      <td>13536</td>\n      <td>C</td>\n      <td>3.8</td>\n      <td>2023-12-31 18:02:00</td>\n      <td>2023-12-31 18:28:00</td>\n      <td>2023-12-31 18:16:00</td>\n    </tr>\n    <tr>\n      <th>82832</th>\n      <td>2023</td>\n      <td>12</td>\n      <td>31</td>\n      <td>13536</td>\n      <td>C</td>\n      <td>4.2</td>\n      <td>2023-12-31 18:28:00</td>\n      <td>2023-12-31 18:44:00</td>\n      <td>2023-12-31 18:39:00</td>\n    </tr>\n    <tr>\n      <th>82833</th>\n      <td>2023</td>\n      <td>12</td>\n      <td>31</td>\n      <td>13536</td>\n      <td>M</td>\n      <td>1.0</td>\n      <td>2023-12-31 18:44:00</td>\n      <td>2023-12-31 19:40:00</td>\n      <td>2023-12-31 19:12:00</td>\n    </tr>\n    <tr>\n      <th>82834</th>\n      <td>2023</td>\n      <td>12</td>\n      <td>31</td>\n      <td>13536</td>\n      <td>X</td>\n      <td>5.0</td>\n      <td>2023-12-31 21:36:00</td>\n      <td>2023-12-31 22:08:00</td>\n      <td>2023-12-31 21:55:00</td>\n    </tr>\n  </tbody>\n</table>\n<p>82835 rows × 9 columns</p>\n</div>"
     },
     "execution_count": 27,
     "metadata": {},
     "output_type": "execute_result"
    }
   ],
   "source": [
    "df_merged = pd.concat([df_old_data, new_data_after_2017_06], ignore_index=True)\n",
    "df_merged"
   ],
   "metadata": {
    "collapsed": false,
    "ExecuteTime": {
     "end_time": "2024-08-03T19:22:44.722455900Z",
     "start_time": "2024-08-03T19:22:44.656998900Z"
    }
   },
   "id": "9c922a336aa932c"
  },
  {
   "cell_type": "markdown",
   "source": [
    "# Remove 1981 (because it's also removed from sunspot)"
   ],
   "metadata": {
    "collapsed": false
   },
   "id": "ab74cfac32de2de8"
  },
  {
   "cell_type": "code",
   "execution_count": 28,
   "outputs": [],
   "source": [
    "df_merged = df_merged[df_merged['Year'] != 1981]"
   ],
   "metadata": {
    "collapsed": false,
    "ExecuteTime": {
     "end_time": "2024-08-03T19:22:50.962863200Z",
     "start_time": "2024-08-03T19:22:50.936431200Z"
    }
   },
   "id": "bfdaa530f5e64656"
  },
  {
   "cell_type": "code",
   "execution_count": 29,
   "outputs": [],
   "source": [
    "df_merged.to_csv('../data/flares-processed-2.csv', index=False)"
   ],
   "metadata": {
    "collapsed": false,
    "ExecuteTime": {
     "end_time": "2024-08-03T19:22:51.632988300Z",
     "start_time": "2024-08-03T19:22:51.410513600Z"
    }
   },
   "id": "46f4d41a7b01c956"
  }
 ],
 "metadata": {
  "kernelspec": {
   "display_name": "Python 3",
   "language": "python",
   "name": "python3"
  },
  "language_info": {
   "codemirror_mode": {
    "name": "ipython",
    "version": 2
   },
   "file_extension": ".py",
   "mimetype": "text/x-python",
   "name": "python",
   "nbconvert_exporter": "python",
   "pygments_lexer": "ipython2",
   "version": "2.7.6"
  }
 },
 "nbformat": 4,
 "nbformat_minor": 5
}
