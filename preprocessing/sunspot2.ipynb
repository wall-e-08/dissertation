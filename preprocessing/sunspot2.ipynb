{
 "cells": [
  {
   "cell_type": "code",
   "execution_count": 2,
   "id": "initial_id",
   "metadata": {
    "collapsed": true,
    "ExecuteTime": {
     "end_time": "2024-08-03T19:21:47.631095400Z",
     "start_time": "2024-08-03T19:21:47.228904600Z"
    }
   },
   "outputs": [],
   "source": [
    "import numpy as np\n",
    "import pandas as pd\n",
    "import re\n",
    "\n",
    "from utils.data import get_unique_types_of_col, get_null_counts, get_all_unique_types"
   ]
  },
  {
   "cell_type": "code",
   "execution_count": 3,
   "outputs": [
    {
     "data": {
      "text/plain": "Index(['Date', 'Region', 'Sunspot Number', 'Size', 'Magnetic Classification',\n       'Sunspot Classification', 'Location'],\n      dtype='object')"
     },
     "execution_count": 3,
     "metadata": {},
     "output_type": "execute_result"
    }
   ],
   "source": [
    "df = pd.read_csv('../data/dayobs.csv')\n",
    "df.columns"
   ],
   "metadata": {
    "collapsed": false,
    "ExecuteTime": {
     "end_time": "2024-08-03T19:21:47.708864200Z",
     "start_time": "2024-08-03T19:21:47.632096500Z"
    }
   },
   "id": "8323ece9a781eb4"
  },
  {
   "cell_type": "code",
   "execution_count": 4,
   "outputs": [
    {
     "data": {
      "text/plain": "       Region  Sunspot Number  Size Location  Year  Month  Day Zurich Class  \\\n0        7968               3     0   N02E41  1996      6    4            A   \n1        7968               2    10   N02E28  1996      6    5            B   \n2        7969               1     0   N09W33  1996      6    5            A   \n3        7968               4    20   N03E12  1996      6    6            C   \n4        7969               4    10   N08W44  1996      6    6            B   \n...       ...             ...   ...      ...   ...    ...  ...          ...   \n39856   13731               1    10   S16E21  2024      6   30            A   \n39857   13732               4    30   S18W14  2024      6   30            C   \n39858   13733               4    40   N05E13  2024      6   30            D   \n39859   13734               4    60   N07E53  2024      6   30            D   \n39860   13735               1    60   N17E61  2024      6   30            H   \n\n      Penumbra Class Compactness Class  \n0                  X                 X  \n1                  X                 O  \n2                  X                 X  \n3                  R                 O  \n4                  X                 O  \n...              ...               ...  \n39856              X                 X  \n39857              A                 O  \n39858              A                 O  \n39859              A                 O  \n39860              S                 X  \n\n[39861 rows x 10 columns]",
      "text/html": "<div>\n<style scoped>\n    .dataframe tbody tr th:only-of-type {\n        vertical-align: middle;\n    }\n\n    .dataframe tbody tr th {\n        vertical-align: top;\n    }\n\n    .dataframe thead th {\n        text-align: right;\n    }\n</style>\n<table border=\"1\" class=\"dataframe\">\n  <thead>\n    <tr style=\"text-align: right;\">\n      <th></th>\n      <th>Region</th>\n      <th>Sunspot Number</th>\n      <th>Size</th>\n      <th>Location</th>\n      <th>Year</th>\n      <th>Month</th>\n      <th>Day</th>\n      <th>Zurich Class</th>\n      <th>Penumbra Class</th>\n      <th>Compactness Class</th>\n    </tr>\n  </thead>\n  <tbody>\n    <tr>\n      <th>0</th>\n      <td>7968</td>\n      <td>3</td>\n      <td>0</td>\n      <td>N02E41</td>\n      <td>1996</td>\n      <td>6</td>\n      <td>4</td>\n      <td>A</td>\n      <td>X</td>\n      <td>X</td>\n    </tr>\n    <tr>\n      <th>1</th>\n      <td>7968</td>\n      <td>2</td>\n      <td>10</td>\n      <td>N02E28</td>\n      <td>1996</td>\n      <td>6</td>\n      <td>5</td>\n      <td>B</td>\n      <td>X</td>\n      <td>O</td>\n    </tr>\n    <tr>\n      <th>2</th>\n      <td>7969</td>\n      <td>1</td>\n      <td>0</td>\n      <td>N09W33</td>\n      <td>1996</td>\n      <td>6</td>\n      <td>5</td>\n      <td>A</td>\n      <td>X</td>\n      <td>X</td>\n    </tr>\n    <tr>\n      <th>3</th>\n      <td>7968</td>\n      <td>4</td>\n      <td>20</td>\n      <td>N03E12</td>\n      <td>1996</td>\n      <td>6</td>\n      <td>6</td>\n      <td>C</td>\n      <td>R</td>\n      <td>O</td>\n    </tr>\n    <tr>\n      <th>4</th>\n      <td>7969</td>\n      <td>4</td>\n      <td>10</td>\n      <td>N08W44</td>\n      <td>1996</td>\n      <td>6</td>\n      <td>6</td>\n      <td>B</td>\n      <td>X</td>\n      <td>O</td>\n    </tr>\n    <tr>\n      <th>...</th>\n      <td>...</td>\n      <td>...</td>\n      <td>...</td>\n      <td>...</td>\n      <td>...</td>\n      <td>...</td>\n      <td>...</td>\n      <td>...</td>\n      <td>...</td>\n      <td>...</td>\n    </tr>\n    <tr>\n      <th>39856</th>\n      <td>13731</td>\n      <td>1</td>\n      <td>10</td>\n      <td>S16E21</td>\n      <td>2024</td>\n      <td>6</td>\n      <td>30</td>\n      <td>A</td>\n      <td>X</td>\n      <td>X</td>\n    </tr>\n    <tr>\n      <th>39857</th>\n      <td>13732</td>\n      <td>4</td>\n      <td>30</td>\n      <td>S18W14</td>\n      <td>2024</td>\n      <td>6</td>\n      <td>30</td>\n      <td>C</td>\n      <td>A</td>\n      <td>O</td>\n    </tr>\n    <tr>\n      <th>39858</th>\n      <td>13733</td>\n      <td>4</td>\n      <td>40</td>\n      <td>N05E13</td>\n      <td>2024</td>\n      <td>6</td>\n      <td>30</td>\n      <td>D</td>\n      <td>A</td>\n      <td>O</td>\n    </tr>\n    <tr>\n      <th>39859</th>\n      <td>13734</td>\n      <td>4</td>\n      <td>60</td>\n      <td>N07E53</td>\n      <td>2024</td>\n      <td>6</td>\n      <td>30</td>\n      <td>D</td>\n      <td>A</td>\n      <td>O</td>\n    </tr>\n    <tr>\n      <th>39860</th>\n      <td>13735</td>\n      <td>1</td>\n      <td>60</td>\n      <td>N17E61</td>\n      <td>2024</td>\n      <td>6</td>\n      <td>30</td>\n      <td>H</td>\n      <td>S</td>\n      <td>X</td>\n    </tr>\n  </tbody>\n</table>\n<p>39861 rows × 10 columns</p>\n</div>"
     },
     "execution_count": 4,
     "metadata": {},
     "output_type": "execute_result"
    }
   ],
   "source": [
    "df['Date'] = pd.to_datetime(df['Date'])\n",
    "df['Year'] = df['Date'].dt.year\n",
    "df['Month'] = df['Date'].dt.month\n",
    "df['Day'] = df['Date'].dt.day\n",
    "df['Zurich Class'] = df['Sunspot Classification'].str[0]\n",
    "df['Penumbra Class'] = df['Sunspot Classification'].str[1]\n",
    "df['Compactness Class'] = df['Sunspot Classification'].str[2]\n",
    "df.drop(['Sunspot Classification', 'Magnetic Classification', 'Date'], axis=1, inplace=True)\n",
    "df"
   ],
   "metadata": {
    "collapsed": false,
    "ExecuteTime": {
     "end_time": "2024-08-03T19:21:47.765094800Z",
     "start_time": "2024-08-03T19:21:47.701353Z"
    }
   },
   "id": "6041ce98296ad4e5"
  },
  {
   "cell_type": "code",
   "execution_count": 5,
   "outputs": [
    {
     "data": {
      "text/plain": "array(['A', 'B', 'C', 'D', 'H', 'E', 'F'], dtype=object)"
     },
     "execution_count": 5,
     "metadata": {},
     "output_type": "execute_result"
    }
   ],
   "source": [
    "df['Zurich Class'].unique()"
   ],
   "metadata": {
    "collapsed": false,
    "ExecuteTime": {
     "end_time": "2024-08-03T19:21:47.929130100Z",
     "start_time": "2024-08-03T19:21:47.872997700Z"
    }
   },
   "id": "9d555fb93b4fe1b"
  },
  {
   "cell_type": "code",
   "execution_count": 6,
   "outputs": [
    {
     "data": {
      "text/plain": "array(['X', 'R', 'S', 'A', 'H', 'K'], dtype=object)"
     },
     "execution_count": 6,
     "metadata": {},
     "output_type": "execute_result"
    }
   ],
   "source": [
    "df['Penumbra Class'].unique()"
   ],
   "metadata": {
    "collapsed": false,
    "ExecuteTime": {
     "end_time": "2024-08-03T19:21:48.060695400Z",
     "start_time": "2024-08-03T19:21:48.014192300Z"
    }
   },
   "id": "e7b534f251aa606"
  },
  {
   "cell_type": "code",
   "execution_count": 7,
   "outputs": [
    {
     "data": {
      "text/plain": "array(['X', 'O', 'I', 'C'], dtype=object)"
     },
     "execution_count": 7,
     "metadata": {},
     "output_type": "execute_result"
    }
   ],
   "source": [
    "df['Compactness Class'].unique()"
   ],
   "metadata": {
    "collapsed": false,
    "ExecuteTime": {
     "end_time": "2024-08-03T19:21:48.171105300Z",
     "start_time": "2024-08-03T19:21:48.143934100Z"
    }
   },
   "id": "172d5660be1836eb"
  },
  {
   "cell_type": "markdown",
   "source": [
    "## NOAA dataset"
   ],
   "metadata": {
    "collapsed": false
   },
   "id": "fe6a002332620055"
  },
  {
   "cell_type": "code",
   "execution_count": 8,
   "outputs": [],
   "source": [
    "sunspot_cols_and_widths = {\n",
    "  \"Data Code\": 2,\n",
    "  \"Year\": 2,\n",
    "  \"Month\": 2,\n",
    "  \"Day\": 2,\n",
    "  \"blank1\": 1,\n",
    "  \"Universal Time of Observation\": 4,\n",
    "  \"blank2\": 1,\n",
    "  \"Location\": 6,\n",
    "  \"Mt Wilson Magnetic Classification\": 4,\n",
    "  \"blank3\": 1,\n",
    "  \"Max Magnetic Field Strength\": 1,\n",
    "  \"blank4\": 1,\n",
    "  \"Mount Wilson Spot Group Number\": 5,\n",
    "  \"Subscript\": 1,\n",
    "  \"NOAA Sunspot Group Number\": 5, # NOAA/USAF sunspot group number\n",
    "  \"Subscript NOAA\": 1,  # This field is used by WDC  to subscript the NOAA/USAF sunspot number, for example 4013, 4013A.\n",
    "  \"Zurich Class\": 1,  # USAF only\n",
    "  \"Penumbra Class\": 1,  # USAF only\n",
    "  \"Compactness Class\": 1, # USAF only\n",
    "  \"blank5\": 1,\n",
    "  \"Number of Spots\": 2, # USAF only\n",
    "  \"blank6\": 1,\n",
    "  \"Longitudinal Extent\": 2, # In degrees | USAF only\n",
    "  \"Area in millionths of solar hemisphere\": 4, # USAF only\n",
    "  \"blank7\": 1,\n",
    "  \"Individual CMP Year\": 2,\n",
    "  \"Individual CMP Month\": 2,\n",
    "  \"Individual CMP Day\": 4,\n",
    "  \"blank8\": 1,\n",
    "  \"Regional CMP Year\": 2,\n",
    "  \"Regional CMP Month\": 2,\n",
    "  \"Regional CMP Day\": 4,\n",
    "  \"blank9\": 1,\n",
    "  \"Station Serial Number\": 3,\n",
    "  \"blank10\": 1,\n",
    "  \"Quality\": 1, # 1=very poor, 2=poor, 3=fair, 4=good, 5=excellent\n",
    "  \"Station\": 4, # 4-letter station abbreviation\n",
    "}"
   ],
   "metadata": {
    "collapsed": false,
    "ExecuteTime": {
     "end_time": "2024-08-03T19:21:48.476056200Z",
     "start_time": "2024-08-03T19:21:48.452871600Z"
    }
   },
   "id": "fa3104c543eebce4"
  },
  {
   "cell_type": "code",
   "execution_count": 9,
   "outputs": [],
   "source": [
    "df_old_data = pd.read_fwf(\"../spots1981-2017.txt\", header=None,\n",
    "                 widths=list(sunspot_cols_and_widths.values()),\n",
    "                 names=list(sunspot_cols_and_widths.keys()))"
   ],
   "metadata": {
    "collapsed": false,
    "ExecuteTime": {
     "end_time": "2024-08-03T19:21:52.394737Z",
     "start_time": "2024-08-03T19:21:48.606506Z"
    }
   },
   "id": "bb2e1c51ffccc706"
  },
  {
   "cell_type": "code",
   "execution_count": 10,
   "outputs": [
    {
     "data": {
      "text/plain": "        Year  Month  Day Location NOAA Sunspot Group Number Zurich Class  \\\n0         81     12    1   N13W46                      3478            E   \n1         81     12    1   N13W46                      3478            E   \n2         81     12    1   N12W47                      3478            E   \n3         81     12    1   N15W56                      3478            E   \n4         81     12    1   N13W55                      3478            E   \n...      ...    ...  ...      ...                       ...          ...   \n271878    17      6   29   N18W35                     12664            C   \n271879    17      6   29   N19W42                     12664            C   \n271880    17      6   30   N15W45                     12664            C   \n271881    17      6   30   N18W47                     12664            H   \n271882    17      6   30   N17W53                     12664            H   \n\n       Penumbra Class Compactness Class  Number of Spots  \\\n0                   K                 I             32.0   \n1                   H                 I             16.0   \n2                   H                 O             22.0   \n3                   H                 I             31.0   \n4                   H                 I             17.0   \n...               ...               ...              ...   \n271878              S                 O              2.0   \n271879              S                 O              3.0   \n271880              S                 O              2.0   \n271881              S                 X              1.0   \n271882              A                 X              1.0   \n\n        Area in millionths of solar hemisphere  \n0                                        600.0  \n1                                        530.0  \n2                                        710.0  \n3                                        670.0  \n4                                        430.0  \n...                                        ...  \n271878                                    40.0  \n271879                                    60.0  \n271880                                    60.0  \n271881                                    30.0  \n271882                                    70.0  \n\n[271883 rows x 10 columns]",
      "text/html": "<div>\n<style scoped>\n    .dataframe tbody tr th:only-of-type {\n        vertical-align: middle;\n    }\n\n    .dataframe tbody tr th {\n        vertical-align: top;\n    }\n\n    .dataframe thead th {\n        text-align: right;\n    }\n</style>\n<table border=\"1\" class=\"dataframe\">\n  <thead>\n    <tr style=\"text-align: right;\">\n      <th></th>\n      <th>Year</th>\n      <th>Month</th>\n      <th>Day</th>\n      <th>Location</th>\n      <th>NOAA Sunspot Group Number</th>\n      <th>Zurich Class</th>\n      <th>Penumbra Class</th>\n      <th>Compactness Class</th>\n      <th>Number of Spots</th>\n      <th>Area in millionths of solar hemisphere</th>\n    </tr>\n  </thead>\n  <tbody>\n    <tr>\n      <th>0</th>\n      <td>81</td>\n      <td>12</td>\n      <td>1</td>\n      <td>N13W46</td>\n      <td>3478</td>\n      <td>E</td>\n      <td>K</td>\n      <td>I</td>\n      <td>32.0</td>\n      <td>600.0</td>\n    </tr>\n    <tr>\n      <th>1</th>\n      <td>81</td>\n      <td>12</td>\n      <td>1</td>\n      <td>N13W46</td>\n      <td>3478</td>\n      <td>E</td>\n      <td>H</td>\n      <td>I</td>\n      <td>16.0</td>\n      <td>530.0</td>\n    </tr>\n    <tr>\n      <th>2</th>\n      <td>81</td>\n      <td>12</td>\n      <td>1</td>\n      <td>N12W47</td>\n      <td>3478</td>\n      <td>E</td>\n      <td>H</td>\n      <td>O</td>\n      <td>22.0</td>\n      <td>710.0</td>\n    </tr>\n    <tr>\n      <th>3</th>\n      <td>81</td>\n      <td>12</td>\n      <td>1</td>\n      <td>N15W56</td>\n      <td>3478</td>\n      <td>E</td>\n      <td>H</td>\n      <td>I</td>\n      <td>31.0</td>\n      <td>670.0</td>\n    </tr>\n    <tr>\n      <th>4</th>\n      <td>81</td>\n      <td>12</td>\n      <td>1</td>\n      <td>N13W55</td>\n      <td>3478</td>\n      <td>E</td>\n      <td>H</td>\n      <td>I</td>\n      <td>17.0</td>\n      <td>430.0</td>\n    </tr>\n    <tr>\n      <th>...</th>\n      <td>...</td>\n      <td>...</td>\n      <td>...</td>\n      <td>...</td>\n      <td>...</td>\n      <td>...</td>\n      <td>...</td>\n      <td>...</td>\n      <td>...</td>\n      <td>...</td>\n    </tr>\n    <tr>\n      <th>271878</th>\n      <td>17</td>\n      <td>6</td>\n      <td>29</td>\n      <td>N18W35</td>\n      <td>12664</td>\n      <td>C</td>\n      <td>S</td>\n      <td>O</td>\n      <td>2.0</td>\n      <td>40.0</td>\n    </tr>\n    <tr>\n      <th>271879</th>\n      <td>17</td>\n      <td>6</td>\n      <td>29</td>\n      <td>N19W42</td>\n      <td>12664</td>\n      <td>C</td>\n      <td>S</td>\n      <td>O</td>\n      <td>3.0</td>\n      <td>60.0</td>\n    </tr>\n    <tr>\n      <th>271880</th>\n      <td>17</td>\n      <td>6</td>\n      <td>30</td>\n      <td>N15W45</td>\n      <td>12664</td>\n      <td>C</td>\n      <td>S</td>\n      <td>O</td>\n      <td>2.0</td>\n      <td>60.0</td>\n    </tr>\n    <tr>\n      <th>271881</th>\n      <td>17</td>\n      <td>6</td>\n      <td>30</td>\n      <td>N18W47</td>\n      <td>12664</td>\n      <td>H</td>\n      <td>S</td>\n      <td>X</td>\n      <td>1.0</td>\n      <td>30.0</td>\n    </tr>\n    <tr>\n      <th>271882</th>\n      <td>17</td>\n      <td>6</td>\n      <td>30</td>\n      <td>N17W53</td>\n      <td>12664</td>\n      <td>H</td>\n      <td>A</td>\n      <td>X</td>\n      <td>1.0</td>\n      <td>70.0</td>\n    </tr>\n  </tbody>\n</table>\n<p>271883 rows × 10 columns</p>\n</div>"
     },
     "execution_count": 10,
     "metadata": {},
     "output_type": "execute_result"
    }
   ],
   "source": [
    "df_old_data.drop(columns=df_old_data.filter(like='blank').columns, inplace=True)\n",
    "df_old_data.drop(['Data Code', 'Max Magnetic Field Strength', 'Subscript',\n",
    "                  'Individual CMP Year', 'Individual CMP Month', 'Individual CMP Day',\n",
    "                  'Regional CMP Year', 'Regional CMP Month', 'Regional CMP Day',\n",
    "                  'Station Serial Number', 'Station', 'Universal Time of Observation',\n",
    "                  'Mount Wilson Spot Group Number', 'Subscript NOAA',\n",
    "                  'Mt Wilson Magnetic Classification',\n",
    "                  'Quality', 'Longitudinal Extent'], axis=1, inplace=True)\n",
    "df_old_data"
   ],
   "metadata": {
    "collapsed": false,
    "ExecuteTime": {
     "end_time": "2024-08-03T19:21:52.450803300Z",
     "start_time": "2024-08-03T19:21:52.397744200Z"
    }
   },
   "id": "7ab7c0f363fb377d"
  },
  {
   "cell_type": "code",
   "execution_count": 11,
   "outputs": [
    {
     "data": {
      "text/plain": "NOAA Sunspot Group Number                    37\nZurich Class                              36960\nPenumbra Class                            37027\nCompactness Class                         76113\nNumber of Spots                           36845\nArea in millionths of solar hemisphere    50532\ndtype: int64"
     },
     "execution_count": 11,
     "metadata": {},
     "output_type": "execute_result"
    }
   ],
   "source": [
    "get_null_counts(df_old_data)"
   ],
   "metadata": {
    "collapsed": false,
    "ExecuteTime": {
     "end_time": "2024-08-03T19:21:52.480676100Z",
     "start_time": "2024-08-03T19:21:52.476154300Z"
    }
   },
   "id": "e10cc3969ccebb57"
  },
  {
   "cell_type": "code",
   "execution_count": 12,
   "outputs": [
    {
     "data": {
      "text/plain": "        Year  Month  Day Location NOAA Sunspot Group Number Zurich Class  \\\n0       1981     12    1   N13W46                      3478            E   \n1       1981     12    1   N13W46                      3478            E   \n2       1981     12    1   N12W47                      3478            E   \n3       1981     12    1   N15W56                      3478            E   \n4       1981     12    1   N13W55                      3478            E   \n...      ...    ...  ...      ...                       ...          ...   \n271878  2017      6   29   N18W35                     12664            C   \n271879  2017      6   29   N19W42                     12664            C   \n271880  2017      6   30   N15W45                     12664            C   \n271881  2017      6   30   N18W47                     12664            H   \n271882  2017      6   30   N17W53                     12664            H   \n\n       Penumbra Class Compactness Class  Number of Spots  \\\n0                   K                 I             32.0   \n1                   H                 I             16.0   \n2                   H                 O             22.0   \n3                   H                 I             31.0   \n4                   H                 I             17.0   \n...               ...               ...              ...   \n271878              S                 O              2.0   \n271879              S                 O              3.0   \n271880              S                 O              2.0   \n271881              S                 X              1.0   \n271882              A                 X              1.0   \n\n        Area in millionths of solar hemisphere  \n0                                        600.0  \n1                                        530.0  \n2                                        710.0  \n3                                        670.0  \n4                                        430.0  \n...                                        ...  \n271878                                    40.0  \n271879                                    60.0  \n271880                                    60.0  \n271881                                    30.0  \n271882                                    70.0  \n\n[271883 rows x 10 columns]",
      "text/html": "<div>\n<style scoped>\n    .dataframe tbody tr th:only-of-type {\n        vertical-align: middle;\n    }\n\n    .dataframe tbody tr th {\n        vertical-align: top;\n    }\n\n    .dataframe thead th {\n        text-align: right;\n    }\n</style>\n<table border=\"1\" class=\"dataframe\">\n  <thead>\n    <tr style=\"text-align: right;\">\n      <th></th>\n      <th>Year</th>\n      <th>Month</th>\n      <th>Day</th>\n      <th>Location</th>\n      <th>NOAA Sunspot Group Number</th>\n      <th>Zurich Class</th>\n      <th>Penumbra Class</th>\n      <th>Compactness Class</th>\n      <th>Number of Spots</th>\n      <th>Area in millionths of solar hemisphere</th>\n    </tr>\n  </thead>\n  <tbody>\n    <tr>\n      <th>0</th>\n      <td>1981</td>\n      <td>12</td>\n      <td>1</td>\n      <td>N13W46</td>\n      <td>3478</td>\n      <td>E</td>\n      <td>K</td>\n      <td>I</td>\n      <td>32.0</td>\n      <td>600.0</td>\n    </tr>\n    <tr>\n      <th>1</th>\n      <td>1981</td>\n      <td>12</td>\n      <td>1</td>\n      <td>N13W46</td>\n      <td>3478</td>\n      <td>E</td>\n      <td>H</td>\n      <td>I</td>\n      <td>16.0</td>\n      <td>530.0</td>\n    </tr>\n    <tr>\n      <th>2</th>\n      <td>1981</td>\n      <td>12</td>\n      <td>1</td>\n      <td>N12W47</td>\n      <td>3478</td>\n      <td>E</td>\n      <td>H</td>\n      <td>O</td>\n      <td>22.0</td>\n      <td>710.0</td>\n    </tr>\n    <tr>\n      <th>3</th>\n      <td>1981</td>\n      <td>12</td>\n      <td>1</td>\n      <td>N15W56</td>\n      <td>3478</td>\n      <td>E</td>\n      <td>H</td>\n      <td>I</td>\n      <td>31.0</td>\n      <td>670.0</td>\n    </tr>\n    <tr>\n      <th>4</th>\n      <td>1981</td>\n      <td>12</td>\n      <td>1</td>\n      <td>N13W55</td>\n      <td>3478</td>\n      <td>E</td>\n      <td>H</td>\n      <td>I</td>\n      <td>17.0</td>\n      <td>430.0</td>\n    </tr>\n    <tr>\n      <th>...</th>\n      <td>...</td>\n      <td>...</td>\n      <td>...</td>\n      <td>...</td>\n      <td>...</td>\n      <td>...</td>\n      <td>...</td>\n      <td>...</td>\n      <td>...</td>\n      <td>...</td>\n    </tr>\n    <tr>\n      <th>271878</th>\n      <td>2017</td>\n      <td>6</td>\n      <td>29</td>\n      <td>N18W35</td>\n      <td>12664</td>\n      <td>C</td>\n      <td>S</td>\n      <td>O</td>\n      <td>2.0</td>\n      <td>40.0</td>\n    </tr>\n    <tr>\n      <th>271879</th>\n      <td>2017</td>\n      <td>6</td>\n      <td>29</td>\n      <td>N19W42</td>\n      <td>12664</td>\n      <td>C</td>\n      <td>S</td>\n      <td>O</td>\n      <td>3.0</td>\n      <td>60.0</td>\n    </tr>\n    <tr>\n      <th>271880</th>\n      <td>2017</td>\n      <td>6</td>\n      <td>30</td>\n      <td>N15W45</td>\n      <td>12664</td>\n      <td>C</td>\n      <td>S</td>\n      <td>O</td>\n      <td>2.0</td>\n      <td>60.0</td>\n    </tr>\n    <tr>\n      <th>271881</th>\n      <td>2017</td>\n      <td>6</td>\n      <td>30</td>\n      <td>N18W47</td>\n      <td>12664</td>\n      <td>H</td>\n      <td>S</td>\n      <td>X</td>\n      <td>1.0</td>\n      <td>30.0</td>\n    </tr>\n    <tr>\n      <th>271882</th>\n      <td>2017</td>\n      <td>6</td>\n      <td>30</td>\n      <td>N17W53</td>\n      <td>12664</td>\n      <td>H</td>\n      <td>A</td>\n      <td>X</td>\n      <td>1.0</td>\n      <td>70.0</td>\n    </tr>\n  </tbody>\n</table>\n<p>271883 rows × 10 columns</p>\n</div>"
     },
     "execution_count": 12,
     "metadata": {},
     "output_type": "execute_result"
    }
   ],
   "source": [
    "df_old_data['Year'] = df_old_data['Year'].astype(int).apply(lambda x: 1900 + x if x > 50 else 2000 + x)\n",
    "df_old_data['Month'] = df_old_data['Month'].astype(int)\n",
    "df_old_data['Day'] = df_old_data['Day'].astype(int)\n",
    "\n",
    "df_old_data"
   ],
   "metadata": {
    "collapsed": false,
    "ExecuteTime": {
     "end_time": "2024-08-03T19:21:52.577059800Z",
     "start_time": "2024-08-03T19:21:52.482178800Z"
    }
   },
   "id": "f4988f940eddc16c"
  },
  {
   "cell_type": "code",
   "execution_count": 13,
   "outputs": [
    {
     "data": {
      "text/plain": "array(['E', nan, 'C', 'B', 'A', 'D', 'H', 'F', 'X', '?'], dtype=object)"
     },
     "execution_count": 13,
     "metadata": {},
     "output_type": "execute_result"
    }
   ],
   "source": [
    "df_old_data['Zurich Class'].unique()"
   ],
   "metadata": {
    "collapsed": false,
    "ExecuteTime": {
     "end_time": "2024-08-03T19:21:52.582892800Z",
     "start_time": "2024-08-03T19:21:52.539457600Z"
    }
   },
   "id": "77d85a42ca45680d"
  },
  {
   "cell_type": "code",
   "execution_count": 14,
   "outputs": [
    {
     "data": {
      "text/plain": "array(['K', 'H', 'S', nan, 'A', 'X', 'R', 'O'], dtype=object)"
     },
     "execution_count": 14,
     "metadata": {},
     "output_type": "execute_result"
    }
   ],
   "source": [
    "df_old_data['Penumbra Class'].unique()"
   ],
   "metadata": {
    "collapsed": false,
    "ExecuteTime": {
     "end_time": "2024-08-03T19:21:52.588419300Z",
     "start_time": "2024-08-03T19:21:52.542982400Z"
    }
   },
   "id": "5fdc2059b589e79f"
  },
  {
   "cell_type": "code",
   "execution_count": 15,
   "outputs": [
    {
     "data": {
      "text/plain": "array(['I', 'O', nan, 'X', 'C', '?', '0'], dtype=object)"
     },
     "execution_count": 15,
     "metadata": {},
     "output_type": "execute_result"
    }
   ],
   "source": [
    "df_old_data['Compactness Class'].unique()"
   ],
   "metadata": {
    "collapsed": false,
    "ExecuteTime": {
     "end_time": "2024-08-03T19:21:52.630378100Z",
     "start_time": "2024-08-03T19:21:52.554037900Z"
    }
   },
   "id": "783a1a9302b6cc2b"
  },
  {
   "cell_type": "code",
   "execution_count": 16,
   "outputs": [],
   "source": [
    "def mcintosh_class_fix(input_string):\n",
    "  if input_string == '0':\n",
    "    return 'O'\n",
    "  elif input_string == '?':\n",
    "    return np.nan\n",
    "  else:\n",
    "    return input_string"
   ],
   "metadata": {
    "collapsed": false,
    "ExecuteTime": {
     "end_time": "2024-08-03T19:21:52.630378100Z",
     "start_time": "2024-08-03T19:21:52.567060600Z"
    }
   },
   "id": "663500c88a244811"
  },
  {
   "cell_type": "code",
   "execution_count": 17,
   "outputs": [
    {
     "data": {
      "text/plain": "array(['I', 'O', nan, 'X', 'C'], dtype=object)"
     },
     "execution_count": 17,
     "metadata": {},
     "output_type": "execute_result"
    }
   ],
   "source": [
    "df_old_data['Zurich Class'] = df_old_data['Zurich Class'].apply(mcintosh_class_fix)\n",
    "df_old_data['Penumbra Class'] = df_old_data['Penumbra Class'].apply(mcintosh_class_fix)\n",
    "df_old_data['Compactness Class'] = df_old_data['Compactness Class'].apply(mcintosh_class_fix)\n",
    "df_old_data['Compactness Class'].unique()"
   ],
   "metadata": {
    "collapsed": false,
    "ExecuteTime": {
     "end_time": "2024-08-03T19:21:52.710997800Z",
     "start_time": "2024-08-03T19:21:52.576069Z"
    }
   },
   "id": "9681e89d2d7d7981"
  },
  {
   "cell_type": "code",
   "execution_count": 18,
   "outputs": [
    {
     "data": {
      "text/plain": "Index(['Region', 'Sunspot Number', 'Size', 'Location', 'Year', 'Month', 'Day',\n       'Zurich Class', 'Penumbra Class', 'Compactness Class'],\n      dtype='object')"
     },
     "execution_count": 18,
     "metadata": {},
     "output_type": "execute_result"
    }
   ],
   "source": [
    "df.columns"
   ],
   "metadata": {
    "collapsed": false,
    "ExecuteTime": {
     "end_time": "2024-08-03T19:21:52.710997800Z",
     "start_time": "2024-08-03T19:21:52.643308200Z"
    }
   },
   "id": "6c15f30f3bf7291d"
  },
  {
   "cell_type": "code",
   "execution_count": 19,
   "outputs": [
    {
     "data": {
      "text/plain": "Index(['Year', 'Month', 'Day', 'Location', 'NOAA Sunspot Group Number',\n       'Zurich Class', 'Penumbra Class', 'Compactness Class',\n       'Number of Spots', 'Area in millionths of solar hemisphere'],\n      dtype='object')"
     },
     "execution_count": 19,
     "metadata": {},
     "output_type": "execute_result"
    }
   ],
   "source": [
    "df_old_data.columns"
   ],
   "metadata": {
    "collapsed": false,
    "ExecuteTime": {
     "end_time": "2024-08-03T19:21:52.779110200Z",
     "start_time": "2024-08-03T19:21:52.646311600Z"
    }
   },
   "id": "8d5d2acf44c5cd4b"
  },
  {
   "cell_type": "markdown",
   "source": [
    "### Items need to be cross-checked:\n",
    "| New Data | Old Data                               |\n",
    "|----------|----------------------------------------|\n",
    "| Region   | NOAA Sunspot Group Number              |\n",
    "| Size     | Area in millionths of solar hemisphere |\n",
    "\n",
    "### Columns name update:\n",
    "| New Data                    | Old Data                               |\n",
    "|-----------------------------|----------------------------------------|\n",
    "| [x] Region                  | NOAA Sunspot Group Number              |\n",
    "| [x] Size                    | Area in millionths of solar hemisphere |\n",
    "| [x] Sunspot Number          | Number of Spots                        |\n",
    "| [-] Magnetic Classification | Mt Wilson Magnetic Classification      |"
   ],
   "metadata": {
    "collapsed": false
   },
   "id": "c9cb3535689ddd8f"
  },
  {
   "cell_type": "code",
   "execution_count": 20,
   "outputs": [
    {
     "data": {
      "text/plain": "        Year  Month  Day Location Region Zurich Class Penumbra Class  \\\n0       1981     12    1   N13W46   3478            E              K   \n1       1981     12    1   N13W46   3478            E              H   \n2       1981     12    1   N12W47   3478            E              H   \n3       1981     12    1   N15W56   3478            E              H   \n4       1981     12    1   N13W55   3478            E              H   \n...      ...    ...  ...      ...    ...          ...            ...   \n271878  2017      6   29   N18W35  12664            C              S   \n271879  2017      6   29   N19W42  12664            C              S   \n271880  2017      6   30   N15W45  12664            C              S   \n271881  2017      6   30   N18W47  12664            H              S   \n271882  2017      6   30   N17W53  12664            H              A   \n\n       Compactness Class  Sunspot Number   Size  \n0                      I            32.0  600.0  \n1                      I            16.0  530.0  \n2                      O            22.0  710.0  \n3                      I            31.0  670.0  \n4                      I            17.0  430.0  \n...                  ...             ...    ...  \n271878                 O             2.0   40.0  \n271879                 O             3.0   60.0  \n271880                 O             2.0   60.0  \n271881                 X             1.0   30.0  \n271882                 X             1.0   70.0  \n\n[271883 rows x 10 columns]",
      "text/html": "<div>\n<style scoped>\n    .dataframe tbody tr th:only-of-type {\n        vertical-align: middle;\n    }\n\n    .dataframe tbody tr th {\n        vertical-align: top;\n    }\n\n    .dataframe thead th {\n        text-align: right;\n    }\n</style>\n<table border=\"1\" class=\"dataframe\">\n  <thead>\n    <tr style=\"text-align: right;\">\n      <th></th>\n      <th>Year</th>\n      <th>Month</th>\n      <th>Day</th>\n      <th>Location</th>\n      <th>Region</th>\n      <th>Zurich Class</th>\n      <th>Penumbra Class</th>\n      <th>Compactness Class</th>\n      <th>Sunspot Number</th>\n      <th>Size</th>\n    </tr>\n  </thead>\n  <tbody>\n    <tr>\n      <th>0</th>\n      <td>1981</td>\n      <td>12</td>\n      <td>1</td>\n      <td>N13W46</td>\n      <td>3478</td>\n      <td>E</td>\n      <td>K</td>\n      <td>I</td>\n      <td>32.0</td>\n      <td>600.0</td>\n    </tr>\n    <tr>\n      <th>1</th>\n      <td>1981</td>\n      <td>12</td>\n      <td>1</td>\n      <td>N13W46</td>\n      <td>3478</td>\n      <td>E</td>\n      <td>H</td>\n      <td>I</td>\n      <td>16.0</td>\n      <td>530.0</td>\n    </tr>\n    <tr>\n      <th>2</th>\n      <td>1981</td>\n      <td>12</td>\n      <td>1</td>\n      <td>N12W47</td>\n      <td>3478</td>\n      <td>E</td>\n      <td>H</td>\n      <td>O</td>\n      <td>22.0</td>\n      <td>710.0</td>\n    </tr>\n    <tr>\n      <th>3</th>\n      <td>1981</td>\n      <td>12</td>\n      <td>1</td>\n      <td>N15W56</td>\n      <td>3478</td>\n      <td>E</td>\n      <td>H</td>\n      <td>I</td>\n      <td>31.0</td>\n      <td>670.0</td>\n    </tr>\n    <tr>\n      <th>4</th>\n      <td>1981</td>\n      <td>12</td>\n      <td>1</td>\n      <td>N13W55</td>\n      <td>3478</td>\n      <td>E</td>\n      <td>H</td>\n      <td>I</td>\n      <td>17.0</td>\n      <td>430.0</td>\n    </tr>\n    <tr>\n      <th>...</th>\n      <td>...</td>\n      <td>...</td>\n      <td>...</td>\n      <td>...</td>\n      <td>...</td>\n      <td>...</td>\n      <td>...</td>\n      <td>...</td>\n      <td>...</td>\n      <td>...</td>\n    </tr>\n    <tr>\n      <th>271878</th>\n      <td>2017</td>\n      <td>6</td>\n      <td>29</td>\n      <td>N18W35</td>\n      <td>12664</td>\n      <td>C</td>\n      <td>S</td>\n      <td>O</td>\n      <td>2.0</td>\n      <td>40.0</td>\n    </tr>\n    <tr>\n      <th>271879</th>\n      <td>2017</td>\n      <td>6</td>\n      <td>29</td>\n      <td>N19W42</td>\n      <td>12664</td>\n      <td>C</td>\n      <td>S</td>\n      <td>O</td>\n      <td>3.0</td>\n      <td>60.0</td>\n    </tr>\n    <tr>\n      <th>271880</th>\n      <td>2017</td>\n      <td>6</td>\n      <td>30</td>\n      <td>N15W45</td>\n      <td>12664</td>\n      <td>C</td>\n      <td>S</td>\n      <td>O</td>\n      <td>2.0</td>\n      <td>60.0</td>\n    </tr>\n    <tr>\n      <th>271881</th>\n      <td>2017</td>\n      <td>6</td>\n      <td>30</td>\n      <td>N18W47</td>\n      <td>12664</td>\n      <td>H</td>\n      <td>S</td>\n      <td>X</td>\n      <td>1.0</td>\n      <td>30.0</td>\n    </tr>\n    <tr>\n      <th>271882</th>\n      <td>2017</td>\n      <td>6</td>\n      <td>30</td>\n      <td>N17W53</td>\n      <td>12664</td>\n      <td>H</td>\n      <td>A</td>\n      <td>X</td>\n      <td>1.0</td>\n      <td>70.0</td>\n    </tr>\n  </tbody>\n</table>\n<p>271883 rows × 10 columns</p>\n</div>"
     },
     "execution_count": 20,
     "metadata": {},
     "output_type": "execute_result"
    }
   ],
   "source": [
    "df_old_data.rename(columns={\n",
    "  'NOAA Sunspot Group Number': 'Region',\n",
    "  'Area in millionths of solar hemisphere': 'Size',\n",
    "  'Number of Spots': 'Sunspot Number',\n",
    "  # 'Mt Wilson Magnetic Classification': 'Magnetic Classification',\n",
    "}, inplace=True)\n",
    "df_old_data"
   ],
   "metadata": {
    "collapsed": false,
    "ExecuteTime": {
     "end_time": "2024-08-03T19:21:52.786183900Z",
     "start_time": "2024-08-03T19:21:52.656417800Z"
    }
   },
   "id": "9704d3750743ad72"
  },
  {
   "cell_type": "code",
   "execution_count": 21,
   "outputs": [
    {
     "data": {
      "text/plain": "(271883, 10)"
     },
     "execution_count": 21,
     "metadata": {},
     "output_type": "execute_result"
    }
   ],
   "source": [
    "df_old_data.shape"
   ],
   "metadata": {
    "collapsed": false,
    "ExecuteTime": {
     "end_time": "2024-08-03T19:21:52.791320800Z",
     "start_time": "2024-08-03T19:21:52.670003900Z"
    }
   },
   "id": "2ecebf94d315e850"
  },
  {
   "cell_type": "code",
   "execution_count": 22,
   "outputs": [],
   "source": [
    "# df_old_data.dropna(subset=['Sunspot Number'], inplace=True)\n",
    "# df_old_data.shape"
   ],
   "metadata": {
    "collapsed": false,
    "ExecuteTime": {
     "end_time": "2024-08-03T19:21:52.791320800Z",
     "start_time": "2024-08-03T19:21:52.679521200Z"
    }
   },
   "id": "c4c47366185a516"
  },
  {
   "cell_type": "markdown",
   "source": [
    "# Cross checking"
   ],
   "metadata": {
    "collapsed": false
   },
   "id": "9273d9e390c657c7"
  },
  {
   "cell_type": "code",
   "execution_count": 23,
   "outputs": [],
   "source": [
    "df_old_data = df_old_data[df.columns]"
   ],
   "metadata": {
    "collapsed": false,
    "ExecuteTime": {
     "end_time": "2024-08-03T19:21:53.166767800Z",
     "start_time": "2024-08-03T19:21:53.094593800Z"
    }
   },
   "id": "c26d53cdcb727571"
  },
  {
   "cell_type": "code",
   "execution_count": 24,
   "outputs": [
    {
     "data": {
      "text/plain": "min    1996.0\nmax    2024.0\nName: Year, dtype: float64"
     },
     "execution_count": 24,
     "metadata": {},
     "output_type": "execute_result"
    }
   ],
   "source": [
    "df['Year'].describe()[['min', 'max']]"
   ],
   "metadata": {
    "collapsed": false,
    "ExecuteTime": {
     "end_time": "2024-08-03T19:21:53.349888300Z",
     "start_time": "2024-08-03T19:21:53.265343100Z"
    }
   },
   "id": "5aa215007c551be9"
  },
  {
   "cell_type": "code",
   "execution_count": 25,
   "outputs": [
    {
     "data": {
      "text/plain": "min    1981.0\nmax    2017.0\nName: Year, dtype: float64"
     },
     "execution_count": 25,
     "metadata": {},
     "output_type": "execute_result"
    }
   ],
   "source": [
    "df_old_data['Year'].describe()[['min', 'max']]"
   ],
   "metadata": {
    "collapsed": false,
    "ExecuteTime": {
     "end_time": "2024-08-03T19:21:53.499978300Z",
     "start_time": "2024-08-03T19:21:53.423290900Z"
    }
   },
   "id": "338eace0e662252a"
  },
  {
   "cell_type": "code",
   "execution_count": 26,
   "outputs": [
    {
     "data": {
      "text/plain": "min    1.0\nmax    6.0\nName: Month, dtype: float64"
     },
     "execution_count": 26,
     "metadata": {},
     "output_type": "execute_result"
    }
   ],
   "source": [
    "df_old_data[df_old_data['Year'] == 2017]['Month'].describe()[['min', 'max']]"
   ],
   "metadata": {
    "collapsed": false,
    "ExecuteTime": {
     "end_time": "2024-08-03T19:21:53.671059800Z",
     "start_time": "2024-08-03T19:21:53.530251Z"
    }
   },
   "id": "cf941d357e1cba6b"
  },
  {
   "cell_type": "code",
   "execution_count": 27,
   "outputs": [
    {
     "data": {
      "text/plain": "min     1.0\nmax    30.0\nName: Day, dtype: float64"
     },
     "execution_count": 27,
     "metadata": {},
     "output_type": "execute_result"
    }
   ],
   "source": [
    "df_old_data[(df_old_data['Year'] == 2017) & (df_old_data['Month'] == 6)]['Day'].describe()[['min', 'max']]"
   ],
   "metadata": {
    "collapsed": false,
    "ExecuteTime": {
     "end_time": "2024-08-03T19:21:53.915776400Z",
     "start_time": "2024-08-03T19:21:53.770853300Z"
    }
   },
   "id": "edfba4f851de169a"
  },
  {
   "cell_type": "markdown",
   "source": [
    "# Latest entry of old data is 30/06/2017, Consider taking new data after that"
   ],
   "metadata": {
    "collapsed": false
   },
   "id": "5aada636a937e4e7"
  },
  {
   "cell_type": "code",
   "execution_count": 28,
   "outputs": [
    {
     "data": {
      "text/plain": "       Region  Sunspot Number  Size Location  Year  Month  Day Zurich Class  \\\n31731   12664               1    50   N17W58  2017      7    1            H   \n31732   12664               1    20   N18W71  2017      7    2            H   \n31733   12664               1    20   N18W85  2017      7    3            H   \n31734   12665               1    70   S05E78  2017      7    6            H   \n31735   12665               6   140   S06E64  2017      7    7            D   \n...       ...             ...   ...      ...   ...    ...  ...          ...   \n38244   13534              12   150   S13E16  2023     12   30            D   \n38245   13531               1   160   S19W77  2023     12   31            H   \n38246   13533               2    20   N15W78  2023     12   31            B   \n38247   13534              10   120   S12E03  2023     12   31            D   \n38248   13536               2    80   N05E75  2023     12   31            H   \n\n      Penumbra Class Compactness Class  \n31731              S                 X  \n31732              S                 X  \n31733              S                 X  \n31734              S                 X  \n31735              A                 I  \n...              ...               ...  \n38244              A                 O  \n38245              S                 X  \n38246              X                 O  \n38247              A                 O  \n38248              A                 X  \n\n[6518 rows x 10 columns]",
      "text/html": "<div>\n<style scoped>\n    .dataframe tbody tr th:only-of-type {\n        vertical-align: middle;\n    }\n\n    .dataframe tbody tr th {\n        vertical-align: top;\n    }\n\n    .dataframe thead th {\n        text-align: right;\n    }\n</style>\n<table border=\"1\" class=\"dataframe\">\n  <thead>\n    <tr style=\"text-align: right;\">\n      <th></th>\n      <th>Region</th>\n      <th>Sunspot Number</th>\n      <th>Size</th>\n      <th>Location</th>\n      <th>Year</th>\n      <th>Month</th>\n      <th>Day</th>\n      <th>Zurich Class</th>\n      <th>Penumbra Class</th>\n      <th>Compactness Class</th>\n    </tr>\n  </thead>\n  <tbody>\n    <tr>\n      <th>31731</th>\n      <td>12664</td>\n      <td>1</td>\n      <td>50</td>\n      <td>N17W58</td>\n      <td>2017</td>\n      <td>7</td>\n      <td>1</td>\n      <td>H</td>\n      <td>S</td>\n      <td>X</td>\n    </tr>\n    <tr>\n      <th>31732</th>\n      <td>12664</td>\n      <td>1</td>\n      <td>20</td>\n      <td>N18W71</td>\n      <td>2017</td>\n      <td>7</td>\n      <td>2</td>\n      <td>H</td>\n      <td>S</td>\n      <td>X</td>\n    </tr>\n    <tr>\n      <th>31733</th>\n      <td>12664</td>\n      <td>1</td>\n      <td>20</td>\n      <td>N18W85</td>\n      <td>2017</td>\n      <td>7</td>\n      <td>3</td>\n      <td>H</td>\n      <td>S</td>\n      <td>X</td>\n    </tr>\n    <tr>\n      <th>31734</th>\n      <td>12665</td>\n      <td>1</td>\n      <td>70</td>\n      <td>S05E78</td>\n      <td>2017</td>\n      <td>7</td>\n      <td>6</td>\n      <td>H</td>\n      <td>S</td>\n      <td>X</td>\n    </tr>\n    <tr>\n      <th>31735</th>\n      <td>12665</td>\n      <td>6</td>\n      <td>140</td>\n      <td>S06E64</td>\n      <td>2017</td>\n      <td>7</td>\n      <td>7</td>\n      <td>D</td>\n      <td>A</td>\n      <td>I</td>\n    </tr>\n    <tr>\n      <th>...</th>\n      <td>...</td>\n      <td>...</td>\n      <td>...</td>\n      <td>...</td>\n      <td>...</td>\n      <td>...</td>\n      <td>...</td>\n      <td>...</td>\n      <td>...</td>\n      <td>...</td>\n    </tr>\n    <tr>\n      <th>38244</th>\n      <td>13534</td>\n      <td>12</td>\n      <td>150</td>\n      <td>S13E16</td>\n      <td>2023</td>\n      <td>12</td>\n      <td>30</td>\n      <td>D</td>\n      <td>A</td>\n      <td>O</td>\n    </tr>\n    <tr>\n      <th>38245</th>\n      <td>13531</td>\n      <td>1</td>\n      <td>160</td>\n      <td>S19W77</td>\n      <td>2023</td>\n      <td>12</td>\n      <td>31</td>\n      <td>H</td>\n      <td>S</td>\n      <td>X</td>\n    </tr>\n    <tr>\n      <th>38246</th>\n      <td>13533</td>\n      <td>2</td>\n      <td>20</td>\n      <td>N15W78</td>\n      <td>2023</td>\n      <td>12</td>\n      <td>31</td>\n      <td>B</td>\n      <td>X</td>\n      <td>O</td>\n    </tr>\n    <tr>\n      <th>38247</th>\n      <td>13534</td>\n      <td>10</td>\n      <td>120</td>\n      <td>S12E03</td>\n      <td>2023</td>\n      <td>12</td>\n      <td>31</td>\n      <td>D</td>\n      <td>A</td>\n      <td>O</td>\n    </tr>\n    <tr>\n      <th>38248</th>\n      <td>13536</td>\n      <td>2</td>\n      <td>80</td>\n      <td>N05E75</td>\n      <td>2023</td>\n      <td>12</td>\n      <td>31</td>\n      <td>H</td>\n      <td>A</td>\n      <td>X</td>\n    </tr>\n  </tbody>\n</table>\n<p>6518 rows × 10 columns</p>\n</div>"
     },
     "execution_count": 28,
     "metadata": {},
     "output_type": "execute_result"
    }
   ],
   "source": [
    "# take all from year 2017 to 2023\n",
    "new_data_after_2017_06 = df[(df['Year'] >= 2017) & (df['Year'] <= 2023)]\n",
    "\n",
    "# Remove all before July 2017\n",
    "new_data_after_2017_06 = new_data_after_2017_06[~((new_data_after_2017_06['Year'] == 2017) & (new_data_after_2017_06['Month'] < 7)) ]\n",
    "new_data_after_2017_06"
   ],
   "metadata": {
    "collapsed": false,
    "ExecuteTime": {
     "end_time": "2024-08-03T19:21:54.239279200Z",
     "start_time": "2024-08-03T19:21:54.186476Z"
    }
   },
   "id": "e79828c60f374603"
  },
  {
   "cell_type": "code",
   "execution_count": 29,
   "outputs": [
    {
     "data": {
      "text/plain": "       Region  Sunspot Number   Size Location  Year  Month  Day Zurich Class  \\\n0        3478            32.0  600.0   N13W46  1981     12    1            E   \n1        3478            16.0  530.0   N13W46  1981     12    1            E   \n2        3478            22.0  710.0   N12W47  1981     12    1            E   \n3        3478            31.0  670.0   N15W56  1981     12    1            E   \n4        3478            17.0  430.0   N13W55  1981     12    1            E   \n...       ...             ...    ...      ...   ...    ...  ...          ...   \n278396  13534            12.0  150.0   S13E16  2023     12   30            D   \n278397  13531             1.0  160.0   S19W77  2023     12   31            H   \n278398  13533             2.0   20.0   N15W78  2023     12   31            B   \n278399  13534            10.0  120.0   S12E03  2023     12   31            D   \n278400  13536             2.0   80.0   N05E75  2023     12   31            H   \n\n       Penumbra Class Compactness Class  \n0                   K                 I  \n1                   H                 I  \n2                   H                 O  \n3                   H                 I  \n4                   H                 I  \n...               ...               ...  \n278396              A                 O  \n278397              S                 X  \n278398              X                 O  \n278399              A                 O  \n278400              A                 X  \n\n[278401 rows x 10 columns]",
      "text/html": "<div>\n<style scoped>\n    .dataframe tbody tr th:only-of-type {\n        vertical-align: middle;\n    }\n\n    .dataframe tbody tr th {\n        vertical-align: top;\n    }\n\n    .dataframe thead th {\n        text-align: right;\n    }\n</style>\n<table border=\"1\" class=\"dataframe\">\n  <thead>\n    <tr style=\"text-align: right;\">\n      <th></th>\n      <th>Region</th>\n      <th>Sunspot Number</th>\n      <th>Size</th>\n      <th>Location</th>\n      <th>Year</th>\n      <th>Month</th>\n      <th>Day</th>\n      <th>Zurich Class</th>\n      <th>Penumbra Class</th>\n      <th>Compactness Class</th>\n    </tr>\n  </thead>\n  <tbody>\n    <tr>\n      <th>0</th>\n      <td>3478</td>\n      <td>32.0</td>\n      <td>600.0</td>\n      <td>N13W46</td>\n      <td>1981</td>\n      <td>12</td>\n      <td>1</td>\n      <td>E</td>\n      <td>K</td>\n      <td>I</td>\n    </tr>\n    <tr>\n      <th>1</th>\n      <td>3478</td>\n      <td>16.0</td>\n      <td>530.0</td>\n      <td>N13W46</td>\n      <td>1981</td>\n      <td>12</td>\n      <td>1</td>\n      <td>E</td>\n      <td>H</td>\n      <td>I</td>\n    </tr>\n    <tr>\n      <th>2</th>\n      <td>3478</td>\n      <td>22.0</td>\n      <td>710.0</td>\n      <td>N12W47</td>\n      <td>1981</td>\n      <td>12</td>\n      <td>1</td>\n      <td>E</td>\n      <td>H</td>\n      <td>O</td>\n    </tr>\n    <tr>\n      <th>3</th>\n      <td>3478</td>\n      <td>31.0</td>\n      <td>670.0</td>\n      <td>N15W56</td>\n      <td>1981</td>\n      <td>12</td>\n      <td>1</td>\n      <td>E</td>\n      <td>H</td>\n      <td>I</td>\n    </tr>\n    <tr>\n      <th>4</th>\n      <td>3478</td>\n      <td>17.0</td>\n      <td>430.0</td>\n      <td>N13W55</td>\n      <td>1981</td>\n      <td>12</td>\n      <td>1</td>\n      <td>E</td>\n      <td>H</td>\n      <td>I</td>\n    </tr>\n    <tr>\n      <th>...</th>\n      <td>...</td>\n      <td>...</td>\n      <td>...</td>\n      <td>...</td>\n      <td>...</td>\n      <td>...</td>\n      <td>...</td>\n      <td>...</td>\n      <td>...</td>\n      <td>...</td>\n    </tr>\n    <tr>\n      <th>278396</th>\n      <td>13534</td>\n      <td>12.0</td>\n      <td>150.0</td>\n      <td>S13E16</td>\n      <td>2023</td>\n      <td>12</td>\n      <td>30</td>\n      <td>D</td>\n      <td>A</td>\n      <td>O</td>\n    </tr>\n    <tr>\n      <th>278397</th>\n      <td>13531</td>\n      <td>1.0</td>\n      <td>160.0</td>\n      <td>S19W77</td>\n      <td>2023</td>\n      <td>12</td>\n      <td>31</td>\n      <td>H</td>\n      <td>S</td>\n      <td>X</td>\n    </tr>\n    <tr>\n      <th>278398</th>\n      <td>13533</td>\n      <td>2.0</td>\n      <td>20.0</td>\n      <td>N15W78</td>\n      <td>2023</td>\n      <td>12</td>\n      <td>31</td>\n      <td>B</td>\n      <td>X</td>\n      <td>O</td>\n    </tr>\n    <tr>\n      <th>278399</th>\n      <td>13534</td>\n      <td>10.0</td>\n      <td>120.0</td>\n      <td>S12E03</td>\n      <td>2023</td>\n      <td>12</td>\n      <td>31</td>\n      <td>D</td>\n      <td>A</td>\n      <td>O</td>\n    </tr>\n    <tr>\n      <th>278400</th>\n      <td>13536</td>\n      <td>2.0</td>\n      <td>80.0</td>\n      <td>N05E75</td>\n      <td>2023</td>\n      <td>12</td>\n      <td>31</td>\n      <td>H</td>\n      <td>A</td>\n      <td>X</td>\n    </tr>\n  </tbody>\n</table>\n<p>278401 rows × 10 columns</p>\n</div>"
     },
     "execution_count": 29,
     "metadata": {},
     "output_type": "execute_result"
    }
   ],
   "source": [
    "df_merged = pd.concat([df_old_data, new_data_after_2017_06], ignore_index=True)\n",
    "df_merged"
   ],
   "metadata": {
    "collapsed": false,
    "ExecuteTime": {
     "end_time": "2024-08-03T19:21:54.536693800Z",
     "start_time": "2024-08-03T19:21:54.449105300Z"
    }
   },
   "id": "c9ed5385dd5472a"
  },
  {
   "cell_type": "markdown",
   "source": [
    "# keep float in Sunspot number and Size also keep Nan"
   ],
   "metadata": {
    "collapsed": false
   },
   "id": "8c71da2a41f5566e"
  },
  {
   "cell_type": "code",
   "execution_count": 30,
   "outputs": [
    {
     "data": {
      "text/plain": "{float, int, str}"
     },
     "execution_count": 30,
     "metadata": {},
     "output_type": "execute_result"
    }
   ],
   "source": [
    "get_unique_types_of_col(df_merged['Region'])"
   ],
   "metadata": {
    "collapsed": false,
    "ExecuteTime": {
     "end_time": "2024-08-03T19:21:59.356283600Z",
     "start_time": "2024-08-03T19:21:59.346148600Z"
    }
   },
   "id": "7bf35010ea67866b"
  },
  {
   "cell_type": "code",
   "execution_count": 31,
   "outputs": [
    {
     "data": {
      "text/plain": "array(['3478', '3480', '3484', ..., '13534', '13535', '13536'],\n      dtype=object)"
     },
     "execution_count": 31,
     "metadata": {},
     "output_type": "execute_result"
    }
   ],
   "source": [
    "df_merged['Region'].astype(str).unique()"
   ],
   "metadata": {
    "collapsed": false,
    "ExecuteTime": {
     "end_time": "2024-08-03T19:21:59.676965900Z",
     "start_time": "2024-08-03T19:21:59.646261300Z"
    }
   },
   "id": "9d99d32483d32293"
  },
  {
   "cell_type": "code",
   "execution_count": 32,
   "outputs": [],
   "source": [
    "df_merged['Region'] = df_merged['Region'].astype(str).replace('////', np.nan)"
   ],
   "metadata": {
    "collapsed": false,
    "ExecuteTime": {
     "end_time": "2024-08-03T19:22:00.224501200Z",
     "start_time": "2024-08-03T19:22:00.208467600Z"
    }
   },
   "id": "4f23ee53c119e996"
  },
  {
   "cell_type": "code",
   "execution_count": 33,
   "outputs": [
    {
     "data": {
      "text/plain": "Region                2112\nSunspot Number       36845\nSize                 50532\nZurich Class         36965\nPenumbra Class       37027\nCompactness Class    76114\ndtype: int64"
     },
     "execution_count": 33,
     "metadata": {},
     "output_type": "execute_result"
    }
   ],
   "source": [
    "get_null_counts(df_merged)"
   ],
   "metadata": {
    "collapsed": false,
    "ExecuteTime": {
     "end_time": "2024-08-03T19:22:01.030968600Z",
     "start_time": "2024-08-03T19:22:00.994434300Z"
    }
   },
   "id": "8012d0949e6095de"
  },
  {
   "cell_type": "code",
   "execution_count": 34,
   "outputs": [
    {
     "data": {
      "text/plain": "{'Region': {float, str},\n 'Sunspot Number': {float},\n 'Size': {float},\n 'Location': {str},\n 'Year': {int},\n 'Month': {int},\n 'Day': {int},\n 'Zurich Class': {float, str},\n 'Penumbra Class': {float, str},\n 'Compactness Class': {float, str}}"
     },
     "execution_count": 34,
     "metadata": {},
     "output_type": "execute_result"
    }
   ],
   "source": [
    "get_all_unique_types(df_merged)"
   ],
   "metadata": {
    "collapsed": false,
    "ExecuteTime": {
     "end_time": "2024-08-03T19:22:01.474145400Z",
     "start_time": "2024-08-03T19:22:01.302805200Z"
    }
   },
   "id": "4a3d1da808bbabaa"
  },
  {
   "cell_type": "markdown",
   "source": [
    "# Remove 1981, it has only December data"
   ],
   "metadata": {
    "collapsed": false
   },
   "id": "3497c4b09d14058c"
  },
  {
   "cell_type": "code",
   "execution_count": 39,
   "outputs": [],
   "source": [
    "df_merged = df_merged[df_merged['Year'] != 1981]"
   ],
   "metadata": {
    "collapsed": false,
    "ExecuteTime": {
     "end_time": "2024-08-03T19:22:36.008235300Z",
     "start_time": "2024-08-03T19:22:35.979151400Z"
    }
   },
   "id": "e1afa6b9a4f6268e"
  },
  {
   "cell_type": "code",
   "execution_count": 40,
   "outputs": [],
   "source": [
    "df_merged.to_csv('../data/sunspot-processed-2.csv', index=False)"
   ],
   "metadata": {
    "collapsed": false,
    "ExecuteTime": {
     "end_time": "2024-08-03T19:22:36.710087900Z",
     "start_time": "2024-08-03T19:22:36.407997900Z"
    }
   },
   "id": "b2b1f9e916a5e605"
  }
 ],
 "metadata": {
  "kernelspec": {
   "display_name": "Python 3",
   "language": "python",
   "name": "python3"
  },
  "language_info": {
   "codemirror_mode": {
    "name": "ipython",
    "version": 2
   },
   "file_extension": ".py",
   "mimetype": "text/x-python",
   "name": "python",
   "nbconvert_exporter": "python",
   "pygments_lexer": "ipython2",
   "version": "2.7.6"
  }
 },
 "nbformat": 4,
 "nbformat_minor": 5
}
