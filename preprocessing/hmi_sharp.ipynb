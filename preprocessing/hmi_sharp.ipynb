{
 "cells": [
  {
   "cell_type": "code",
   "execution_count": null,
   "id": "initial_id",
   "metadata": {
    "collapsed": true
   },
   "outputs": [],
   "source": [
    "import pandas as pd\n",
    "import numpy as np\n",
    "import math\n",
    "import drms\n",
    "from datetime import datetime, timedelta\n",
    "import matplotlib.pyplot as plt\n",
    "\n",
    "from sklearn.model_selection import train_test_split\n",
    "from sklearn.preprocessing import LabelEncoder, StandardScaler, MinMaxScaler\n",
    "from sklearn.linear_model import LinearRegression, LogisticRegression\n",
    "from sklearn.tree import DecisionTreeRegressor, DecisionTreeClassifier\n",
    "from sklearn.ensemble import (RandomForestRegressor, GradientBoostingRegressor,\n",
    "                              RandomForestClassifier, GradientBoostingClassifier)\n",
    "from sklearn.svm import SVR, SVC\n",
    "from sklearn.metrics import (accuracy_score, mean_squared_error, r2_score, mean_absolute_error,\n",
    "                             precision_score, recall_score, f1_score, confusion_matrix)\n",
    "\n",
    "import seaborn as sns\n",
    "\n",
    "from tensorflow.keras.models import Sequential\n",
    "from tensorflow.keras.layers import LSTM, Dense, Dropout, Conv1D, MaxPooling1D, Flatten\n",
    "from tensorflow.keras.optimizers import Adam\n",
    "\n",
    "from sklearn.model_selection import GridSearchCV\n",
    "from sklearn.metrics import classification_report"
   ]
  },
  {
   "cell_type": "code",
   "execution_count": 7,
   "outputs": [],
   "source": [
    "client = drms.Client()"
   ],
   "metadata": {
    "collapsed": false,
    "ExecuteTime": {
     "end_time": "2024-08-26T23:43:16.792194600Z",
     "start_time": "2024-08-26T23:43:16.731197700Z"
    }
   },
   "id": "67f9001fc440f0a8"
  },
  {
   "cell_type": "code",
   "execution_count": 8,
   "outputs": [],
   "source": [
    "series = 'hmi.sharp_cea_720s'"
   ],
   "metadata": {
    "collapsed": false,
    "ExecuteTime": {
     "end_time": "2024-08-26T23:43:18.666403400Z",
     "start_time": "2024-08-26T23:43:18.630273Z"
    }
   },
   "id": "71dd3dde751014f0"
  },
  {
   "cell_type": "code",
   "execution_count": null,
   "outputs": [],
   "source": [
    "start_date = datetime(2010, 1, 1)\n",
    "end_date = datetime(2023, 12, 31)\n",
    "\n",
    "df = pd.DataFrame()\n",
    "\n",
    "current_date = start_date\n",
    "while current_date <= end_date:\n",
    "  date_range = f'{current_date.strftime(\"%Y.%m.%d_TAI\")}'\n",
    "  \n",
    "  query_string = f'{series}[][{date_range}]'\n",
    "  result = client.query(query_string, key=client.keys(series))\n",
    "  \n",
    "  _tmp_df = pd.DataFrame(result)\n",
    "  df = pd.concat([df, _tmp_df], ignore_index=True)\n",
    "  \n",
    "  # Move to the next day\n",
    "  current_date = current_date + timedelta(days=1)\n",
    "\n",
    "df.to_csv(f\"{series}.csv\", index=False)"
   ],
   "metadata": {
    "collapsed": false
   },
   "id": "4148922b09926cf5"
  },
  {
   "cell_type": "code",
   "execution_count": null,
   "outputs": [],
   "source": [
    "series_info = client.info(series)\n",
    "for keyword in series_info.keywords.index:\n",
    "  keyword_info = series_info.keywords.loc[keyword]\n",
    "  print(keyword_info.name)\n",
    "  print(f\"  type ....... {keyword_info.type} \")\n",
    "  print(f\"  recscope ... {keyword_info.recscope} \")\n",
    "  print(f\"  defval ..... {keyword_info.defval} \")\n",
    "  print(f\"  units ...... {keyword_info.units} \")\n",
    "  print(f\"  note ....... {keyword_info.note} \")\n",
    "  print(\"\\n\")"
   ],
   "metadata": {
    "collapsed": false
   },
   "id": "270c6581737d957c"
  },
  {
   "cell_type": "markdown",
   "source": [
    "# Reload df"
   ],
   "metadata": {
    "collapsed": false
   },
   "id": "10a582f6501ddc25"
  },
  {
   "cell_type": "code",
   "execution_count": 105,
   "outputs": [],
   "source": [
    "df = pd.read_csv(f\"{series}.csv\", low_memory=False)"
   ],
   "metadata": {
    "collapsed": false,
    "ExecuteTime": {
     "end_time": "2024-08-27T17:12:05.715306200Z",
     "start_time": "2024-08-27T17:12:05.254188400Z"
    }
   },
   "id": "7bbff17bf2a024b0"
  },
  {
   "cell_type": "code",
   "execution_count": 106,
   "outputs": [
    {
     "data": {
      "text/plain": "    cparms_sg000  magnetogram_bzero  magnetogram_bscale cparms_sg001  \\\n0  compress Rice                  0                 0.1      MISSING   \n1  compress Rice                  0                 0.1      MISSING   \n2  compress Rice                  0                 0.1      MISSING   \n3  compress Rice                  0                 0.1      MISSING   \n4  compress Rice                  0                 0.1      MISSING   \n\n   bitmap_bzero  bitmap_bscale   cparms_sg002  Dopplergram_bzero  \\\n0             0              1  compress Rice                  0   \n1             0              1  compress Rice                  0   \n2             0              1  compress Rice                  0   \n3             0              1  compress Rice                  0   \n4             0              1  compress Rice                  0   \n\n   Dopplergram_bscale   cparms_sg003  ...    CMASK     ERRJZ         ERRVF  \\\n0                 0.5  compress Rice  ...   9758.0  0.057597  5.330796e+18   \n1                 0.5  compress Rice  ...   2517.0  0.172348  1.886162e+18   \n2                 0.5  compress Rice  ...   1027.0  0.371506  1.205937e+18   \n3                 0.5  compress Rice  ...   1117.0  0.336182  1.264269e+18   \n4                 0.5  compress Rice  ...  11137.0  0.046605  4.358624e+18   \n\n     ERRALP    ERRMIH ERRMSHA        ERRUSI  DOFFSET       ERRTPOT  \\\n0  0.001069  0.000355   0.000  7.464025e+10       50  6.703020e+19   \n1  0.003040  0.001354   0.014  5.761051e+10       50  5.336194e+19   \n2  0.009346  0.002182   0.037  5.066977e+10       50  3.566657e+19   \n3  0.008195  0.001984   0.128  4.987003e+10       50  3.530184e+19   \n4  0.000901  0.000272   0.011  6.893109e+10       50  4.211002e+19   \n\n         ERRJHT  \n0  3.000382e+11  \n1  2.315822e+11  \n2  2.036819e+11  \n3  2.004671e+11  \n4  2.772309e+11  \n\n[5 rows x 215 columns]",
      "text/html": "<div>\n<style scoped>\n    .dataframe tbody tr th:only-of-type {\n        vertical-align: middle;\n    }\n\n    .dataframe tbody tr th {\n        vertical-align: top;\n    }\n\n    .dataframe thead th {\n        text-align: right;\n    }\n</style>\n<table border=\"1\" class=\"dataframe\">\n  <thead>\n    <tr style=\"text-align: right;\">\n      <th></th>\n      <th>cparms_sg000</th>\n      <th>magnetogram_bzero</th>\n      <th>magnetogram_bscale</th>\n      <th>cparms_sg001</th>\n      <th>bitmap_bzero</th>\n      <th>bitmap_bscale</th>\n      <th>cparms_sg002</th>\n      <th>Dopplergram_bzero</th>\n      <th>Dopplergram_bscale</th>\n      <th>cparms_sg003</th>\n      <th>...</th>\n      <th>CMASK</th>\n      <th>ERRJZ</th>\n      <th>ERRVF</th>\n      <th>ERRALP</th>\n      <th>ERRMIH</th>\n      <th>ERRMSHA</th>\n      <th>ERRUSI</th>\n      <th>DOFFSET</th>\n      <th>ERRTPOT</th>\n      <th>ERRJHT</th>\n    </tr>\n  </thead>\n  <tbody>\n    <tr>\n      <th>0</th>\n      <td>compress Rice</td>\n      <td>0</td>\n      <td>0.1</td>\n      <td>MISSING</td>\n      <td>0</td>\n      <td>1</td>\n      <td>compress Rice</td>\n      <td>0</td>\n      <td>0.5</td>\n      <td>compress Rice</td>\n      <td>...</td>\n      <td>9758.0</td>\n      <td>0.057597</td>\n      <td>5.330796e+18</td>\n      <td>0.001069</td>\n      <td>0.000355</td>\n      <td>0.000</td>\n      <td>7.464025e+10</td>\n      <td>50</td>\n      <td>6.703020e+19</td>\n      <td>3.000382e+11</td>\n    </tr>\n    <tr>\n      <th>1</th>\n      <td>compress Rice</td>\n      <td>0</td>\n      <td>0.1</td>\n      <td>MISSING</td>\n      <td>0</td>\n      <td>1</td>\n      <td>compress Rice</td>\n      <td>0</td>\n      <td>0.5</td>\n      <td>compress Rice</td>\n      <td>...</td>\n      <td>2517.0</td>\n      <td>0.172348</td>\n      <td>1.886162e+18</td>\n      <td>0.003040</td>\n      <td>0.001354</td>\n      <td>0.014</td>\n      <td>5.761051e+10</td>\n      <td>50</td>\n      <td>5.336194e+19</td>\n      <td>2.315822e+11</td>\n    </tr>\n    <tr>\n      <th>2</th>\n      <td>compress Rice</td>\n      <td>0</td>\n      <td>0.1</td>\n      <td>MISSING</td>\n      <td>0</td>\n      <td>1</td>\n      <td>compress Rice</td>\n      <td>0</td>\n      <td>0.5</td>\n      <td>compress Rice</td>\n      <td>...</td>\n      <td>1027.0</td>\n      <td>0.371506</td>\n      <td>1.205937e+18</td>\n      <td>0.009346</td>\n      <td>0.002182</td>\n      <td>0.037</td>\n      <td>5.066977e+10</td>\n      <td>50</td>\n      <td>3.566657e+19</td>\n      <td>2.036819e+11</td>\n    </tr>\n    <tr>\n      <th>3</th>\n      <td>compress Rice</td>\n      <td>0</td>\n      <td>0.1</td>\n      <td>MISSING</td>\n      <td>0</td>\n      <td>1</td>\n      <td>compress Rice</td>\n      <td>0</td>\n      <td>0.5</td>\n      <td>compress Rice</td>\n      <td>...</td>\n      <td>1117.0</td>\n      <td>0.336182</td>\n      <td>1.264269e+18</td>\n      <td>0.008195</td>\n      <td>0.001984</td>\n      <td>0.128</td>\n      <td>4.987003e+10</td>\n      <td>50</td>\n      <td>3.530184e+19</td>\n      <td>2.004671e+11</td>\n    </tr>\n    <tr>\n      <th>4</th>\n      <td>compress Rice</td>\n      <td>0</td>\n      <td>0.1</td>\n      <td>MISSING</td>\n      <td>0</td>\n      <td>1</td>\n      <td>compress Rice</td>\n      <td>0</td>\n      <td>0.5</td>\n      <td>compress Rice</td>\n      <td>...</td>\n      <td>11137.0</td>\n      <td>0.046605</td>\n      <td>4.358624e+18</td>\n      <td>0.000901</td>\n      <td>0.000272</td>\n      <td>0.011</td>\n      <td>6.893109e+10</td>\n      <td>50</td>\n      <td>4.211002e+19</td>\n      <td>2.772309e+11</td>\n    </tr>\n  </tbody>\n</table>\n<p>5 rows × 215 columns</p>\n</div>"
     },
     "execution_count": 106,
     "metadata": {},
     "output_type": "execute_result"
    }
   ],
   "source": [
    "df.head()"
   ],
   "metadata": {
    "collapsed": false,
    "ExecuteTime": {
     "end_time": "2024-08-27T17:12:06.383172800Z",
     "start_time": "2024-08-27T17:12:06.337160500Z"
    }
   },
   "id": "354b7118bda9c17"
  },
  {
   "cell_type": "code",
   "execution_count": 108,
   "outputs": [
    {
     "data": {
      "text/plain": "(32681, 215)"
     },
     "execution_count": 108,
     "metadata": {},
     "output_type": "execute_result"
    }
   ],
   "source": [
    "df.shape"
   ],
   "metadata": {
    "collapsed": false,
    "ExecuteTime": {
     "end_time": "2024-08-27T17:12:44.250462300Z",
     "start_time": "2024-08-27T17:12:44.210993Z"
    }
   },
   "id": "5c1202dd81c8afde"
  },
  {
   "cell_type": "code",
   "execution_count": 109,
   "outputs": [
    {
     "data": {
      "text/plain": "{'cparms_sg000': 'compress Rice',\n 'magnetogram_bzero': 0,\n 'magnetogram_bscale': 0.1,\n 'cparms_sg001': 'MISSING',\n 'bitmap_bzero': 0,\n 'bitmap_bscale': 1,\n 'cparms_sg002': 'compress Rice',\n 'Dopplergram_bzero': 0,\n 'Dopplergram_bscale': 0.5,\n 'cparms_sg003': 'compress Rice',\n 'continuum_bzero': 97304,\n 'continuum_bscale': 3,\n 'cparms_sg004': 'compress Rice',\n 'Bp_bzero': 0,\n 'Bp_bscale': 0.01,\n 'cparms_sg005': 'compress Rice',\n 'Bt_bzero': 0,\n 'Bt_bscale': 0.01,\n 'cparms_sg006': 'compress Rice',\n 'Br_bzero': 0,\n 'Br_bscale': 0.01,\n 'cparms_sg007': 'compress Rice',\n 'Bp_err_bzero': 0,\n 'Bp_err_bscale': 0.001,\n 'cparms_sg008': 'compress Rice',\n 'Bt_err_bzero': 0,\n 'Bt_err_bscale': 0.001,\n 'cparms_sg009': 'compress Rice',\n 'Br_err_bzero': 0,\n 'Br_err_bscale': 0.001,\n 'cparms_sg010': 'compress Rice',\n 'conf_disambig_bzero': 0,\n 'conf_disambig_bscale': 1,\n 'T_REC_epoch': '1993.01.01_00:00:00_TAI',\n 'T_REC_step': 720.0,\n 'T_REC_unit': 'secs',\n 'CADENCE': 720.0,\n 'GWILL': nan,\n 'CTYPE1': 'CRLN-CEA',\n 'CTYPE2': 'CRLT-CEA',\n 'CDELT1': 0.03,\n 'CDELT2': 0.03,\n 'CUNIT1': 'degree',\n 'CUNIT2': 'degree',\n 'IMCRVAL1': 0.0,\n 'IMCRVAL2': 0.0,\n 'CROTA2': 0.0,\n 'CRDER1': nan,\n 'CRDER2': nan,\n 'CSYSER1': nan,\n 'CSYSER2': nan,\n 'WCSNAME': 'Carrington Heliographic',\n 'DSUN_REF': 149597870691,\n 'RSUN_REF': 696000000,\n 'TELESCOP': 'SDO/HMI',\n 'WAVELNTH': 6173.0,\n 'BUNIT': 'Invalid KeyLink',\n 'ORIGIN': 'SDO/JSOC-SDP',\n 'CONTENT': 'HMI observable',\n 'COMMENT': ' ',\n 'QLOOK': 0,\n 'MASK': 32,\n 'ARM_MODL': '/builtin/hmi.M_Ic_noLimbDark_720s.production',\n 'ARM_EDGE': 2.5,\n 'ARM_BETA': 0.3,\n 'INVDOCU': 'MISSING',\n 'INVITERA': 200,\n 'INVSTLGT': 'No',\n 'INVFLPRF': ' ',\n 'AMBDOCU': 'MISSING',\n 'AMBNEROD': 1,\n 'AMBNAP': 10,\n 'AMBBTHR0': 200.0,\n 'AMBBTHR1': 400.0,\n 'AMBLMBDA': 1.0,\n 'AMBTFCT0': 2.0,\n 'DATAVALS': nan,\n 'MISSVALS': nan,\n 'DATAMIN': nan,\n 'DATAMAX': nan,\n 'DATAMEDN': nan,\n 'DATAMEAN': nan,\n 'DATARMS': nan}"
     },
     "execution_count": 109,
     "metadata": {},
     "output_type": "execute_result"
    }
   ],
   "source": [
    "# Drop if column has the same value for all rows\n",
    "def find_uniform_columns(_df):\n",
    "  _uniform_columns = {}\n",
    "  \n",
    "  for column in _df.columns:\n",
    "    # Check if the column has the same value for all rows\n",
    "    if _df[column].nunique() < 2:\n",
    "      _uniform_columns[column] =_df[column].unique()[0]\n",
    "  \n",
    "  return _uniform_columns\n",
    "uniform_columns_dict = find_uniform_columns(df)\n",
    "uniform_columns_dict"
   ],
   "metadata": {
    "collapsed": false,
    "ExecuteTime": {
     "end_time": "2024-08-27T17:12:45.383724100Z",
     "start_time": "2024-08-27T17:12:45.167040Z"
    }
   },
   "id": "6e4e8f11a8d52cd4"
  },
  {
   "cell_type": "code",
   "execution_count": 110,
   "outputs": [
    {
     "data": {
      "text/plain": "(32681, 132)"
     },
     "execution_count": 110,
     "metadata": {},
     "output_type": "execute_result"
    }
   ],
   "source": [
    "df.drop([key for key, val in uniform_columns_dict.items()], axis=1, inplace=True)\n",
    "df.shape"
   ],
   "metadata": {
    "collapsed": false,
    "ExecuteTime": {
     "end_time": "2024-08-27T17:12:48.276774600Z",
     "start_time": "2024-08-27T17:12:48.236710500Z"
    }
   },
   "id": "85bc2e3b4b28e3fa"
  },
  {
   "cell_type": "code",
   "execution_count": 111,
   "outputs": [
    {
     "name": "stderr",
     "output_type": "stream",
     "text": [
      "/home/debashis/works/dissertation/env/lib/python3.10/site-packages/pandas/core/nanops.py:1016: RuntimeWarning: invalid value encountered in subtract\n",
      "  sqr = _ensure_numeric((avg - values) ** 2)\n",
      "/home/debashis/works/dissertation/env/lib/python3.10/site-packages/pandas/core/nanops.py:1016: RuntimeWarning: invalid value encountered in subtract\n",
      "  sqr = _ensure_numeric((avg - values) ** 2)\n",
      "/home/debashis/works/dissertation/env/lib/python3.10/site-packages/pandas/core/nanops.py:1016: RuntimeWarning: invalid value encountered in subtract\n",
      "  sqr = _ensure_numeric((avg - values) ** 2)\n"
     ]
    },
    {
     "data": {
      "text/plain": "            USFLUX    MEANGAM     MEANGBT     MEANGBZ    MEANGBH    MEANJZD  \\\nmean  7.196431e+21  33.485017  111.268217  113.384456   48.79942   0.166253   \nmin   0.000000e+00  11.067000    9.394000    9.345000    7.21100 -13.483965   \nmax   2.064290e+23  76.516000  265.285000  261.275000  200.88900  16.448557   \n\n           TOTUSJZ   MEANALP   MEANJZH      TOTUSJH  ...          CMASK  \\\nmean  8.990573e+12 -0.000346 -0.000127    445.30288  ...   11141.426425   \nmin   0.000000e+00 -0.453582 -0.086871      0.00000  ...       0.000000   \nmax   2.396615e+14  1.404680  0.087096  14252.40200  ...  271015.000000   \n\n          ERRJZ         ERRVF    ERRALP    ERRMIH  ERRMSHA        ERRUSI  \\\nmean   0.276794  3.201826e+18  0.007240  0.001821      inf  8.690126e+10   \nmin    0.014009  0.000000e+00  0.000305  0.000092      0.0  0.000000e+00   \nmax   27.276052  3.973213e+19  1.254809  0.145767      inf  1.282146e+12   \n\n        DOFFSET       ERRTPOT        ERRJHT  \nmean  49.919219  1.125121e+20  3.443617e+11  \nmin   20.000000  0.000000e+00  0.000000e+00  \nmax   50.000000  1.312725e+22  4.932344e+12  \n\n[3 rows x 113 columns]",
      "text/html": "<div>\n<style scoped>\n    .dataframe tbody tr th:only-of-type {\n        vertical-align: middle;\n    }\n\n    .dataframe tbody tr th {\n        vertical-align: top;\n    }\n\n    .dataframe thead th {\n        text-align: right;\n    }\n</style>\n<table border=\"1\" class=\"dataframe\">\n  <thead>\n    <tr style=\"text-align: right;\">\n      <th></th>\n      <th>USFLUX</th>\n      <th>MEANGAM</th>\n      <th>MEANGBT</th>\n      <th>MEANGBZ</th>\n      <th>MEANGBH</th>\n      <th>MEANJZD</th>\n      <th>TOTUSJZ</th>\n      <th>MEANALP</th>\n      <th>MEANJZH</th>\n      <th>TOTUSJH</th>\n      <th>...</th>\n      <th>CMASK</th>\n      <th>ERRJZ</th>\n      <th>ERRVF</th>\n      <th>ERRALP</th>\n      <th>ERRMIH</th>\n      <th>ERRMSHA</th>\n      <th>ERRUSI</th>\n      <th>DOFFSET</th>\n      <th>ERRTPOT</th>\n      <th>ERRJHT</th>\n    </tr>\n  </thead>\n  <tbody>\n    <tr>\n      <th>mean</th>\n      <td>7.196431e+21</td>\n      <td>33.485017</td>\n      <td>111.268217</td>\n      <td>113.384456</td>\n      <td>48.79942</td>\n      <td>0.166253</td>\n      <td>8.990573e+12</td>\n      <td>-0.000346</td>\n      <td>-0.000127</td>\n      <td>445.30288</td>\n      <td>...</td>\n      <td>11141.426425</td>\n      <td>0.276794</td>\n      <td>3.201826e+18</td>\n      <td>0.007240</td>\n      <td>0.001821</td>\n      <td>inf</td>\n      <td>8.690126e+10</td>\n      <td>49.919219</td>\n      <td>1.125121e+20</td>\n      <td>3.443617e+11</td>\n    </tr>\n    <tr>\n      <th>min</th>\n      <td>0.000000e+00</td>\n      <td>11.067000</td>\n      <td>9.394000</td>\n      <td>9.345000</td>\n      <td>7.21100</td>\n      <td>-13.483965</td>\n      <td>0.000000e+00</td>\n      <td>-0.453582</td>\n      <td>-0.086871</td>\n      <td>0.00000</td>\n      <td>...</td>\n      <td>0.000000</td>\n      <td>0.014009</td>\n      <td>0.000000e+00</td>\n      <td>0.000305</td>\n      <td>0.000092</td>\n      <td>0.0</td>\n      <td>0.000000e+00</td>\n      <td>20.000000</td>\n      <td>0.000000e+00</td>\n      <td>0.000000e+00</td>\n    </tr>\n    <tr>\n      <th>max</th>\n      <td>2.064290e+23</td>\n      <td>76.516000</td>\n      <td>265.285000</td>\n      <td>261.275000</td>\n      <td>200.88900</td>\n      <td>16.448557</td>\n      <td>2.396615e+14</td>\n      <td>1.404680</td>\n      <td>0.087096</td>\n      <td>14252.40200</td>\n      <td>...</td>\n      <td>271015.000000</td>\n      <td>27.276052</td>\n      <td>3.973213e+19</td>\n      <td>1.254809</td>\n      <td>0.145767</td>\n      <td>inf</td>\n      <td>1.282146e+12</td>\n      <td>50.000000</td>\n      <td>1.312725e+22</td>\n      <td>4.932344e+12</td>\n    </tr>\n  </tbody>\n</table>\n<p>3 rows × 113 columns</p>\n</div>"
     },
     "execution_count": 111,
     "metadata": {},
     "output_type": "execute_result"
    }
   ],
   "source": [
    "df.describe().drop(['count', '25%', '50%', '75%', 'std'])"
   ],
   "metadata": {
    "collapsed": false,
    "ExecuteTime": {
     "end_time": "2024-08-27T17:12:50.874736700Z",
     "start_time": "2024-08-27T17:12:50.742936300Z"
    }
   },
   "id": "9e2f22fc42792561"
  },
  {
   "cell_type": "code",
   "execution_count": 112,
   "outputs": [],
   "source": [
    "drop_col_datelike = [col for col in df.columns if col.startswith('DATE')]\n",
    "drop_col_tlike = [col for col in df.columns if col.startswith('T_') and col != 'T_REC']\n",
    "\n",
    "df.drop(drop_col_tlike + drop_col_datelike, axis=1, inplace=True)"
   ],
   "metadata": {
    "collapsed": false,
    "ExecuteTime": {
     "end_time": "2024-08-27T17:13:00.121133Z",
     "start_time": "2024-08-27T17:13:00.053527800Z"
    }
   },
   "id": "e6f17ef3e1c940fe"
  },
  {
   "cell_type": "code",
   "execution_count": 113,
   "outputs": [
    {
     "data": {
      "text/plain": "array([['T_REC', '4451'],\n       ['USFLUX', '32286'],\n       ['MEANGAM', '18445'],\n       ['MEANGBT', '27533'],\n       ['MEANGBZ', '27425'],\n       ['MEANGBH', '24297'],\n       ['MEANJZD', '32316'],\n       ['TOTUSJZ', '32289'],\n       ['MEANALP', '32256'],\n       ['MEANJZH', '32088'],\n       ['TOTUSJH', '30853'],\n       ['ABSNJZH', '21490'],\n       ['SAVNCPP', '32285'],\n       ['MEANPOT', '32158'],\n       ['TOTPOT', '32293'],\n       ['MEANSHR', '17094'],\n       ['SHRGT45', '17226'],\n       ['R_VALUE', '3486'],\n       ['CRPIX1', '1136'],\n       ['CRPIX2', '687'],\n       ['CRVAL1', '32660'],\n       ['CRVAL2', '5266'],\n       ['IMCRPIX1', '4313'],\n       ['IMCRPIX2', '4250'],\n       ['DSUN_OBS', '4451'],\n       ['CRLN_OBS', '4451'],\n       ['CRLT_OBS', '4449'],\n       ['CAR_ROT', '183'],\n       ['OBS_VR', '4451'],\n       ['OBS_VW', '4451'],\n       ['OBS_VN', '4451'],\n       ['RSUN_OBS', '4402'],\n       ['INSTRUME', '2'],\n       ['CAMERA', '2'],\n       ['QUALITY', '18'],\n       ['QUAL_S', '13'],\n       ['QUALLEV1', '6'],\n       ['HISTORY', '90'],\n       ['BLD_VERS', '18'],\n       ['CALVER64', '9'],\n       ['CODEVER7', '17'],\n       ['HFLID', '4'],\n       ['HCFTID', '2'],\n       ['HARPNUM', '5271'],\n       ['ARM_QUAL', '2'],\n       ['ARM_NCLN', '849'],\n       ['H_MERGE', '2'],\n       ['H_FAINT', '2'],\n       ['LATDTMIN', '5253'],\n       ['LONDTMIN', '32344'],\n       ['LATDTMAX', '5253'],\n       ['LONDTMAX', '32306'],\n       ['OMEGA_DT', '3393'],\n       ['NPIX', '25309'],\n       ['SIZE', '32465'],\n       ['AREA', '32468'],\n       ['NACR', '11091'],\n       ['SIZE_ACR', '32389'],\n       ['AREA_ACR', '32435'],\n       ['MTOT', '32449'],\n       ['MNET', '32449'],\n       ['MPOS_TOT', '32353'],\n       ['MNEG_TOT', '32317'],\n       ['MMEAN', '32467'],\n       ['MSTDEV', '32434'],\n       ['MSKEW', '32405'],\n       ['MKURT', '32443'],\n       ['LAT_MIN', '32463'],\n       ['LON_MIN', '32460'],\n       ['LAT_MAX', '32454'],\n       ['LON_MAX', '32467'],\n       ['LAT_FWT', '32429'],\n       ['LON_FWT', '32429'],\n       ['LAT_FWTPOS', '27055'],\n       ['LON_FWTPOS', '27070'],\n       ['LAT_FWTNEG', '26870'],\n       ['LON_FWTNEG', '26870'],\n       ['N_PATCH', '1658'],\n       ['N_PATCH1', '1642'],\n       ['N_PATCHM', '142'],\n       ['NOAA_AR', '1902'],\n       ['NOAA_NUM', '8'],\n       ['NOAA_ARS', '1922'],\n       ['INVCODEV', '6'],\n       ['INVPHMAP', '14'],\n       ['INVVLAVE', '32439'],\n       ['USFLUXL', '32439'],\n       ['INVBLAVE', '15691'],\n       ['MEANGBL', '15691'],\n       ['INVBBAVE', '4401'],\n       ['INVNPRCS', '27384'],\n       ['CMASKL', '27384'],\n       ['INVNCNVG', '4430'],\n       ['AMBCODEV', '5'],\n       ['AMBGMTRY', '3'],\n       ['AMBPATCH', '2'],\n       ['AMBWEAK', '2'],\n       ['AMBNGROW', '2'],\n       ['AMBNPAD', '3'],\n       ['AMBNTX', '2'],\n       ['AMBNTY', '2'],\n       ['AMBSEED', '2'],\n       ['AMBNEQ', '2'],\n       ['AMBTFCTR', '2'],\n       ['ERRGAM', '1182'],\n       ['ERRTAI', '11899'],\n       ['ERRBH', '4209'],\n       ['ERRMPOT', '32254'],\n       ['ERRBT', '2981'],\n       ['ERRTUI', '11899'],\n       ['ERRBZ', '2229'],\n       ['CMASK', '15901'],\n       ['ERRJZ', '32301'],\n       ['ERRVF', '32274'],\n       ['ERRALP', '31677'],\n       ['ERRMIH', '30359'],\n       ['ERRMSHA', '3168'],\n       ['ERRUSI', '32245'],\n       ['DOFFSET', '2'],\n       ['ERRTPOT', '32270'],\n       ['ERRJHT', '32253']], dtype='<U21')"
     },
     "execution_count": 113,
     "metadata": {},
     "output_type": "execute_result"
    }
   ],
   "source": [
    "def columns_with_unique_counts(_df):\n",
    "  unique_counts = []\n",
    "  \n",
    "  for column in _df.columns:\n",
    "    unique_value_count = _df[column].nunique()\n",
    "    unique_counts.append((column, unique_value_count))\n",
    "  \n",
    "  return np.array(unique_counts)\n",
    "columns_with_unique_counts(df)"
   ],
   "metadata": {
    "collapsed": false,
    "ExecuteTime": {
     "end_time": "2024-08-27T17:13:04.317000800Z",
     "start_time": "2024-08-27T17:13:04.253986Z"
    }
   },
   "id": "4a2d2323b3d6bc91"
  },
  {
   "cell_type": "code",
   "execution_count": 114,
   "outputs": [],
   "source": [
    "df['T_REC'] = df['T_REC'].apply(lambda _dt: (pd.to_datetime(_dt, format='%Y.%m.%d_%H:%M:%S_TAI')).date())"
   ],
   "metadata": {
    "collapsed": false,
    "ExecuteTime": {
     "end_time": "2024-08-27T17:13:08.700143500Z",
     "start_time": "2024-08-27T17:13:07.182917100Z"
    }
   },
   "id": "d1fb64c69e82a231"
  },
  {
   "cell_type": "code",
   "execution_count": 115,
   "outputs": [
    {
     "data": {
      "text/plain": "MEANGAM        368\nMEANGBT        359\nMEANGBZ        359\nMEANGBH        359\nMEANJZD        359\nMEANALP        359\nMEANJZH        359\nMEANPOT        359\nMEANSHR        399\nSHRGT45        359\nR_VALUE         18\nNPIX           208\nSIZE           208\nAREA           208\nNACR           208\nSIZE_ACR       208\nAREA_ACR       208\nMTOT           208\nMNET           208\nMPOS_TOT       208\nMNEG_TOT       208\nMMEAN          208\nMSTDEV         208\nMSKEW          208\nMKURT          208\nLAT_MIN        208\nLON_MIN        208\nLAT_MAX        208\nLON_MAX        208\nLAT_FWT        237\nLON_FWT        237\nLAT_FWTPOS    5608\nLON_FWTPOS    5608\nLAT_FWTNEG    5804\nLON_FWTNEG    5804\nINVBLAVE       209\nMEANGBL        209\nAMBPATCH       256\nAMBWEAK        256\nERRGAM         368\nERRBH          359\nERRMPOT        359\nERRBT          359\nERRBZ          359\nERRJZ          360\nERRALP         359\nERRMIH         359\nERRMSHA        649\nERRUSI           1\ndtype: int64"
     },
     "execution_count": 115,
     "metadata": {},
     "output_type": "execute_result"
    }
   ],
   "source": [
    "null_counts = df.isnull().sum()\n",
    "null_counts[null_counts != 0]"
   ],
   "metadata": {
    "collapsed": false,
    "ExecuteTime": {
     "end_time": "2024-08-27T17:13:17.126186200Z",
     "start_time": "2024-08-27T17:13:17.068991800Z"
    }
   },
   "id": "6ca7715383e6d575"
  },
  {
   "cell_type": "code",
   "execution_count": 116,
   "outputs": [
    {
     "data": {
      "text/plain": "QUALITY\n0        30459\n128       1556\n4096       238\n1024       149\n66560       96\n32          47\n65536       46\n4224        22\n67584       11\n1152        11\n68608       11\n1056        10\n70656        8\n66688        6\n70784        5\n65664        4\n72832        1\n69632        1\nName: count, dtype: int64"
     },
     "execution_count": 116,
     "metadata": {},
     "output_type": "execute_result"
    }
   ],
   "source": [
    "df['QUALITY'].value_counts()"
   ],
   "metadata": {
    "collapsed": false,
    "ExecuteTime": {
     "end_time": "2024-08-27T17:13:17.371183800Z",
     "start_time": "2024-08-27T17:13:17.299132400Z"
    }
   },
   "id": "8014e438d081618f"
  },
  {
   "cell_type": "code",
   "execution_count": 117,
   "outputs": [],
   "source": [
    "# Filters by quality\n",
    "df = df[df['QUALITY'] < 4300]"
   ],
   "metadata": {
    "collapsed": false,
    "ExecuteTime": {
     "end_time": "2024-08-27T17:13:20.053387500Z",
     "start_time": "2024-08-27T17:13:19.998122600Z"
    }
   },
   "id": "447b87c05d037a8f"
  },
  {
   "cell_type": "code",
   "execution_count": 119,
   "outputs": [
    {
     "data": {
      "text/plain": "        T_REC        USFLUX  MEANGAM  MEANGBT  MEANGBZ  MEANGBH   MEANJZD  \\\n0  2010-05-02  7.284643e+21   23.882   72.810   75.884   31.044 -0.083294   \n1  2010-05-02  7.577038e+20   33.088  155.084  157.227   75.352  1.176815   \n2  2010-05-02  3.994556e+20   28.103  142.582  143.811   50.887  0.572461   \n3  2010-05-02  7.155764e+20   28.317  138.661  140.604   50.574  0.357809   \n4  2010-05-05  5.300906e+21   29.565  119.300  117.777   46.557  0.219137   \n\n        TOTUSJZ   MEANALP   MEANJZH  ...    CMASK     ERRJZ         ERRVF  \\\n0  5.949744e+12 -0.005115 -0.001544  ...  11137.0  0.046605  4.358624e+18   \n1  1.200310e+12 -0.040246 -0.015144  ...   1077.0  0.356616  1.211761e+18   \n2  5.667294e+11  0.013079  0.003529  ...    638.0  0.366033  8.773581e+17   \n3  1.123229e+12 -0.012548 -0.003167  ...   1182.0  0.313383  1.341280e+18   \n4  7.221955e+12 -0.002556 -0.000673  ...   8780.0  0.094013  3.719263e+18   \n\n     ERRALP    ERRMIH  ERRMSHA        ERRUSI  DOFFSET       ERRTPOT  \\\n0  0.000901  0.000272    0.011  6.893109e+10       50  4.211002e+19   \n1  0.006817  0.002565    0.121  5.100690e+10       50  3.953265e+19   \n2  0.008784  0.002370    0.171  3.101368e+10       50  2.219341e+19   \n3  0.007388  0.001864    0.105  4.919330e+10       50  3.527319e+19   \n4  0.002217  0.000584    0.018  1.096212e+11       50  8.449323e+19   \n\n         ERRJHT  \n0  2.772309e+11  \n1  2.051424e+11  \n2  1.247325e+11  \n3  1.978483e+11  \n4  4.415520e+11  \n\n[5 rows x 109 columns]",
      "text/html": "<div>\n<style scoped>\n    .dataframe tbody tr th:only-of-type {\n        vertical-align: middle;\n    }\n\n    .dataframe tbody tr th {\n        vertical-align: top;\n    }\n\n    .dataframe thead th {\n        text-align: right;\n    }\n</style>\n<table border=\"1\" class=\"dataframe\">\n  <thead>\n    <tr style=\"text-align: right;\">\n      <th></th>\n      <th>T_REC</th>\n      <th>USFLUX</th>\n      <th>MEANGAM</th>\n      <th>MEANGBT</th>\n      <th>MEANGBZ</th>\n      <th>MEANGBH</th>\n      <th>MEANJZD</th>\n      <th>TOTUSJZ</th>\n      <th>MEANALP</th>\n      <th>MEANJZH</th>\n      <th>...</th>\n      <th>CMASK</th>\n      <th>ERRJZ</th>\n      <th>ERRVF</th>\n      <th>ERRALP</th>\n      <th>ERRMIH</th>\n      <th>ERRMSHA</th>\n      <th>ERRUSI</th>\n      <th>DOFFSET</th>\n      <th>ERRTPOT</th>\n      <th>ERRJHT</th>\n    </tr>\n  </thead>\n  <tbody>\n    <tr>\n      <th>0</th>\n      <td>2010-05-02</td>\n      <td>7.284643e+21</td>\n      <td>23.882</td>\n      <td>72.810</td>\n      <td>75.884</td>\n      <td>31.044</td>\n      <td>-0.083294</td>\n      <td>5.949744e+12</td>\n      <td>-0.005115</td>\n      <td>-0.001544</td>\n      <td>...</td>\n      <td>11137.0</td>\n      <td>0.046605</td>\n      <td>4.358624e+18</td>\n      <td>0.000901</td>\n      <td>0.000272</td>\n      <td>0.011</td>\n      <td>6.893109e+10</td>\n      <td>50</td>\n      <td>4.211002e+19</td>\n      <td>2.772309e+11</td>\n    </tr>\n    <tr>\n      <th>1</th>\n      <td>2010-05-02</td>\n      <td>7.577038e+20</td>\n      <td>33.088</td>\n      <td>155.084</td>\n      <td>157.227</td>\n      <td>75.352</td>\n      <td>1.176815</td>\n      <td>1.200310e+12</td>\n      <td>-0.040246</td>\n      <td>-0.015144</td>\n      <td>...</td>\n      <td>1077.0</td>\n      <td>0.356616</td>\n      <td>1.211761e+18</td>\n      <td>0.006817</td>\n      <td>0.002565</td>\n      <td>0.121</td>\n      <td>5.100690e+10</td>\n      <td>50</td>\n      <td>3.953265e+19</td>\n      <td>2.051424e+11</td>\n    </tr>\n    <tr>\n      <th>2</th>\n      <td>2010-05-02</td>\n      <td>3.994556e+20</td>\n      <td>28.103</td>\n      <td>142.582</td>\n      <td>143.811</td>\n      <td>50.887</td>\n      <td>0.572461</td>\n      <td>5.667294e+11</td>\n      <td>0.013079</td>\n      <td>0.003529</td>\n      <td>...</td>\n      <td>638.0</td>\n      <td>0.366033</td>\n      <td>8.773581e+17</td>\n      <td>0.008784</td>\n      <td>0.002370</td>\n      <td>0.171</td>\n      <td>3.101368e+10</td>\n      <td>50</td>\n      <td>2.219341e+19</td>\n      <td>1.247325e+11</td>\n    </tr>\n    <tr>\n      <th>3</th>\n      <td>2010-05-02</td>\n      <td>7.155764e+20</td>\n      <td>28.317</td>\n      <td>138.661</td>\n      <td>140.604</td>\n      <td>50.574</td>\n      <td>0.357809</td>\n      <td>1.123229e+12</td>\n      <td>-0.012548</td>\n      <td>-0.003167</td>\n      <td>...</td>\n      <td>1182.0</td>\n      <td>0.313383</td>\n      <td>1.341280e+18</td>\n      <td>0.007388</td>\n      <td>0.001864</td>\n      <td>0.105</td>\n      <td>4.919330e+10</td>\n      <td>50</td>\n      <td>3.527319e+19</td>\n      <td>1.978483e+11</td>\n    </tr>\n    <tr>\n      <th>4</th>\n      <td>2010-05-05</td>\n      <td>5.300906e+21</td>\n      <td>29.565</td>\n      <td>119.300</td>\n      <td>117.777</td>\n      <td>46.557</td>\n      <td>0.219137</td>\n      <td>7.221955e+12</td>\n      <td>-0.002556</td>\n      <td>-0.000673</td>\n      <td>...</td>\n      <td>8780.0</td>\n      <td>0.094013</td>\n      <td>3.719263e+18</td>\n      <td>0.002217</td>\n      <td>0.000584</td>\n      <td>0.018</td>\n      <td>1.096212e+11</td>\n      <td>50</td>\n      <td>8.449323e+19</td>\n      <td>4.415520e+11</td>\n    </tr>\n  </tbody>\n</table>\n<p>5 rows × 109 columns</p>\n</div>"
     },
     "execution_count": 119,
     "metadata": {},
     "output_type": "execute_result"
    }
   ],
   "source": [
    "drop_col = (['INSTRUME', 'CAMERA','QUALITY', 'QUAL_S', 'QUALLEV1',\n",
    "            'HISTORY', 'BLD_VERS', 'CALVER64', 'CODEVER7',\n",
    "            'INVCODEV', 'AMBCODEV', 'NOAA_NUM']) #'INVPHMAP'\n",
    "df.drop(drop_col, axis=1, inplace=True)\n",
    "df.reset_index(drop=True, inplace=True)\n",
    "df.head()"
   ],
   "metadata": {
    "collapsed": false,
    "ExecuteTime": {
     "end_time": "2024-08-27T17:14:05.891363100Z",
     "start_time": "2024-08-27T17:14:05.844966600Z"
    }
   },
   "id": "da69e29a87e6fc98"
  },
  {
   "cell_type": "code",
   "execution_count": null,
   "outputs": [],
   "source": [
    "# drop_col_others = ['HFLID', 'HCFTID', 'HARPNUM', 'LATDTMIN', 'LONDTMIN', 'LATDTMAX', 'LONDTMAX']\n",
    "# drop_col_obs_param2 = ['OBS_VR', 'OBS_VW', 'OBS_VN']\n",
    "# drop_col_img_param = ['CRPIX1', 'CRPIX2', 'CRVAL1', 'CRVAL2', 'IMCRPIX1', 'IMCRPIX2']\n",
    "# drop_sun_obs_param = ['DSUN_OBS', 'CRLN_OBS', 'CRLT_OBS', 'CAR_ROT', 'RSUN_OBS']  # todo: might be useful\n",
    "# \n",
    "# df.drop(drop_col_others + drop_col_obs_param2 + drop_col_img_param + drop_sun_obs_param,\n",
    "#         axis=1, inplace=True)\n",
    "# df.reset_index(drop=True, inplace=True)\n",
    "# df.head()"
   ],
   "metadata": {
    "collapsed": false
   },
   "id": "7d3f3cee69b499de"
  },
  {
   "cell_type": "code",
   "execution_count": 120,
   "outputs": [
    {
     "data": {
      "text/plain": "(18495, 109)"
     },
     "execution_count": 120,
     "metadata": {},
     "output_type": "execute_result"
    }
   ],
   "source": [
    "df = df[df['NOAA_AR'] != 0].reset_index(drop=True)\n",
    "df.shape"
   ],
   "metadata": {
    "collapsed": false,
    "ExecuteTime": {
     "end_time": "2024-08-27T17:14:09.657670Z",
     "start_time": "2024-08-27T17:14:09.564772600Z"
    }
   },
   "id": "61aac81524924e43"
  },
  {
   "cell_type": "markdown",
   "source": [
    "### Not using ARS, instead using _AR"
   ],
   "metadata": {
    "collapsed": false
   },
   "id": "e7eb533315aa6f57"
  },
  {
   "cell_type": "code",
   "execution_count": 152,
   "outputs": [
    {
     "data": {
      "text/plain": "(24701, 88)"
     },
     "execution_count": 152,
     "metadata": {},
     "output_type": "execute_result"
    }
   ],
   "source": [
    "# df['NOAA_ARS'] = df['NOAA_ARS'].str.split(',')\n",
    "\n",
    "# # Explode the NOAA_ARS column to create separate rows for each value\n",
    "# df = df.explode('NOAA_ARS').reset_index(drop=True)\n",
    "# df.shape"
   ],
   "metadata": {
    "collapsed": false,
    "ExecuteTime": {
     "end_time": "2024-08-22T15:56:53.619199800Z",
     "start_time": "2024-08-22T15:56:52.296336500Z"
    }
   },
   "id": "bed03502c3fc0a05"
  },
  {
   "cell_type": "markdown",
   "source": [
    "## Calculate error separately"
   ],
   "metadata": {
    "collapsed": false
   },
   "id": "c9ada57f5ec86c1b"
  },
  {
   "cell_type": "code",
   "execution_count": 159,
   "outputs": [],
   "source": [
    "# err_column_pairs = [('MEANGAM', 'ERRGAM'),  # Mean inclination angle, gamma\n",
    "#                     ('MEANPOT', 'ERRMPOT'),('TOTPOT', 'ERRTPOT'), # photospheric excess magnetic energy density\n",
    "#                     ('MEANGBT', 'ERRBT'), ('MEANGBH', 'ERRBH'), ('MEANGBZ', 'ERRBZ'), # field gradient\n",
    "#                     ('MEANJZD', 'ERRJZ'),   # Mean vertical current density\n",
    "#                     ('MEANALP', 'ERRALP'),  # Mean twist parameter, alpha\n",
    "#                     ('MEANSHR', 'ERRMSHA'), # Mean shear angle for B_total\n",
    "#                     ('TOTUSJZ', 'ERRUSI'), # Total unsigned vertical current\n",
    "#                     ('SAVNCPP', 'ERRJHT')\n",
    "#                     ]\n",
    "# \n",
    "# for actual_col, error_col in err_column_pairs:\n",
    "#   df[error_col] = df[error_col].fillna(0)\n",
    "#   df[actual_col] = df[actual_col] - df[error_col]\n",
    "#   df = df.drop(columns=[error_col])"
   ],
   "metadata": {
    "collapsed": false,
    "ExecuteTime": {
     "end_time": "2024-08-22T17:38:07.098907800Z",
     "start_time": "2024-08-22T17:38:06.868683100Z"
    }
   },
   "id": "947733a514ab9763"
  },
  {
   "cell_type": "code",
   "execution_count": 161,
   "outputs": [
    {
     "data": {
      "text/plain": "(24701, 73)"
     },
     "execution_count": 161,
     "metadata": {},
     "output_type": "execute_result"
    }
   ],
   "source": [
    "# drop_col_unsigned_flux = ['USFLUX','USFLUXL','INVVLAVE','ERRVF']  # Got R-value (Schrijver, 2007)\n",
    "# df.drop(drop_col_unsigned_flux, axis=1, inplace=True)\n",
    "# df.shape"
   ],
   "metadata": {
    "collapsed": false,
    "ExecuteTime": {
     "end_time": "2024-08-22T17:38:54.131882500Z",
     "start_time": "2024-08-22T17:38:54.080381700Z"
    }
   },
   "id": "8b7806a5a53079f2"
  },
  {
   "cell_type": "code",
   "execution_count": 177,
   "outputs": [
    {
     "data": {
      "text/plain": "(24701, 63)"
     },
     "execution_count": 177,
     "metadata": {},
     "output_type": "execute_result"
    }
   ],
   "source": [
    "# drop_col_others3 = ['AMBNEQ', \"ARM_QUAL\",\"ARM_NCLN\", 'H_MERGE', 'H_FAINT',\n",
    "#                     'N_PATCH', 'N_PATCH1', 'N_PATCHM', 'NOAA_AR', 'NOAA_NUM']\n",
    "# df.drop(drop_col_others3, axis=1, inplace=True)\n",
    "# df.reset_index(drop=True, inplace=True)\n",
    "# df.shape"
   ],
   "metadata": {
    "collapsed": false,
    "ExecuteTime": {
     "end_time": "2024-08-22T17:59:57.407496800Z",
     "start_time": "2024-08-22T17:59:57.378277200Z"
    }
   },
   "id": "1276696f83a541a7"
  },
  {
   "cell_type": "code",
   "execution_count": 179,
   "outputs": [
    {
     "data": {
      "text/plain": "{'EPSX',\n 'EPSY',\n 'EPSZ',\n 'FlareNumber',\n 'Latitude',\n 'Longitude',\n 'TOTBSQ',\n 'TOTFX',\n 'TOTFY',\n 'TOTFZ',\n 'USFLUX'}"
     },
     "execution_count": 179,
     "metadata": {},
     "output_type": "execute_result"
    }
   ],
   "source": [
    "set(['FlareNumber', 'T_REC', 'Longitude', 'Latitude', 'TOTUSJH', 'TOTBSQ',\n",
    "       'TOTPOT', 'TOTUSJZ', 'ABSNJZH', 'SAVNCPP', 'USFLUX', 'AREA_ACR',\n",
    "       'TOTFZ', 'MEANPOT', 'R_VALUE', 'EPSZ', 'SHRGT45', 'MEANSHR', 'MEANGAM',\n",
    "       'MEANGBT', 'MEANGBZ', 'MEANGBH', 'MEANJZH', 'TOTFY', 'MEANJZD',\n",
    "       'MEANALP', 'TOTFX', 'EPSY', 'EPSX'])-set(df.columns)"
   ],
   "metadata": {
    "collapsed": false,
    "ExecuteTime": {
     "end_time": "2024-08-22T18:11:04.465664800Z",
     "start_time": "2024-08-22T18:11:04.417513Z"
    }
   },
   "id": "35f468b0c9644dc4"
  },
  {
   "cell_type": "code",
   "execution_count": 121,
   "outputs": [],
   "source": [
    "df.rename(columns={'NOAA_AR': 'Region', 'T_REC': 'Date'}, inplace=True)\n",
    "df['Date'] = pd.to_datetime(df['Date'])\n",
    "df['Region'] = df['Region'].astype(int)"
   ],
   "metadata": {
    "collapsed": false,
    "ExecuteTime": {
     "end_time": "2024-08-27T17:14:35.268285800Z",
     "start_time": "2024-08-27T17:14:35.225707500Z"
    }
   },
   "id": "5382379075863825"
  },
  {
   "cell_type": "markdown",
   "source": [
    "## Keep this cleaned dataset"
   ],
   "metadata": {
    "collapsed": false
   },
   "id": "3fa0e898496542a9"
  },
  {
   "cell_type": "code",
   "execution_count": 125,
   "outputs": [
    {
     "data": {
      "text/plain": "(18495, 109)"
     },
     "execution_count": 125,
     "metadata": {},
     "output_type": "execute_result"
    }
   ],
   "source": [
    "df.shape"
   ],
   "metadata": {
    "collapsed": false,
    "ExecuteTime": {
     "end_time": "2024-08-27T17:16:10.427078Z",
     "start_time": "2024-08-27T17:16:10.383536700Z"
    }
   },
   "id": "32dc737ff708cdd4"
  },
  {
   "cell_type": "code",
   "execution_count": 124,
   "outputs": [],
   "source": [
    "# df.to_csv(f\"../data/{series}_cleaned.csv\", index=False)"
   ],
   "metadata": {
    "collapsed": false,
    "ExecuteTime": {
     "end_time": "2024-08-27T17:14:56.848499300Z",
     "start_time": "2024-08-27T17:14:55.800416Z"
    }
   },
   "id": "1f4ce9670486e3a2"
  },
  {
   "cell_type": "code",
   "execution_count": 128,
   "outputs": [
    {
     "data": {
      "text/plain": "(43115, 4)"
     },
     "execution_count": 128,
     "metadata": {},
     "output_type": "execute_result"
    }
   ],
   "source": [
    "df_flares = pd.read_csv(\"../data/flares-processed-2.csv\")\n",
    "df_flares = df_flares.dropna(subset=['Region', 'X-ray class'])\n",
    "df_flares['Date'] = pd.to_datetime(df_flares[['Year', 'Month', 'Day']])\n",
    "df_flares = df_flares.drop(['Start', 'End', 'Maximum',\n",
    "                            'Year', 'Month', 'Day'], axis=1)\n",
    "df_flares['Region'] = df_flares['Region'].astype(int)\n",
    "df_flares.shape"
   ],
   "metadata": {
    "collapsed": false,
    "ExecuteTime": {
     "end_time": "2024-08-27T17:26:14.746305300Z",
     "start_time": "2024-08-27T17:26:14.630016100Z"
    }
   },
   "id": "e7e6f9c998e41233"
  },
  {
   "cell_type": "code",
   "execution_count": 129,
   "outputs": [
    {
     "data": {
      "text/plain": "Index(['Region', 'X-ray class', 'X-ray intensity', 'Date'], dtype='object')"
     },
     "execution_count": 129,
     "metadata": {},
     "output_type": "execute_result"
    }
   ],
   "source": [
    "df_flares.columns"
   ],
   "metadata": {
    "collapsed": false,
    "ExecuteTime": {
     "end_time": "2024-08-27T17:26:19.039753700Z",
     "start_time": "2024-08-27T17:26:18.996615400Z"
    }
   },
   "id": "add11677e6a0ffcc"
  },
  {
   "cell_type": "code",
   "execution_count": 130,
   "outputs": [
    {
     "data": {
      "text/plain": "(25865, 111)"
     },
     "execution_count": 130,
     "metadata": {},
     "output_type": "execute_result"
    }
   ],
   "source": [
    "df_merged = pd.merge(df, df_flares, on=['Region', 'Date'], how='left')\n",
    "df_merged.shape"
   ],
   "metadata": {
    "collapsed": false,
    "ExecuteTime": {
     "end_time": "2024-08-27T17:26:42.172508400Z",
     "start_time": "2024-08-27T17:26:42.111454Z"
    }
   },
   "id": "3b8dc90973a64174"
  },
  {
   "cell_type": "code",
   "execution_count": 97,
   "outputs": [
    {
     "data": {
      "text/plain": "        Date        USFLUX  MEANGAM  MEANGBT  MEANGBZ  MEANGBH   MEANJZD  \\\n0 2010-05-02  7.284643e+21   23.882   72.810   75.884   31.044 -0.083294   \n1 2010-05-02  7.284643e+21   23.882   72.810   75.884   31.044 -0.083294   \n2 2010-05-02  7.577038e+20   33.088  155.084  157.227   75.352  1.176815   \n3 2010-05-02  7.155764e+20   28.317  138.661  140.604   50.574  0.357809   \n4 2010-05-05  5.300906e+21   29.565  119.300  117.777   46.557  0.219137   \n\n        TOTUSJZ   MEANALP   MEANJZH  ...         ERRVF    ERRALP    ERRMIH  \\\n0  5.949744e+12 -0.005115 -0.001544  ...  4.358624e+18  0.000901  0.000272   \n1  5.949744e+12 -0.005115 -0.001544  ...  4.358624e+18  0.000901  0.000272   \n2  1.200310e+12 -0.040246 -0.015144  ...  1.211761e+18  0.006817  0.002565   \n3  1.123229e+12 -0.012548 -0.003167  ...  1.341280e+18  0.007388  0.001864   \n4  7.221955e+12 -0.002556 -0.000673  ...  3.719263e+18  0.002217  0.000584   \n\n   ERRMSHA        ERRUSI  DOFFSET       ERRTPOT        ERRJHT  X-ray class  \\\n0    0.011  6.893109e+10       50  4.211002e+19  2.772309e+11            B   \n1    0.011  6.893109e+10       50  4.211002e+19  2.772309e+11            B   \n2    0.121  5.100690e+10       50  3.953265e+19  2.051424e+11          NaN   \n3    0.105  4.919330e+10       50  3.527319e+19  1.978483e+11          NaN   \n4    0.018  1.096212e+11       50  8.449323e+19  4.415520e+11          NaN   \n\n   X-ray intensity  \n0              2.9  \n1              3.8  \n2              NaN  \n3              NaN  \n4              NaN  \n\n[5 rows x 116 columns]",
      "text/html": "<div>\n<style scoped>\n    .dataframe tbody tr th:only-of-type {\n        vertical-align: middle;\n    }\n\n    .dataframe tbody tr th {\n        vertical-align: top;\n    }\n\n    .dataframe thead th {\n        text-align: right;\n    }\n</style>\n<table border=\"1\" class=\"dataframe\">\n  <thead>\n    <tr style=\"text-align: right;\">\n      <th></th>\n      <th>Date</th>\n      <th>USFLUX</th>\n      <th>MEANGAM</th>\n      <th>MEANGBT</th>\n      <th>MEANGBZ</th>\n      <th>MEANGBH</th>\n      <th>MEANJZD</th>\n      <th>TOTUSJZ</th>\n      <th>MEANALP</th>\n      <th>MEANJZH</th>\n      <th>...</th>\n      <th>ERRVF</th>\n      <th>ERRALP</th>\n      <th>ERRMIH</th>\n      <th>ERRMSHA</th>\n      <th>ERRUSI</th>\n      <th>DOFFSET</th>\n      <th>ERRTPOT</th>\n      <th>ERRJHT</th>\n      <th>X-ray class</th>\n      <th>X-ray intensity</th>\n    </tr>\n  </thead>\n  <tbody>\n    <tr>\n      <th>0</th>\n      <td>2010-05-02</td>\n      <td>7.284643e+21</td>\n      <td>23.882</td>\n      <td>72.810</td>\n      <td>75.884</td>\n      <td>31.044</td>\n      <td>-0.083294</td>\n      <td>5.949744e+12</td>\n      <td>-0.005115</td>\n      <td>-0.001544</td>\n      <td>...</td>\n      <td>4.358624e+18</td>\n      <td>0.000901</td>\n      <td>0.000272</td>\n      <td>0.011</td>\n      <td>6.893109e+10</td>\n      <td>50</td>\n      <td>4.211002e+19</td>\n      <td>2.772309e+11</td>\n      <td>B</td>\n      <td>2.9</td>\n    </tr>\n    <tr>\n      <th>1</th>\n      <td>2010-05-02</td>\n      <td>7.284643e+21</td>\n      <td>23.882</td>\n      <td>72.810</td>\n      <td>75.884</td>\n      <td>31.044</td>\n      <td>-0.083294</td>\n      <td>5.949744e+12</td>\n      <td>-0.005115</td>\n      <td>-0.001544</td>\n      <td>...</td>\n      <td>4.358624e+18</td>\n      <td>0.000901</td>\n      <td>0.000272</td>\n      <td>0.011</td>\n      <td>6.893109e+10</td>\n      <td>50</td>\n      <td>4.211002e+19</td>\n      <td>2.772309e+11</td>\n      <td>B</td>\n      <td>3.8</td>\n    </tr>\n    <tr>\n      <th>2</th>\n      <td>2010-05-02</td>\n      <td>7.577038e+20</td>\n      <td>33.088</td>\n      <td>155.084</td>\n      <td>157.227</td>\n      <td>75.352</td>\n      <td>1.176815</td>\n      <td>1.200310e+12</td>\n      <td>-0.040246</td>\n      <td>-0.015144</td>\n      <td>...</td>\n      <td>1.211761e+18</td>\n      <td>0.006817</td>\n      <td>0.002565</td>\n      <td>0.121</td>\n      <td>5.100690e+10</td>\n      <td>50</td>\n      <td>3.953265e+19</td>\n      <td>2.051424e+11</td>\n      <td>NaN</td>\n      <td>NaN</td>\n    </tr>\n    <tr>\n      <th>3</th>\n      <td>2010-05-02</td>\n      <td>7.155764e+20</td>\n      <td>28.317</td>\n      <td>138.661</td>\n      <td>140.604</td>\n      <td>50.574</td>\n      <td>0.357809</td>\n      <td>1.123229e+12</td>\n      <td>-0.012548</td>\n      <td>-0.003167</td>\n      <td>...</td>\n      <td>1.341280e+18</td>\n      <td>0.007388</td>\n      <td>0.001864</td>\n      <td>0.105</td>\n      <td>4.919330e+10</td>\n      <td>50</td>\n      <td>3.527319e+19</td>\n      <td>1.978483e+11</td>\n      <td>NaN</td>\n      <td>NaN</td>\n    </tr>\n    <tr>\n      <th>4</th>\n      <td>2010-05-05</td>\n      <td>5.300906e+21</td>\n      <td>29.565</td>\n      <td>119.300</td>\n      <td>117.777</td>\n      <td>46.557</td>\n      <td>0.219137</td>\n      <td>7.221955e+12</td>\n      <td>-0.002556</td>\n      <td>-0.000673</td>\n      <td>...</td>\n      <td>3.719263e+18</td>\n      <td>0.002217</td>\n      <td>0.000584</td>\n      <td>0.018</td>\n      <td>1.096212e+11</td>\n      <td>50</td>\n      <td>8.449323e+19</td>\n      <td>4.415520e+11</td>\n      <td>NaN</td>\n      <td>NaN</td>\n    </tr>\n  </tbody>\n</table>\n<p>5 rows × 116 columns</p>\n</div>"
     },
     "execution_count": 97,
     "metadata": {},
     "output_type": "execute_result"
    }
   ],
   "source": [
    "df_merged.head()"
   ],
   "metadata": {
    "collapsed": false,
    "ExecuteTime": {
     "end_time": "2024-08-23T20:11:43.667493100Z",
     "start_time": "2024-08-23T20:11:43.586848500Z"
    }
   },
   "id": "536825b0ea6a6ee4"
  },
  {
   "cell_type": "code",
   "execution_count": 131,
   "outputs": [
    {
     "data": {
      "text/plain": "X-ray class\n0    14338\nC     6957\nB     3684\nM      825\nX       51\nA       10\nName: count, dtype: int64"
     },
     "execution_count": 131,
     "metadata": {},
     "output_type": "execute_result"
    }
   ],
   "source": [
    "df_merged['X-ray class'] = df_merged['X-ray class'].fillna(0)\n",
    "df_merged['X-ray class'].value_counts()"
   ],
   "metadata": {
    "collapsed": false,
    "ExecuteTime": {
     "end_time": "2024-08-27T17:27:02.414104700Z",
     "start_time": "2024-08-27T17:27:02.353767Z"
    }
   },
   "id": "6c52c8840ca9fe3d"
  },
  {
   "cell_type": "code",
   "execution_count": 132,
   "outputs": [],
   "source": [
    "# preparing Y\n",
    "df_merged['X-ray Binary'] = df_merged['X-ray class'].map({\n",
    "  0: 0, 'A': 0, 'B': 0, 'C': 0,\n",
    "  'M': 1, 'X': 1,})\n",
    "\n",
    "df_merged['X-ray Distinct'] = df_merged['X-ray class'].map({\n",
    "  0: 0, 'A': 1, 'B': 2, 'C': 3, 'M': 4, 'X': 5,})\n",
    "\n",
    "df_merged['X-ray Grouped'] = df_merged['X-ray class'].map({\n",
    "  0: 0, 'A': 1, 'B': 1, 'C': 1, 'M': 2, 'X': 2,})\n",
    "\n",
    "df_merged['X-ray All Flare'] = df_merged['X-ray class'].map({\n",
    "  0: 0, 'A': 1, 'B': 1, 'C': 1, 'M': 1, 'X': 1,})"
   ],
   "metadata": {
    "collapsed": false,
    "ExecuteTime": {
     "end_time": "2024-08-27T17:27:07.209815Z",
     "start_time": "2024-08-27T17:27:07.153031900Z"
    }
   },
   "id": "ba120e7e332064a9"
  },
  {
   "cell_type": "code",
   "execution_count": 101,
   "outputs": [
    {
     "data": {
      "text/plain": "\"['Date', 'USFLUX', 'MEANGAM', 'MEANGBT', 'MEANGBZ', 'MEANGBH', 'MEANJZD', 'TOTUSJZ', 'MEANALP', 'MEANJZH', 'TOTUSJH', 'ABSNJZH', 'SAVNCPP', 'MEANPOT', 'TOTPOT', 'MEANSHR', 'SHRGT45', 'R_VALUE', 'CRPIX1', 'CRPIX2', 'CRVAL1', 'CRVAL2', 'IMCRPIX1', 'IMCRPIX2', 'DSUN_OBS', 'CRLN_OBS', 'CRLT_OBS', 'CAR_ROT', 'OBS_VR', 'OBS_VW', 'OBS_VN', 'RSUN_OBS', 'HFLID', 'HCFTID', 'HARPNUM', 'ARM_QUAL', 'ARM_NCLN', 'H_MERGE', 'H_FAINT', 'LATDTMIN', 'LONDTMIN', 'LATDTMAX', 'LONDTMAX', 'OMEGA_DT', 'NPIX', 'SIZE', 'AREA', 'NACR', 'SIZE_ACR', 'AREA_ACR', 'MTOT', 'MNET', 'MPOS_TOT', 'MNEG_TOT', 'MMEAN', 'MSTDEV', 'MSKEW', 'MKURT', 'LAT_MIN', 'LON_MIN', 'LAT_MAX', 'LON_MAX', 'LAT_FWT', 'LON_FWT', 'LAT_FWTPOS', 'LON_FWTPOS', 'LAT_FWTNEG', 'LON_FWTNEG', 'T_FRST', 'T_FRST1', 'T_LAST1', 'T_LAST', 'N_PATCH', 'N_PATCH1', 'N_PATCHM', 'Region', 'NOAA_ARS', 'INVPHMAP', 'INVVLAVE', 'USFLUXL', 'INVBLAVE', 'MEANGBL', 'INVBBAVE', 'INVNPRCS', 'CMASKL', 'INVNCNVG', 'AMBGMTRY', 'AMBPATCH', 'AMBWEAK', 'AMBNGROW', 'AMBNPAD', 'AMBNTX', 'AMBNTY', 'AMBSEED', 'AMBNEQ', 'AMBTFCTR', 'T_REC_index', 'ERRGAM', 'ERRTAI', 'ERRBH', 'ERRMPOT', 'ERRBT', 'ERRTUI', 'ERRBZ', 'CMASK', 'ERRJZ', 'ERRVF', 'ERRALP', 'ERRMIH', 'ERRMSHA', 'ERRUSI', 'DOFFSET', 'ERRTPOT', 'ERRJHT', 'X-ray class', 'X-ray intensity', 'X-ray Binary', 'X-ray Distinct', 'X-ray Grouped']\""
     },
     "execution_count": 101,
     "metadata": {},
     "output_type": "execute_result"
    }
   ],
   "source": [
    "str(list(df_merged.columns))"
   ],
   "metadata": {
    "collapsed": false,
    "ExecuteTime": {
     "end_time": "2024-08-23T20:11:47.635758100Z",
     "start_time": "2024-08-23T20:11:47.586583100Z"
    }
   },
   "id": "22d1235a534f834d"
  },
  {
   "cell_type": "code",
   "execution_count": 141,
   "outputs": [
    {
     "data": {
      "text/plain": "(19391, 115)"
     },
     "execution_count": 141,
     "metadata": {},
     "output_type": "execute_result"
    }
   ],
   "source": [
    "df_merged.drop_duplicates(subset=['Region', 'Date', 'X-ray class']).shape"
   ],
   "metadata": {
    "collapsed": false,
    "ExecuteTime": {
     "end_time": "2024-08-27T17:39:01.499960Z",
     "start_time": "2024-08-27T17:39:01.464846200Z"
    }
   },
   "id": "ab9cea52bc285814"
  },
  {
   "cell_type": "code",
   "execution_count": 136,
   "outputs": [
    {
     "data": {
      "text/plain": "X-ray class\n0    14178\nC     2945\nB     1665\nM      544\nX       49\nA       10\nName: count, dtype: int64"
     },
     "execution_count": 136,
     "metadata": {},
     "output_type": "execute_result"
    }
   ],
   "source": [
    "df_merged.drop_duplicates(subset=['Region', 'Date', 'X-ray class'])['X-ray class'].value_counts()"
   ],
   "metadata": {
    "collapsed": false,
    "ExecuteTime": {
     "end_time": "2024-08-27T17:35:24.320547100Z",
     "start_time": "2024-08-27T17:35:24.273181Z"
    }
   },
   "id": "46c2485210aa149e"
  },
  {
   "cell_type": "code",
   "execution_count": 146,
   "outputs": [
    {
     "data": {
      "text/plain": "(18303, 115)"
     },
     "execution_count": 146,
     "metadata": {},
     "output_type": "execute_result"
    }
   ],
   "source": [
    "# Drop duplicated X-ray, keeping max.\n",
    "max_indices = df_merged.groupby(['Region', 'Date'])['X-ray Distinct'].idxmax()\n",
    "df_merged = df_merged.loc[max_indices]\n",
    "df_merged.reset_index(drop=True, inplace=True)\n",
    "df_merged.shape"
   ],
   "metadata": {
    "collapsed": false,
    "ExecuteTime": {
     "end_time": "2024-08-27T23:01:06.485183600Z",
     "start_time": "2024-08-27T23:01:06.384332700Z"
    }
   },
   "id": "47552becd1667266"
  },
  {
   "cell_type": "code",
   "execution_count": 170,
   "outputs": [],
   "source": [
    "final_col_sharp = [\"USFLUX\",\"MEANGAM\",\"MEANGBT\",\"MEANGBZ\",\"MEANGBH\",\"MEANJZD\",\"TOTUSJZ\",\"MEANALP\",\"MEANJZH\",\"TOTUSJH\",\"ABSNJZH\",\"SAVNCPP\",\"MEANPOT\",\"TOTPOT\",\"MEANSHR\",\"SHRGT45\",\"R_VALUE\"]"
   ],
   "metadata": {
    "collapsed": false,
    "ExecuteTime": {
     "end_time": "2024-08-28T03:33:24.419252200Z",
     "start_time": "2024-08-28T03:33:24.359612100Z"
    }
   },
   "id": "1ff986399cde1cb8"
  },
  {
   "cell_type": "code",
   "execution_count": 173,
   "outputs": [
    {
     "data": {
      "text/plain": "Index(['Date', 'USFLUX', 'MEANGAM', 'MEANGBT', 'MEANGBZ', 'MEANGBH', 'MEANJZD',\n       'TOTUSJZ', 'MEANALP', 'MEANJZH',\n       ...\n       'ERRUSI', 'DOFFSET', 'ERRTPOT', 'ERRJHT', 'X-ray class',\n       'X-ray intensity', 'X-ray Binary', 'X-ray Distinct', 'X-ray Grouped',\n       'X-ray All Flare'],\n      dtype='object', length=115)"
     },
     "execution_count": 173,
     "metadata": {},
     "output_type": "execute_result"
    }
   ],
   "source": [
    "df_merged.columns"
   ],
   "metadata": {
    "collapsed": false,
    "ExecuteTime": {
     "end_time": "2024-08-28T03:35:12.993211300Z",
     "start_time": "2024-08-28T03:35:12.929678700Z"
    }
   },
   "id": "c8fd805ddfe9a0ab"
  },
  {
   "cell_type": "code",
   "execution_count": 174,
   "outputs": [
    {
     "data": {
      "text/plain": "            Date  Region        USFLUX  MEANGAM  MEANGBT  MEANGBZ  MEANGBH  \\\n0     2010-05-05   11063  4.037088e+21   25.523   74.669   76.082   32.604   \n1     2010-05-06   11063  4.480165e+21   33.152   61.379   85.726   28.489   \n2     2010-05-02   11064  7.577038e+20   33.088  155.084  157.227   75.352   \n3     2010-05-05   11064  3.703777e+20   25.846  128.532  128.106   43.011   \n4     2010-05-02   11065  7.155764e+20   28.317  138.661  140.604   50.574   \n...          ...     ...           ...      ...      ...      ...      ...   \n18298 2023-12-27   13535  2.393699e+20   29.991  153.129  154.713   79.113   \n18299 2023-12-28   13535  4.312116e+20   41.211  133.724  138.033   75.129   \n18300 2023-12-29   13535  1.656284e+21   43.819  139.735  136.826   78.181   \n18301 2023-12-30   13535  1.419483e+21   29.967  131.671  131.288   50.666   \n18302 2023-12-31   13535  1.752085e+21   26.336  101.872  102.329   33.206   \n\n        MEANJZD       TOTUSJZ   MEANALP  ...   MEANPOT        TOTPOT  MEANSHR  \\\n0     -0.213622  2.700677e+12  0.002692  ...  1331.108  1.066320e+22      NaN   \n1     -0.092551  3.006584e+12 -0.000410  ...  3292.266  3.045727e+22   31.214   \n2      1.176815  1.200310e+12 -0.040246  ...  2413.010  3.451338e+21   22.381   \n3      0.440834  5.615162e+11 -0.021435  ...  1431.665  1.220645e+21   22.210   \n4      0.357809  1.123229e+12 -0.012548  ...  1693.693  2.658673e+21   23.032   \n...         ...           ...       ...  ...       ...           ...      ...   \n18298  1.376965  4.377806e+11  0.019236  ...  1992.399  8.969920e+20   20.204   \n18299  0.751348  9.621926e+11  0.053543  ...  1864.651  1.817633e+21   25.390   \n18300  1.097030  3.825830e+12 -0.009052  ...  3047.278  1.220551e+22   31.258   \n18301  0.991068  2.194001e+12  0.012726  ...  1857.980  5.707280e+21   23.738   \n18302  0.162640  1.927227e+12  0.004405  ...  1328.667  5.395930e+21   22.262   \n\n       SHRGT45  R_VALUE  X-ray class  X-ray Binary  X-ray Distinct  \\\n0        1.293    2.408            0             0               0   \n1       16.006    2.145            0             0               0   \n2        4.457    0.000            0             0               0   \n3        1.713    0.000            0             0               0   \n4        5.161    0.000            0             0               0   \n...        ...      ...          ...           ...             ...   \n18298    2.065    2.194            0             0               0   \n18299   11.989    0.000            0             0               0   \n18300   17.540    2.197            0             0               0   \n18301    3.934    0.000            0             0               0   \n18302    1.308    0.000            0             0               0   \n\n       X-ray Grouped X-ray All Flare  \n0                  0               0  \n1                  0               0  \n2                  0               0  \n3                  0               0  \n4                  0               0  \n...              ...             ...  \n18298              0               0  \n18299              0               0  \n18300              0               0  \n18301              0               0  \n18302              0               0  \n\n[18303 rows x 24 columns]",
      "text/html": "<div>\n<style scoped>\n    .dataframe tbody tr th:only-of-type {\n        vertical-align: middle;\n    }\n\n    .dataframe tbody tr th {\n        vertical-align: top;\n    }\n\n    .dataframe thead th {\n        text-align: right;\n    }\n</style>\n<table border=\"1\" class=\"dataframe\">\n  <thead>\n    <tr style=\"text-align: right;\">\n      <th></th>\n      <th>Date</th>\n      <th>Region</th>\n      <th>USFLUX</th>\n      <th>MEANGAM</th>\n      <th>MEANGBT</th>\n      <th>MEANGBZ</th>\n      <th>MEANGBH</th>\n      <th>MEANJZD</th>\n      <th>TOTUSJZ</th>\n      <th>MEANALP</th>\n      <th>...</th>\n      <th>MEANPOT</th>\n      <th>TOTPOT</th>\n      <th>MEANSHR</th>\n      <th>SHRGT45</th>\n      <th>R_VALUE</th>\n      <th>X-ray class</th>\n      <th>X-ray Binary</th>\n      <th>X-ray Distinct</th>\n      <th>X-ray Grouped</th>\n      <th>X-ray All Flare</th>\n    </tr>\n  </thead>\n  <tbody>\n    <tr>\n      <th>0</th>\n      <td>2010-05-05</td>\n      <td>11063</td>\n      <td>4.037088e+21</td>\n      <td>25.523</td>\n      <td>74.669</td>\n      <td>76.082</td>\n      <td>32.604</td>\n      <td>-0.213622</td>\n      <td>2.700677e+12</td>\n      <td>0.002692</td>\n      <td>...</td>\n      <td>1331.108</td>\n      <td>1.066320e+22</td>\n      <td>NaN</td>\n      <td>1.293</td>\n      <td>2.408</td>\n      <td>0</td>\n      <td>0</td>\n      <td>0</td>\n      <td>0</td>\n      <td>0</td>\n    </tr>\n    <tr>\n      <th>1</th>\n      <td>2010-05-06</td>\n      <td>11063</td>\n      <td>4.480165e+21</td>\n      <td>33.152</td>\n      <td>61.379</td>\n      <td>85.726</td>\n      <td>28.489</td>\n      <td>-0.092551</td>\n      <td>3.006584e+12</td>\n      <td>-0.000410</td>\n      <td>...</td>\n      <td>3292.266</td>\n      <td>3.045727e+22</td>\n      <td>31.214</td>\n      <td>16.006</td>\n      <td>2.145</td>\n      <td>0</td>\n      <td>0</td>\n      <td>0</td>\n      <td>0</td>\n      <td>0</td>\n    </tr>\n    <tr>\n      <th>2</th>\n      <td>2010-05-02</td>\n      <td>11064</td>\n      <td>7.577038e+20</td>\n      <td>33.088</td>\n      <td>155.084</td>\n      <td>157.227</td>\n      <td>75.352</td>\n      <td>1.176815</td>\n      <td>1.200310e+12</td>\n      <td>-0.040246</td>\n      <td>...</td>\n      <td>2413.010</td>\n      <td>3.451338e+21</td>\n      <td>22.381</td>\n      <td>4.457</td>\n      <td>0.000</td>\n      <td>0</td>\n      <td>0</td>\n      <td>0</td>\n      <td>0</td>\n      <td>0</td>\n    </tr>\n    <tr>\n      <th>3</th>\n      <td>2010-05-05</td>\n      <td>11064</td>\n      <td>3.703777e+20</td>\n      <td>25.846</td>\n      <td>128.532</td>\n      <td>128.106</td>\n      <td>43.011</td>\n      <td>0.440834</td>\n      <td>5.615162e+11</td>\n      <td>-0.021435</td>\n      <td>...</td>\n      <td>1431.665</td>\n      <td>1.220645e+21</td>\n      <td>22.210</td>\n      <td>1.713</td>\n      <td>0.000</td>\n      <td>0</td>\n      <td>0</td>\n      <td>0</td>\n      <td>0</td>\n      <td>0</td>\n    </tr>\n    <tr>\n      <th>4</th>\n      <td>2010-05-02</td>\n      <td>11065</td>\n      <td>7.155764e+20</td>\n      <td>28.317</td>\n      <td>138.661</td>\n      <td>140.604</td>\n      <td>50.574</td>\n      <td>0.357809</td>\n      <td>1.123229e+12</td>\n      <td>-0.012548</td>\n      <td>...</td>\n      <td>1693.693</td>\n      <td>2.658673e+21</td>\n      <td>23.032</td>\n      <td>5.161</td>\n      <td>0.000</td>\n      <td>0</td>\n      <td>0</td>\n      <td>0</td>\n      <td>0</td>\n      <td>0</td>\n    </tr>\n    <tr>\n      <th>...</th>\n      <td>...</td>\n      <td>...</td>\n      <td>...</td>\n      <td>...</td>\n      <td>...</td>\n      <td>...</td>\n      <td>...</td>\n      <td>...</td>\n      <td>...</td>\n      <td>...</td>\n      <td>...</td>\n      <td>...</td>\n      <td>...</td>\n      <td>...</td>\n      <td>...</td>\n      <td>...</td>\n      <td>...</td>\n      <td>...</td>\n      <td>...</td>\n      <td>...</td>\n      <td>...</td>\n    </tr>\n    <tr>\n      <th>18298</th>\n      <td>2023-12-27</td>\n      <td>13535</td>\n      <td>2.393699e+20</td>\n      <td>29.991</td>\n      <td>153.129</td>\n      <td>154.713</td>\n      <td>79.113</td>\n      <td>1.376965</td>\n      <td>4.377806e+11</td>\n      <td>0.019236</td>\n      <td>...</td>\n      <td>1992.399</td>\n      <td>8.969920e+20</td>\n      <td>20.204</td>\n      <td>2.065</td>\n      <td>2.194</td>\n      <td>0</td>\n      <td>0</td>\n      <td>0</td>\n      <td>0</td>\n      <td>0</td>\n    </tr>\n    <tr>\n      <th>18299</th>\n      <td>2023-12-28</td>\n      <td>13535</td>\n      <td>4.312116e+20</td>\n      <td>41.211</td>\n      <td>133.724</td>\n      <td>138.033</td>\n      <td>75.129</td>\n      <td>0.751348</td>\n      <td>9.621926e+11</td>\n      <td>0.053543</td>\n      <td>...</td>\n      <td>1864.651</td>\n      <td>1.817633e+21</td>\n      <td>25.390</td>\n      <td>11.989</td>\n      <td>0.000</td>\n      <td>0</td>\n      <td>0</td>\n      <td>0</td>\n      <td>0</td>\n      <td>0</td>\n    </tr>\n    <tr>\n      <th>18300</th>\n      <td>2023-12-29</td>\n      <td>13535</td>\n      <td>1.656284e+21</td>\n      <td>43.819</td>\n      <td>139.735</td>\n      <td>136.826</td>\n      <td>78.181</td>\n      <td>1.097030</td>\n      <td>3.825830e+12</td>\n      <td>-0.009052</td>\n      <td>...</td>\n      <td>3047.278</td>\n      <td>1.220551e+22</td>\n      <td>31.258</td>\n      <td>17.540</td>\n      <td>2.197</td>\n      <td>0</td>\n      <td>0</td>\n      <td>0</td>\n      <td>0</td>\n      <td>0</td>\n    </tr>\n    <tr>\n      <th>18301</th>\n      <td>2023-12-30</td>\n      <td>13535</td>\n      <td>1.419483e+21</td>\n      <td>29.967</td>\n      <td>131.671</td>\n      <td>131.288</td>\n      <td>50.666</td>\n      <td>0.991068</td>\n      <td>2.194001e+12</td>\n      <td>0.012726</td>\n      <td>...</td>\n      <td>1857.980</td>\n      <td>5.707280e+21</td>\n      <td>23.738</td>\n      <td>3.934</td>\n      <td>0.000</td>\n      <td>0</td>\n      <td>0</td>\n      <td>0</td>\n      <td>0</td>\n      <td>0</td>\n    </tr>\n    <tr>\n      <th>18302</th>\n      <td>2023-12-31</td>\n      <td>13535</td>\n      <td>1.752085e+21</td>\n      <td>26.336</td>\n      <td>101.872</td>\n      <td>102.329</td>\n      <td>33.206</td>\n      <td>0.162640</td>\n      <td>1.927227e+12</td>\n      <td>0.004405</td>\n      <td>...</td>\n      <td>1328.667</td>\n      <td>5.395930e+21</td>\n      <td>22.262</td>\n      <td>1.308</td>\n      <td>0.000</td>\n      <td>0</td>\n      <td>0</td>\n      <td>0</td>\n      <td>0</td>\n      <td>0</td>\n    </tr>\n  </tbody>\n</table>\n<p>18303 rows × 24 columns</p>\n</div>"
     },
     "execution_count": 174,
     "metadata": {},
     "output_type": "execute_result"
    }
   ],
   "source": [
    "df_merged = df_merged[['Date', 'Region'] + final_col_sharp + [x for x in df_merged if x.startswith('X-ray')]]\n",
    "df_merged = df_merged.drop('X-ray intensity', axis=1)\n",
    "df_merged"
   ],
   "metadata": {
    "collapsed": false,
    "ExecuteTime": {
     "end_time": "2024-08-28T03:36:16.451511500Z",
     "start_time": "2024-08-28T03:36:16.380885100Z"
    }
   },
   "id": "e3a9008ab8b74257"
  },
  {
   "cell_type": "code",
   "execution_count": 189,
   "outputs": [
    {
     "data": {
      "text/plain": "(18081, 24)"
     },
     "execution_count": 189,
     "metadata": {},
     "output_type": "execute_result"
    }
   ],
   "source": [
    "df_merged = df_merged.dropna()\n",
    "df_merged.shape"
   ],
   "metadata": {
    "collapsed": false,
    "ExecuteTime": {
     "end_time": "2024-08-28T03:50:34.007443200Z",
     "start_time": "2024-08-28T03:50:33.958587200Z"
    }
   },
   "id": "6c6bc94fe83d5510"
  },
  {
   "cell_type": "code",
   "execution_count": 190,
   "outputs": [],
   "source": [
    "# df_merged.to_csv(\"../data/final-sharp-merged.csv\", index=False)"
   ],
   "metadata": {
    "collapsed": false,
    "ExecuteTime": {
     "end_time": "2024-08-28T03:50:44.018464700Z",
     "start_time": "2024-08-28T03:50:43.838483100Z"
    }
   },
   "id": "dd107e76ec2d7800"
  },
  {
   "cell_type": "markdown",
   "source": [
    "# Adding sunspot"
   ],
   "metadata": {
    "collapsed": false
   },
   "id": "fca9410de2c89961"
  },
  {
   "cell_type": "code",
   "execution_count": 214,
   "outputs": [
    {
     "data": {
      "text/plain": "(137272, 11)"
     },
     "execution_count": 214,
     "metadata": {},
     "output_type": "execute_result"
    }
   ],
   "source": [
    "df_sunspot = pd.read_csv(\"../data/sunspot-processed-2.csv\")\n",
    "df_sunspot = df_sunspot.dropna(subset=['Region', 'Sunspot Number'])\n",
    "df_sunspot['Date'] = pd.to_datetime(df_sunspot[['Year','Month','Day']])\n",
    "\n",
    "df_sunspot.shape"
   ],
   "metadata": {
    "collapsed": false,
    "ExecuteTime": {
     "end_time": "2024-08-28T04:49:47.424612500Z",
     "start_time": "2024-08-28T04:49:47.309748200Z"
    }
   },
   "id": "369807ab41460697"
  },
  {
   "cell_type": "code",
   "execution_count": 215,
   "outputs": [],
   "source": [
    "df_sunspot = df_sunspot.drop(columns=['Year','Month','Day'], axis=1)"
   ],
   "metadata": {
    "collapsed": false,
    "ExecuteTime": {
     "end_time": "2024-08-28T04:49:48.450871600Z",
     "start_time": "2024-08-28T04:49:48.379657300Z"
    }
   },
   "id": "41fea48ee5cded93"
  },
  {
   "cell_type": "code",
   "execution_count": 216,
   "outputs": [
    {
     "data": {
      "text/plain": "('2010-05-02', '2023-12-31')"
     },
     "execution_count": 216,
     "metadata": {},
     "output_type": "execute_result"
    }
   ],
   "source": [
    "df_merged['Date'].min(), df_merged['Date'].max()"
   ],
   "metadata": {
    "collapsed": false,
    "ExecuteTime": {
     "end_time": "2024-08-28T04:49:49.368038600Z",
     "start_time": "2024-08-28T04:49:49.268269300Z"
    }
   },
   "id": "55ef843e4d502d26"
  },
  {
   "cell_type": "code",
   "execution_count": 217,
   "outputs": [
    {
     "data": {
      "text/plain": "(28898, 8)"
     },
     "execution_count": 217,
     "metadata": {},
     "output_type": "execute_result"
    }
   ],
   "source": [
    "# matching date with sharp data\n",
    "df_sunspot = df_sunspot[(df_sunspot['Date'] >= '2010-05-02') & (df_sunspot['Date'] <= '2023-12-31')]\n",
    "df_sunspot.shape"
   ],
   "metadata": {
    "collapsed": false,
    "ExecuteTime": {
     "end_time": "2024-08-28T04:49:56.389630400Z",
     "start_time": "2024-08-28T04:49:56.346778400Z"
    }
   },
   "id": "2aaa1cef073e0b37"
  },
  {
   "cell_type": "code",
   "execution_count": 218,
   "outputs": [
    {
     "data": {
      "text/plain": "(18081, 24)"
     },
     "execution_count": 218,
     "metadata": {},
     "output_type": "execute_result"
    }
   ],
   "source": [
    "df_merged.shape"
   ],
   "metadata": {
    "collapsed": false,
    "ExecuteTime": {
     "end_time": "2024-08-28T04:49:59.814646100Z",
     "start_time": "2024-08-28T04:49:59.757891Z"
    }
   },
   "id": "e2e8ff19bb38b9c7"
  },
  {
   "cell_type": "code",
   "execution_count": 227,
   "outputs": [],
   "source": [
    "df_merged_sharp_sunspot = pd.merge(df_merged, df_sunspot, on=['Date', 'Region'], how='left').drop_duplicates(subset=['Date', 'Region'])"
   ],
   "metadata": {
    "collapsed": false,
    "ExecuteTime": {
     "end_time": "2024-08-28T04:51:47.454651400Z",
     "start_time": "2024-08-28T04:51:47.380962500Z"
    }
   },
   "id": "7605f5b18e8aa8f6"
  },
  {
   "cell_type": "code",
   "execution_count": 228,
   "outputs": [
    {
     "data": {
      "text/plain": "(13325, 30)"
     },
     "execution_count": 228,
     "metadata": {},
     "output_type": "execute_result"
    }
   ],
   "source": [
    "df_merged_sharp_sunspot = df_merged_sharp_sunspot.dropna()\n",
    "df_merged_sharp_sunspot.shape"
   ],
   "metadata": {
    "collapsed": false,
    "ExecuteTime": {
     "end_time": "2024-08-28T04:51:49.310847Z",
     "start_time": "2024-08-28T04:51:49.242624400Z"
    }
   },
   "id": "ae3a091964808b44"
  },
  {
   "cell_type": "code",
   "execution_count": 230,
   "outputs": [],
   "source": [
    "df_merged_sharp_sunspot.to_csv(\"../data/final-sunspot-sharp-merged.csv\", index=False)"
   ],
   "metadata": {
    "collapsed": false,
    "ExecuteTime": {
     "end_time": "2024-08-28T04:52:23.688972400Z",
     "start_time": "2024-08-28T04:52:23.520007100Z"
    }
   },
   "id": "4ed5cb9defb70bb4"
  },
  {
   "cell_type": "code",
   "execution_count": null,
   "outputs": [],
   "source": [],
   "metadata": {
    "collapsed": false
   },
   "id": "ad0b4056a2c388e9"
  },
  {
   "cell_type": "code",
   "execution_count": null,
   "outputs": [],
   "source": [],
   "metadata": {
    "collapsed": false
   },
   "id": "713db38bdf1de571"
  },
  {
   "cell_type": "code",
   "execution_count": null,
   "outputs": [],
   "source": [],
   "metadata": {
    "collapsed": false
   },
   "id": "9844811611676391"
  },
  {
   "cell_type": "markdown",
   "source": [
    "# Model (SHARP)"
   ],
   "metadata": {
    "collapsed": false
   },
   "id": "604bce04335fbc7"
  },
  {
   "cell_type": "code",
   "execution_count": 119,
   "outputs": [],
   "source": [
    "models_dict = {\n",
    "  \"LgR\": LogisticRegression,\n",
    "  \"DTC\": DecisionTreeClassifier,\n",
    "  \"RFC\": RandomForestClassifier,\n",
    "  \"SVM\": SVC,\n",
    "  \"GBC\": GradientBoostingClassifier,\n",
    "}\n",
    "\n",
    "def train_model(_model_key, _X_train, _y_train, **kwargs):\n",
    "  if _model_key not in models_dict.keys():\n",
    "    raise ValueError(f\"Model for key `{_model_key}` not found! Available keys: {', '.join(models_dict.keys())}\")\n",
    "  \n",
    "  model = models_dict[_model_key](**kwargs)\n",
    "  model.fit(_X_train, _y_train)\n",
    "  return model\n",
    "\n",
    "def evaluate_model(_model, _X_test, _y_test):\n",
    "  _predictions = _model.predict(_X_test)\n",
    "  _mse = mean_squared_error(_y_test, _predictions)\n",
    "  _mae = mean_absolute_error(_y_test, _predictions)\n",
    "  _r2 = r2_score(_y_test, _predictions)\n",
    "  print(f\"MSE: {_mse}, MAE: {_mae}, R2 Score: {_r2}\")\n",
    "  return _mse, _mae, _r2\n",
    "\n",
    "def print_metrics(_metrics):\n",
    "  _acc, _prec, _recall, _f1, _conf_mat = _metrics\n",
    "  print(f\"Accuracy:{round(_acc*100, 2)}, Precision: {round(_prec*100, 2)}, Recall: {round(_f1*100, 2)}, F1: {round(_f1*100, 2)}\")\n",
    "\n",
    "def evaluate_classification_model(_model, _X_test, _y_test, is_binary=True):\n",
    "  _predictions = _model.predict(_X_test)\n",
    "  _accuracy = accuracy_score(_y_test, _predictions)\n",
    "  if is_binary:\n",
    "    _precision = precision_score(_y_test, _predictions)\n",
    "    _recall = recall_score(_y_test, _predictions)\n",
    "    _f1 = f1_score(_y_test, _predictions)\n",
    "  else:\n",
    "    _precision = precision_score(_y_test, _predictions, average='macro')\n",
    "    _recall = recall_score(_y_test, _predictions, average='macro')\n",
    "    _f1 = f1_score(_y_test, _predictions, average='macro')\n",
    "  _conf_matrix = confusion_matrix(_y_test, _predictions)\n",
    "  return _accuracy, _precision, _recall, _f1, _conf_matrix"
   ],
   "metadata": {
    "collapsed": false,
    "ExecuteTime": {
     "end_time": "2024-08-23T21:04:47.717934600Z",
     "start_time": "2024-08-23T21:04:47.677792400Z"
    }
   },
   "id": "b0b3606adf0da5b4"
  },
  {
   "cell_type": "code",
   "execution_count": 160,
   "outputs": [],
   "source": [
    "col_1_for_ml = [\"USFLUX\",\"MEANGAM\",\"MEANGBT\",\"MEANGBZ\",\"MEANGBH\",\"MEANJZD\",\n",
    "  \"TOTUSJZ\",\"MEANALP\",\"MEANJZH\",\"TOTUSJH\",\"ABSNJZH\",\"SAVNCPP\",\n",
    "  \"MEANPOT\",\"TOTPOT\",\"MEANSHR\",\"SHRGT45\"]"
   ],
   "metadata": {
    "collapsed": false,
    "ExecuteTime": {
     "end_time": "2024-08-28T01:24:26.618808Z",
     "start_time": "2024-08-28T01:24:26.559506Z"
    }
   },
   "id": "5dff02ab2de64b85"
  },
  {
   "cell_type": "code",
   "execution_count": 121,
   "outputs": [
    {
     "data": {
      "text/plain": "MEANGAM    229\nMEANGBT    211\nMEANGBZ    211\nMEANGBH    211\nMEANJZD    211\nMEANALP    211\nMEANJZH    211\nMEANPOT    211\nMEANSHR    270\nSHRGT45    211\ndtype: int64"
     },
     "execution_count": 121,
     "metadata": {},
     "output_type": "execute_result"
    }
   ],
   "source": [
    "null_counts = df_merged[col_1_for_ml].isnull().sum()\n",
    "null_counts[null_counts != 0]"
   ],
   "metadata": {
    "collapsed": false,
    "ExecuteTime": {
     "end_time": "2024-08-23T21:06:16.067329300Z",
     "start_time": "2024-08-23T21:06:16.040330800Z"
    }
   },
   "id": "e9c871f33d747bdb"
  },
  {
   "cell_type": "code",
   "execution_count": 123,
   "outputs": [
    {
     "name": "stdout",
     "output_type": "stream",
     "text": [
      "0.9042220484753714\n",
      "              precision    recall  f1-score   support\n",
      "\n",
      "           0       0.91      0.92      0.91      2831\n",
      "           1       0.90      0.89      0.89      2285\n",
      "\n",
      "    accuracy                           0.90      5116\n",
      "   macro avg       0.90      0.90      0.90      5116\n",
      "weighted avg       0.90      0.90      0.90      5116\n"
     ]
    }
   ],
   "source": [
    "tmp_df = df_merged[col_1_for_ml + [\n",
    "  'X-ray Binary', 'X-ray All Flare', 'X-ray Distinct', 'X-ray Grouped' # y\n",
    "]].dropna()\n",
    "\n",
    "X = tmp_df.drop(['X-ray Binary', 'X-ray All Flare', 'X-ray Distinct', 'X-ray Grouped'], axis=1)\n",
    "y = tmp_df['X-ray All Flare']\n",
    "\n",
    "X_train, X_test, y_train, y_test = train_test_split(X, y, test_size=0.2, random_state=42, stratify=y)\n",
    "\n",
    "clf = RandomForestClassifier(class_weight='balanced', random_state=42)\n",
    "clf.fit(X_train, y_train)\n",
    "\n",
    "y_pred = clf.predict(X_test)\n",
    "\n",
    "print(accuracy_score(y_test, y_pred))\n",
    "print(classification_report(y_test, y_pred))"
   ],
   "metadata": {
    "collapsed": false,
    "ExecuteTime": {
     "end_time": "2024-08-23T21:10:07.448493800Z",
     "start_time": "2024-08-23T21:10:01.509963200Z"
    }
   },
   "id": "499384a237cd8a36"
  },
  {
   "cell_type": "code",
   "execution_count": 244,
   "outputs": [
    {
     "name": "stdout",
     "output_type": "stream",
     "text": [
      "0.8503282275711159\n",
      "              precision    recall  f1-score   support\n",
      "\n",
      "           0       0.95      0.89      0.92      2111\n",
      "           1       0.23      0.42      0.30       174\n",
      "\n",
      "    accuracy                           0.85      2285\n",
      "   macro avg       0.59      0.65      0.61      2285\n",
      "weighted avg       0.89      0.85      0.87      2285\n"
     ]
    }
   ],
   "source": [
    "X = (tmp_df[tmp_df['X-ray All Flare'] != 0]).drop(['X-ray Binary', 'X-ray All Flare', 'X-ray Distinct', 'X-ray Grouped'], axis=1)\n",
    "y = tmp_df[tmp_df['X-ray All Flare'] != 0]['X-ray Binary']\n",
    "\n",
    "X_train, X_test, y_train, y_test = train_test_split(X, y, test_size=0.2, random_state=42, stratify=y)\n",
    "\n",
    "clf = RandomForestClassifier(class_weight='balanced', random_state=42)\n",
    "clf.fit(X_train, y_train)\n",
    "\n",
    "y_pred = clf.predict(X_test)\n",
    "\n",
    "print(accuracy_score(y_test, y_pred))\n",
    "print(classification_report(y_test, y_pred))"
   ],
   "metadata": {
    "collapsed": false,
    "ExecuteTime": {
     "end_time": "2024-08-24T01:33:05.433982300Z",
     "start_time": "2024-08-24T01:33:03.546933100Z"
    }
   },
   "id": "a5264b0db36110c"
  },
  {
   "cell_type": "code",
   "execution_count": 125,
   "outputs": [
    {
     "name": "stdout",
     "output_type": "stream",
     "text": [
      "Accuracy:92.34, Precision: 33.33, Recall: 1.13, F1: 1.13\n",
      "Accuracy:90.63, Precision: 25.0, Recall: 15.75, F1: 15.75\n",
      "Accuracy:91.03, Precision: 26.87, Recall: 14.94, F1: 14.94\n",
      "Accuracy:92.17, Precision: 33.33, Recall: 5.29, F1: 5.29\n"
     ]
    }
   ],
   "source": [
    "for mk in [\"LgR\", \"DTC\", \"RFC\", \"GBC\"]:\n",
    "  model = train_model(mk, X_train, y_train)\n",
    "  print_metrics(evaluate_classification_model(model, X_test, y_test))"
   ],
   "metadata": {
    "collapsed": false,
    "ExecuteTime": {
     "end_time": "2024-08-23T21:11:39.166023900Z",
     "start_time": "2024-08-23T21:11:33.396698700Z"
    }
   },
   "id": "f47c600e632e68b9"
  },
  {
   "cell_type": "code",
   "execution_count": 243,
   "outputs": [
    {
     "data": {
      "text/plain": "<Figure size 400x400 with 1 Axes>",
      "image/png": "[encoded data removed]"
     },
     "metadata": {},
     "output_type": "display_data"
    }
   ],
   "source": [
    "_, _, _, _, cm = evaluate_classification_model(model, X_test, y_test, False)\n",
    "\n",
    "plt.figure(figsize=(4, 4))\n",
    "sns.heatmap(cm, annot=True, cmap='Blues', cbar=False)\n",
    "plt.title('Training Set Confusion Matrix')\n",
    "plt.xlabel('Predicted')\n",
    "plt.ylabel('Actual')\n",
    "plt.show()"
   ],
   "metadata": {
    "collapsed": false,
    "ExecuteTime": {
     "end_time": "2024-08-24T01:32:20.989353700Z",
     "start_time": "2024-08-24T01:32:20.901856900Z"
    }
   },
   "id": "6b5ded163556d27"
  },
  {
   "cell_type": "code",
   "execution_count": 145,
   "outputs": [
    {
     "data": {
      "text/plain": "<Figure size 1000x600 with 1 Axes>",
      "image/png": "[encoded data removed]"
     },
     "metadata": {},
     "output_type": "display_data"
    }
   ],
   "source": [
    "year_counts = df_flares['Date'].dt.year.value_counts().sort_index()\n",
    "\n",
    "plt.figure(figsize=(10, 6))\n",
    "year_counts.plot(kind='bar', color='skyblue')\n",
    "plt.title('Number of Flares per Year')\n",
    "plt.xlabel('Year')\n",
    "plt.ylabel('Number of Flares')\n",
    "plt.xticks(rotation=45)\n",
    "plt.grid(axis='y')\n",
    "\n",
    "plt.show()"
   ],
   "metadata": {
    "collapsed": false,
    "ExecuteTime": {
     "end_time": "2024-08-23T21:25:12.109801900Z",
     "start_time": "2024-08-23T21:25:11.811968100Z"
    }
   },
   "id": "d067da8d4860a4d8"
  },
  {
   "cell_type": "code",
   "execution_count": 146,
   "outputs": [
    {
     "data": {
      "text/plain": "<Figure size 1000x600 with 1 Axes>",
      "image/png": "[encoded data removed]"
     },
     "metadata": {},
     "output_type": "display_data"
    }
   ],
   "source": [
    "year_counts = df_merged[df_merged['X-ray Binary'] == 1]['Date'].dt.year.value_counts().sort_index()\n",
    "\n",
    "plt.figure(figsize=(10, 6))\n",
    "year_counts.plot(kind='bar', color='skyblue')\n",
    "plt.title('Number of Significant Flares per Year')\n",
    "plt.xlabel('Year')\n",
    "plt.ylabel('Number of Flares')\n",
    "plt.xticks(rotation=45)\n",
    "plt.grid(axis='y')\n",
    "\n",
    "plt.show()"
   ],
   "metadata": {
    "collapsed": false,
    "ExecuteTime": {
     "end_time": "2024-08-23T21:27:03.908794Z",
     "start_time": "2024-08-23T21:27:03.786182500Z"
    }
   },
   "id": "ef1334da82829bb6"
  },
  {
   "cell_type": "code",
   "execution_count": 88,
   "outputs": [
    {
     "data": {
      "text/plain": "(25865, 119)"
     },
     "execution_count": 88,
     "metadata": {},
     "output_type": "execute_result"
    }
   ],
   "source": [
    "df_merged.shape"
   ],
   "metadata": {
    "collapsed": false,
    "ExecuteTime": {
     "end_time": "2024-08-27T05:00:44.494230Z",
     "start_time": "2024-08-27T05:00:44.435905900Z"
    }
   },
   "id": "7fd224e00c816b76"
  },
  {
   "cell_type": "code",
   "execution_count": 271,
   "outputs": [
    {
     "data": {
      "text/plain": "(24989, 876)"
     },
     "execution_count": 271,
     "metadata": {},
     "output_type": "execute_result"
    }
   ],
   "source": [
    "df_merged[df_merged['X-ray Binary'] == 0].shape[0], df_merged[df_merged['X-ray Binary'] == 1].shape[0]"
   ],
   "metadata": {
    "collapsed": false,
    "ExecuteTime": {
     "end_time": "2024-08-24T12:27:51.968784500Z",
     "start_time": "2024-08-24T12:27:51.884174400Z"
    }
   },
   "id": "ab4eade6041d71a0"
  },
  {
   "cell_type": "code",
   "execution_count": 264,
   "outputs": [
    {
     "data": {
      "text/plain": "(18199, 119)"
     },
     "execution_count": 264,
     "metadata": {},
     "output_type": "execute_result"
    }
   ],
   "source": [
    "tmp_filtered_df_merged = df_merged[df_merged['X-ray Binary'] == 0].drop_duplicates(subset=['Region', 'Date'])\n",
    "\n",
    "tmp_filtered_df_merged.shape"
   ],
   "metadata": {
    "collapsed": false,
    "ExecuteTime": {
     "end_time": "2024-08-24T02:13:14.954936300Z",
     "start_time": "2024-08-24T02:13:14.891397700Z"
    }
   },
   "id": "e85f91d8c4be8ce9"
  },
  {
   "cell_type": "code",
   "execution_count": 273,
   "outputs": [
    {
     "data": {
      "text/plain": "562"
     },
     "execution_count": 273,
     "metadata": {},
     "output_type": "execute_result"
    }
   ],
   "source": [
    "df_merged[df_merged['X-ray Binary'] == 1].drop_duplicates(subset=['Region\", \"fDate']).shape[0]"
   ],
   "metadata": {
    "collapsed": false,
    "ExecuteTime": {
     "end_time": "2024-08-24T12:28:03.758820600Z",
     "start_time": "2024-08-24T12:28:03.680778200Z"
    }
   },
   "id": "d5f1bec235e9f49a"
  },
  {
   "cell_type": "code",
   "execution_count": 275,
   "outputs": [
    {
     "data": {
      "text/plain": "91"
     },
     "execution_count": 275,
     "metadata": {},
     "output_type": "execute_result"
    }
   ],
   "source": [
    "df_merged[df_merged['X-ray All Flare'] == 1][col_1_for_ml].isnull().sum().max()"
   ],
   "metadata": {
    "collapsed": false,
    "ExecuteTime": {
     "end_time": "2024-08-24T16:32:45.434665900Z",
     "start_time": "2024-08-24T16:32:45.393332200Z"
    }
   },
   "id": "f440452c21de049d"
  },
  {
   "cell_type": "code",
   "execution_count": 277,
   "outputs": [
    {
     "name": "stdout",
     "output_type": "stream",
     "text": [
      "0.9554390563564875\n",
      "              precision    recall  f1-score   support\n",
      "\n",
      "           0       0.98      0.97      0.98      3640\n",
      "           1       0.51      0.55      0.53       175\n",
      "\n",
      "    accuracy                           0.96      3815\n",
      "   macro avg       0.75      0.76      0.75      3815\n",
      "weighted avg       0.96      0.96      0.96      3815\n"
     ]
    }
   ],
   "source": [
    "X = pd.concat([tmp_filtered_df_merged[col_1_for_ml],\n",
    "              df_merged[df_merged['X-ray Binary'] == 1][col_1_for_ml]])\n",
    "y = pd.concat([tmp_filtered_df_merged['X-ray Binary'],\n",
    "              df_merged[df_merged['X-ray Binary'] == 1]['X-ray Binary']])\n",
    "\n",
    "# y = pd.concat(tmp_df[tmp_df['X-ray All Flare'] != 0]['X-ray Binary'])\n",
    "\n",
    "X_train, X_test, y_train, y_test = train_test_split(X, y, test_size=0.2, random_state=42, stratify=y)\n",
    "\n",
    "clf = RandomForestClassifier(class_weight='balanced', random_state=42)\n",
    "clf.fit(X_train, y_train)\n",
    "\n",
    "y_pred = clf.predict(X_test)\n",
    "\n",
    "print(accuracy_score(y_test, y_pred))\n",
    "print(classification_report(y_test, y_pred))"
   ],
   "metadata": {
    "collapsed": false,
    "ExecuteTime": {
     "end_time": "2024-08-24T16:37:30.337246600Z",
     "start_time": "2024-08-24T16:37:26.148949200Z"
    }
   },
   "id": "bc2dadd6bf38718c"
  },
  {
   "cell_type": "code",
   "execution_count": 280,
   "outputs": [
    {
     "data": {
      "text/plain": "<Figure size 400x400 with 1 Axes>",
      "image/png": "[encoded data removed]"
     },
     "metadata": {},
     "output_type": "display_data"
    }
   ],
   "source": [
    "_, _, _, _, cm = evaluate_classification_model(clf, X_test, y_test, False)\n",
    "\n",
    "plt.figure(figsize=(4, 4))\n",
    "sns.heatmap(cm, annot=True, cmap='Blues', cbar=False)\n",
    "plt.title('Training Set Confusion Matrix')\n",
    "plt.xlabel('Predicted')\n",
    "plt.ylabel('Actual')\n",
    "plt.show()"
   ],
   "metadata": {
    "collapsed": false,
    "ExecuteTime": {
     "end_time": "2024-08-24T16:38:05.200539Z",
     "start_time": "2024-08-24T16:38:05.091970900Z"
    }
   },
   "id": "5a9d8626ba412da5"
  },
  {
   "cell_type": "code",
   "execution_count": 304,
   "outputs": [
    {
     "data": {
      "text/plain": "<Figure size 400x400 with 1 Axes>",
      "image/png": "[encoded data removed]"
     },
     "metadata": {},
     "output_type": "display_data"
    }
   ],
   "source": [
    "_, _, _, _, cm = evaluate_classification_model(clf, X_test, y_test, False)\n",
    "\n",
    "plt.figure(figsize=(4, 4))\n",
    "sns.heatmap(cm, annot=True, cmap='Blues', fmt='d', cbar=False)\n",
    "plt.title('Training Set Confusion Matrix')\n",
    "plt.xlabel('Predicted')\n",
    "plt.ylabel('Actual')\n",
    "plt.show()"
   ],
   "metadata": {
    "collapsed": false,
    "ExecuteTime": {
     "end_time": "2024-08-24T17:02:46.653179800Z",
     "start_time": "2024-08-24T17:02:46.563183100Z"
    }
   },
   "id": "f8bdbe7c195adec7"
  },
  {
   "cell_type": "code",
   "execution_count": 330,
   "outputs": [
    {
     "name": "stderr",
     "output_type": "stream",
     "text": [
      "/home/debashis/works/other-people/SHARPs/env/lib/python3.10/site-packages/pandas/core/arraylike.py:399: RuntimeWarning: invalid value encountered in log\n",
      "  result = getattr(ufunc, method)(*inputs, **kwargs)\n",
      "/home/debashis/works/other-people/SHARPs/env/lib/python3.10/site-packages/pandas/core/arraylike.py:399: RuntimeWarning: divide by zero encountered in log\n",
      "  result = getattr(ufunc, method)(*inputs, **kwargs)\n"
     ]
    },
    {
     "data": {
      "text/plain": "(15153, 33)"
     },
     "execution_count": 330,
     "metadata": {},
     "output_type": "execute_result"
    }
   ],
   "source": [
    "df_for_ml = df_merged[[\n",
    "  'MEANGAM', # inclination angle, gamma\n",
    "  'MEANGBZ', 'MEANGBH', 'MEANGBT',  # field gradient\n",
    "  'TOTPOT', 'MEANPOT',  # photospheric magnetic energy density\n",
    "  'MEANJZD',  # vertical current density\n",
    "  'ABSNJZH', 'MEANJZH', # current helicity\n",
    "  'TOTUSJH',  # unsigned current helicity\n",
    "  \n",
    "  # TODO: need to fix this\n",
    "  # 'ERRTAI',   # Absolute value of the net current helicity\n",
    "  # 'ERRTUI', # Total unsigned current helicity\n",
    "  # 'ERRMIH', # Mean current helicity\n",
    "  'MEANALP',  # twist parameter\n",
    "  'MEANSHR',  # shear angle for B_total\n",
    "  'TOTUSJZ',  # unsigned vertical current\n",
    "  \n",
    "  'SAVNCPP',  # Net Currents Per Polarity\n",
    "  'SHRGT45',  # shear angle greater than 45 as a percent of total area\n",
    "  'R_VALUE',  # Unsigned Flux R (Schrijver, 2007)\n",
    "  'OMEGA_DT', # Rotation rate over disk transit\n",
    "  # 'NPIX',     # Number of pixels within the patch\n",
    "  'SIZE',     # image in micro-hemisphere\n",
    "  'AREA',     # De-projected area of patch on sphere in micro-hemisphere\n",
    "  # 'NACR',     #  Number of active pixels in patch\n",
    "  'AREA_ACR', #'SIZE_ACR' , # active pixels on image in micro-hemisphere\n",
    "  'MTOT', 'MNET', 'MPOS_TOT', 'MNEG_TOT', 'MMEAN', 'MSTDEV', 'MSKEW', 'MKURT',  # LoS flux\n",
    "  \n",
    "  # Stonyhurst latitude\n",
    "  'LAT_FWT', 'LON_FWT', #'LAT_FWTPOS', 'LON_FWTPOS', 'LAT_FWTNEG', 'LON_FWTNEG',\n",
    "  # 'INVBLAVE', 'MEANGBL', # line-of-sight field gradient\n",
    "  # 'INVBBAVE', # field strength over processed pixels\n",
    "\n",
    "  # Number of pixels that contributed to the calculation of MEANGBL and USFLUXL\n",
    "  # 'INVNPRCS', 'CMASKL',\n",
    "\n",
    "  # 'INVNCNVG', # Numer of pixels at which ME VFISV converged\n",
    "  # 'AMBGMTRY', # Flag determining whether to use planar or spherical geometry\n",
    "  # 'AMBPATCH', 'AMBWEAK',  # flag for disambiguation\n",
    "  # 'DOFFSET' # Constant value added to the noise mask for disambiguation.\n",
    "  # 'AMBNGROW', # Number of pixels by which to grow eroded map\n",
    "  # 'AMBNPAD',  # Padding to use in potential field calculation\n",
    "  # 'AMBNTX', 'AMBNTY', # Number of tiles for potential field calculation\n",
    "  \n",
    "  # 'AMBSEED',  # Input random number seed\n",
    "  # 'AMBTFCTR', # Input factor to reduce temperature\n",
    "  # 'CMASK',  # Number of pixels that contributed to the spaceweather calculation\n",
    "  'X-ray Binary', 'X-ray Distinct', 'X-ray Grouped']].dropna()\n",
    "\n",
    "\n",
    "df_for_ml['TOTUSJZ'] = np.log(df_for_ml['TOTUSJZ'])\n",
    "df_for_ml['MTOT'] = np.log(df_for_ml['MTOT'])\n",
    "df_for_ml['MPOS_TOT'] = np.log(df_for_ml['MPOS_TOT'])\n",
    "df_for_ml['MNEG_TOT'] = np.log(df_for_ml['MNEG_TOT'])\n",
    "df_for_ml['MNET'] = np.log(df_for_ml['MNET'])\n",
    "df_for_ml['TOTPOT'] = np.log(df_for_ml['TOTPOT'])\n",
    "df_for_ml['SAVNCPP'] = np.log(df_for_ml['SAVNCPP'])\n",
    "\n",
    "\n",
    "# df_for_ml = df_for_ml.dropna()\n",
    "\n",
    "df_for_ml = df_for_ml.replace([np.inf, -np.inf], np.nan).dropna()\n",
    "df_for_ml.shape"
   ],
   "metadata": {
    "collapsed": false,
    "ExecuteTime": {
     "end_time": "2024-08-23T02:12:22.653016300Z",
     "start_time": "2024-08-23T02:12:22.578889300Z"
    }
   },
   "id": "d250e052264e577a"
  },
  {
   "cell_type": "code",
   "execution_count": 322,
   "outputs": [
    {
     "data": {
      "text/plain": "       MEANGAM  MEANGBZ  MEANGBH        TOTPOT   MEANJZD  ABSNJZH  TOTUSJH  \\\n0       23.844   75.671   30.892  1.874664e+22 -0.129899   17.197  298.638   \n1       23.844   75.671   30.892  1.874664e+22 -0.129899   17.197  298.638   \n4       29.506  117.547   46.249  2.313961e+22  0.125124    5.913  322.632   \n13      34.426  152.501   62.038  2.859746e+21  0.864686   14.400   71.477   \n15      23.015   71.843   26.375  2.081197e+22  0.042337   21.990  338.201   \n...        ...      ...      ...           ...       ...      ...      ...   \n32922   34.609   80.256   35.222  1.452887e+23  0.182207   19.775  846.163   \n32923   34.609   80.256   35.222  1.452887e+23  0.182207   19.775  846.163   \n32924   34.609   80.256   35.222  1.452887e+23  0.182207   19.775  846.163   \n32928   29.843  130.853   49.949  5.657186e+21  0.767667    7.799   99.594   \n32932   26.261  101.988   32.835  5.365628e+21  0.042387    2.986   82.190   \n\n        MEANALP  MEANSHR    TOTUSJZ  ...   MNEG_TOT      MMEAN      MSTDEV  \\\n0     -0.006016   17.808  29.402716  ...  12.110207  28.963026   96.135506   \n1     -0.006016   17.808  29.402716  ...  12.110207  28.963026   96.135506   \n4     -0.004773   24.692  29.592852  ...  14.104051   6.808321  115.512276   \n13    -0.047383   24.329  27.993103  ...  12.946764   5.278372  115.099701   \n15     0.004576   18.031  29.665992  ...  13.139675   2.480918   98.797569   \n...         ...      ...        ...  ...        ...        ...         ...   \n32922  0.001256   26.916  30.364575  ...  12.733441  42.910580  136.932831   \n32923  0.001256   26.916  30.364575  ...  12.733441  42.910580  136.932831   \n32924  0.001256   26.916  30.364575  ...  12.733441  42.910580  136.932831   \n32928  0.007271   23.647  28.384971  ...  13.384993   0.153213  108.692841   \n32932  0.001145   22.138  28.261436  ...  12.662624   6.002023   94.453415   \n\n          MSKEW      MKURT    LAT_FWT    LON_FWT  X-ray Binary  \\\n0      0.989668   5.176516  24.177683 -65.205566             0   \n1      0.989668   5.176516  24.177683 -65.205566             0   \n4     -0.159619  15.803296  23.811779 -25.096449             0   \n13    -0.360438  19.413486 -26.296352   8.540434             0   \n15    -0.133825   3.621419 -19.253683 -64.808563             0   \n...         ...        ...        ...        ...           ...   \n32922  0.722446   3.536355   6.642423  75.659233             0   \n32923  0.722446   3.536355   6.642423  75.659233             0   \n32924  0.722446   3.536355   6.642423  75.659233             0   \n32928 -0.851413  14.766701  -4.856016  31.698223             0   \n32932  1.297938  11.689512  -4.595103  44.347767             0   \n\n       X-ray Distinct  X-ray Grouped  \n0                   2              1  \n1                   2              1  \n4                   0              0  \n13                  2              1  \n15                  0              0  \n...               ...            ...  \n32922               3              1  \n32923               3              1  \n32924               3              1  \n32928               0              0  \n32932               0              0  \n\n[15886 rows x 30 columns]",
      "text/html": "<div>\n<style scoped>\n    .dataframe tbody tr th:only-of-type {\n        vertical-align: middle;\n    }\n\n    .dataframe tbody tr th {\n        vertical-align: top;\n    }\n\n    .dataframe thead th {\n        text-align: right;\n    }\n</style>\n<table border=\"1\" class=\"dataframe\">\n  <thead>\n    <tr style=\"text-align: right;\">\n      <th></th>\n      <th>MEANGAM</th>\n      <th>MEANGBZ</th>\n      <th>MEANGBH</th>\n      <th>TOTPOT</th>\n      <th>MEANJZD</th>\n      <th>ABSNJZH</th>\n      <th>TOTUSJH</th>\n      <th>MEANALP</th>\n      <th>MEANSHR</th>\n      <th>TOTUSJZ</th>\n      <th>...</th>\n      <th>MNEG_TOT</th>\n      <th>MMEAN</th>\n      <th>MSTDEV</th>\n      <th>MSKEW</th>\n      <th>MKURT</th>\n      <th>LAT_FWT</th>\n      <th>LON_FWT</th>\n      <th>X-ray Binary</th>\n      <th>X-ray Distinct</th>\n      <th>X-ray Grouped</th>\n    </tr>\n  </thead>\n  <tbody>\n    <tr>\n      <th>0</th>\n      <td>23.844</td>\n      <td>75.671</td>\n      <td>30.892</td>\n      <td>1.874664e+22</td>\n      <td>-0.129899</td>\n      <td>17.197</td>\n      <td>298.638</td>\n      <td>-0.006016</td>\n      <td>17.808</td>\n      <td>29.402716</td>\n      <td>...</td>\n      <td>12.110207</td>\n      <td>28.963026</td>\n      <td>96.135506</td>\n      <td>0.989668</td>\n      <td>5.176516</td>\n      <td>24.177683</td>\n      <td>-65.205566</td>\n      <td>0</td>\n      <td>2</td>\n      <td>1</td>\n    </tr>\n    <tr>\n      <th>1</th>\n      <td>23.844</td>\n      <td>75.671</td>\n      <td>30.892</td>\n      <td>1.874664e+22</td>\n      <td>-0.129899</td>\n      <td>17.197</td>\n      <td>298.638</td>\n      <td>-0.006016</td>\n      <td>17.808</td>\n      <td>29.402716</td>\n      <td>...</td>\n      <td>12.110207</td>\n      <td>28.963026</td>\n      <td>96.135506</td>\n      <td>0.989668</td>\n      <td>5.176516</td>\n      <td>24.177683</td>\n      <td>-65.205566</td>\n      <td>0</td>\n      <td>2</td>\n      <td>1</td>\n    </tr>\n    <tr>\n      <th>4</th>\n      <td>29.506</td>\n      <td>117.547</td>\n      <td>46.249</td>\n      <td>2.313961e+22</td>\n      <td>0.125124</td>\n      <td>5.913</td>\n      <td>322.632</td>\n      <td>-0.004773</td>\n      <td>24.692</td>\n      <td>29.592852</td>\n      <td>...</td>\n      <td>14.104051</td>\n      <td>6.808321</td>\n      <td>115.512276</td>\n      <td>-0.159619</td>\n      <td>15.803296</td>\n      <td>23.811779</td>\n      <td>-25.096449</td>\n      <td>0</td>\n      <td>0</td>\n      <td>0</td>\n    </tr>\n    <tr>\n      <th>13</th>\n      <td>34.426</td>\n      <td>152.501</td>\n      <td>62.038</td>\n      <td>2.859746e+21</td>\n      <td>0.864686</td>\n      <td>14.400</td>\n      <td>71.477</td>\n      <td>-0.047383</td>\n      <td>24.329</td>\n      <td>27.993103</td>\n      <td>...</td>\n      <td>12.946764</td>\n      <td>5.278372</td>\n      <td>115.099701</td>\n      <td>-0.360438</td>\n      <td>19.413486</td>\n      <td>-26.296352</td>\n      <td>8.540434</td>\n      <td>0</td>\n      <td>2</td>\n      <td>1</td>\n    </tr>\n    <tr>\n      <th>15</th>\n      <td>23.015</td>\n      <td>71.843</td>\n      <td>26.375</td>\n      <td>2.081197e+22</td>\n      <td>0.042337</td>\n      <td>21.990</td>\n      <td>338.201</td>\n      <td>0.004576</td>\n      <td>18.031</td>\n      <td>29.665992</td>\n      <td>...</td>\n      <td>13.139675</td>\n      <td>2.480918</td>\n      <td>98.797569</td>\n      <td>-0.133825</td>\n      <td>3.621419</td>\n      <td>-19.253683</td>\n      <td>-64.808563</td>\n      <td>0</td>\n      <td>0</td>\n      <td>0</td>\n    </tr>\n    <tr>\n      <th>...</th>\n      <td>...</td>\n      <td>...</td>\n      <td>...</td>\n      <td>...</td>\n      <td>...</td>\n      <td>...</td>\n      <td>...</td>\n      <td>...</td>\n      <td>...</td>\n      <td>...</td>\n      <td>...</td>\n      <td>...</td>\n      <td>...</td>\n      <td>...</td>\n      <td>...</td>\n      <td>...</td>\n      <td>...</td>\n      <td>...</td>\n      <td>...</td>\n      <td>...</td>\n      <td>...</td>\n    </tr>\n    <tr>\n      <th>32922</th>\n      <td>34.609</td>\n      <td>80.256</td>\n      <td>35.222</td>\n      <td>1.452887e+23</td>\n      <td>0.182207</td>\n      <td>19.775</td>\n      <td>846.163</td>\n      <td>0.001256</td>\n      <td>26.916</td>\n      <td>30.364575</td>\n      <td>...</td>\n      <td>12.733441</td>\n      <td>42.910580</td>\n      <td>136.932831</td>\n      <td>0.722446</td>\n      <td>3.536355</td>\n      <td>6.642423</td>\n      <td>75.659233</td>\n      <td>0</td>\n      <td>3</td>\n      <td>1</td>\n    </tr>\n    <tr>\n      <th>32923</th>\n      <td>34.609</td>\n      <td>80.256</td>\n      <td>35.222</td>\n      <td>1.452887e+23</td>\n      <td>0.182207</td>\n      <td>19.775</td>\n      <td>846.163</td>\n      <td>0.001256</td>\n      <td>26.916</td>\n      <td>30.364575</td>\n      <td>...</td>\n      <td>12.733441</td>\n      <td>42.910580</td>\n      <td>136.932831</td>\n      <td>0.722446</td>\n      <td>3.536355</td>\n      <td>6.642423</td>\n      <td>75.659233</td>\n      <td>0</td>\n      <td>3</td>\n      <td>1</td>\n    </tr>\n    <tr>\n      <th>32924</th>\n      <td>34.609</td>\n      <td>80.256</td>\n      <td>35.222</td>\n      <td>1.452887e+23</td>\n      <td>0.182207</td>\n      <td>19.775</td>\n      <td>846.163</td>\n      <td>0.001256</td>\n      <td>26.916</td>\n      <td>30.364575</td>\n      <td>...</td>\n      <td>12.733441</td>\n      <td>42.910580</td>\n      <td>136.932831</td>\n      <td>0.722446</td>\n      <td>3.536355</td>\n      <td>6.642423</td>\n      <td>75.659233</td>\n      <td>0</td>\n      <td>3</td>\n      <td>1</td>\n    </tr>\n    <tr>\n      <th>32928</th>\n      <td>29.843</td>\n      <td>130.853</td>\n      <td>49.949</td>\n      <td>5.657186e+21</td>\n      <td>0.767667</td>\n      <td>7.799</td>\n      <td>99.594</td>\n      <td>0.007271</td>\n      <td>23.647</td>\n      <td>28.384971</td>\n      <td>...</td>\n      <td>13.384993</td>\n      <td>0.153213</td>\n      <td>108.692841</td>\n      <td>-0.851413</td>\n      <td>14.766701</td>\n      <td>-4.856016</td>\n      <td>31.698223</td>\n      <td>0</td>\n      <td>0</td>\n      <td>0</td>\n    </tr>\n    <tr>\n      <th>32932</th>\n      <td>26.261</td>\n      <td>101.988</td>\n      <td>32.835</td>\n      <td>5.365628e+21</td>\n      <td>0.042387</td>\n      <td>2.986</td>\n      <td>82.190</td>\n      <td>0.001145</td>\n      <td>22.138</td>\n      <td>28.261436</td>\n      <td>...</td>\n      <td>12.662624</td>\n      <td>6.002023</td>\n      <td>94.453415</td>\n      <td>1.297938</td>\n      <td>11.689512</td>\n      <td>-4.595103</td>\n      <td>44.347767</td>\n      <td>0</td>\n      <td>0</td>\n      <td>0</td>\n    </tr>\n  </tbody>\n</table>\n<p>15886 rows × 30 columns</p>\n</div>"
     },
     "execution_count": 322,
     "metadata": {},
     "output_type": "execute_result"
    }
   ],
   "source": [
    "df_for_ml"
   ],
   "metadata": {
    "collapsed": false,
    "ExecuteTime": {
     "end_time": "2024-08-23T02:06:27.762802500Z",
     "start_time": "2024-08-23T02:06:27.745318800Z"
    }
   },
   "id": "2c5571bd63b3eee9"
  },
  {
   "cell_type": "code",
   "execution_count": 302,
   "outputs": [
    {
     "name": "stdout",
     "output_type": "stream",
     "text": [
      "Accuracy:97.45, Precision: 0.0, Recall: 0.0, F1: 0.0\n",
      "Accuracy:96.66, Precision: 15.79, Recall: 10.17, F1: 10.17\n",
      "Accuracy:96.88, Precision: 24.32, Recall: 15.38, F1: 15.38\n",
      "Accuracy:97.07, Precision: 19.05, Recall: 7.92, F1: 7.92\n"
     ]
    }
   ],
   "source": [
    "X = df_for_ml.drop(['X-ray Binary', 'X-ray Distinct', 'X-ray Grouped'], axis=1)\n",
    "y = df_for_ml['X-ray Binary']\n",
    "\n",
    "X_train, X_test, y_train, y_test = train_test_split(X, y, test_size=0.2, random_state=42, stratify=y)\n",
    "\n",
    "scaler = StandardScaler()\n",
    "X_train_scaled = scaler.fit_transform(X_train)\n",
    "X_test_scaled = scaler.transform(X_test)\n",
    "\n",
    "for mk in [\"LgR\", \"DTC\", \"RFC\", \"GBC\"]:\n",
    "  model = train_model(mk, X_train_scaled, y_train)\n",
    "  print_metrics(evaluate_classification_model(model, X_test_scaled, y_test))"
   ],
   "metadata": {
    "collapsed": false,
    "ExecuteTime": {
     "end_time": "2024-08-23T00:03:54.077306400Z",
     "start_time": "2024-08-23T00:03:45.481542900Z"
    }
   },
   "id": "80fcf1a3428e44dd"
  },
  {
   "cell_type": "code",
   "execution_count": 309,
   "outputs": [
    {
     "name": "stderr",
     "output_type": "stream",
     "text": [
      "/home/debashis/works/other-people/SHARPs/env/lib/python3.10/site-packages/sklearn/linear_model/_logistic.py:469: ConvergenceWarning: lbfgs failed to converge (status=1):\n",
      "STOP: TOTAL NO. of ITERATIONS REACHED LIMIT.\n",
      "\n",
      "Increase the number of iterations (max_iter) or scale the data as shown in:\n",
      "    https://scikit-learn.org/stable/modules/preprocessing.html\n",
      "Please also refer to the documentation for alternative solver options:\n",
      "    https://scikit-learn.org/stable/modules/linear_model.html#logistic-regression\n",
      "  n_iter_i = _check_optimize_result(\n",
      "/home/debashis/works/other-people/SHARPs/env/lib/python3.10/site-packages/sklearn/metrics/_classification.py:1531: UndefinedMetricWarning: Precision is ill-defined and being set to 0.0 in labels with no predicted samples. Use `zero_division` parameter to control this behavior.\n",
      "  _warn_prf(average, modifier, f\"{metric.capitalize()} is\", len(result))\n"
     ]
    },
    {
     "name": "stdout",
     "output_type": "stream",
     "text": [
      "Accuracy:68.91, Precision: 27.72, Recall: 23.77, F1: 23.77\n"
     ]
    },
    {
     "name": "stderr",
     "output_type": "stream",
     "text": [
      "/home/debashis/works/other-people/SHARPs/env/lib/python3.10/site-packages/sklearn/metrics/_classification.py:1531: UndefinedMetricWarning: Precision is ill-defined and being set to 0.0 in labels with no predicted samples. Use `zero_division` parameter to control this behavior.\n",
      "  _warn_prf(average, modifier, f\"{metric.capitalize()} is\", len(result))\n"
     ]
    },
    {
     "name": "stdout",
     "output_type": "stream",
     "text": [
      "Accuracy:74.29, Precision: 36.2, Recall: 35.63, F1: 35.63\n"
     ]
    },
    {
     "name": "stderr",
     "output_type": "stream",
     "text": [
      "/home/debashis/works/other-people/SHARPs/env/lib/python3.10/site-packages/sklearn/metrics/_classification.py:1531: UndefinedMetricWarning: Precision is ill-defined and being set to 0.0 in labels with no predicted samples. Use `zero_division` parameter to control this behavior.\n",
      "  _warn_prf(average, modifier, f\"{metric.capitalize()} is\", len(result))\n"
     ]
    },
    {
     "name": "stdout",
     "output_type": "stream",
     "text": [
      "Accuracy:78.41, Precision: 40.11, Recall: 38.42, F1: 38.42\n",
      "Accuracy:72.31, Precision: 37.27, Recall: 30.67, F1: 30.67\n"
     ]
    },
    {
     "name": "stderr",
     "output_type": "stream",
     "text": [
      "/home/debashis/works/other-people/SHARPs/env/lib/python3.10/site-packages/sklearn/metrics/_classification.py:1531: UndefinedMetricWarning: Precision is ill-defined and being set to 0.0 in labels with no predicted samples. Use `zero_division` parameter to control this behavior.\n",
      "  _warn_prf(average, modifier, f\"{metric.capitalize()} is\", len(result))\n"
     ]
    }
   ],
   "source": [
    "X = df_for_ml.drop(['X-ray Binary', 'X-ray Distinct', 'X-ray Grouped'], axis=1)\n",
    "y = df_for_ml['X-ray Distinct']\n",
    "\n",
    "X_train, X_test, y_train, y_test = train_test_split(X, y, test_size=0.2, random_state=42, stratify=y)\n",
    "\n",
    "scaler = StandardScaler()\n",
    "X_train_scaled = scaler.fit_transform(X_train)\n",
    "X_test_scaled = scaler.transform(X_test)\n",
    "\n",
    "for mk in [\"LgR\", \"DTC\", \"RFC\", \"GBC\"]:\n",
    "  model = train_model(mk, X_train_scaled, y_train)\n",
    "  print_metrics(evaluate_classification_model(model, X_test_scaled, y_test, False))"
   ],
   "metadata": {
    "collapsed": false,
    "ExecuteTime": {
     "end_time": "2024-08-23T00:10:58.612050300Z",
     "start_time": "2024-08-23T00:10:19.508764100Z"
    }
   },
   "id": "c93a59334cd532af"
  },
  {
   "cell_type": "code",
   "execution_count": 310,
   "outputs": [
    {
     "name": "stderr",
     "output_type": "stream",
     "text": [
      "/home/debashis/works/other-people/SHARPs/env/lib/python3.10/site-packages/sklearn/linear_model/_logistic.py:469: ConvergenceWarning: lbfgs failed to converge (status=1):\n",
      "STOP: TOTAL NO. of ITERATIONS REACHED LIMIT.\n",
      "\n",
      "Increase the number of iterations (max_iter) or scale the data as shown in:\n",
      "    https://scikit-learn.org/stable/modules/preprocessing.html\n",
      "Please also refer to the documentation for alternative solver options:\n",
      "    https://scikit-learn.org/stable/modules/linear_model.html#logistic-regression\n",
      "  n_iter_i = _check_optimize_result(\n",
      "/home/debashis/works/other-people/SHARPs/env/lib/python3.10/site-packages/sklearn/metrics/_classification.py:1531: UndefinedMetricWarning: Precision is ill-defined and being set to 0.0 in labels with no predicted samples. Use `zero_division` parameter to control this behavior.\n",
      "  _warn_prf(average, modifier, f\"{metric.capitalize()} is\", len(result))\n"
     ]
    },
    {
     "name": "stdout",
     "output_type": "stream",
     "text": [
      "Accuracy:72.18, Precision: 34.79, Recall: 34.98, F1: 34.98\n"
     ]
    },
    {
     "name": "stderr",
     "output_type": "stream",
     "text": [
      "/home/debashis/works/other-people/SHARPs/env/lib/python3.10/site-packages/sklearn/metrics/_classification.py:1531: UndefinedMetricWarning: Precision is ill-defined and being set to 0.0 in labels with no predicted samples. Use `zero_division` parameter to control this behavior.\n",
      "  _warn_prf(average, modifier, f\"{metric.capitalize()} is\", len(result))\n"
     ]
    },
    {
     "name": "stdout",
     "output_type": "stream",
     "text": [
      "Accuracy:77.47, Precision: 42.01, Recall: 41.15, F1: 41.15\n"
     ]
    },
    {
     "name": "stderr",
     "output_type": "stream",
     "text": [
      "/home/debashis/works/other-people/SHARPs/env/lib/python3.10/site-packages/sklearn/metrics/_classification.py:1531: UndefinedMetricWarning: Precision is ill-defined and being set to 0.0 in labels with no predicted samples. Use `zero_division` parameter to control this behavior.\n",
      "  _warn_prf(average, modifier, f\"{metric.capitalize()} is\", len(result))\n"
     ]
    },
    {
     "name": "stdout",
     "output_type": "stream",
     "text": [
      "Accuracy:80.99, Precision: 44.76, Recall: 43.63, F1: 43.63\n",
      "Accuracy:75.42, Precision: 44.05, Recall: 39.5, F1: 39.5\n"
     ]
    },
    {
     "name": "stderr",
     "output_type": "stream",
     "text": [
      "/home/debashis/works/other-people/SHARPs/env/lib/python3.10/site-packages/sklearn/metrics/_classification.py:1531: UndefinedMetricWarning: Precision is ill-defined and being set to 0.0 in labels with no predicted samples. Use `zero_division` parameter to control this behavior.\n",
      "  _warn_prf(average, modifier, f\"{metric.capitalize()} is\", len(result))\n"
     ]
    }
   ],
   "source": [
    "X = df_for_ml.drop(['X-ray Binary', 'X-ray Distinct', 'X-ray Grouped'], axis=1)\n",
    "y = df_for_ml['X-ray Grouped']\n",
    "\n",
    "X_train, X_test, y_train, y_test = train_test_split(X, y, test_size=0.2, random_state=42, stratify=y)\n",
    "\n",
    "scaler = StandardScaler()\n",
    "X_train_scaled = scaler.fit_transform(X_train)\n",
    "X_test_scaled = scaler.transform(X_test)\n",
    "\n",
    "for mk in [\"LgR\", \"DTC\", \"RFC\", \"GBC\"]:\n",
    "  model = train_model(mk, X_train_scaled, y_train)\n",
    "  print_metrics(evaluate_classification_model(model, X_test_scaled, y_test, False))"
   ],
   "metadata": {
    "collapsed": false,
    "ExecuteTime": {
     "end_time": "2024-08-23T00:11:24.715525400Z",
     "start_time": "2024-08-23T00:10:58.613057300Z"
    }
   },
   "id": "d66c3bb74559f911"
  },
  {
   "cell_type": "code",
   "execution_count": 300,
   "outputs": [
    {
     "name": "stdout",
     "output_type": "stream",
     "text": [
      "0.9047464239271782\n",
      "              precision    recall  f1-score   support\n",
      "\n",
      "           0       0.98      0.92      0.95      2984\n",
      "           1       0.16      0.51      0.24        92\n",
      "\n",
      "    accuracy                           0.90      3076\n",
      "   macro avg       0.57      0.71      0.60      3076\n",
      "weighted avg       0.96      0.90      0.93      3076\n"
     ]
    }
   ],
   "source": [
    "clf = RandomForestClassifier(class_weight='balanced', random_state=42)\n",
    "clf.fit(X_train, y_train)\n",
    "\n",
    "y_pred = clf.predict(X_test)\n",
    "\n",
    "print(accuracy_score(y_test, y_pred))\n",
    "print(classification_report(y_test, y_pred))"
   ],
   "metadata": {
    "collapsed": false,
    "ExecuteTime": {
     "end_time": "2024-08-23T00:00:21.722864400Z",
     "start_time": "2024-08-23T00:00:19.307488400Z"
    }
   },
   "id": "13036c2414b86944"
  },
  {
   "cell_type": "code",
   "execution_count": 312,
   "outputs": [
    {
     "name": "stderr",
     "output_type": "stream",
     "text": [
      "/home/debashis/works/other-people/SHARPs/env/lib/python3.10/site-packages/sklearn/metrics/_classification.py:1531: UndefinedMetricWarning: Precision is ill-defined and being set to 0.0 in labels with no predicted samples. Use `zero_division` parameter to control this behavior.\n",
      "  _warn_prf(average, modifier, f\"{metric.capitalize()} is\", len(result))\n"
     ]
    },
    {
     "data": {
      "text/plain": "<Figure size 400x400 with 1 Axes>",
      "image/png": "[encoded data removed]"
     },
     "metadata": {},
     "output_type": "display_data"
    }
   ],
   "source": [
    "_, _, _, _, cm = evaluate_classification_model(model, X_test_scaled, y_test, False)\n",
    "\n",
    "plt.figure(figsize=(4, 4))\n",
    "sns.heatmap(cm, annot=True, cmap='Blues', cbar=False)\n",
    "plt.title('Training Set Confusion Matrix')\n",
    "plt.xlabel('Predicted')\n",
    "plt.ylabel('Actual')\n",
    "plt.show()"
   ],
   "metadata": {
    "collapsed": false,
    "ExecuteTime": {
     "end_time": "2024-08-23T01:22:42.447432100Z",
     "start_time": "2024-08-23T01:22:42.367877600Z"
    }
   },
   "id": "dcd82db60024b129"
  },
  {
   "cell_type": "code",
   "execution_count": 331,
   "outputs": [
    {
     "name": "stdout",
     "output_type": "stream",
     "text": [
      "              precision    recall  f1-score   support\n",
      "\n",
      "           0       0.98      0.92      0.95      2937\n",
      "           1       0.17      0.48      0.25        94\n",
      "\n",
      "    accuracy                           0.91      3031\n",
      "   macro avg       0.57      0.70      0.60      3031\n",
      "weighted avg       0.96      0.91      0.93      3031\n"
     ]
    }
   ],
   "source": [
    "X = df_for_ml[['ABSNJZH','AREA_ACR','MEANALP','MEANGAM','MEANGBH','MEANGBT','MEANGBZ','MEANJZD','MEANJZH','MEANPOT','MEANSHR','R_VALUE','SAVNCPP','SHRGT45','TOTPOT','TOTUSJH','TOTUSJZ']]\n",
    "y = df_for_ml['X-ray Binary']\n",
    "\n",
    "X_train, X_test, y_train, y_test = train_test_split(X, y, test_size=0.2, random_state=42, stratify=y)\n",
    "\n",
    "# scaler = StandardScaler()\n",
    "# X_train_scaled = scaler.fit_transform(X_train)\n",
    "# X_test_scaled = scaler.transform(X_test)\n",
    "\n",
    "clf = RandomForestClassifier(class_weight='balanced', random_state=42)\n",
    "clf.fit(X_train, y_train)\n",
    "\n",
    "y_pred = clf.predict(X_test)\n",
    "\n",
    "print(classification_report(y_test, y_pred))"
   ],
   "metadata": {
    "collapsed": false,
    "ExecuteTime": {
     "end_time": "2024-08-23T02:12:39.287182400Z",
     "start_time": "2024-08-23T02:12:37.445000800Z"
    }
   },
   "id": "9becd7364f145d53"
  },
  {
   "cell_type": "code",
   "execution_count": 344,
   "outputs": [],
   "source": [
    "testin_df = pd.read_csv(\"hmi.sharp_cea_720s.csv\", low_memory=False)"
   ],
   "metadata": {
    "collapsed": false,
    "ExecuteTime": {
     "end_time": "2024-08-23T02:22:47.320574800Z",
     "start_time": "2024-08-23T02:22:46.142175600Z"
    }
   },
   "id": "b6a3d06707e92297"
  },
  {
   "cell_type": "code",
   "execution_count": 352,
   "outputs": [
    {
     "data": {
      "text/plain": "                         T_REC   TOTUSJH       TOTUSJZ        TOTPOT  \\\n12     2010.05.03_00:00:00_TAI    57.896  1.234904e+12  5.938522e+21   \n22     2010.05.05_00:00:00_TAI   722.848  1.223547e+13  9.194835e+22   \n27     2010.05.06_00:00:00_TAI   789.497  1.362523e+13  1.262362e+23   \n64     2010.05.22_00:00:00_TAI   388.111  8.017016e+12  9.220335e+22   \n68     2010.05.23_00:00:00_TAI   585.784  1.273046e+13  1.721010e+23   \n...                        ...       ...           ...           ...   \n32637  2023.12.29_00:00:00_TAI   850.454  1.788813e+13  3.131833e+23   \n32638  2023.12.29_00:00:00_TAI  1037.491  2.064462e+13  1.579310e+23   \n32653  2023.12.30_00:00:00_TAI   942.052  1.994722e+13  2.665505e+23   \n32666  2023.12.31_00:00:00_TAI   817.475  1.473819e+13  2.614478e+23   \n32672  2023.12.31_00:00:00_TAI   875.632  1.775509e+13  9.899806e+22   \n\n         MEANPOT  \n12      6734.383  \n22      6415.482  \n27      6040.171  \n64      9604.082  \n68     10802.750  \n...          ...  \n32637  10517.010  \n32638   5399.809  \n32653   7294.002  \n32666   8173.154  \n32672   5070.348  \n\n[6917 rows x 5 columns]",
      "text/html": "<div>\n<style scoped>\n    .dataframe tbody tr th:only-of-type {\n        vertical-align: middle;\n    }\n\n    .dataframe tbody tr th {\n        vertical-align: top;\n    }\n\n    .dataframe thead th {\n        text-align: right;\n    }\n</style>\n<table border=\"1\" class=\"dataframe\">\n  <thead>\n    <tr style=\"text-align: right;\">\n      <th></th>\n      <th>T_REC</th>\n      <th>TOTUSJH</th>\n      <th>TOTUSJZ</th>\n      <th>TOTPOT</th>\n      <th>MEANPOT</th>\n    </tr>\n  </thead>\n  <tbody>\n    <tr>\n      <th>12</th>\n      <td>2010.05.03_00:00:00_TAI</td>\n      <td>57.896</td>\n      <td>1.234904e+12</td>\n      <td>5.938522e+21</td>\n      <td>6734.383</td>\n    </tr>\n    <tr>\n      <th>22</th>\n      <td>2010.05.05_00:00:00_TAI</td>\n      <td>722.848</td>\n      <td>1.223547e+13</td>\n      <td>9.194835e+22</td>\n      <td>6415.482</td>\n    </tr>\n    <tr>\n      <th>27</th>\n      <td>2010.05.06_00:00:00_TAI</td>\n      <td>789.497</td>\n      <td>1.362523e+13</td>\n      <td>1.262362e+23</td>\n      <td>6040.171</td>\n    </tr>\n    <tr>\n      <th>64</th>\n      <td>2010.05.22_00:00:00_TAI</td>\n      <td>388.111</td>\n      <td>8.017016e+12</td>\n      <td>9.220335e+22</td>\n      <td>9604.082</td>\n    </tr>\n    <tr>\n      <th>68</th>\n      <td>2010.05.23_00:00:00_TAI</td>\n      <td>585.784</td>\n      <td>1.273046e+13</td>\n      <td>1.721010e+23</td>\n      <td>10802.750</td>\n    </tr>\n    <tr>\n      <th>...</th>\n      <td>...</td>\n      <td>...</td>\n      <td>...</td>\n      <td>...</td>\n      <td>...</td>\n    </tr>\n    <tr>\n      <th>32637</th>\n      <td>2023.12.29_00:00:00_TAI</td>\n      <td>850.454</td>\n      <td>1.788813e+13</td>\n      <td>3.131833e+23</td>\n      <td>10517.010</td>\n    </tr>\n    <tr>\n      <th>32638</th>\n      <td>2023.12.29_00:00:00_TAI</td>\n      <td>1037.491</td>\n      <td>2.064462e+13</td>\n      <td>1.579310e+23</td>\n      <td>5399.809</td>\n    </tr>\n    <tr>\n      <th>32653</th>\n      <td>2023.12.30_00:00:00_TAI</td>\n      <td>942.052</td>\n      <td>1.994722e+13</td>\n      <td>2.665505e+23</td>\n      <td>7294.002</td>\n    </tr>\n    <tr>\n      <th>32666</th>\n      <td>2023.12.31_00:00:00_TAI</td>\n      <td>817.475</td>\n      <td>1.473819e+13</td>\n      <td>2.614478e+23</td>\n      <td>8173.154</td>\n    </tr>\n    <tr>\n      <th>32672</th>\n      <td>2023.12.31_00:00:00_TAI</td>\n      <td>875.632</td>\n      <td>1.775509e+13</td>\n      <td>9.899806e+22</td>\n      <td>5070.348</td>\n    </tr>\n  </tbody>\n</table>\n<p>6917 rows × 5 columns</p>\n</div>"
     },
     "execution_count": 352,
     "metadata": {},
     "output_type": "execute_result"
    }
   ],
   "source": [
    "# testin_df[testin_df['NOAA_AR'] == 11069][['T_REC', 'TOTUSJH', 'TOTUSJZ', 'TOTPOT', 'MEANPOT']]\n",
    "testin_df[testin_df['MEANPOT'] > 5043][['T_REC', 'TOTUSJH', 'TOTUSJZ', 'TOTPOT', 'MEANPOT']]"
   ],
   "metadata": {
    "collapsed": false,
    "ExecuteTime": {
     "end_time": "2024-08-23T02:28:38.699355400Z",
     "start_time": "2024-08-23T02:28:38.627431600Z"
    }
   },
   "id": "f4e10de611153924"
  },
  {
   "cell_type": "code",
   "execution_count": null,
   "outputs": [],
   "source": [],
   "metadata": {
    "collapsed": false
   },
   "id": "9ba22366a6508227"
  },
  {
   "cell_type": "code",
   "execution_count": null,
   "outputs": [],
   "source": [],
   "metadata": {
    "collapsed": false
   },
   "id": "c08fab871e28699f"
  },
  {
   "cell_type": "markdown",
   "source": [
    "# Checking missing data after merging"
   ],
   "metadata": {
    "collapsed": false
   },
   "id": "63542f0dea404e4b"
  },
  {
   "cell_type": "code",
   "execution_count": 194,
   "outputs": [],
   "source": [
    "_another_tmp_df = pd.read_csv(\"flares-processed-2.csv\").dropna()"
   ],
   "metadata": {
    "collapsed": false
   },
   "id": "5ffe6dcb8c0e575d"
  },
  {
   "cell_type": "code",
   "execution_count": 195,
   "outputs": [],
   "source": [
    "_another_tmp_df['Date'] = pd.to_datetime(_another_tmp_df[['Year', 'Month', 'Day']])"
   ],
   "metadata": {
    "collapsed": false
   },
   "id": "5c705f5619d9edc"
  },
  {
   "cell_type": "code",
   "execution_count": 196,
   "outputs": [],
   "source": [
    "_another_tmp_df = _another_tmp_df[_another_tmp_df['Date'] > '2010-05-01']"
   ],
   "metadata": {
    "collapsed": false
   },
   "id": "889e2c838fb55b00"
  },
  {
   "cell_type": "code",
   "execution_count": 210,
   "outputs": [],
   "source": [
    "_another_tmp_df[['Region', 'Date']].info()"
   ],
   "metadata": {
    "collapsed": false
   },
   "id": "8426f5c7e520ec14"
  },
  {
   "cell_type": "code",
   "execution_count": 223,
   "outputs": [
    {
     "name": "stderr",
     "output_type": "stream",
     "text": [
      "/tmp/ipykernel_447042/3822141721.py:2: SettingWithCopyWarning: \n",
      "A value is trying to be set on a copy of a slice from a DataFrame\n",
      "\n",
      "See the caveats in the documentation: https://pandas.pydata.org/pandas-docs/stable/user_guide/indexing.html#returning-a-view-versus-a-copy\n",
      "  _tmp_df1.rename(columns={'NOAA_ARS': 'Region', 'T_REC': 'Date'}, inplace=True)\n",
      "/tmp/ipykernel_447042/3822141721.py:3: SettingWithCopyWarning: \n",
      "A value is trying to be set on a copy of a slice from a DataFrame.\n",
      "Try using .loc[row_indexer,col_indexer] = value instead\n",
      "\n",
      "See the caveats in the documentation: https://pandas.pydata.org/pandas-docs/stable/user_guide/indexing.html#returning-a-view-versus-a-copy\n",
      "  _tmp_df1['Date'] = pd.to_datetime(_tmp_df1['Date'])\n",
      "/tmp/ipykernel_447042/3822141721.py:4: SettingWithCopyWarning: \n",
      "A value is trying to be set on a copy of a slice from a DataFrame.\n",
      "Try using .loc[row_indexer,col_indexer] = value instead\n",
      "\n",
      "See the caveats in the documentation: https://pandas.pydata.org/pandas-docs/stable/user_guide/indexing.html#returning-a-view-versus-a-copy\n",
      "  _tmp_df1['Region'] = _tmp_df1['Region'].astype(int)\n"
     ]
    }
   ],
   "source": [
    "_tmp_df1 = df[['NOAA_ARS', 'T_REC']]\n",
    "_tmp_df1.rename(columns={'NOAA_ARS': 'Region', 'T_REC': 'Date'}, inplace=True)\n",
    "_tmp_df1['Date'] = pd.to_datetime(_tmp_df1['Date'])\n",
    "_tmp_df1['Region'] = _tmp_df1['Region'].astype(int)\n",
    "_another_tmp_df['Region'] = _another_tmp_df['Region'].astype(int)\n",
    "_tmp_merged = pd.merge(_tmp_df1, _another_tmp_df[['Region', 'Date', 'Year']], on=['Region', 'Date'], how='outer', indicator=True)\n",
    "df_not_matching = _tmp_merged[_tmp_merged['_merge'] != 'both']\n",
    "df1_not_matching = df_not_matching[df_not_matching['_merge'] == 'left_only'].drop(columns=['_merge'])\n",
    "df2_not_matching = df_not_matching[df_not_matching['_merge'] == 'right_only'].drop(columns=['_merge'])"
   ],
   "metadata": {
    "collapsed": false
   },
   "id": "de1ea8f5ab621913"
  },
  {
   "cell_type": "code",
   "execution_count": 220,
   "outputs": [
    {
     "data": {
      "text/plain": "(19831, 1416)"
     },
     "execution_count": 220,
     "metadata": {},
     "output_type": "execute_result"
    }
   ],
   "source": [
    "df1_not_matching.shape[0], df2_not_matching.shape[0]"
   ],
   "metadata": {
    "collapsed": false,
    "ExecuteTime": {
     "end_time": "2024-08-22T18:45:09.943370200Z",
     "start_time": "2024-08-22T18:45:09.915370100Z"
    }
   },
   "id": "800a94f6092219ae"
  },
  {
   "cell_type": "code",
   "execution_count": 221,
   "outputs": [
    {
     "data": {
      "text/plain": "      NOAA_ARS       T_REC\n16273    12804  2021-02-23\n16276    12804  2021-02-24\n16279    12804  2021-02-25\n16282    12804  2021-02-26\n16285    12804  2021-02-27\n16288    12804  2021-02-28\n16290    12804  2021-03-01",
      "text/html": "<div>\n<style scoped>\n    .dataframe tbody tr th:only-of-type {\n        vertical-align: middle;\n    }\n\n    .dataframe tbody tr th {\n        vertical-align: top;\n    }\n\n    .dataframe thead th {\n        text-align: right;\n    }\n</style>\n<table border=\"1\" class=\"dataframe\">\n  <thead>\n    <tr style=\"text-align: right;\">\n      <th></th>\n      <th>NOAA_ARS</th>\n      <th>T_REC</th>\n    </tr>\n  </thead>\n  <tbody>\n    <tr>\n      <th>16273</th>\n      <td>12804</td>\n      <td>2021-02-23</td>\n    </tr>\n    <tr>\n      <th>16276</th>\n      <td>12804</td>\n      <td>2021-02-24</td>\n    </tr>\n    <tr>\n      <th>16279</th>\n      <td>12804</td>\n      <td>2021-02-25</td>\n    </tr>\n    <tr>\n      <th>16282</th>\n      <td>12804</td>\n      <td>2021-02-26</td>\n    </tr>\n    <tr>\n      <th>16285</th>\n      <td>12804</td>\n      <td>2021-02-27</td>\n    </tr>\n    <tr>\n      <th>16288</th>\n      <td>12804</td>\n      <td>2021-02-28</td>\n    </tr>\n    <tr>\n      <th>16290</th>\n      <td>12804</td>\n      <td>2021-03-01</td>\n    </tr>\n  </tbody>\n</table>\n</div>"
     },
     "execution_count": 221,
     "metadata": {},
     "output_type": "execute_result"
    }
   ],
   "source": [
    "df[df['NOAA_ARS'] == '12804'][['NOAA_ARS', 'T_REC']]"
   ],
   "metadata": {
    "collapsed": false,
    "ExecuteTime": {
     "end_time": "2024-08-22T18:45:36.906184300Z",
     "start_time": "2024-08-22T18:45:36.843262400Z"
    }
   },
   "id": "4f250f587931c51c"
  },
  {
   "cell_type": "code",
   "execution_count": 226,
   "outputs": [
    {
     "data": {
      "text/plain": "       Region       Date\n66148   12804 2021-02-22\n66149   12804 2021-02-22\n66150   12804 2021-02-22\n66151   12804 2021-02-23\n66154   12804 2021-02-23\n66155   12804 2021-02-23\n66156   12804 2021-02-23\n66158   12804 2021-02-23\n66159   12804 2021-02-23\n66160   12804 2021-02-24\n66161   12804 2021-02-24\n66162   12804 2021-02-24\n66163   12804 2021-02-24\n66164   12804 2021-02-24\n66165   12804 2021-02-24\n66166   12804 2021-02-25\n66167   12804 2021-02-25\n66168   12804 2021-02-25\n66169   12804 2021-02-25\n66170   12804 2021-02-25\n66172   12804 2021-02-25\n66173   12804 2021-02-25\n66174   12804 2021-02-25\n66175   12804 2021-02-25\n66176   12804 2021-02-25\n66177   12804 2021-02-25\n66178   12804 2021-02-26\n66179   12804 2021-02-26\n66180   12804 2021-02-26\n66182   12804 2021-02-26\n66189   12804 2021-02-27\n66191   12804 2021-02-28\n66192   12804 2021-02-28\n66193   12804 2021-02-28\n66197   12804 2021-03-01\n66198   12804 2021-03-01\n66199   12804 2021-03-01",
      "text/html": "<div>\n<style scoped>\n    .dataframe tbody tr th:only-of-type {\n        vertical-align: middle;\n    }\n\n    .dataframe tbody tr th {\n        vertical-align: top;\n    }\n\n    .dataframe thead th {\n        text-align: right;\n    }\n</style>\n<table border=\"1\" class=\"dataframe\">\n  <thead>\n    <tr style=\"text-align: right;\">\n      <th></th>\n      <th>Region</th>\n      <th>Date</th>\n    </tr>\n  </thead>\n  <tbody>\n    <tr>\n      <th>66148</th>\n      <td>12804</td>\n      <td>2021-02-22</td>\n    </tr>\n    <tr>\n      <th>66149</th>\n      <td>12804</td>\n      <td>2021-02-22</td>\n    </tr>\n    <tr>\n      <th>66150</th>\n      <td>12804</td>\n      <td>2021-02-22</td>\n    </tr>\n    <tr>\n      <th>66151</th>\n      <td>12804</td>\n      <td>2021-02-23</td>\n    </tr>\n    <tr>\n      <th>66154</th>\n      <td>12804</td>\n      <td>2021-02-23</td>\n    </tr>\n    <tr>\n      <th>66155</th>\n      <td>12804</td>\n      <td>2021-02-23</td>\n    </tr>\n    <tr>\n      <th>66156</th>\n      <td>12804</td>\n      <td>2021-02-23</td>\n    </tr>\n    <tr>\n      <th>66158</th>\n      <td>12804</td>\n      <td>2021-02-23</td>\n    </tr>\n    <tr>\n      <th>66159</th>\n      <td>12804</td>\n      <td>2021-02-23</td>\n    </tr>\n    <tr>\n      <th>66160</th>\n      <td>12804</td>\n      <td>2021-02-24</td>\n    </tr>\n    <tr>\n      <th>66161</th>\n      <td>12804</td>\n      <td>2021-02-24</td>\n    </tr>\n    <tr>\n      <th>66162</th>\n      <td>12804</td>\n      <td>2021-02-24</td>\n    </tr>\n    <tr>\n      <th>66163</th>\n      <td>12804</td>\n      <td>2021-02-24</td>\n    </tr>\n    <tr>\n      <th>66164</th>\n      <td>12804</td>\n      <td>2021-02-24</td>\n    </tr>\n    <tr>\n      <th>66165</th>\n      <td>12804</td>\n      <td>2021-02-24</td>\n    </tr>\n    <tr>\n      <th>66166</th>\n      <td>12804</td>\n      <td>2021-02-25</td>\n    </tr>\n    <tr>\n      <th>66167</th>\n      <td>12804</td>\n      <td>2021-02-25</td>\n    </tr>\n    <tr>\n      <th>66168</th>\n      <td>12804</td>\n      <td>2021-02-25</td>\n    </tr>\n    <tr>\n      <th>66169</th>\n      <td>12804</td>\n      <td>2021-02-25</td>\n    </tr>\n    <tr>\n      <th>66170</th>\n      <td>12804</td>\n      <td>2021-02-25</td>\n    </tr>\n    <tr>\n      <th>66172</th>\n      <td>12804</td>\n      <td>2021-02-25</td>\n    </tr>\n    <tr>\n      <th>66173</th>\n      <td>12804</td>\n      <td>2021-02-25</td>\n    </tr>\n    <tr>\n      <th>66174</th>\n      <td>12804</td>\n      <td>2021-02-25</td>\n    </tr>\n    <tr>\n      <th>66175</th>\n      <td>12804</td>\n      <td>2021-02-25</td>\n    </tr>\n    <tr>\n      <th>66176</th>\n      <td>12804</td>\n      <td>2021-02-25</td>\n    </tr>\n    <tr>\n      <th>66177</th>\n      <td>12804</td>\n      <td>2021-02-25</td>\n    </tr>\n    <tr>\n      <th>66178</th>\n      <td>12804</td>\n      <td>2021-02-26</td>\n    </tr>\n    <tr>\n      <th>66179</th>\n      <td>12804</td>\n      <td>2021-02-26</td>\n    </tr>\n    <tr>\n      <th>66180</th>\n      <td>12804</td>\n      <td>2021-02-26</td>\n    </tr>\n    <tr>\n      <th>66182</th>\n      <td>12804</td>\n      <td>2021-02-26</td>\n    </tr>\n    <tr>\n      <th>66189</th>\n      <td>12804</td>\n      <td>2021-02-27</td>\n    </tr>\n    <tr>\n      <th>66191</th>\n      <td>12804</td>\n      <td>2021-02-28</td>\n    </tr>\n    <tr>\n      <th>66192</th>\n      <td>12804</td>\n      <td>2021-02-28</td>\n    </tr>\n    <tr>\n      <th>66193</th>\n      <td>12804</td>\n      <td>2021-02-28</td>\n    </tr>\n    <tr>\n      <th>66197</th>\n      <td>12804</td>\n      <td>2021-03-01</td>\n    </tr>\n    <tr>\n      <th>66198</th>\n      <td>12804</td>\n      <td>2021-03-01</td>\n    </tr>\n    <tr>\n      <th>66199</th>\n      <td>12804</td>\n      <td>2021-03-01</td>\n    </tr>\n  </tbody>\n</table>\n</div>"
     },
     "execution_count": 226,
     "metadata": {},
     "output_type": "execute_result"
    }
   ],
   "source": [
    "_another_tmp_df[_another_tmp_df['Region'] == 12804][['Region', 'Date']]"
   ],
   "metadata": {
    "collapsed": false,
    "ExecuteTime": {
     "end_time": "2024-08-22T18:47:36.844079800Z",
     "start_time": "2024-08-22T18:47:36.794074300Z"
    }
   },
   "id": "69ba07b4ed5ff9e3"
  },
  {
   "cell_type": "code",
   "execution_count": 231,
   "outputs": [
    {
     "data": {
      "text/plain": "(14519, 4)"
     },
     "execution_count": 231,
     "metadata": {},
     "output_type": "execute_result"
    }
   ],
   "source": [
    "_tmp_merged.dropna().shape"
   ],
   "metadata": {
    "collapsed": false,
    "ExecuteTime": {
     "end_time": "2024-08-22T18:49:17.450400400Z",
     "start_time": "2024-08-22T18:49:17.445674800Z"
    }
   },
   "id": "5fa848216fb52bc3"
  },
  {
   "cell_type": "code",
   "execution_count": 230,
   "outputs": [
    {
     "data": {
      "text/plain": "(24701, 63)"
     },
     "execution_count": 230,
     "metadata": {},
     "output_type": "execute_result"
    }
   ],
   "source": [
    "df.shape"
   ],
   "metadata": {
    "collapsed": false,
    "ExecuteTime": {
     "end_time": "2024-08-22T18:49:01.802357800Z",
     "start_time": "2024-08-22T18:49:01.795047400Z"
    }
   },
   "id": "d339549e6e933225"
  },
  {
   "cell_type": "code",
   "execution_count": 229,
   "outputs": [
    {
     "data": {
      "text/plain": "96"
     },
     "execution_count": 229,
     "metadata": {},
     "output_type": "execute_result"
    }
   ],
   "source": [
    "len(set(df2_not_matching['Region'].unique()) - set(df1_not_matching['Region'].unique()))"
   ],
   "metadata": {
    "collapsed": false,
    "ExecuteTime": {
     "end_time": "2024-08-22T18:48:47.762060100Z",
     "start_time": "2024-08-22T18:48:47.759062200Z"
    }
   },
   "id": "e14986225fba3a11"
  }
 ],
 "metadata": {
  "kernelspec": {
   "display_name": "Python 3",
   "language": "python",
   "name": "python3"
  },
  "language_info": {
   "codemirror_mode": {
    "name": "ipython",
    "version": 2
   },
   "file_extension": ".py",
   "mimetype": "text/x-python",
   "name": "python",
   "nbconvert_exporter": "python",
   "pygments_lexer": "ipython2",
   "version": "2.7.6"
  }
 },
 "nbformat": 4,
 "nbformat_minor": 5
}
