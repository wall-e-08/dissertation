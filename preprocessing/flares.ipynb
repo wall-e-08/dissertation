{
 "cells": [
  {
   "cell_type": "code",
   "execution_count": 1,
   "id": "initial_id",
   "metadata": {
    "collapsed": true,
    "ExecuteTime": {
     "end_time": "2024-07-31T03:05:01.878740Z",
     "start_time": "2024-07-31T03:05:01.364734100Z"
    }
   },
   "outputs": [],
   "source": [
    "import pandas as pd\n",
    "import numpy as np\n",
    "\n",
    "from utils.data import get_unique_types_of_col, get_null_counts, get_all_unique_types"
   ]
  },
  {
   "cell_type": "code",
   "execution_count": 2,
   "outputs": [
    {
     "data": {
      "text/plain": "             Date Region   Flux  Start Maximum    End\n0      1996-07-31      -  B1.71  01:32   01:36  01:38\n1      1996-07-31      -   B1.7  02:22   02:25  02:27\n2      1996-07-31      -   B1.6  07:00   07:03  07:05\n3      1996-07-31   7981   B2.7  08:29   08:35  08:40\n4      1996-07-31      -  B1.96  11:14   11:17  11:24\n...           ...    ...    ...    ...     ...    ...\n48859  2024-06-30  13731     C2  04:28   04:34  04:39\n48860  2024-06-30  13734   C3.8  05:48   06:18  06:39\n48861  2024-06-30  13727   C2.8  20:56   21:03  21:10\n48862  2024-06-30  13729   C2.3  22:19   22:28  22:37\n48863  2024-06-30  13729   C2.2  23:29   23:39  23:55\n\n[48864 rows x 6 columns]",
      "text/html": "<div>\n<style scoped>\n    .dataframe tbody tr th:only-of-type {\n        vertical-align: middle;\n    }\n\n    .dataframe tbody tr th {\n        vertical-align: top;\n    }\n\n    .dataframe thead th {\n        text-align: right;\n    }\n</style>\n<table border=\"1\" class=\"dataframe\">\n  <thead>\n    <tr style=\"text-align: right;\">\n      <th></th>\n      <th>Date</th>\n      <th>Region</th>\n      <th>Flux</th>\n      <th>Start</th>\n      <th>Maximum</th>\n      <th>End</th>\n    </tr>\n  </thead>\n  <tbody>\n    <tr>\n      <th>0</th>\n      <td>1996-07-31</td>\n      <td>-</td>\n      <td>B1.71</td>\n      <td>01:32</td>\n      <td>01:36</td>\n      <td>01:38</td>\n    </tr>\n    <tr>\n      <th>1</th>\n      <td>1996-07-31</td>\n      <td>-</td>\n      <td>B1.7</td>\n      <td>02:22</td>\n      <td>02:25</td>\n      <td>02:27</td>\n    </tr>\n    <tr>\n      <th>2</th>\n      <td>1996-07-31</td>\n      <td>-</td>\n      <td>B1.6</td>\n      <td>07:00</td>\n      <td>07:03</td>\n      <td>07:05</td>\n    </tr>\n    <tr>\n      <th>3</th>\n      <td>1996-07-31</td>\n      <td>7981</td>\n      <td>B2.7</td>\n      <td>08:29</td>\n      <td>08:35</td>\n      <td>08:40</td>\n    </tr>\n    <tr>\n      <th>4</th>\n      <td>1996-07-31</td>\n      <td>-</td>\n      <td>B1.96</td>\n      <td>11:14</td>\n      <td>11:17</td>\n      <td>11:24</td>\n    </tr>\n    <tr>\n      <th>...</th>\n      <td>...</td>\n      <td>...</td>\n      <td>...</td>\n      <td>...</td>\n      <td>...</td>\n      <td>...</td>\n    </tr>\n    <tr>\n      <th>48859</th>\n      <td>2024-06-30</td>\n      <td>13731</td>\n      <td>C2</td>\n      <td>04:28</td>\n      <td>04:34</td>\n      <td>04:39</td>\n    </tr>\n    <tr>\n      <th>48860</th>\n      <td>2024-06-30</td>\n      <td>13734</td>\n      <td>C3.8</td>\n      <td>05:48</td>\n      <td>06:18</td>\n      <td>06:39</td>\n    </tr>\n    <tr>\n      <th>48861</th>\n      <td>2024-06-30</td>\n      <td>13727</td>\n      <td>C2.8</td>\n      <td>20:56</td>\n      <td>21:03</td>\n      <td>21:10</td>\n    </tr>\n    <tr>\n      <th>48862</th>\n      <td>2024-06-30</td>\n      <td>13729</td>\n      <td>C2.3</td>\n      <td>22:19</td>\n      <td>22:28</td>\n      <td>22:37</td>\n    </tr>\n    <tr>\n      <th>48863</th>\n      <td>2024-06-30</td>\n      <td>13729</td>\n      <td>C2.2</td>\n      <td>23:29</td>\n      <td>23:39</td>\n      <td>23:55</td>\n    </tr>\n  </tbody>\n</table>\n<p>48864 rows × 6 columns</p>\n</div>"
     },
     "execution_count": 2,
     "metadata": {},
     "output_type": "execute_result"
    }
   ],
   "source": [
    "df = pd.read_csv('../data/xray.csv')\n",
    "df"
   ],
   "metadata": {
    "collapsed": false,
    "ExecuteTime": {
     "end_time": "2024-07-31T03:05:02.499713700Z",
     "start_time": "2024-07-31T03:05:02.467009800Z"
    }
   },
   "id": "a214c33aa550206f"
  },
  {
   "cell_type": "code",
   "execution_count": 3,
   "outputs": [
    {
     "data": {
      "text/plain": "array(['-', '7981', '7982', ..., 'XX09:32', '13734', '13731'],\n      dtype=object)"
     },
     "execution_count": 3,
     "metadata": {},
     "output_type": "execute_result"
    }
   ],
   "source": [
    "df['Region'].unique()"
   ],
   "metadata": {
    "collapsed": false,
    "ExecuteTime": {
     "end_time": "2024-07-31T03:05:03.479041200Z",
     "start_time": "2024-07-31T03:05:03.455986600Z"
    }
   },
   "id": "874ec240ecbe8b4e"
  },
  {
   "cell_type": "code",
   "execution_count": 4,
   "outputs": [
    {
     "data": {
      "text/plain": "array(['-', 'XX13:25', 'XX10:28', ..., 'XX21:14', 'XX01:54', 'XX09:32'],\n      dtype=object)"
     },
     "execution_count": 4,
     "metadata": {},
     "output_type": "execute_result"
    }
   ],
   "source": [
    "# non numeric values\n",
    "df[~df['Region'].str.isnumeric()]['Region'].unique()"
   ],
   "metadata": {
    "collapsed": false,
    "ExecuteTime": {
     "end_time": "2024-07-31T03:05:03.699319900Z",
     "start_time": "2024-07-31T03:05:03.689419500Z"
    }
   },
   "id": "5b1d531284f54fa9"
  },
  {
   "cell_type": "code",
   "execution_count": 5,
   "outputs": [
    {
     "data": {
      "text/plain": "array(['-'], dtype=object)"
     },
     "execution_count": 5,
     "metadata": {},
     "output_type": "execute_result"
    }
   ],
   "source": [
    "df.loc[df['Region'].str.startswith('XX'), 'Region'] = '-'\n",
    "df[~df['Region'].str.isnumeric()]['Region'].unique()"
   ],
   "metadata": {
    "collapsed": false,
    "ExecuteTime": {
     "end_time": "2024-07-31T03:05:03.910790400Z",
     "start_time": "2024-07-31T03:05:03.883792100Z"
    }
   },
   "id": "63c20ed39a407a71"
  },
  {
   "cell_type": "code",
   "execution_count": 6,
   "outputs": [],
   "source": [
    "time_format_pattern = r'^\\d{2}:\\d{2}$'"
   ],
   "metadata": {
    "collapsed": false,
    "ExecuteTime": {
     "end_time": "2024-07-31T03:05:04.089348600Z",
     "start_time": "2024-07-31T03:05:04.085348500Z"
    }
   },
   "id": "d1cdf9c38fcca8f8"
  },
  {
   "cell_type": "code",
   "execution_count": 7,
   "outputs": [
    {
     "data": {
      "text/plain": "             Date Region   Flux  Start Maximum    End\n4519   1999-05-17   8541  C2.34  B1:31   13:19  13:20\n5166   1999-08-11      -  C2.19  B2:14   22:29  23:04\n21692  2006-09-08   0909  B8.14  B1:01   10:58  11:46",
      "text/html": "<div>\n<style scoped>\n    .dataframe tbody tr th:only-of-type {\n        vertical-align: middle;\n    }\n\n    .dataframe tbody tr th {\n        vertical-align: top;\n    }\n\n    .dataframe thead th {\n        text-align: right;\n    }\n</style>\n<table border=\"1\" class=\"dataframe\">\n  <thead>\n    <tr style=\"text-align: right;\">\n      <th></th>\n      <th>Date</th>\n      <th>Region</th>\n      <th>Flux</th>\n      <th>Start</th>\n      <th>Maximum</th>\n      <th>End</th>\n    </tr>\n  </thead>\n  <tbody>\n    <tr>\n      <th>4519</th>\n      <td>1999-05-17</td>\n      <td>8541</td>\n      <td>C2.34</td>\n      <td>B1:31</td>\n      <td>13:19</td>\n      <td>13:20</td>\n    </tr>\n    <tr>\n      <th>5166</th>\n      <td>1999-08-11</td>\n      <td>-</td>\n      <td>C2.19</td>\n      <td>B2:14</td>\n      <td>22:29</td>\n      <td>23:04</td>\n    </tr>\n    <tr>\n      <th>21692</th>\n      <td>2006-09-08</td>\n      <td>0909</td>\n      <td>B8.14</td>\n      <td>B1:01</td>\n      <td>10:58</td>\n      <td>11:46</td>\n    </tr>\n  </tbody>\n</table>\n</div>"
     },
     "execution_count": 7,
     "metadata": {},
     "output_type": "execute_result"
    }
   ],
   "source": [
    "df[~df['Start'].str.match(time_format_pattern)]"
   ],
   "metadata": {
    "collapsed": false,
    "ExecuteTime": {
     "end_time": "2024-07-31T03:05:04.318816900Z",
     "start_time": "2024-07-31T03:05:04.284579500Z"
    }
   },
   "id": "143c1c6bdbcfca8e"
  },
  {
   "cell_type": "code",
   "execution_count": 8,
   "outputs": [
    {
     "data": {
      "text/plain": "Empty DataFrame\nColumns: [Date, Region, Flux, Start, Maximum, End]\nIndex: []",
      "text/html": "<div>\n<style scoped>\n    .dataframe tbody tr th:only-of-type {\n        vertical-align: middle;\n    }\n\n    .dataframe tbody tr th {\n        vertical-align: top;\n    }\n\n    .dataframe thead th {\n        text-align: right;\n    }\n</style>\n<table border=\"1\" class=\"dataframe\">\n  <thead>\n    <tr style=\"text-align: right;\">\n      <th></th>\n      <th>Date</th>\n      <th>Region</th>\n      <th>Flux</th>\n      <th>Start</th>\n      <th>Maximum</th>\n      <th>End</th>\n    </tr>\n  </thead>\n  <tbody>\n  </tbody>\n</table>\n</div>"
     },
     "execution_count": 8,
     "metadata": {},
     "output_type": "execute_result"
    }
   ],
   "source": [
    "df.loc[df['Start'] == 'B1:31', 'Start'] = df['Start'].str.replace('B1', '12')\n",
    "df.loc[df['Start'] == 'B2:14', 'Start'] = df['Start'].str.replace('B', '2')\n",
    "df.loc[df['Start'] == 'B1:01', 'Start'] = df['Start'].str.replace('B1', '10')\n",
    "df[~df['Start'].str.match(time_format_pattern)]"
   ],
   "metadata": {
    "collapsed": false,
    "ExecuteTime": {
     "end_time": "2024-07-31T03:05:04.532394800Z",
     "start_time": "2024-07-31T03:05:04.495036200Z"
    }
   },
   "id": "15cb453e75895cfa"
  },
  {
   "cell_type": "code",
   "execution_count": 9,
   "outputs": [
    {
     "name": "stdout",
     "output_type": "stream",
     "text": [
      "{<class 'str'>}\n",
      "{<class 'str'>}\n",
      "{<class 'str'>}\n"
     ]
    }
   ],
   "source": [
    "print(get_unique_types_of_col(df['Start']))\n",
    "print(get_unique_types_of_col(df['End']))\n",
    "print(get_unique_types_of_col(df['Maximum']))"
   ],
   "metadata": {
    "collapsed": false,
    "ExecuteTime": {
     "end_time": "2024-07-31T03:05:04.700737300Z",
     "start_time": "2024-07-31T03:05:04.697729400Z"
    }
   },
   "id": "a7696ecefc264dde"
  },
  {
   "cell_type": "code",
   "execution_count": 10,
   "outputs": [
    {
     "data": {
      "text/plain": "            Date Region   Flux               Start             Maximum  \\\n0     1996-07-31      -  B1.71 1996-07-31 01:32:00 1996-07-31 01:36:00   \n1     1996-07-31      -   B1.7 1996-07-31 02:22:00 1996-07-31 02:25:00   \n2     1996-07-31      -   B1.6 1996-07-31 07:00:00 1996-07-31 07:03:00   \n3     1996-07-31   7981   B2.7 1996-07-31 08:29:00 1996-07-31 08:35:00   \n4     1996-07-31      -  B1.96 1996-07-31 11:14:00 1996-07-31 11:17:00   \n...          ...    ...    ...                 ...                 ...   \n48859 2024-06-30  13731     C2 2024-06-30 04:28:00 2024-06-30 04:34:00   \n48860 2024-06-30  13734   C3.8 2024-06-30 05:48:00 2024-06-30 06:18:00   \n48861 2024-06-30  13727   C2.8 2024-06-30 20:56:00 2024-06-30 21:03:00   \n48862 2024-06-30  13729   C2.3 2024-06-30 22:19:00 2024-06-30 22:28:00   \n48863 2024-06-30  13729   C2.2 2024-06-30 23:29:00 2024-06-30 23:39:00   \n\n                      End  \n0     1996-07-31 01:38:00  \n1     1996-07-31 02:27:00  \n2     1996-07-31 07:05:00  \n3     1996-07-31 08:40:00  \n4     1996-07-31 11:24:00  \n...                   ...  \n48859 2024-06-30 04:39:00  \n48860 2024-06-30 06:39:00  \n48861 2024-06-30 21:10:00  \n48862 2024-06-30 22:37:00  \n48863 2024-06-30 23:55:00  \n\n[48864 rows x 6 columns]",
      "text/html": "<div>\n<style scoped>\n    .dataframe tbody tr th:only-of-type {\n        vertical-align: middle;\n    }\n\n    .dataframe tbody tr th {\n        vertical-align: top;\n    }\n\n    .dataframe thead th {\n        text-align: right;\n    }\n</style>\n<table border=\"1\" class=\"dataframe\">\n  <thead>\n    <tr style=\"text-align: right;\">\n      <th></th>\n      <th>Date</th>\n      <th>Region</th>\n      <th>Flux</th>\n      <th>Start</th>\n      <th>Maximum</th>\n      <th>End</th>\n    </tr>\n  </thead>\n  <tbody>\n    <tr>\n      <th>0</th>\n      <td>1996-07-31</td>\n      <td>-</td>\n      <td>B1.71</td>\n      <td>1996-07-31 01:32:00</td>\n      <td>1996-07-31 01:36:00</td>\n      <td>1996-07-31 01:38:00</td>\n    </tr>\n    <tr>\n      <th>1</th>\n      <td>1996-07-31</td>\n      <td>-</td>\n      <td>B1.7</td>\n      <td>1996-07-31 02:22:00</td>\n      <td>1996-07-31 02:25:00</td>\n      <td>1996-07-31 02:27:00</td>\n    </tr>\n    <tr>\n      <th>2</th>\n      <td>1996-07-31</td>\n      <td>-</td>\n      <td>B1.6</td>\n      <td>1996-07-31 07:00:00</td>\n      <td>1996-07-31 07:03:00</td>\n      <td>1996-07-31 07:05:00</td>\n    </tr>\n    <tr>\n      <th>3</th>\n      <td>1996-07-31</td>\n      <td>7981</td>\n      <td>B2.7</td>\n      <td>1996-07-31 08:29:00</td>\n      <td>1996-07-31 08:35:00</td>\n      <td>1996-07-31 08:40:00</td>\n    </tr>\n    <tr>\n      <th>4</th>\n      <td>1996-07-31</td>\n      <td>-</td>\n      <td>B1.96</td>\n      <td>1996-07-31 11:14:00</td>\n      <td>1996-07-31 11:17:00</td>\n      <td>1996-07-31 11:24:00</td>\n    </tr>\n    <tr>\n      <th>...</th>\n      <td>...</td>\n      <td>...</td>\n      <td>...</td>\n      <td>...</td>\n      <td>...</td>\n      <td>...</td>\n    </tr>\n    <tr>\n      <th>48859</th>\n      <td>2024-06-30</td>\n      <td>13731</td>\n      <td>C2</td>\n      <td>2024-06-30 04:28:00</td>\n      <td>2024-06-30 04:34:00</td>\n      <td>2024-06-30 04:39:00</td>\n    </tr>\n    <tr>\n      <th>48860</th>\n      <td>2024-06-30</td>\n      <td>13734</td>\n      <td>C3.8</td>\n      <td>2024-06-30 05:48:00</td>\n      <td>2024-06-30 06:18:00</td>\n      <td>2024-06-30 06:39:00</td>\n    </tr>\n    <tr>\n      <th>48861</th>\n      <td>2024-06-30</td>\n      <td>13727</td>\n      <td>C2.8</td>\n      <td>2024-06-30 20:56:00</td>\n      <td>2024-06-30 21:03:00</td>\n      <td>2024-06-30 21:10:00</td>\n    </tr>\n    <tr>\n      <th>48862</th>\n      <td>2024-06-30</td>\n      <td>13729</td>\n      <td>C2.3</td>\n      <td>2024-06-30 22:19:00</td>\n      <td>2024-06-30 22:28:00</td>\n      <td>2024-06-30 22:37:00</td>\n    </tr>\n    <tr>\n      <th>48863</th>\n      <td>2024-06-30</td>\n      <td>13729</td>\n      <td>C2.2</td>\n      <td>2024-06-30 23:29:00</td>\n      <td>2024-06-30 23:39:00</td>\n      <td>2024-06-30 23:55:00</td>\n    </tr>\n  </tbody>\n</table>\n<p>48864 rows × 6 columns</p>\n</div>"
     },
     "execution_count": 10,
     "metadata": {},
     "output_type": "execute_result"
    }
   ],
   "source": [
    "# Convert Date to datetime\n",
    "df['Date'] = pd.to_datetime(df['Date'])\n",
    "\n",
    "# Convert Start and End to datetime with today's date\n",
    "df['Start'] = pd.to_datetime(df['Date'].dt.strftime('%Y-%m-%d') + ' ' + df['Start'])\n",
    "df['End'] = pd.to_datetime(df['Date'].dt.strftime('%Y-%m-%d') + ' ' + df['End'])\n",
    "df['Maximum'] = pd.to_datetime(df['Date'].dt.strftime('%Y-%m-%d') + ' ' + df['Maximum'])\n",
    "\n",
    "# Adjust End time if it is earlier than Start time\n",
    "df.loc[df['End'] < df['Start'], 'End'] += pd.Timedelta(days=1)\n",
    "df.loc[df['Maximum'] < df['Start'], 'Maximum'] += pd.Timedelta(days=1)\n",
    "df"
   ],
   "metadata": {
    "collapsed": false,
    "ExecuteTime": {
     "end_time": "2024-07-31T03:05:04.996212500Z",
     "start_time": "2024-07-31T03:05:04.925428100Z"
    }
   },
   "id": "bd7b863d703fd9e4"
  },
  {
   "cell_type": "code",
   "execution_count": 11,
   "outputs": [
    {
     "data": {
      "text/plain": "(71984, 29)"
     },
     "execution_count": 11,
     "metadata": {},
     "output_type": "execute_result"
    }
   ],
   "source": [
    "flare_cols_and_widths = {\n",
    "  \"Data Code\": 2, # always 31 for x-ray events\n",
    "  \"Station Code\": 3,\n",
    "  \"Year\": 2,\n",
    "  \"Month\": 2,\n",
    "  \"Day\": 2,\n",
    "  \"blank1\": 2,\n",
    "  \"Start Time HHmm\": 4, # Start time of x-ray event - SEE NOTE 1\n",
    "  \"blank2\": 1,\n",
    "  \"End Time HHmm\": 4,\n",
    "  \"blank3\": 1,\n",
    "  \"Max Time HHmm\": 4, # Max time\n",
    "  \"blank4\": 1,\n",
    "  \n",
    "   # latitude of xray flare if known\n",
    "  \"Region\": 6,\n",
    "\n",
    "  \"SXI\": 3, # SXI if data are from SXI imagery, blank otherwise\n",
    "  \"blank5\": 22,\n",
    "  \"X-ray class\": 1,  # X-ray class: C,M,X code - SEE NOTE 2 (Flare Type)\n",
    "  \"blank6\": 1,\n",
    "  \"X-ray intensity\": 2, # X-ray intensity 10-99 for 1.0-9.9 x xray class\n",
    "  \"blank7\": 4,\n",
    "  \"Station\": 4, # Station ame abbreviation - \"Gxx \" for GOES\n",
    "  \"blank8\": 1,\n",
    "  \"Integrated flux\": 8, # units = J/m**2\n",
    "  \"NOAA Sunspot Group Number\": 5, # NOAA/USAF sunspot region number\n",
    "  \"blank9\": 1,\n",
    "  \"Central Meridian Passage Date\": 8, # YYMM D.???\n",
    "  \"blank10\": 1,\n",
    "  \"Total Region Area\": 7, # squared arc seconds\n",
    "  \"blank11\": 1,\n",
    "  \"Total Intensity\": 7  # (units - TBD) from SXI, if available\n",
    "}\n",
    "\n",
    "df_old_data = pd.read_fwf(\"../flares1981-2017.txt\", header=None,\n",
    "                 widths=list(flare_cols_and_widths.values()),\n",
    "                 names=list(flare_cols_and_widths.keys()))\n",
    "\n",
    "df_old_data.shape"
   ],
   "metadata": {
    "collapsed": false,
    "ExecuteTime": {
     "end_time": "2024-07-31T03:05:05.609399600Z",
     "start_time": "2024-07-31T03:05:05.093300800Z"
    }
   },
   "id": "af085c730d406575"
  },
  {
   "cell_type": "code",
   "execution_count": 12,
   "outputs": [
    {
     "data": {
      "text/plain": "            Date  Year  Month  Day  Start Time HHmm  End Time HHmm  \\\n0     1981-01-02  1981      1    2              441            446   \n1     1981-01-02  1981      1    2              955           1004   \n2     1981-01-03  1981      1    3             1025           1036   \n3     1981-01-03  1981      1    3             1549           1558   \n4     1981-01-03  1981      1    3             1837           1845   \n...          ...   ...    ...  ...              ...            ...   \n71979 2017-06-26  2017      6   26              723            733   \n71980 2017-06-27  2017      6   27              729            741   \n71981 2017-06-27  2017      6   27             2049           2056   \n71982 2017-06-27  2017      6   27             2109           2119   \n71983 2017-06-28  2017      6   28             1227           1835   \n\n      Max Time HHmm  Region X-ray class  X-ray intensity  \\\n0              0444     NaN           C             18.0   \n1              1000     NaN           C             18.0   \n2              1030     NaN           C             51.0   \n3              1553     NaN           C             22.0   \n4              1842     NaN           C             22.0   \n...             ...     ...         ...              ...   \n71979          0728     NaN           B             13.0   \n71980          0735     NaN           B             11.0   \n71981          2053     NaN           B             11.0   \n71982          2115  N19W18           B             26.0   \n71983          1524     NaN           B             13.0   \n\n       NOAA Sunspot Group Number  \n0                            NaN  \n1                            NaN  \n2                            NaN  \n3                         2857.0  \n4                            NaN  \n...                          ...  \n71979                        NaN  \n71980                        NaN  \n71981                        NaN  \n71982                    12664.0  \n71983                        NaN  \n\n[71984 rows x 11 columns]",
      "text/html": "<div>\n<style scoped>\n    .dataframe tbody tr th:only-of-type {\n        vertical-align: middle;\n    }\n\n    .dataframe tbody tr th {\n        vertical-align: top;\n    }\n\n    .dataframe thead th {\n        text-align: right;\n    }\n</style>\n<table border=\"1\" class=\"dataframe\">\n  <thead>\n    <tr style=\"text-align: right;\">\n      <th></th>\n      <th>Date</th>\n      <th>Year</th>\n      <th>Month</th>\n      <th>Day</th>\n      <th>Start Time HHmm</th>\n      <th>End Time HHmm</th>\n      <th>Max Time HHmm</th>\n      <th>Region</th>\n      <th>X-ray class</th>\n      <th>X-ray intensity</th>\n      <th>NOAA Sunspot Group Number</th>\n    </tr>\n  </thead>\n  <tbody>\n    <tr>\n      <th>0</th>\n      <td>1981-01-02</td>\n      <td>1981</td>\n      <td>1</td>\n      <td>2</td>\n      <td>441</td>\n      <td>446</td>\n      <td>0444</td>\n      <td>NaN</td>\n      <td>C</td>\n      <td>18.0</td>\n      <td>NaN</td>\n    </tr>\n    <tr>\n      <th>1</th>\n      <td>1981-01-02</td>\n      <td>1981</td>\n      <td>1</td>\n      <td>2</td>\n      <td>955</td>\n      <td>1004</td>\n      <td>1000</td>\n      <td>NaN</td>\n      <td>C</td>\n      <td>18.0</td>\n      <td>NaN</td>\n    </tr>\n    <tr>\n      <th>2</th>\n      <td>1981-01-03</td>\n      <td>1981</td>\n      <td>1</td>\n      <td>3</td>\n      <td>1025</td>\n      <td>1036</td>\n      <td>1030</td>\n      <td>NaN</td>\n      <td>C</td>\n      <td>51.0</td>\n      <td>NaN</td>\n    </tr>\n    <tr>\n      <th>3</th>\n      <td>1981-01-03</td>\n      <td>1981</td>\n      <td>1</td>\n      <td>3</td>\n      <td>1549</td>\n      <td>1558</td>\n      <td>1553</td>\n      <td>NaN</td>\n      <td>C</td>\n      <td>22.0</td>\n      <td>2857.0</td>\n    </tr>\n    <tr>\n      <th>4</th>\n      <td>1981-01-03</td>\n      <td>1981</td>\n      <td>1</td>\n      <td>3</td>\n      <td>1837</td>\n      <td>1845</td>\n      <td>1842</td>\n      <td>NaN</td>\n      <td>C</td>\n      <td>22.0</td>\n      <td>NaN</td>\n    </tr>\n    <tr>\n      <th>...</th>\n      <td>...</td>\n      <td>...</td>\n      <td>...</td>\n      <td>...</td>\n      <td>...</td>\n      <td>...</td>\n      <td>...</td>\n      <td>...</td>\n      <td>...</td>\n      <td>...</td>\n      <td>...</td>\n    </tr>\n    <tr>\n      <th>71979</th>\n      <td>2017-06-26</td>\n      <td>2017</td>\n      <td>6</td>\n      <td>26</td>\n      <td>723</td>\n      <td>733</td>\n      <td>0728</td>\n      <td>NaN</td>\n      <td>B</td>\n      <td>13.0</td>\n      <td>NaN</td>\n    </tr>\n    <tr>\n      <th>71980</th>\n      <td>2017-06-27</td>\n      <td>2017</td>\n      <td>6</td>\n      <td>27</td>\n      <td>729</td>\n      <td>741</td>\n      <td>0735</td>\n      <td>NaN</td>\n      <td>B</td>\n      <td>11.0</td>\n      <td>NaN</td>\n    </tr>\n    <tr>\n      <th>71981</th>\n      <td>2017-06-27</td>\n      <td>2017</td>\n      <td>6</td>\n      <td>27</td>\n      <td>2049</td>\n      <td>2056</td>\n      <td>2053</td>\n      <td>NaN</td>\n      <td>B</td>\n      <td>11.0</td>\n      <td>NaN</td>\n    </tr>\n    <tr>\n      <th>71982</th>\n      <td>2017-06-27</td>\n      <td>2017</td>\n      <td>6</td>\n      <td>27</td>\n      <td>2109</td>\n      <td>2119</td>\n      <td>2115</td>\n      <td>N19W18</td>\n      <td>B</td>\n      <td>26.0</td>\n      <td>12664.0</td>\n    </tr>\n    <tr>\n      <th>71983</th>\n      <td>2017-06-28</td>\n      <td>2017</td>\n      <td>6</td>\n      <td>28</td>\n      <td>1227</td>\n      <td>1835</td>\n      <td>1524</td>\n      <td>NaN</td>\n      <td>B</td>\n      <td>13.0</td>\n      <td>NaN</td>\n    </tr>\n  </tbody>\n</table>\n<p>71984 rows × 11 columns</p>\n</div>"
     },
     "execution_count": 12,
     "metadata": {},
     "output_type": "execute_result"
    }
   ],
   "source": [
    "df_old_data.drop(['Data Code', 'Station Code', 'Station', 'Integrated flux',\n",
    "                  'Central Meridian Passage Date', 'Total Region Area',\n",
    "                  'Total Intensity', 'SXI'], axis=1, inplace=True)\n",
    "df_old_data.drop(columns=df_old_data.filter(like='blank').columns.to_list(), inplace=True)\n",
    "\n",
    "df_old_data['Year'] = df_old_data['Year'].astype(int).apply(lambda x: 1900 + x if x > 50 else 2000 + x)\n",
    "df_old_data['Month'] = df_old_data['Month'].astype(int)\n",
    "df_old_data['Day'] = df_old_data['Day'].astype(int)\n",
    "df_old_data['Date'] = pd.to_datetime(df_old_data[['Year', 'Month', 'Day']])\n",
    "\n",
    "# Move the 'Date' column to the first position\n",
    "cols = ['Date'] + [col for col in df_old_data.columns if col != 'Date']\n",
    "df_old_data = df_old_data[cols]\n",
    "df_old_data"
   ],
   "metadata": {
    "collapsed": false,
    "ExecuteTime": {
     "end_time": "2024-07-31T03:05:05.734119400Z",
     "start_time": "2024-07-31T03:05:05.628937Z"
    }
   },
   "id": "6faf08cc4338c797"
  },
  {
   "cell_type": "code",
   "execution_count": 13,
   "outputs": [
    {
     "data": {
      "text/plain": "68"
     },
     "execution_count": 13,
     "metadata": {},
     "output_type": "execute_result"
    }
   ],
   "source": [
    "df_old_data['Max Time HHmm'].isnull().sum()"
   ],
   "metadata": {
    "collapsed": false,
    "ExecuteTime": {
     "end_time": "2024-07-31T03:05:05.734119400Z",
     "start_time": "2024-07-31T03:05:05.666983100Z"
    }
   },
   "id": "3dadee25eabebfdc"
  },
  {
   "cell_type": "code",
   "execution_count": 14,
   "outputs": [
    {
     "data": {
      "text/plain": "0"
     },
     "execution_count": 14,
     "metadata": {},
     "output_type": "execute_result"
    }
   ],
   "source": [
    "df_old_data['Max Time HHmm'] = (\n",
    "  df_old_data['Max Time HHmm'].apply(\n",
    "    lambda x: x if isinstance(x, int) or (isinstance(x, str) and x.isdigit()) else None\n",
    "  )\n",
    ")\n",
    "df_old_data['Max Time HHmm'] = df_old_data.apply(\n",
    "  lambda row: (row['Start Time HHmm'] + row['End Time HHmm']) // 2 if pd.isnull(row['Max Time HHmm']) else row['Max Time HHmm'], axis=1)\n",
    "df_old_data['Max Time HHmm'] = pd.to_numeric(df_old_data['Max Time HHmm'], errors='coerce')\n",
    "df_old_data['Max Time HHmm'].isnull().sum()"
   ],
   "metadata": {
    "collapsed": false,
    "ExecuteTime": {
     "end_time": "2024-07-31T03:05:06.041282700Z",
     "start_time": "2024-07-31T03:05:05.708474300Z"
    }
   },
   "id": "d680c02f7a1f1dfd"
  },
  {
   "cell_type": "code",
   "execution_count": 15,
   "outputs": [
    {
     "data": {
      "text/plain": "{int}"
     },
     "execution_count": 15,
     "metadata": {},
     "output_type": "execute_result"
    }
   ],
   "source": [
    "get_unique_types_of_col(df_old_data['Max Time HHmm'])"
   ],
   "metadata": {
    "collapsed": false,
    "ExecuteTime": {
     "end_time": "2024-07-31T03:05:06.048816200Z",
     "start_time": "2024-07-31T03:05:06.042275100Z"
    }
   },
   "id": "58f81852a1669ee2"
  },
  {
   "cell_type": "code",
   "execution_count": 16,
   "outputs": [],
   "source": [
    "# Convert to int/float\n",
    "# df_old_data['X-ray intensity'] = pd.to_numeric(df_old_data['X-ray intensity'], errors='coerce').astype(float).astype('Int64')\n",
    "df_old_data['NOAA Sunspot Group Number'] = pd.to_numeric(df_old_data['NOAA Sunspot Group Number'], errors='coerce').astype(float).astype('Int64')"
   ],
   "metadata": {
    "collapsed": false,
    "ExecuteTime": {
     "end_time": "2024-07-31T03:05:07.959853200Z",
     "start_time": "2024-07-31T03:05:07.956311800Z"
    }
   },
   "id": "5a5d8ea933d48edc"
  },
  {
   "cell_type": "code",
   "execution_count": 17,
   "outputs": [],
   "source": [
    "# Returns a function to format the time column to 'YYmmdd HHMM'\n",
    "def format_time_column(_t):\n",
    "  def format_row_time(row):  # Formats a single row's time to 'YYmmdd HHMM'\n",
    "    item = row[f'{_t} Time HHmm']\n",
    "    h = str(min(item//100, 23)).zfill(2)\n",
    "    m = str(min(item%100, 59)).zfill(2)\n",
    "    return f\"{row['Date'].year}{row['Date'].month}{row['Date'].day} {h}{m}\"\n",
    "  return format_row_time"
   ],
   "metadata": {
    "collapsed": false,
    "ExecuteTime": {
     "end_time": "2024-07-31T03:05:08.214476400Z",
     "start_time": "2024-07-31T03:05:08.190175500Z"
    }
   },
   "id": "65c89dcc9b5b8018"
  },
  {
   "cell_type": "code",
   "execution_count": 18,
   "outputs": [
    {
     "data": {
      "text/plain": "            Date  Year  Month  Day Start Time HHmm End Time HHmm  \\\n0     1981-01-02  1981      1    2     198112 0441   198112 0446   \n1     1981-01-02  1981      1    2     198112 0955   198112 1004   \n2     1981-01-03  1981      1    3     198113 1025   198113 1036   \n3     1981-01-03  1981      1    3     198113 1549   198113 1558   \n4     1981-01-03  1981      1    3     198113 1837   198113 1845   \n...          ...   ...    ...  ...             ...           ...   \n71979 2017-06-26  2017      6   26    2017626 0723  2017626 0733   \n71980 2017-06-27  2017      6   27    2017627 0729  2017627 0741   \n71981 2017-06-27  2017      6   27    2017627 2049  2017627 2056   \n71982 2017-06-27  2017      6   27    2017627 2109  2017627 2119   \n71983 2017-06-28  2017      6   28    2017628 1227  2017628 1835   \n\n      Max Time HHmm  Region X-ray class  X-ray intensity  \\\n0       198112 0444     NaN           C             18.0   \n1       198112 1000     NaN           C             18.0   \n2       198113 1030     NaN           C             51.0   \n3       198113 1553     NaN           C             22.0   \n4       198113 1842     NaN           C             22.0   \n...             ...     ...         ...              ...   \n71979  2017626 0728     NaN           B             13.0   \n71980  2017627 0735     NaN           B             11.0   \n71981  2017627 2053     NaN           B             11.0   \n71982  2017627 2115  N19W18           B             26.0   \n71983  2017628 1524     NaN           B             13.0   \n\n       NOAA Sunspot Group Number            End Time          Start Time  \\\n0                           <NA> 1981-01-02 04:46:00 1981-01-02 04:41:00   \n1                           <NA> 1981-01-02 10:04:00 1981-01-02 09:55:00   \n2                           <NA> 1981-01-03 10:36:00 1981-01-03 10:25:00   \n3                           2857 1981-01-03 15:58:00 1981-01-03 15:49:00   \n4                           <NA> 1981-01-03 18:45:00 1981-01-03 18:37:00   \n...                          ...                 ...                 ...   \n71979                       <NA> 2017-06-26 07:33:00 2017-06-26 07:23:00   \n71980                       <NA> 2017-06-27 07:41:00 2017-06-27 07:29:00   \n71981                       <NA> 2017-06-27 20:56:00 2017-06-27 20:49:00   \n71982                      12664 2017-06-27 21:19:00 2017-06-27 21:09:00   \n71983                       <NA> 2017-06-28 18:35:00 2017-06-28 12:27:00   \n\n                 Max Time  \n0     1981-01-02 04:44:00  \n1     1981-01-02 10:00:00  \n2     1981-01-03 10:30:00  \n3     1981-01-03 15:53:00  \n4     1981-01-03 18:42:00  \n...                   ...  \n71979 2017-06-26 07:28:00  \n71980 2017-06-27 07:35:00  \n71981 2017-06-27 20:53:00  \n71982 2017-06-27 21:15:00  \n71983 2017-06-28 15:24:00  \n\n[71984 rows x 14 columns]",
      "text/html": "<div>\n<style scoped>\n    .dataframe tbody tr th:only-of-type {\n        vertical-align: middle;\n    }\n\n    .dataframe tbody tr th {\n        vertical-align: top;\n    }\n\n    .dataframe thead th {\n        text-align: right;\n    }\n</style>\n<table border=\"1\" class=\"dataframe\">\n  <thead>\n    <tr style=\"text-align: right;\">\n      <th></th>\n      <th>Date</th>\n      <th>Year</th>\n      <th>Month</th>\n      <th>Day</th>\n      <th>Start Time HHmm</th>\n      <th>End Time HHmm</th>\n      <th>Max Time HHmm</th>\n      <th>Region</th>\n      <th>X-ray class</th>\n      <th>X-ray intensity</th>\n      <th>NOAA Sunspot Group Number</th>\n      <th>End Time</th>\n      <th>Start Time</th>\n      <th>Max Time</th>\n    </tr>\n  </thead>\n  <tbody>\n    <tr>\n      <th>0</th>\n      <td>1981-01-02</td>\n      <td>1981</td>\n      <td>1</td>\n      <td>2</td>\n      <td>198112 0441</td>\n      <td>198112 0446</td>\n      <td>198112 0444</td>\n      <td>NaN</td>\n      <td>C</td>\n      <td>18.0</td>\n      <td>&lt;NA&gt;</td>\n      <td>1981-01-02 04:46:00</td>\n      <td>1981-01-02 04:41:00</td>\n      <td>1981-01-02 04:44:00</td>\n    </tr>\n    <tr>\n      <th>1</th>\n      <td>1981-01-02</td>\n      <td>1981</td>\n      <td>1</td>\n      <td>2</td>\n      <td>198112 0955</td>\n      <td>198112 1004</td>\n      <td>198112 1000</td>\n      <td>NaN</td>\n      <td>C</td>\n      <td>18.0</td>\n      <td>&lt;NA&gt;</td>\n      <td>1981-01-02 10:04:00</td>\n      <td>1981-01-02 09:55:00</td>\n      <td>1981-01-02 10:00:00</td>\n    </tr>\n    <tr>\n      <th>2</th>\n      <td>1981-01-03</td>\n      <td>1981</td>\n      <td>1</td>\n      <td>3</td>\n      <td>198113 1025</td>\n      <td>198113 1036</td>\n      <td>198113 1030</td>\n      <td>NaN</td>\n      <td>C</td>\n      <td>51.0</td>\n      <td>&lt;NA&gt;</td>\n      <td>1981-01-03 10:36:00</td>\n      <td>1981-01-03 10:25:00</td>\n      <td>1981-01-03 10:30:00</td>\n    </tr>\n    <tr>\n      <th>3</th>\n      <td>1981-01-03</td>\n      <td>1981</td>\n      <td>1</td>\n      <td>3</td>\n      <td>198113 1549</td>\n      <td>198113 1558</td>\n      <td>198113 1553</td>\n      <td>NaN</td>\n      <td>C</td>\n      <td>22.0</td>\n      <td>2857</td>\n      <td>1981-01-03 15:58:00</td>\n      <td>1981-01-03 15:49:00</td>\n      <td>1981-01-03 15:53:00</td>\n    </tr>\n    <tr>\n      <th>4</th>\n      <td>1981-01-03</td>\n      <td>1981</td>\n      <td>1</td>\n      <td>3</td>\n      <td>198113 1837</td>\n      <td>198113 1845</td>\n      <td>198113 1842</td>\n      <td>NaN</td>\n      <td>C</td>\n      <td>22.0</td>\n      <td>&lt;NA&gt;</td>\n      <td>1981-01-03 18:45:00</td>\n      <td>1981-01-03 18:37:00</td>\n      <td>1981-01-03 18:42:00</td>\n    </tr>\n    <tr>\n      <th>...</th>\n      <td>...</td>\n      <td>...</td>\n      <td>...</td>\n      <td>...</td>\n      <td>...</td>\n      <td>...</td>\n      <td>...</td>\n      <td>...</td>\n      <td>...</td>\n      <td>...</td>\n      <td>...</td>\n      <td>...</td>\n      <td>...</td>\n      <td>...</td>\n    </tr>\n    <tr>\n      <th>71979</th>\n      <td>2017-06-26</td>\n      <td>2017</td>\n      <td>6</td>\n      <td>26</td>\n      <td>2017626 0723</td>\n      <td>2017626 0733</td>\n      <td>2017626 0728</td>\n      <td>NaN</td>\n      <td>B</td>\n      <td>13.0</td>\n      <td>&lt;NA&gt;</td>\n      <td>2017-06-26 07:33:00</td>\n      <td>2017-06-26 07:23:00</td>\n      <td>2017-06-26 07:28:00</td>\n    </tr>\n    <tr>\n      <th>71980</th>\n      <td>2017-06-27</td>\n      <td>2017</td>\n      <td>6</td>\n      <td>27</td>\n      <td>2017627 0729</td>\n      <td>2017627 0741</td>\n      <td>2017627 0735</td>\n      <td>NaN</td>\n      <td>B</td>\n      <td>11.0</td>\n      <td>&lt;NA&gt;</td>\n      <td>2017-06-27 07:41:00</td>\n      <td>2017-06-27 07:29:00</td>\n      <td>2017-06-27 07:35:00</td>\n    </tr>\n    <tr>\n      <th>71981</th>\n      <td>2017-06-27</td>\n      <td>2017</td>\n      <td>6</td>\n      <td>27</td>\n      <td>2017627 2049</td>\n      <td>2017627 2056</td>\n      <td>2017627 2053</td>\n      <td>NaN</td>\n      <td>B</td>\n      <td>11.0</td>\n      <td>&lt;NA&gt;</td>\n      <td>2017-06-27 20:56:00</td>\n      <td>2017-06-27 20:49:00</td>\n      <td>2017-06-27 20:53:00</td>\n    </tr>\n    <tr>\n      <th>71982</th>\n      <td>2017-06-27</td>\n      <td>2017</td>\n      <td>6</td>\n      <td>27</td>\n      <td>2017627 2109</td>\n      <td>2017627 2119</td>\n      <td>2017627 2115</td>\n      <td>N19W18</td>\n      <td>B</td>\n      <td>26.0</td>\n      <td>12664</td>\n      <td>2017-06-27 21:19:00</td>\n      <td>2017-06-27 21:09:00</td>\n      <td>2017-06-27 21:15:00</td>\n    </tr>\n    <tr>\n      <th>71983</th>\n      <td>2017-06-28</td>\n      <td>2017</td>\n      <td>6</td>\n      <td>28</td>\n      <td>2017628 1227</td>\n      <td>2017628 1835</td>\n      <td>2017628 1524</td>\n      <td>NaN</td>\n      <td>B</td>\n      <td>13.0</td>\n      <td>&lt;NA&gt;</td>\n      <td>2017-06-28 18:35:00</td>\n      <td>2017-06-28 12:27:00</td>\n      <td>2017-06-28 15:24:00</td>\n    </tr>\n  </tbody>\n</table>\n<p>71984 rows × 14 columns</p>\n</div>"
     },
     "execution_count": 18,
     "metadata": {},
     "output_type": "execute_result"
    }
   ],
   "source": [
    "for t in ['End', 'Start', 'Max']:\n",
    "  df_old_data[f'{t} Time HHmm'] = df_old_data.apply(format_time_column(t), axis=1)\n",
    "  df_old_data[f'{t} Time'] = pd.to_datetime(df_old_data[f'{t} Time HHmm'], format='%Y%m%d %H%M')\n",
    "# df_old_data.drop(['End Time HHmm', 'Start Time HHmm', 'Max Time HHmm', 'Year', 'Month', 'Day'], axis=1, inplace=True)\n",
    "df_old_data"
   ],
   "metadata": {
    "collapsed": false,
    "ExecuteTime": {
     "end_time": "2024-07-31T03:05:10.354994900Z",
     "start_time": "2024-07-31T03:05:08.417210700Z"
    }
   },
   "id": "27a2e10fec2dbbdc"
  },
  {
   "cell_type": "code",
   "execution_count": 19,
   "outputs": [
    {
     "data": {
      "text/plain": "            Date  Region X-ray class  X-ray intensity  \\\n0     1981-01-02     NaN           C             18.0   \n1     1981-01-02     NaN           C             18.0   \n2     1981-01-03     NaN           C             51.0   \n3     1981-01-03     NaN           C             22.0   \n4     1981-01-03     NaN           C             22.0   \n...          ...     ...         ...              ...   \n71979 2017-06-26     NaN           B             13.0   \n71980 2017-06-27     NaN           B             11.0   \n71981 2017-06-27     NaN           B             11.0   \n71982 2017-06-27  N19W18           B             26.0   \n71983 2017-06-28     NaN           B             13.0   \n\n       NOAA Sunspot Group Number            End Time          Start Time  \\\n0                           <NA> 1981-01-02 04:46:00 1981-01-02 04:41:00   \n1                           <NA> 1981-01-02 10:04:00 1981-01-02 09:55:00   \n2                           <NA> 1981-01-03 10:36:00 1981-01-03 10:25:00   \n3                           2857 1981-01-03 15:58:00 1981-01-03 15:49:00   \n4                           <NA> 1981-01-03 18:45:00 1981-01-03 18:37:00   \n...                          ...                 ...                 ...   \n71979                       <NA> 2017-06-26 07:33:00 2017-06-26 07:23:00   \n71980                       <NA> 2017-06-27 07:41:00 2017-06-27 07:29:00   \n71981                       <NA> 2017-06-27 20:56:00 2017-06-27 20:49:00   \n71982                      12664 2017-06-27 21:19:00 2017-06-27 21:09:00   \n71983                       <NA> 2017-06-28 18:35:00 2017-06-28 12:27:00   \n\n                 Max Time  \n0     1981-01-02 04:44:00  \n1     1981-01-02 10:00:00  \n2     1981-01-03 10:30:00  \n3     1981-01-03 15:53:00  \n4     1981-01-03 18:42:00  \n...                   ...  \n71979 2017-06-26 07:28:00  \n71980 2017-06-27 07:35:00  \n71981 2017-06-27 20:53:00  \n71982 2017-06-27 21:15:00  \n71983 2017-06-28 15:24:00  \n\n[71984 rows x 8 columns]",
      "text/html": "<div>\n<style scoped>\n    .dataframe tbody tr th:only-of-type {\n        vertical-align: middle;\n    }\n\n    .dataframe tbody tr th {\n        vertical-align: top;\n    }\n\n    .dataframe thead th {\n        text-align: right;\n    }\n</style>\n<table border=\"1\" class=\"dataframe\">\n  <thead>\n    <tr style=\"text-align: right;\">\n      <th></th>\n      <th>Date</th>\n      <th>Region</th>\n      <th>X-ray class</th>\n      <th>X-ray intensity</th>\n      <th>NOAA Sunspot Group Number</th>\n      <th>End Time</th>\n      <th>Start Time</th>\n      <th>Max Time</th>\n    </tr>\n  </thead>\n  <tbody>\n    <tr>\n      <th>0</th>\n      <td>1981-01-02</td>\n      <td>NaN</td>\n      <td>C</td>\n      <td>18.0</td>\n      <td>&lt;NA&gt;</td>\n      <td>1981-01-02 04:46:00</td>\n      <td>1981-01-02 04:41:00</td>\n      <td>1981-01-02 04:44:00</td>\n    </tr>\n    <tr>\n      <th>1</th>\n      <td>1981-01-02</td>\n      <td>NaN</td>\n      <td>C</td>\n      <td>18.0</td>\n      <td>&lt;NA&gt;</td>\n      <td>1981-01-02 10:04:00</td>\n      <td>1981-01-02 09:55:00</td>\n      <td>1981-01-02 10:00:00</td>\n    </tr>\n    <tr>\n      <th>2</th>\n      <td>1981-01-03</td>\n      <td>NaN</td>\n      <td>C</td>\n      <td>51.0</td>\n      <td>&lt;NA&gt;</td>\n      <td>1981-01-03 10:36:00</td>\n      <td>1981-01-03 10:25:00</td>\n      <td>1981-01-03 10:30:00</td>\n    </tr>\n    <tr>\n      <th>3</th>\n      <td>1981-01-03</td>\n      <td>NaN</td>\n      <td>C</td>\n      <td>22.0</td>\n      <td>2857</td>\n      <td>1981-01-03 15:58:00</td>\n      <td>1981-01-03 15:49:00</td>\n      <td>1981-01-03 15:53:00</td>\n    </tr>\n    <tr>\n      <th>4</th>\n      <td>1981-01-03</td>\n      <td>NaN</td>\n      <td>C</td>\n      <td>22.0</td>\n      <td>&lt;NA&gt;</td>\n      <td>1981-01-03 18:45:00</td>\n      <td>1981-01-03 18:37:00</td>\n      <td>1981-01-03 18:42:00</td>\n    </tr>\n    <tr>\n      <th>...</th>\n      <td>...</td>\n      <td>...</td>\n      <td>...</td>\n      <td>...</td>\n      <td>...</td>\n      <td>...</td>\n      <td>...</td>\n      <td>...</td>\n    </tr>\n    <tr>\n      <th>71979</th>\n      <td>2017-06-26</td>\n      <td>NaN</td>\n      <td>B</td>\n      <td>13.0</td>\n      <td>&lt;NA&gt;</td>\n      <td>2017-06-26 07:33:00</td>\n      <td>2017-06-26 07:23:00</td>\n      <td>2017-06-26 07:28:00</td>\n    </tr>\n    <tr>\n      <th>71980</th>\n      <td>2017-06-27</td>\n      <td>NaN</td>\n      <td>B</td>\n      <td>11.0</td>\n      <td>&lt;NA&gt;</td>\n      <td>2017-06-27 07:41:00</td>\n      <td>2017-06-27 07:29:00</td>\n      <td>2017-06-27 07:35:00</td>\n    </tr>\n    <tr>\n      <th>71981</th>\n      <td>2017-06-27</td>\n      <td>NaN</td>\n      <td>B</td>\n      <td>11.0</td>\n      <td>&lt;NA&gt;</td>\n      <td>2017-06-27 20:56:00</td>\n      <td>2017-06-27 20:49:00</td>\n      <td>2017-06-27 20:53:00</td>\n    </tr>\n    <tr>\n      <th>71982</th>\n      <td>2017-06-27</td>\n      <td>N19W18</td>\n      <td>B</td>\n      <td>26.0</td>\n      <td>12664</td>\n      <td>2017-06-27 21:19:00</td>\n      <td>2017-06-27 21:09:00</td>\n      <td>2017-06-27 21:15:00</td>\n    </tr>\n    <tr>\n      <th>71983</th>\n      <td>2017-06-28</td>\n      <td>NaN</td>\n      <td>B</td>\n      <td>13.0</td>\n      <td>&lt;NA&gt;</td>\n      <td>2017-06-28 18:35:00</td>\n      <td>2017-06-28 12:27:00</td>\n      <td>2017-06-28 15:24:00</td>\n    </tr>\n  </tbody>\n</table>\n<p>71984 rows × 8 columns</p>\n</div>"
     },
     "execution_count": 19,
     "metadata": {},
     "output_type": "execute_result"
    }
   ],
   "source": [
    "df_old_data.drop(['Start Time HHmm', 'End Time HHmm', 'Max Time HHmm',\n",
    "                  'Year', 'Month', 'Day'], axis=1, inplace=True)\n",
    "df_old_data"
   ],
   "metadata": {
    "collapsed": false,
    "ExecuteTime": {
     "end_time": "2024-07-31T03:05:10.365687700Z",
     "start_time": "2024-07-31T03:05:10.358015900Z"
    }
   },
   "id": "974d7fb30c5d304d"
  },
  {
   "cell_type": "code",
   "execution_count": 21,
   "outputs": [],
   "source": [
    "_dt = '01-04-2017'"
   ],
   "metadata": {
    "collapsed": false,
    "ExecuteTime": {
     "end_time": "2024-07-31T03:05:14.015455800Z",
     "start_time": "2024-07-31T03:05:14.012449Z"
    }
   },
   "id": "11fcc4d4ede82369"
  },
  {
   "cell_type": "code",
   "execution_count": 150,
   "outputs": [
    {
     "data": {
      "text/plain": "            Date Region X-ray class  X-ray intensity  \\\n71474 2017-01-04    NaN           B             18.0   \n\n       NOAA Sunspot Group Number            End Time          Start Time  \\\n71474                       <NA> 2017-01-04 02:50:00 2017-01-04 02:34:00   \n\n                 Max Time  \n71474 2017-01-04 02:39:00  ",
      "text/html": "<div>\n<style scoped>\n    .dataframe tbody tr th:only-of-type {\n        vertical-align: middle;\n    }\n\n    .dataframe tbody tr th {\n        vertical-align: top;\n    }\n\n    .dataframe thead th {\n        text-align: right;\n    }\n</style>\n<table border=\"1\" class=\"dataframe\">\n  <thead>\n    <tr style=\"text-align: right;\">\n      <th></th>\n      <th>Date</th>\n      <th>Region</th>\n      <th>X-ray class</th>\n      <th>X-ray intensity</th>\n      <th>NOAA Sunspot Group Number</th>\n      <th>End Time</th>\n      <th>Start Time</th>\n      <th>Max Time</th>\n    </tr>\n  </thead>\n  <tbody>\n    <tr>\n      <th>71474</th>\n      <td>2017-01-04</td>\n      <td>NaN</td>\n      <td>B</td>\n      <td>18.0</td>\n      <td>&lt;NA&gt;</td>\n      <td>2017-01-04 02:50:00</td>\n      <td>2017-01-04 02:34:00</td>\n      <td>2017-01-04 02:39:00</td>\n    </tr>\n  </tbody>\n</table>\n</div>"
     },
     "execution_count": 150,
     "metadata": {},
     "output_type": "execute_result"
    }
   ],
   "source": [
    "df_old_data[df_old_data['Date'] == pd.to_datetime(_dt)]"
   ],
   "metadata": {
    "collapsed": false,
    "ExecuteTime": {
     "end_time": "2024-07-30T00:29:39.923709500Z",
     "start_time": "2024-07-30T00:29:39.888219700Z"
    }
   },
   "id": "c5e5536328877f95"
  },
  {
   "cell_type": "code",
   "execution_count": 151,
   "outputs": [
    {
     "data": {
      "text/plain": "            Date Region   Flux  Start Maximum    End\n35522 2017-01-04  12624  B1.93  02:34   02:39  02:50",
      "text/html": "<div>\n<style scoped>\n    .dataframe tbody tr th:only-of-type {\n        vertical-align: middle;\n    }\n\n    .dataframe tbody tr th {\n        vertical-align: top;\n    }\n\n    .dataframe thead th {\n        text-align: right;\n    }\n</style>\n<table border=\"1\" class=\"dataframe\">\n  <thead>\n    <tr style=\"text-align: right;\">\n      <th></th>\n      <th>Date</th>\n      <th>Region</th>\n      <th>Flux</th>\n      <th>Start</th>\n      <th>Maximum</th>\n      <th>End</th>\n    </tr>\n  </thead>\n  <tbody>\n    <tr>\n      <th>35522</th>\n      <td>2017-01-04</td>\n      <td>12624</td>\n      <td>B1.93</td>\n      <td>02:34</td>\n      <td>02:39</td>\n      <td>02:50</td>\n    </tr>\n  </tbody>\n</table>\n</div>"
     },
     "execution_count": 151,
     "metadata": {},
     "output_type": "execute_result"
    }
   ],
   "source": [
    "df[df['Date'] == pd.to_datetime(_dt)]"
   ],
   "metadata": {
    "collapsed": false,
    "ExecuteTime": {
     "end_time": "2024-07-30T00:29:42.708855100Z",
     "start_time": "2024-07-30T00:29:42.689234500Z"
    }
   },
   "id": "71db63831fe444c2"
  },
  {
   "cell_type": "code",
   "execution_count": 22,
   "outputs": [
    {
     "data": {
      "text/plain": "            Date  Region X-ray class  X-ray intensity  \\\n0     1981-01-02     NaN           C              1.8   \n1     1981-01-02     NaN           C              1.8   \n2     1981-01-03     NaN           C              5.1   \n3     1981-01-03     NaN           C              2.2   \n4     1981-01-03     NaN           C              2.2   \n...          ...     ...         ...              ...   \n71979 2017-06-26     NaN           B              1.3   \n71980 2017-06-27     NaN           B              1.1   \n71981 2017-06-27     NaN           B              1.1   \n71982 2017-06-27  N19W18           B              2.6   \n71983 2017-06-28     NaN           B              1.3   \n\n       NOAA Sunspot Group Number            End Time          Start Time  \\\n0                           <NA> 1981-01-02 04:46:00 1981-01-02 04:41:00   \n1                           <NA> 1981-01-02 10:04:00 1981-01-02 09:55:00   \n2                           <NA> 1981-01-03 10:36:00 1981-01-03 10:25:00   \n3                           2857 1981-01-03 15:58:00 1981-01-03 15:49:00   \n4                           <NA> 1981-01-03 18:45:00 1981-01-03 18:37:00   \n...                          ...                 ...                 ...   \n71979                       <NA> 2017-06-26 07:33:00 2017-06-26 07:23:00   \n71980                       <NA> 2017-06-27 07:41:00 2017-06-27 07:29:00   \n71981                       <NA> 2017-06-27 20:56:00 2017-06-27 20:49:00   \n71982                      12664 2017-06-27 21:19:00 2017-06-27 21:09:00   \n71983                       <NA> 2017-06-28 18:35:00 2017-06-28 12:27:00   \n\n                 Max Time  \n0     1981-01-02 04:44:00  \n1     1981-01-02 10:00:00  \n2     1981-01-03 10:30:00  \n3     1981-01-03 15:53:00  \n4     1981-01-03 18:42:00  \n...                   ...  \n71979 2017-06-26 07:28:00  \n71980 2017-06-27 07:35:00  \n71981 2017-06-27 20:53:00  \n71982 2017-06-27 21:15:00  \n71983 2017-06-28 15:24:00  \n\n[71984 rows x 8 columns]",
      "text/html": "<div>\n<style scoped>\n    .dataframe tbody tr th:only-of-type {\n        vertical-align: middle;\n    }\n\n    .dataframe tbody tr th {\n        vertical-align: top;\n    }\n\n    .dataframe thead th {\n        text-align: right;\n    }\n</style>\n<table border=\"1\" class=\"dataframe\">\n  <thead>\n    <tr style=\"text-align: right;\">\n      <th></th>\n      <th>Date</th>\n      <th>Region</th>\n      <th>X-ray class</th>\n      <th>X-ray intensity</th>\n      <th>NOAA Sunspot Group Number</th>\n      <th>End Time</th>\n      <th>Start Time</th>\n      <th>Max Time</th>\n    </tr>\n  </thead>\n  <tbody>\n    <tr>\n      <th>0</th>\n      <td>1981-01-02</td>\n      <td>NaN</td>\n      <td>C</td>\n      <td>1.8</td>\n      <td>&lt;NA&gt;</td>\n      <td>1981-01-02 04:46:00</td>\n      <td>1981-01-02 04:41:00</td>\n      <td>1981-01-02 04:44:00</td>\n    </tr>\n    <tr>\n      <th>1</th>\n      <td>1981-01-02</td>\n      <td>NaN</td>\n      <td>C</td>\n      <td>1.8</td>\n      <td>&lt;NA&gt;</td>\n      <td>1981-01-02 10:04:00</td>\n      <td>1981-01-02 09:55:00</td>\n      <td>1981-01-02 10:00:00</td>\n    </tr>\n    <tr>\n      <th>2</th>\n      <td>1981-01-03</td>\n      <td>NaN</td>\n      <td>C</td>\n      <td>5.1</td>\n      <td>&lt;NA&gt;</td>\n      <td>1981-01-03 10:36:00</td>\n      <td>1981-01-03 10:25:00</td>\n      <td>1981-01-03 10:30:00</td>\n    </tr>\n    <tr>\n      <th>3</th>\n      <td>1981-01-03</td>\n      <td>NaN</td>\n      <td>C</td>\n      <td>2.2</td>\n      <td>2857</td>\n      <td>1981-01-03 15:58:00</td>\n      <td>1981-01-03 15:49:00</td>\n      <td>1981-01-03 15:53:00</td>\n    </tr>\n    <tr>\n      <th>4</th>\n      <td>1981-01-03</td>\n      <td>NaN</td>\n      <td>C</td>\n      <td>2.2</td>\n      <td>&lt;NA&gt;</td>\n      <td>1981-01-03 18:45:00</td>\n      <td>1981-01-03 18:37:00</td>\n      <td>1981-01-03 18:42:00</td>\n    </tr>\n    <tr>\n      <th>...</th>\n      <td>...</td>\n      <td>...</td>\n      <td>...</td>\n      <td>...</td>\n      <td>...</td>\n      <td>...</td>\n      <td>...</td>\n      <td>...</td>\n    </tr>\n    <tr>\n      <th>71979</th>\n      <td>2017-06-26</td>\n      <td>NaN</td>\n      <td>B</td>\n      <td>1.3</td>\n      <td>&lt;NA&gt;</td>\n      <td>2017-06-26 07:33:00</td>\n      <td>2017-06-26 07:23:00</td>\n      <td>2017-06-26 07:28:00</td>\n    </tr>\n    <tr>\n      <th>71980</th>\n      <td>2017-06-27</td>\n      <td>NaN</td>\n      <td>B</td>\n      <td>1.1</td>\n      <td>&lt;NA&gt;</td>\n      <td>2017-06-27 07:41:00</td>\n      <td>2017-06-27 07:29:00</td>\n      <td>2017-06-27 07:35:00</td>\n    </tr>\n    <tr>\n      <th>71981</th>\n      <td>2017-06-27</td>\n      <td>NaN</td>\n      <td>B</td>\n      <td>1.1</td>\n      <td>&lt;NA&gt;</td>\n      <td>2017-06-27 20:56:00</td>\n      <td>2017-06-27 20:49:00</td>\n      <td>2017-06-27 20:53:00</td>\n    </tr>\n    <tr>\n      <th>71982</th>\n      <td>2017-06-27</td>\n      <td>N19W18</td>\n      <td>B</td>\n      <td>2.6</td>\n      <td>12664</td>\n      <td>2017-06-27 21:19:00</td>\n      <td>2017-06-27 21:09:00</td>\n      <td>2017-06-27 21:15:00</td>\n    </tr>\n    <tr>\n      <th>71983</th>\n      <td>2017-06-28</td>\n      <td>NaN</td>\n      <td>B</td>\n      <td>1.3</td>\n      <td>&lt;NA&gt;</td>\n      <td>2017-06-28 18:35:00</td>\n      <td>2017-06-28 12:27:00</td>\n      <td>2017-06-28 15:24:00</td>\n    </tr>\n  </tbody>\n</table>\n<p>71984 rows × 8 columns</p>\n</div>"
     },
     "execution_count": 22,
     "metadata": {},
     "output_type": "execute_result"
    }
   ],
   "source": [
    "df_old_data['X-ray intensity'] = df_old_data['X-ray intensity'].apply(\n",
    "  lambda x: x / 10 if pd.notna(x) else x)\n",
    "df_old_data"
   ],
   "metadata": {
    "collapsed": false,
    "ExecuteTime": {
     "end_time": "2024-07-31T03:05:30.015487200Z",
     "start_time": "2024-07-31T03:05:29.966965600Z"
    }
   },
   "id": "9e000efc03a85691"
  },
  {
   "cell_type": "code",
   "execution_count": 23,
   "outputs": [
    {
     "data": {
      "text/plain": "            Date X-ray class  X-ray intensity  Region                 End  \\\n0     1981-01-02           C              1.8    <NA> 1981-01-02 04:46:00   \n1     1981-01-02           C              1.8    <NA> 1981-01-02 10:04:00   \n2     1981-01-03           C              5.1    <NA> 1981-01-03 10:36:00   \n3     1981-01-03           C              2.2    2857 1981-01-03 15:58:00   \n4     1981-01-03           C              2.2    <NA> 1981-01-03 18:45:00   \n...          ...         ...              ...     ...                 ...   \n71979 2017-06-26           B              1.3    <NA> 2017-06-26 07:33:00   \n71980 2017-06-27           B              1.1    <NA> 2017-06-27 07:41:00   \n71981 2017-06-27           B              1.1    <NA> 2017-06-27 20:56:00   \n71982 2017-06-27           B              2.6   12664 2017-06-27 21:19:00   \n71983 2017-06-28           B              1.3    <NA> 2017-06-28 18:35:00   \n\n                    Start             Maximum  \n0     1981-01-02 04:41:00 1981-01-02 04:44:00  \n1     1981-01-02 09:55:00 1981-01-02 10:00:00  \n2     1981-01-03 10:25:00 1981-01-03 10:30:00  \n3     1981-01-03 15:49:00 1981-01-03 15:53:00  \n4     1981-01-03 18:37:00 1981-01-03 18:42:00  \n...                   ...                 ...  \n71979 2017-06-26 07:23:00 2017-06-26 07:28:00  \n71980 2017-06-27 07:29:00 2017-06-27 07:35:00  \n71981 2017-06-27 20:49:00 2017-06-27 20:53:00  \n71982 2017-06-27 21:09:00 2017-06-27 21:15:00  \n71983 2017-06-28 12:27:00 2017-06-28 15:24:00  \n\n[71984 rows x 7 columns]",
      "text/html": "<div>\n<style scoped>\n    .dataframe tbody tr th:only-of-type {\n        vertical-align: middle;\n    }\n\n    .dataframe tbody tr th {\n        vertical-align: top;\n    }\n\n    .dataframe thead th {\n        text-align: right;\n    }\n</style>\n<table border=\"1\" class=\"dataframe\">\n  <thead>\n    <tr style=\"text-align: right;\">\n      <th></th>\n      <th>Date</th>\n      <th>X-ray class</th>\n      <th>X-ray intensity</th>\n      <th>Region</th>\n      <th>End</th>\n      <th>Start</th>\n      <th>Maximum</th>\n    </tr>\n  </thead>\n  <tbody>\n    <tr>\n      <th>0</th>\n      <td>1981-01-02</td>\n      <td>C</td>\n      <td>1.8</td>\n      <td>&lt;NA&gt;</td>\n      <td>1981-01-02 04:46:00</td>\n      <td>1981-01-02 04:41:00</td>\n      <td>1981-01-02 04:44:00</td>\n    </tr>\n    <tr>\n      <th>1</th>\n      <td>1981-01-02</td>\n      <td>C</td>\n      <td>1.8</td>\n      <td>&lt;NA&gt;</td>\n      <td>1981-01-02 10:04:00</td>\n      <td>1981-01-02 09:55:00</td>\n      <td>1981-01-02 10:00:00</td>\n    </tr>\n    <tr>\n      <th>2</th>\n      <td>1981-01-03</td>\n      <td>C</td>\n      <td>5.1</td>\n      <td>&lt;NA&gt;</td>\n      <td>1981-01-03 10:36:00</td>\n      <td>1981-01-03 10:25:00</td>\n      <td>1981-01-03 10:30:00</td>\n    </tr>\n    <tr>\n      <th>3</th>\n      <td>1981-01-03</td>\n      <td>C</td>\n      <td>2.2</td>\n      <td>2857</td>\n      <td>1981-01-03 15:58:00</td>\n      <td>1981-01-03 15:49:00</td>\n      <td>1981-01-03 15:53:00</td>\n    </tr>\n    <tr>\n      <th>4</th>\n      <td>1981-01-03</td>\n      <td>C</td>\n      <td>2.2</td>\n      <td>&lt;NA&gt;</td>\n      <td>1981-01-03 18:45:00</td>\n      <td>1981-01-03 18:37:00</td>\n      <td>1981-01-03 18:42:00</td>\n    </tr>\n    <tr>\n      <th>...</th>\n      <td>...</td>\n      <td>...</td>\n      <td>...</td>\n      <td>...</td>\n      <td>...</td>\n      <td>...</td>\n      <td>...</td>\n    </tr>\n    <tr>\n      <th>71979</th>\n      <td>2017-06-26</td>\n      <td>B</td>\n      <td>1.3</td>\n      <td>&lt;NA&gt;</td>\n      <td>2017-06-26 07:33:00</td>\n      <td>2017-06-26 07:23:00</td>\n      <td>2017-06-26 07:28:00</td>\n    </tr>\n    <tr>\n      <th>71980</th>\n      <td>2017-06-27</td>\n      <td>B</td>\n      <td>1.1</td>\n      <td>&lt;NA&gt;</td>\n      <td>2017-06-27 07:41:00</td>\n      <td>2017-06-27 07:29:00</td>\n      <td>2017-06-27 07:35:00</td>\n    </tr>\n    <tr>\n      <th>71981</th>\n      <td>2017-06-27</td>\n      <td>B</td>\n      <td>1.1</td>\n      <td>&lt;NA&gt;</td>\n      <td>2017-06-27 20:56:00</td>\n      <td>2017-06-27 20:49:00</td>\n      <td>2017-06-27 20:53:00</td>\n    </tr>\n    <tr>\n      <th>71982</th>\n      <td>2017-06-27</td>\n      <td>B</td>\n      <td>2.6</td>\n      <td>12664</td>\n      <td>2017-06-27 21:19:00</td>\n      <td>2017-06-27 21:09:00</td>\n      <td>2017-06-27 21:15:00</td>\n    </tr>\n    <tr>\n      <th>71983</th>\n      <td>2017-06-28</td>\n      <td>B</td>\n      <td>1.3</td>\n      <td>&lt;NA&gt;</td>\n      <td>2017-06-28 18:35:00</td>\n      <td>2017-06-28 12:27:00</td>\n      <td>2017-06-28 15:24:00</td>\n    </tr>\n  </tbody>\n</table>\n<p>71984 rows × 7 columns</p>\n</div>"
     },
     "execution_count": 23,
     "metadata": {},
     "output_type": "execute_result"
    }
   ],
   "source": [
    "df_old_data.drop(['Region'], axis=1, inplace=True)\n",
    "df_old_data = df_old_data.rename(columns={'NOAA Sunspot Group Number': 'Region',\n",
    "                                          'Start Time': 'Start',\n",
    "                                          'End Time': 'End',\n",
    "                                          'Max Time': 'Maximum',})\n",
    "df_old_data"
   ],
   "metadata": {
    "collapsed": false,
    "ExecuteTime": {
     "end_time": "2024-07-31T03:05:31.363164900Z",
     "start_time": "2024-07-31T03:05:31.300249Z"
    }
   },
   "id": "ec06927bd1fbe6d9"
  },
  {
   "cell_type": "code",
   "execution_count": 24,
   "outputs": [
    {
     "data": {
      "text/plain": "            Date Region               Start             Maximum  \\\n0     1996-07-31      - 1996-07-31 01:32:00 1996-07-31 01:36:00   \n1     1996-07-31      - 1996-07-31 02:22:00 1996-07-31 02:25:00   \n2     1996-07-31      - 1996-07-31 07:00:00 1996-07-31 07:03:00   \n3     1996-07-31   7981 1996-07-31 08:29:00 1996-07-31 08:35:00   \n4     1996-07-31      - 1996-07-31 11:14:00 1996-07-31 11:17:00   \n...          ...    ...                 ...                 ...   \n48859 2024-06-30  13731 2024-06-30 04:28:00 2024-06-30 04:34:00   \n48860 2024-06-30  13734 2024-06-30 05:48:00 2024-06-30 06:18:00   \n48861 2024-06-30  13727 2024-06-30 20:56:00 2024-06-30 21:03:00   \n48862 2024-06-30  13729 2024-06-30 22:19:00 2024-06-30 22:28:00   \n48863 2024-06-30  13729 2024-06-30 23:29:00 2024-06-30 23:39:00   \n\n                      End X-ray class  X-ray intensity  \n0     1996-07-31 01:38:00           B             1.71  \n1     1996-07-31 02:27:00           B             1.70  \n2     1996-07-31 07:05:00           B             1.60  \n3     1996-07-31 08:40:00           B             2.70  \n4     1996-07-31 11:24:00           B             1.96  \n...                   ...         ...              ...  \n48859 2024-06-30 04:39:00           C             2.00  \n48860 2024-06-30 06:39:00           C             3.80  \n48861 2024-06-30 21:10:00           C             2.80  \n48862 2024-06-30 22:37:00           C             2.30  \n48863 2024-06-30 23:55:00           C             2.20  \n\n[48864 rows x 7 columns]",
      "text/html": "<div>\n<style scoped>\n    .dataframe tbody tr th:only-of-type {\n        vertical-align: middle;\n    }\n\n    .dataframe tbody tr th {\n        vertical-align: top;\n    }\n\n    .dataframe thead th {\n        text-align: right;\n    }\n</style>\n<table border=\"1\" class=\"dataframe\">\n  <thead>\n    <tr style=\"text-align: right;\">\n      <th></th>\n      <th>Date</th>\n      <th>Region</th>\n      <th>Start</th>\n      <th>Maximum</th>\n      <th>End</th>\n      <th>X-ray class</th>\n      <th>X-ray intensity</th>\n    </tr>\n  </thead>\n  <tbody>\n    <tr>\n      <th>0</th>\n      <td>1996-07-31</td>\n      <td>-</td>\n      <td>1996-07-31 01:32:00</td>\n      <td>1996-07-31 01:36:00</td>\n      <td>1996-07-31 01:38:00</td>\n      <td>B</td>\n      <td>1.71</td>\n    </tr>\n    <tr>\n      <th>1</th>\n      <td>1996-07-31</td>\n      <td>-</td>\n      <td>1996-07-31 02:22:00</td>\n      <td>1996-07-31 02:25:00</td>\n      <td>1996-07-31 02:27:00</td>\n      <td>B</td>\n      <td>1.70</td>\n    </tr>\n    <tr>\n      <th>2</th>\n      <td>1996-07-31</td>\n      <td>-</td>\n      <td>1996-07-31 07:00:00</td>\n      <td>1996-07-31 07:03:00</td>\n      <td>1996-07-31 07:05:00</td>\n      <td>B</td>\n      <td>1.60</td>\n    </tr>\n    <tr>\n      <th>3</th>\n      <td>1996-07-31</td>\n      <td>7981</td>\n      <td>1996-07-31 08:29:00</td>\n      <td>1996-07-31 08:35:00</td>\n      <td>1996-07-31 08:40:00</td>\n      <td>B</td>\n      <td>2.70</td>\n    </tr>\n    <tr>\n      <th>4</th>\n      <td>1996-07-31</td>\n      <td>-</td>\n      <td>1996-07-31 11:14:00</td>\n      <td>1996-07-31 11:17:00</td>\n      <td>1996-07-31 11:24:00</td>\n      <td>B</td>\n      <td>1.96</td>\n    </tr>\n    <tr>\n      <th>...</th>\n      <td>...</td>\n      <td>...</td>\n      <td>...</td>\n      <td>...</td>\n      <td>...</td>\n      <td>...</td>\n      <td>...</td>\n    </tr>\n    <tr>\n      <th>48859</th>\n      <td>2024-06-30</td>\n      <td>13731</td>\n      <td>2024-06-30 04:28:00</td>\n      <td>2024-06-30 04:34:00</td>\n      <td>2024-06-30 04:39:00</td>\n      <td>C</td>\n      <td>2.00</td>\n    </tr>\n    <tr>\n      <th>48860</th>\n      <td>2024-06-30</td>\n      <td>13734</td>\n      <td>2024-06-30 05:48:00</td>\n      <td>2024-06-30 06:18:00</td>\n      <td>2024-06-30 06:39:00</td>\n      <td>C</td>\n      <td>3.80</td>\n    </tr>\n    <tr>\n      <th>48861</th>\n      <td>2024-06-30</td>\n      <td>13727</td>\n      <td>2024-06-30 20:56:00</td>\n      <td>2024-06-30 21:03:00</td>\n      <td>2024-06-30 21:10:00</td>\n      <td>C</td>\n      <td>2.80</td>\n    </tr>\n    <tr>\n      <th>48862</th>\n      <td>2024-06-30</td>\n      <td>13729</td>\n      <td>2024-06-30 22:19:00</td>\n      <td>2024-06-30 22:28:00</td>\n      <td>2024-06-30 22:37:00</td>\n      <td>C</td>\n      <td>2.30</td>\n    </tr>\n    <tr>\n      <th>48863</th>\n      <td>2024-06-30</td>\n      <td>13729</td>\n      <td>2024-06-30 23:29:00</td>\n      <td>2024-06-30 23:39:00</td>\n      <td>2024-06-30 23:55:00</td>\n      <td>C</td>\n      <td>2.20</td>\n    </tr>\n  </tbody>\n</table>\n<p>48864 rows × 7 columns</p>\n</div>"
     },
     "execution_count": 24,
     "metadata": {},
     "output_type": "execute_result"
    }
   ],
   "source": [
    "df[['X-ray class', 'X-ray intensity']] = df['Flux'].str.extract(r'([A-Za-z]+)([0-9.]+)')\n",
    "df['X-ray intensity'] = df['X-ray intensity'].astype(float)\n",
    "df.drop(columns=['Flux'], inplace=True)\n",
    "df"
   ],
   "metadata": {
    "collapsed": false,
    "ExecuteTime": {
     "end_time": "2024-07-31T03:05:34.538127500Z",
     "start_time": "2024-07-31T03:05:34.469890Z"
    }
   },
   "id": "238703c232c95fd9"
  },
  {
   "cell_type": "code",
   "execution_count": 25,
   "outputs": [],
   "source": [
    "df_old_data = df_old_data[['Date', 'Region', 'X-ray class', 'X-ray intensity', 'Start', 'End', 'Maximum']]\n",
    "df = df[['Date', 'Region', 'X-ray class', 'X-ray intensity', 'Start', 'End', 'Maximum']]"
   ],
   "metadata": {
    "collapsed": false,
    "ExecuteTime": {
     "end_time": "2024-07-31T03:05:36.184529Z",
     "start_time": "2024-07-31T03:05:36.172534600Z"
    }
   },
   "id": "e87c086dd5b72949"
  },
  {
   "cell_type": "code",
   "execution_count": 26,
   "outputs": [
    {
     "data": {
      "text/plain": "{'Date': {pandas._libs.tslibs.timestamps.Timestamp},\n 'Region': {str},\n 'X-ray class': {str},\n 'X-ray intensity': {float},\n 'Start': {pandas._libs.tslibs.timestamps.Timestamp},\n 'End': {pandas._libs.tslibs.timestamps.Timestamp},\n 'Maximum': {pandas._libs.tslibs.timestamps.Timestamp}}"
     },
     "execution_count": 26,
     "metadata": {},
     "output_type": "execute_result"
    }
   ],
   "source": [
    "get_all_unique_types(df)"
   ],
   "metadata": {
    "collapsed": false,
    "ExecuteTime": {
     "end_time": "2024-07-31T03:05:37.655251Z",
     "start_time": "2024-07-31T03:05:37.514203700Z"
    }
   },
   "id": "7342267a75cef965"
  },
  {
   "cell_type": "code",
   "execution_count": 27,
   "outputs": [
    {
     "data": {
      "text/plain": "{'Date': {pandas._libs.tslibs.timestamps.Timestamp},\n 'Region': {float},\n 'X-ray class': {float, str},\n 'X-ray intensity': {float},\n 'Start': {pandas._libs.tslibs.timestamps.Timestamp},\n 'End': {pandas._libs.tslibs.timestamps.Timestamp},\n 'Maximum': {pandas._libs.tslibs.timestamps.Timestamp}}"
     },
     "execution_count": 27,
     "metadata": {},
     "output_type": "execute_result"
    }
   ],
   "source": [
    "get_all_unique_types(df_old_data)"
   ],
   "metadata": {
    "collapsed": false,
    "ExecuteTime": {
     "end_time": "2024-07-31T03:05:38.166652100Z",
     "start_time": "2024-07-31T03:05:37.977451700Z"
    }
   },
   "id": "ddd1d4c9f9110a10"
  },
  {
   "cell_type": "code",
   "execution_count": 31,
   "outputs": [
    {
     "data": {
      "text/plain": "<IntegerArray>\n[ <NA>,  2857,  2866,  2872,  2875,  2868,  2874,  2880,  2883,  2882,\n ...\n 12651, 12653, 12652, 12655, 12658, 12660, 12659, 12661, 12663, 12664]\nLength: 4569, dtype: Int64"
     },
     "execution_count": 31,
     "metadata": {},
     "output_type": "execute_result"
    }
   ],
   "source": [
    "df_old_data['Region'].unique()"
   ],
   "metadata": {
    "collapsed": false,
    "ExecuteTime": {
     "end_time": "2024-07-31T03:06:04.379373800Z",
     "start_time": "2024-07-31T03:06:04.359264Z"
    }
   },
   "id": "8ad9d408d9153a6"
  },
  {
   "cell_type": "code",
   "execution_count": 44,
   "outputs": [
    {
     "data": {
      "text/plain": "{str}"
     },
     "execution_count": 44,
     "metadata": {},
     "output_type": "execute_result"
    }
   ],
   "source": [
    "df_old_data['Region'] = df_old_data['Region'].apply(lambda x: str(int(x)) if pd.notna(x) else '-')\n",
    "get_unique_types_of_col(df_old_data['Region'])"
   ],
   "metadata": {
    "collapsed": false,
    "ExecuteTime": {
     "end_time": "2024-07-31T03:14:38.688556600Z",
     "start_time": "2024-07-31T03:14:38.655473500Z"
    }
   },
   "id": "f2c9c29b0cc53ce4"
  },
  {
   "cell_type": "code",
   "execution_count": 46,
   "outputs": [
    {
     "data": {
      "text/plain": "            Date Region X-ray class  X-ray intensity               Start  \\\n0     1981-01-02      -           C              1.8 1981-01-02 04:41:00   \n1     1981-01-02      -           C              1.8 1981-01-02 09:55:00   \n2     1981-01-03      -           C              5.1 1981-01-03 10:25:00   \n3     1981-01-03   2857           C              2.2 1981-01-03 15:49:00   \n4     1981-01-03      -           C              2.2 1981-01-03 18:37:00   \n...          ...    ...         ...              ...                 ...   \n35215 1996-07-13      -           B              1.1 1996-07-13 20:45:00   \n35216 1996-07-14      -           B              2.3 1996-07-14 07:10:00   \n35217 1996-07-14      -           B              2.5 1996-07-14 08:31:00   \n35218 1996-07-14      -           B              1.0 1996-07-14 11:56:00   \n35219 1996-07-14      -           C              1.6 1996-07-14 13:30:00   \n\n                      End             Maximum  \n0     1981-01-02 04:46:00 1981-01-02 04:44:00  \n1     1981-01-02 10:04:00 1981-01-02 10:00:00  \n2     1981-01-03 10:36:00 1981-01-03 10:30:00  \n3     1981-01-03 15:58:00 1981-01-03 15:53:00  \n4     1981-01-03 18:45:00 1981-01-03 18:42:00  \n...                   ...                 ...  \n35215 1996-07-13 20:56:00 1996-07-13 20:49:00  \n35216 1996-07-14 07:29:00 1996-07-14 07:19:00  \n35217 1996-07-14 08:53:00 1996-07-14 08:42:00  \n35218 1996-07-14 12:10:00 1996-07-14 11:59:00  \n35219 1996-07-14 15:07:00 1996-07-14 15:00:00  \n\n[35220 rows x 7 columns]",
      "text/html": "<div>\n<style scoped>\n    .dataframe tbody tr th:only-of-type {\n        vertical-align: middle;\n    }\n\n    .dataframe tbody tr th {\n        vertical-align: top;\n    }\n\n    .dataframe thead th {\n        text-align: right;\n    }\n</style>\n<table border=\"1\" class=\"dataframe\">\n  <thead>\n    <tr style=\"text-align: right;\">\n      <th></th>\n      <th>Date</th>\n      <th>Region</th>\n      <th>X-ray class</th>\n      <th>X-ray intensity</th>\n      <th>Start</th>\n      <th>End</th>\n      <th>Maximum</th>\n    </tr>\n  </thead>\n  <tbody>\n    <tr>\n      <th>0</th>\n      <td>1981-01-02</td>\n      <td>-</td>\n      <td>C</td>\n      <td>1.8</td>\n      <td>1981-01-02 04:41:00</td>\n      <td>1981-01-02 04:46:00</td>\n      <td>1981-01-02 04:44:00</td>\n    </tr>\n    <tr>\n      <th>1</th>\n      <td>1981-01-02</td>\n      <td>-</td>\n      <td>C</td>\n      <td>1.8</td>\n      <td>1981-01-02 09:55:00</td>\n      <td>1981-01-02 10:04:00</td>\n      <td>1981-01-02 10:00:00</td>\n    </tr>\n    <tr>\n      <th>2</th>\n      <td>1981-01-03</td>\n      <td>-</td>\n      <td>C</td>\n      <td>5.1</td>\n      <td>1981-01-03 10:25:00</td>\n      <td>1981-01-03 10:36:00</td>\n      <td>1981-01-03 10:30:00</td>\n    </tr>\n    <tr>\n      <th>3</th>\n      <td>1981-01-03</td>\n      <td>2857</td>\n      <td>C</td>\n      <td>2.2</td>\n      <td>1981-01-03 15:49:00</td>\n      <td>1981-01-03 15:58:00</td>\n      <td>1981-01-03 15:53:00</td>\n    </tr>\n    <tr>\n      <th>4</th>\n      <td>1981-01-03</td>\n      <td>-</td>\n      <td>C</td>\n      <td>2.2</td>\n      <td>1981-01-03 18:37:00</td>\n      <td>1981-01-03 18:45:00</td>\n      <td>1981-01-03 18:42:00</td>\n    </tr>\n    <tr>\n      <th>...</th>\n      <td>...</td>\n      <td>...</td>\n      <td>...</td>\n      <td>...</td>\n      <td>...</td>\n      <td>...</td>\n      <td>...</td>\n    </tr>\n    <tr>\n      <th>35215</th>\n      <td>1996-07-13</td>\n      <td>-</td>\n      <td>B</td>\n      <td>1.1</td>\n      <td>1996-07-13 20:45:00</td>\n      <td>1996-07-13 20:56:00</td>\n      <td>1996-07-13 20:49:00</td>\n    </tr>\n    <tr>\n      <th>35216</th>\n      <td>1996-07-14</td>\n      <td>-</td>\n      <td>B</td>\n      <td>2.3</td>\n      <td>1996-07-14 07:10:00</td>\n      <td>1996-07-14 07:29:00</td>\n      <td>1996-07-14 07:19:00</td>\n    </tr>\n    <tr>\n      <th>35217</th>\n      <td>1996-07-14</td>\n      <td>-</td>\n      <td>B</td>\n      <td>2.5</td>\n      <td>1996-07-14 08:31:00</td>\n      <td>1996-07-14 08:53:00</td>\n      <td>1996-07-14 08:42:00</td>\n    </tr>\n    <tr>\n      <th>35218</th>\n      <td>1996-07-14</td>\n      <td>-</td>\n      <td>B</td>\n      <td>1.0</td>\n      <td>1996-07-14 11:56:00</td>\n      <td>1996-07-14 12:10:00</td>\n      <td>1996-07-14 11:59:00</td>\n    </tr>\n    <tr>\n      <th>35219</th>\n      <td>1996-07-14</td>\n      <td>-</td>\n      <td>C</td>\n      <td>1.6</td>\n      <td>1996-07-14 13:30:00</td>\n      <td>1996-07-14 15:07:00</td>\n      <td>1996-07-14 15:00:00</td>\n    </tr>\n  </tbody>\n</table>\n<p>35220 rows × 7 columns</p>\n</div>"
     },
     "execution_count": 46,
     "metadata": {},
     "output_type": "execute_result"
    }
   ],
   "source": [
    "old_data_before_1996 = df_old_data[df_old_data['Date'] < '1996-07-31']\n",
    "# old_data_before_1996['Region'] = old_data_before_1996['Region'].astype('string').fillna('-')\n",
    "old_data_before_1996"
   ],
   "metadata": {
    "collapsed": false,
    "ExecuteTime": {
     "end_time": "2024-07-31T03:15:26.803471700Z",
     "start_time": "2024-07-31T03:15:26.762925900Z"
    }
   },
   "id": "afdb62a9c6be0965"
  },
  {
   "cell_type": "code",
   "execution_count": 47,
   "outputs": [
    {
     "data": {
      "text/plain": "            Date Region X-ray class  X-ray intensity               Start  \\\n0     1981-01-02      -           C              1.8 1981-01-02 04:41:00   \n1     1981-01-02      -           C              1.8 1981-01-02 09:55:00   \n2     1981-01-03      -           C              5.1 1981-01-03 10:25:00   \n3     1981-01-03   2857           C              2.2 1981-01-03 15:49:00   \n4     1981-01-03      -           C              2.2 1981-01-03 18:37:00   \n...          ...    ...         ...              ...                 ...   \n84079 2024-06-30  13731           C              2.0 2024-06-30 04:28:00   \n84080 2024-06-30  13734           C              3.8 2024-06-30 05:48:00   \n84081 2024-06-30  13727           C              2.8 2024-06-30 20:56:00   \n84082 2024-06-30  13729           C              2.3 2024-06-30 22:19:00   \n84083 2024-06-30  13729           C              2.2 2024-06-30 23:29:00   \n\n                      End             Maximum  \n0     1981-01-02 04:46:00 1981-01-02 04:44:00  \n1     1981-01-02 10:04:00 1981-01-02 10:00:00  \n2     1981-01-03 10:36:00 1981-01-03 10:30:00  \n3     1981-01-03 15:58:00 1981-01-03 15:53:00  \n4     1981-01-03 18:45:00 1981-01-03 18:42:00  \n...                   ...                 ...  \n84079 2024-06-30 04:39:00 2024-06-30 04:34:00  \n84080 2024-06-30 06:39:00 2024-06-30 06:18:00  \n84081 2024-06-30 21:10:00 2024-06-30 21:03:00  \n84082 2024-06-30 22:37:00 2024-06-30 22:28:00  \n84083 2024-06-30 23:55:00 2024-06-30 23:39:00  \n\n[84084 rows x 7 columns]",
      "text/html": "<div>\n<style scoped>\n    .dataframe tbody tr th:only-of-type {\n        vertical-align: middle;\n    }\n\n    .dataframe tbody tr th {\n        vertical-align: top;\n    }\n\n    .dataframe thead th {\n        text-align: right;\n    }\n</style>\n<table border=\"1\" class=\"dataframe\">\n  <thead>\n    <tr style=\"text-align: right;\">\n      <th></th>\n      <th>Date</th>\n      <th>Region</th>\n      <th>X-ray class</th>\n      <th>X-ray intensity</th>\n      <th>Start</th>\n      <th>End</th>\n      <th>Maximum</th>\n    </tr>\n  </thead>\n  <tbody>\n    <tr>\n      <th>0</th>\n      <td>1981-01-02</td>\n      <td>-</td>\n      <td>C</td>\n      <td>1.8</td>\n      <td>1981-01-02 04:41:00</td>\n      <td>1981-01-02 04:46:00</td>\n      <td>1981-01-02 04:44:00</td>\n    </tr>\n    <tr>\n      <th>1</th>\n      <td>1981-01-02</td>\n      <td>-</td>\n      <td>C</td>\n      <td>1.8</td>\n      <td>1981-01-02 09:55:00</td>\n      <td>1981-01-02 10:04:00</td>\n      <td>1981-01-02 10:00:00</td>\n    </tr>\n    <tr>\n      <th>2</th>\n      <td>1981-01-03</td>\n      <td>-</td>\n      <td>C</td>\n      <td>5.1</td>\n      <td>1981-01-03 10:25:00</td>\n      <td>1981-01-03 10:36:00</td>\n      <td>1981-01-03 10:30:00</td>\n    </tr>\n    <tr>\n      <th>3</th>\n      <td>1981-01-03</td>\n      <td>2857</td>\n      <td>C</td>\n      <td>2.2</td>\n      <td>1981-01-03 15:49:00</td>\n      <td>1981-01-03 15:58:00</td>\n      <td>1981-01-03 15:53:00</td>\n    </tr>\n    <tr>\n      <th>4</th>\n      <td>1981-01-03</td>\n      <td>-</td>\n      <td>C</td>\n      <td>2.2</td>\n      <td>1981-01-03 18:37:00</td>\n      <td>1981-01-03 18:45:00</td>\n      <td>1981-01-03 18:42:00</td>\n    </tr>\n    <tr>\n      <th>...</th>\n      <td>...</td>\n      <td>...</td>\n      <td>...</td>\n      <td>...</td>\n      <td>...</td>\n      <td>...</td>\n      <td>...</td>\n    </tr>\n    <tr>\n      <th>84079</th>\n      <td>2024-06-30</td>\n      <td>13731</td>\n      <td>C</td>\n      <td>2.0</td>\n      <td>2024-06-30 04:28:00</td>\n      <td>2024-06-30 04:39:00</td>\n      <td>2024-06-30 04:34:00</td>\n    </tr>\n    <tr>\n      <th>84080</th>\n      <td>2024-06-30</td>\n      <td>13734</td>\n      <td>C</td>\n      <td>3.8</td>\n      <td>2024-06-30 05:48:00</td>\n      <td>2024-06-30 06:39:00</td>\n      <td>2024-06-30 06:18:00</td>\n    </tr>\n    <tr>\n      <th>84081</th>\n      <td>2024-06-30</td>\n      <td>13727</td>\n      <td>C</td>\n      <td>2.8</td>\n      <td>2024-06-30 20:56:00</td>\n      <td>2024-06-30 21:10:00</td>\n      <td>2024-06-30 21:03:00</td>\n    </tr>\n    <tr>\n      <th>84082</th>\n      <td>2024-06-30</td>\n      <td>13729</td>\n      <td>C</td>\n      <td>2.3</td>\n      <td>2024-06-30 22:19:00</td>\n      <td>2024-06-30 22:37:00</td>\n      <td>2024-06-30 22:28:00</td>\n    </tr>\n    <tr>\n      <th>84083</th>\n      <td>2024-06-30</td>\n      <td>13729</td>\n      <td>C</td>\n      <td>2.2</td>\n      <td>2024-06-30 23:29:00</td>\n      <td>2024-06-30 23:55:00</td>\n      <td>2024-06-30 23:39:00</td>\n    </tr>\n  </tbody>\n</table>\n<p>84084 rows × 7 columns</p>\n</div>"
     },
     "execution_count": 47,
     "metadata": {},
     "output_type": "execute_result"
    }
   ],
   "source": [
    "df = pd.concat([old_data_before_1996, df], ignore_index=True)\n",
    "df"
   ],
   "metadata": {
    "collapsed": false,
    "ExecuteTime": {
     "end_time": "2024-07-31T03:15:29.340033400Z",
     "start_time": "2024-07-31T03:15:29.284082900Z"
    }
   },
   "id": "6867464ae9629f28"
  },
  {
   "cell_type": "code",
   "execution_count": 48,
   "outputs": [],
   "source": [
    "df.to_csv('../data/flares-processed.csv', index=False)"
   ],
   "metadata": {
    "collapsed": false,
    "ExecuteTime": {
     "end_time": "2024-07-31T03:15:32.069238500Z",
     "start_time": "2024-07-31T03:15:31.817905900Z"
    }
   },
   "id": "46f4d41a7b01c956"
  }
 ],
 "metadata": {
  "kernelspec": {
   "display_name": "Python 3",
   "language": "python",
   "name": "python3"
  },
  "language_info": {
   "codemirror_mode": {
    "name": "ipython",
    "version": 2
   },
   "file_extension": ".py",
   "mimetype": "text/x-python",
   "name": "python",
   "nbconvert_exporter": "python",
   "pygments_lexer": "ipython2",
   "version": "2.7.6"
  }
 },
 "nbformat": 4,
 "nbformat_minor": 5
}
