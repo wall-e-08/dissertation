{
 "cells": [
  {
   "cell_type": "code",
   "execution_count": 1,
   "id": "initial_id",
   "metadata": {
    "collapsed": true,
    "ExecuteTime": {
     "end_time": "2024-07-31T02:37:52.810813800Z",
     "start_time": "2024-07-31T02:37:52.398055300Z"
    }
   },
   "outputs": [],
   "source": [
    "import numpy as np\n",
    "import pandas as pd\n",
    "import re\n",
    "\n",
    "from utils.data import get_unique_types_of_col, get_null_counts, get_all_unique_types"
   ]
  },
  {
   "cell_type": "code",
   "execution_count": 2,
   "outputs": [
    {
     "data": {
      "text/plain": "             Date  Region  Sunspot Number  Size Magnetic Classification  \\\n0      1996-06-04    7968               3     0            region_mag A   \n1      1996-06-05    7968               2    10            region_mag B   \n2      1996-06-05    7969               1     0            region_mag A   \n3      1996-06-06    7968               4    20            region_mag B   \n4      1996-06-06    7969               4    10            region_mag B   \n...           ...     ...             ...   ...                     ...   \n39856  2024-06-30   13731               1    10            region_mag A   \n39857  2024-06-30   13732               4    30            region_mag B   \n39858  2024-06-30   13733               4    40            region_mag B   \n39859  2024-06-30   13734               4    60            region_mag B   \n39860  2024-06-30   13735               1    60            region_mag A   \n\n      Sunspot Classification Location  \n0                        AXX   N02E41  \n1                        BXO   N02E28  \n2                        AXX   N09W33  \n3                        CRO   N03E12  \n4                        BXO   N08W44  \n...                      ...      ...  \n39856                    AXX   S16E21  \n39857                    CAO   S18W14  \n39858                    DAO   N05E13  \n39859                    DAO   N07E53  \n39860                    HSX   N17E61  \n\n[39861 rows x 7 columns]",
      "text/html": "<div>\n<style scoped>\n    .dataframe tbody tr th:only-of-type {\n        vertical-align: middle;\n    }\n\n    .dataframe tbody tr th {\n        vertical-align: top;\n    }\n\n    .dataframe thead th {\n        text-align: right;\n    }\n</style>\n<table border=\"1\" class=\"dataframe\">\n  <thead>\n    <tr style=\"text-align: right;\">\n      <th></th>\n      <th>Date</th>\n      <th>Region</th>\n      <th>Sunspot Number</th>\n      <th>Size</th>\n      <th>Magnetic Classification</th>\n      <th>Sunspot Classification</th>\n      <th>Location</th>\n    </tr>\n  </thead>\n  <tbody>\n    <tr>\n      <th>0</th>\n      <td>1996-06-04</td>\n      <td>7968</td>\n      <td>3</td>\n      <td>0</td>\n      <td>region_mag A</td>\n      <td>AXX</td>\n      <td>N02E41</td>\n    </tr>\n    <tr>\n      <th>1</th>\n      <td>1996-06-05</td>\n      <td>7968</td>\n      <td>2</td>\n      <td>10</td>\n      <td>region_mag B</td>\n      <td>BXO</td>\n      <td>N02E28</td>\n    </tr>\n    <tr>\n      <th>2</th>\n      <td>1996-06-05</td>\n      <td>7969</td>\n      <td>1</td>\n      <td>0</td>\n      <td>region_mag A</td>\n      <td>AXX</td>\n      <td>N09W33</td>\n    </tr>\n    <tr>\n      <th>3</th>\n      <td>1996-06-06</td>\n      <td>7968</td>\n      <td>4</td>\n      <td>20</td>\n      <td>region_mag B</td>\n      <td>CRO</td>\n      <td>N03E12</td>\n    </tr>\n    <tr>\n      <th>4</th>\n      <td>1996-06-06</td>\n      <td>7969</td>\n      <td>4</td>\n      <td>10</td>\n      <td>region_mag B</td>\n      <td>BXO</td>\n      <td>N08W44</td>\n    </tr>\n    <tr>\n      <th>...</th>\n      <td>...</td>\n      <td>...</td>\n      <td>...</td>\n      <td>...</td>\n      <td>...</td>\n      <td>...</td>\n      <td>...</td>\n    </tr>\n    <tr>\n      <th>39856</th>\n      <td>2024-06-30</td>\n      <td>13731</td>\n      <td>1</td>\n      <td>10</td>\n      <td>region_mag A</td>\n      <td>AXX</td>\n      <td>S16E21</td>\n    </tr>\n    <tr>\n      <th>39857</th>\n      <td>2024-06-30</td>\n      <td>13732</td>\n      <td>4</td>\n      <td>30</td>\n      <td>region_mag B</td>\n      <td>CAO</td>\n      <td>S18W14</td>\n    </tr>\n    <tr>\n      <th>39858</th>\n      <td>2024-06-30</td>\n      <td>13733</td>\n      <td>4</td>\n      <td>40</td>\n      <td>region_mag B</td>\n      <td>DAO</td>\n      <td>N05E13</td>\n    </tr>\n    <tr>\n      <th>39859</th>\n      <td>2024-06-30</td>\n      <td>13734</td>\n      <td>4</td>\n      <td>60</td>\n      <td>region_mag B</td>\n      <td>DAO</td>\n      <td>N07E53</td>\n    </tr>\n    <tr>\n      <th>39860</th>\n      <td>2024-06-30</td>\n      <td>13735</td>\n      <td>1</td>\n      <td>60</td>\n      <td>region_mag A</td>\n      <td>HSX</td>\n      <td>N17E61</td>\n    </tr>\n  </tbody>\n</table>\n<p>39861 rows × 7 columns</p>\n</div>"
     },
     "execution_count": 2,
     "metadata": {},
     "output_type": "execute_result"
    }
   ],
   "source": [
    "df = pd.read_csv('../data/dayobs.csv')\n",
    "df"
   ],
   "metadata": {
    "collapsed": false,
    "ExecuteTime": {
     "end_time": "2024-07-31T02:37:53.600697Z",
     "start_time": "2024-07-31T02:37:53.558640Z"
    }
   },
   "id": "8323ece9a781eb4"
  },
  {
   "cell_type": "code",
   "execution_count": 3,
   "outputs": [
    {
     "data": {
      "text/plain": "array(['region_mag A', 'region_mag B', 'region_mag BGD', 'region_mag BG',\n       'region_mag BD', 'region_mag GD', 'region_mag G', 'region_mag'],\n      dtype=object)"
     },
     "execution_count": 3,
     "metadata": {},
     "output_type": "execute_result"
    }
   ],
   "source": [
    "df['Magnetic Classification'].unique()"
   ],
   "metadata": {
    "collapsed": false,
    "ExecuteTime": {
     "end_time": "2024-07-31T02:37:54.413671100Z",
     "start_time": "2024-07-31T02:37:54.410652Z"
    }
   },
   "id": "4a6eee9b64c62141"
  },
  {
   "cell_type": "code",
   "execution_count": 4,
   "outputs": [
    {
     "data": {
      "text/plain": "array(['A', 'B', 'BGD', 'BG', 'BD', 'GD', 'G', ''], dtype=object)"
     },
     "execution_count": 4,
     "metadata": {},
     "output_type": "execute_result"
    }
   ],
   "source": [
    "def update_magnetic_classification(_old):\n",
    "  return _old.replace('region_mag ', '').replace('region_mag', '')\n",
    "\n",
    "df['Magnetic Classification'] = df['Magnetic Classification'].apply(update_magnetic_classification)\n",
    "df['Magnetic Classification'].unique()"
   ],
   "metadata": {
    "collapsed": false,
    "ExecuteTime": {
     "end_time": "2024-07-31T02:37:54.680134700Z",
     "start_time": "2024-07-31T02:37:54.676127900Z"
    }
   },
   "id": "13310211be503730"
  },
  {
   "cell_type": "code",
   "execution_count": 5,
   "outputs": [
    {
     "data": {
      "text/plain": "array([1996, 1997, 1998, 1999, 2000, 2001, 2002, 2003, 2004, 2005, 2006,\n       2007, 2008, 2009, 2010, 2011, 2012, 2013, 2014, 2015, 2016, 2017,\n       2018, 2019, 2020, 2021, 2022, 2023, 2024], dtype=int32)"
     },
     "execution_count": 5,
     "metadata": {},
     "output_type": "execute_result"
    }
   ],
   "source": [
    "df['Date'] = pd.to_datetime(df['Date'])\n",
    "df['Date'].dt.year.unique()"
   ],
   "metadata": {
    "collapsed": false,
    "ExecuteTime": {
     "end_time": "2024-07-31T02:37:54.937114900Z",
     "start_time": "2024-07-31T02:37:54.919107900Z"
    }
   },
   "id": "8e5f2ccc64ef57e"
  },
  {
   "cell_type": "code",
   "execution_count": 6,
   "outputs": [
    {
     "data": {
      "text/plain": "            Date  Region  Sunspot Number  Size Magnetic Classification  \\\n0     1996-06-04    7968               3     0                       A   \n1     1996-06-05    7968               2    10                       B   \n2     1996-06-05    7969               1     0                       A   \n3     1996-06-06    7968               4    20                       B   \n4     1996-06-06    7969               4    10                       B   \n...          ...     ...             ...   ...                     ...   \n39856 2024-06-30   13731               1    10                       A   \n39857 2024-06-30   13732               4    30                       B   \n39858 2024-06-30   13733               4    40                       B   \n39859 2024-06-30   13734               4    60                       B   \n39860 2024-06-30   13735               1    60                       A   \n\n      Location Zurich Class Penumbra Class Compactness Class  \n0       N02E41            A              X                 X  \n1       N02E28            B              X                 O  \n2       N09W33            A              X                 X  \n3       N03E12            C              R                 O  \n4       N08W44            B              X                 O  \n...        ...          ...            ...               ...  \n39856   S16E21            A              X                 X  \n39857   S18W14            C              A                 O  \n39858   N05E13            D              A                 O  \n39859   N07E53            D              A                 O  \n39860   N17E61            H              S                 X  \n\n[39861 rows x 9 columns]",
      "text/html": "<div>\n<style scoped>\n    .dataframe tbody tr th:only-of-type {\n        vertical-align: middle;\n    }\n\n    .dataframe tbody tr th {\n        vertical-align: top;\n    }\n\n    .dataframe thead th {\n        text-align: right;\n    }\n</style>\n<table border=\"1\" class=\"dataframe\">\n  <thead>\n    <tr style=\"text-align: right;\">\n      <th></th>\n      <th>Date</th>\n      <th>Region</th>\n      <th>Sunspot Number</th>\n      <th>Size</th>\n      <th>Magnetic Classification</th>\n      <th>Location</th>\n      <th>Zurich Class</th>\n      <th>Penumbra Class</th>\n      <th>Compactness Class</th>\n    </tr>\n  </thead>\n  <tbody>\n    <tr>\n      <th>0</th>\n      <td>1996-06-04</td>\n      <td>7968</td>\n      <td>3</td>\n      <td>0</td>\n      <td>A</td>\n      <td>N02E41</td>\n      <td>A</td>\n      <td>X</td>\n      <td>X</td>\n    </tr>\n    <tr>\n      <th>1</th>\n      <td>1996-06-05</td>\n      <td>7968</td>\n      <td>2</td>\n      <td>10</td>\n      <td>B</td>\n      <td>N02E28</td>\n      <td>B</td>\n      <td>X</td>\n      <td>O</td>\n    </tr>\n    <tr>\n      <th>2</th>\n      <td>1996-06-05</td>\n      <td>7969</td>\n      <td>1</td>\n      <td>0</td>\n      <td>A</td>\n      <td>N09W33</td>\n      <td>A</td>\n      <td>X</td>\n      <td>X</td>\n    </tr>\n    <tr>\n      <th>3</th>\n      <td>1996-06-06</td>\n      <td>7968</td>\n      <td>4</td>\n      <td>20</td>\n      <td>B</td>\n      <td>N03E12</td>\n      <td>C</td>\n      <td>R</td>\n      <td>O</td>\n    </tr>\n    <tr>\n      <th>4</th>\n      <td>1996-06-06</td>\n      <td>7969</td>\n      <td>4</td>\n      <td>10</td>\n      <td>B</td>\n      <td>N08W44</td>\n      <td>B</td>\n      <td>X</td>\n      <td>O</td>\n    </tr>\n    <tr>\n      <th>...</th>\n      <td>...</td>\n      <td>...</td>\n      <td>...</td>\n      <td>...</td>\n      <td>...</td>\n      <td>...</td>\n      <td>...</td>\n      <td>...</td>\n      <td>...</td>\n    </tr>\n    <tr>\n      <th>39856</th>\n      <td>2024-06-30</td>\n      <td>13731</td>\n      <td>1</td>\n      <td>10</td>\n      <td>A</td>\n      <td>S16E21</td>\n      <td>A</td>\n      <td>X</td>\n      <td>X</td>\n    </tr>\n    <tr>\n      <th>39857</th>\n      <td>2024-06-30</td>\n      <td>13732</td>\n      <td>4</td>\n      <td>30</td>\n      <td>B</td>\n      <td>S18W14</td>\n      <td>C</td>\n      <td>A</td>\n      <td>O</td>\n    </tr>\n    <tr>\n      <th>39858</th>\n      <td>2024-06-30</td>\n      <td>13733</td>\n      <td>4</td>\n      <td>40</td>\n      <td>B</td>\n      <td>N05E13</td>\n      <td>D</td>\n      <td>A</td>\n      <td>O</td>\n    </tr>\n    <tr>\n      <th>39859</th>\n      <td>2024-06-30</td>\n      <td>13734</td>\n      <td>4</td>\n      <td>60</td>\n      <td>B</td>\n      <td>N07E53</td>\n      <td>D</td>\n      <td>A</td>\n      <td>O</td>\n    </tr>\n    <tr>\n      <th>39860</th>\n      <td>2024-06-30</td>\n      <td>13735</td>\n      <td>1</td>\n      <td>60</td>\n      <td>A</td>\n      <td>N17E61</td>\n      <td>H</td>\n      <td>S</td>\n      <td>X</td>\n    </tr>\n  </tbody>\n</table>\n<p>39861 rows × 9 columns</p>\n</div>"
     },
     "execution_count": 6,
     "metadata": {},
     "output_type": "execute_result"
    }
   ],
   "source": [
    "df['Zurich Class'] = df['Sunspot Classification'].str[0]\n",
    "df['Penumbra Class'] = df['Sunspot Classification'].str[1]\n",
    "df['Compactness Class'] = df['Sunspot Classification'].str[2]\n",
    "df.drop(['Sunspot Classification'], axis=1, inplace=True)\n",
    "df"
   ],
   "metadata": {
    "collapsed": false,
    "ExecuteTime": {
     "end_time": "2024-07-31T02:37:55.135078300Z",
     "start_time": "2024-07-31T02:37:55.110547900Z"
    }
   },
   "id": "6041ce98296ad4e5"
  },
  {
   "cell_type": "code",
   "execution_count": 7,
   "outputs": [
    {
     "data": {
      "text/plain": "array(['A', 'B', 'C', 'D', 'H', 'E', 'F'], dtype=object)"
     },
     "execution_count": 7,
     "metadata": {},
     "output_type": "execute_result"
    }
   ],
   "source": [
    "df['Zurich Class'].unique()"
   ],
   "metadata": {
    "collapsed": false,
    "ExecuteTime": {
     "end_time": "2024-07-31T02:37:55.394672100Z",
     "start_time": "2024-07-31T02:37:55.351665200Z"
    }
   },
   "id": "9d555fb93b4fe1b"
  },
  {
   "cell_type": "code",
   "execution_count": 8,
   "outputs": [
    {
     "data": {
      "text/plain": "array(['X', 'R', 'S', 'A', 'H', 'K'], dtype=object)"
     },
     "execution_count": 8,
     "metadata": {},
     "output_type": "execute_result"
    }
   ],
   "source": [
    "df['Penumbra Class'].unique()"
   ],
   "metadata": {
    "collapsed": false,
    "ExecuteTime": {
     "end_time": "2024-07-31T02:37:55.560586900Z",
     "start_time": "2024-07-31T02:37:55.516262100Z"
    }
   },
   "id": "e7b534f251aa606"
  },
  {
   "cell_type": "code",
   "execution_count": 9,
   "outputs": [
    {
     "data": {
      "text/plain": "array(['X', 'O', 'I', 'C'], dtype=object)"
     },
     "execution_count": 9,
     "metadata": {},
     "output_type": "execute_result"
    }
   ],
   "source": [
    "df['Compactness Class'].unique()"
   ],
   "metadata": {
    "collapsed": false,
    "ExecuteTime": {
     "end_time": "2024-07-31T02:37:55.716588200Z",
     "start_time": "2024-07-31T02:37:55.703588900Z"
    }
   },
   "id": "172d5660be1836eb"
  },
  {
   "cell_type": "markdown",
   "source": [
    "## NOAA dataset"
   ],
   "metadata": {
    "collapsed": false
   },
   "id": "fe6a002332620055"
  },
  {
   "cell_type": "code",
   "execution_count": 10,
   "outputs": [],
   "source": [
    "sunspot_cols_and_widths = {\n",
    "  \"Data Code\": 2,\n",
    "  \"Year\": 2,\n",
    "  \"Month\": 2,\n",
    "  \"Day\": 2,\n",
    "  \"blank1\": 1,\n",
    "  \"Universal Time of Observation\": 4,\n",
    "  \"blank2\": 1,\n",
    "  \"Location\": 6,\n",
    "  \"Mt Wilson Magnetic Classification\": 4,\n",
    "  \"blank3\": 1,\n",
    "  \"Max Magnetic Field Strength\": 1,\n",
    "  \"blank4\": 1,\n",
    "  \"Mount Wilson Spot Group Number\": 5,\n",
    "  \"Subscript\": 1,\n",
    "  \"NOAA Sunspot Group Number\": 5, # NOAA/USAF sunspot group number\n",
    "  \"Subscript NOAA\": 1,  # This field is used by WDC  to subscript the NOAA/USAF sunspot number, for example 4013, 4013A.\n",
    "  \"Zurich Class\": 1,  # USAF only\n",
    "  \"Penumbra Class\": 1,  # USAF only\n",
    "  \"Compactness Class\": 1, # USAF only\n",
    "  \"blank5\": 1,\n",
    "  \"Number of Spots\": 2, # USAF only\n",
    "  \"blank6\": 1,\n",
    "  \"Longitudinal Extent\": 2, # In degrees | USAF only\n",
    "  \"Area in millionths of solar hemisphere\": 4, # USAF only\n",
    "  \"blank7\": 1,\n",
    "  \"Individual CMP Year\": 2,\n",
    "  \"Individual CMP Month\": 2,\n",
    "  \"Individual CMP Day\": 4,\n",
    "  \"blank8\": 1,\n",
    "  \"Regional CMP Year\": 2,\n",
    "  \"Regional CMP Month\": 2,\n",
    "  \"Regional CMP Day\": 4,\n",
    "  \"blank9\": 1,\n",
    "  \"Station Serial Number\": 3,\n",
    "  \"blank10\": 1,\n",
    "  \"Quality\": 1, # 1=very poor, 2=poor, 3=fair, 4=good, 5=excellent\n",
    "  \"Station\": 4, # 4-letter station abbreviation\n",
    "}"
   ],
   "metadata": {
    "collapsed": false,
    "ExecuteTime": {
     "end_time": "2024-07-31T02:37:56.058788100Z",
     "start_time": "2024-07-31T02:37:56.055790Z"
    }
   },
   "id": "fa3104c543eebce4"
  },
  {
   "cell_type": "code",
   "execution_count": 11,
   "outputs": [],
   "source": [
    "df_old_data = pd.read_fwf(\"../spots1981-2017.txt\", header=None,\n",
    "                 widths=list(sunspot_cols_and_widths.values()),\n",
    "                 names=list(sunspot_cols_and_widths.keys()))"
   ],
   "metadata": {
    "collapsed": false,
    "ExecuteTime": {
     "end_time": "2024-07-31T02:37:59.296169Z",
     "start_time": "2024-07-31T02:37:56.258405300Z"
    }
   },
   "id": "bb2e1c51ffccc706"
  },
  {
   "cell_type": "code",
   "execution_count": 12,
   "outputs": [
    {
     "data": {
      "text/plain": "        Year  Month  Day Location Mt Wilson Magnetic Classification  \\\n0         81     12    1   N13W46                                BG   \n1         81     12    1   N13W46                               NaN   \n2         81     12    1   N12W47                                BG   \n3         81     12    1   N15W56                                BG   \n4         81     12    1   N13W55                                BG   \n...      ...    ...  ...      ...                               ...   \n271878    17      6   29   N18W35                                 B   \n271879    17      6   29   N19W42                                 B   \n271880    17      6   30   N15W45                                 B   \n271881    17      6   30   N18W47                                 A   \n271882    17      6   30   N17W53                                 A   \n\n       NOAA Sunspot Group Number Zurich Class Penumbra Class  \\\n0                           3478            E              K   \n1                           3478            E              H   \n2                           3478            E              H   \n3                           3478            E              H   \n4                           3478            E              H   \n...                          ...          ...            ...   \n271878                     12664            C              S   \n271879                     12664            C              S   \n271880                     12664            C              S   \n271881                     12664            H              S   \n271882                     12664            H              A   \n\n       Compactness Class  Number of Spots  \\\n0                      I             32.0   \n1                      I             16.0   \n2                      O             22.0   \n3                      I             31.0   \n4                      I             17.0   \n...                  ...              ...   \n271878                 O              2.0   \n271879                 O              3.0   \n271880                 O              2.0   \n271881                 X              1.0   \n271882                 X              1.0   \n\n        Area in millionths of solar hemisphere  \n0                                        600.0  \n1                                        530.0  \n2                                        710.0  \n3                                        670.0  \n4                                        430.0  \n...                                        ...  \n271878                                    40.0  \n271879                                    60.0  \n271880                                    60.0  \n271881                                    30.0  \n271882                                    70.0  \n\n[271883 rows x 11 columns]",
      "text/html": "<div>\n<style scoped>\n    .dataframe tbody tr th:only-of-type {\n        vertical-align: middle;\n    }\n\n    .dataframe tbody tr th {\n        vertical-align: top;\n    }\n\n    .dataframe thead th {\n        text-align: right;\n    }\n</style>\n<table border=\"1\" class=\"dataframe\">\n  <thead>\n    <tr style=\"text-align: right;\">\n      <th></th>\n      <th>Year</th>\n      <th>Month</th>\n      <th>Day</th>\n      <th>Location</th>\n      <th>Mt Wilson Magnetic Classification</th>\n      <th>NOAA Sunspot Group Number</th>\n      <th>Zurich Class</th>\n      <th>Penumbra Class</th>\n      <th>Compactness Class</th>\n      <th>Number of Spots</th>\n      <th>Area in millionths of solar hemisphere</th>\n    </tr>\n  </thead>\n  <tbody>\n    <tr>\n      <th>0</th>\n      <td>81</td>\n      <td>12</td>\n      <td>1</td>\n      <td>N13W46</td>\n      <td>BG</td>\n      <td>3478</td>\n      <td>E</td>\n      <td>K</td>\n      <td>I</td>\n      <td>32.0</td>\n      <td>600.0</td>\n    </tr>\n    <tr>\n      <th>1</th>\n      <td>81</td>\n      <td>12</td>\n      <td>1</td>\n      <td>N13W46</td>\n      <td>NaN</td>\n      <td>3478</td>\n      <td>E</td>\n      <td>H</td>\n      <td>I</td>\n      <td>16.0</td>\n      <td>530.0</td>\n    </tr>\n    <tr>\n      <th>2</th>\n      <td>81</td>\n      <td>12</td>\n      <td>1</td>\n      <td>N12W47</td>\n      <td>BG</td>\n      <td>3478</td>\n      <td>E</td>\n      <td>H</td>\n      <td>O</td>\n      <td>22.0</td>\n      <td>710.0</td>\n    </tr>\n    <tr>\n      <th>3</th>\n      <td>81</td>\n      <td>12</td>\n      <td>1</td>\n      <td>N15W56</td>\n      <td>BG</td>\n      <td>3478</td>\n      <td>E</td>\n      <td>H</td>\n      <td>I</td>\n      <td>31.0</td>\n      <td>670.0</td>\n    </tr>\n    <tr>\n      <th>4</th>\n      <td>81</td>\n      <td>12</td>\n      <td>1</td>\n      <td>N13W55</td>\n      <td>BG</td>\n      <td>3478</td>\n      <td>E</td>\n      <td>H</td>\n      <td>I</td>\n      <td>17.0</td>\n      <td>430.0</td>\n    </tr>\n    <tr>\n      <th>...</th>\n      <td>...</td>\n      <td>...</td>\n      <td>...</td>\n      <td>...</td>\n      <td>...</td>\n      <td>...</td>\n      <td>...</td>\n      <td>...</td>\n      <td>...</td>\n      <td>...</td>\n      <td>...</td>\n    </tr>\n    <tr>\n      <th>271878</th>\n      <td>17</td>\n      <td>6</td>\n      <td>29</td>\n      <td>N18W35</td>\n      <td>B</td>\n      <td>12664</td>\n      <td>C</td>\n      <td>S</td>\n      <td>O</td>\n      <td>2.0</td>\n      <td>40.0</td>\n    </tr>\n    <tr>\n      <th>271879</th>\n      <td>17</td>\n      <td>6</td>\n      <td>29</td>\n      <td>N19W42</td>\n      <td>B</td>\n      <td>12664</td>\n      <td>C</td>\n      <td>S</td>\n      <td>O</td>\n      <td>3.0</td>\n      <td>60.0</td>\n    </tr>\n    <tr>\n      <th>271880</th>\n      <td>17</td>\n      <td>6</td>\n      <td>30</td>\n      <td>N15W45</td>\n      <td>B</td>\n      <td>12664</td>\n      <td>C</td>\n      <td>S</td>\n      <td>O</td>\n      <td>2.0</td>\n      <td>60.0</td>\n    </tr>\n    <tr>\n      <th>271881</th>\n      <td>17</td>\n      <td>6</td>\n      <td>30</td>\n      <td>N18W47</td>\n      <td>A</td>\n      <td>12664</td>\n      <td>H</td>\n      <td>S</td>\n      <td>X</td>\n      <td>1.0</td>\n      <td>30.0</td>\n    </tr>\n    <tr>\n      <th>271882</th>\n      <td>17</td>\n      <td>6</td>\n      <td>30</td>\n      <td>N17W53</td>\n      <td>A</td>\n      <td>12664</td>\n      <td>H</td>\n      <td>A</td>\n      <td>X</td>\n      <td>1.0</td>\n      <td>70.0</td>\n    </tr>\n  </tbody>\n</table>\n<p>271883 rows × 11 columns</p>\n</div>"
     },
     "execution_count": 12,
     "metadata": {},
     "output_type": "execute_result"
    }
   ],
   "source": [
    "df_old_data.drop(columns=df_old_data.filter(like='blank').columns, inplace=True)\n",
    "df_old_data.drop(['Data Code', 'Max Magnetic Field Strength', 'Subscript',\n",
    "                  'Individual CMP Year', 'Individual CMP Month', 'Individual CMP Day',\n",
    "                  'Regional CMP Year', 'Regional CMP Month', 'Regional CMP Day',\n",
    "                  'Station Serial Number', 'Station', 'Universal Time of Observation',\n",
    "                  'Mount Wilson Spot Group Number', 'Subscript NOAA',\n",
    "                  'Quality', 'Longitudinal Extent'], axis=1, inplace=True)\n",
    "df_old_data"
   ],
   "metadata": {
    "collapsed": false,
    "ExecuteTime": {
     "end_time": "2024-07-31T02:37:59.325944400Z",
     "start_time": "2024-07-31T02:37:59.275503300Z"
    }
   },
   "id": "7ab7c0f363fb377d"
  },
  {
   "cell_type": "code",
   "execution_count": 13,
   "outputs": [
    {
     "data": {
      "text/plain": "array(['BG', nan, '( B)', 'B', 'A', '(AP)', '(AF)', 'AP', '(BG)', '( D)',\n       'BGD', '(BP)', 'AP)', 'AF', '(BF)', 'X', 'BD', 'BP', 'D', 'GD',\n       '(B+)', '( S)', '( F)', '(FG)', 'G', '( X)', '(BA)', '( 3)',\n       '( P)', 'BF', 'S', '( G)', '(B )', '(D )', '(AP', 'B)', '( B',\n       'B )', '(B', 'BG)', '(BP', '(D)', '(B)', '(BG', 'D *', '(BD)',\n       '(D)*', 'AF)', 'BF+', '((B', '(BF', 'B+', 'D*)', 'D*', '(DB)',\n       'D %', 'D )', '(AF', '(X )', '(G )', '(BTG', '(D*)', 'BF)', '(D *',\n       '(X', 'BP+', '(B +', 'X1)', 'D8)', 'B +', '(A )', 'X )', '(A',\n       '(BP+', 'AP?', 'BF2+', '(R )', 'B2', '(B1)', '(B2)', '(D2)',\n       '(D+)', 'BG*', 'D #', 'B('], dtype=object)"
     },
     "execution_count": 13,
     "metadata": {},
     "output_type": "execute_result"
    }
   ],
   "source": [
    "df_old_data['Mt Wilson Magnetic Classification'].unique()"
   ],
   "metadata": {
    "collapsed": false,
    "ExecuteTime": {
     "end_time": "2024-07-31T02:37:59.355557200Z",
     "start_time": "2024-07-31T02:37:59.328938400Z"
    }
   },
   "id": "176a2dd8582cd346"
  },
  {
   "cell_type": "code",
   "execution_count": 14,
   "outputs": [],
   "source": [
    "def remove_special_characters(input_string):\n",
    "  if not pd.isna(input_string):\n",
    "    pattern = r'[^ABGD]'  # Not A B G or D\n",
    "    result_string = re.sub(pattern, '', input_string)\n",
    "    if result_string:\n",
    "      return result_string\n",
    "  return np.nan"
   ],
   "metadata": {
    "collapsed": false,
    "ExecuteTime": {
     "end_time": "2024-07-31T02:37:59.356933600Z",
     "start_time": "2024-07-31T02:37:59.332399100Z"
    }
   },
   "id": "9f8281ccaa2d2c12"
  },
  {
   "cell_type": "code",
   "execution_count": 15,
   "outputs": [
    {
     "data": {
      "text/plain": "array(['BG', nan, 'B', 'A', 'D', 'BGD', 'BD', 'GD', 'G', 'BA', 'DB'],\n      dtype=object)"
     },
     "execution_count": 15,
     "metadata": {},
     "output_type": "execute_result"
    }
   ],
   "source": [
    "# df_old_sunspot['Mt Wilson Magnetic Classification'].apply(remove_special_characters)\n",
    "df_old_data['Mt Wilson Magnetic Classification'] = df_old_data['Mt Wilson Magnetic Classification'].apply(remove_special_characters)\n",
    "df_old_data['Mt Wilson Magnetic Classification'].unique()"
   ],
   "metadata": {
    "collapsed": false,
    "ExecuteTime": {
     "end_time": "2024-07-31T02:37:59.513663100Z",
     "start_time": "2024-07-31T02:37:59.341349500Z"
    }
   },
   "id": "354344de673718de"
  },
  {
   "cell_type": "code",
   "execution_count": 16,
   "outputs": [
    {
     "data": {
      "text/plain": "             Date Location Mt Wilson Magnetic Classification  \\\n0      1981-12-01   N13W46                                BG   \n1      1981-12-01   N13W46                               NaN   \n2      1981-12-01   N12W47                                BG   \n3      1981-12-01   N15W56                                BG   \n4      1981-12-01   N13W55                                BG   \n...           ...      ...                               ...   \n271878 2017-06-29   N18W35                                 B   \n271879 2017-06-29   N19W42                                 B   \n271880 2017-06-30   N15W45                                 B   \n271881 2017-06-30   N18W47                                 A   \n271882 2017-06-30   N17W53                                 A   \n\n       NOAA Sunspot Group Number Zurich Class Penumbra Class  \\\n0                           3478            E              K   \n1                           3478            E              H   \n2                           3478            E              H   \n3                           3478            E              H   \n4                           3478            E              H   \n...                          ...          ...            ...   \n271878                     12664            C              S   \n271879                     12664            C              S   \n271880                     12664            C              S   \n271881                     12664            H              S   \n271882                     12664            H              A   \n\n       Compactness Class  Number of Spots  \\\n0                      I             32.0   \n1                      I             16.0   \n2                      O             22.0   \n3                      I             31.0   \n4                      I             17.0   \n...                  ...              ...   \n271878                 O              2.0   \n271879                 O              3.0   \n271880                 O              2.0   \n271881                 X              1.0   \n271882                 X              1.0   \n\n        Area in millionths of solar hemisphere  \n0                                        600.0  \n1                                        530.0  \n2                                        710.0  \n3                                        670.0  \n4                                        430.0  \n...                                        ...  \n271878                                    40.0  \n271879                                    60.0  \n271880                                    60.0  \n271881                                    30.0  \n271882                                    70.0  \n\n[271883 rows x 9 columns]",
      "text/html": "<div>\n<style scoped>\n    .dataframe tbody tr th:only-of-type {\n        vertical-align: middle;\n    }\n\n    .dataframe tbody tr th {\n        vertical-align: top;\n    }\n\n    .dataframe thead th {\n        text-align: right;\n    }\n</style>\n<table border=\"1\" class=\"dataframe\">\n  <thead>\n    <tr style=\"text-align: right;\">\n      <th></th>\n      <th>Date</th>\n      <th>Location</th>\n      <th>Mt Wilson Magnetic Classification</th>\n      <th>NOAA Sunspot Group Number</th>\n      <th>Zurich Class</th>\n      <th>Penumbra Class</th>\n      <th>Compactness Class</th>\n      <th>Number of Spots</th>\n      <th>Area in millionths of solar hemisphere</th>\n    </tr>\n  </thead>\n  <tbody>\n    <tr>\n      <th>0</th>\n      <td>1981-12-01</td>\n      <td>N13W46</td>\n      <td>BG</td>\n      <td>3478</td>\n      <td>E</td>\n      <td>K</td>\n      <td>I</td>\n      <td>32.0</td>\n      <td>600.0</td>\n    </tr>\n    <tr>\n      <th>1</th>\n      <td>1981-12-01</td>\n      <td>N13W46</td>\n      <td>NaN</td>\n      <td>3478</td>\n      <td>E</td>\n      <td>H</td>\n      <td>I</td>\n      <td>16.0</td>\n      <td>530.0</td>\n    </tr>\n    <tr>\n      <th>2</th>\n      <td>1981-12-01</td>\n      <td>N12W47</td>\n      <td>BG</td>\n      <td>3478</td>\n      <td>E</td>\n      <td>H</td>\n      <td>O</td>\n      <td>22.0</td>\n      <td>710.0</td>\n    </tr>\n    <tr>\n      <th>3</th>\n      <td>1981-12-01</td>\n      <td>N15W56</td>\n      <td>BG</td>\n      <td>3478</td>\n      <td>E</td>\n      <td>H</td>\n      <td>I</td>\n      <td>31.0</td>\n      <td>670.0</td>\n    </tr>\n    <tr>\n      <th>4</th>\n      <td>1981-12-01</td>\n      <td>N13W55</td>\n      <td>BG</td>\n      <td>3478</td>\n      <td>E</td>\n      <td>H</td>\n      <td>I</td>\n      <td>17.0</td>\n      <td>430.0</td>\n    </tr>\n    <tr>\n      <th>...</th>\n      <td>...</td>\n      <td>...</td>\n      <td>...</td>\n      <td>...</td>\n      <td>...</td>\n      <td>...</td>\n      <td>...</td>\n      <td>...</td>\n      <td>...</td>\n    </tr>\n    <tr>\n      <th>271878</th>\n      <td>2017-06-29</td>\n      <td>N18W35</td>\n      <td>B</td>\n      <td>12664</td>\n      <td>C</td>\n      <td>S</td>\n      <td>O</td>\n      <td>2.0</td>\n      <td>40.0</td>\n    </tr>\n    <tr>\n      <th>271879</th>\n      <td>2017-06-29</td>\n      <td>N19W42</td>\n      <td>B</td>\n      <td>12664</td>\n      <td>C</td>\n      <td>S</td>\n      <td>O</td>\n      <td>3.0</td>\n      <td>60.0</td>\n    </tr>\n    <tr>\n      <th>271880</th>\n      <td>2017-06-30</td>\n      <td>N15W45</td>\n      <td>B</td>\n      <td>12664</td>\n      <td>C</td>\n      <td>S</td>\n      <td>O</td>\n      <td>2.0</td>\n      <td>60.0</td>\n    </tr>\n    <tr>\n      <th>271881</th>\n      <td>2017-06-30</td>\n      <td>N18W47</td>\n      <td>A</td>\n      <td>12664</td>\n      <td>H</td>\n      <td>S</td>\n      <td>X</td>\n      <td>1.0</td>\n      <td>30.0</td>\n    </tr>\n    <tr>\n      <th>271882</th>\n      <td>2017-06-30</td>\n      <td>N17W53</td>\n      <td>A</td>\n      <td>12664</td>\n      <td>H</td>\n      <td>A</td>\n      <td>X</td>\n      <td>1.0</td>\n      <td>70.0</td>\n    </tr>\n  </tbody>\n</table>\n<p>271883 rows × 9 columns</p>\n</div>"
     },
     "execution_count": 16,
     "metadata": {},
     "output_type": "execute_result"
    }
   ],
   "source": [
    "df_old_data['Year'] = df_old_data['Year'].astype(int).apply(lambda x: 1900 + x if x > 50 else 2000 + x)\n",
    "df_old_data['Month'] = df_old_data['Month'].astype(int)\n",
    "df_old_data['Day'] = df_old_data['Day'].astype(int)\n",
    "df_old_data['Date'] = pd.to_datetime(df_old_data[['Year', 'Month', 'Day']])\n",
    "df_old_data.drop(['Year', 'Month', 'Day'], axis=1, inplace=True)\n",
    "\n",
    "# Move the 'Date' column to the first position\n",
    "cols = ['Date'] + [col for col in df_old_data.columns if col != 'Date']\n",
    "df_old_data = df_old_data[cols]\n",
    "df_old_data"
   ],
   "metadata": {
    "collapsed": false,
    "ExecuteTime": {
     "end_time": "2024-07-31T02:37:59.579014100Z",
     "start_time": "2024-07-31T02:37:59.542994600Z"
    }
   },
   "id": "f4988f940eddc16c"
  },
  {
   "cell_type": "code",
   "execution_count": 17,
   "outputs": [],
   "source": [
    "# df_old_data['Concatenated'] = df_old_data['Column1'].astype(str) + df_old_data['Column2'].astype(str) + df_old_data['Column3'].astype(str)\n"
   ],
   "metadata": {
    "collapsed": false,
    "ExecuteTime": {
     "end_time": "2024-07-31T02:37:59.587013600Z",
     "start_time": "2024-07-31T02:37:59.580013200Z"
    }
   },
   "id": "d939bc7d2852310f"
  },
  {
   "cell_type": "code",
   "execution_count": 18,
   "outputs": [
    {
     "data": {
      "text/plain": "array(['E', nan, 'C', 'B', 'A', 'D', 'H', 'F', 'X', '?'], dtype=object)"
     },
     "execution_count": 18,
     "metadata": {},
     "output_type": "execute_result"
    }
   ],
   "source": [
    "df_old_data['Zurich Class'].unique()"
   ],
   "metadata": {
    "collapsed": false,
    "ExecuteTime": {
     "end_time": "2024-07-31T02:37:59.601012900Z",
     "start_time": "2024-07-31T02:37:59.582013700Z"
    }
   },
   "id": "77d85a42ca45680d"
  },
  {
   "cell_type": "code",
   "execution_count": 19,
   "outputs": [
    {
     "data": {
      "text/plain": "array(['K', 'H', 'S', nan, 'A', 'X', 'R', 'O'], dtype=object)"
     },
     "execution_count": 19,
     "metadata": {},
     "output_type": "execute_result"
    }
   ],
   "source": [
    "df_old_data['Penumbra Class'].unique()"
   ],
   "metadata": {
    "collapsed": false,
    "ExecuteTime": {
     "end_time": "2024-07-31T02:37:59.676616700Z",
     "start_time": "2024-07-31T02:37:59.595012800Z"
    }
   },
   "id": "5fdc2059b589e79f"
  },
  {
   "cell_type": "code",
   "execution_count": 20,
   "outputs": [
    {
     "data": {
      "text/plain": "array(['I', 'O', nan, 'X', 'C', '?', '0'], dtype=object)"
     },
     "execution_count": 20,
     "metadata": {},
     "output_type": "execute_result"
    }
   ],
   "source": [
    "df_old_data['Compactness Class'].unique()"
   ],
   "metadata": {
    "collapsed": false,
    "ExecuteTime": {
     "end_time": "2024-07-31T02:37:59.710129900Z",
     "start_time": "2024-07-31T02:37:59.608013800Z"
    }
   },
   "id": "783a1a9302b6cc2b"
  },
  {
   "cell_type": "code",
   "execution_count": 21,
   "outputs": [
    {
     "data": {
      "text/plain": "             Date Zurich Class Penumbra Class Compactness Class\n159667 1995-09-27            B              X                 0",
      "text/html": "<div>\n<style scoped>\n    .dataframe tbody tr th:only-of-type {\n        vertical-align: middle;\n    }\n\n    .dataframe tbody tr th {\n        vertical-align: top;\n    }\n\n    .dataframe thead th {\n        text-align: right;\n    }\n</style>\n<table border=\"1\" class=\"dataframe\">\n  <thead>\n    <tr style=\"text-align: right;\">\n      <th></th>\n      <th>Date</th>\n      <th>Zurich Class</th>\n      <th>Penumbra Class</th>\n      <th>Compactness Class</th>\n    </tr>\n  </thead>\n  <tbody>\n    <tr>\n      <th>159667</th>\n      <td>1995-09-27</td>\n      <td>B</td>\n      <td>X</td>\n      <td>0</td>\n    </tr>\n  </tbody>\n</table>\n</div>"
     },
     "execution_count": 21,
     "metadata": {},
     "output_type": "execute_result"
    }
   ],
   "source": [
    "df_old_data[df_old_data['Compactness Class'] == '0'][['Date', 'Zurich Class', 'Penumbra Class', 'Compactness Class']]"
   ],
   "metadata": {
    "collapsed": false,
    "ExecuteTime": {
     "end_time": "2024-07-31T02:37:59.721643600Z",
     "start_time": "2024-07-31T02:37:59.621589700Z"
    }
   },
   "id": "f03fc3aa91a1f73d"
  },
  {
   "cell_type": "code",
   "execution_count": 22,
   "outputs": [],
   "source": [
    "def mcintosh_class_fix(input_string):\n",
    "  if input_string == '0':\n",
    "    return 'O'\n",
    "  elif input_string == '?':\n",
    "    return np.nan\n",
    "  else:\n",
    "    return input_string"
   ],
   "metadata": {
    "collapsed": false,
    "ExecuteTime": {
     "end_time": "2024-07-31T02:37:59.722643Z",
     "start_time": "2024-07-31T02:37:59.640589600Z"
    }
   },
   "id": "663500c88a244811"
  },
  {
   "cell_type": "code",
   "execution_count": 23,
   "outputs": [
    {
     "data": {
      "text/plain": "array(['I', 'O', nan, 'X', 'C'], dtype=object)"
     },
     "execution_count": 23,
     "metadata": {},
     "output_type": "execute_result"
    }
   ],
   "source": [
    "df_old_data['Zurich Class'] = df_old_data['Zurich Class'].apply(mcintosh_class_fix)\n",
    "df_old_data['Penumbra Class'] = df_old_data['Penumbra Class'].apply(mcintosh_class_fix)\n",
    "df_old_data['Compactness Class'] = df_old_data['Compactness Class'].apply(mcintosh_class_fix)\n",
    "df_old_data['Compactness Class'].unique()"
   ],
   "metadata": {
    "collapsed": false,
    "ExecuteTime": {
     "end_time": "2024-07-31T02:37:59.769643400Z",
     "start_time": "2024-07-31T02:37:59.650109300Z"
    }
   },
   "id": "9681e89d2d7d7981"
  },
  {
   "cell_type": "code",
   "execution_count": 24,
   "outputs": [
    {
     "data": {
      "text/plain": "Index(['Date', 'Region', 'Sunspot Number', 'Size', 'Magnetic Classification',\n       'Location', 'Zurich Class', 'Penumbra Class', 'Compactness Class'],\n      dtype='object')"
     },
     "execution_count": 24,
     "metadata": {},
     "output_type": "execute_result"
    }
   ],
   "source": [
    "df.columns"
   ],
   "metadata": {
    "collapsed": false,
    "ExecuteTime": {
     "end_time": "2024-07-31T02:37:59.785640900Z",
     "start_time": "2024-07-31T02:37:59.721643600Z"
    }
   },
   "id": "6c15f30f3bf7291d"
  },
  {
   "cell_type": "code",
   "execution_count": 25,
   "outputs": [
    {
     "data": {
      "text/plain": "Index(['Date', 'Location', 'Mt Wilson Magnetic Classification',\n       'NOAA Sunspot Group Number', 'Zurich Class', 'Penumbra Class',\n       'Compactness Class', 'Number of Spots',\n       'Area in millionths of solar hemisphere'],\n      dtype='object')"
     },
     "execution_count": 25,
     "metadata": {},
     "output_type": "execute_result"
    }
   ],
   "source": [
    "df_old_data.columns"
   ],
   "metadata": {
    "collapsed": false,
    "ExecuteTime": {
     "end_time": "2024-07-31T02:37:59.801584700Z",
     "start_time": "2024-07-31T02:37:59.724644300Z"
    }
   },
   "id": "8d5d2acf44c5cd4b"
  },
  {
   "cell_type": "markdown",
   "source": [
    "### Items need to be cross-checked:\n",
    "| New Data | Old Data                               |\n",
    "|----------|----------------------------------------|\n",
    "| Region   | NOAA Sunspot Group Number              |\n",
    "| Size     | Area in millionths of solar hemisphere |\n",
    "\n",
    "### Columns name update:\n",
    "| New Data                    | Old Data                               |\n",
    "|-----------------------------|----------------------------------------|\n",
    "| [x] Region                  | NOAA Sunspot Group Number              |\n",
    "| [x] Size                    | Area in millionths of solar hemisphere |\n",
    "| [x] Sunspot Number          | Number of Spots                        |\n",
    "| [x] Magnetic Classification | Mt Wilson Magnetic Classification      |"
   ],
   "metadata": {
    "collapsed": false
   },
   "id": "c9cb3535689ddd8f"
  },
  {
   "cell_type": "code",
   "execution_count": 26,
   "outputs": [
    {
     "data": {
      "text/plain": "             Date Location Magnetic Classification Region Zurich Class  \\\n0      1981-12-01   N13W46                      BG   3478            E   \n1      1981-12-01   N13W46                     NaN   3478            E   \n2      1981-12-01   N12W47                      BG   3478            E   \n3      1981-12-01   N15W56                      BG   3478            E   \n4      1981-12-01   N13W55                      BG   3478            E   \n...           ...      ...                     ...    ...          ...   \n271878 2017-06-29   N18W35                       B  12664            C   \n271879 2017-06-29   N19W42                       B  12664            C   \n271880 2017-06-30   N15W45                       B  12664            C   \n271881 2017-06-30   N18W47                       A  12664            H   \n271882 2017-06-30   N17W53                       A  12664            H   \n\n       Penumbra Class Compactness Class  Sunspot Number   Size  \n0                   K                 I            32.0  600.0  \n1                   H                 I            16.0  530.0  \n2                   H                 O            22.0  710.0  \n3                   H                 I            31.0  670.0  \n4                   H                 I            17.0  430.0  \n...               ...               ...             ...    ...  \n271878              S                 O             2.0   40.0  \n271879              S                 O             3.0   60.0  \n271880              S                 O             2.0   60.0  \n271881              S                 X             1.0   30.0  \n271882              A                 X             1.0   70.0  \n\n[271883 rows x 9 columns]",
      "text/html": "<div>\n<style scoped>\n    .dataframe tbody tr th:only-of-type {\n        vertical-align: middle;\n    }\n\n    .dataframe tbody tr th {\n        vertical-align: top;\n    }\n\n    .dataframe thead th {\n        text-align: right;\n    }\n</style>\n<table border=\"1\" class=\"dataframe\">\n  <thead>\n    <tr style=\"text-align: right;\">\n      <th></th>\n      <th>Date</th>\n      <th>Location</th>\n      <th>Magnetic Classification</th>\n      <th>Region</th>\n      <th>Zurich Class</th>\n      <th>Penumbra Class</th>\n      <th>Compactness Class</th>\n      <th>Sunspot Number</th>\n      <th>Size</th>\n    </tr>\n  </thead>\n  <tbody>\n    <tr>\n      <th>0</th>\n      <td>1981-12-01</td>\n      <td>N13W46</td>\n      <td>BG</td>\n      <td>3478</td>\n      <td>E</td>\n      <td>K</td>\n      <td>I</td>\n      <td>32.0</td>\n      <td>600.0</td>\n    </tr>\n    <tr>\n      <th>1</th>\n      <td>1981-12-01</td>\n      <td>N13W46</td>\n      <td>NaN</td>\n      <td>3478</td>\n      <td>E</td>\n      <td>H</td>\n      <td>I</td>\n      <td>16.0</td>\n      <td>530.0</td>\n    </tr>\n    <tr>\n      <th>2</th>\n      <td>1981-12-01</td>\n      <td>N12W47</td>\n      <td>BG</td>\n      <td>3478</td>\n      <td>E</td>\n      <td>H</td>\n      <td>O</td>\n      <td>22.0</td>\n      <td>710.0</td>\n    </tr>\n    <tr>\n      <th>3</th>\n      <td>1981-12-01</td>\n      <td>N15W56</td>\n      <td>BG</td>\n      <td>3478</td>\n      <td>E</td>\n      <td>H</td>\n      <td>I</td>\n      <td>31.0</td>\n      <td>670.0</td>\n    </tr>\n    <tr>\n      <th>4</th>\n      <td>1981-12-01</td>\n      <td>N13W55</td>\n      <td>BG</td>\n      <td>3478</td>\n      <td>E</td>\n      <td>H</td>\n      <td>I</td>\n      <td>17.0</td>\n      <td>430.0</td>\n    </tr>\n    <tr>\n      <th>...</th>\n      <td>...</td>\n      <td>...</td>\n      <td>...</td>\n      <td>...</td>\n      <td>...</td>\n      <td>...</td>\n      <td>...</td>\n      <td>...</td>\n      <td>...</td>\n    </tr>\n    <tr>\n      <th>271878</th>\n      <td>2017-06-29</td>\n      <td>N18W35</td>\n      <td>B</td>\n      <td>12664</td>\n      <td>C</td>\n      <td>S</td>\n      <td>O</td>\n      <td>2.0</td>\n      <td>40.0</td>\n    </tr>\n    <tr>\n      <th>271879</th>\n      <td>2017-06-29</td>\n      <td>N19W42</td>\n      <td>B</td>\n      <td>12664</td>\n      <td>C</td>\n      <td>S</td>\n      <td>O</td>\n      <td>3.0</td>\n      <td>60.0</td>\n    </tr>\n    <tr>\n      <th>271880</th>\n      <td>2017-06-30</td>\n      <td>N15W45</td>\n      <td>B</td>\n      <td>12664</td>\n      <td>C</td>\n      <td>S</td>\n      <td>O</td>\n      <td>2.0</td>\n      <td>60.0</td>\n    </tr>\n    <tr>\n      <th>271881</th>\n      <td>2017-06-30</td>\n      <td>N18W47</td>\n      <td>A</td>\n      <td>12664</td>\n      <td>H</td>\n      <td>S</td>\n      <td>X</td>\n      <td>1.0</td>\n      <td>30.0</td>\n    </tr>\n    <tr>\n      <th>271882</th>\n      <td>2017-06-30</td>\n      <td>N17W53</td>\n      <td>A</td>\n      <td>12664</td>\n      <td>H</td>\n      <td>A</td>\n      <td>X</td>\n      <td>1.0</td>\n      <td>70.0</td>\n    </tr>\n  </tbody>\n</table>\n<p>271883 rows × 9 columns</p>\n</div>"
     },
     "execution_count": 26,
     "metadata": {},
     "output_type": "execute_result"
    }
   ],
   "source": [
    "df_old_data.rename(columns={\n",
    "  'NOAA Sunspot Group Number': 'Region',\n",
    "  'Area in millionths of solar hemisphere': 'Size',\n",
    "  'Number of Spots': 'Sunspot Number',\n",
    "  'Mt Wilson Magnetic Classification': 'Magnetic Classification',\n",
    "}, inplace=True)\n",
    "df_old_data"
   ],
   "metadata": {
    "collapsed": false,
    "ExecuteTime": {
     "end_time": "2024-07-31T02:38:00.371991200Z",
     "start_time": "2024-07-31T02:38:00.305307200Z"
    }
   },
   "id": "9704d3750743ad72"
  },
  {
   "cell_type": "code",
   "execution_count": 27,
   "outputs": [
    {
     "data": {
      "text/plain": "(271883, 9)"
     },
     "execution_count": 27,
     "metadata": {},
     "output_type": "execute_result"
    }
   ],
   "source": [
    "df_old_data.shape"
   ],
   "metadata": {
    "collapsed": false,
    "ExecuteTime": {
     "end_time": "2024-07-31T02:38:02.086865Z",
     "start_time": "2024-07-31T02:38:02.057856400Z"
    }
   },
   "id": "2ecebf94d315e850"
  },
  {
   "cell_type": "code",
   "execution_count": 28,
   "outputs": [
    {
     "data": {
      "text/plain": "(235038, 9)"
     },
     "execution_count": 28,
     "metadata": {},
     "output_type": "execute_result"
    }
   ],
   "source": [
    "df_old_data.dropna(subset=['Sunspot Number'], inplace=True)\n",
    "df_old_data.shape"
   ],
   "metadata": {
    "collapsed": false,
    "ExecuteTime": {
     "end_time": "2024-07-31T02:38:02.790198100Z",
     "start_time": "2024-07-31T02:38:02.754305800Z"
    }
   },
   "id": "c4c47366185a516"
  },
  {
   "cell_type": "markdown",
   "source": [
    "# Cross checking"
   ],
   "metadata": {
    "collapsed": false
   },
   "id": "9273d9e390c657c7"
  },
  {
   "cell_type": "code",
   "execution_count": 29,
   "outputs": [],
   "source": [
    "df_old_data = df_old_data[df.columns]"
   ],
   "metadata": {
    "collapsed": false,
    "ExecuteTime": {
     "end_time": "2024-07-31T02:38:03.685557600Z",
     "start_time": "2024-07-31T02:38:03.652953700Z"
    }
   },
   "id": "c26d53cdcb727571"
  },
  {
   "cell_type": "code",
   "execution_count": 30,
   "outputs": [
    {
     "data": {
      "text/plain": "min    1996.0\nmax    2024.0\nName: Date, dtype: float64"
     },
     "execution_count": 30,
     "metadata": {},
     "output_type": "execute_result"
    }
   ],
   "source": [
    "df['Date'].dt.year.describe()[['min', 'max']]"
   ],
   "metadata": {
    "collapsed": false,
    "ExecuteTime": {
     "end_time": "2024-07-31T02:38:03.979226300Z",
     "start_time": "2024-07-31T02:38:03.967036400Z"
    }
   },
   "id": "5aa215007c551be9"
  },
  {
   "cell_type": "code",
   "execution_count": 31,
   "outputs": [
    {
     "data": {
      "text/plain": "min    1981.0\nmax    2017.0\nName: Date, dtype: float64"
     },
     "execution_count": 31,
     "metadata": {},
     "output_type": "execute_result"
    }
   ],
   "source": [
    "df_old_data['Date'].dt.year.describe()[['min', 'max']]"
   ],
   "metadata": {
    "collapsed": false,
    "ExecuteTime": {
     "end_time": "2024-07-31T02:38:04.571534300Z",
     "start_time": "2024-07-31T02:38:04.552534800Z"
    }
   },
   "id": "338eace0e662252a"
  },
  {
   "cell_type": "code",
   "execution_count": 32,
   "outputs": [
    {
     "data": {
      "text/plain": "        Date  Region  Sunspot Number  Size Magnetic Classification Location  \\\n0 1996-06-04    7968               3     0                       A   N02E41   \n\n  Zurich Class Penumbra Class Compactness Class  \n0            A              X                 X  ",
      "text/html": "<div>\n<style scoped>\n    .dataframe tbody tr th:only-of-type {\n        vertical-align: middle;\n    }\n\n    .dataframe tbody tr th {\n        vertical-align: top;\n    }\n\n    .dataframe thead th {\n        text-align: right;\n    }\n</style>\n<table border=\"1\" class=\"dataframe\">\n  <thead>\n    <tr style=\"text-align: right;\">\n      <th></th>\n      <th>Date</th>\n      <th>Region</th>\n      <th>Sunspot Number</th>\n      <th>Size</th>\n      <th>Magnetic Classification</th>\n      <th>Location</th>\n      <th>Zurich Class</th>\n      <th>Penumbra Class</th>\n      <th>Compactness Class</th>\n    </tr>\n  </thead>\n  <tbody>\n    <tr>\n      <th>0</th>\n      <td>1996-06-04</td>\n      <td>7968</td>\n      <td>3</td>\n      <td>0</td>\n      <td>A</td>\n      <td>N02E41</td>\n      <td>A</td>\n      <td>X</td>\n      <td>X</td>\n    </tr>\n  </tbody>\n</table>\n</div>"
     },
     "execution_count": 32,
     "metadata": {},
     "output_type": "execute_result"
    }
   ],
   "source": [
    "df[df['Date'] == pd.to_datetime('06-04-1996')]"
   ],
   "metadata": {
    "collapsed": false,
    "ExecuteTime": {
     "end_time": "2024-07-31T02:38:04.813123Z",
     "start_time": "2024-07-31T02:38:04.774885Z"
    }
   },
   "id": "d07dd63ab17ca70c"
  },
  {
   "cell_type": "code",
   "execution_count": 33,
   "outputs": [
    {
     "data": {
      "text/plain": "             Date Region  Sunspot Number  Size Magnetic Classification  \\\n160885 1996-06-04   7969             1.0   NaN                       A   \n160900 1996-06-04   7968             2.0  10.0                       B   \n160901 1996-06-04   7968             3.0  10.0                       B   \n160903 1996-06-04   7968             2.0  10.0                       B   \n160904 1996-06-04   7968             3.0  10.0                       B   \n160905 1996-06-04   7968             1.0  10.0                       A   \n\n       Location Zurich Class Penumbra Class Compactness Class  \n160885   N09W28            A              X               NaN  \n160900   N02E40            C              S                 O  \n160901   N02E37            C              R                 O  \n160903   N03E32            B              X                 O  \n160904   N03E31            B              X                 O  \n160905   N01E30            A              X               NaN  ",
      "text/html": "<div>\n<style scoped>\n    .dataframe tbody tr th:only-of-type {\n        vertical-align: middle;\n    }\n\n    .dataframe tbody tr th {\n        vertical-align: top;\n    }\n\n    .dataframe thead th {\n        text-align: right;\n    }\n</style>\n<table border=\"1\" class=\"dataframe\">\n  <thead>\n    <tr style=\"text-align: right;\">\n      <th></th>\n      <th>Date</th>\n      <th>Region</th>\n      <th>Sunspot Number</th>\n      <th>Size</th>\n      <th>Magnetic Classification</th>\n      <th>Location</th>\n      <th>Zurich Class</th>\n      <th>Penumbra Class</th>\n      <th>Compactness Class</th>\n    </tr>\n  </thead>\n  <tbody>\n    <tr>\n      <th>160885</th>\n      <td>1996-06-04</td>\n      <td>7969</td>\n      <td>1.0</td>\n      <td>NaN</td>\n      <td>A</td>\n      <td>N09W28</td>\n      <td>A</td>\n      <td>X</td>\n      <td>NaN</td>\n    </tr>\n    <tr>\n      <th>160900</th>\n      <td>1996-06-04</td>\n      <td>7968</td>\n      <td>2.0</td>\n      <td>10.0</td>\n      <td>B</td>\n      <td>N02E40</td>\n      <td>C</td>\n      <td>S</td>\n      <td>O</td>\n    </tr>\n    <tr>\n      <th>160901</th>\n      <td>1996-06-04</td>\n      <td>7968</td>\n      <td>3.0</td>\n      <td>10.0</td>\n      <td>B</td>\n      <td>N02E37</td>\n      <td>C</td>\n      <td>R</td>\n      <td>O</td>\n    </tr>\n    <tr>\n      <th>160903</th>\n      <td>1996-06-04</td>\n      <td>7968</td>\n      <td>2.0</td>\n      <td>10.0</td>\n      <td>B</td>\n      <td>N03E32</td>\n      <td>B</td>\n      <td>X</td>\n      <td>O</td>\n    </tr>\n    <tr>\n      <th>160904</th>\n      <td>1996-06-04</td>\n      <td>7968</td>\n      <td>3.0</td>\n      <td>10.0</td>\n      <td>B</td>\n      <td>N03E31</td>\n      <td>B</td>\n      <td>X</td>\n      <td>O</td>\n    </tr>\n    <tr>\n      <th>160905</th>\n      <td>1996-06-04</td>\n      <td>7968</td>\n      <td>1.0</td>\n      <td>10.0</td>\n      <td>A</td>\n      <td>N01E30</td>\n      <td>A</td>\n      <td>X</td>\n      <td>NaN</td>\n    </tr>\n  </tbody>\n</table>\n</div>"
     },
     "execution_count": 33,
     "metadata": {},
     "output_type": "execute_result"
    }
   ],
   "source": [
    "df_old_data[df_old_data['Date'] == pd.to_datetime('06-04-1996')]"
   ],
   "metadata": {
    "collapsed": false,
    "ExecuteTime": {
     "end_time": "2024-07-31T02:38:05.487181900Z",
     "start_time": "2024-07-31T02:38:05.470646500Z"
    }
   },
   "id": "9714b83d138b1f05"
  },
  {
   "cell_type": "code",
   "execution_count": 34,
   "outputs": [
    {
     "data": {
      "text/plain": "             Date Region  Sunspot Number   Size Magnetic Classification  \\\n268887 2016-02-01  12489             3.0  260.0                       A   \n268888 2016-02-01  12490             5.0   30.0                       B   \n268889 2016-02-01  12491             2.0   60.0                       B   \n268890 2016-02-01  12489             3.0  240.0                       B   \n268891 2016-02-01  12490             3.0   10.0                       B   \n268892 2016-02-01  12491             2.0   60.0                       B   \n268893 2016-02-01  12491             2.0   30.0                       B   \n268894 2016-02-01  12490             4.0   40.0                       B   \n268895 2016-02-01  12489             1.0  200.0                       A   \n\n       Location Zurich Class Penumbra Class Compactness Class  \n268887   N10W31            H              A                 X  \n268888   S21W16            B              X                 O  \n268889   N01E70            B              X                 O  \n268890   N10W32            C              K                 O  \n268891   S22W18            B              X                 O  \n268892   N02E69            B              X                 O  \n268893   N01E57            D              R                 O  \n268894   S22W25            D              R                 O  \n268895   N10W43            H              H                 X  ",
      "text/html": "<div>\n<style scoped>\n    .dataframe tbody tr th:only-of-type {\n        vertical-align: middle;\n    }\n\n    .dataframe tbody tr th {\n        vertical-align: top;\n    }\n\n    .dataframe thead th {\n        text-align: right;\n    }\n</style>\n<table border=\"1\" class=\"dataframe\">\n  <thead>\n    <tr style=\"text-align: right;\">\n      <th></th>\n      <th>Date</th>\n      <th>Region</th>\n      <th>Sunspot Number</th>\n      <th>Size</th>\n      <th>Magnetic Classification</th>\n      <th>Location</th>\n      <th>Zurich Class</th>\n      <th>Penumbra Class</th>\n      <th>Compactness Class</th>\n    </tr>\n  </thead>\n  <tbody>\n    <tr>\n      <th>268887</th>\n      <td>2016-02-01</td>\n      <td>12489</td>\n      <td>3.0</td>\n      <td>260.0</td>\n      <td>A</td>\n      <td>N10W31</td>\n      <td>H</td>\n      <td>A</td>\n      <td>X</td>\n    </tr>\n    <tr>\n      <th>268888</th>\n      <td>2016-02-01</td>\n      <td>12490</td>\n      <td>5.0</td>\n      <td>30.0</td>\n      <td>B</td>\n      <td>S21W16</td>\n      <td>B</td>\n      <td>X</td>\n      <td>O</td>\n    </tr>\n    <tr>\n      <th>268889</th>\n      <td>2016-02-01</td>\n      <td>12491</td>\n      <td>2.0</td>\n      <td>60.0</td>\n      <td>B</td>\n      <td>N01E70</td>\n      <td>B</td>\n      <td>X</td>\n      <td>O</td>\n    </tr>\n    <tr>\n      <th>268890</th>\n      <td>2016-02-01</td>\n      <td>12489</td>\n      <td>3.0</td>\n      <td>240.0</td>\n      <td>B</td>\n      <td>N10W32</td>\n      <td>C</td>\n      <td>K</td>\n      <td>O</td>\n    </tr>\n    <tr>\n      <th>268891</th>\n      <td>2016-02-01</td>\n      <td>12490</td>\n      <td>3.0</td>\n      <td>10.0</td>\n      <td>B</td>\n      <td>S22W18</td>\n      <td>B</td>\n      <td>X</td>\n      <td>O</td>\n    </tr>\n    <tr>\n      <th>268892</th>\n      <td>2016-02-01</td>\n      <td>12491</td>\n      <td>2.0</td>\n      <td>60.0</td>\n      <td>B</td>\n      <td>N02E69</td>\n      <td>B</td>\n      <td>X</td>\n      <td>O</td>\n    </tr>\n    <tr>\n      <th>268893</th>\n      <td>2016-02-01</td>\n      <td>12491</td>\n      <td>2.0</td>\n      <td>30.0</td>\n      <td>B</td>\n      <td>N01E57</td>\n      <td>D</td>\n      <td>R</td>\n      <td>O</td>\n    </tr>\n    <tr>\n      <th>268894</th>\n      <td>2016-02-01</td>\n      <td>12490</td>\n      <td>4.0</td>\n      <td>40.0</td>\n      <td>B</td>\n      <td>S22W25</td>\n      <td>D</td>\n      <td>R</td>\n      <td>O</td>\n    </tr>\n    <tr>\n      <th>268895</th>\n      <td>2016-02-01</td>\n      <td>12489</td>\n      <td>1.0</td>\n      <td>200.0</td>\n      <td>A</td>\n      <td>N10W43</td>\n      <td>H</td>\n      <td>H</td>\n      <td>X</td>\n    </tr>\n  </tbody>\n</table>\n</div>"
     },
     "execution_count": 34,
     "metadata": {},
     "output_type": "execute_result"
    }
   ],
   "source": [
    "df_old_data[df_old_data['Date'] == pd.to_datetime('02-01-2016')]"
   ],
   "metadata": {
    "collapsed": false,
    "ExecuteTime": {
     "end_time": "2024-07-31T02:38:06.218920400Z",
     "start_time": "2024-07-31T02:38:06.121931400Z"
    }
   },
   "id": "9fe22c70ce1e7851"
  },
  {
   "cell_type": "code",
   "execution_count": 35,
   "outputs": [
    {
     "data": {
      "text/plain": "            Date  Region  Sunspot Number  Size Magnetic Classification  \\\n30603 2016-02-01   12489               4   240                       B   \n30604 2016-02-01   12490               3    10                       B   \n30605 2016-02-01   12491               2    10                       B   \n\n      Location Zurich Class Penumbra Class Compactness Class  \n30603   N10W29            C              S                 O  \n30604   S20W16            B              X                 O  \n30605   N02E70            B              X                 O  ",
      "text/html": "<div>\n<style scoped>\n    .dataframe tbody tr th:only-of-type {\n        vertical-align: middle;\n    }\n\n    .dataframe tbody tr th {\n        vertical-align: top;\n    }\n\n    .dataframe thead th {\n        text-align: right;\n    }\n</style>\n<table border=\"1\" class=\"dataframe\">\n  <thead>\n    <tr style=\"text-align: right;\">\n      <th></th>\n      <th>Date</th>\n      <th>Region</th>\n      <th>Sunspot Number</th>\n      <th>Size</th>\n      <th>Magnetic Classification</th>\n      <th>Location</th>\n      <th>Zurich Class</th>\n      <th>Penumbra Class</th>\n      <th>Compactness Class</th>\n    </tr>\n  </thead>\n  <tbody>\n    <tr>\n      <th>30603</th>\n      <td>2016-02-01</td>\n      <td>12489</td>\n      <td>4</td>\n      <td>240</td>\n      <td>B</td>\n      <td>N10W29</td>\n      <td>C</td>\n      <td>S</td>\n      <td>O</td>\n    </tr>\n    <tr>\n      <th>30604</th>\n      <td>2016-02-01</td>\n      <td>12490</td>\n      <td>3</td>\n      <td>10</td>\n      <td>B</td>\n      <td>S20W16</td>\n      <td>B</td>\n      <td>X</td>\n      <td>O</td>\n    </tr>\n    <tr>\n      <th>30605</th>\n      <td>2016-02-01</td>\n      <td>12491</td>\n      <td>2</td>\n      <td>10</td>\n      <td>B</td>\n      <td>N02E70</td>\n      <td>B</td>\n      <td>X</td>\n      <td>O</td>\n    </tr>\n  </tbody>\n</table>\n</div>"
     },
     "execution_count": 35,
     "metadata": {},
     "output_type": "execute_result"
    }
   ],
   "source": [
    "df[df['Date'] == pd.to_datetime('02-01-2016')]"
   ],
   "metadata": {
    "collapsed": false,
    "ExecuteTime": {
     "end_time": "2024-07-31T02:38:06.824814900Z",
     "start_time": "2024-07-31T02:38:06.800866500Z"
    }
   },
   "id": "cc1edf6a70841251"
  },
  {
   "cell_type": "code",
   "execution_count": 36,
   "outputs": [
    {
     "data": {
      "text/plain": "array([   0,   10,   20,   50,   80,   90,   60,   40,   70,  100,   30,\n        280,  250,  400,  420,  390,  300,  200,  340,  360,  410,  320,\n        290,  220,  140,  130,  120,  170,  210,  880,  790,  830,  690,\n        580,  570,  450,  180,  110,  150,  160,  230,  460,  540,  650,\n        710,  270,  610,  600,  240,  470,  380,  330,  260,  660, 1000,\n        900,  760,  630,  480,  350,  680,  940,  550,  190,  590,  310,\n        520,  370,  670,  800,  780,  720,  770,  510,  530,  430,  440,\n        620,  500,  560,  490,  740,  890, 1230, 1430, 1460, 1400, 1180,\n        970,  640,  730,  870, 1370, 1080,  950,  700,  850, 1220,  980,\n        920,  820,  930, 1190, 1280, 1120,  910,  750, 1040, 1050, 1100,\n        810,  990, 1030,  840, 1010, 1210,  860, 1060, 1090, 1020, 1140,\n       1240, 2140, 1940, 1910, 1880, 1970, 1930, 1450, 1590, 2240, 2440,\n       2000, 1700, 1810, 1070, 1110,    1,  960, 1130, 1410, 1420, 1150,\n          5,  175, 1350, 1170, 1520, 1750, 1950, 1960, 1990, 1850, 1650,\n       1270,  215, 1200, 1250, 1720, 1160, 1540, 2200, 2170, 1440, 2180,\n       2120, 2610, 2600, 2030, 1570, 1900, 1610, 2160, 1600, 1525, 1670,\n       2010, 1730, 1840, 1340, 1320, 1360, 1300, 1310, 1330,  245, 1620,\n       1630,   15,   45,    2,   25,  375,    8, 1470, 1480, 1415, 1560,\n       1510, 1490, 1580, 1500, 1260,  115, 2410, 2700, 2740, 2570, 2750,\n       2680,   75,   12,  475,  135,  185,  255, 2400, 2100, 1920])"
     },
     "execution_count": 36,
     "metadata": {},
     "output_type": "execute_result"
    }
   ],
   "source": [
    "df['Size'].unique()"
   ],
   "metadata": {
    "collapsed": false,
    "ExecuteTime": {
     "end_time": "2024-07-31T02:38:09.275534500Z",
     "start_time": "2024-07-31T02:38:09.218553Z"
    }
   },
   "id": "3685c9b7c5649b1a"
  },
  {
   "cell_type": "markdown",
   "source": [
    "# Consider taking NOAA data before 1996 06 04"
   ],
   "metadata": {
    "collapsed": false
   },
   "id": "577bba55e3444f8d"
  },
  {
   "cell_type": "code",
   "execution_count": 37,
   "outputs": [
    {
     "data": {
      "text/plain": "             Date Region  Sunspot Number   Size Magnetic Classification  \\\n0      1981-12-01   3478            32.0  600.0                      BG   \n1      1981-12-01   3478            16.0  530.0                     NaN   \n2      1981-12-01   3478            22.0  710.0                      BG   \n3      1981-12-01   3478            31.0  670.0                      BG   \n4      1981-12-01   3478            17.0  430.0                      BG   \n...           ...    ...             ...    ...                     ...   \n160892 1996-06-01   7967             1.0    NaN                       A   \n160893 1996-06-01   7967             1.0    NaN                       A   \n160894 1996-06-02   7967             1.0    NaN                       A   \n160895 1996-06-02   7967             1.0    NaN                       A   \n160899 1996-06-03   7968             3.0    NaN                       B   \n\n       Location Zurich Class Penumbra Class Compactness Class  \n0        N13W46            E              K                 I  \n1        N13W46            E              H                 I  \n2        N12W47            E              H                 O  \n3        N15W56            E              H                 I  \n4        N13W55            E              H                 I  \n...         ...          ...            ...               ...  \n160892   N36E30            A              X               NaN  \n160893   N33E32            A              X               NaN  \n160894   N36E25            A              X               NaN  \n160895   N37E22            A              X               NaN  \n160899   N02E46            B              X                 O  \n\n[140151 rows x 9 columns]",
      "text/html": "<div>\n<style scoped>\n    .dataframe tbody tr th:only-of-type {\n        vertical-align: middle;\n    }\n\n    .dataframe tbody tr th {\n        vertical-align: top;\n    }\n\n    .dataframe thead th {\n        text-align: right;\n    }\n</style>\n<table border=\"1\" class=\"dataframe\">\n  <thead>\n    <tr style=\"text-align: right;\">\n      <th></th>\n      <th>Date</th>\n      <th>Region</th>\n      <th>Sunspot Number</th>\n      <th>Size</th>\n      <th>Magnetic Classification</th>\n      <th>Location</th>\n      <th>Zurich Class</th>\n      <th>Penumbra Class</th>\n      <th>Compactness Class</th>\n    </tr>\n  </thead>\n  <tbody>\n    <tr>\n      <th>0</th>\n      <td>1981-12-01</td>\n      <td>3478</td>\n      <td>32.0</td>\n      <td>600.0</td>\n      <td>BG</td>\n      <td>N13W46</td>\n      <td>E</td>\n      <td>K</td>\n      <td>I</td>\n    </tr>\n    <tr>\n      <th>1</th>\n      <td>1981-12-01</td>\n      <td>3478</td>\n      <td>16.0</td>\n      <td>530.0</td>\n      <td>NaN</td>\n      <td>N13W46</td>\n      <td>E</td>\n      <td>H</td>\n      <td>I</td>\n    </tr>\n    <tr>\n      <th>2</th>\n      <td>1981-12-01</td>\n      <td>3478</td>\n      <td>22.0</td>\n      <td>710.0</td>\n      <td>BG</td>\n      <td>N12W47</td>\n      <td>E</td>\n      <td>H</td>\n      <td>O</td>\n    </tr>\n    <tr>\n      <th>3</th>\n      <td>1981-12-01</td>\n      <td>3478</td>\n      <td>31.0</td>\n      <td>670.0</td>\n      <td>BG</td>\n      <td>N15W56</td>\n      <td>E</td>\n      <td>H</td>\n      <td>I</td>\n    </tr>\n    <tr>\n      <th>4</th>\n      <td>1981-12-01</td>\n      <td>3478</td>\n      <td>17.0</td>\n      <td>430.0</td>\n      <td>BG</td>\n      <td>N13W55</td>\n      <td>E</td>\n      <td>H</td>\n      <td>I</td>\n    </tr>\n    <tr>\n      <th>...</th>\n      <td>...</td>\n      <td>...</td>\n      <td>...</td>\n      <td>...</td>\n      <td>...</td>\n      <td>...</td>\n      <td>...</td>\n      <td>...</td>\n      <td>...</td>\n    </tr>\n    <tr>\n      <th>160892</th>\n      <td>1996-06-01</td>\n      <td>7967</td>\n      <td>1.0</td>\n      <td>NaN</td>\n      <td>A</td>\n      <td>N36E30</td>\n      <td>A</td>\n      <td>X</td>\n      <td>NaN</td>\n    </tr>\n    <tr>\n      <th>160893</th>\n      <td>1996-06-01</td>\n      <td>7967</td>\n      <td>1.0</td>\n      <td>NaN</td>\n      <td>A</td>\n      <td>N33E32</td>\n      <td>A</td>\n      <td>X</td>\n      <td>NaN</td>\n    </tr>\n    <tr>\n      <th>160894</th>\n      <td>1996-06-02</td>\n      <td>7967</td>\n      <td>1.0</td>\n      <td>NaN</td>\n      <td>A</td>\n      <td>N36E25</td>\n      <td>A</td>\n      <td>X</td>\n      <td>NaN</td>\n    </tr>\n    <tr>\n      <th>160895</th>\n      <td>1996-06-02</td>\n      <td>7967</td>\n      <td>1.0</td>\n      <td>NaN</td>\n      <td>A</td>\n      <td>N37E22</td>\n      <td>A</td>\n      <td>X</td>\n      <td>NaN</td>\n    </tr>\n    <tr>\n      <th>160899</th>\n      <td>1996-06-03</td>\n      <td>7968</td>\n      <td>3.0</td>\n      <td>NaN</td>\n      <td>B</td>\n      <td>N02E46</td>\n      <td>B</td>\n      <td>X</td>\n      <td>O</td>\n    </tr>\n  </tbody>\n</table>\n<p>140151 rows × 9 columns</p>\n</div>"
     },
     "execution_count": 37,
     "metadata": {},
     "output_type": "execute_result"
    }
   ],
   "source": [
    "old_data_before_1996 = df_old_data[df_old_data['Date'] < '1996-06-04']\n",
    "old_data_before_1996"
   ],
   "metadata": {
    "collapsed": false,
    "ExecuteTime": {
     "end_time": "2024-07-31T02:38:11.485855800Z",
     "start_time": "2024-07-31T02:38:11.461163500Z"
    }
   },
   "id": "e79828c60f374603"
  },
  {
   "cell_type": "code",
   "execution_count": 38,
   "outputs": [
    {
     "data": {
      "text/plain": "            Date Region  Sunspot Number        Size Magnetic Classification  \\\n0     1981-12-01   3477            70.0  541.666667                      BG   \n1     1981-12-01   3478            32.0  535.000000                      BG   \n2     1981-12-01   3480             4.0   26.000000                       B   \n3     1981-12-01   3481             8.0   33.333333                       B   \n4     1981-12-01   3484            35.0  203.333333                      BG   \n...          ...    ...             ...         ...                     ...   \n32453 1996-05-22   7964             1.0    0.000000                       A   \n32454 1996-05-23   7964             2.0   10.000000                       B   \n32455 1996-06-01   7967             1.0    0.000000                       A   \n32456 1996-06-02   7967             1.0    0.000000                       A   \n32457 1996-06-03   7968             3.0    0.000000                       B   \n\n      Location Zurich Class Penumbra Class Compactness Class  \n0       S11E06            F              K                 I  \n1       N13W46            E              K                 I  \n2       S22W37            C              A                 O  \n3       S15E28            C              R                 O  \n4       N16W10            D              A                 I  \n...        ...          ...            ...               ...  \n32453   S37E58            A              X              None  \n32454   S11E66            B              X                 O  \n32455   N35E33            A              X              None  \n32456   N36E25            A              X              None  \n32457   N02E46            B              X                 O  \n\n[32458 rows x 9 columns]",
      "text/html": "<div>\n<style scoped>\n    .dataframe tbody tr th:only-of-type {\n        vertical-align: middle;\n    }\n\n    .dataframe tbody tr th {\n        vertical-align: top;\n    }\n\n    .dataframe thead th {\n        text-align: right;\n    }\n</style>\n<table border=\"1\" class=\"dataframe\">\n  <thead>\n    <tr style=\"text-align: right;\">\n      <th></th>\n      <th>Date</th>\n      <th>Region</th>\n      <th>Sunspot Number</th>\n      <th>Size</th>\n      <th>Magnetic Classification</th>\n      <th>Location</th>\n      <th>Zurich Class</th>\n      <th>Penumbra Class</th>\n      <th>Compactness Class</th>\n    </tr>\n  </thead>\n  <tbody>\n    <tr>\n      <th>0</th>\n      <td>1981-12-01</td>\n      <td>3477</td>\n      <td>70.0</td>\n      <td>541.666667</td>\n      <td>BG</td>\n      <td>S11E06</td>\n      <td>F</td>\n      <td>K</td>\n      <td>I</td>\n    </tr>\n    <tr>\n      <th>1</th>\n      <td>1981-12-01</td>\n      <td>3478</td>\n      <td>32.0</td>\n      <td>535.000000</td>\n      <td>BG</td>\n      <td>N13W46</td>\n      <td>E</td>\n      <td>K</td>\n      <td>I</td>\n    </tr>\n    <tr>\n      <th>2</th>\n      <td>1981-12-01</td>\n      <td>3480</td>\n      <td>4.0</td>\n      <td>26.000000</td>\n      <td>B</td>\n      <td>S22W37</td>\n      <td>C</td>\n      <td>A</td>\n      <td>O</td>\n    </tr>\n    <tr>\n      <th>3</th>\n      <td>1981-12-01</td>\n      <td>3481</td>\n      <td>8.0</td>\n      <td>33.333333</td>\n      <td>B</td>\n      <td>S15E28</td>\n      <td>C</td>\n      <td>R</td>\n      <td>O</td>\n    </tr>\n    <tr>\n      <th>4</th>\n      <td>1981-12-01</td>\n      <td>3484</td>\n      <td>35.0</td>\n      <td>203.333333</td>\n      <td>BG</td>\n      <td>N16W10</td>\n      <td>D</td>\n      <td>A</td>\n      <td>I</td>\n    </tr>\n    <tr>\n      <th>...</th>\n      <td>...</td>\n      <td>...</td>\n      <td>...</td>\n      <td>...</td>\n      <td>...</td>\n      <td>...</td>\n      <td>...</td>\n      <td>...</td>\n      <td>...</td>\n    </tr>\n    <tr>\n      <th>32453</th>\n      <td>1996-05-22</td>\n      <td>7964</td>\n      <td>1.0</td>\n      <td>0.000000</td>\n      <td>A</td>\n      <td>S37E58</td>\n      <td>A</td>\n      <td>X</td>\n      <td>None</td>\n    </tr>\n    <tr>\n      <th>32454</th>\n      <td>1996-05-23</td>\n      <td>7964</td>\n      <td>2.0</td>\n      <td>10.000000</td>\n      <td>B</td>\n      <td>S11E66</td>\n      <td>B</td>\n      <td>X</td>\n      <td>O</td>\n    </tr>\n    <tr>\n      <th>32455</th>\n      <td>1996-06-01</td>\n      <td>7967</td>\n      <td>1.0</td>\n      <td>0.000000</td>\n      <td>A</td>\n      <td>N35E33</td>\n      <td>A</td>\n      <td>X</td>\n      <td>None</td>\n    </tr>\n    <tr>\n      <th>32456</th>\n      <td>1996-06-02</td>\n      <td>7967</td>\n      <td>1.0</td>\n      <td>0.000000</td>\n      <td>A</td>\n      <td>N36E25</td>\n      <td>A</td>\n      <td>X</td>\n      <td>None</td>\n    </tr>\n    <tr>\n      <th>32457</th>\n      <td>1996-06-03</td>\n      <td>7968</td>\n      <td>3.0</td>\n      <td>0.000000</td>\n      <td>B</td>\n      <td>N02E46</td>\n      <td>B</td>\n      <td>X</td>\n      <td>O</td>\n    </tr>\n  </tbody>\n</table>\n<p>32458 rows × 9 columns</p>\n</div>"
     },
     "execution_count": 38,
     "metadata": {},
     "output_type": "execute_result"
    }
   ],
   "source": [
    "old_data_before_1996_aggregated = old_data_before_1996.groupby(['Date', 'Region']).agg({\n",
    "  'Sunspot Number': 'max',\n",
    "  'Size': lambda x: x.fillna(0).mean(),\n",
    "  'Magnetic Classification': 'first',\n",
    "  'Location': 'first',\n",
    "  'Zurich Class': 'first',\n",
    "  'Penumbra Class': 'first',\n",
    "  'Compactness Class': 'first'\n",
    "}).reset_index()\n",
    "old_data_before_1996_aggregated"
   ],
   "metadata": {
    "collapsed": false,
    "ExecuteTime": {
     "end_time": "2024-07-31T02:38:13.710662300Z",
     "start_time": "2024-07-31T02:38:12.457474600Z"
    }
   },
   "id": "12221f170de9e168"
  },
  {
   "cell_type": "code",
   "execution_count": 39,
   "outputs": [
    {
     "data": {
      "text/plain": "            Date Region  Sunspot Number        Size Magnetic Classification  \\\n0     1981-12-01   3477            70.0  541.666667                      BG   \n1     1981-12-01   3478            32.0  535.000000                      BG   \n2     1981-12-01   3480             4.0   26.000000                       B   \n3     1981-12-01   3481             8.0   33.333333                       B   \n4     1981-12-01   3484            35.0  203.333333                      BG   \n...          ...    ...             ...         ...                     ...   \n72314 2024-06-30  13731             1.0   10.000000                       A   \n72315 2024-06-30  13732             4.0   30.000000                       B   \n72316 2024-06-30  13733             4.0   40.000000                       B   \n72317 2024-06-30  13734             4.0   60.000000                       B   \n72318 2024-06-30  13735             1.0   60.000000                       A   \n\n      Location Zurich Class Penumbra Class Compactness Class  \n0       S11E06            F              K                 I  \n1       N13W46            E              K                 I  \n2       S22W37            C              A                 O  \n3       S15E28            C              R                 O  \n4       N16W10            D              A                 I  \n...        ...          ...            ...               ...  \n72314   S16E21            A              X                 X  \n72315   S18W14            C              A                 O  \n72316   N05E13            D              A                 O  \n72317   N07E53            D              A                 O  \n72318   N17E61            H              S                 X  \n\n[72319 rows x 9 columns]",
      "text/html": "<div>\n<style scoped>\n    .dataframe tbody tr th:only-of-type {\n        vertical-align: middle;\n    }\n\n    .dataframe tbody tr th {\n        vertical-align: top;\n    }\n\n    .dataframe thead th {\n        text-align: right;\n    }\n</style>\n<table border=\"1\" class=\"dataframe\">\n  <thead>\n    <tr style=\"text-align: right;\">\n      <th></th>\n      <th>Date</th>\n      <th>Region</th>\n      <th>Sunspot Number</th>\n      <th>Size</th>\n      <th>Magnetic Classification</th>\n      <th>Location</th>\n      <th>Zurich Class</th>\n      <th>Penumbra Class</th>\n      <th>Compactness Class</th>\n    </tr>\n  </thead>\n  <tbody>\n    <tr>\n      <th>0</th>\n      <td>1981-12-01</td>\n      <td>3477</td>\n      <td>70.0</td>\n      <td>541.666667</td>\n      <td>BG</td>\n      <td>S11E06</td>\n      <td>F</td>\n      <td>K</td>\n      <td>I</td>\n    </tr>\n    <tr>\n      <th>1</th>\n      <td>1981-12-01</td>\n      <td>3478</td>\n      <td>32.0</td>\n      <td>535.000000</td>\n      <td>BG</td>\n      <td>N13W46</td>\n      <td>E</td>\n      <td>K</td>\n      <td>I</td>\n    </tr>\n    <tr>\n      <th>2</th>\n      <td>1981-12-01</td>\n      <td>3480</td>\n      <td>4.0</td>\n      <td>26.000000</td>\n      <td>B</td>\n      <td>S22W37</td>\n      <td>C</td>\n      <td>A</td>\n      <td>O</td>\n    </tr>\n    <tr>\n      <th>3</th>\n      <td>1981-12-01</td>\n      <td>3481</td>\n      <td>8.0</td>\n      <td>33.333333</td>\n      <td>B</td>\n      <td>S15E28</td>\n      <td>C</td>\n      <td>R</td>\n      <td>O</td>\n    </tr>\n    <tr>\n      <th>4</th>\n      <td>1981-12-01</td>\n      <td>3484</td>\n      <td>35.0</td>\n      <td>203.333333</td>\n      <td>BG</td>\n      <td>N16W10</td>\n      <td>D</td>\n      <td>A</td>\n      <td>I</td>\n    </tr>\n    <tr>\n      <th>...</th>\n      <td>...</td>\n      <td>...</td>\n      <td>...</td>\n      <td>...</td>\n      <td>...</td>\n      <td>...</td>\n      <td>...</td>\n      <td>...</td>\n      <td>...</td>\n    </tr>\n    <tr>\n      <th>72314</th>\n      <td>2024-06-30</td>\n      <td>13731</td>\n      <td>1.0</td>\n      <td>10.000000</td>\n      <td>A</td>\n      <td>S16E21</td>\n      <td>A</td>\n      <td>X</td>\n      <td>X</td>\n    </tr>\n    <tr>\n      <th>72315</th>\n      <td>2024-06-30</td>\n      <td>13732</td>\n      <td>4.0</td>\n      <td>30.000000</td>\n      <td>B</td>\n      <td>S18W14</td>\n      <td>C</td>\n      <td>A</td>\n      <td>O</td>\n    </tr>\n    <tr>\n      <th>72316</th>\n      <td>2024-06-30</td>\n      <td>13733</td>\n      <td>4.0</td>\n      <td>40.000000</td>\n      <td>B</td>\n      <td>N05E13</td>\n      <td>D</td>\n      <td>A</td>\n      <td>O</td>\n    </tr>\n    <tr>\n      <th>72317</th>\n      <td>2024-06-30</td>\n      <td>13734</td>\n      <td>4.0</td>\n      <td>60.000000</td>\n      <td>B</td>\n      <td>N07E53</td>\n      <td>D</td>\n      <td>A</td>\n      <td>O</td>\n    </tr>\n    <tr>\n      <th>72318</th>\n      <td>2024-06-30</td>\n      <td>13735</td>\n      <td>1.0</td>\n      <td>60.000000</td>\n      <td>A</td>\n      <td>N17E61</td>\n      <td>H</td>\n      <td>S</td>\n      <td>X</td>\n    </tr>\n  </tbody>\n</table>\n<p>72319 rows × 9 columns</p>\n</div>"
     },
     "execution_count": 39,
     "metadata": {},
     "output_type": "execute_result"
    }
   ],
   "source": [
    "df = pd.concat([old_data_before_1996_aggregated, df], ignore_index=True)\n",
    "df"
   ],
   "metadata": {
    "collapsed": false,
    "ExecuteTime": {
     "end_time": "2024-07-31T02:38:13.721174600Z",
     "start_time": "2024-07-31T02:38:13.713175400Z"
    }
   },
   "id": "c9ed5385dd5472a"
  },
  {
   "cell_type": "code",
   "execution_count": 40,
   "outputs": [
    {
     "data": {
      "text/plain": "            Date Region  Sunspot Number  Size Magnetic Classification  \\\n0     1981-12-01   3477              70   542                      BG   \n1     1981-12-01   3478              32   535                      BG   \n2     1981-12-01   3480               4    26                       B   \n3     1981-12-01   3481               8    33                       B   \n4     1981-12-01   3484              35   203                      BG   \n...          ...    ...             ...   ...                     ...   \n72314 2024-06-30  13731               1    10                       A   \n72315 2024-06-30  13732               4    30                       B   \n72316 2024-06-30  13733               4    40                       B   \n72317 2024-06-30  13734               4    60                       B   \n72318 2024-06-30  13735               1    60                       A   \n\n      Location Zurich Class Penumbra Class Compactness Class  \n0       S11E06            F              K                 I  \n1       N13W46            E              K                 I  \n2       S22W37            C              A                 O  \n3       S15E28            C              R                 O  \n4       N16W10            D              A                 I  \n...        ...          ...            ...               ...  \n72314   S16E21            A              X                 X  \n72315   S18W14            C              A                 O  \n72316   N05E13            D              A                 O  \n72317   N07E53            D              A                 O  \n72318   N17E61            H              S                 X  \n\n[72319 rows x 9 columns]",
      "text/html": "<div>\n<style scoped>\n    .dataframe tbody tr th:only-of-type {\n        vertical-align: middle;\n    }\n\n    .dataframe tbody tr th {\n        vertical-align: top;\n    }\n\n    .dataframe thead th {\n        text-align: right;\n    }\n</style>\n<table border=\"1\" class=\"dataframe\">\n  <thead>\n    <tr style=\"text-align: right;\">\n      <th></th>\n      <th>Date</th>\n      <th>Region</th>\n      <th>Sunspot Number</th>\n      <th>Size</th>\n      <th>Magnetic Classification</th>\n      <th>Location</th>\n      <th>Zurich Class</th>\n      <th>Penumbra Class</th>\n      <th>Compactness Class</th>\n    </tr>\n  </thead>\n  <tbody>\n    <tr>\n      <th>0</th>\n      <td>1981-12-01</td>\n      <td>3477</td>\n      <td>70</td>\n      <td>542</td>\n      <td>BG</td>\n      <td>S11E06</td>\n      <td>F</td>\n      <td>K</td>\n      <td>I</td>\n    </tr>\n    <tr>\n      <th>1</th>\n      <td>1981-12-01</td>\n      <td>3478</td>\n      <td>32</td>\n      <td>535</td>\n      <td>BG</td>\n      <td>N13W46</td>\n      <td>E</td>\n      <td>K</td>\n      <td>I</td>\n    </tr>\n    <tr>\n      <th>2</th>\n      <td>1981-12-01</td>\n      <td>3480</td>\n      <td>4</td>\n      <td>26</td>\n      <td>B</td>\n      <td>S22W37</td>\n      <td>C</td>\n      <td>A</td>\n      <td>O</td>\n    </tr>\n    <tr>\n      <th>3</th>\n      <td>1981-12-01</td>\n      <td>3481</td>\n      <td>8</td>\n      <td>33</td>\n      <td>B</td>\n      <td>S15E28</td>\n      <td>C</td>\n      <td>R</td>\n      <td>O</td>\n    </tr>\n    <tr>\n      <th>4</th>\n      <td>1981-12-01</td>\n      <td>3484</td>\n      <td>35</td>\n      <td>203</td>\n      <td>BG</td>\n      <td>N16W10</td>\n      <td>D</td>\n      <td>A</td>\n      <td>I</td>\n    </tr>\n    <tr>\n      <th>...</th>\n      <td>...</td>\n      <td>...</td>\n      <td>...</td>\n      <td>...</td>\n      <td>...</td>\n      <td>...</td>\n      <td>...</td>\n      <td>...</td>\n      <td>...</td>\n    </tr>\n    <tr>\n      <th>72314</th>\n      <td>2024-06-30</td>\n      <td>13731</td>\n      <td>1</td>\n      <td>10</td>\n      <td>A</td>\n      <td>S16E21</td>\n      <td>A</td>\n      <td>X</td>\n      <td>X</td>\n    </tr>\n    <tr>\n      <th>72315</th>\n      <td>2024-06-30</td>\n      <td>13732</td>\n      <td>4</td>\n      <td>30</td>\n      <td>B</td>\n      <td>S18W14</td>\n      <td>C</td>\n      <td>A</td>\n      <td>O</td>\n    </tr>\n    <tr>\n      <th>72316</th>\n      <td>2024-06-30</td>\n      <td>13733</td>\n      <td>4</td>\n      <td>40</td>\n      <td>B</td>\n      <td>N05E13</td>\n      <td>D</td>\n      <td>A</td>\n      <td>O</td>\n    </tr>\n    <tr>\n      <th>72317</th>\n      <td>2024-06-30</td>\n      <td>13734</td>\n      <td>4</td>\n      <td>60</td>\n      <td>B</td>\n      <td>N07E53</td>\n      <td>D</td>\n      <td>A</td>\n      <td>O</td>\n    </tr>\n    <tr>\n      <th>72318</th>\n      <td>2024-06-30</td>\n      <td>13735</td>\n      <td>1</td>\n      <td>60</td>\n      <td>A</td>\n      <td>N17E61</td>\n      <td>H</td>\n      <td>S</td>\n      <td>X</td>\n    </tr>\n  </tbody>\n</table>\n<p>72319 rows × 9 columns</p>\n</div>"
     },
     "execution_count": 40,
     "metadata": {},
     "output_type": "execute_result"
    }
   ],
   "source": [
    "df['Sunspot Number'] = df['Sunspot Number'].round().astype(int)\n",
    "df['Size'] = df['Size'].round().astype(int)\n",
    "df"
   ],
   "metadata": {
    "collapsed": false,
    "ExecuteTime": {
     "end_time": "2024-07-31T02:38:14.935603100Z",
     "start_time": "2024-07-31T02:38:14.924786700Z"
    }
   },
   "id": "b4c3cf2b5a5e194a"
  },
  {
   "cell_type": "code",
   "execution_count": 41,
   "outputs": [
    {
     "data": {
      "text/plain": "{int, str}"
     },
     "execution_count": 41,
     "metadata": {},
     "output_type": "execute_result"
    }
   ],
   "source": [
    "get_unique_types_of_col(df['Region'])"
   ],
   "metadata": {
    "collapsed": false,
    "ExecuteTime": {
     "end_time": "2024-07-31T02:38:16.930155200Z",
     "start_time": "2024-07-31T02:38:16.919454Z"
    }
   },
   "id": "7bf35010ea67866b"
  },
  {
   "cell_type": "code",
   "execution_count": 42,
   "outputs": [],
   "source": [
    "df['Region'] = df['Region'].apply(lambda x: str(x) if pd.notna(x) else '')"
   ],
   "metadata": {
    "collapsed": false,
    "ExecuteTime": {
     "end_time": "2024-07-31T02:38:18.206358500Z",
     "start_time": "2024-07-31T02:38:18.174706700Z"
    }
   },
   "id": "6def33d8b4967819"
  },
  {
   "cell_type": "code",
   "execution_count": 43,
   "outputs": [
    {
     "data": {
      "text/plain": "{str}"
     },
     "execution_count": 43,
     "metadata": {},
     "output_type": "execute_result"
    }
   ],
   "source": [
    "get_unique_types_of_col(df['Region'])"
   ],
   "metadata": {
    "collapsed": false,
    "ExecuteTime": {
     "end_time": "2024-07-31T02:38:18.775042700Z",
     "start_time": "2024-07-31T02:38:18.742217600Z"
    }
   },
   "id": "29337a65fdb6c29d"
  },
  {
   "cell_type": "code",
   "execution_count": 44,
   "outputs": [
    {
     "data": {
      "text/plain": "array(['3477', '3478', '3480', ..., '13733', '13734', '13735'],\n      dtype=object)"
     },
     "execution_count": 44,
     "metadata": {},
     "output_type": "execute_result"
    }
   ],
   "source": [
    "df['Region'].unique()"
   ],
   "metadata": {
    "collapsed": false,
    "ExecuteTime": {
     "end_time": "2024-07-31T02:38:19.422300100Z",
     "start_time": "2024-07-31T02:38:19.416300200Z"
    }
   },
   "id": "1dc302ad3ed52930"
  },
  {
   "cell_type": "code",
   "execution_count": 45,
   "outputs": [
    {
     "data": {
      "text/plain": "      Region Location\n6245    0001   S16E38\n6253    0001   S15E28\n46769  10001   N20E70\n46775  10001   N20E58\n46784  10001   N20E46\n46792  10001   N20E33\n46800  10001   N20E20\n46810  10001   N20E06\n46818  10001   N21W11\n46825  10001   N21W22\n46832  10001   N21W35\n46837  10001   N21W48\n46845  10001   N20W61\n46854  10001   N20W75\n46862  10001   N20W92",
      "text/html": "<div>\n<style scoped>\n    .dataframe tbody tr th:only-of-type {\n        vertical-align: middle;\n    }\n\n    .dataframe tbody tr th {\n        vertical-align: top;\n    }\n\n    .dataframe thead th {\n        text-align: right;\n    }\n</style>\n<table border=\"1\" class=\"dataframe\">\n  <thead>\n    <tr style=\"text-align: right;\">\n      <th></th>\n      <th>Region</th>\n      <th>Location</th>\n    </tr>\n  </thead>\n  <tbody>\n    <tr>\n      <th>6245</th>\n      <td>0001</td>\n      <td>S16E38</td>\n    </tr>\n    <tr>\n      <th>6253</th>\n      <td>0001</td>\n      <td>S15E28</td>\n    </tr>\n    <tr>\n      <th>46769</th>\n      <td>10001</td>\n      <td>N20E70</td>\n    </tr>\n    <tr>\n      <th>46775</th>\n      <td>10001</td>\n      <td>N20E58</td>\n    </tr>\n    <tr>\n      <th>46784</th>\n      <td>10001</td>\n      <td>N20E46</td>\n    </tr>\n    <tr>\n      <th>46792</th>\n      <td>10001</td>\n      <td>N20E33</td>\n    </tr>\n    <tr>\n      <th>46800</th>\n      <td>10001</td>\n      <td>N20E20</td>\n    </tr>\n    <tr>\n      <th>46810</th>\n      <td>10001</td>\n      <td>N20E06</td>\n    </tr>\n    <tr>\n      <th>46818</th>\n      <td>10001</td>\n      <td>N21W11</td>\n    </tr>\n    <tr>\n      <th>46825</th>\n      <td>10001</td>\n      <td>N21W22</td>\n    </tr>\n    <tr>\n      <th>46832</th>\n      <td>10001</td>\n      <td>N21W35</td>\n    </tr>\n    <tr>\n      <th>46837</th>\n      <td>10001</td>\n      <td>N21W48</td>\n    </tr>\n    <tr>\n      <th>46845</th>\n      <td>10001</td>\n      <td>N20W61</td>\n    </tr>\n    <tr>\n      <th>46854</th>\n      <td>10001</td>\n      <td>N20W75</td>\n    </tr>\n    <tr>\n      <th>46862</th>\n      <td>10001</td>\n      <td>N20W92</td>\n    </tr>\n  </tbody>\n</table>\n</div>"
     },
     "execution_count": 45,
     "metadata": {},
     "output_type": "execute_result"
    }
   ],
   "source": [
    "df[(df['Region'] == '0001') | (df['Region'] == '10001')][['Region', 'Location']]"
   ],
   "metadata": {
    "collapsed": false,
    "ExecuteTime": {
     "end_time": "2024-07-31T02:38:20.474061200Z",
     "start_time": "2024-07-31T02:38:20.421953500Z"
    }
   },
   "id": "357a23fc49b5c4e8"
  },
  {
   "cell_type": "code",
   "execution_count": 46,
   "outputs": [
    {
     "data": {
      "text/plain": "      Region Location\n46768  10000   N18E50\n46774  10000   N18E36\n46783  10000   N18E24\n46791  10000   N18E12\n46799  10000   N16W01\n46809  10000   N18W15\n46817  10000   N18W30",
      "text/html": "<div>\n<style scoped>\n    .dataframe tbody tr th:only-of-type {\n        vertical-align: middle;\n    }\n\n    .dataframe tbody tr th {\n        vertical-align: top;\n    }\n\n    .dataframe thead th {\n        text-align: right;\n    }\n</style>\n<table border=\"1\" class=\"dataframe\">\n  <thead>\n    <tr style=\"text-align: right;\">\n      <th></th>\n      <th>Region</th>\n      <th>Location</th>\n    </tr>\n  </thead>\n  <tbody>\n    <tr>\n      <th>46768</th>\n      <td>10000</td>\n      <td>N18E50</td>\n    </tr>\n    <tr>\n      <th>46774</th>\n      <td>10000</td>\n      <td>N18E36</td>\n    </tr>\n    <tr>\n      <th>46783</th>\n      <td>10000</td>\n      <td>N18E24</td>\n    </tr>\n    <tr>\n      <th>46791</th>\n      <td>10000</td>\n      <td>N18E12</td>\n    </tr>\n    <tr>\n      <th>46799</th>\n      <td>10000</td>\n      <td>N16W01</td>\n    </tr>\n    <tr>\n      <th>46809</th>\n      <td>10000</td>\n      <td>N18W15</td>\n    </tr>\n    <tr>\n      <th>46817</th>\n      <td>10000</td>\n      <td>N18W30</td>\n    </tr>\n  </tbody>\n</table>\n</div>"
     },
     "execution_count": 46,
     "metadata": {},
     "output_type": "execute_result"
    }
   ],
   "source": [
    "df[df['Region'] == '10000'][['Region', 'Location']]"
   ],
   "metadata": {
    "collapsed": false,
    "ExecuteTime": {
     "end_time": "2024-07-31T02:38:21.150803500Z",
     "start_time": "2024-07-31T02:38:21.123800300Z"
    }
   },
   "id": "82164a0d1e9544d8"
  },
  {
   "cell_type": "code",
   "execution_count": 47,
   "outputs": [
    {
     "data": {
      "text/plain": "Magnetic Classification     137\nZurich Class                  2\nPenumbra Class                1\nCompactness Class          5450\ndtype: int64"
     },
     "execution_count": 47,
     "metadata": {},
     "output_type": "execute_result"
    }
   ],
   "source": [
    "get_null_counts(df)"
   ],
   "metadata": {
    "collapsed": false,
    "ExecuteTime": {
     "end_time": "2024-07-31T02:38:23.048818900Z",
     "start_time": "2024-07-31T02:38:23.028740700Z"
    }
   },
   "id": "8012d0949e6095de"
  },
  {
   "cell_type": "code",
   "execution_count": 51,
   "outputs": [
    {
     "data": {
      "text/plain": "{'Date': {pandas._libs.tslibs.timestamps.Timestamp},\n 'Region': {str},\n 'Sunspot Number': {int},\n 'Size': {int},\n 'Magnetic Classification': {NoneType, str},\n 'Location': {str},\n 'Zurich Class': {NoneType, str},\n 'Penumbra Class': {NoneType, str},\n 'Compactness Class': {NoneType, str}}"
     },
     "execution_count": 51,
     "metadata": {},
     "output_type": "execute_result"
    }
   ],
   "source": [
    "get_all_unique_types(df)"
   ],
   "metadata": {
    "collapsed": false,
    "ExecuteTime": {
     "end_time": "2024-07-31T02:42:00.086241900Z",
     "start_time": "2024-07-31T02:42:00.045181100Z"
    }
   },
   "id": "4a3d1da808bbabaa"
  },
  {
   "cell_type": "code",
   "execution_count": 52,
   "outputs": [],
   "source": [
    "df.to_csv('../data/sunspot-processed.csv', index=False)"
   ],
   "metadata": {
    "collapsed": false,
    "ExecuteTime": {
     "end_time": "2024-07-31T02:43:18.331711100Z",
     "start_time": "2024-07-31T02:43:18.246689400Z"
    }
   },
   "id": "b2b1f9e916a5e605"
  }
 ],
 "metadata": {
  "kernelspec": {
   "display_name": "Python 3",
   "language": "python",
   "name": "python3"
  },
  "language_info": {
   "codemirror_mode": {
    "name": "ipython",
    "version": 2
   },
   "file_extension": ".py",
   "mimetype": "text/x-python",
   "name": "python",
   "nbconvert_exporter": "python",
   "pygments_lexer": "ipython2",
   "version": "2.7.6"
  }
 },
 "nbformat": 4,
 "nbformat_minor": 5
}
