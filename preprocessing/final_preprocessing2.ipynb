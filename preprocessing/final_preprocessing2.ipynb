{
 "cells": [
  {
   "cell_type": "code",
   "execution_count": 300,
   "id": "initial_id",
   "metadata": {
    "collapsed": true,
    "ExecuteTime": {
     "end_time": "2024-08-11T01:09:38.173480600Z",
     "start_time": "2024-08-11T01:09:38.137391700Z"
    }
   },
   "outputs": [],
   "source": [
    "import pandas as pd\n",
    "import numpy as np\n",
    "import matplotlib.pyplot as plt\n",
    "\n",
    "from utils.data import *\n",
    "from utils.datetime import convert_to_pd_timestamp\n",
    "from utils.maps import (location_map, zurich_map, penumbra_map, compactness_map,\n",
    "                        xray_class_map, inverse_mapping)\n",
    "\n",
    "from sklearn.svm import SVR\n",
    "from sklearn.metrics import accuracy_score, mean_squared_error, r2_score\n",
    "from sklearn.ensemble import RandomForestRegressor"
   ]
  },
  {
   "cell_type": "code",
   "execution_count": 301,
   "outputs": [],
   "source": [
    "df_sunspot = pd.read_csv(\"../data/sunspot-processed-2.csv\")\n",
    "df_flares = pd.read_csv(\"../data/flares-processed-2.csv\")"
   ],
   "metadata": {
    "collapsed": false,
    "ExecuteTime": {
     "end_time": "2024-08-11T01:09:39.006906400Z",
     "start_time": "2024-08-11T01:09:38.763063500Z"
    }
   },
   "id": "d0915982920916f7"
  },
  {
   "cell_type": "code",
   "execution_count": 302,
   "outputs": [
    {
     "name": "stderr",
     "output_type": "stream",
     "text": [
      "/tmp/ipykernel_67921/834412977.py:8: SettingWithCopyWarning: \n",
      "A value is trying to be set on a copy of a slice from a DataFrame.\n",
      "Try using .loc[row_indexer,col_indexer] = value instead\n",
      "\n",
      "See the caveats in the documentation: https://pandas.pydata.org/pandas-docs/stable/user_guide/indexing.html#returning-a-view-versus-a-copy\n",
      "  df_sunspot_no_null['Region'] = df_sunspot_no_null['Region'].astype(int)\n",
      "/tmp/ipykernel_67921/834412977.py:9: SettingWithCopyWarning: \n",
      "A value is trying to be set on a copy of a slice from a DataFrame.\n",
      "Try using .loc[row_indexer,col_indexer] = value instead\n",
      "\n",
      "See the caveats in the documentation: https://pandas.pydata.org/pandas-docs/stable/user_guide/indexing.html#returning-a-view-versus-a-copy\n",
      "  df_flares_no_null['Region'] = df_flares_no_null['Region'].astype(int)\n"
     ]
    }
   ],
   "source": [
    "df_flares['Start'] = pd.to_datetime(df_flares['Start'])\n",
    "df_flares['End'] = pd.to_datetime(df_flares['End'])\n",
    "df_flares['Maximum'] = pd.to_datetime(df_flares['Maximum'])\n",
    "\n",
    "df_sunspot_no_null = df_sunspot.dropna(subset=['Region', 'Sunspot Number'])\n",
    "df_flares_no_null = df_flares.dropna(subset=['Region', 'X-ray class', 'X-ray intensity'])\n",
    "\n",
    "df_sunspot_no_null['Region'] = df_sunspot_no_null['Region'].astype(int)\n",
    "df_flares_no_null['Region'] = df_flares_no_null['Region'].astype(int)\n",
    "\n",
    "df_sunspot_no_null.to_csv(\"../data/sunspot-processed-nonull-R.csv\", index=False)\n",
    "df_flares_no_null.to_csv(\"../data/flares-processed-nonull-R.csv\", index=False)"
   ],
   "metadata": {
    "collapsed": false,
    "ExecuteTime": {
     "end_time": "2024-08-11T01:09:39.710204100Z",
     "start_time": "2024-08-11T01:09:39.298999500Z"
    }
   },
   "id": "b86e680980f9a33b"
  },
  {
   "cell_type": "code",
   "execution_count": 219,
   "outputs": [
    {
     "data": {
      "text/plain": "((276981, 10), (78812, 9))"
     },
     "execution_count": 219,
     "metadata": {},
     "output_type": "execute_result"
    }
   ],
   "source": [
    "df_sunspot.shape, df_flares.shape"
   ],
   "metadata": {
    "collapsed": false,
    "ExecuteTime": {
     "end_time": "2024-08-11T00:55:58.828878100Z",
     "start_time": "2024-08-11T00:55:58.804433900Z"
    }
   },
   "id": "acd416b7ce45de31"
  },
  {
   "cell_type": "code",
   "execution_count": 220,
   "outputs": [
    {
     "data": {
      "text/plain": "Region                2149\nSunspot Number       36505\nSize                 50131\nZurich Class         36625\nPenumbra Class       36687\nCompactness Class    75774\ndtype: int64"
     },
     "execution_count": 220,
     "metadata": {},
     "output_type": "execute_result"
    }
   ],
   "source": [
    "get_null_counts(df_sunspot)"
   ],
   "metadata": {
    "collapsed": false,
    "ExecuteTime": {
     "end_time": "2024-08-11T00:55:58.904575400Z",
     "start_time": "2024-08-11T00:55:58.809434Z"
    }
   },
   "id": "2a6db8297e15bc4a"
  },
  {
   "cell_type": "code",
   "execution_count": 291,
   "outputs": [
    {
     "data": {
      "text/plain": "(238357, 10)"
     },
     "execution_count": 291,
     "metadata": {},
     "output_type": "execute_result"
    }
   ],
   "source": [
    "df_sunspot.dropna(subset=['Region', 'Sunspot Number'], inplace=True)\n",
    "df_sunspot.shape"
   ],
   "metadata": {
    "collapsed": false,
    "ExecuteTime": {
     "end_time": "2024-08-11T01:04:24.050131900Z",
     "start_time": "2024-08-11T01:04:24.013985400Z"
    }
   },
   "id": "166bc4c1aab4eb80"
  },
  {
   "cell_type": "code",
   "execution_count": 222,
   "outputs": [
    {
     "data": {
      "text/plain": "Region             33801\nX-ray class           26\nX-ray intensity       29\ndtype: int64"
     },
     "execution_count": 222,
     "metadata": {},
     "output_type": "execute_result"
    }
   ],
   "source": [
    "get_null_counts(df_flares)"
   ],
   "metadata": {
    "collapsed": false,
    "ExecuteTime": {
     "end_time": "2024-08-11T00:55:59.394001Z",
     "start_time": "2024-08-11T00:55:59.368994400Z"
    }
   },
   "id": "ff392e27094852d3"
  },
  {
   "cell_type": "code",
   "execution_count": 223,
   "outputs": [
    {
     "name": "stderr",
     "output_type": "stream",
     "text": [
      "/tmp/ipykernel_67921/1876020546.py:2: SettingWithCopyWarning: \n",
      "A value is trying to be set on a copy of a slice from a DataFrame.\n",
      "Try using .loc[row_indexer,col_indexer] = value instead\n",
      "\n",
      "See the caveats in the documentation: https://pandas.pydata.org/pandas-docs/stable/user_guide/indexing.html#returning-a-view-versus-a-copy\n",
      "  _tmp_df_sunspot['Date'] = pd.to_datetime(_tmp_df_sunspot[['Year', 'Month', 'Day']])\n"
     ]
    },
    {
     "data": {
      "text/plain": "0"
     },
     "execution_count": 223,
     "metadata": {},
     "output_type": "execute_result"
    }
   ],
   "source": [
    "_tmp_df_sunspot = df_sunspot[['Year', 'Month', 'Day', 'Region']]\n",
    "_tmp_df_sunspot['Date'] = pd.to_datetime(_tmp_df_sunspot[['Year', 'Month', 'Day']])\n",
    "# _tmp_df_sunspot.set_index('Date', inplace=True)\n",
    "# _tmp_df_sunspot['Region'] = _tmp_df_sunspot['Region'].replace(np.nan, -1)\n",
    "_tmp_df_sunspot['Region'].isnull().sum()"
   ],
   "metadata": {
    "collapsed": false,
    "ExecuteTime": {
     "end_time": "2024-08-11T00:55:59.685505800Z",
     "start_time": "2024-08-11T00:55:59.626624900Z"
    }
   },
   "id": "957545390abcf04"
  },
  {
   "cell_type": "code",
   "execution_count": 224,
   "outputs": [
    {
     "data": {
      "text/plain": "((13049, 4), (501, 4))"
     },
     "execution_count": 224,
     "metadata": {},
     "output_type": "execute_result"
    }
   ],
   "source": [
    "_tmp_df_sunspot_day = (df_sunspot[['Year', 'Month', 'Day', 'Region', 'Sunspot Number']]\n",
    "                    .groupby(['Year', 'Month', 'Day'])\n",
    "                    .agg({'Sunspot Number': 'sum'})\n",
    "                    .reset_index())\n",
    "\n",
    "_tmp_df_sunspot_month = df_sunspot[['Year', 'Month', 'Region', 'Sunspot Number']]\n",
    "_tmp_df_sunspot_month = (_tmp_df_sunspot_month\n",
    "                    .groupby(['Year', 'Month'])\n",
    "                    .agg({'Sunspot Number': 'sum'})\n",
    "                    .reset_index())\n",
    "_tmp_df_sunspot_month['Date'] = pd.to_datetime(_tmp_df_sunspot_month[['Year', 'Month']].assign(Day=1))\n",
    "_tmp_df_sunspot_day.shape, _tmp_df_sunspot_month.shape"
   ],
   "metadata": {
    "collapsed": false,
    "ExecuteTime": {
     "end_time": "2024-08-11T00:56:00.086943800Z",
     "start_time": "2024-08-11T00:55:59.934017600Z"
    }
   },
   "id": "ec0529630d189400"
  },
  {
   "cell_type": "markdown",
   "source": [
    "### Per day"
   ],
   "metadata": {
    "collapsed": false
   },
   "id": "f473a80bdb5b2891"
  },
  {
   "cell_type": "code",
   "execution_count": 225,
   "outputs": [
    {
     "data": {
      "text/plain": "<Figure size 1000x600 with 1 Axes>",
      "image/png": "[encoded data removed]"
     },
     "metadata": {},
     "output_type": "display_data"
    }
   ],
   "source": [
    "plt.figure(figsize=(10, 6))\n",
    "plt.bar(pd.to_datetime(_tmp_df_sunspot_day[['Year', 'Month', 'Day']]),\n",
    "         _tmp_df_sunspot_day['Sunspot Number'])\n",
    "plt.tight_layout()"
   ],
   "metadata": {
    "collapsed": false,
    "ExecuteTime": {
     "end_time": "2024-08-11T00:56:07.419360100Z",
     "start_time": "2024-08-11T00:56:00.462525800Z"
    }
   },
   "id": "69be71566a4508bd"
  },
  {
   "cell_type": "markdown",
   "source": [
    "### per month"
   ],
   "metadata": {
    "collapsed": false
   },
   "id": "b8fad44ae50c9495"
  },
  {
   "cell_type": "code",
   "execution_count": 226,
   "outputs": [
    {
     "data": {
      "text/plain": "<Figure size 1000x600 with 1 Axes>",
      "image/png": "[encoded data removed]"
     },
     "metadata": {},
     "output_type": "display_data"
    }
   ],
   "source": [
    "plt.figure(figsize=(10, 6))\n",
    "plt.scatter(_tmp_df_sunspot_month['Date'],\n",
    "         _tmp_df_sunspot_month['Sunspot Number'], marker='.')\n",
    "plt.tight_layout()"
   ],
   "metadata": {
    "collapsed": false,
    "ExecuteTime": {
     "end_time": "2024-08-11T00:56:07.729048900Z",
     "start_time": "2024-08-11T00:56:07.386473300Z"
    }
   },
   "id": "6a8e1db6d0dfc7e0"
  },
  {
   "cell_type": "markdown",
   "source": [
    "### per year"
   ],
   "metadata": {
    "collapsed": false
   },
   "id": "6030c20329dd8b5d"
  },
  {
   "cell_type": "code",
   "execution_count": 227,
   "outputs": [],
   "source": [
    "_tmp_df_sunspot_year = (df_sunspot[['Year', 'Sunspot Number']]\n",
    "                    .groupby(['Year'])\n",
    "                    .agg({'Sunspot Number': 'sum'})\n",
    "                    .reset_index())"
   ],
   "metadata": {
    "collapsed": false,
    "ExecuteTime": {
     "end_time": "2024-08-11T00:56:07.777850100Z",
     "start_time": "2024-08-11T00:56:07.503457700Z"
    }
   },
   "id": "ca40c17208404f35"
  },
  {
   "cell_type": "code",
   "execution_count": 228,
   "outputs": [
    {
     "data": {
      "text/plain": "<Figure size 1000x600 with 1 Axes>",
      "image/png": "[encoded data removed]"
     },
     "metadata": {},
     "output_type": "display_data"
    }
   ],
   "source": [
    "plt.figure(figsize=(10, 6))\n",
    "plt.bar(_tmp_df_sunspot_year['Year'],\n",
    "         _tmp_df_sunspot_year['Sunspot Number'])\n",
    "plt.tight_layout()"
   ],
   "metadata": {
    "collapsed": false,
    "ExecuteTime": {
     "end_time": "2024-08-11T00:56:07.918136200Z",
     "start_time": "2024-08-11T00:56:07.516462900Z"
    }
   },
   "id": "ab8fdee919576a12"
  },
  {
   "cell_type": "markdown",
   "source": [
    "## Full region"
   ],
   "metadata": {
    "collapsed": false
   },
   "id": "a9d353f6fe81e08"
  },
  {
   "cell_type": "code",
   "execution_count": 292,
   "outputs": [],
   "source": [
    "df_full_sunspot = pd.read_csv(\"../data/sunspot-processed-2.csv\")\n",
    "df_full_sunspot.dropna(subset=['Sunspot Number'], inplace=True)\n",
    "_tmp_full_sunspot = df_full_sunspot[['Year', 'Month', 'Day']]\n",
    "\n",
    "_tmp_full_sunspot_day = (df_full_sunspot[['Year', 'Month', 'Day', 'Sunspot Number']]\n",
    "                    .groupby(['Year', 'Month', 'Day'])\n",
    "                    .agg({'Sunspot Number': 'sum'})\n",
    "                    .reset_index())\n",
    "\n",
    "_tmp_full_sunspot_month = df_full_sunspot[['Year', 'Month', 'Sunspot Number']]\n",
    "_tmp_full_sunspot_month = (_tmp_full_sunspot_month\n",
    "                    .groupby(['Year', 'Month'])\n",
    "                    .agg({'Sunspot Number': 'sum'})\n",
    "                    .reset_index())\n",
    "_tmp_full_sunspot_month['Date'] = pd.to_datetime(_tmp_df_sunspot_month[['Year', 'Month']].assign(Day=1))\n",
    "_tmp_full_sunspot_year = (df_full_sunspot[['Year', 'Sunspot Number']]\n",
    "                    .groupby(['Year'])\n",
    "                    .agg({'Sunspot Number': 'sum'})\n",
    "                    .reset_index())"
   ],
   "metadata": {
    "collapsed": false,
    "ExecuteTime": {
     "end_time": "2024-08-11T01:04:40.630478700Z",
     "start_time": "2024-08-11T01:04:40.486796100Z"
    }
   },
   "id": "86057641d5a32b97"
  },
  {
   "cell_type": "code",
   "execution_count": 230,
   "outputs": [
    {
     "data": {
      "text/plain": "(1916904.0, 1912663.0)"
     },
     "execution_count": 230,
     "metadata": {},
     "output_type": "execute_result"
    }
   ],
   "source": [
    "_tmp_full_sunspot_year['Sunspot Number'].sum(), _tmp_df_sunspot_year['Sunspot Number'].sum()"
   ],
   "metadata": {
    "collapsed": false,
    "ExecuteTime": {
     "end_time": "2024-08-11T00:56:08.066623700Z",
     "start_time": "2024-08-11T00:56:07.860125500Z"
    }
   },
   "id": "24951e051049e7e7"
  },
  {
   "cell_type": "code",
   "execution_count": 231,
   "outputs": [
    {
     "data": {
      "text/plain": "<Figure size 1000x600 with 1 Axes>",
      "image/png": "[encoded data removed]"
     },
     "metadata": {},
     "output_type": "display_data"
    }
   ],
   "source": [
    "plt.figure(figsize=(10, 6))\n",
    "plt.bar(_tmp_full_sunspot_year['Year'],\n",
    "         _tmp_full_sunspot_year['Sunspot Number'])\n",
    "plt.tight_layout()"
   ],
   "metadata": {
    "collapsed": false,
    "ExecuteTime": {
     "end_time": "2024-08-11T00:56:08.354996200Z",
     "start_time": "2024-08-11T00:56:07.864125700Z"
    }
   },
   "id": "66bbe2e199d9e18b"
  },
  {
   "cell_type": "markdown",
   "source": [
    "## Flares"
   ],
   "metadata": {
    "collapsed": false
   },
   "id": "773d2a25868cab"
  },
  {
   "cell_type": "code",
   "execution_count": 293,
   "outputs": [
    {
     "data": {
      "text/plain": "((78783, 9), (44984, 9))"
     },
     "execution_count": 293,
     "metadata": {},
     "output_type": "execute_result"
    }
   ],
   "source": [
    "df_flares = df_flares.dropna(subset=['X-ray class', 'X-ray intensity'])\n",
    "df_noR_flares = df_flares.dropna(subset=['Region'])\n",
    "df_flares.shape, df_noR_flares.shape"
   ],
   "metadata": {
    "collapsed": false,
    "ExecuteTime": {
     "end_time": "2024-08-11T01:04:46.667261900Z",
     "start_time": "2024-08-11T01:04:46.622819700Z"
    }
   },
   "id": "5c9217c32b4549f"
  },
  {
   "cell_type": "code",
   "execution_count": 294,
   "outputs": [
    {
     "data": {
      "text/plain": "    Year  Flares\n0   1982    3851\n1   1983    2583\n2   1984    2180\n3   1985    1064\n4   1986     916\n5   1987    1389\n6   1988    2367\n7   1989    2609\n8   1990    2630\n9   1991    3324\n10  1992    2815\n11  1993    2428\n12  1994    1608\n13  1995    1124\n14  1996     510\n15  1997    1141\n16  1998    2248\n17  1999    2421\n18  2000    2661\n19  2001    2706\n20  2002    2718\n21  2003    2394\n22  2004    2369\n23  2005    2171\n24  2006    1339\n25  2007     649\n26  2008      86\n27  2009     256\n28  2010    1255\n29  2011    2171\n30  2012    2037\n31  2013    2051\n32  2014    2258\n33  2015    1899\n34  2016    1194\n35  2017    1075\n36  2018     332\n37  2019     285\n38  2020     585\n39  2021    2288\n40  2022    3402\n41  2023    3394",
      "text/html": "<div>\n<style scoped>\n    .dataframe tbody tr th:only-of-type {\n        vertical-align: middle;\n    }\n\n    .dataframe tbody tr th {\n        vertical-align: top;\n    }\n\n    .dataframe thead th {\n        text-align: right;\n    }\n</style>\n<table border=\"1\" class=\"dataframe\">\n  <thead>\n    <tr style=\"text-align: right;\">\n      <th></th>\n      <th>Year</th>\n      <th>Flares</th>\n    </tr>\n  </thead>\n  <tbody>\n    <tr>\n      <th>0</th>\n      <td>1982</td>\n      <td>3851</td>\n    </tr>\n    <tr>\n      <th>1</th>\n      <td>1983</td>\n      <td>2583</td>\n    </tr>\n    <tr>\n      <th>2</th>\n      <td>1984</td>\n      <td>2180</td>\n    </tr>\n    <tr>\n      <th>3</th>\n      <td>1985</td>\n      <td>1064</td>\n    </tr>\n    <tr>\n      <th>4</th>\n      <td>1986</td>\n      <td>916</td>\n    </tr>\n    <tr>\n      <th>5</th>\n      <td>1987</td>\n      <td>1389</td>\n    </tr>\n    <tr>\n      <th>6</th>\n      <td>1988</td>\n      <td>2367</td>\n    </tr>\n    <tr>\n      <th>7</th>\n      <td>1989</td>\n      <td>2609</td>\n    </tr>\n    <tr>\n      <th>8</th>\n      <td>1990</td>\n      <td>2630</td>\n    </tr>\n    <tr>\n      <th>9</th>\n      <td>1991</td>\n      <td>3324</td>\n    </tr>\n    <tr>\n      <th>10</th>\n      <td>1992</td>\n      <td>2815</td>\n    </tr>\n    <tr>\n      <th>11</th>\n      <td>1993</td>\n      <td>2428</td>\n    </tr>\n    <tr>\n      <th>12</th>\n      <td>1994</td>\n      <td>1608</td>\n    </tr>\n    <tr>\n      <th>13</th>\n      <td>1995</td>\n      <td>1124</td>\n    </tr>\n    <tr>\n      <th>14</th>\n      <td>1996</td>\n      <td>510</td>\n    </tr>\n    <tr>\n      <th>15</th>\n      <td>1997</td>\n      <td>1141</td>\n    </tr>\n    <tr>\n      <th>16</th>\n      <td>1998</td>\n      <td>2248</td>\n    </tr>\n    <tr>\n      <th>17</th>\n      <td>1999</td>\n      <td>2421</td>\n    </tr>\n    <tr>\n      <th>18</th>\n      <td>2000</td>\n      <td>2661</td>\n    </tr>\n    <tr>\n      <th>19</th>\n      <td>2001</td>\n      <td>2706</td>\n    </tr>\n    <tr>\n      <th>20</th>\n      <td>2002</td>\n      <td>2718</td>\n    </tr>\n    <tr>\n      <th>21</th>\n      <td>2003</td>\n      <td>2394</td>\n    </tr>\n    <tr>\n      <th>22</th>\n      <td>2004</td>\n      <td>2369</td>\n    </tr>\n    <tr>\n      <th>23</th>\n      <td>2005</td>\n      <td>2171</td>\n    </tr>\n    <tr>\n      <th>24</th>\n      <td>2006</td>\n      <td>1339</td>\n    </tr>\n    <tr>\n      <th>25</th>\n      <td>2007</td>\n      <td>649</td>\n    </tr>\n    <tr>\n      <th>26</th>\n      <td>2008</td>\n      <td>86</td>\n    </tr>\n    <tr>\n      <th>27</th>\n      <td>2009</td>\n      <td>256</td>\n    </tr>\n    <tr>\n      <th>28</th>\n      <td>2010</td>\n      <td>1255</td>\n    </tr>\n    <tr>\n      <th>29</th>\n      <td>2011</td>\n      <td>2171</td>\n    </tr>\n    <tr>\n      <th>30</th>\n      <td>2012</td>\n      <td>2037</td>\n    </tr>\n    <tr>\n      <th>31</th>\n      <td>2013</td>\n      <td>2051</td>\n    </tr>\n    <tr>\n      <th>32</th>\n      <td>2014</td>\n      <td>2258</td>\n    </tr>\n    <tr>\n      <th>33</th>\n      <td>2015</td>\n      <td>1899</td>\n    </tr>\n    <tr>\n      <th>34</th>\n      <td>2016</td>\n      <td>1194</td>\n    </tr>\n    <tr>\n      <th>35</th>\n      <td>2017</td>\n      <td>1075</td>\n    </tr>\n    <tr>\n      <th>36</th>\n      <td>2018</td>\n      <td>332</td>\n    </tr>\n    <tr>\n      <th>37</th>\n      <td>2019</td>\n      <td>285</td>\n    </tr>\n    <tr>\n      <th>38</th>\n      <td>2020</td>\n      <td>585</td>\n    </tr>\n    <tr>\n      <th>39</th>\n      <td>2021</td>\n      <td>2288</td>\n    </tr>\n    <tr>\n      <th>40</th>\n      <td>2022</td>\n      <td>3402</td>\n    </tr>\n    <tr>\n      <th>41</th>\n      <td>2023</td>\n      <td>3394</td>\n    </tr>\n  </tbody>\n</table>\n</div>"
     },
     "execution_count": 294,
     "metadata": {},
     "output_type": "execute_result"
    }
   ],
   "source": [
    "df_flares.groupby('Year').size().reset_index(name='Flares')"
   ],
   "metadata": {
    "collapsed": false,
    "ExecuteTime": {
     "end_time": "2024-08-11T01:04:47.729839100Z",
     "start_time": "2024-08-11T01:04:47.630854900Z"
    }
   },
   "id": "481973bb0e44b40b"
  },
  {
   "cell_type": "code",
   "execution_count": 234,
   "outputs": [
    {
     "data": {
      "text/plain": "       Year  Month  Day  Flares\n0      1982      1    1       8\n1      1982      1    2       9\n2      1982      1    3       5\n3      1982      1    4       9\n4      1982      1    5       2\n...     ...    ...  ...     ...\n11663  2023     12   27       4\n11664  2023     12   28       4\n11665  2023     12   29      11\n11666  2023     12   30       8\n11667  2023     12   31      14\n\n[11668 rows x 4 columns]",
      "text/html": "<div>\n<style scoped>\n    .dataframe tbody tr th:only-of-type {\n        vertical-align: middle;\n    }\n\n    .dataframe tbody tr th {\n        vertical-align: top;\n    }\n\n    .dataframe thead th {\n        text-align: right;\n    }\n</style>\n<table border=\"1\" class=\"dataframe\">\n  <thead>\n    <tr style=\"text-align: right;\">\n      <th></th>\n      <th>Year</th>\n      <th>Month</th>\n      <th>Day</th>\n      <th>Flares</th>\n    </tr>\n  </thead>\n  <tbody>\n    <tr>\n      <th>0</th>\n      <td>1982</td>\n      <td>1</td>\n      <td>1</td>\n      <td>8</td>\n    </tr>\n    <tr>\n      <th>1</th>\n      <td>1982</td>\n      <td>1</td>\n      <td>2</td>\n      <td>9</td>\n    </tr>\n    <tr>\n      <th>2</th>\n      <td>1982</td>\n      <td>1</td>\n      <td>3</td>\n      <td>5</td>\n    </tr>\n    <tr>\n      <th>3</th>\n      <td>1982</td>\n      <td>1</td>\n      <td>4</td>\n      <td>9</td>\n    </tr>\n    <tr>\n      <th>4</th>\n      <td>1982</td>\n      <td>1</td>\n      <td>5</td>\n      <td>2</td>\n    </tr>\n    <tr>\n      <th>...</th>\n      <td>...</td>\n      <td>...</td>\n      <td>...</td>\n      <td>...</td>\n    </tr>\n    <tr>\n      <th>11663</th>\n      <td>2023</td>\n      <td>12</td>\n      <td>27</td>\n      <td>4</td>\n    </tr>\n    <tr>\n      <th>11664</th>\n      <td>2023</td>\n      <td>12</td>\n      <td>28</td>\n      <td>4</td>\n    </tr>\n    <tr>\n      <th>11665</th>\n      <td>2023</td>\n      <td>12</td>\n      <td>29</td>\n      <td>11</td>\n    </tr>\n    <tr>\n      <th>11666</th>\n      <td>2023</td>\n      <td>12</td>\n      <td>30</td>\n      <td>8</td>\n    </tr>\n    <tr>\n      <th>11667</th>\n      <td>2023</td>\n      <td>12</td>\n      <td>31</td>\n      <td>14</td>\n    </tr>\n  </tbody>\n</table>\n<p>11668 rows × 4 columns</p>\n</div>"
     },
     "execution_count": 234,
     "metadata": {},
     "output_type": "execute_result"
    }
   ],
   "source": [
    "(df_flares[['Year', 'Month', 'Day']]\n",
    "                    .groupby(['Year', 'Month', 'Day'])\n",
    "                    .size()\n",
    "                    .reset_index(name='Flares'))"
   ],
   "metadata": {
    "collapsed": false,
    "ExecuteTime": {
     "end_time": "2024-08-11T00:56:08.505849900Z",
     "start_time": "2024-08-11T00:56:08.365111500Z"
    }
   },
   "id": "d842cefcd5360156"
  },
  {
   "cell_type": "code",
   "execution_count": 235,
   "outputs": [],
   "source": [
    "_tmp_full_flares = df_flares[['Year', 'Month', 'Day']]\n",
    "\n",
    "_tmp_full_flares_day = (_tmp_full_flares\n",
    "                    .groupby(['Year', 'Month', 'Day'])\n",
    "                    .size()\n",
    "                    .reset_index(name='Flares'))\n",
    "\n",
    "_tmp_full_flares_month = (_tmp_full_flares\n",
    "                    .groupby(['Year', 'Month'])\n",
    "                    .size()\n",
    "                    .reset_index(name='Flares'))\n",
    "\n",
    "# _tmp_full_sunspot_month['Date'] = pd.to_datetime(_tmp_df_sunspot_month[['Year', 'Month']].assign(Day=1))\n",
    "_tmp_full_flares_year = (_tmp_full_flares[['Year']]\n",
    "                    .groupby(['Year'])\n",
    "                    .size()\n",
    "                    .reset_index(name='Flares'))"
   ],
   "metadata": {
    "collapsed": false,
    "ExecuteTime": {
     "end_time": "2024-08-11T00:56:08.505849900Z",
     "start_time": "2024-08-11T00:56:08.393616800Z"
    }
   },
   "id": "8a0883a52c4d5a55"
  },
  {
   "cell_type": "code",
   "execution_count": 236,
   "outputs": [
    {
     "data": {
      "text/plain": "<Figure size 1000x600 with 1 Axes>",
      "image/png": "[encoded data removed]"
     },
     "metadata": {},
     "output_type": "display_data"
    }
   ],
   "source": [
    "plt.figure(figsize=(10, 6))\n",
    "plt.bar(_tmp_full_flares_day.index,\n",
    "         _tmp_full_flares_day['Flares'])\n",
    "plt.tight_layout()"
   ],
   "metadata": {
    "collapsed": false,
    "ExecuteTime": {
     "end_time": "2024-08-11T00:56:14.450722200Z",
     "start_time": "2024-08-11T00:56:08.403196900Z"
    }
   },
   "id": "6bf1a41bf0edb52c"
  },
  {
   "cell_type": "code",
   "execution_count": 237,
   "outputs": [
    {
     "data": {
      "text/plain": "<Figure size 1000x600 with 1 Axes>",
      "image/png": "[encoded data removed]"
     },
     "metadata": {},
     "output_type": "display_data"
    }
   ],
   "source": [
    "plt.figure(figsize=(10, 6))\n",
    "plt.bar(_tmp_full_flares_month.index,\n",
    "         _tmp_full_flares_month['Flares'])\n",
    "plt.tight_layout()"
   ],
   "metadata": {
    "collapsed": false,
    "ExecuteTime": {
     "end_time": "2024-08-11T00:56:14.722465600Z",
     "start_time": "2024-08-11T00:56:14.450722200Z"
    }
   },
   "id": "e91870f2a8c1da3c"
  },
  {
   "cell_type": "code",
   "execution_count": 238,
   "outputs": [
    {
     "data": {
      "text/plain": "<Figure size 1000x600 with 1 Axes>",
      "image/png": "[encoded data removed]"
     },
     "metadata": {},
     "output_type": "display_data"
    }
   ],
   "source": [
    "plt.figure(figsize=(10, 6))\n",
    "plt.bar(_tmp_full_flares_year.index,\n",
    "         _tmp_full_flares_year['Flares'])\n",
    "plt.tight_layout()"
   ],
   "metadata": {
    "collapsed": false,
    "ExecuteTime": {
     "end_time": "2024-08-11T00:56:14.854805800Z",
     "start_time": "2024-08-11T00:56:14.722465600Z"
    }
   },
   "id": "bf172808fffc1"
  },
  {
   "cell_type": "code",
   "execution_count": 238,
   "outputs": [],
   "source": [],
   "metadata": {
    "collapsed": false,
    "ExecuteTime": {
     "end_time": "2024-08-11T00:56:14.854805800Z",
     "start_time": "2024-08-11T00:56:14.811921400Z"
    }
   },
   "id": "fe0b6f7a2934dab3"
  },
  {
   "cell_type": "code",
   "execution_count": 238,
   "outputs": [],
   "source": [],
   "metadata": {
    "collapsed": false,
    "ExecuteTime": {
     "end_time": "2024-08-11T00:56:14.855802800Z",
     "start_time": "2024-08-11T00:56:14.814920600Z"
    }
   },
   "id": "6f02bcd3a1dd6242"
  },
  {
   "cell_type": "markdown",
   "source": [
    "## NO region"
   ],
   "metadata": {
    "collapsed": false
   },
   "id": "32ef035fc3283a02"
  },
  {
   "cell_type": "code",
   "execution_count": 239,
   "outputs": [],
   "source": [
    "_tmp_noR_flares = df_flares[['Year', 'Month', 'Day', 'Region']]\n",
    "_tmp_noR_flares = _tmp_noR_flares.dropna()\n",
    "_tmp_noR_flares = _tmp_noR_flares[['Year', 'Month', 'Day']]\n",
    "\n",
    "_tmp_noR_flares_day = (_tmp_noR_flares\n",
    "                    .groupby(['Year', 'Month', 'Day'])\n",
    "                    .size()\n",
    "                    .reset_index(name='Flares'))\n",
    "\n",
    "_tmp_noR_flares_month = (_tmp_noR_flares\n",
    "                    .groupby(['Year', 'Month'])\n",
    "                    .size()\n",
    "                    .reset_index(name='Flares'))\n",
    "\n",
    "_tmp_noR_flares_year = (_tmp_noR_flares[['Year']]\n",
    "                    .groupby(['Year'])\n",
    "                    .size()\n",
    "                    .reset_index(name='Flares'))"
   ],
   "metadata": {
    "collapsed": false,
    "ExecuteTime": {
     "end_time": "2024-08-11T00:56:14.855802800Z",
     "start_time": "2024-08-11T00:56:14.818938600Z"
    }
   },
   "id": "74c5f68416aad8d5"
  },
  {
   "cell_type": "code",
   "execution_count": 240,
   "outputs": [
    {
     "data": {
      "text/plain": "<Figure size 1000x600 with 1 Axes>",
      "image/png": "[encoded data removed]"
     },
     "metadata": {},
     "output_type": "display_data"
    }
   ],
   "source": [
    "plt.figure(figsize=(10, 6))\n",
    "plt.bar(_tmp_noR_flares_day.index,\n",
    "         _tmp_noR_flares_day['Flares'])\n",
    "plt.tight_layout()"
   ],
   "metadata": {
    "collapsed": false,
    "ExecuteTime": {
     "end_time": "2024-08-11T00:56:21.645180200Z",
     "start_time": "2024-08-11T00:56:14.834937500Z"
    }
   },
   "id": "195d7a7b138e99d9"
  },
  {
   "cell_type": "code",
   "execution_count": 241,
   "outputs": [
    {
     "data": {
      "text/plain": "<Figure size 1000x600 with 1 Axes>",
      "image/png": "[encoded data removed]"
     },
     "metadata": {},
     "output_type": "display_data"
    }
   ],
   "source": [
    "plt.figure(figsize=(10, 6))\n",
    "plt.bar(_tmp_noR_flares_month.index,\n",
    "         _tmp_noR_flares_month['Flares'])\n",
    "plt.tight_layout()"
   ],
   "metadata": {
    "collapsed": false,
    "ExecuteTime": {
     "end_time": "2024-08-11T00:56:21.924597300Z",
     "start_time": "2024-08-11T00:56:21.655938300Z"
    }
   },
   "id": "a6a0be6d071e9f17"
  },
  {
   "cell_type": "code",
   "execution_count": 242,
   "outputs": [
    {
     "data": {
      "text/plain": "<Figure size 1000x600 with 1 Axes>",
      "image/png": "[encoded data removed]"
     },
     "metadata": {},
     "output_type": "display_data"
    }
   ],
   "source": [
    "plt.figure(figsize=(10, 6))\n",
    "plt.bar(_tmp_noR_flares_year.index,\n",
    "         _tmp_noR_flares_year['Flares'])\n",
    "plt.tight_layout()"
   ],
   "metadata": {
    "collapsed": false,
    "ExecuteTime": {
     "end_time": "2024-08-11T00:56:22.045515200Z",
     "start_time": "2024-08-11T00:56:21.923599600Z"
    }
   },
   "id": "2480c453232d3138"
  },
  {
   "cell_type": "code",
   "execution_count": 242,
   "outputs": [],
   "source": [],
   "metadata": {
    "collapsed": false,
    "ExecuteTime": {
     "end_time": "2024-08-11T00:56:22.045515200Z",
     "start_time": "2024-08-11T00:56:22.023199700Z"
    }
   },
   "id": "e1451f0e48fe3952"
  },
  {
   "cell_type": "markdown",
   "source": [
    "# Interpolation"
   ],
   "metadata": {
    "collapsed": false
   },
   "id": "995620053f178254"
  },
  {
   "cell_type": "code",
   "execution_count": 242,
   "outputs": [],
   "source": [],
   "metadata": {
    "collapsed": false,
    "ExecuteTime": {
     "end_time": "2024-08-11T00:56:22.045515200Z",
     "start_time": "2024-08-11T00:56:22.029366400Z"
    }
   },
   "id": "7189a46b0073160"
  },
  {
   "cell_type": "code",
   "execution_count": 243,
   "outputs": [],
   "source": [
    "\"\"\"\n",
    "  :return accuracy, updated values, missing value index\n",
    "\"\"\"\n",
    "def interpolate_by_ML(x, y, model_name):  # rf, svm\n",
    "  # Combine x and y into a DataFrame\n",
    "  _df = pd.DataFrame({'x': x, 'y': y})\n",
    "\n",
    "  # Separate known and missing values\n",
    "  known_data = _df.dropna()\n",
    "  missing_data = _df[_df.isnull().any(axis=1)]\n",
    "\n",
    "  # Select the model based on the model name\n",
    "  if model_name == 'rf':\n",
    "    _model = RandomForestRegressor(n_estimators=200)\n",
    "  elif model_name == 'svm':\n",
    "    _model = SVR()\n",
    "  else:\n",
    "    raise ValueError(\"Unsupported model name. Choose from 'random_forest', or 'svm'.\")\n",
    "\n",
    "  # Train the model on known data\n",
    "  X_known = known_data[['x']]\n",
    "  y_known = known_data['y']\n",
    "  print(\"fitting.\")\n",
    "  _model.fit(X_known, y_known)\n",
    "\n",
    "  # Predict missing values\n",
    "  if not missing_data.empty:\n",
    "    X_missing = missing_data[['x']]\n",
    "    y_pred = _model.predict(X_missing)\n",
    "    _df.loc[missing_data.index, 'y'] = y_pred\n",
    "\n",
    "  _accuracy = _model.score(X_known, y_known)\n",
    "\n",
    "  return _accuracy, _df['y'].values, missing_data.index"
   ],
   "metadata": {
    "collapsed": false,
    "ExecuteTime": {
     "end_time": "2024-08-11T00:56:22.045515200Z",
     "start_time": "2024-08-11T00:56:22.030371200Z"
    }
   },
   "id": "5a42ccabdd02b820"
  },
  {
   "cell_type": "code",
   "execution_count": 244,
   "outputs": [],
   "source": [
    "_tmp_df_flares = df_flares.copy()\n",
    "_tmp_df_flares['Date'] = pd.to_datetime(_tmp_df_flares[['Year', 'Month', 'Day']])"
   ],
   "metadata": {
    "collapsed": false,
    "ExecuteTime": {
     "end_time": "2024-08-11T00:56:22.238652500Z",
     "start_time": "2024-08-11T00:56:22.039895200Z"
    }
   },
   "id": "3ba07d5b3addcb3b"
  },
  {
   "cell_type": "code",
   "execution_count": 245,
   "outputs": [
    {
     "name": "stdout",
     "output_type": "stream",
     "text": [
      "fitting.\n"
     ]
    },
    {
     "data": {
      "text/plain": "0.999340651168747"
     },
     "execution_count": 245,
     "metadata": {},
     "output_type": "execute_result"
    }
   ],
   "source": [
    "_x_for_intpl = _tmp_df_flares['Date'].values\n",
    "_y_for_intpl = _tmp_df_flares['Region'].values\n",
    "accuracy_rf, filled_y_rf, missing_index = interpolate_by_ML(_x_for_intpl, _y_for_intpl, 'rf')\n",
    "# accuracy_svm, filled_y_svm, _ = interpolate_by_ML(_x_for_intpl, _y_for_intpl, 'svm')\n",
    "\n",
    "accuracy_rf"
   ],
   "metadata": {
    "collapsed": false,
    "ExecuteTime": {
     "end_time": "2024-08-11T00:56:27.641991Z",
     "start_time": "2024-08-11T00:56:22.086962200Z"
    }
   },
   "id": "1e3f0aaf8a24d111"
  },
  {
   "cell_type": "code",
   "execution_count": 246,
   "outputs": [],
   "source": [
    "def get_pre_and_next_row_of_nan(_df, _col):\n",
    "  _mask = _df[_col].isna() | _df[_col].isna().shift(-1) | _df[_col].isna().shift(1)\n",
    "  return _df[_mask]"
   ],
   "metadata": {
    "collapsed": false,
    "ExecuteTime": {
     "end_time": "2024-08-11T00:56:27.645985700Z",
     "start_time": "2024-08-11T00:56:27.640985800Z"
    }
   },
   "id": "9c6e0d5c9d177c08"
  },
  {
   "cell_type": "markdown",
   "source": [
    "# ML interpolation result"
   ],
   "metadata": {
    "collapsed": false
   },
   "id": "a0384732e36080b1"
  },
  {
   "cell_type": "code",
   "execution_count": 247,
   "outputs": [
    {
     "name": "stderr",
     "output_type": "stream",
     "text": [
      "/tmp/ipykernel_67921/3018324671.py:2: SettingWithCopyWarning: \n",
      "A value is trying to be set on a copy of a slice from a DataFrame.\n",
      "Try using .loc[row_indexer,col_indexer] = value instead\n",
      "\n",
      "See the caveats in the documentation: https://pandas.pydata.org/pandas-docs/stable/user_guide/indexing.html#returning-a-view-versus-a-copy\n",
      "  _tmp_df_sunspot['Region2'] = _tmp_df_sunspot['Region'].apply(lambda val: val if not pd.isna(val) else next(_iter_sunspot_ip_region))\n"
     ]
    },
    {
     "data": {
      "text/plain": "Empty DataFrame\nColumns: [Region, Region2]\nIndex: []",
      "text/html": "<div>\n<style scoped>\n    .dataframe tbody tr th:only-of-type {\n        vertical-align: middle;\n    }\n\n    .dataframe tbody tr th {\n        vertical-align: top;\n    }\n\n    .dataframe thead th {\n        text-align: right;\n    }\n</style>\n<table border=\"1\" class=\"dataframe\">\n  <thead>\n    <tr style=\"text-align: right;\">\n      <th></th>\n      <th>Region</th>\n      <th>Region2</th>\n    </tr>\n  </thead>\n  <tbody>\n  </tbody>\n</table>\n</div>"
     },
     "execution_count": 247,
     "metadata": {},
     "output_type": "execute_result"
    }
   ],
   "source": [
    "_iter_sunspot_ip_region = iter(filled_y_rf)\n",
    "_tmp_df_sunspot['Region2'] = _tmp_df_sunspot['Region'].apply(lambda val: val if not pd.isna(val) else next(_iter_sunspot_ip_region))\n",
    "\n",
    "get_pre_and_next_row_of_nan(_tmp_df_sunspot, 'Region')[['Region', 'Region2']]"
   ],
   "metadata": {
    "collapsed": false,
    "ExecuteTime": {
     "end_time": "2024-08-11T00:56:27.733845600Z",
     "start_time": "2024-08-11T00:56:27.644988300Z"
    }
   },
   "id": "46671738f39ec65c"
  },
  {
   "cell_type": "code",
   "execution_count": 248,
   "outputs": [
    {
     "data": {
      "text/plain": "array([ 3521.,  3522.,  3532., ..., 13534., 13535., 13536.])"
     },
     "execution_count": 248,
     "metadata": {},
     "output_type": "execute_result"
    }
   ],
   "source": [
    "df_sunspot['Region'].unique()"
   ],
   "metadata": {
    "collapsed": false,
    "ExecuteTime": {
     "end_time": "2024-08-11T00:56:27.740849700Z",
     "start_time": "2024-08-11T00:56:27.733845600Z"
    }
   },
   "id": "5803698532efe7cd"
  },
  {
   "cell_type": "code",
   "execution_count": 249,
   "outputs": [
    {
     "data": {
      "text/plain": "       Region  Sunspot Number  Size Location  Year  Month  Day Zurich Class  \\\n26814     1.0             1.0  10.0   S16E38  1984      1   29            A   \n26815     1.0             1.0  30.0   S15E35  1984      1   29            H   \n26817     1.0             1.0   NaN   S15E32  1984      1   29            A   \n26818     1.0             1.0   NaN   S14E33  1984      1   29            A   \n26819     1.0             1.0   NaN   S15E28  1984      1   30            A   \n\n      Penumbra Class Compactness Class  \n26814              X                 X  \n26815              A                 X  \n26817              X                 X  \n26818              X                 X  \n26819              X                 X  ",
      "text/html": "<div>\n<style scoped>\n    .dataframe tbody tr th:only-of-type {\n        vertical-align: middle;\n    }\n\n    .dataframe tbody tr th {\n        vertical-align: top;\n    }\n\n    .dataframe thead th {\n        text-align: right;\n    }\n</style>\n<table border=\"1\" class=\"dataframe\">\n  <thead>\n    <tr style=\"text-align: right;\">\n      <th></th>\n      <th>Region</th>\n      <th>Sunspot Number</th>\n      <th>Size</th>\n      <th>Location</th>\n      <th>Year</th>\n      <th>Month</th>\n      <th>Day</th>\n      <th>Zurich Class</th>\n      <th>Penumbra Class</th>\n      <th>Compactness Class</th>\n    </tr>\n  </thead>\n  <tbody>\n    <tr>\n      <th>26814</th>\n      <td>1.0</td>\n      <td>1.0</td>\n      <td>10.0</td>\n      <td>S16E38</td>\n      <td>1984</td>\n      <td>1</td>\n      <td>29</td>\n      <td>A</td>\n      <td>X</td>\n      <td>X</td>\n    </tr>\n    <tr>\n      <th>26815</th>\n      <td>1.0</td>\n      <td>1.0</td>\n      <td>30.0</td>\n      <td>S15E35</td>\n      <td>1984</td>\n      <td>1</td>\n      <td>29</td>\n      <td>H</td>\n      <td>A</td>\n      <td>X</td>\n    </tr>\n    <tr>\n      <th>26817</th>\n      <td>1.0</td>\n      <td>1.0</td>\n      <td>NaN</td>\n      <td>S15E32</td>\n      <td>1984</td>\n      <td>1</td>\n      <td>29</td>\n      <td>A</td>\n      <td>X</td>\n      <td>X</td>\n    </tr>\n    <tr>\n      <th>26818</th>\n      <td>1.0</td>\n      <td>1.0</td>\n      <td>NaN</td>\n      <td>S14E33</td>\n      <td>1984</td>\n      <td>1</td>\n      <td>29</td>\n      <td>A</td>\n      <td>X</td>\n      <td>X</td>\n    </tr>\n    <tr>\n      <th>26819</th>\n      <td>1.0</td>\n      <td>1.0</td>\n      <td>NaN</td>\n      <td>S15E28</td>\n      <td>1984</td>\n      <td>1</td>\n      <td>30</td>\n      <td>A</td>\n      <td>X</td>\n      <td>X</td>\n    </tr>\n  </tbody>\n</table>\n</div>"
     },
     "execution_count": 249,
     "metadata": {},
     "output_type": "execute_result"
    }
   ],
   "source": [
    "df_sunspot[(df_sunspot['Region'] == 422) | (df_sunspot['Region'] == 1) | (df_sunspot['Region'] == 2)]"
   ],
   "metadata": {
    "collapsed": false,
    "ExecuteTime": {
     "end_time": "2024-08-11T00:56:27.815359500Z",
     "start_time": "2024-08-11T00:56:27.739857300Z"
    }
   },
   "id": "522ac583140a0a59"
  },
  {
   "cell_type": "code",
   "execution_count": 250,
   "outputs": [
    {
     "name": "stderr",
     "output_type": "stream",
     "text": [
      "/tmp/ipykernel_67921/658347203.py:1: SettingWithCopyWarning: \n",
      "A value is trying to be set on a copy of a slice from a DataFrame.\n",
      "Try using .loc[row_indexer,col_indexer] = value instead\n",
      "\n",
      "See the caveats in the documentation: https://pandas.pydata.org/pandas-docs/stable/user_guide/indexing.html#returning-a-view-versus-a-copy\n",
      "  _tmp_df_sunspot['Region_dfip'] = _tmp_df_sunspot['Region'].interpolate()\n"
     ]
    },
    {
     "data": {
      "text/plain": "Empty DataFrame\nColumns: [Region, Region_dfip]\nIndex: []",
      "text/html": "<div>\n<style scoped>\n    .dataframe tbody tr th:only-of-type {\n        vertical-align: middle;\n    }\n\n    .dataframe tbody tr th {\n        vertical-align: top;\n    }\n\n    .dataframe thead th {\n        text-align: right;\n    }\n</style>\n<table border=\"1\" class=\"dataframe\">\n  <thead>\n    <tr style=\"text-align: right;\">\n      <th></th>\n      <th>Region</th>\n      <th>Region_dfip</th>\n    </tr>\n  </thead>\n  <tbody>\n  </tbody>\n</table>\n</div>"
     },
     "execution_count": 250,
     "metadata": {},
     "output_type": "execute_result"
    }
   ],
   "source": [
    "_tmp_df_sunspot['Region_dfip'] = _tmp_df_sunspot['Region'].interpolate()\n",
    "get_pre_and_next_row_of_nan(_tmp_df_sunspot, 'Region')[['Region', 'Region_dfip']]"
   ],
   "metadata": {
    "collapsed": false,
    "ExecuteTime": {
     "end_time": "2024-08-11T00:56:27.875394300Z",
     "start_time": "2024-08-11T00:56:27.756744Z"
    }
   },
   "id": "f5afc3006aa018ba"
  },
  {
   "cell_type": "markdown",
   "source": [
    "# Let's ignore interpolation for now"
   ],
   "metadata": {
    "collapsed": false
   },
   "id": "995dac4d4f03de9c"
  },
  {
   "cell_type": "code",
   "execution_count": 251,
   "outputs": [],
   "source": [
    "df_sunspot['Region'] = df_sunspot['Region'].fillna(-1).astype(int)\n",
    "df_flares['Region'] = df_flares['Region'].fillna(-1).astype(int)"
   ],
   "metadata": {
    "collapsed": false,
    "ExecuteTime": {
     "end_time": "2024-08-11T00:56:27.875394300Z",
     "start_time": "2024-08-11T00:56:27.789759700Z"
    }
   },
   "id": "6c3db8b982933ab9"
  },
  {
   "cell_type": "markdown",
   "source": [
    "# Merging"
   ],
   "metadata": {
    "collapsed": false
   },
   "id": "ff9adda5e0fc9a47"
  },
  {
   "cell_type": "code",
   "execution_count": 307,
   "outputs": [],
   "source": [
    "df_sunspot = pd.read_csv(\"../data/sunspot-processed-nonull-R.csv\")"
   ],
   "metadata": {
    "collapsed": false,
    "ExecuteTime": {
     "end_time": "2024-08-11T01:18:08.426638800Z",
     "start_time": "2024-08-11T01:18:08.193140200Z"
    }
   },
   "id": "fe0742724922c38c"
  },
  {
   "cell_type": "code",
   "execution_count": 304,
   "outputs": [
    {
     "data": {
      "text/plain": "   Region  Sunspot Number   Size Location  Year  Month  Day Zurich Class  \\\n0    3521             1.0  280.0   S21W84  1982      1    1            H   \n1    3521             1.0   40.0   S22W85  1982      1    1            H   \n2    3522             5.0  240.0   N20W73  1982      1    1            C   \n3    3522             3.0   80.0   N20W75  1982      1    1            D   \n4    3522             3.0  100.0   N19W85  1982      1    1            D   \n\n  Penumbra Class Compactness Class  \n0              S                 X  \n1              S                 X  \n2              S                 O  \n3              A                 O  \n4              A                 O  ",
      "text/html": "<div>\n<style scoped>\n    .dataframe tbody tr th:only-of-type {\n        vertical-align: middle;\n    }\n\n    .dataframe tbody tr th {\n        vertical-align: top;\n    }\n\n    .dataframe thead th {\n        text-align: right;\n    }\n</style>\n<table border=\"1\" class=\"dataframe\">\n  <thead>\n    <tr style=\"text-align: right;\">\n      <th></th>\n      <th>Region</th>\n      <th>Sunspot Number</th>\n      <th>Size</th>\n      <th>Location</th>\n      <th>Year</th>\n      <th>Month</th>\n      <th>Day</th>\n      <th>Zurich Class</th>\n      <th>Penumbra Class</th>\n      <th>Compactness Class</th>\n    </tr>\n  </thead>\n  <tbody>\n    <tr>\n      <th>0</th>\n      <td>3521</td>\n      <td>1.0</td>\n      <td>280.0</td>\n      <td>S21W84</td>\n      <td>1982</td>\n      <td>1</td>\n      <td>1</td>\n      <td>H</td>\n      <td>S</td>\n      <td>X</td>\n    </tr>\n    <tr>\n      <th>1</th>\n      <td>3521</td>\n      <td>1.0</td>\n      <td>40.0</td>\n      <td>S22W85</td>\n      <td>1982</td>\n      <td>1</td>\n      <td>1</td>\n      <td>H</td>\n      <td>S</td>\n      <td>X</td>\n    </tr>\n    <tr>\n      <th>2</th>\n      <td>3522</td>\n      <td>5.0</td>\n      <td>240.0</td>\n      <td>N20W73</td>\n      <td>1982</td>\n      <td>1</td>\n      <td>1</td>\n      <td>C</td>\n      <td>S</td>\n      <td>O</td>\n    </tr>\n    <tr>\n      <th>3</th>\n      <td>3522</td>\n      <td>3.0</td>\n      <td>80.0</td>\n      <td>N20W75</td>\n      <td>1982</td>\n      <td>1</td>\n      <td>1</td>\n      <td>D</td>\n      <td>A</td>\n      <td>O</td>\n    </tr>\n    <tr>\n      <th>4</th>\n      <td>3522</td>\n      <td>3.0</td>\n      <td>100.0</td>\n      <td>N19W85</td>\n      <td>1982</td>\n      <td>1</td>\n      <td>1</td>\n      <td>D</td>\n      <td>A</td>\n      <td>O</td>\n    </tr>\n  </tbody>\n</table>\n</div>"
     },
     "execution_count": 304,
     "metadata": {},
     "output_type": "execute_result"
    }
   ],
   "source": [
    "df_sunspot.head()"
   ],
   "metadata": {
    "collapsed": false,
    "ExecuteTime": {
     "end_time": "2024-08-11T01:16:43.123011500Z",
     "start_time": "2024-08-11T01:16:43.099919200Z"
    }
   },
   "id": "a4ff4451d4aa0bc3"
  },
  {
   "cell_type": "code",
   "execution_count": 254,
   "outputs": [
    {
     "data": {
      "text/plain": "(['A', 'B', 'C', 'D', 'E', 'F', 'H', 'X'],\n ['A', 'H', 'K', 'O', 'R', 'S', 'X'],\n ['C', 'I', 'O', 'X'])"
     },
     "execution_count": 254,
     "metadata": {},
     "output_type": "execute_result"
    }
   ],
   "source": [
    "(sorted(df_sunspot['Zurich Class'].dropna().unique()),\n",
    " sorted(df_sunspot['Penumbra Class'].dropna().unique()),\n",
    " sorted(df_sunspot['Compactness Class'].dropna().unique()))"
   ],
   "metadata": {
    "collapsed": false,
    "ExecuteTime": {
     "end_time": "2024-08-11T00:56:28.060377500Z",
     "start_time": "2024-08-11T00:56:27.887397800Z"
    }
   },
   "id": "d6ea44607a07a7ff"
  },
  {
   "cell_type": "code",
   "execution_count": 308,
   "outputs": [],
   "source": [
    "# Todo: commented for now\n",
    "df_sunspot['Zurich Class'] = df_sunspot['Zurich Class'].map(zurich_map)\n",
    "df_sunspot['Penumbra Class'] = df_sunspot['Penumbra Class'].map(penumbra_map)\n",
    "df_sunspot['Compactness Class'] = df_sunspot['Compactness Class'].map(compactness_map)\n",
    "\n",
    "# Location\n",
    "df_sunspot[['NS', 'Lat', 'EW', 'Lan']] = (df_sunspot['Location']\n",
    "                                          .str\n",
    "                                          .extract(r'([A-Z])(\\d+)([A-Z])(\\d+)'))\n",
    "\n",
    "# Todo: commented for now\n",
    "# df_sunspot['NS'] = df_sunspot['NS'].map(location_map)\n",
    "# df_sunspot['EW'] = df_sunspot['EW'].map(location_map)\n",
    "df_sunspot.drop('Location', axis=1, inplace=True)"
   ],
   "metadata": {
    "collapsed": false,
    "ExecuteTime": {
     "end_time": "2024-08-11T01:18:11.947736900Z",
     "start_time": "2024-08-11T01:18:11.534053800Z"
    }
   },
   "id": "9fa15316e5c1a700"
  },
  {
   "cell_type": "code",
   "execution_count": 296,
   "outputs": [
    {
     "data": {
      "text/plain": "        Sunspot Number   Size  Year  Month  Day Zurich Class Penumbra Class  \\\n0                  1.0  280.0  1982      1    1            H              S   \n1                  1.0   40.0  1982      1    1            H              S   \n2                  5.0  240.0  1982      1    1            C              S   \n3                  3.0   80.0  1982      1    1            D              A   \n4                  3.0  100.0  1982      1    1            D              A   \n...                ...    ...   ...    ...  ...          ...            ...   \n276976            12.0  150.0  2023     12   30            D              A   \n276977             1.0  160.0  2023     12   31            H              S   \n276978             2.0   20.0  2023     12   31            B              X   \n276979            10.0  120.0  2023     12   31            D              A   \n276980             2.0   80.0  2023     12   31            H              A   \n\n       Compactness Class NS Lat EW Lan  \n0                      X  S  21  W  84  \n1                      X  S  22  W  85  \n2                      O  N  20  W  73  \n3                      O  N  20  W  75  \n4                      O  N  19  W  85  \n...                  ... ..  .. ..  ..  \n276976                 O  S  13  E  16  \n276977                 X  S  19  W  77  \n276978                 O  N  15  W  78  \n276979                 O  S  12  E  03  \n276980                 X  N  05  E  75  \n\n[238357 rows x 12 columns]",
      "text/html": "<div>\n<style scoped>\n    .dataframe tbody tr th:only-of-type {\n        vertical-align: middle;\n    }\n\n    .dataframe tbody tr th {\n        vertical-align: top;\n    }\n\n    .dataframe thead th {\n        text-align: right;\n    }\n</style>\n<table border=\"1\" class=\"dataframe\">\n  <thead>\n    <tr style=\"text-align: right;\">\n      <th></th>\n      <th>Sunspot Number</th>\n      <th>Size</th>\n      <th>Year</th>\n      <th>Month</th>\n      <th>Day</th>\n      <th>Zurich Class</th>\n      <th>Penumbra Class</th>\n      <th>Compactness Class</th>\n      <th>NS</th>\n      <th>Lat</th>\n      <th>EW</th>\n      <th>Lan</th>\n    </tr>\n  </thead>\n  <tbody>\n    <tr>\n      <th>0</th>\n      <td>1.0</td>\n      <td>280.0</td>\n      <td>1982</td>\n      <td>1</td>\n      <td>1</td>\n      <td>H</td>\n      <td>S</td>\n      <td>X</td>\n      <td>S</td>\n      <td>21</td>\n      <td>W</td>\n      <td>84</td>\n    </tr>\n    <tr>\n      <th>1</th>\n      <td>1.0</td>\n      <td>40.0</td>\n      <td>1982</td>\n      <td>1</td>\n      <td>1</td>\n      <td>H</td>\n      <td>S</td>\n      <td>X</td>\n      <td>S</td>\n      <td>22</td>\n      <td>W</td>\n      <td>85</td>\n    </tr>\n    <tr>\n      <th>2</th>\n      <td>5.0</td>\n      <td>240.0</td>\n      <td>1982</td>\n      <td>1</td>\n      <td>1</td>\n      <td>C</td>\n      <td>S</td>\n      <td>O</td>\n      <td>N</td>\n      <td>20</td>\n      <td>W</td>\n      <td>73</td>\n    </tr>\n    <tr>\n      <th>3</th>\n      <td>3.0</td>\n      <td>80.0</td>\n      <td>1982</td>\n      <td>1</td>\n      <td>1</td>\n      <td>D</td>\n      <td>A</td>\n      <td>O</td>\n      <td>N</td>\n      <td>20</td>\n      <td>W</td>\n      <td>75</td>\n    </tr>\n    <tr>\n      <th>4</th>\n      <td>3.0</td>\n      <td>100.0</td>\n      <td>1982</td>\n      <td>1</td>\n      <td>1</td>\n      <td>D</td>\n      <td>A</td>\n      <td>O</td>\n      <td>N</td>\n      <td>19</td>\n      <td>W</td>\n      <td>85</td>\n    </tr>\n    <tr>\n      <th>...</th>\n      <td>...</td>\n      <td>...</td>\n      <td>...</td>\n      <td>...</td>\n      <td>...</td>\n      <td>...</td>\n      <td>...</td>\n      <td>...</td>\n      <td>...</td>\n      <td>...</td>\n      <td>...</td>\n      <td>...</td>\n    </tr>\n    <tr>\n      <th>276976</th>\n      <td>12.0</td>\n      <td>150.0</td>\n      <td>2023</td>\n      <td>12</td>\n      <td>30</td>\n      <td>D</td>\n      <td>A</td>\n      <td>O</td>\n      <td>S</td>\n      <td>13</td>\n      <td>E</td>\n      <td>16</td>\n    </tr>\n    <tr>\n      <th>276977</th>\n      <td>1.0</td>\n      <td>160.0</td>\n      <td>2023</td>\n      <td>12</td>\n      <td>31</td>\n      <td>H</td>\n      <td>S</td>\n      <td>X</td>\n      <td>S</td>\n      <td>19</td>\n      <td>W</td>\n      <td>77</td>\n    </tr>\n    <tr>\n      <th>276978</th>\n      <td>2.0</td>\n      <td>20.0</td>\n      <td>2023</td>\n      <td>12</td>\n      <td>31</td>\n      <td>B</td>\n      <td>X</td>\n      <td>O</td>\n      <td>N</td>\n      <td>15</td>\n      <td>W</td>\n      <td>78</td>\n    </tr>\n    <tr>\n      <th>276979</th>\n      <td>10.0</td>\n      <td>120.0</td>\n      <td>2023</td>\n      <td>12</td>\n      <td>31</td>\n      <td>D</td>\n      <td>A</td>\n      <td>O</td>\n      <td>S</td>\n      <td>12</td>\n      <td>E</td>\n      <td>03</td>\n    </tr>\n    <tr>\n      <th>276980</th>\n      <td>2.0</td>\n      <td>80.0</td>\n      <td>2023</td>\n      <td>12</td>\n      <td>31</td>\n      <td>H</td>\n      <td>A</td>\n      <td>X</td>\n      <td>N</td>\n      <td>05</td>\n      <td>E</td>\n      <td>75</td>\n    </tr>\n  </tbody>\n</table>\n<p>238357 rows × 12 columns</p>\n</div>"
     },
     "execution_count": 296,
     "metadata": {},
     "output_type": "execute_result"
    }
   ],
   "source": [
    "df_sunspot.drop('Region', axis=1)"
   ],
   "metadata": {
    "collapsed": false,
    "ExecuteTime": {
     "end_time": "2024-08-11T01:06:02.700108100Z",
     "start_time": "2024-08-11T01:06:02.636106Z"
    }
   },
   "id": "2303b7a522f6af21"
  },
  {
   "cell_type": "code",
   "execution_count": 309,
   "outputs": [
    {
     "name": "stderr",
     "output_type": "stream",
     "text": [
      "/tmp/ipykernel_67921/2391512664.py:7: FutureWarning: A value is trying to be set on a copy of a DataFrame or Series through chained assignment using an inplace method.\n",
      "The behavior will change in pandas 3.0. This inplace method will never work because the intermediate object on which we are setting values always behaves as a copy.\n",
      "\n",
      "For example, when doing 'df[col].method(value, inplace=True)', try using 'df.method({col: value}, inplace=True)' or df[col] = df[col].method(value) instead, to perform the operation inplace on the original object.\n",
      "\n",
      "\n",
      "  df_sunspot_processed['Size'].fillna(0, inplace=True)\n"
     ]
    },
    {
     "data": {
      "text/plain": "            Date  Region  Total Sunspot  Max Size  Zurich Class  \\\n0     1982-01-01    3520           18.0     430.0           4.0   \n1     1982-01-01    3521            2.0     280.0           7.0   \n2     1982-01-01    3522           11.0     240.0           4.0   \n3     1982-01-01    3528           18.0      30.0           3.0   \n4     1982-01-01    3530           41.0     310.0           4.0   \n...          ...     ...            ...       ...           ...   \n73053 2023-12-30   13534           12.0     150.0           4.0   \n73054 2023-12-31   13531            1.0     160.0           7.0   \n73055 2023-12-31   13533            2.0      20.0           2.0   \n73056 2023-12-31   13534           10.0     120.0           4.0   \n73057 2023-12-31   13536            2.0      80.0           7.0   \n\n       Penumbra Class  Compactness Class NS Lat EW Lan  \n0                 6.0                2.0  S  25  W  75  \n1                 3.0                1.0  S  21  W  84  \n2                 4.0                2.0  N  20  W  73  \n3                 2.0                2.0  S  10  W  12  \n4                 4.0                2.0  N  18  W  18  \n...               ...                ... ..  .. ..  ..  \n73053             4.0                2.0  S  13  E  16  \n73054             3.0                1.0  S  19  W  77  \n73055             1.0                2.0  N  15  W  78  \n73056             4.0                2.0  S  12  E  03  \n73057             4.0                1.0  N  05  E  75  \n\n[73058 rows x 11 columns]",
      "text/html": "<div>\n<style scoped>\n    .dataframe tbody tr th:only-of-type {\n        vertical-align: middle;\n    }\n\n    .dataframe tbody tr th {\n        vertical-align: top;\n    }\n\n    .dataframe thead th {\n        text-align: right;\n    }\n</style>\n<table border=\"1\" class=\"dataframe\">\n  <thead>\n    <tr style=\"text-align: right;\">\n      <th></th>\n      <th>Date</th>\n      <th>Region</th>\n      <th>Total Sunspot</th>\n      <th>Max Size</th>\n      <th>Zurich Class</th>\n      <th>Penumbra Class</th>\n      <th>Compactness Class</th>\n      <th>NS</th>\n      <th>Lat</th>\n      <th>EW</th>\n      <th>Lan</th>\n    </tr>\n  </thead>\n  <tbody>\n    <tr>\n      <th>0</th>\n      <td>1982-01-01</td>\n      <td>3520</td>\n      <td>18.0</td>\n      <td>430.0</td>\n      <td>4.0</td>\n      <td>6.0</td>\n      <td>2.0</td>\n      <td>S</td>\n      <td>25</td>\n      <td>W</td>\n      <td>75</td>\n    </tr>\n    <tr>\n      <th>1</th>\n      <td>1982-01-01</td>\n      <td>3521</td>\n      <td>2.0</td>\n      <td>280.0</td>\n      <td>7.0</td>\n      <td>3.0</td>\n      <td>1.0</td>\n      <td>S</td>\n      <td>21</td>\n      <td>W</td>\n      <td>84</td>\n    </tr>\n    <tr>\n      <th>2</th>\n      <td>1982-01-01</td>\n      <td>3522</td>\n      <td>11.0</td>\n      <td>240.0</td>\n      <td>4.0</td>\n      <td>4.0</td>\n      <td>2.0</td>\n      <td>N</td>\n      <td>20</td>\n      <td>W</td>\n      <td>73</td>\n    </tr>\n    <tr>\n      <th>3</th>\n      <td>1982-01-01</td>\n      <td>3528</td>\n      <td>18.0</td>\n      <td>30.0</td>\n      <td>3.0</td>\n      <td>2.0</td>\n      <td>2.0</td>\n      <td>S</td>\n      <td>10</td>\n      <td>W</td>\n      <td>12</td>\n    </tr>\n    <tr>\n      <th>4</th>\n      <td>1982-01-01</td>\n      <td>3530</td>\n      <td>41.0</td>\n      <td>310.0</td>\n      <td>4.0</td>\n      <td>4.0</td>\n      <td>2.0</td>\n      <td>N</td>\n      <td>18</td>\n      <td>W</td>\n      <td>18</td>\n    </tr>\n    <tr>\n      <th>...</th>\n      <td>...</td>\n      <td>...</td>\n      <td>...</td>\n      <td>...</td>\n      <td>...</td>\n      <td>...</td>\n      <td>...</td>\n      <td>...</td>\n      <td>...</td>\n      <td>...</td>\n      <td>...</td>\n    </tr>\n    <tr>\n      <th>73053</th>\n      <td>2023-12-30</td>\n      <td>13534</td>\n      <td>12.0</td>\n      <td>150.0</td>\n      <td>4.0</td>\n      <td>4.0</td>\n      <td>2.0</td>\n      <td>S</td>\n      <td>13</td>\n      <td>E</td>\n      <td>16</td>\n    </tr>\n    <tr>\n      <th>73054</th>\n      <td>2023-12-31</td>\n      <td>13531</td>\n      <td>1.0</td>\n      <td>160.0</td>\n      <td>7.0</td>\n      <td>3.0</td>\n      <td>1.0</td>\n      <td>S</td>\n      <td>19</td>\n      <td>W</td>\n      <td>77</td>\n    </tr>\n    <tr>\n      <th>73055</th>\n      <td>2023-12-31</td>\n      <td>13533</td>\n      <td>2.0</td>\n      <td>20.0</td>\n      <td>2.0</td>\n      <td>1.0</td>\n      <td>2.0</td>\n      <td>N</td>\n      <td>15</td>\n      <td>W</td>\n      <td>78</td>\n    </tr>\n    <tr>\n      <th>73056</th>\n      <td>2023-12-31</td>\n      <td>13534</td>\n      <td>10.0</td>\n      <td>120.0</td>\n      <td>4.0</td>\n      <td>4.0</td>\n      <td>2.0</td>\n      <td>S</td>\n      <td>12</td>\n      <td>E</td>\n      <td>03</td>\n    </tr>\n    <tr>\n      <th>73057</th>\n      <td>2023-12-31</td>\n      <td>13536</td>\n      <td>2.0</td>\n      <td>80.0</td>\n      <td>7.0</td>\n      <td>4.0</td>\n      <td>1.0</td>\n      <td>N</td>\n      <td>05</td>\n      <td>E</td>\n      <td>75</td>\n    </tr>\n  </tbody>\n</table>\n<p>73058 rows × 11 columns</p>\n</div>"
     },
     "execution_count": 309,
     "metadata": {},
     "output_type": "execute_result"
    }
   ],
   "source": [
    "df_sunspot_processed = df_sunspot.copy()\n",
    "\n",
    "# Convert date to datetime format by combining Year, Month, and Day\n",
    "df_sunspot_processed['Date'] = pd.to_datetime(df_sunspot_processed[['Year', 'Month', 'Day']])\n",
    "df_sunspot_processed.drop(columns=['Year', 'Month', 'Day'], axis=1, inplace=True)\n",
    "\n",
    "df_sunspot_processed['Size'].fillna(0, inplace=True)\n",
    "\n",
    "_tmp_grouped = df_sunspot_processed.groupby(['Date', 'Region'])\n",
    "\n",
    "# Group by date\n",
    "df_sunspot_processed_grouped = _tmp_grouped.agg(\n",
    "  sunspot_count=('Sunspot Number', 'sum'),\n",
    "  max_size=('Size', 'max'),\n",
    "  max_zurich_class=('Zurich Class', 'max'),\n",
    "  max_penumbra_class=('Penumbra Class', 'max'),\n",
    "  max_compactness_class=('Compactness Class', 'max')\n",
    ").reset_index()\n",
    "\n",
    "df_sunspot_processed_grouped.rename(\n",
    "  columns={\n",
    "    'sunspot_count': 'Total Sunspot',\n",
    "    'max_size': 'Max Size',\n",
    "    'max_zurich_class': 'Zurich Class',\n",
    "    'max_penumbra_class': 'Penumbra Class',\n",
    "    'max_compactness_class': 'Compactness Class',\n",
    "  }, inplace=True)\n",
    "\n",
    "# Merge the max size rows back to get the corresponding NS, Lat, EW, Lan\n",
    "max_size_rows = df_sunspot_processed.loc[_tmp_grouped['Size'].idxmax()]\n",
    "\n",
    "# Select relevant columns\n",
    "max_size_rows = max_size_rows[['Date', 'NS', 'Lat', 'EW', 'Lan', 'Region']]\n",
    "df_sunspot_processed_grouped = pd.merge(df_sunspot_processed_grouped, max_size_rows, on=['Date', 'Region'])\n",
    "df_sunspot_processed_grouped"
   ],
   "metadata": {
    "collapsed": false,
    "ExecuteTime": {
     "end_time": "2024-08-11T01:18:16.136572100Z",
     "start_time": "2024-08-11T01:18:16.030451700Z"
    }
   },
   "id": "642c45b8ac2650e1"
  },
  {
   "cell_type": "code",
   "execution_count": 310,
   "outputs": [],
   "source": [
    "df_sunspot_processed_grouped.to_csv(\"../data/sunspot-grouped-by-region_date.csv\", index=False)"
   ],
   "metadata": {
    "collapsed": false,
    "ExecuteTime": {
     "end_time": "2024-08-11T01:18:27.291323500Z",
     "start_time": "2024-08-11T01:18:27.131625200Z"
    }
   },
   "id": "a82eb35d9c084f44"
  },
  {
   "cell_type": "markdown",
   "source": [
    "## Flares"
   ],
   "metadata": {
    "collapsed": false
   },
   "id": "97d7e346b66b8400"
  },
  {
   "cell_type": "code",
   "execution_count": 311,
   "outputs": [
    {
     "name": "stderr",
     "output_type": "stream",
     "text": [
      "/tmp/ipykernel_67921/3449614842.py:1: SettingWithCopyWarning: \n",
      "A value is trying to be set on a copy of a slice from a DataFrame.\n",
      "Try using .loc[row_indexer,col_indexer] = value instead\n",
      "\n",
      "See the caveats in the documentation: https://pandas.pydata.org/pandas-docs/stable/user_guide/indexing.html#returning-a-view-versus-a-copy\n",
      "  df_flares_no_null['Max log10 X-ray intensity'] = df_flares_no_null['X-ray class']\\\n",
      "/tmp/ipykernel_67921/3449614842.py:3: SettingWithCopyWarning: \n",
      "A value is trying to be set on a copy of a slice from a DataFrame.\n",
      "Try using .loc[row_indexer,col_indexer] = value instead\n",
      "\n",
      "See the caveats in the documentation: https://pandas.pydata.org/pandas-docs/stable/user_guide/indexing.html#returning-a-view-versus-a-copy\n",
      "  df_flares_no_null['Max log10 X-ray intensity'] = df_flares_no_null['Max log10 X-ray intensity']\\\n"
     ]
    }
   ],
   "source": [
    "df_flares_no_null['Max log10 X-ray intensity'] = df_flares_no_null['X-ray class']\\\n",
    "                                  .map(xray_class_map) * df_flares_no_null['X-ray intensity']\n",
    "df_flares_no_null['Max log10 X-ray intensity'] = df_flares_no_null['Max log10 X-ray intensity']\\\n",
    "                                  .apply(lambda _x: np.log10(_x) if _x != 0 else 0)\n",
    "\n",
    "# df_flares_no_null.drop(['X-ray class', 'X-ray intensity'], axis=1, inplace=True)"
   ],
   "metadata": {
    "collapsed": false,
    "ExecuteTime": {
     "end_time": "2024-08-11T01:18:35.048548700Z",
     "start_time": "2024-08-11T01:18:35.014098200Z"
    }
   },
   "id": "e6cf5416cd41b584"
  },
  {
   "cell_type": "code",
   "execution_count": 313,
   "outputs": [
    {
     "name": "stderr",
     "output_type": "stream",
     "text": [
      "/tmp/ipykernel_67921/778677980.py:1: SettingWithCopyWarning: \n",
      "A value is trying to be set on a copy of a slice from a DataFrame.\n",
      "Try using .loc[row_indexer,col_indexer] = value instead\n",
      "\n",
      "See the caveats in the documentation: https://pandas.pydata.org/pandas-docs/stable/user_guide/indexing.html#returning-a-view-versus-a-copy\n",
      "  df_flares_no_null['Date'] = pd.to_datetime(df_flares_no_null[['Year', 'Month', 'Day']])\n",
      "/tmp/ipykernel_67921/778677980.py:2: SettingWithCopyWarning: \n",
      "A value is trying to be set on a copy of a slice from a DataFrame\n",
      "\n",
      "See the caveats in the documentation: https://pandas.pydata.org/pandas-docs/stable/user_guide/indexing.html#returning-a-view-versus-a-copy\n",
      "  df_flares_no_null.drop(columns=['Year', 'Month', 'Day'], axis=1, inplace=True)\n",
      "/tmp/ipykernel_67921/778677980.py:4: SettingWithCopyWarning: \n",
      "A value is trying to be set on a copy of a slice from a DataFrame.\n",
      "Try using .loc[row_indexer,col_indexer] = value instead\n",
      "\n",
      "See the caveats in the documentation: https://pandas.pydata.org/pandas-docs/stable/user_guide/indexing.html#returning-a-view-versus-a-copy\n",
      "  df_flares_no_null['Duration'] = ((df_flares_no_null['End'] - df_flares_no_null['Start'])\n",
      "/tmp/ipykernel_67921/778677980.py:6: SettingWithCopyWarning: \n",
      "A value is trying to be set on a copy of a slice from a DataFrame.\n",
      "Try using .loc[row_indexer,col_indexer] = value instead\n",
      "\n",
      "See the caveats in the documentation: https://pandas.pydata.org/pandas-docs/stable/user_guide/indexing.html#returning-a-view-versus-a-copy\n",
      "  df_flares_no_null['Duration'] = df_flares_no_null['Duration'].astype(int)\n",
      "/tmp/ipykernel_67921/778677980.py:7: SettingWithCopyWarning: \n",
      "A value is trying to be set on a copy of a slice from a DataFrame\n",
      "\n",
      "See the caveats in the documentation: https://pandas.pydata.org/pandas-docs/stable/user_guide/indexing.html#returning-a-view-versus-a-copy\n",
      "  df_flares_no_null.drop(columns=['Start', 'End'], axis=1, inplace=True)\n",
      "/tmp/ipykernel_67921/778677980.py:9: SettingWithCopyWarning: \n",
      "A value is trying to be set on a copy of a slice from a DataFrame.\n",
      "Try using .loc[row_indexer,col_indexer] = value instead\n",
      "\n",
      "See the caveats in the documentation: https://pandas.pydata.org/pandas-docs/stable/user_guide/indexing.html#returning-a-view-versus-a-copy\n",
      "  df_flares_no_null['Maximum'] = df_flares_no_null['Maximum'].apply(convert_to_pd_timestamp)\n"
     ]
    }
   ],
   "source": [
    "df_flares_no_null['Date'] = pd.to_datetime(df_flares_no_null[['Year', 'Month', 'Day']])\n",
    "df_flares_no_null.drop(columns=['Year', 'Month', 'Day'], axis=1, inplace=True)\n",
    "\n",
    "df_flares_no_null['Duration'] = ((df_flares_no_null['End'] - df_flares_no_null['Start'])\n",
    "                                 .dt.total_seconds())\n",
    "df_flares_no_null['Duration'] = df_flares_no_null['Duration'].astype(int)\n",
    "df_flares_no_null.drop(columns=['Start', 'End'], axis=1, inplace=True)\n",
    "\n",
    "df_flares_no_null['Maximum'] = df_flares_no_null['Maximum'].apply(convert_to_pd_timestamp)"
   ],
   "metadata": {
    "collapsed": false,
    "ExecuteTime": {
     "end_time": "2024-08-11T01:18:57.056622900Z",
     "start_time": "2024-08-11T01:18:56.901847900Z"
    }
   },
   "id": "741287780e03cf99"
  },
  {
   "cell_type": "markdown",
   "source": [
    "## Merge (no null region)"
   ],
   "metadata": {
    "collapsed": false
   },
   "id": "fe51186aeefd3455"
  },
  {
   "cell_type": "code",
   "execution_count": 315,
   "outputs": [
    {
     "data": {
      "text/plain": "       Region X-ray class  X-ray intensity     Maximum  \\\n0        3522           M              3.1   378694860   \n1        3531           C              1.2   378707820   \n2        3531           C              2.1   378742860   \n3        3537           C              1.0   378750300   \n5        3531           C              1.2   378759240   \n...       ...         ...              ...         ...   \n78807   13536           C              2.4  1704044760   \n78808   13536           C              3.8  1704046560   \n78809   13536           C              4.2  1704047940   \n78810   13536           M              1.0  1704049920   \n78811   13536           X              5.0  1704059700   \n\n       Max log10 X-ray intensity       Date  Duration  \n0                      -4.508638 1982-01-01      3360  \n1                      -5.920819 1982-01-01      1440  \n2                      -5.677781 1982-01-01      3240  \n3                      -6.000000 1982-01-01       480  \n5                      -5.920819 1982-01-01      1680  \n...                          ...        ...       ...  \n78807                  -5.619789 2023-12-31       780  \n78808                  -5.420216 2023-12-31      1560  \n78809                  -5.376751 2023-12-31       960  \n78810                  -5.000000 2023-12-31      3360  \n78811                  -3.301030 2023-12-31      1920  \n\n[44984 rows x 7 columns]",
      "text/html": "<div>\n<style scoped>\n    .dataframe tbody tr th:only-of-type {\n        vertical-align: middle;\n    }\n\n    .dataframe tbody tr th {\n        vertical-align: top;\n    }\n\n    .dataframe thead th {\n        text-align: right;\n    }\n</style>\n<table border=\"1\" class=\"dataframe\">\n  <thead>\n    <tr style=\"text-align: right;\">\n      <th></th>\n      <th>Region</th>\n      <th>X-ray class</th>\n      <th>X-ray intensity</th>\n      <th>Maximum</th>\n      <th>Max log10 X-ray intensity</th>\n      <th>Date</th>\n      <th>Duration</th>\n    </tr>\n  </thead>\n  <tbody>\n    <tr>\n      <th>0</th>\n      <td>3522</td>\n      <td>M</td>\n      <td>3.1</td>\n      <td>378694860</td>\n      <td>-4.508638</td>\n      <td>1982-01-01</td>\n      <td>3360</td>\n    </tr>\n    <tr>\n      <th>1</th>\n      <td>3531</td>\n      <td>C</td>\n      <td>1.2</td>\n      <td>378707820</td>\n      <td>-5.920819</td>\n      <td>1982-01-01</td>\n      <td>1440</td>\n    </tr>\n    <tr>\n      <th>2</th>\n      <td>3531</td>\n      <td>C</td>\n      <td>2.1</td>\n      <td>378742860</td>\n      <td>-5.677781</td>\n      <td>1982-01-01</td>\n      <td>3240</td>\n    </tr>\n    <tr>\n      <th>3</th>\n      <td>3537</td>\n      <td>C</td>\n      <td>1.0</td>\n      <td>378750300</td>\n      <td>-6.000000</td>\n      <td>1982-01-01</td>\n      <td>480</td>\n    </tr>\n    <tr>\n      <th>5</th>\n      <td>3531</td>\n      <td>C</td>\n      <td>1.2</td>\n      <td>378759240</td>\n      <td>-5.920819</td>\n      <td>1982-01-01</td>\n      <td>1680</td>\n    </tr>\n    <tr>\n      <th>...</th>\n      <td>...</td>\n      <td>...</td>\n      <td>...</td>\n      <td>...</td>\n      <td>...</td>\n      <td>...</td>\n      <td>...</td>\n    </tr>\n    <tr>\n      <th>78807</th>\n      <td>13536</td>\n      <td>C</td>\n      <td>2.4</td>\n      <td>1704044760</td>\n      <td>-5.619789</td>\n      <td>2023-12-31</td>\n      <td>780</td>\n    </tr>\n    <tr>\n      <th>78808</th>\n      <td>13536</td>\n      <td>C</td>\n      <td>3.8</td>\n      <td>1704046560</td>\n      <td>-5.420216</td>\n      <td>2023-12-31</td>\n      <td>1560</td>\n    </tr>\n    <tr>\n      <th>78809</th>\n      <td>13536</td>\n      <td>C</td>\n      <td>4.2</td>\n      <td>1704047940</td>\n      <td>-5.376751</td>\n      <td>2023-12-31</td>\n      <td>960</td>\n    </tr>\n    <tr>\n      <th>78810</th>\n      <td>13536</td>\n      <td>M</td>\n      <td>1.0</td>\n      <td>1704049920</td>\n      <td>-5.000000</td>\n      <td>2023-12-31</td>\n      <td>3360</td>\n    </tr>\n    <tr>\n      <th>78811</th>\n      <td>13536</td>\n      <td>X</td>\n      <td>5.0</td>\n      <td>1704059700</td>\n      <td>-3.301030</td>\n      <td>2023-12-31</td>\n      <td>1920</td>\n    </tr>\n  </tbody>\n</table>\n<p>44984 rows × 7 columns</p>\n</div>"
     },
     "execution_count": 315,
     "metadata": {},
     "output_type": "execute_result"
    }
   ],
   "source": [
    "df_flares_no_null"
   ],
   "metadata": {
    "collapsed": false,
    "ExecuteTime": {
     "end_time": "2024-08-11T01:20:08.105888600Z",
     "start_time": "2024-08-11T01:20:08.024953500Z"
    }
   },
   "id": "fa496d190ffde4f3"
  },
  {
   "cell_type": "code",
   "execution_count": 330,
   "outputs": [
    {
     "data": {
      "text/plain": "            Date  Region  Flares Count  Avg Max Time  \\\n0     1982-01-01    3522             2  3.787330e+08   \n1     1982-01-01    3531             3  3.787366e+08   \n2     1982-01-01    3536             1  3.787676e+08   \n3     1982-01-01    3537             1  3.787503e+08   \n4     1982-01-02    3522             1  3.788004e+08   \n...          ...     ...           ...           ...   \n18329 2023-12-30   13530             6  1.703943e+09   \n18330 2023-12-30   13534             1  1.703920e+09   \n18331 2023-12-31   10353             1  1.703982e+09   \n18332 2023-12-31   13531             1  1.703991e+09   \n18333 2023-12-31   13536            10  1.704038e+09   \n\n       Max log10 X-ray intensity  Max Duration  Avg Duration X-ray class  \\\n0                      -4.508638          3360        2340.0           M   \n1                      -5.677781          3240        2120.0           C   \n2                      -5.050610           540         540.0           C   \n3                      -6.000000           480         480.0           C   \n4                      -4.091515          1680        1680.0           M   \n...                          ...           ...           ...         ...   \n18329                  -5.214670          1680         880.0           C   \n18330                  -5.721246          1800        1800.0           C   \n18331                  -5.677781           600         600.0           C   \n18332                  -5.920819          1560        1560.0           C   \n18333                  -3.301030          3360        1458.0           X   \n\n       X-ray intensity  \n0                  3.1  \n1                  2.1  \n2                  8.9  \n3                  1.0  \n4                  8.1  \n...                ...  \n18329              6.1  \n18330              1.9  \n18331              2.1  \n18332              1.2  \n18333              5.0  \n\n[18334 rows x 9 columns]",
      "text/html": "<div>\n<style scoped>\n    .dataframe tbody tr th:only-of-type {\n        vertical-align: middle;\n    }\n\n    .dataframe tbody tr th {\n        vertical-align: top;\n    }\n\n    .dataframe thead th {\n        text-align: right;\n    }\n</style>\n<table border=\"1\" class=\"dataframe\">\n  <thead>\n    <tr style=\"text-align: right;\">\n      <th></th>\n      <th>Date</th>\n      <th>Region</th>\n      <th>Flares Count</th>\n      <th>Avg Max Time</th>\n      <th>Max log10 X-ray intensity</th>\n      <th>Max Duration</th>\n      <th>Avg Duration</th>\n      <th>X-ray class</th>\n      <th>X-ray intensity</th>\n    </tr>\n  </thead>\n  <tbody>\n    <tr>\n      <th>0</th>\n      <td>1982-01-01</td>\n      <td>3522</td>\n      <td>2</td>\n      <td>3.787330e+08</td>\n      <td>-4.508638</td>\n      <td>3360</td>\n      <td>2340.0</td>\n      <td>M</td>\n      <td>3.1</td>\n    </tr>\n    <tr>\n      <th>1</th>\n      <td>1982-01-01</td>\n      <td>3531</td>\n      <td>3</td>\n      <td>3.787366e+08</td>\n      <td>-5.677781</td>\n      <td>3240</td>\n      <td>2120.0</td>\n      <td>C</td>\n      <td>2.1</td>\n    </tr>\n    <tr>\n      <th>2</th>\n      <td>1982-01-01</td>\n      <td>3536</td>\n      <td>1</td>\n      <td>3.787676e+08</td>\n      <td>-5.050610</td>\n      <td>540</td>\n      <td>540.0</td>\n      <td>C</td>\n      <td>8.9</td>\n    </tr>\n    <tr>\n      <th>3</th>\n      <td>1982-01-01</td>\n      <td>3537</td>\n      <td>1</td>\n      <td>3.787503e+08</td>\n      <td>-6.000000</td>\n      <td>480</td>\n      <td>480.0</td>\n      <td>C</td>\n      <td>1.0</td>\n    </tr>\n    <tr>\n      <th>4</th>\n      <td>1982-01-02</td>\n      <td>3522</td>\n      <td>1</td>\n      <td>3.788004e+08</td>\n      <td>-4.091515</td>\n      <td>1680</td>\n      <td>1680.0</td>\n      <td>M</td>\n      <td>8.1</td>\n    </tr>\n    <tr>\n      <th>...</th>\n      <td>...</td>\n      <td>...</td>\n      <td>...</td>\n      <td>...</td>\n      <td>...</td>\n      <td>...</td>\n      <td>...</td>\n      <td>...</td>\n      <td>...</td>\n    </tr>\n    <tr>\n      <th>18329</th>\n      <td>2023-12-30</td>\n      <td>13530</td>\n      <td>6</td>\n      <td>1.703943e+09</td>\n      <td>-5.214670</td>\n      <td>1680</td>\n      <td>880.0</td>\n      <td>C</td>\n      <td>6.1</td>\n    </tr>\n    <tr>\n      <th>18330</th>\n      <td>2023-12-30</td>\n      <td>13534</td>\n      <td>1</td>\n      <td>1.703920e+09</td>\n      <td>-5.721246</td>\n      <td>1800</td>\n      <td>1800.0</td>\n      <td>C</td>\n      <td>1.9</td>\n    </tr>\n    <tr>\n      <th>18331</th>\n      <td>2023-12-31</td>\n      <td>10353</td>\n      <td>1</td>\n      <td>1.703982e+09</td>\n      <td>-5.677781</td>\n      <td>600</td>\n      <td>600.0</td>\n      <td>C</td>\n      <td>2.1</td>\n    </tr>\n    <tr>\n      <th>18332</th>\n      <td>2023-12-31</td>\n      <td>13531</td>\n      <td>1</td>\n      <td>1.703991e+09</td>\n      <td>-5.920819</td>\n      <td>1560</td>\n      <td>1560.0</td>\n      <td>C</td>\n      <td>1.2</td>\n    </tr>\n    <tr>\n      <th>18333</th>\n      <td>2023-12-31</td>\n      <td>13536</td>\n      <td>10</td>\n      <td>1.704038e+09</td>\n      <td>-3.301030</td>\n      <td>3360</td>\n      <td>1458.0</td>\n      <td>X</td>\n      <td>5.0</td>\n    </tr>\n  </tbody>\n</table>\n<p>18334 rows × 9 columns</p>\n</div>"
     },
     "execution_count": 330,
     "metadata": {},
     "output_type": "execute_result"
    }
   ],
   "source": [
    "df_flares_processed_grouped = (df_flares_no_null\n",
    "                               .groupby(['Date', 'Region'])\n",
    "                               .agg({'Region': 'count',\n",
    "                                     'Maximum': ['mean'],\n",
    "                                     'Max log10 X-ray intensity': 'max',\n",
    "                                     'Duration': [('Max', 'max'), ('Avg', 'mean')],\n",
    "                                     })\n",
    "                               .rename(columns={'count': 'count'})\n",
    "                               .reset_index())\n",
    "\n",
    "\n",
    "df_flares_processed_grouped.columns = [' '.join(col).strip() for col in df_flares_processed_grouped.columns.values]\n",
    "\n",
    "df_flares_processed_grouped = df_flares_processed_grouped.rename(\n",
    "  columns={'Region count': 'Flares Count',\n",
    "  'Maximum mean': 'Avg Max Time',\n",
    "  'Max log10 X-ray intensity max': 'Max log10 X-ray intensity',\n",
    "  'Duration Max': 'Max Duration',\n",
    "  'Duration Avg': 'Avg Duration'})\n",
    "\n",
    "# picking 'X-ray class' & 'X-ray intensity' where max log10 X-ray intensity\n",
    "df_flares_processed_grouped = pd.merge(df_flares_processed_grouped,\n",
    "                  df_flares_no_null[['Date', 'Region', 'Max log10 X-ray intensity',\n",
    "                                     'X-ray class', 'X-ray intensity']],\n",
    "                  on=['Date', 'Region', 'Max log10 X-ray intensity'], how='left')\n",
    "\n",
    "df_flares_processed_grouped"
   ],
   "metadata": {
    "collapsed": false,
    "ExecuteTime": {
     "end_time": "2024-08-11T02:00:26.550364500Z",
     "start_time": "2024-08-11T02:00:26.520508500Z"
    }
   },
   "id": "354c72c99ba98096"
  },
  {
   "cell_type": "code",
   "execution_count": 331,
   "outputs": [],
   "source": [
    "df_flares_processed_grouped.to_csv(\"../data/flares-grouped-by-region_date.csv\", index=False)"
   ],
   "metadata": {
    "collapsed": false,
    "ExecuteTime": {
     "end_time": "2024-08-11T02:00:38.836181200Z",
     "start_time": "2024-08-11T02:00:38.720211100Z"
    }
   },
   "id": "9c622aa882320cfd"
  },
  {
   "cell_type": "markdown",
   "source": [
    "# Final merge (non-null Region)"
   ],
   "metadata": {
    "collapsed": false
   },
   "id": "f170e7009cc3dc8b"
  },
  {
   "cell_type": "code",
   "execution_count": 341,
   "outputs": [],
   "source": [
    "# Apply the inverse mapping\n",
    "df_sunspot_processed_grouped['Zurich Class'] = (df_sunspot_processed_grouped['Zurich Class']\n",
    "                                                .map(inverse_mapping(zurich_map)))\n",
    "df_sunspot_processed_grouped['Penumbra Class'] = (df_sunspot_processed_grouped['Penumbra Class']\n",
    "                                                .map(inverse_mapping(penumbra_map)))\n",
    "df_sunspot_processed_grouped['Compactness Class'] = (df_sunspot_processed_grouped['Compactness Class']\n",
    "                                                .map(inverse_mapping(compactness_map)))"
   ],
   "metadata": {
    "collapsed": false,
    "ExecuteTime": {
     "end_time": "2024-08-11T02:06:47.727660900Z",
     "start_time": "2024-08-11T02:06:47.677842100Z"
    }
   },
   "id": "37766e178fe8ac0"
  },
  {
   "cell_type": "code",
   "execution_count": 342,
   "outputs": [
    {
     "data": {
      "text/plain": "(73392, 18)"
     },
     "execution_count": 342,
     "metadata": {},
     "output_type": "execute_result"
    }
   ],
   "source": [
    "merged_df = pd.merge(df_sunspot_processed_grouped, df_flares_processed_grouped, on=['Date', 'Region'], how='left')\n",
    "merged_df.fillna(0, inplace=True)\n",
    "merged_df.shape"
   ],
   "metadata": {
    "collapsed": false,
    "ExecuteTime": {
     "end_time": "2024-08-11T02:08:09.084873500Z",
     "start_time": "2024-08-11T02:08:09.004337700Z"
    }
   },
   "id": "9791c446f6694e4b"
  },
  {
   "cell_type": "code",
   "execution_count": 348,
   "outputs": [
    {
     "data": {
      "text/plain": "            Date  Total Sunspot  Max Size Zurich Class Penumbra Class  \\\n0     1982-01-01           18.0     430.0            D              K   \n1     1982-01-01            2.0     280.0            H              S   \n2     1982-01-01           11.0     240.0            D              A   \n3     1982-01-01           18.0      30.0            C              R   \n4     1982-01-01           41.0     310.0            D              A   \n...          ...            ...       ...          ...            ...   \n73387 2023-12-30           12.0     150.0            D              A   \n73388 2023-12-31            1.0     160.0            H              S   \n73389 2023-12-31            2.0      20.0            B              X   \n73390 2023-12-31           10.0     120.0            D              A   \n73391 2023-12-31            2.0      80.0            H              A   \n\n      Compactness Class NS Lat EW Lan  Flares Count  Avg Max Time  \\\n0                     O  S  25  W  75           0.0  0.000000e+00   \n1                     X  S  21  W  84           0.0  0.000000e+00   \n2                     O  N  20  W  73           2.0  3.787330e+08   \n3                     O  S  10  W  12           0.0  0.000000e+00   \n4                     O  N  18  W  18           0.0  0.000000e+00   \n...                 ... ..  .. ..  ..           ...           ...   \n73387                 O  S  13  E  16           1.0  1.703920e+09   \n73388                 X  S  19  W  77           1.0  1.703991e+09   \n73389                 O  N  15  W  78           0.0  0.000000e+00   \n73390                 O  S  12  E  03           0.0  0.000000e+00   \n73391                 X  N  05  E  75          10.0  1.704038e+09   \n\n       Max log10 X-ray intensity  Max Duration  Avg Duration X-ray class  \\\n0                       0.000000           0.0           0.0           0   \n1                       0.000000           0.0           0.0           0   \n2                      -4.508638        3360.0        2340.0           M   \n3                       0.000000           0.0           0.0           0   \n4                       0.000000           0.0           0.0           0   \n...                          ...           ...           ...         ...   \n73387                  -5.721246        1800.0        1800.0           C   \n73388                  -5.920819        1560.0        1560.0           C   \n73389                   0.000000           0.0           0.0           0   \n73390                   0.000000           0.0           0.0           0   \n73391                  -3.301030        3360.0        1458.0           X   \n\n       X-ray intensity  \n0                  0.0  \n1                  0.0  \n2                  3.1  \n3                  0.0  \n4                  0.0  \n...                ...  \n73387              1.9  \n73388              1.2  \n73389              0.0  \n73390              0.0  \n73391              5.0  \n\n[73392 rows x 17 columns]",
      "text/html": "<div>\n<style scoped>\n    .dataframe tbody tr th:only-of-type {\n        vertical-align: middle;\n    }\n\n    .dataframe tbody tr th {\n        vertical-align: top;\n    }\n\n    .dataframe thead th {\n        text-align: right;\n    }\n</style>\n<table border=\"1\" class=\"dataframe\">\n  <thead>\n    <tr style=\"text-align: right;\">\n      <th></th>\n      <th>Date</th>\n      <th>Total Sunspot</th>\n      <th>Max Size</th>\n      <th>Zurich Class</th>\n      <th>Penumbra Class</th>\n      <th>Compactness Class</th>\n      <th>NS</th>\n      <th>Lat</th>\n      <th>EW</th>\n      <th>Lan</th>\n      <th>Flares Count</th>\n      <th>Avg Max Time</th>\n      <th>Max log10 X-ray intensity</th>\n      <th>Max Duration</th>\n      <th>Avg Duration</th>\n      <th>X-ray class</th>\n      <th>X-ray intensity</th>\n    </tr>\n  </thead>\n  <tbody>\n    <tr>\n      <th>0</th>\n      <td>1982-01-01</td>\n      <td>18.0</td>\n      <td>430.0</td>\n      <td>D</td>\n      <td>K</td>\n      <td>O</td>\n      <td>S</td>\n      <td>25</td>\n      <td>W</td>\n      <td>75</td>\n      <td>0.0</td>\n      <td>0.000000e+00</td>\n      <td>0.000000</td>\n      <td>0.0</td>\n      <td>0.0</td>\n      <td>0</td>\n      <td>0.0</td>\n    </tr>\n    <tr>\n      <th>1</th>\n      <td>1982-01-01</td>\n      <td>2.0</td>\n      <td>280.0</td>\n      <td>H</td>\n      <td>S</td>\n      <td>X</td>\n      <td>S</td>\n      <td>21</td>\n      <td>W</td>\n      <td>84</td>\n      <td>0.0</td>\n      <td>0.000000e+00</td>\n      <td>0.000000</td>\n      <td>0.0</td>\n      <td>0.0</td>\n      <td>0</td>\n      <td>0.0</td>\n    </tr>\n    <tr>\n      <th>2</th>\n      <td>1982-01-01</td>\n      <td>11.0</td>\n      <td>240.0</td>\n      <td>D</td>\n      <td>A</td>\n      <td>O</td>\n      <td>N</td>\n      <td>20</td>\n      <td>W</td>\n      <td>73</td>\n      <td>2.0</td>\n      <td>3.787330e+08</td>\n      <td>-4.508638</td>\n      <td>3360.0</td>\n      <td>2340.0</td>\n      <td>M</td>\n      <td>3.1</td>\n    </tr>\n    <tr>\n      <th>3</th>\n      <td>1982-01-01</td>\n      <td>18.0</td>\n      <td>30.0</td>\n      <td>C</td>\n      <td>R</td>\n      <td>O</td>\n      <td>S</td>\n      <td>10</td>\n      <td>W</td>\n      <td>12</td>\n      <td>0.0</td>\n      <td>0.000000e+00</td>\n      <td>0.000000</td>\n      <td>0.0</td>\n      <td>0.0</td>\n      <td>0</td>\n      <td>0.0</td>\n    </tr>\n    <tr>\n      <th>4</th>\n      <td>1982-01-01</td>\n      <td>41.0</td>\n      <td>310.0</td>\n      <td>D</td>\n      <td>A</td>\n      <td>O</td>\n      <td>N</td>\n      <td>18</td>\n      <td>W</td>\n      <td>18</td>\n      <td>0.0</td>\n      <td>0.000000e+00</td>\n      <td>0.000000</td>\n      <td>0.0</td>\n      <td>0.0</td>\n      <td>0</td>\n      <td>0.0</td>\n    </tr>\n    <tr>\n      <th>...</th>\n      <td>...</td>\n      <td>...</td>\n      <td>...</td>\n      <td>...</td>\n      <td>...</td>\n      <td>...</td>\n      <td>...</td>\n      <td>...</td>\n      <td>...</td>\n      <td>...</td>\n      <td>...</td>\n      <td>...</td>\n      <td>...</td>\n      <td>...</td>\n      <td>...</td>\n      <td>...</td>\n      <td>...</td>\n    </tr>\n    <tr>\n      <th>73387</th>\n      <td>2023-12-30</td>\n      <td>12.0</td>\n      <td>150.0</td>\n      <td>D</td>\n      <td>A</td>\n      <td>O</td>\n      <td>S</td>\n      <td>13</td>\n      <td>E</td>\n      <td>16</td>\n      <td>1.0</td>\n      <td>1.703920e+09</td>\n      <td>-5.721246</td>\n      <td>1800.0</td>\n      <td>1800.0</td>\n      <td>C</td>\n      <td>1.9</td>\n    </tr>\n    <tr>\n      <th>73388</th>\n      <td>2023-12-31</td>\n      <td>1.0</td>\n      <td>160.0</td>\n      <td>H</td>\n      <td>S</td>\n      <td>X</td>\n      <td>S</td>\n      <td>19</td>\n      <td>W</td>\n      <td>77</td>\n      <td>1.0</td>\n      <td>1.703991e+09</td>\n      <td>-5.920819</td>\n      <td>1560.0</td>\n      <td>1560.0</td>\n      <td>C</td>\n      <td>1.2</td>\n    </tr>\n    <tr>\n      <th>73389</th>\n      <td>2023-12-31</td>\n      <td>2.0</td>\n      <td>20.0</td>\n      <td>B</td>\n      <td>X</td>\n      <td>O</td>\n      <td>N</td>\n      <td>15</td>\n      <td>W</td>\n      <td>78</td>\n      <td>0.0</td>\n      <td>0.000000e+00</td>\n      <td>0.000000</td>\n      <td>0.0</td>\n      <td>0.0</td>\n      <td>0</td>\n      <td>0.0</td>\n    </tr>\n    <tr>\n      <th>73390</th>\n      <td>2023-12-31</td>\n      <td>10.0</td>\n      <td>120.0</td>\n      <td>D</td>\n      <td>A</td>\n      <td>O</td>\n      <td>S</td>\n      <td>12</td>\n      <td>E</td>\n      <td>03</td>\n      <td>0.0</td>\n      <td>0.000000e+00</td>\n      <td>0.000000</td>\n      <td>0.0</td>\n      <td>0.0</td>\n      <td>0</td>\n      <td>0.0</td>\n    </tr>\n    <tr>\n      <th>73391</th>\n      <td>2023-12-31</td>\n      <td>2.0</td>\n      <td>80.0</td>\n      <td>H</td>\n      <td>A</td>\n      <td>X</td>\n      <td>N</td>\n      <td>05</td>\n      <td>E</td>\n      <td>75</td>\n      <td>10.0</td>\n      <td>1.704038e+09</td>\n      <td>-3.301030</td>\n      <td>3360.0</td>\n      <td>1458.0</td>\n      <td>X</td>\n      <td>5.0</td>\n    </tr>\n  </tbody>\n</table>\n<p>73392 rows × 17 columns</p>\n</div>"
     },
     "execution_count": 348,
     "metadata": {},
     "output_type": "execute_result"
    }
   ],
   "source": [
    "merged_df.drop('Region', axis=1, inplace=True)\n",
    "merged_df"
   ],
   "metadata": {
    "collapsed": false,
    "ExecuteTime": {
     "end_time": "2024-08-11T02:09:58.151386100Z",
     "start_time": "2024-08-11T02:09:58.113593900Z"
    }
   },
   "id": "ae3d40deaf824c9"
  },
  {
   "cell_type": "code",
   "execution_count": 354,
   "outputs": [],
   "source": [
    "# converting 0 (int) to string\n",
    "merged_df['X-ray class'] = merged_df['X-ray class'].astype(str)\n",
    "merged_df['Zurich Class'] = merged_df['Zurich Class'].astype(str)\n",
    "merged_df['Penumbra Class'] = merged_df['Penumbra Class'].astype(str)\n",
    "merged_df['Compactness Class'] = merged_df['Compactness Class'].astype(str)"
   ],
   "metadata": {
    "collapsed": false,
    "ExecuteTime": {
     "end_time": "2024-08-11T03:27:58.101331200Z",
     "start_time": "2024-08-11T03:27:58.067157800Z"
    }
   },
   "id": "69d2ad8b3b7d78d6"
  },
  {
   "cell_type": "code",
   "execution_count": 355,
   "outputs": [],
   "source": [
    "merged_df.to_csv(\"../data/final-merged.csv\", index=False)"
   ],
   "metadata": {
    "collapsed": false,
    "ExecuteTime": {
     "end_time": "2024-08-11T03:27:59.407038300Z",
     "start_time": "2024-08-11T03:27:59.177324400Z"
    }
   },
   "id": "793f2301554f00da"
  },
  {
   "cell_type": "code",
   "execution_count": 334,
   "outputs": [
    {
     "data": {
      "text/plain": "1200"
     },
     "execution_count": 334,
     "metadata": {},
     "output_type": "execute_result"
    }
   ],
   "source": [
    "# missing flares\n",
    "df_flares_processed_grouped.shape[0] - merged_df[merged_df['Flares Count'] != 0].shape[0]"
   ],
   "metadata": {
    "collapsed": false,
    "ExecuteTime": {
     "end_time": "2024-08-11T02:00:57.615388800Z",
     "start_time": "2024-08-11T02:00:57.596990900Z"
    }
   },
   "id": "41dce40909e77d02"
  },
  {
   "cell_type": "code",
   "execution_count": 267,
   "outputs": [
    {
     "data": {
      "text/plain": "17982"
     },
     "execution_count": 267,
     "metadata": {},
     "output_type": "execute_result"
    }
   ],
   "source": [
    "df_flares_processed_grouped.shape[0]"
   ],
   "metadata": {
    "collapsed": false,
    "ExecuteTime": {
     "end_time": "2024-08-11T00:56:29.268677400Z",
     "start_time": "2024-08-11T00:56:29.249289700Z"
    }
   },
   "id": "211b6a8ac8da2c1d"
  },
  {
   "cell_type": "code",
   "execution_count": 268,
   "outputs": [
    {
     "data": {
      "text/plain": "'6.57%'"
     },
     "execution_count": 268,
     "metadata": {},
     "output_type": "execute_result"
    }
   ],
   "source": [
    "x = df_flares_processed_grouped.shape[0] - merged_df[merged_df['Flares Count'] != 0].shape[0]\n",
    "t = df_flares_processed_grouped.shape[0]\n",
    "f\"{round(100-(t-x)*100/t, 2)}%\""
   ],
   "metadata": {
    "collapsed": false,
    "ExecuteTime": {
     "end_time": "2024-08-11T00:56:29.385823300Z",
     "start_time": "2024-08-11T00:56:29.267664600Z"
    }
   },
   "id": "536ea16edd2210fe"
  },
  {
   "cell_type": "markdown",
   "source": [
    "# NO NEED\n",
    "# Region interpolation"
   ],
   "metadata": {
    "collapsed": false
   },
   "id": "463739b31b8aadaf"
  },
  {
   "cell_type": "code",
   "execution_count": 269,
   "outputs": [
    {
     "data": {
      "text/plain": "array([    0,  7936,     2,  9346,  4615,  3215, 10000,  6159,  4886,\n       11160,  4377,  4504,  3868,  6044,  3746, 11171, 11044,  4386,\n         422,  4006, 11048, 11049, 11050, 13995,  4141,  2102, 13880,\n       11075,  6339, 11077,  4557,  8016,  8018, 11091,  4953, 10586,\n        4061, 10590,  8162, 10851, 10724, 11107,  6117,  7524,  4200,\n       10985, 10859,  4715, 10607,  5745,  4343, 10363,    -1])"
     },
     "execution_count": 269,
     "metadata": {},
     "output_type": "execute_result"
    }
   ],
   "source": [
    "np.array(list(set(df_flares['Region']) - set(df_sunspot['Region'])))"
   ],
   "metadata": {
    "collapsed": false,
    "ExecuteTime": {
     "end_time": "2024-08-11T00:56:29.403322300Z",
     "start_time": "2024-08-11T00:56:29.298364Z"
    }
   },
   "id": "2ecf8276935b21e0"
  },
  {
   "cell_type": "code",
   "execution_count": 270,
   "outputs": [
    {
     "data": {
      "text/plain": "(44869, 7)"
     },
     "execution_count": 270,
     "metadata": {},
     "output_type": "execute_result"
    }
   ],
   "source": [
    "df_flares_cleaned_indices = df_flares[~df_flares['Region'].\n",
    "                                   isin(set(df_flares['Region'])\n",
    "                                        - set(df_sunspot['Region']))].index\n",
    "df_flares_cleaned = df_flares.loc[df_flares_cleaned_indices]\n",
    "df_flares_cleaned = df_flares_cleaned[df_flares_cleaned['Region'] != 1]\n",
    "df_flares_cleaned['Date'] = pd.to_datetime(df_flares_cleaned[['Year', 'Month', 'Day']])\n",
    "df_flares_cleaned.drop(columns=['Year', 'Month', 'Day'], axis=1, inplace=True)\n",
    "df_flares_cleaned.shape"
   ],
   "metadata": {
    "collapsed": false,
    "ExecuteTime": {
     "end_time": "2024-08-11T00:56:29.406330900Z",
     "start_time": "2024-08-11T00:56:29.320341400Z"
    }
   },
   "id": "8a7cb51b281bdd86"
  },
  {
   "cell_type": "markdown",
   "source": [
    "# NO NEED\n",
    "## Polynomial Interpolation"
   ],
   "metadata": {
    "collapsed": false
   },
   "id": "13235f5d05c1e0d5"
  },
  {
   "cell_type": "code",
   "execution_count": 271,
   "outputs": [
    {
     "name": "stderr",
     "output_type": "stream",
     "text": [
      "/tmp/ipykernel_67921/3889142847.py:10: RankWarning: Polyfit may be poorly conditioned\n",
      "  coefficients_n = np.polyfit(x, y, degree)\n",
      "/tmp/ipykernel_67921/3889142847.py:10: RankWarning: Polyfit may be poorly conditioned\n",
      "  coefficients_n = np.polyfit(x, y, degree)\n"
     ]
    }
   ],
   "source": [
    "x = df_flares_cleaned['Date'].apply(convert_to_pd_timestamp)\n",
    "y = df_flares_cleaned['Region']\n",
    "\n",
    "r2_values = []\n",
    "\n",
    "# Loop through polynomial degrees from 3 to 10\n",
    "degrees = range(3, 15)\n",
    "for degree in degrees:\n",
    "  # Fit the polynomial of the current degree\n",
    "  coefficients_n = np.polyfit(x, y, degree)\n",
    "  y_fit_n = np.polyval(coefficients_n, x)\n",
    "  \n",
    "  # Calculate R-squared for the current degree\n",
    "  r2_n = r2_score(y, y_fit_n)\n",
    "  r2_values.append(r2_n)"
   ],
   "metadata": {
    "collapsed": false,
    "ExecuteTime": {
     "end_time": "2024-08-11T00:56:29.671766700Z",
     "start_time": "2024-08-11T00:56:29.545120400Z"
    }
   },
   "id": "de8f31c80d1ae5f1"
  },
  {
   "cell_type": "code",
   "execution_count": 272,
   "outputs": [
    {
     "data": {
      "text/plain": "<Figure size 1000x600 with 1 Axes>",
      "image/png": "[encoded data removed]"
     },
     "metadata": {},
     "output_type": "display_data"
    }
   ],
   "source": [
    "plt.figure(figsize=(10, 6))\n",
    "plt.plot(degrees, r2_values, marker='o', linestyle='-', color='green')\n",
    "plt.xlabel('Polynomial Degree')\n",
    "plt.ylabel('R-squared')\n",
    "plt.title('Polynomial Degree vs R-squared')\n",
    "plt.grid(True)\n",
    "plt.show()"
   ],
   "metadata": {
    "collapsed": false,
    "ExecuteTime": {
     "end_time": "2024-08-11T00:56:29.743269900Z",
     "start_time": "2024-08-11T00:56:29.684968Z"
    }
   },
   "id": "3c095116de8298a"
  },
  {
   "cell_type": "markdown",
   "source": [
    "# NO NEED\n",
    "## use 12th degree for interpolation"
   ],
   "metadata": {
    "collapsed": false
   },
   "id": "4a6201bacf143c3b"
  },
  {
   "cell_type": "code",
   "execution_count": 273,
   "outputs": [
    {
     "data": {
      "text/plain": "Region             33801\nX-ray class           26\nX-ray intensity       29\ndtype: int64"
     },
     "execution_count": 273,
     "metadata": {},
     "output_type": "execute_result"
    }
   ],
   "source": [
    "df_flares_with_null = pd.read_csv(\"../data/flares-processed-2.csv\")\n",
    "get_null_counts(df_flares_with_null)"
   ],
   "metadata": {
    "collapsed": false,
    "ExecuteTime": {
     "end_time": "2024-08-11T00:56:29.901593200Z",
     "start_time": "2024-08-11T00:56:29.737759700Z"
    }
   },
   "id": "c5711b4541760316"
  },
  {
   "cell_type": "code",
   "execution_count": 274,
   "outputs": [],
   "source": [
    "df_flares_with_null.dropna(subset=['X-ray class', 'X-ray intensity'], inplace=True)\n",
    "\n",
    "# replace with np.nan if Region less than 3000\n",
    "df_flares_with_null['Region'] = (df_flares_with_null['Region']\n",
    "                                 .apply(lambda _x: _x if _x >= 3e3 else np.nan))\n",
    "\n",
    "df_flares_with_null['Timestamp'] = pd.to_datetime(df_flares_with_null[['Year', 'Month', 'Day']]).apply(convert_to_pd_timestamp)"
   ],
   "metadata": {
    "collapsed": false,
    "ExecuteTime": {
     "end_time": "2024-08-11T00:56:30.026905100Z",
     "start_time": "2024-08-11T00:56:29.859571700Z"
    }
   },
   "id": "8c2905c7d5f8fa43"
  },
  {
   "cell_type": "code",
   "execution_count": 275,
   "outputs": [],
   "source": [
    "# Identify the rows where Region is not nan\n",
    "not_nan_mask = ~df_flares_with_null['Region'].isna()\n",
    "\n",
    "# Extract the x and y for non-nan positions\n",
    "x_non_nan = df_flares_with_null.loc[not_nan_mask, 'Timestamp']\n",
    "y_non_nan = df_flares_with_null.loc[not_nan_mask, 'Region']"
   ],
   "metadata": {
    "collapsed": false,
    "ExecuteTime": {
     "end_time": "2024-08-11T00:56:30.041197300Z",
     "start_time": "2024-08-11T00:56:29.960757500Z"
    }
   },
   "id": "59d24f1ae5241c07"
  },
  {
   "cell_type": "code",
   "execution_count": 276,
   "outputs": [
    {
     "name": "stderr",
     "output_type": "stream",
     "text": [
      "/home/debashis/works/dissertation/env/lib/python3.10/site-packages/numpy/lib/polynomial.py:667: RuntimeWarning: overflow encountered in multiply\n",
      "  scale = NX.sqrt((lhs*lhs).sum(axis=0))\n",
      "/home/debashis/works/dissertation/env/lib/python3.10/site-packages/numpy/core/_methods.py:49: RuntimeWarning: overflow encountered in reduce\n",
      "  return umr_sum(a, axis, dtype, out, keepdims, initial, where)\n",
      "/tmp/ipykernel_67921/3875615144.py:1: RankWarning: Polyfit may be poorly conditioned\n",
      "  coefficients_12th = np.polyfit(x_non_nan, y_non_nan, 20)\n"
     ]
    }
   ],
   "source": [
    "coefficients_12th = np.polyfit(x_non_nan, y_non_nan, 20)\n",
    "\n",
    "# polynomial function from the coefficients\n",
    "polynm_func_12th_dg = np.poly1d(coefficients_12th)\n",
    "\n",
    "df_flares_with_null['Region Interpolated'] = df_flares_with_null['Region'].copy()\n",
    "\n",
    "# Interpolate the missing values using the polynomial function\n",
    "df_flares_with_null.loc[~not_nan_mask, 'Region Interpolated'] = polynm_func_12th_dg(\n",
    "  df_flares_with_null.loc[~not_nan_mask, 'Timestamp'])"
   ],
   "metadata": {
    "collapsed": false,
    "ExecuteTime": {
     "end_time": "2024-08-11T00:56:30.089626Z",
     "start_time": "2024-08-11T00:56:29.972268100Z"
    }
   },
   "id": "2acf48fcf008b1cb"
  },
  {
   "cell_type": "code",
   "execution_count": 277,
   "outputs": [
    {
     "data": {
      "text/plain": "        Region  Region Interpolated\n0       3522.0               3522.0\n1       3531.0               3531.0\n2       3531.0               3531.0\n3       3537.0               3537.0\n4          NaN               3670.0\n...        ...                  ...\n78807  13536.0              13536.0\n78808  13536.0              13536.0\n78809  13536.0              13536.0\n78810  13536.0              13536.0\n78811  13536.0              13536.0\n\n[78783 rows x 2 columns]",
      "text/html": "<div>\n<style scoped>\n    .dataframe tbody tr th:only-of-type {\n        vertical-align: middle;\n    }\n\n    .dataframe tbody tr th {\n        vertical-align: top;\n    }\n\n    .dataframe thead th {\n        text-align: right;\n    }\n</style>\n<table border=\"1\" class=\"dataframe\">\n  <thead>\n    <tr style=\"text-align: right;\">\n      <th></th>\n      <th>Region</th>\n      <th>Region Interpolated</th>\n    </tr>\n  </thead>\n  <tbody>\n    <tr>\n      <th>0</th>\n      <td>3522.0</td>\n      <td>3522.0</td>\n    </tr>\n    <tr>\n      <th>1</th>\n      <td>3531.0</td>\n      <td>3531.0</td>\n    </tr>\n    <tr>\n      <th>2</th>\n      <td>3531.0</td>\n      <td>3531.0</td>\n    </tr>\n    <tr>\n      <th>3</th>\n      <td>3537.0</td>\n      <td>3537.0</td>\n    </tr>\n    <tr>\n      <th>4</th>\n      <td>NaN</td>\n      <td>3670.0</td>\n    </tr>\n    <tr>\n      <th>...</th>\n      <td>...</td>\n      <td>...</td>\n    </tr>\n    <tr>\n      <th>78807</th>\n      <td>13536.0</td>\n      <td>13536.0</td>\n    </tr>\n    <tr>\n      <th>78808</th>\n      <td>13536.0</td>\n      <td>13536.0</td>\n    </tr>\n    <tr>\n      <th>78809</th>\n      <td>13536.0</td>\n      <td>13536.0</td>\n    </tr>\n    <tr>\n      <th>78810</th>\n      <td>13536.0</td>\n      <td>13536.0</td>\n    </tr>\n    <tr>\n      <th>78811</th>\n      <td>13536.0</td>\n      <td>13536.0</td>\n    </tr>\n  </tbody>\n</table>\n<p>78783 rows × 2 columns</p>\n</div>"
     },
     "execution_count": 277,
     "metadata": {},
     "output_type": "execute_result"
    }
   ],
   "source": [
    "df_flares_with_null['Region Interpolated'] = df_flares_with_null['Region Interpolated'].round()\n",
    "df_flares_with_null[['Region', 'Region Interpolated']]"
   ],
   "metadata": {
    "collapsed": false,
    "ExecuteTime": {
     "end_time": "2024-08-11T00:56:30.094773Z",
     "start_time": "2024-08-11T00:56:30.007589400Z"
    }
   },
   "id": "cd1f80af9d100b33"
  },
  {
   "cell_type": "code",
   "execution_count": 278,
   "outputs": [],
   "source": [
    "def display_interpolated_flares_region_data(new_intpld_col):\n",
    "  plt.figure(figsize=(10, 3))\n",
    "  # Plot the original data (non-null values)\n",
    "  plt.plot(df_flares_with_null['Timestamp'], df_flares_with_null['Region'], label='Original Data', marker='.', color='blue')\n",
    "  \n",
    "  # Plot the data with nulls (this will only show the non-null points)\n",
    "  # plt.scatter(df_flares_with_null['Timestamp'], df_flares_with_null['Region'], label='Data with Nulls', color='red', zorder=5)\n",
    "  \n",
    "  # Plot the interpolated data\n",
    "  plt.plot(df_flares_with_null['Timestamp'], df_flares_with_null[new_intpld_col], label='Interpolated Data', color='red', linestyle='--')\n",
    "  \n",
    "  # Add labels and legend\n",
    "  plt.xlabel('Timestamp')\n",
    "  plt.ylabel('Region')\n",
    "  plt.title('Original, Data with Nulls, and Interpolated Data')\n",
    "  plt.legend()\n",
    "  plt.show()"
   ],
   "metadata": {
    "collapsed": false,
    "ExecuteTime": {
     "end_time": "2024-08-11T00:56:30.095765900Z",
     "start_time": "2024-08-11T00:56:30.020127200Z"
    }
   },
   "id": "2ca027544ead713f"
  },
  {
   "cell_type": "code",
   "execution_count": 279,
   "outputs": [
    {
     "data": {
      "text/plain": "<Figure size 1000x300 with 1 Axes>",
      "image/png": "[encoded data removed]"
     },
     "metadata": {},
     "output_type": "display_data"
    }
   ],
   "source": [
    "display_interpolated_flares_region_data('Region Interpolated')"
   ],
   "metadata": {
    "collapsed": false,
    "ExecuteTime": {
     "end_time": "2024-08-11T00:56:30.201085500Z",
     "start_time": "2024-08-11T00:56:30.026905100Z"
    }
   },
   "id": "ab1d288242ea8b03"
  },
  {
   "cell_type": "code",
   "execution_count": 280,
   "outputs": [],
   "source": [
    "df_flares_with_null['Region Interpolated pd'] = df_flares_with_null['Region'].interpolate(method='spline', order=3).round()"
   ],
   "metadata": {
    "collapsed": false,
    "ExecuteTime": {
     "end_time": "2024-08-11T00:56:44.514609800Z",
     "start_time": "2024-08-11T00:56:30.174544Z"
    }
   },
   "id": "b92fffd4aea1d795"
  },
  {
   "cell_type": "code",
   "execution_count": 281,
   "outputs": [
    {
     "data": {
      "text/plain": "<Figure size 1000x300 with 1 Axes>",
      "image/png": "[encoded data removed]"
     },
     "metadata": {},
     "output_type": "display_data"
    }
   ],
   "source": [
    "display_interpolated_flares_region_data('Region Interpolated pd')"
   ],
   "metadata": {
    "collapsed": false,
    "ExecuteTime": {
     "end_time": "2024-08-11T00:56:44.669533900Z",
     "start_time": "2024-08-11T00:56:44.518613900Z"
    }
   },
   "id": "35effdf3e9f822ac"
  },
  {
   "cell_type": "code",
   "execution_count": 282,
   "outputs": [],
   "source": [
    "import seaborn as sns\n",
    "from sklearn.impute import KNNImputer"
   ],
   "metadata": {
    "collapsed": false,
    "ExecuteTime": {
     "end_time": "2024-08-11T00:56:44.669533900Z",
     "start_time": "2024-08-11T00:56:44.648241900Z"
    }
   },
   "id": "b069f8bf2c06f40a"
  },
  {
   "cell_type": "code",
   "execution_count": 283,
   "outputs": [],
   "source": [
    "knn_imputer = KNNImputer(n_neighbors=2)\n",
    "df_imputed = pd.DataFrame(knn_imputer.fit_transform(df_flares_with_null[['Timestamp', 'Region']]),\n",
    "                          columns=['Timestamp', 'Region'])"
   ],
   "metadata": {
    "collapsed": false,
    "ExecuteTime": {
     "end_time": "2024-08-11T00:57:51.741301200Z",
     "start_time": "2024-08-11T00:56:44.650239700Z"
    }
   },
   "id": "9b5fcb951b3fe673"
  },
  {
   "cell_type": "code",
   "execution_count": 284,
   "outputs": [
    {
     "data": {
      "text/plain": "        Region  Region Interpolated ML1\n0       3522.0                   3522.0\n1       3531.0                   3531.0\n2       3531.0                   3531.0\n3       3537.0                   3537.0\n4          NaN                   3530.0\n...        ...                      ...\n78807  13536.0                      NaN\n78808  13536.0                      NaN\n78809  13536.0                      NaN\n78810  13536.0                      NaN\n78811  13536.0                      NaN\n\n[78783 rows x 2 columns]",
      "text/html": "<div>\n<style scoped>\n    .dataframe tbody tr th:only-of-type {\n        vertical-align: middle;\n    }\n\n    .dataframe tbody tr th {\n        vertical-align: top;\n    }\n\n    .dataframe thead th {\n        text-align: right;\n    }\n</style>\n<table border=\"1\" class=\"dataframe\">\n  <thead>\n    <tr style=\"text-align: right;\">\n      <th></th>\n      <th>Region</th>\n      <th>Region Interpolated ML1</th>\n    </tr>\n  </thead>\n  <tbody>\n    <tr>\n      <th>0</th>\n      <td>3522.0</td>\n      <td>3522.0</td>\n    </tr>\n    <tr>\n      <th>1</th>\n      <td>3531.0</td>\n      <td>3531.0</td>\n    </tr>\n    <tr>\n      <th>2</th>\n      <td>3531.0</td>\n      <td>3531.0</td>\n    </tr>\n    <tr>\n      <th>3</th>\n      <td>3537.0</td>\n      <td>3537.0</td>\n    </tr>\n    <tr>\n      <th>4</th>\n      <td>NaN</td>\n      <td>3530.0</td>\n    </tr>\n    <tr>\n      <th>...</th>\n      <td>...</td>\n      <td>...</td>\n    </tr>\n    <tr>\n      <th>78807</th>\n      <td>13536.0</td>\n      <td>NaN</td>\n    </tr>\n    <tr>\n      <th>78808</th>\n      <td>13536.0</td>\n      <td>NaN</td>\n    </tr>\n    <tr>\n      <th>78809</th>\n      <td>13536.0</td>\n      <td>NaN</td>\n    </tr>\n    <tr>\n      <th>78810</th>\n      <td>13536.0</td>\n      <td>NaN</td>\n    </tr>\n    <tr>\n      <th>78811</th>\n      <td>13536.0</td>\n      <td>NaN</td>\n    </tr>\n  </tbody>\n</table>\n<p>78783 rows × 2 columns</p>\n</div>"
     },
     "execution_count": 284,
     "metadata": {},
     "output_type": "execute_result"
    }
   ],
   "source": [
    "df_flares_with_null['Region Interpolated ML1'] = df_imputed['Region'].round()\n",
    "df_flares_with_null[['Region', 'Region Interpolated ML1']]"
   ],
   "metadata": {
    "collapsed": false,
    "ExecuteTime": {
     "end_time": "2024-08-11T00:57:51.757486500Z",
     "start_time": "2024-08-11T00:57:51.738285400Z"
    }
   },
   "id": "fd4d6bdb97debdd2"
  },
  {
   "cell_type": "code",
   "execution_count": 285,
   "outputs": [],
   "source": [
    "from sklearn.tree import DecisionTreeRegressor\n",
    "from sklearn.model_selection import train_test_split"
   ],
   "metadata": {
    "collapsed": false,
    "ExecuteTime": {
     "end_time": "2024-08-11T00:57:51.757486500Z",
     "start_time": "2024-08-11T00:57:51.749357700Z"
    }
   },
   "id": "55eb140823c57e5c"
  },
  {
   "cell_type": "code",
   "execution_count": 286,
   "outputs": [
    {
     "data": {
      "text/plain": "        Region  Region Interpolated ML2\n0       3522.0                   3522.0\n1       3531.0                   3531.0\n2       3531.0                   3531.0\n3       3537.0                   3537.0\n4          NaN                   3530.0\n...        ...                      ...\n78807  13536.0                  13536.0\n78808  13536.0                  13536.0\n78809  13536.0                  13536.0\n78810  13536.0                  13536.0\n78811  13536.0                  13536.0\n\n[78783 rows x 2 columns]",
      "text/html": "<div>\n<style scoped>\n    .dataframe tbody tr th:only-of-type {\n        vertical-align: middle;\n    }\n\n    .dataframe tbody tr th {\n        vertical-align: top;\n    }\n\n    .dataframe thead th {\n        text-align: right;\n    }\n</style>\n<table border=\"1\" class=\"dataframe\">\n  <thead>\n    <tr style=\"text-align: right;\">\n      <th></th>\n      <th>Region</th>\n      <th>Region Interpolated ML2</th>\n    </tr>\n  </thead>\n  <tbody>\n    <tr>\n      <th>0</th>\n      <td>3522.0</td>\n      <td>3522.0</td>\n    </tr>\n    <tr>\n      <th>1</th>\n      <td>3531.0</td>\n      <td>3531.0</td>\n    </tr>\n    <tr>\n      <th>2</th>\n      <td>3531.0</td>\n      <td>3531.0</td>\n    </tr>\n    <tr>\n      <th>3</th>\n      <td>3537.0</td>\n      <td>3537.0</td>\n    </tr>\n    <tr>\n      <th>4</th>\n      <td>NaN</td>\n      <td>3530.0</td>\n    </tr>\n    <tr>\n      <th>...</th>\n      <td>...</td>\n      <td>...</td>\n    </tr>\n    <tr>\n      <th>78807</th>\n      <td>13536.0</td>\n      <td>13536.0</td>\n    </tr>\n    <tr>\n      <th>78808</th>\n      <td>13536.0</td>\n      <td>13536.0</td>\n    </tr>\n    <tr>\n      <th>78809</th>\n      <td>13536.0</td>\n      <td>13536.0</td>\n    </tr>\n    <tr>\n      <th>78810</th>\n      <td>13536.0</td>\n      <td>13536.0</td>\n    </tr>\n    <tr>\n      <th>78811</th>\n      <td>13536.0</td>\n      <td>13536.0</td>\n    </tr>\n  </tbody>\n</table>\n<p>78783 rows × 2 columns</p>\n</div>"
     },
     "execution_count": 286,
     "metadata": {},
     "output_type": "execute_result"
    }
   ],
   "source": [
    "# Separate the data into the target variable (column with missing values) and features\n",
    "target_column = 'Region'\n",
    "features = df_flares_with_null['Timestamp']\n",
    "target = df_flares_with_null[target_column]\n",
    "\n",
    "# Split the data into training and testing sets, where the training set will contain non-missing values\n",
    "X_train = np.array(features[target.notnull()]).reshape(-1,1)\n",
    "y_train = target[target.notnull()]\n",
    "\n",
    "# The rows where the target value is missing (to be predicted)\n",
    "X_missing = np.array(features[target.isnull()]).reshape(-1,1)\n",
    "\n",
    "# Step 2: Train a Decision Tree Regressor\n",
    "model = DecisionTreeRegressor()\n",
    "model.fit(X_train, y_train)\n",
    "\n",
    "# Predict the missing values\n",
    "predicted_values = model.predict(X_missing)\n",
    "\n",
    "\n",
    "# Fill the missing values in the original dataset\n",
    "df_flares_with_null['Region Interpolated ML2'] = df_flares_no_null['Region']\n",
    "df_flares_with_null.loc[df_flares_with_null[target_column].isnull(), 'Region Interpolated ML2'] = predicted_values\n",
    "df_flares_with_null['Region Interpolated ML2'] = df_flares_with_null['Region Interpolated ML2'].round()\n",
    "df_flares_with_null[['Region', 'Region Interpolated ML2']]"
   ],
   "metadata": {
    "collapsed": false,
    "ExecuteTime": {
     "end_time": "2024-08-11T00:57:51.858690300Z",
     "start_time": "2024-08-11T00:57:51.758489100Z"
    }
   },
   "id": "98597b7c3fb2f63f"
  },
  {
   "cell_type": "code",
   "execution_count": 287,
   "outputs": [
    {
     "data": {
      "text/plain": "<Figure size 1000x300 with 1 Axes>",
      "image/png": "[encoded data removed]"
     },
     "metadata": {},
     "output_type": "display_data"
    }
   ],
   "source": [
    "display_interpolated_flares_region_data('Region Interpolated ML2')"
   ],
   "metadata": {
    "collapsed": false,
    "ExecuteTime": {
     "end_time": "2024-08-11T00:57:52.027198600Z",
     "start_time": "2024-08-11T00:57:51.821638800Z"
    }
   },
   "id": "15b4d81cab23e5f6"
  },
  {
   "cell_type": "code",
   "execution_count": 205,
   "outputs": [
    {
     "name": "stdout",
     "output_type": "stream",
     "text": [
      "fitting.\n"
     ]
    }
   ],
   "source": [
    "_x_for_intpl = df_flares_with_null['Timestamp'].values\n",
    "_y_for_intpl = df_flares_with_null['Region'].values\n",
    "accuracy_rf, filled_y_rf, missing_index = interpolate_by_ML(_x_for_intpl, _y_for_intpl, 'rf')"
   ],
   "metadata": {
    "collapsed": false,
    "ExecuteTime": {
     "end_time": "2024-08-09T22:49:05.954493700Z",
     "start_time": "2024-08-09T22:49:01.237407600Z"
    }
   },
   "id": "1a889fff318b14d5"
  },
  {
   "cell_type": "code",
   "execution_count": null,
   "outputs": [],
   "source": [
    "df_flares_with_null['Region Interpolated ML3'] = filled_y_rf.round()"
   ],
   "metadata": {
    "collapsed": false
   },
   "id": "dfbb7ece126a9600"
  },
  {
   "cell_type": "code",
   "execution_count": 215,
   "outputs": [
    {
     "data": {
      "text/plain": "        Region  Region Interpolated  Region Interpolated pd  \\\n0       3522.0               3522.0                  3522.0   \n1       3531.0               3531.0                  3531.0   \n2       3531.0               3531.0                  3531.0   \n3       3537.0               3537.0                  3537.0   \n4          NaN               3670.0                  3534.0   \n...        ...                  ...                     ...   \n78807  13536.0              13536.0                 13536.0   \n78808  13536.0              13536.0                 13536.0   \n78809  13536.0              13536.0                 13536.0   \n78810  13536.0              13536.0                 13536.0   \n78811  13536.0              13536.0                 13536.0   \n\n       Region Interpolated ML1  Region Interpolated ML2  \\\n0                       3522.0                   3522.0   \n1                       3531.0                   3531.0   \n2                       3531.0                   3531.0   \n3                       3537.0                   3537.0   \n4                       3530.0                   3530.0   \n...                        ...                      ...   \n78807                      NaN                  13536.0   \n78808                      NaN                  13536.0   \n78809                      NaN                  13536.0   \n78810                      NaN                  13536.0   \n78811                      NaN                  13536.0   \n\n       Region Interpolated ML3  \n0                       3522.0  \n1                       3531.0  \n2                       3531.0  \n3                       3537.0  \n4                       3530.0  \n...                        ...  \n78807                  13536.0  \n78808                  13536.0  \n78809                  13536.0  \n78810                  13536.0  \n78811                  13536.0  \n\n[78783 rows x 6 columns]",
      "text/html": "<div>\n<style scoped>\n    .dataframe tbody tr th:only-of-type {\n        vertical-align: middle;\n    }\n\n    .dataframe tbody tr th {\n        vertical-align: top;\n    }\n\n    .dataframe thead th {\n        text-align: right;\n    }\n</style>\n<table border=\"1\" class=\"dataframe\">\n  <thead>\n    <tr style=\"text-align: right;\">\n      <th></th>\n      <th>Region</th>\n      <th>Region Interpolated</th>\n      <th>Region Interpolated pd</th>\n      <th>Region Interpolated ML1</th>\n      <th>Region Interpolated ML2</th>\n      <th>Region Interpolated ML3</th>\n    </tr>\n  </thead>\n  <tbody>\n    <tr>\n      <th>0</th>\n      <td>3522.0</td>\n      <td>3522.0</td>\n      <td>3522.0</td>\n      <td>3522.0</td>\n      <td>3522.0</td>\n      <td>3522.0</td>\n    </tr>\n    <tr>\n      <th>1</th>\n      <td>3531.0</td>\n      <td>3531.0</td>\n      <td>3531.0</td>\n      <td>3531.0</td>\n      <td>3531.0</td>\n      <td>3531.0</td>\n    </tr>\n    <tr>\n      <th>2</th>\n      <td>3531.0</td>\n      <td>3531.0</td>\n      <td>3531.0</td>\n      <td>3531.0</td>\n      <td>3531.0</td>\n      <td>3531.0</td>\n    </tr>\n    <tr>\n      <th>3</th>\n      <td>3537.0</td>\n      <td>3537.0</td>\n      <td>3537.0</td>\n      <td>3537.0</td>\n      <td>3537.0</td>\n      <td>3537.0</td>\n    </tr>\n    <tr>\n      <th>4</th>\n      <td>NaN</td>\n      <td>3670.0</td>\n      <td>3534.0</td>\n      <td>3530.0</td>\n      <td>3530.0</td>\n      <td>3530.0</td>\n    </tr>\n    <tr>\n      <th>...</th>\n      <td>...</td>\n      <td>...</td>\n      <td>...</td>\n      <td>...</td>\n      <td>...</td>\n      <td>...</td>\n    </tr>\n    <tr>\n      <th>78807</th>\n      <td>13536.0</td>\n      <td>13536.0</td>\n      <td>13536.0</td>\n      <td>NaN</td>\n      <td>13536.0</td>\n      <td>13536.0</td>\n    </tr>\n    <tr>\n      <th>78808</th>\n      <td>13536.0</td>\n      <td>13536.0</td>\n      <td>13536.0</td>\n      <td>NaN</td>\n      <td>13536.0</td>\n      <td>13536.0</td>\n    </tr>\n    <tr>\n      <th>78809</th>\n      <td>13536.0</td>\n      <td>13536.0</td>\n      <td>13536.0</td>\n      <td>NaN</td>\n      <td>13536.0</td>\n      <td>13536.0</td>\n    </tr>\n    <tr>\n      <th>78810</th>\n      <td>13536.0</td>\n      <td>13536.0</td>\n      <td>13536.0</td>\n      <td>NaN</td>\n      <td>13536.0</td>\n      <td>13536.0</td>\n    </tr>\n    <tr>\n      <th>78811</th>\n      <td>13536.0</td>\n      <td>13536.0</td>\n      <td>13536.0</td>\n      <td>NaN</td>\n      <td>13536.0</td>\n      <td>13536.0</td>\n    </tr>\n  </tbody>\n</table>\n<p>78783 rows × 6 columns</p>\n</div>"
     },
     "execution_count": 215,
     "metadata": {},
     "output_type": "execute_result"
    }
   ],
   "source": [
    "df_flares_with_null[['Region', 'Region Interpolated', 'Region Interpolated pd', 'Region Interpolated ML1', 'Region Interpolated ML2', 'Region Interpolated ML3']]"
   ],
   "metadata": {
    "collapsed": false,
    "ExecuteTime": {
     "end_time": "2024-08-09T23:02:17.478821Z",
     "start_time": "2024-08-09T23:02:17.393387100Z"
    }
   },
   "id": "47df6a7dec00bbd7"
  },
  {
   "cell_type": "code",
   "execution_count": null,
   "outputs": [],
   "source": [],
   "metadata": {
    "collapsed": false
   },
   "id": "76f7f28d848d3824"
  },
  {
   "cell_type": "code",
   "execution_count": null,
   "outputs": [],
   "source": [],
   "metadata": {
    "collapsed": false
   },
   "id": "9df5a675c5e71ddc"
  },
  {
   "cell_type": "markdown",
   "source": [
    "# Testing"
   ],
   "metadata": {
    "collapsed": false
   },
   "id": "ca2f808799e016b1"
  },
  {
   "cell_type": "code",
   "execution_count": 52,
   "outputs": [],
   "source": [
    "# Initial merge on Date and Region\n",
    "_tmp_merged_df = pd.merge(df_sunspot_processed_grouped, df_flares_processed_grouped, on=['Date', 'Region'], how='left')"
   ],
   "metadata": {
    "collapsed": false,
    "ExecuteTime": {
     "end_time": "2024-08-09T02:04:17.334856300Z",
     "start_time": "2024-08-09T02:04:17.272541800Z"
    }
   },
   "id": "335264ea00e332d7"
  },
  {
   "cell_type": "code",
   "execution_count": 53,
   "outputs": [
    {
     "data": {
      "text/plain": "array([    3,     4,     6, ..., 17921, 17974, 17979])"
     },
     "execution_count": 53,
     "metadata": {},
     "output_type": "execute_result"
    }
   ],
   "source": [
    "merged_df_key_set = set(zip(merged_df['Date'], merged_df['Region']))\n",
    "df_flares_key_set = set(zip(df_flares_processed_grouped['Date'], df_flares_processed_grouped['Region']))\n",
    "\n",
    "# Get the indices where df_flares_processed_grouped is not in merged_df\n",
    "not_in_merged_indices = [i for i, key in enumerate(zip(df_flares_processed_grouped['Date'], df_flares_processed_grouped['Region'])) if key not in merged_df_key_set]\n",
    "\n",
    "np.array(not_in_merged_indices)"
   ],
   "metadata": {
    "collapsed": false,
    "ExecuteTime": {
     "end_time": "2024-08-09T02:04:17.493402300Z",
     "start_time": "2024-08-09T02:04:17.389056300Z"
    }
   },
   "id": "4018be317c3f1d59"
  },
  {
   "cell_type": "code",
   "execution_count": 55,
   "outputs": [
    {
     "data": {
      "text/plain": "array([ 3537,  3522,  3541,  3548,  3566,  3573,  3572,  3576,  3577,\n        3578,  3581,  3574,  3579,  3580,  3583,  3589,  3630,  3654,\n        3695,  3659,  3672,  3675,  3693,  3714,  3715,  3716,  3746,\n        3740,  3739,  3754,  3751,  3785,  3804,  3824,  3810,  3829,\n        3837,  3838,  3839,  3868,  3906,  3926,  3917,  3939,  3961,\n        3967,  3955,  3976,  4006,  3994,  4017,  4033,  4026,  4039,\n        4047,  4051,  4038,  4044,  4061,  4062,  4079,  4081,  4082,\n        2102,  4105,  4098,  4102,  4108,  4103,  4097,  4128,  4131,\n        4141,  4142,  4137,  4138,  4146,  4149,  4148,  4150,  4156,\n        4168,  4171,  4191,  4186,  4200,  4219,  4214,  4222,  4135,\n        4254,  4249,  4251,  4263,  4236,  4296,  4303,  4308,  4319,\n        3215,  4344,  4335,  4343,  4361,  4380,  4377,  4378,  4384,\n        4386,  4400,  4399,  4462,  4461,  4458,  4465,  4460,  4469,\n        4481,  4499,  4504,  4492,  4532,  4533,  4557,  4563,  4565,\n        4582,  4602,  4609,  4611,  4615,  4623,  4636,  4637,  4640,\n        4649,  4665,  4701,  4710,  4715,  4727,  4736,  4747,  4757,\n        4779,  4823,  4825,  4827,     2,  4848,  4851,  4856,  4853,\n        4859,  4886,  4875,  4895,     1,  4930,  4947,  4953,  4954,\n        4995,  4992,  5004,  5005,  5084,  5159,  5200,  5212,  5211,\n        5240,  5241,  5265,  5271,  5275,  5269,  5283,  5295,  5315,\n        5324,  5362,  5394,  5395,  5379,  5409,  5463,  5474,  5497,\n        5530,  5555,  5573,  5601,  5691,  5629,  5647,  5708,  5698,\n        5745,  5747,  5803,  5810,  5837,  5867,  5874,  5897,  5904,\n        5928,  5934,  5695,  5987,  6007,  6044,  6046,  6077,  6109,\n        6117,  6129,  6159,  6172,  6234,  6309,  6318,  6311,  6334,\n        6339,  6255,  6403,  6407,  6408,  6511,  6544,  6582,  6600,\n        6614,  6637,  6652,  6654,  6659,  6666,  6677,  6688,  6678,\n        6692,  6703,  6699,  6729,  6734,  6774,  6785,  6827,  6835,\n        6891,  6898,  6892,  6910,  6908,  6919,  6960,  6991,  6994,\n        6993,  7027,  7083,  7105,  7093,  7157,  7171,  7205,  7219,\n        7230,  7236,  7284,  7321,  7342,  7420,  7448,  7493,  7518,\n        7524,  7531,  7544,  7573,  7581,  7500,  7610,  7612,  7617,\n        7623,  7627,  7664,  7670,     0,  7688,  7696,  7719,  7726,\n        7746,  7775,  7788,  7936,  7937,  7956,  7963,  8005,  8011,\n        8016,  8015,  8018,  8046,  8057,  8072,  8074,  8085,  8092,\n        8106,  8112,  8115,  8162,  8220,  8226,  8224,  8227,  8230,\n        8232,  8259,  8300,  8293,  8307,  8326,  8356,  8371,  8373,\n        8375,  8384,  8392,  8399,  8420,  8453,  8524,  8536,  8547,\n        8545,  8554,  8551,  8552,  8557,  8569,  8583,  8613,  8619,\n        8635,  8645,  8651,  8649,  8699,  8720,  8728,  8731,  8739,\n        8794,  8823,  8855,  8853,  8938,  8939,  8957,  8964,  8977,\n        9042,  9051,  9066,  9111,  9132,  9158,  9169,  9184,  9187,\n        9197,  9203,  9125,  9238,  9247,  9248,  9255,  9276,  9304,\n        9346,  9376,  9477,  9474,  9565,  9562,  9615,  9648,  9658,\n        9680,  9687,  9686,  9752,  9767,  9773,  9794,  9798,  9797,\n        9829,  9871,  9882,  9893,  9904,  9905,  9906,  9924,  9921,\n        9928,  9984, 10000,  9997, 10038, 10040, 10063, 10081, 10114,\n       10112, 10120, 10143, 10150, 10154, 10198, 10244, 10274, 10284,\n       10280, 10276, 10297, 10308, 10321, 10322, 10339, 10338, 10349,\n       10348, 10354, 10363, 10366, 10370, 10375, 10386, 10397, 10421,\n       10409,   422, 10423, 10431, 10444, 10450, 10471, 10486, 10500,\n       10502, 10508, 10525, 10528, 10534, 10537, 10540, 10542, 10553,\n       10556, 10562, 10564, 10570, 10576, 10582, 10586, 10577, 10590,\n       10587, 10589, 10597, 10595, 10603, 10601, 10604, 10607, 10619,\n       10625, 10621, 10635, 10641, 10650, 10652, 10658, 10656, 10662,\n       10667, 10669, 10672, 10678, 10680, 10685, 10687, 10689, 10698,\n       10700, 10702, 10711, 10714, 10717, 10719, 10720, 10724, 10732,\n       10734, 10741, 10742, 10758, 10762, 10761, 10763, 10766, 10773,\n       10779, 10789, 10787, 10783, 10786, 10790, 10792, 10793, 10799,\n       10803, 10822, 10826, 10831, 10832, 10827, 10836, 10838, 10840,\n       10851, 10856, 10859, 10860, 10868, 10871, 10877, 10881, 10875,\n       10882, 10880, 10893, 10892, 10900, 10902, 10903, 10904, 10906,\n       10908, 10923, 10926, 10930, 10933, 10940, 10953, 10959, 10960,\n       10977, 10985, 10989, 11012, 11025, 11029, 11039, 11040, 11041,\n       11042, 11044, 11045, 11046, 11048, 11049, 11051, 11050, 11053,\n       11054, 11057, 11060, 11067, 11069, 11068, 11075, 11077, 11081,\n       11087, 11091, 11089, 11097, 11099, 11100, 11105, 11106, 11107,\n       11108, 11109, 11110, 11113, 11112, 11117, 11121, 11123, 11124,\n       11126, 11135, 11134, 11138, 11140, 11141, 11142, 11145, 11147,\n       11149, 11150, 11153, 11160, 11158, 11163, 11169, 11171, 11172,\n       11185, 11195, 11196, 11201, 11199, 11206, 11208, 11218, 11223,\n       11226, 11216, 11228, 11232, 11235, 11236, 11237, 11234, 11242,\n       11243, 11254, 11249, 11260, 11263, 11272, 11274, 11286, 11302,\n       11315, 11321, 11324, 11338, 11358, 11357, 11375, 11367, 11381,\n       11281, 11403, 11396, 11421, 11428, 11429, 11451, 11461, 11468,\n       11470, 11488, 11509, 11514, 11516, 11526, 11587, 11594, 11632,\n       11655, 11724, 11748, 11747, 11769, 11788, 11816, 11873, 11884,\n       11983, 11947, 11943, 11986, 12028, 12044, 12132, 12148, 12166,\n       12217, 12262, 12283, 12290, 12315, 12338, 12343, 12349, 12387,\n       12409, 12435, 12441, 12464, 12486, 12496, 12515, 12570, 12579,\n       12601, 12652, 12660, 12665, 12655, 12670, 12671, 12674, 12673,\n       12677, 12683, 12685, 12688, 12692, 12696, 12697, 12699, 12700,\n       12703, 12706, 12712, 12710, 12713, 12720, 12724, 12729, 12735,\n       12738, 12740, 12759, 12762, 12764, 12769, 12770, 12773, 12776,\n       12774, 12778, 12781, 12782, 12786, 12790, 12788, 12791, 12792,\n       12793, 12795, 12798, 12800, 12803, 12805, 12806, 12811, 12810,\n       12016, 12814, 12816, 12282, 12826, 12828, 12831, 12833, 12838,\n       12836, 12835, 12837, 12840, 12843, 12849, 12850, 12851, 12853,\n       12859, 12680, 12860, 12869, 12871, 12873, 12885, 12887, 12891,\n       12894, 12984, 12895, 12897, 12898, 12902, 12807, 11916, 12907,\n       12909, 12908, 12917, 12915, 12918, 12923, 12932, 12929, 12934,\n       12930, 12939, 12940, 12944, 12948, 12960, 12961, 12962, 12695,\n       12970, 12971, 12968, 12979, 12987, 12993, 12994, 12992, 12991,\n       12996, 13011, 13023, 13016, 13019, 13015, 13021, 13028, 13030,\n       13031, 13048, 13050, 13047, 13057, 13058, 13060, 13067, 13066,\n       13072, 13073, 13076, 13078, 13081, 13084, 13094, 13112, 13116,\n       13122, 13125, 13148, 13157, 13163, 13165, 13170, 13182, 13191,\n       13194, 13200, 13204, 13226, 13215, 13229, 13231, 13234, 13252,\n       13240, 13256, 13257, 13263, 13267, 13272, 13288, 13293, 13208,\n       13211, 13312, 13327, 13338, 13334, 13348, 13360, 13354, 13358,\n       13368, 13382, 13880, 13995, 13398, 13394, 13410, 13413, 13430,\n       13436, 13452, 13445, 13467, 13463, 13469, 13472, 13473, 13497,\n       13502, 13499, 13504, 13493, 13492, 13494, 13511, 13528, 10353])"
     },
     "execution_count": 55,
     "metadata": {},
     "output_type": "execute_result"
    }
   ],
   "source": [
    "unmatched_flares = df_flares_processed_grouped.loc[not_in_merged_indices]\n",
    "unmatched_flares['Region'].unique()"
   ],
   "metadata": {
    "collapsed": false,
    "ExecuteTime": {
     "end_time": "2024-08-09T02:05:02.996488700Z",
     "start_time": "2024-08-09T02:05:02.977702300Z"
    }
   },
   "id": "6b09b07751f82fe3"
  },
  {
   "cell_type": "code",
   "execution_count": 59,
   "outputs": [
    {
     "data": {
      "text/plain": "            Date  Region\n0     1982-01-01    3520\n1     1982-01-01    3521\n3     1982-01-01    3528\n4     1982-01-01    3530\n6     1982-01-01    3532\n...          ...     ...\n73049 2023-12-30   13529\n73051 2023-12-30   13531\n73052 2023-12-30   13533\n73055 2023-12-31   13533\n73056 2023-12-31   13534\n\n[56258 rows x 2 columns]",
      "text/html": "<div>\n<style scoped>\n    .dataframe tbody tr th:only-of-type {\n        vertical-align: middle;\n    }\n\n    .dataframe tbody tr th {\n        vertical-align: top;\n    }\n\n    .dataframe thead th {\n        text-align: right;\n    }\n</style>\n<table border=\"1\" class=\"dataframe\">\n  <thead>\n    <tr style=\"text-align: right;\">\n      <th></th>\n      <th>Date</th>\n      <th>Region</th>\n    </tr>\n  </thead>\n  <tbody>\n    <tr>\n      <th>0</th>\n      <td>1982-01-01</td>\n      <td>3520</td>\n    </tr>\n    <tr>\n      <th>1</th>\n      <td>1982-01-01</td>\n      <td>3521</td>\n    </tr>\n    <tr>\n      <th>3</th>\n      <td>1982-01-01</td>\n      <td>3528</td>\n    </tr>\n    <tr>\n      <th>4</th>\n      <td>1982-01-01</td>\n      <td>3530</td>\n    </tr>\n    <tr>\n      <th>6</th>\n      <td>1982-01-01</td>\n      <td>3532</td>\n    </tr>\n    <tr>\n      <th>...</th>\n      <td>...</td>\n      <td>...</td>\n    </tr>\n    <tr>\n      <th>73049</th>\n      <td>2023-12-30</td>\n      <td>13529</td>\n    </tr>\n    <tr>\n      <th>73051</th>\n      <td>2023-12-30</td>\n      <td>13531</td>\n    </tr>\n    <tr>\n      <th>73052</th>\n      <td>2023-12-30</td>\n      <td>13533</td>\n    </tr>\n    <tr>\n      <th>73055</th>\n      <td>2023-12-31</td>\n      <td>13533</td>\n    </tr>\n    <tr>\n      <th>73056</th>\n      <td>2023-12-31</td>\n      <td>13534</td>\n    </tr>\n  </tbody>\n</table>\n<p>56258 rows × 2 columns</p>\n</div>"
     },
     "execution_count": 59,
     "metadata": {},
     "output_type": "execute_result"
    }
   ],
   "source": [
    "_tmp_merged_df[_tmp_merged_df['Flares Count'].isna()][['Date', 'Region']]"
   ],
   "metadata": {
    "collapsed": false,
    "ExecuteTime": {
     "end_time": "2024-08-09T02:31:36.769022500Z",
     "start_time": "2024-08-09T02:31:36.724933400Z"
    }
   },
   "id": "bb1ba58aea5e295f"
  },
  {
   "cell_type": "code",
   "execution_count": 57,
   "outputs": [
    {
     "data": {
      "text/plain": "            Date  Region\n3     1982-01-01    3537\n4     1982-01-02    3522\n6     1982-01-03    3522\n10    1982-01-05    3541\n20    1982-01-11    3537\n...          ...     ...\n17892 2023-12-03   13494\n17898 2023-12-05   13494\n17921 2023-12-13   13511\n17974 2023-12-29   13528\n17979 2023-12-31   10353\n\n[1182 rows x 2 columns]",
      "text/html": "<div>\n<style scoped>\n    .dataframe tbody tr th:only-of-type {\n        vertical-align: middle;\n    }\n\n    .dataframe tbody tr th {\n        vertical-align: top;\n    }\n\n    .dataframe thead th {\n        text-align: right;\n    }\n</style>\n<table border=\"1\" class=\"dataframe\">\n  <thead>\n    <tr style=\"text-align: right;\">\n      <th></th>\n      <th>Date</th>\n      <th>Region</th>\n    </tr>\n  </thead>\n  <tbody>\n    <tr>\n      <th>3</th>\n      <td>1982-01-01</td>\n      <td>3537</td>\n    </tr>\n    <tr>\n      <th>4</th>\n      <td>1982-01-02</td>\n      <td>3522</td>\n    </tr>\n    <tr>\n      <th>6</th>\n      <td>1982-01-03</td>\n      <td>3522</td>\n    </tr>\n    <tr>\n      <th>10</th>\n      <td>1982-01-05</td>\n      <td>3541</td>\n    </tr>\n    <tr>\n      <th>20</th>\n      <td>1982-01-11</td>\n      <td>3537</td>\n    </tr>\n    <tr>\n      <th>...</th>\n      <td>...</td>\n      <td>...</td>\n    </tr>\n    <tr>\n      <th>17892</th>\n      <td>2023-12-03</td>\n      <td>13494</td>\n    </tr>\n    <tr>\n      <th>17898</th>\n      <td>2023-12-05</td>\n      <td>13494</td>\n    </tr>\n    <tr>\n      <th>17921</th>\n      <td>2023-12-13</td>\n      <td>13511</td>\n    </tr>\n    <tr>\n      <th>17974</th>\n      <td>2023-12-29</td>\n      <td>13528</td>\n    </tr>\n    <tr>\n      <th>17979</th>\n      <td>2023-12-31</td>\n      <td>10353</td>\n    </tr>\n  </tbody>\n</table>\n<p>1182 rows × 2 columns</p>\n</div>"
     },
     "execution_count": 57,
     "metadata": {},
     "output_type": "execute_result"
    }
   ],
   "source": [
    "unmatched_flares[['Date', 'Region']]"
   ],
   "metadata": {
    "collapsed": false,
    "ExecuteTime": {
     "end_time": "2024-08-09T02:30:57.236120100Z",
     "start_time": "2024-08-09T02:30:57.177732900Z"
    }
   },
   "id": "286a35ec6d97337c"
  },
  {
   "cell_type": "code",
   "execution_count": 154,
   "outputs": [
    {
     "data": {
      "text/plain": "            Date  Region  Total Sunspot  Max Size  Zurich Class  \\\n0     1982-01-01    3520           18.0     430.0           4.0   \n1     1982-01-01    3521            2.0     280.0           7.0   \n2     1982-01-01    3522           11.0     240.0           4.0   \n3     1982-01-01    3528           18.0      30.0           3.0   \n4     1982-01-01    3530           41.0     310.0           4.0   \n...          ...     ...            ...       ...           ...   \n85495 2023-12-28   13530            4.0      10.0           2.0   \n85496 2023-12-28   13533            7.0      30.0           4.0   \n85497 2023-12-29   13530            6.0      70.0           4.0   \n85498 2023-12-29   13534            9.0      90.0           4.0   \n85499 2023-12-30   13531            1.0     200.0           7.0   \n\n       Penumbra Class  Compactness Class   NS Lat   EW Lan  Flares Count  \\\n0                 6.0                2.0 -1.0  25 -1.0  75           0.0   \n1                 3.0                1.0 -1.0  21 -1.0  84           0.0   \n2                 4.0                2.0  1.0  20 -1.0  73           2.0   \n3                 2.0                2.0 -1.0  10 -1.0  12           0.0   \n4                 4.0                2.0  1.0  18 -1.0  18           0.0   \n...               ...                ...  ...  ..  ...  ..           ...   \n85495             1.0                2.0  1.0  08 -1.0  59           NaN   \n85496             4.0                2.0  1.0  15 -1.0  36           NaN   \n85497             4.0                2.0  1.0  06 -1.0  77           NaN   \n85498             4.0                2.0 -1.0  12  1.0  30           NaN   \n85499             3.0                1.0 -1.0  21 -1.0  67           NaN   \n\n       Avg Max Time  Max log10 X-ray Intensity  Max Duration  Avg Duration  \n0               0.0                   0.000000           0.0           0.0  \n1               0.0                   0.000000           0.0           0.0  \n2       378733020.0                  -4.508638        3360.0        2340.0  \n3               0.0                   0.000000           0.0           0.0  \n4               0.0                   0.000000           0.0           0.0  \n...             ...                        ...           ...           ...  \n85495           NaN                        NaN           NaN           NaN  \n85496           NaN                        NaN           NaN           NaN  \n85497           NaN                        NaN           NaN           NaN  \n85498           NaN                        NaN           NaN           NaN  \n85499           NaN                        NaN           NaN           NaN  \n\n[85500 rows x 16 columns]",
      "text/html": "<div>\n<style scoped>\n    .dataframe tbody tr th:only-of-type {\n        vertical-align: middle;\n    }\n\n    .dataframe tbody tr th {\n        vertical-align: top;\n    }\n\n    .dataframe thead th {\n        text-align: right;\n    }\n</style>\n<table border=\"1\" class=\"dataframe\">\n  <thead>\n    <tr style=\"text-align: right;\">\n      <th></th>\n      <th>Date</th>\n      <th>Region</th>\n      <th>Total Sunspot</th>\n      <th>Max Size</th>\n      <th>Zurich Class</th>\n      <th>Penumbra Class</th>\n      <th>Compactness Class</th>\n      <th>NS</th>\n      <th>Lat</th>\n      <th>EW</th>\n      <th>Lan</th>\n      <th>Flares Count</th>\n      <th>Avg Max Time</th>\n      <th>Max log10 X-ray Intensity</th>\n      <th>Max Duration</th>\n      <th>Avg Duration</th>\n    </tr>\n  </thead>\n  <tbody>\n    <tr>\n      <th>0</th>\n      <td>1982-01-01</td>\n      <td>3520</td>\n      <td>18.0</td>\n      <td>430.0</td>\n      <td>4.0</td>\n      <td>6.0</td>\n      <td>2.0</td>\n      <td>-1.0</td>\n      <td>25</td>\n      <td>-1.0</td>\n      <td>75</td>\n      <td>0.0</td>\n      <td>0.0</td>\n      <td>0.000000</td>\n      <td>0.0</td>\n      <td>0.0</td>\n    </tr>\n    <tr>\n      <th>1</th>\n      <td>1982-01-01</td>\n      <td>3521</td>\n      <td>2.0</td>\n      <td>280.0</td>\n      <td>7.0</td>\n      <td>3.0</td>\n      <td>1.0</td>\n      <td>-1.0</td>\n      <td>21</td>\n      <td>-1.0</td>\n      <td>84</td>\n      <td>0.0</td>\n      <td>0.0</td>\n      <td>0.000000</td>\n      <td>0.0</td>\n      <td>0.0</td>\n    </tr>\n    <tr>\n      <th>2</th>\n      <td>1982-01-01</td>\n      <td>3522</td>\n      <td>11.0</td>\n      <td>240.0</td>\n      <td>4.0</td>\n      <td>4.0</td>\n      <td>2.0</td>\n      <td>1.0</td>\n      <td>20</td>\n      <td>-1.0</td>\n      <td>73</td>\n      <td>2.0</td>\n      <td>378733020.0</td>\n      <td>-4.508638</td>\n      <td>3360.0</td>\n      <td>2340.0</td>\n    </tr>\n    <tr>\n      <th>3</th>\n      <td>1982-01-01</td>\n      <td>3528</td>\n      <td>18.0</td>\n      <td>30.0</td>\n      <td>3.0</td>\n      <td>2.0</td>\n      <td>2.0</td>\n      <td>-1.0</td>\n      <td>10</td>\n      <td>-1.0</td>\n      <td>12</td>\n      <td>0.0</td>\n      <td>0.0</td>\n      <td>0.000000</td>\n      <td>0.0</td>\n      <td>0.0</td>\n    </tr>\n    <tr>\n      <th>4</th>\n      <td>1982-01-01</td>\n      <td>3530</td>\n      <td>41.0</td>\n      <td>310.0</td>\n      <td>4.0</td>\n      <td>4.0</td>\n      <td>2.0</td>\n      <td>1.0</td>\n      <td>18</td>\n      <td>-1.0</td>\n      <td>18</td>\n      <td>0.0</td>\n      <td>0.0</td>\n      <td>0.000000</td>\n      <td>0.0</td>\n      <td>0.0</td>\n    </tr>\n    <tr>\n      <th>...</th>\n      <td>...</td>\n      <td>...</td>\n      <td>...</td>\n      <td>...</td>\n      <td>...</td>\n      <td>...</td>\n      <td>...</td>\n      <td>...</td>\n      <td>...</td>\n      <td>...</td>\n      <td>...</td>\n      <td>...</td>\n      <td>...</td>\n      <td>...</td>\n      <td>...</td>\n      <td>...</td>\n    </tr>\n    <tr>\n      <th>85495</th>\n      <td>2023-12-28</td>\n      <td>13530</td>\n      <td>4.0</td>\n      <td>10.0</td>\n      <td>2.0</td>\n      <td>1.0</td>\n      <td>2.0</td>\n      <td>1.0</td>\n      <td>08</td>\n      <td>-1.0</td>\n      <td>59</td>\n      <td>NaN</td>\n      <td>NaN</td>\n      <td>NaN</td>\n      <td>NaN</td>\n      <td>NaN</td>\n    </tr>\n    <tr>\n      <th>85496</th>\n      <td>2023-12-28</td>\n      <td>13533</td>\n      <td>7.0</td>\n      <td>30.0</td>\n      <td>4.0</td>\n      <td>4.0</td>\n      <td>2.0</td>\n      <td>1.0</td>\n      <td>15</td>\n      <td>-1.0</td>\n      <td>36</td>\n      <td>NaN</td>\n      <td>NaN</td>\n      <td>NaN</td>\n      <td>NaN</td>\n      <td>NaN</td>\n    </tr>\n    <tr>\n      <th>85497</th>\n      <td>2023-12-29</td>\n      <td>13530</td>\n      <td>6.0</td>\n      <td>70.0</td>\n      <td>4.0</td>\n      <td>4.0</td>\n      <td>2.0</td>\n      <td>1.0</td>\n      <td>06</td>\n      <td>-1.0</td>\n      <td>77</td>\n      <td>NaN</td>\n      <td>NaN</td>\n      <td>NaN</td>\n      <td>NaN</td>\n      <td>NaN</td>\n    </tr>\n    <tr>\n      <th>85498</th>\n      <td>2023-12-29</td>\n      <td>13534</td>\n      <td>9.0</td>\n      <td>90.0</td>\n      <td>4.0</td>\n      <td>4.0</td>\n      <td>2.0</td>\n      <td>-1.0</td>\n      <td>12</td>\n      <td>1.0</td>\n      <td>30</td>\n      <td>NaN</td>\n      <td>NaN</td>\n      <td>NaN</td>\n      <td>NaN</td>\n      <td>NaN</td>\n    </tr>\n    <tr>\n      <th>85499</th>\n      <td>2023-12-30</td>\n      <td>13531</td>\n      <td>1.0</td>\n      <td>200.0</td>\n      <td>7.0</td>\n      <td>3.0</td>\n      <td>1.0</td>\n      <td>-1.0</td>\n      <td>21</td>\n      <td>-1.0</td>\n      <td>67</td>\n      <td>NaN</td>\n      <td>NaN</td>\n      <td>NaN</td>\n      <td>NaN</td>\n      <td>NaN</td>\n    </tr>\n  </tbody>\n</table>\n<p>85500 rows × 16 columns</p>\n</div>"
     },
     "execution_count": 154,
     "metadata": {},
     "output_type": "execute_result"
    }
   ],
   "source": [
    "_tmp = merged_df.copy()\n",
    "\n",
    "previous_day_matched_indices = []\n",
    "\n",
    "# Attempt to merge the unmatched flares with the previous date in df_flares_processed_grouped\n",
    "for i, row in unmatched_flares.iterrows():\n",
    "  previous_date = (pd.to_datetime(row['Date']) - pd.Timedelta(days=1)).strftime('%Y-%m-%d')\n",
    "  \n",
    "  # Find a matching row in the sunspot data with the previous date and same region\n",
    "  match = df_sunspot_processed_grouped[(df_sunspot_processed_grouped['Date'] == previous_date) &\n",
    "                                       (df_sunspot_processed_grouped['Region'] == row['Region'])]\n",
    "  \n",
    "  if not match.empty:\n",
    "    # Merge the row into the merged dataframe\n",
    "    _tmp = pd.concat([_tmp, match], ignore_index=True)\n",
    "    \n",
    "    previous_day_matched_indices.append(i)\n",
    "_tmp"
   ],
   "metadata": {
    "collapsed": false,
    "ExecuteTime": {
     "end_time": "2024-08-09T01:41:48.160076800Z",
     "start_time": "2024-08-09T01:41:02.565779Z"
    }
   },
   "id": "d3f1b6882a55a52d"
  },
  {
   "cell_type": "code",
   "execution_count": 119,
   "outputs": [
    {
     "data": {
      "text/plain": "            Date  Region  Flares Count  Avg Max Time  \\\n4     1982-01-02    3522             1  3.788004e+08   \n7     1982-01-04    3531             1  3.789556e+08   \n8     1982-01-04    3537             6  3.789949e+08   \n9     1982-01-05    3531             1  3.790862e+08   \n11    1982-01-06    3537             5  3.791624e+08   \n...          ...     ...           ...           ...   \n17975 2023-12-29   13530             3  1.703861e+09   \n17976 2023-12-29   13533             5  1.703827e+09   \n17977 2023-12-30   13530             6  1.703943e+09   \n17978 2023-12-30   13534             1  1.703920e+09   \n17980 2023-12-31   13531             1  1.703991e+09   \n\n       Max log10 X-ray Intensity  Max Duration  Avg Duration  \n4                      -4.091515          1680        1680.0  \n7                      -5.958607          1140        1140.0  \n8                      -5.244125          2940        1570.0  \n9                      -5.823909          1020        1020.0  \n11                     -5.494850          3240        1584.0  \n...                          ...           ...           ...  \n17975                  -5.187087          3120        1840.0  \n17976                  -5.013228          1800        1188.0  \n17977                  -5.214670          1680         880.0  \n17978                  -5.721246          1800        1800.0  \n17980                  -5.920819          1560        1560.0  \n\n[12442 rows x 7 columns]",
      "text/html": "<div>\n<style scoped>\n    .dataframe tbody tr th:only-of-type {\n        vertical-align: middle;\n    }\n\n    .dataframe tbody tr th {\n        vertical-align: top;\n    }\n\n    .dataframe thead th {\n        text-align: right;\n    }\n</style>\n<table border=\"1\" class=\"dataframe\">\n  <thead>\n    <tr style=\"text-align: right;\">\n      <th></th>\n      <th>Date</th>\n      <th>Region</th>\n      <th>Flares Count</th>\n      <th>Avg Max Time</th>\n      <th>Max log10 X-ray Intensity</th>\n      <th>Max Duration</th>\n      <th>Avg Duration</th>\n    </tr>\n  </thead>\n  <tbody>\n    <tr>\n      <th>4</th>\n      <td>1982-01-02</td>\n      <td>3522</td>\n      <td>1</td>\n      <td>3.788004e+08</td>\n      <td>-4.091515</td>\n      <td>1680</td>\n      <td>1680.0</td>\n    </tr>\n    <tr>\n      <th>7</th>\n      <td>1982-01-04</td>\n      <td>3531</td>\n      <td>1</td>\n      <td>3.789556e+08</td>\n      <td>-5.958607</td>\n      <td>1140</td>\n      <td>1140.0</td>\n    </tr>\n    <tr>\n      <th>8</th>\n      <td>1982-01-04</td>\n      <td>3537</td>\n      <td>6</td>\n      <td>3.789949e+08</td>\n      <td>-5.244125</td>\n      <td>2940</td>\n      <td>1570.0</td>\n    </tr>\n    <tr>\n      <th>9</th>\n      <td>1982-01-05</td>\n      <td>3531</td>\n      <td>1</td>\n      <td>3.790862e+08</td>\n      <td>-5.823909</td>\n      <td>1020</td>\n      <td>1020.0</td>\n    </tr>\n    <tr>\n      <th>11</th>\n      <td>1982-01-06</td>\n      <td>3537</td>\n      <td>5</td>\n      <td>3.791624e+08</td>\n      <td>-5.494850</td>\n      <td>3240</td>\n      <td>1584.0</td>\n    </tr>\n    <tr>\n      <th>...</th>\n      <td>...</td>\n      <td>...</td>\n      <td>...</td>\n      <td>...</td>\n      <td>...</td>\n      <td>...</td>\n      <td>...</td>\n    </tr>\n    <tr>\n      <th>17975</th>\n      <td>2023-12-29</td>\n      <td>13530</td>\n      <td>3</td>\n      <td>1.703861e+09</td>\n      <td>-5.187087</td>\n      <td>3120</td>\n      <td>1840.0</td>\n    </tr>\n    <tr>\n      <th>17976</th>\n      <td>2023-12-29</td>\n      <td>13533</td>\n      <td>5</td>\n      <td>1.703827e+09</td>\n      <td>-5.013228</td>\n      <td>1800</td>\n      <td>1188.0</td>\n    </tr>\n    <tr>\n      <th>17977</th>\n      <td>2023-12-30</td>\n      <td>13530</td>\n      <td>6</td>\n      <td>1.703943e+09</td>\n      <td>-5.214670</td>\n      <td>1680</td>\n      <td>880.0</td>\n    </tr>\n    <tr>\n      <th>17978</th>\n      <td>2023-12-30</td>\n      <td>13534</td>\n      <td>1</td>\n      <td>1.703920e+09</td>\n      <td>-5.721246</td>\n      <td>1800</td>\n      <td>1800.0</td>\n    </tr>\n    <tr>\n      <th>17980</th>\n      <td>2023-12-31</td>\n      <td>13531</td>\n      <td>1</td>\n      <td>1.703991e+09</td>\n      <td>-5.920819</td>\n      <td>1560</td>\n      <td>1560.0</td>\n    </tr>\n  </tbody>\n</table>\n<p>12442 rows × 7 columns</p>\n</div>"
     },
     "execution_count": 119,
     "metadata": {},
     "output_type": "execute_result"
    }
   ],
   "source": [
    "# np.array(previous_day_matched_indices)\n",
    "unmatched_flares.loc[previous_day_matched_indices]"
   ],
   "metadata": {
    "collapsed": false,
    "ExecuteTime": {
     "end_time": "2024-08-09T00:42:57.483724400Z",
     "start_time": "2024-08-09T00:42:57.437025500Z"
    }
   },
   "id": "e51ab2b3fa61a9a4"
  },
  {
   "cell_type": "code",
   "execution_count": 125,
   "outputs": [
    {
     "data": {
      "text/plain": "        Date  Region  Flares Count  Avg Max Time  Max log10 X-ray Intensity  \\\n0 1982-01-01    3522             2   378733020.0                  -4.508638   \n4 1982-01-02    3522             1   378800400.0                  -4.091515   \n6 1982-01-03    3522             2   378876900.0                  -4.721246   \n\n   Max Duration  Avg Duration  \n0          3360        2340.0  \n4          1680        1680.0  \n6          1500        1320.0  ",
      "text/html": "<div>\n<style scoped>\n    .dataframe tbody tr th:only-of-type {\n        vertical-align: middle;\n    }\n\n    .dataframe tbody tr th {\n        vertical-align: top;\n    }\n\n    .dataframe thead th {\n        text-align: right;\n    }\n</style>\n<table border=\"1\" class=\"dataframe\">\n  <thead>\n    <tr style=\"text-align: right;\">\n      <th></th>\n      <th>Date</th>\n      <th>Region</th>\n      <th>Flares Count</th>\n      <th>Avg Max Time</th>\n      <th>Max log10 X-ray Intensity</th>\n      <th>Max Duration</th>\n      <th>Avg Duration</th>\n    </tr>\n  </thead>\n  <tbody>\n    <tr>\n      <th>0</th>\n      <td>1982-01-01</td>\n      <td>3522</td>\n      <td>2</td>\n      <td>378733020.0</td>\n      <td>-4.508638</td>\n      <td>3360</td>\n      <td>2340.0</td>\n    </tr>\n    <tr>\n      <th>4</th>\n      <td>1982-01-02</td>\n      <td>3522</td>\n      <td>1</td>\n      <td>378800400.0</td>\n      <td>-4.091515</td>\n      <td>1680</td>\n      <td>1680.0</td>\n    </tr>\n    <tr>\n      <th>6</th>\n      <td>1982-01-03</td>\n      <td>3522</td>\n      <td>2</td>\n      <td>378876900.0</td>\n      <td>-4.721246</td>\n      <td>1500</td>\n      <td>1320.0</td>\n    </tr>\n  </tbody>\n</table>\n</div>"
     },
     "execution_count": 125,
     "metadata": {},
     "output_type": "execute_result"
    }
   ],
   "source": [
    "df_flares_processed_grouped[df_flares_processed_grouped['Region'] == 3522]"
   ],
   "metadata": {
    "collapsed": false,
    "ExecuteTime": {
     "end_time": "2024-08-09T00:46:32.811031600Z",
     "start_time": "2024-08-09T00:46:32.780943800Z"
    }
   },
   "id": "94fe05423fa9773c"
  },
  {
   "cell_type": "code",
   "execution_count": 126,
   "outputs": [
    {
     "data": {
      "text/plain": "        Date  Region  Total Sunspot  Max Size  Zurich Class  Penumbra Class  \\\n2 1982-01-01    3522           11.0     240.0           4.0             4.0   \n\n   Compactness Class   NS Lat   EW Lan  \n2                2.0  1.0  20 -1.0  73  ",
      "text/html": "<div>\n<style scoped>\n    .dataframe tbody tr th:only-of-type {\n        vertical-align: middle;\n    }\n\n    .dataframe tbody tr th {\n        vertical-align: top;\n    }\n\n    .dataframe thead th {\n        text-align: right;\n    }\n</style>\n<table border=\"1\" class=\"dataframe\">\n  <thead>\n    <tr style=\"text-align: right;\">\n      <th></th>\n      <th>Date</th>\n      <th>Region</th>\n      <th>Total Sunspot</th>\n      <th>Max Size</th>\n      <th>Zurich Class</th>\n      <th>Penumbra Class</th>\n      <th>Compactness Class</th>\n      <th>NS</th>\n      <th>Lat</th>\n      <th>EW</th>\n      <th>Lan</th>\n    </tr>\n  </thead>\n  <tbody>\n    <tr>\n      <th>2</th>\n      <td>1982-01-01</td>\n      <td>3522</td>\n      <td>11.0</td>\n      <td>240.0</td>\n      <td>4.0</td>\n      <td>4.0</td>\n      <td>2.0</td>\n      <td>1.0</td>\n      <td>20</td>\n      <td>-1.0</td>\n      <td>73</td>\n    </tr>\n  </tbody>\n</table>\n</div>"
     },
     "execution_count": 126,
     "metadata": {},
     "output_type": "execute_result"
    }
   ],
   "source": [
    "df_sunspot_processed_grouped[df_sunspot_processed_grouped['Region'] == 3522]"
   ],
   "metadata": {
    "collapsed": false,
    "ExecuteTime": {
     "end_time": "2024-08-09T00:46:32.836157Z",
     "start_time": "2024-08-09T00:46:32.787956Z"
    }
   },
   "id": "7b3ae0c2c12ac6fc"
  },
  {
   "cell_type": "code",
   "execution_count": 139,
   "outputs": [
    {
     "data": {
      "text/plain": "[0,\n 7936,\n 2,\n 9346,\n 4615,\n 3215,\n 10000,\n 6159,\n 4886,\n 11160,\n 4377,\n 4504,\n 3868,\n 6044,\n 3746,\n 11171,\n 11044,\n 4386,\n 422,\n 4006,\n 11048,\n 11049,\n 11050,\n 13995,\n 4141,\n 2102,\n 13880,\n 11075,\n 6339,\n 11077,\n 4557,\n 8016,\n 8018,\n 11091,\n 4953,\n 10586,\n 4061,\n 10590,\n 8162,\n 10851,\n 10724,\n 11107,\n 6117,\n 7524,\n 4200,\n 10985,\n 10859,\n 4715,\n 10607,\n 5745,\n 4343,\n 10363]"
     },
     "execution_count": 139,
     "metadata": {},
     "output_type": "execute_result"
    }
   ],
   "source": [
    "sunspot_unique_set = set(df_sunspot_processed_grouped['Region'].unique())\n",
    "flares_unique_set  = set(df_flares_processed_grouped['Region'].unique())\n",
    "\n",
    "unmatched_sunspot = list(sunspot_unique_set - flares_unique_set)\n",
    "unmatched_flares = list(flares_unique_set - sunspot_unique_set)\n",
    "\n",
    "unmatched_flares"
   ],
   "metadata": {
    "collapsed": false,
    "ExecuteTime": {
     "end_time": "2024-08-09T00:53:53.134166Z",
     "start_time": "2024-08-09T00:53:53.079617400Z"
    }
   },
   "id": "1119da9652ab00ff"
  },
  {
   "cell_type": "code",
   "execution_count": 140,
   "outputs": [
    {
     "data": {
      "text/plain": "            Date  Region  Flares Count  Avg Max Time  \\\n353   1982-05-19    3746             1  3.906230e+08   \n546   1982-08-18    3868             1  3.984906e+08   \n782   1982-11-26    4006             1  4.071914e+08   \n919   1983-01-15    4061             1  4.114399e+08   \n978   1983-03-01    2102             2  4.153927e+08   \n...          ...     ...           ...           ...   \n12847 2011-02-13   11160             2  1.297580e+09   \n12892 2011-03-08   11171             1  1.299557e+09   \n12897 2011-03-09   11171             2  1.299638e+09   \n17564 2023-08-01   13880             2  1.690891e+09   \n17574 2023-08-04   13995             1  1.691154e+09   \n\n       Max log10 X-ray Intensity  Max Duration  Avg Duration  \n353                    -6.000000          1680        1680.0  \n546                    -5.657577           960         960.0  \n782                    -5.096910          2100        2100.0  \n919                    -5.853872          1140        1140.0  \n978                    -5.958607          1860        1620.0  \n...                          ...           ...           ...  \n12847                  -5.853872          2460        1440.0  \n12892                  -4.823909          2580        2580.0  \n12897                  -5.193820           420         390.0  \n17564                  -4.920819          1140         840.0  \n17574                  -5.568636           420         420.0  \n\n[77 rows x 7 columns]",
      "text/html": "<div>\n<style scoped>\n    .dataframe tbody tr th:only-of-type {\n        vertical-align: middle;\n    }\n\n    .dataframe tbody tr th {\n        vertical-align: top;\n    }\n\n    .dataframe thead th {\n        text-align: right;\n    }\n</style>\n<table border=\"1\" class=\"dataframe\">\n  <thead>\n    <tr style=\"text-align: right;\">\n      <th></th>\n      <th>Date</th>\n      <th>Region</th>\n      <th>Flares Count</th>\n      <th>Avg Max Time</th>\n      <th>Max log10 X-ray Intensity</th>\n      <th>Max Duration</th>\n      <th>Avg Duration</th>\n    </tr>\n  </thead>\n  <tbody>\n    <tr>\n      <th>353</th>\n      <td>1982-05-19</td>\n      <td>3746</td>\n      <td>1</td>\n      <td>3.906230e+08</td>\n      <td>-6.000000</td>\n      <td>1680</td>\n      <td>1680.0</td>\n    </tr>\n    <tr>\n      <th>546</th>\n      <td>1982-08-18</td>\n      <td>3868</td>\n      <td>1</td>\n      <td>3.984906e+08</td>\n      <td>-5.657577</td>\n      <td>960</td>\n      <td>960.0</td>\n    </tr>\n    <tr>\n      <th>782</th>\n      <td>1982-11-26</td>\n      <td>4006</td>\n      <td>1</td>\n      <td>4.071914e+08</td>\n      <td>-5.096910</td>\n      <td>2100</td>\n      <td>2100.0</td>\n    </tr>\n    <tr>\n      <th>919</th>\n      <td>1983-01-15</td>\n      <td>4061</td>\n      <td>1</td>\n      <td>4.114399e+08</td>\n      <td>-5.853872</td>\n      <td>1140</td>\n      <td>1140.0</td>\n    </tr>\n    <tr>\n      <th>978</th>\n      <td>1983-03-01</td>\n      <td>2102</td>\n      <td>2</td>\n      <td>4.153927e+08</td>\n      <td>-5.958607</td>\n      <td>1860</td>\n      <td>1620.0</td>\n    </tr>\n    <tr>\n      <th>...</th>\n      <td>...</td>\n      <td>...</td>\n      <td>...</td>\n      <td>...</td>\n      <td>...</td>\n      <td>...</td>\n      <td>...</td>\n    </tr>\n    <tr>\n      <th>12847</th>\n      <td>2011-02-13</td>\n      <td>11160</td>\n      <td>2</td>\n      <td>1.297580e+09</td>\n      <td>-5.853872</td>\n      <td>2460</td>\n      <td>1440.0</td>\n    </tr>\n    <tr>\n      <th>12892</th>\n      <td>2011-03-08</td>\n      <td>11171</td>\n      <td>1</td>\n      <td>1.299557e+09</td>\n      <td>-4.823909</td>\n      <td>2580</td>\n      <td>2580.0</td>\n    </tr>\n    <tr>\n      <th>12897</th>\n      <td>2011-03-09</td>\n      <td>11171</td>\n      <td>2</td>\n      <td>1.299638e+09</td>\n      <td>-5.193820</td>\n      <td>420</td>\n      <td>390.0</td>\n    </tr>\n    <tr>\n      <th>17564</th>\n      <td>2023-08-01</td>\n      <td>13880</td>\n      <td>2</td>\n      <td>1.690891e+09</td>\n      <td>-4.920819</td>\n      <td>1140</td>\n      <td>840.0</td>\n    </tr>\n    <tr>\n      <th>17574</th>\n      <td>2023-08-04</td>\n      <td>13995</td>\n      <td>1</td>\n      <td>1.691154e+09</td>\n      <td>-5.568636</td>\n      <td>420</td>\n      <td>420.0</td>\n    </tr>\n  </tbody>\n</table>\n<p>77 rows × 7 columns</p>\n</div>"
     },
     "execution_count": 140,
     "metadata": {},
     "output_type": "execute_result"
    }
   ],
   "source": [
    "df_flares_processed_grouped[df_flares_processed_grouped['Region'].isin(unmatched_flares)]"
   ],
   "metadata": {
    "collapsed": false,
    "ExecuteTime": {
     "end_time": "2024-08-09T00:53:58.403168300Z",
     "start_time": "2024-08-09T00:53:58.364448Z"
    }
   },
   "id": "1d05d4f64b81c72"
  },
  {
   "cell_type": "code",
   "execution_count": null,
   "outputs": [],
   "source": [],
   "metadata": {
    "collapsed": false
   },
   "id": "46161fa749a0bf58"
  },
  {
   "cell_type": "code",
   "execution_count": null,
   "outputs": [],
   "source": [],
   "metadata": {
    "collapsed": false
   },
   "id": "c77f4db49da4761b"
  },
  {
   "cell_type": "code",
   "execution_count": null,
   "outputs": [],
   "source": [],
   "metadata": {
    "collapsed": false
   },
   "id": "e4cf8b20299ea1fe"
  },
  {
   "cell_type": "code",
   "execution_count": null,
   "outputs": [],
   "source": [
    "# Attempt to merge the unmatched flares with the previous date in df_flares_processed_grouped\n",
    "for i, row in unmatched_flares.iterrows():\n",
    "  previous_date = (pd.to_datetime(row['Date']) - pd.Timedelta(days=1)).strftime('%Y-%m-%d')\n",
    "  \n",
    "  # Find a matching row in the sunspot data with the previous date and same region\n",
    "  match = df_sunspot_processed_grouped[(df_sunspot_processed_grouped['Date'] == previous_date) &\n",
    "                                       (df_sunspot_processed_grouped['Region'] == row['Region'])]\n",
    "  \n",
    "  if not match.empty:\n",
    "    # Merge the row into the merged dataframe\n",
    "    merged_df = pd.concat([merged_df, match], ignore_index=True)\n",
    "\n",
    "# Drop any duplicates that may have been merged\n",
    "merged_df = merged_df.drop_duplicates(subset=['Date', 'Region'], keep='first')\n",
    "\n",
    "# Optionally, you can sort the final dataframe by Date and Region\n",
    "merged_df = merged_df.sort_values(by=['Date', 'Region'])\n",
    "\n",
    "# Save the merged dataframe to a new CSV file\n",
    "merged_df.to_csv(\"merged_sunspot_flares.csv\", index=False)"
   ],
   "metadata": {
    "collapsed": false
   },
   "id": "1768e017e2f3b45a"
  },
  {
   "cell_type": "code",
   "execution_count": null,
   "outputs": [],
   "source": [],
   "metadata": {
    "collapsed": false
   },
   "id": "2ec03abbd0d798ff"
  },
  {
   "cell_type": "code",
   "execution_count": null,
   "outputs": [],
   "source": [],
   "metadata": {
    "collapsed": false
   },
   "id": "7bf6615ebfdbe03a"
  },
  {
   "cell_type": "code",
   "execution_count": null,
   "outputs": [],
   "source": [],
   "metadata": {
    "collapsed": false
   },
   "id": "2126e5afc9d54c51"
  },
  {
   "cell_type": "code",
   "execution_count": null,
   "outputs": [],
   "source": [],
   "metadata": {
    "collapsed": false
   },
   "id": "68c051d8ca6e386b"
  },
  {
   "cell_type": "code",
   "execution_count": 247,
   "outputs": [],
   "source": [
    "df_flares = pd.read_csv(\"../data/flares-processed-2.csv\")"
   ],
   "metadata": {
    "collapsed": false,
    "ExecuteTime": {
     "end_time": "2024-08-08T01:24:05.819419100Z",
     "start_time": "2024-08-08T01:24:05.736442600Z"
    }
   },
   "id": "55a1e731ac629856"
  },
  {
   "cell_type": "code",
   "execution_count": 253,
   "outputs": [
    {
     "data": {
      "text/plain": "    Year  Counts\n0   1982    1674\n1   1983    1213\n2   1984    1126\n3   1985     693\n4   1986     534\n5   1987     769\n6   1988     931\n7   1989     771\n8   1990     835\n9   1991    1115\n10  1992    1273\n11  1993    1362\n12  1994    1101\n13  1995     817\n14  1996     378\n15  1997     806\n16  1998    1429\n17  1999    1262\n18  2000    1148\n19  2001    1244\n20  2002    1260\n21  2003     975\n22  2004     510\n23  2005     568\n24  2006     507\n25  2007     405\n26  2008      58\n27  2009     167\n28  2010     384\n29  2011     431\n30  2012    1240\n31  2013    1242\n32  2014    1086\n33  2015     969\n34  2016     881\n35  2017     554\n36  2018     130\n37  2019      51\n38  2020     157\n39  2021     556\n40  2022     730\n41  2023     459",
      "text/html": "<div>\n<style scoped>\n    .dataframe tbody tr th:only-of-type {\n        vertical-align: middle;\n    }\n\n    .dataframe tbody tr th {\n        vertical-align: top;\n    }\n\n    .dataframe thead th {\n        text-align: right;\n    }\n</style>\n<table border=\"1\" class=\"dataframe\">\n  <thead>\n    <tr style=\"text-align: right;\">\n      <th></th>\n      <th>Year</th>\n      <th>Counts</th>\n    </tr>\n  </thead>\n  <tbody>\n    <tr>\n      <th>0</th>\n      <td>1982</td>\n      <td>1674</td>\n    </tr>\n    <tr>\n      <th>1</th>\n      <td>1983</td>\n      <td>1213</td>\n    </tr>\n    <tr>\n      <th>2</th>\n      <td>1984</td>\n      <td>1126</td>\n    </tr>\n    <tr>\n      <th>3</th>\n      <td>1985</td>\n      <td>693</td>\n    </tr>\n    <tr>\n      <th>4</th>\n      <td>1986</td>\n      <td>534</td>\n    </tr>\n    <tr>\n      <th>5</th>\n      <td>1987</td>\n      <td>769</td>\n    </tr>\n    <tr>\n      <th>6</th>\n      <td>1988</td>\n      <td>931</td>\n    </tr>\n    <tr>\n      <th>7</th>\n      <td>1989</td>\n      <td>771</td>\n    </tr>\n    <tr>\n      <th>8</th>\n      <td>1990</td>\n      <td>835</td>\n    </tr>\n    <tr>\n      <th>9</th>\n      <td>1991</td>\n      <td>1115</td>\n    </tr>\n    <tr>\n      <th>10</th>\n      <td>1992</td>\n      <td>1273</td>\n    </tr>\n    <tr>\n      <th>11</th>\n      <td>1993</td>\n      <td>1362</td>\n    </tr>\n    <tr>\n      <th>12</th>\n      <td>1994</td>\n      <td>1101</td>\n    </tr>\n    <tr>\n      <th>13</th>\n      <td>1995</td>\n      <td>817</td>\n    </tr>\n    <tr>\n      <th>14</th>\n      <td>1996</td>\n      <td>378</td>\n    </tr>\n    <tr>\n      <th>15</th>\n      <td>1997</td>\n      <td>806</td>\n    </tr>\n    <tr>\n      <th>16</th>\n      <td>1998</td>\n      <td>1429</td>\n    </tr>\n    <tr>\n      <th>17</th>\n      <td>1999</td>\n      <td>1262</td>\n    </tr>\n    <tr>\n      <th>18</th>\n      <td>2000</td>\n      <td>1148</td>\n    </tr>\n    <tr>\n      <th>19</th>\n      <td>2001</td>\n      <td>1244</td>\n    </tr>\n    <tr>\n      <th>20</th>\n      <td>2002</td>\n      <td>1260</td>\n    </tr>\n    <tr>\n      <th>21</th>\n      <td>2003</td>\n      <td>975</td>\n    </tr>\n    <tr>\n      <th>22</th>\n      <td>2004</td>\n      <td>510</td>\n    </tr>\n    <tr>\n      <th>23</th>\n      <td>2005</td>\n      <td>568</td>\n    </tr>\n    <tr>\n      <th>24</th>\n      <td>2006</td>\n      <td>507</td>\n    </tr>\n    <tr>\n      <th>25</th>\n      <td>2007</td>\n      <td>405</td>\n    </tr>\n    <tr>\n      <th>26</th>\n      <td>2008</td>\n      <td>58</td>\n    </tr>\n    <tr>\n      <th>27</th>\n      <td>2009</td>\n      <td>167</td>\n    </tr>\n    <tr>\n      <th>28</th>\n      <td>2010</td>\n      <td>384</td>\n    </tr>\n    <tr>\n      <th>29</th>\n      <td>2011</td>\n      <td>431</td>\n    </tr>\n    <tr>\n      <th>30</th>\n      <td>2012</td>\n      <td>1240</td>\n    </tr>\n    <tr>\n      <th>31</th>\n      <td>2013</td>\n      <td>1242</td>\n    </tr>\n    <tr>\n      <th>32</th>\n      <td>2014</td>\n      <td>1086</td>\n    </tr>\n    <tr>\n      <th>33</th>\n      <td>2015</td>\n      <td>969</td>\n    </tr>\n    <tr>\n      <th>34</th>\n      <td>2016</td>\n      <td>881</td>\n    </tr>\n    <tr>\n      <th>35</th>\n      <td>2017</td>\n      <td>554</td>\n    </tr>\n    <tr>\n      <th>36</th>\n      <td>2018</td>\n      <td>130</td>\n    </tr>\n    <tr>\n      <th>37</th>\n      <td>2019</td>\n      <td>51</td>\n    </tr>\n    <tr>\n      <th>38</th>\n      <td>2020</td>\n      <td>157</td>\n    </tr>\n    <tr>\n      <th>39</th>\n      <td>2021</td>\n      <td>556</td>\n    </tr>\n    <tr>\n      <th>40</th>\n      <td>2022</td>\n      <td>730</td>\n    </tr>\n    <tr>\n      <th>41</th>\n      <td>2023</td>\n      <td>459</td>\n    </tr>\n  </tbody>\n</table>\n</div>"
     },
     "execution_count": 253,
     "metadata": {},
     "output_type": "execute_result"
    }
   ],
   "source": [
    "# No region counts\n",
    "df_flares[df_flares['Region'].isna()].groupby('Year').size().reset_index(name='Counts')"
   ],
   "metadata": {
    "collapsed": false,
    "ExecuteTime": {
     "end_time": "2024-08-08T01:28:20.354749300Z",
     "start_time": "2024-08-08T01:28:20.314042500Z"
    }
   },
   "id": "9aea641926bbcd7c"
  },
  {
   "cell_type": "code",
   "execution_count": 255,
   "outputs": [
    {
     "data": {
      "text/plain": "       Year  Month  Day   Region X-ray class  X-ray intensity  \\\n0      1982      1    1   3522.0           M              3.1   \n1      1982      1    1   3531.0           C              1.2   \n2      1982      1    1   3531.0           C              2.1   \n3      1982      1    1   3537.0           C              1.0   \n4      1982      1    1      NaN           C              1.5   \n...     ...    ...  ...      ...         ...              ...   \n78807  2023     12   31  13536.0           C              2.4   \n78808  2023     12   31  13536.0           C              3.8   \n78809  2023     12   31  13536.0           C              4.2   \n78810  2023     12   31  13536.0           M              1.0   \n78811  2023     12   31  13536.0           X              5.0   \n\n                     Start                  End              Maximum  \n0      1982-01-01 00:55:00  1982-01-01 01:51:00  1982-01-01 01:01:00  \n1      1982-01-01 04:35:00  1982-01-01 04:59:00  1982-01-01 04:37:00  \n2      1982-01-01 14:01:00  1982-01-01 14:55:00  1982-01-01 14:21:00  \n3      1982-01-01 16:25:00  1982-01-01 16:33:00  1982-01-01 16:25:00  \n4      1982-01-01 16:41:00  1982-01-01 16:47:00  1982-01-01 16:44:00  \n...                    ...                  ...                  ...  \n78807  2023-12-31 17:38:00  2023-12-31 17:51:00  2023-12-31 17:46:00  \n78808  2023-12-31 18:02:00  2023-12-31 18:28:00  2023-12-31 18:16:00  \n78809  2023-12-31 18:28:00  2023-12-31 18:44:00  2023-12-31 18:39:00  \n78810  2023-12-31 18:44:00  2023-12-31 19:40:00  2023-12-31 19:12:00  \n78811  2023-12-31 21:36:00  2023-12-31 22:08:00  2023-12-31 21:55:00  \n\n[78812 rows x 9 columns]",
      "text/html": "<div>\n<style scoped>\n    .dataframe tbody tr th:only-of-type {\n        vertical-align: middle;\n    }\n\n    .dataframe tbody tr th {\n        vertical-align: top;\n    }\n\n    .dataframe thead th {\n        text-align: right;\n    }\n</style>\n<table border=\"1\" class=\"dataframe\">\n  <thead>\n    <tr style=\"text-align: right;\">\n      <th></th>\n      <th>Year</th>\n      <th>Month</th>\n      <th>Day</th>\n      <th>Region</th>\n      <th>X-ray class</th>\n      <th>X-ray intensity</th>\n      <th>Start</th>\n      <th>End</th>\n      <th>Maximum</th>\n    </tr>\n  </thead>\n  <tbody>\n    <tr>\n      <th>0</th>\n      <td>1982</td>\n      <td>1</td>\n      <td>1</td>\n      <td>3522.0</td>\n      <td>M</td>\n      <td>3.1</td>\n      <td>1982-01-01 00:55:00</td>\n      <td>1982-01-01 01:51:00</td>\n      <td>1982-01-01 01:01:00</td>\n    </tr>\n    <tr>\n      <th>1</th>\n      <td>1982</td>\n      <td>1</td>\n      <td>1</td>\n      <td>3531.0</td>\n      <td>C</td>\n      <td>1.2</td>\n      <td>1982-01-01 04:35:00</td>\n      <td>1982-01-01 04:59:00</td>\n      <td>1982-01-01 04:37:00</td>\n    </tr>\n    <tr>\n      <th>2</th>\n      <td>1982</td>\n      <td>1</td>\n      <td>1</td>\n      <td>3531.0</td>\n      <td>C</td>\n      <td>2.1</td>\n      <td>1982-01-01 14:01:00</td>\n      <td>1982-01-01 14:55:00</td>\n      <td>1982-01-01 14:21:00</td>\n    </tr>\n    <tr>\n      <th>3</th>\n      <td>1982</td>\n      <td>1</td>\n      <td>1</td>\n      <td>3537.0</td>\n      <td>C</td>\n      <td>1.0</td>\n      <td>1982-01-01 16:25:00</td>\n      <td>1982-01-01 16:33:00</td>\n      <td>1982-01-01 16:25:00</td>\n    </tr>\n    <tr>\n      <th>4</th>\n      <td>1982</td>\n      <td>1</td>\n      <td>1</td>\n      <td>NaN</td>\n      <td>C</td>\n      <td>1.5</td>\n      <td>1982-01-01 16:41:00</td>\n      <td>1982-01-01 16:47:00</td>\n      <td>1982-01-01 16:44:00</td>\n    </tr>\n    <tr>\n      <th>...</th>\n      <td>...</td>\n      <td>...</td>\n      <td>...</td>\n      <td>...</td>\n      <td>...</td>\n      <td>...</td>\n      <td>...</td>\n      <td>...</td>\n      <td>...</td>\n    </tr>\n    <tr>\n      <th>78807</th>\n      <td>2023</td>\n      <td>12</td>\n      <td>31</td>\n      <td>13536.0</td>\n      <td>C</td>\n      <td>2.4</td>\n      <td>2023-12-31 17:38:00</td>\n      <td>2023-12-31 17:51:00</td>\n      <td>2023-12-31 17:46:00</td>\n    </tr>\n    <tr>\n      <th>78808</th>\n      <td>2023</td>\n      <td>12</td>\n      <td>31</td>\n      <td>13536.0</td>\n      <td>C</td>\n      <td>3.8</td>\n      <td>2023-12-31 18:02:00</td>\n      <td>2023-12-31 18:28:00</td>\n      <td>2023-12-31 18:16:00</td>\n    </tr>\n    <tr>\n      <th>78809</th>\n      <td>2023</td>\n      <td>12</td>\n      <td>31</td>\n      <td>13536.0</td>\n      <td>C</td>\n      <td>4.2</td>\n      <td>2023-12-31 18:28:00</td>\n      <td>2023-12-31 18:44:00</td>\n      <td>2023-12-31 18:39:00</td>\n    </tr>\n    <tr>\n      <th>78810</th>\n      <td>2023</td>\n      <td>12</td>\n      <td>31</td>\n      <td>13536.0</td>\n      <td>M</td>\n      <td>1.0</td>\n      <td>2023-12-31 18:44:00</td>\n      <td>2023-12-31 19:40:00</td>\n      <td>2023-12-31 19:12:00</td>\n    </tr>\n    <tr>\n      <th>78811</th>\n      <td>2023</td>\n      <td>12</td>\n      <td>31</td>\n      <td>13536.0</td>\n      <td>X</td>\n      <td>5.0</td>\n      <td>2023-12-31 21:36:00</td>\n      <td>2023-12-31 22:08:00</td>\n      <td>2023-12-31 21:55:00</td>\n    </tr>\n  </tbody>\n</table>\n<p>78812 rows × 9 columns</p>\n</div>"
     },
     "execution_count": 255,
     "metadata": {},
     "output_type": "execute_result"
    }
   ],
   "source": [
    "df_flares # 3537,3531"
   ],
   "metadata": {
    "collapsed": false,
    "ExecuteTime": {
     "end_time": "2024-08-08T01:30:03.010463300Z",
     "start_time": "2024-08-08T01:30:02.973157700Z"
    }
   },
   "id": "f56f0d0801f74a77"
  }
 ],
 "metadata": {
  "kernelspec": {
   "display_name": "Python 3",
   "language": "python",
   "name": "python3"
  },
  "language_info": {
   "codemirror_mode": {
    "name": "ipython",
    "version": 2
   },
   "file_extension": ".py",
   "mimetype": "text/x-python",
   "name": "python",
   "nbconvert_exporter": "python",
   "pygments_lexer": "ipython2",
   "version": "2.7.6"
  }
 },
 "nbformat": 4,
 "nbformat_minor": 5
}
