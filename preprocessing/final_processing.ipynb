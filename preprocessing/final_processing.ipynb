{
 "cells": [
  {
   "cell_type": "code",
   "execution_count": 76,
   "id": "initial_id",
   "metadata": {
    "collapsed": true,
    "ExecuteTime": {
     "end_time": "2024-07-31T03:18:07.550589Z",
     "start_time": "2024-07-31T03:18:07.543589400Z"
    }
   },
   "outputs": [],
   "source": [
    "import pandas as pd\n",
    "import numpy as np\n",
    "import matplotlib.pyplot as plt\n",
    "\n",
    "from utils.data import *"
   ]
  },
  {
   "cell_type": "code",
   "execution_count": 77,
   "outputs": [],
   "source": [
    "df_sunspot = pd.read_csv(\"../data/sunspot-processed.csv\")\n",
    "df_flares = pd.read_csv(\"../data/flares-processed.csv\")"
   ],
   "metadata": {
    "collapsed": false,
    "ExecuteTime": {
     "end_time": "2024-07-31T03:18:08.913872500Z",
     "start_time": "2024-07-31T03:18:08.549131800Z"
    }
   },
   "id": "bfe34f7358abea79"
  },
  {
   "cell_type": "code",
   "execution_count": 81,
   "outputs": [
    {
     "data": {
      "text/plain": "{'Date': {str},\n 'Region': {int},\n 'Sunspot Number': {int},\n 'Size': {int},\n 'Magnetic Classification': {float, str},\n 'Location': {str},\n 'Zurich Class': {float, str},\n 'Penumbra Class': {float, str},\n 'Compactness Class': {float, str}}"
     },
     "execution_count": 81,
     "metadata": {},
     "output_type": "execute_result"
    }
   ],
   "source": [
    "get_all_unique_types(df_sunspot)"
   ],
   "metadata": {
    "collapsed": false,
    "ExecuteTime": {
     "end_time": "2024-07-31T03:18:58.246336200Z",
     "start_time": "2024-07-31T03:18:58.199712300Z"
    }
   },
   "id": "4ad4bb2b5dfd6874"
  },
  {
   "cell_type": "code",
   "execution_count": 82,
   "outputs": [
    {
     "data": {
      "text/plain": "{'Date': {str},\n 'Region': {str},\n 'X-ray class': {float, str},\n 'X-ray intensity': {float},\n 'Start': {str},\n 'End': {str},\n 'Maximum': {str}}"
     },
     "execution_count": 82,
     "metadata": {},
     "output_type": "execute_result"
    }
   ],
   "source": [
    "get_all_unique_types(df_flares)"
   ],
   "metadata": {
    "collapsed": false,
    "ExecuteTime": {
     "end_time": "2024-07-31T03:20:54.796387700Z",
     "start_time": "2024-07-31T03:20:54.757248Z"
    }
   },
   "id": "6d19a85ee782acc2"
  },
  {
   "cell_type": "code",
   "execution_count": 97,
   "outputs": [],
   "source": [
    "df_sunspot['Date'] = pd.to_datetime(df_sunspot['Date'])\n",
    "df_flares['Date'] = pd.to_datetime(df_flares['Date'])\n",
    "df_flares['Start'] = pd.to_datetime(df_flares['Start'])\n",
    "df_flares['End'] = pd.to_datetime(df_flares['End'])\n",
    "df_flares['Maximum'] = pd.to_datetime(df_flares['Maximum'])"
   ],
   "metadata": {
    "collapsed": false,
    "ExecuteTime": {
     "end_time": "2024-07-31T15:43:54.568201800Z",
     "start_time": "2024-07-31T15:43:54.426943200Z"
    }
   },
   "id": "e21190d9fc37463d"
  },
  {
   "cell_type": "code",
   "execution_count": 90,
   "outputs": [],
   "source": [
    "df_sunspot['Region'] = df_sunspot['Region'].astype(str)"
   ],
   "metadata": {
    "collapsed": false,
    "ExecuteTime": {
     "end_time": "2024-07-31T03:27:12.582540700Z",
     "start_time": "2024-07-31T03:27:12.560314300Z"
    }
   },
   "id": "3d265f62965f4a"
  },
  {
   "cell_type": "code",
   "execution_count": 63,
   "outputs": [
    {
     "data": {
      "text/plain": "{str}"
     },
     "execution_count": 63,
     "metadata": {},
     "output_type": "execute_result"
    }
   ],
   "source": [
    "get_unique_types_of_col(df_flares['Region'])"
   ],
   "metadata": {
    "collapsed": false,
    "ExecuteTime": {
     "end_time": "2024-07-31T02:13:08.236287100Z",
     "start_time": "2024-07-31T02:13:08.230779200Z"
    }
   },
   "id": "cd76101c7dd48f31"
  },
  {
   "cell_type": "code",
   "execution_count": 94,
   "outputs": [
    {
     "data": {
      "text/plain": "array(['', '2857', '2866', ..., '13730', '13734', '13731'], dtype=object)"
     },
     "execution_count": 94,
     "metadata": {},
     "output_type": "execute_result"
    }
   ],
   "source": [
    "df_flares['Region'] = df_flares['Region'].apply(lambda x: x if x != '-' else '')\n",
    "df_flares['Region'].unique()"
   ],
   "metadata": {
    "collapsed": false,
    "ExecuteTime": {
     "end_time": "2024-07-31T14:51:23.161006700Z",
     "start_time": "2024-07-31T14:51:23.135148100Z"
    }
   },
   "id": "4c82b4e6b5c2218f"
  },
  {
   "cell_type": "code",
   "execution_count": 84,
   "outputs": [
    {
     "data": {
      "text/plain": "             Date Region X-ray class  X-ray intensity                Start  \\\n32659  1994-03-06      0           B             3.90  1994-03-06 06:39:00   \n32660  1994-03-06      0           B             3.60  1994-03-06 06:53:00   \n32661  1994-03-06      0           B             8.30  1994-03-06 08:15:00   \n32664  1994-03-06      0           C             2.30  1994-03-06 12:33:00   \n32667  1994-03-06      0           B             3.20  1994-03-06 16:28:00   \n...           ...    ...         ...              ...                  ...   \n51020  2003-08-27   0000           B             8.50  2003-08-27 14:33:00   \n51350  2003-10-26   0000           C             4.63  2003-10-26 00:45:00   \n51709  2003-12-21   0000           C             2.88  2003-12-21 04:10:00   \n58816  2010-05-03   0000           B             2.01  2010-05-03 13:38:00   \n58817  2010-05-03   0000           B             2.01  2010-05-03 13:38:00   \n\n                       End              Maximum  \n32659  1994-03-06 06:50:00  1994-03-06 06:40:00  \n32660  1994-03-06 07:05:00  1994-03-06 06:56:00  \n32661  1994-03-06 08:23:00  1994-03-06 08:17:00  \n32664  1994-03-06 12:46:00  1994-03-06 12:33:00  \n32667  1994-03-06 16:38:00  1994-03-06 16:29:00  \n...                    ...                  ...  \n51020  2003-08-27 14:49:00  2003-08-27 14:36:00  \n51350  2003-10-26 00:57:00  2003-10-26 00:50:00  \n51709  2003-12-21 04:21:00  2003-12-21 04:16:00  \n58816  2010-05-03 13:43:00  2010-05-03 13:41:00  \n58817  2010-05-03 13:43:00  2010-05-03 13:41:00  \n\n[139 rows x 7 columns]",
      "text/html": "<div>\n<style scoped>\n    .dataframe tbody tr th:only-of-type {\n        vertical-align: middle;\n    }\n\n    .dataframe tbody tr th {\n        vertical-align: top;\n    }\n\n    .dataframe thead th {\n        text-align: right;\n    }\n</style>\n<table border=\"1\" class=\"dataframe\">\n  <thead>\n    <tr style=\"text-align: right;\">\n      <th></th>\n      <th>Date</th>\n      <th>Region</th>\n      <th>X-ray class</th>\n      <th>X-ray intensity</th>\n      <th>Start</th>\n      <th>End</th>\n      <th>Maximum</th>\n    </tr>\n  </thead>\n  <tbody>\n    <tr>\n      <th>32659</th>\n      <td>1994-03-06</td>\n      <td>0</td>\n      <td>B</td>\n      <td>3.90</td>\n      <td>1994-03-06 06:39:00</td>\n      <td>1994-03-06 06:50:00</td>\n      <td>1994-03-06 06:40:00</td>\n    </tr>\n    <tr>\n      <th>32660</th>\n      <td>1994-03-06</td>\n      <td>0</td>\n      <td>B</td>\n      <td>3.60</td>\n      <td>1994-03-06 06:53:00</td>\n      <td>1994-03-06 07:05:00</td>\n      <td>1994-03-06 06:56:00</td>\n    </tr>\n    <tr>\n      <th>32661</th>\n      <td>1994-03-06</td>\n      <td>0</td>\n      <td>B</td>\n      <td>8.30</td>\n      <td>1994-03-06 08:15:00</td>\n      <td>1994-03-06 08:23:00</td>\n      <td>1994-03-06 08:17:00</td>\n    </tr>\n    <tr>\n      <th>32664</th>\n      <td>1994-03-06</td>\n      <td>0</td>\n      <td>C</td>\n      <td>2.30</td>\n      <td>1994-03-06 12:33:00</td>\n      <td>1994-03-06 12:46:00</td>\n      <td>1994-03-06 12:33:00</td>\n    </tr>\n    <tr>\n      <th>32667</th>\n      <td>1994-03-06</td>\n      <td>0</td>\n      <td>B</td>\n      <td>3.20</td>\n      <td>1994-03-06 16:28:00</td>\n      <td>1994-03-06 16:38:00</td>\n      <td>1994-03-06 16:29:00</td>\n    </tr>\n    <tr>\n      <th>...</th>\n      <td>...</td>\n      <td>...</td>\n      <td>...</td>\n      <td>...</td>\n      <td>...</td>\n      <td>...</td>\n      <td>...</td>\n    </tr>\n    <tr>\n      <th>51020</th>\n      <td>2003-08-27</td>\n      <td>0000</td>\n      <td>B</td>\n      <td>8.50</td>\n      <td>2003-08-27 14:33:00</td>\n      <td>2003-08-27 14:49:00</td>\n      <td>2003-08-27 14:36:00</td>\n    </tr>\n    <tr>\n      <th>51350</th>\n      <td>2003-10-26</td>\n      <td>0000</td>\n      <td>C</td>\n      <td>4.63</td>\n      <td>2003-10-26 00:45:00</td>\n      <td>2003-10-26 00:57:00</td>\n      <td>2003-10-26 00:50:00</td>\n    </tr>\n    <tr>\n      <th>51709</th>\n      <td>2003-12-21</td>\n      <td>0000</td>\n      <td>C</td>\n      <td>2.88</td>\n      <td>2003-12-21 04:10:00</td>\n      <td>2003-12-21 04:21:00</td>\n      <td>2003-12-21 04:16:00</td>\n    </tr>\n    <tr>\n      <th>58816</th>\n      <td>2010-05-03</td>\n      <td>0000</td>\n      <td>B</td>\n      <td>2.01</td>\n      <td>2010-05-03 13:38:00</td>\n      <td>2010-05-03 13:43:00</td>\n      <td>2010-05-03 13:41:00</td>\n    </tr>\n    <tr>\n      <th>58817</th>\n      <td>2010-05-03</td>\n      <td>0000</td>\n      <td>B</td>\n      <td>2.01</td>\n      <td>2010-05-03 13:38:00</td>\n      <td>2010-05-03 13:43:00</td>\n      <td>2010-05-03 13:41:00</td>\n    </tr>\n  </tbody>\n</table>\n<p>139 rows × 7 columns</p>\n</div>"
     },
     "execution_count": 84,
     "metadata": {},
     "output_type": "execute_result"
    }
   ],
   "source": [
    "df_flares[(df_flares['Region'] == '0000') | (df_flares['Region'] == '0')]"
   ],
   "metadata": {
    "collapsed": false,
    "ExecuteTime": {
     "end_time": "2024-07-31T03:23:12.174108Z",
     "start_time": "2024-07-31T03:23:12.147399400Z"
    }
   },
   "id": "ac026a028d3ea5aa"
  },
  {
   "cell_type": "code",
   "execution_count": 219,
   "outputs": [
    {
     "data": {
      "text/plain": "            Date Region X-ray class  X-ray intensity               Start  \\\n3     1981-01-03   2857           C              2.2 1981-01-03 15:49:00   \n6     1981-01-03   2857           C              1.2 1981-01-03 21:59:00   \n7     1981-01-03   2866           C              2.0 1981-01-03 22:27:00   \n11    1981-01-04   2872           C              2.2 1981-01-04 16:51:00   \n16    1981-01-05   2875           C              1.8 1981-01-05 13:58:00   \n...          ...    ...         ...              ...                 ...   \n84079 2024-06-30  13731           C              2.0 2024-06-30 04:28:00   \n84080 2024-06-30  13734           C              3.8 2024-06-30 05:48:00   \n84081 2024-06-30  13727           C              2.8 2024-06-30 20:56:00   \n84082 2024-06-30  13729           C              2.3 2024-06-30 22:19:00   \n84083 2024-06-30  13729           C              2.2 2024-06-30 23:29:00   \n\n                      End             Maximum  \n3     1981-01-03 15:58:00 1981-01-03 15:53:00  \n6     1981-01-03 22:10:00 1981-01-03 22:02:00  \n7     1981-01-03 22:41:00 1981-01-03 22:32:00  \n11    1981-01-04 17:09:00 1981-01-04 16:57:00  \n16    1981-01-05 14:11:00 1981-01-05 14:00:00  \n...                   ...                 ...  \n84079 2024-06-30 04:39:00 2024-06-30 04:34:00  \n84080 2024-06-30 06:39:00 2024-06-30 06:18:00  \n84081 2024-06-30 21:10:00 2024-06-30 21:03:00  \n84082 2024-06-30 22:37:00 2024-06-30 22:28:00  \n84083 2024-06-30 23:55:00 2024-06-30 23:39:00  \n\n[52449 rows x 7 columns]",
      "text/html": "<div>\n<style scoped>\n    .dataframe tbody tr th:only-of-type {\n        vertical-align: middle;\n    }\n\n    .dataframe tbody tr th {\n        vertical-align: top;\n    }\n\n    .dataframe thead th {\n        text-align: right;\n    }\n</style>\n<table border=\"1\" class=\"dataframe\">\n  <thead>\n    <tr style=\"text-align: right;\">\n      <th></th>\n      <th>Date</th>\n      <th>Region</th>\n      <th>X-ray class</th>\n      <th>X-ray intensity</th>\n      <th>Start</th>\n      <th>End</th>\n      <th>Maximum</th>\n    </tr>\n  </thead>\n  <tbody>\n    <tr>\n      <th>3</th>\n      <td>1981-01-03</td>\n      <td>2857</td>\n      <td>C</td>\n      <td>2.2</td>\n      <td>1981-01-03 15:49:00</td>\n      <td>1981-01-03 15:58:00</td>\n      <td>1981-01-03 15:53:00</td>\n    </tr>\n    <tr>\n      <th>6</th>\n      <td>1981-01-03</td>\n      <td>2857</td>\n      <td>C</td>\n      <td>1.2</td>\n      <td>1981-01-03 21:59:00</td>\n      <td>1981-01-03 22:10:00</td>\n      <td>1981-01-03 22:02:00</td>\n    </tr>\n    <tr>\n      <th>7</th>\n      <td>1981-01-03</td>\n      <td>2866</td>\n      <td>C</td>\n      <td>2.0</td>\n      <td>1981-01-03 22:27:00</td>\n      <td>1981-01-03 22:41:00</td>\n      <td>1981-01-03 22:32:00</td>\n    </tr>\n    <tr>\n      <th>11</th>\n      <td>1981-01-04</td>\n      <td>2872</td>\n      <td>C</td>\n      <td>2.2</td>\n      <td>1981-01-04 16:51:00</td>\n      <td>1981-01-04 17:09:00</td>\n      <td>1981-01-04 16:57:00</td>\n    </tr>\n    <tr>\n      <th>16</th>\n      <td>1981-01-05</td>\n      <td>2875</td>\n      <td>C</td>\n      <td>1.8</td>\n      <td>1981-01-05 13:58:00</td>\n      <td>1981-01-05 14:11:00</td>\n      <td>1981-01-05 14:00:00</td>\n    </tr>\n    <tr>\n      <th>...</th>\n      <td>...</td>\n      <td>...</td>\n      <td>...</td>\n      <td>...</td>\n      <td>...</td>\n      <td>...</td>\n      <td>...</td>\n    </tr>\n    <tr>\n      <th>84079</th>\n      <td>2024-06-30</td>\n      <td>13731</td>\n      <td>C</td>\n      <td>2.0</td>\n      <td>2024-06-30 04:28:00</td>\n      <td>2024-06-30 04:39:00</td>\n      <td>2024-06-30 04:34:00</td>\n    </tr>\n    <tr>\n      <th>84080</th>\n      <td>2024-06-30</td>\n      <td>13734</td>\n      <td>C</td>\n      <td>3.8</td>\n      <td>2024-06-30 05:48:00</td>\n      <td>2024-06-30 06:39:00</td>\n      <td>2024-06-30 06:18:00</td>\n    </tr>\n    <tr>\n      <th>84081</th>\n      <td>2024-06-30</td>\n      <td>13727</td>\n      <td>C</td>\n      <td>2.8</td>\n      <td>2024-06-30 20:56:00</td>\n      <td>2024-06-30 21:10:00</td>\n      <td>2024-06-30 21:03:00</td>\n    </tr>\n    <tr>\n      <th>84082</th>\n      <td>2024-06-30</td>\n      <td>13729</td>\n      <td>C</td>\n      <td>2.3</td>\n      <td>2024-06-30 22:19:00</td>\n      <td>2024-06-30 22:37:00</td>\n      <td>2024-06-30 22:28:00</td>\n    </tr>\n    <tr>\n      <th>84083</th>\n      <td>2024-06-30</td>\n      <td>13729</td>\n      <td>C</td>\n      <td>2.2</td>\n      <td>2024-06-30 23:29:00</td>\n      <td>2024-06-30 23:55:00</td>\n      <td>2024-06-30 23:39:00</td>\n    </tr>\n  </tbody>\n</table>\n<p>52449 rows × 7 columns</p>\n</div>"
     },
     "execution_count": 219,
     "metadata": {},
     "output_type": "execute_result"
    }
   ],
   "source": [
    "df_flares[(df_flares['Region'] != '0000') & (df_flares['Region'] != '0') & (df_flares['Region'] != '')]"
   ],
   "metadata": {
    "collapsed": false,
    "ExecuteTime": {
     "end_time": "2024-08-02T04:07:58.785134800Z",
     "start_time": "2024-08-02T04:07:58.744244900Z"
    }
   },
   "id": "5260689f6cca8ad6"
  },
  {
   "cell_type": "code",
   "execution_count": 86,
   "outputs": [
    {
     "data": {
      "text/plain": "             Date  Region  Sunspot Number  Size Magnetic Classification  \\\n46457  2002-05-19    9945               2   180                       A   \n46458  2002-05-19    9948               2   380                       B   \n46459  2002-05-19    9950               1    20                       A   \n46460  2002-05-19    9951               3    10                       B   \n46461  2002-05-19    9954               4   130                       B   \n46462  2002-05-19    9955               1    30                       A   \n46463  2002-05-19    9957              27   810                     BGD   \n46464  2002-05-19    9958               6   100                       B   \n46465  2002-05-19    9960               4   100                       B   \n\n      Location Zurich Class Penumbra Class Compactness Class  \n46457   S02W84            H              S                 X  \n46458   S21W31            C              H                 O  \n46459   S05W51            H              S                 X  \n46460   N12W12            B              X                 O  \n46461   S22E27            D              A                 O  \n46462   S14E28            H              S                 X  \n46463   N08E47            E              K                 C  \n46464   N04E37            C              S                 O  \n46465   N15E74            D              A                 O  ",
      "text/html": "<div>\n<style scoped>\n    .dataframe tbody tr th:only-of-type {\n        vertical-align: middle;\n    }\n\n    .dataframe tbody tr th {\n        vertical-align: top;\n    }\n\n    .dataframe thead th {\n        text-align: right;\n    }\n</style>\n<table border=\"1\" class=\"dataframe\">\n  <thead>\n    <tr style=\"text-align: right;\">\n      <th></th>\n      <th>Date</th>\n      <th>Region</th>\n      <th>Sunspot Number</th>\n      <th>Size</th>\n      <th>Magnetic Classification</th>\n      <th>Location</th>\n      <th>Zurich Class</th>\n      <th>Penumbra Class</th>\n      <th>Compactness Class</th>\n    </tr>\n  </thead>\n  <tbody>\n    <tr>\n      <th>46457</th>\n      <td>2002-05-19</td>\n      <td>9945</td>\n      <td>2</td>\n      <td>180</td>\n      <td>A</td>\n      <td>S02W84</td>\n      <td>H</td>\n      <td>S</td>\n      <td>X</td>\n    </tr>\n    <tr>\n      <th>46458</th>\n      <td>2002-05-19</td>\n      <td>9948</td>\n      <td>2</td>\n      <td>380</td>\n      <td>B</td>\n      <td>S21W31</td>\n      <td>C</td>\n      <td>H</td>\n      <td>O</td>\n    </tr>\n    <tr>\n      <th>46459</th>\n      <td>2002-05-19</td>\n      <td>9950</td>\n      <td>1</td>\n      <td>20</td>\n      <td>A</td>\n      <td>S05W51</td>\n      <td>H</td>\n      <td>S</td>\n      <td>X</td>\n    </tr>\n    <tr>\n      <th>46460</th>\n      <td>2002-05-19</td>\n      <td>9951</td>\n      <td>3</td>\n      <td>10</td>\n      <td>B</td>\n      <td>N12W12</td>\n      <td>B</td>\n      <td>X</td>\n      <td>O</td>\n    </tr>\n    <tr>\n      <th>46461</th>\n      <td>2002-05-19</td>\n      <td>9954</td>\n      <td>4</td>\n      <td>130</td>\n      <td>B</td>\n      <td>S22E27</td>\n      <td>D</td>\n      <td>A</td>\n      <td>O</td>\n    </tr>\n    <tr>\n      <th>46462</th>\n      <td>2002-05-19</td>\n      <td>9955</td>\n      <td>1</td>\n      <td>30</td>\n      <td>A</td>\n      <td>S14E28</td>\n      <td>H</td>\n      <td>S</td>\n      <td>X</td>\n    </tr>\n    <tr>\n      <th>46463</th>\n      <td>2002-05-19</td>\n      <td>9957</td>\n      <td>27</td>\n      <td>810</td>\n      <td>BGD</td>\n      <td>N08E47</td>\n      <td>E</td>\n      <td>K</td>\n      <td>C</td>\n    </tr>\n    <tr>\n      <th>46464</th>\n      <td>2002-05-19</td>\n      <td>9958</td>\n      <td>6</td>\n      <td>100</td>\n      <td>B</td>\n      <td>N04E37</td>\n      <td>C</td>\n      <td>S</td>\n      <td>O</td>\n    </tr>\n    <tr>\n      <th>46465</th>\n      <td>2002-05-19</td>\n      <td>9960</td>\n      <td>4</td>\n      <td>100</td>\n      <td>B</td>\n      <td>N15E74</td>\n      <td>D</td>\n      <td>A</td>\n      <td>O</td>\n    </tr>\n  </tbody>\n</table>\n</div>"
     },
     "execution_count": 86,
     "metadata": {},
     "output_type": "execute_result"
    }
   ],
   "source": [
    "df_sunspot[df_sunspot['Date'] == '2002-05-19']"
   ],
   "metadata": {
    "collapsed": false,
    "ExecuteTime": {
     "end_time": "2024-07-31T03:24:49.990256800Z",
     "start_time": "2024-07-31T03:24:49.965196500Z"
    }
   },
   "id": "b185531c51cff03b"
  },
  {
   "cell_type": "code",
   "execution_count": 95,
   "outputs": [
    {
     "data": {
      "text/plain": "Magnetic Classification     138\nZurich Class                  2\nPenumbra Class                1\nCompactness Class          5450\ndtype: int64"
     },
     "execution_count": 95,
     "metadata": {},
     "output_type": "execute_result"
    }
   ],
   "source": [
    "get_null_counts(df_sunspot)"
   ],
   "metadata": {
    "collapsed": false,
    "ExecuteTime": {
     "end_time": "2024-07-31T14:51:50.944740100Z",
     "start_time": "2024-07-31T14:51:50.930084700Z"
    }
   },
   "id": "3198875a2859446"
  },
  {
   "cell_type": "code",
   "execution_count": 96,
   "outputs": [
    {
     "data": {
      "text/plain": "X-ray class        26\nX-ray intensity    26\ndtype: int64"
     },
     "execution_count": 96,
     "metadata": {},
     "output_type": "execute_result"
    }
   ],
   "source": [
    "get_null_counts(df_flares)"
   ],
   "metadata": {
    "collapsed": false,
    "ExecuteTime": {
     "end_time": "2024-07-31T14:51:56.958779600Z",
     "start_time": "2024-07-31T14:51:56.854075500Z"
    }
   },
   "id": "4d8f2fc6d5ad05af"
  },
  {
   "cell_type": "markdown",
   "source": [
    "# something"
   ],
   "metadata": {
    "collapsed": false
   },
   "id": "7e236bce515454d0"
  },
  {
   "cell_type": "code",
   "execution_count": 98,
   "outputs": [
    {
     "data": {
      "text/plain": "Index(['Date', 'Region', 'Sunspot Number', 'Size', 'Magnetic Classification',\n       'Location', 'Zurich Class', 'Penumbra Class', 'Compactness Class'],\n      dtype='object')"
     },
     "execution_count": 98,
     "metadata": {},
     "output_type": "execute_result"
    }
   ],
   "source": [
    "df_sunspot.columns"
   ],
   "metadata": {
    "collapsed": false,
    "ExecuteTime": {
     "end_time": "2024-07-31T15:45:28.768267700Z",
     "start_time": "2024-07-31T15:45:28.748393900Z"
    }
   },
   "id": "97ae0ba2be0d1918"
  },
  {
   "cell_type": "code",
   "execution_count": 99,
   "outputs": [
    {
     "data": {
      "text/plain": "Index(['Date', 'Region', 'X-ray class', 'X-ray intensity', 'Start', 'End',\n       'Maximum'],\n      dtype='object')"
     },
     "execution_count": 99,
     "metadata": {},
     "output_type": "execute_result"
    }
   ],
   "source": [
    "df_flares.columns"
   ],
   "metadata": {
    "collapsed": false,
    "ExecuteTime": {
     "end_time": "2024-07-31T15:45:33.121977200Z",
     "start_time": "2024-07-31T15:45:33.089231200Z"
    }
   },
   "id": "c9f17f729efdd9f4"
  },
  {
   "cell_type": "code",
   "execution_count": 111,
   "outputs": [
    {
     "name": "stdout",
     "output_type": "stream",
     "text": [
      "df_sunspot_small.shape=(72319, 3), df_flares_small.shape=(84084, 2)\n"
     ]
    }
   ],
   "source": [
    "df_sunspot_small = df_sunspot.drop(['Size', 'Magnetic Classification', 'Location',\n",
    "                                    'Zurich Class', 'Penumbra Class', 'Compactness Class'], axis=1)\n",
    "df_flares_small = df_flares.drop(['X-ray class', 'X-ray intensity', 'Start', 'End', 'Maximum'], axis=1)\n",
    "print(f\"{df_sunspot_small.shape=}, {df_flares_small.shape=}\")"
   ],
   "metadata": {
    "collapsed": false,
    "ExecuteTime": {
     "end_time": "2024-07-31T16:08:43.469545500Z",
     "start_time": "2024-07-31T16:08:43.457023600Z"
    }
   },
   "id": "ffc3d61502316b71"
  },
  {
   "cell_type": "code",
   "execution_count": 114,
   "outputs": [],
   "source": [
    "from sklearn.model_selection import train_test_split\n",
    "from sklearn.ensemble import RandomForestRegressor, RandomForestClassifier\n",
    "from sklearn.metrics import mean_squared_error, accuracy_score"
   ],
   "metadata": {
    "collapsed": false,
    "ExecuteTime": {
     "end_time": "2024-07-31T16:12:01.965348900Z",
     "start_time": "2024-07-31T16:12:01.126822800Z"
    }
   },
   "id": "aa6eda9dc02a379a"
  },
  {
   "cell_type": "code",
   "execution_count": 136,
   "outputs": [
    {
     "data": {
      "text/plain": "(Index(['Date', 'Region', 'Sunspot Number'], dtype='object'),\n Index(['Date', 'Region'], dtype='object'))"
     },
     "execution_count": 136,
     "metadata": {},
     "output_type": "execute_result"
    }
   ],
   "source": [
    "df_sunspot_small.columns, df_flares_small.columns"
   ],
   "metadata": {
    "collapsed": false,
    "ExecuteTime": {
     "end_time": "2024-08-01T18:16:46.465823700Z",
     "start_time": "2024-08-01T18:16:46.393995500Z"
    }
   },
   "id": "af5d98b0cdca28da"
  },
  {
   "cell_type": "code",
   "execution_count": 158,
   "outputs": [
    {
     "data": {
      "text/plain": "            Date Region  Sunspot Number  Flare Count\n0     1981-12-01   3477              70            2\n1     1981-12-01   3478              32            0\n2     1981-12-01   3480               4            0\n3     1981-12-01   3481               8            0\n4     1981-12-01   3484              35            6\n...          ...    ...             ...          ...\n72314 2024-06-30  13731               1            1\n72315 2024-06-30  13732               4            0\n72316 2024-06-30  13733               4            0\n72317 2024-06-30  13734               4            2\n72318 2024-06-30  13735               1            0\n\n[72319 rows x 4 columns]",
      "text/html": "<div>\n<style scoped>\n    .dataframe tbody tr th:only-of-type {\n        vertical-align: middle;\n    }\n\n    .dataframe tbody tr th {\n        vertical-align: top;\n    }\n\n    .dataframe thead th {\n        text-align: right;\n    }\n</style>\n<table border=\"1\" class=\"dataframe\">\n  <thead>\n    <tr style=\"text-align: right;\">\n      <th></th>\n      <th>Date</th>\n      <th>Region</th>\n      <th>Sunspot Number</th>\n      <th>Flare Count</th>\n    </tr>\n  </thead>\n  <tbody>\n    <tr>\n      <th>0</th>\n      <td>1981-12-01</td>\n      <td>3477</td>\n      <td>70</td>\n      <td>2</td>\n    </tr>\n    <tr>\n      <th>1</th>\n      <td>1981-12-01</td>\n      <td>3478</td>\n      <td>32</td>\n      <td>0</td>\n    </tr>\n    <tr>\n      <th>2</th>\n      <td>1981-12-01</td>\n      <td>3480</td>\n      <td>4</td>\n      <td>0</td>\n    </tr>\n    <tr>\n      <th>3</th>\n      <td>1981-12-01</td>\n      <td>3481</td>\n      <td>8</td>\n      <td>0</td>\n    </tr>\n    <tr>\n      <th>4</th>\n      <td>1981-12-01</td>\n      <td>3484</td>\n      <td>35</td>\n      <td>6</td>\n    </tr>\n    <tr>\n      <th>...</th>\n      <td>...</td>\n      <td>...</td>\n      <td>...</td>\n      <td>...</td>\n    </tr>\n    <tr>\n      <th>72314</th>\n      <td>2024-06-30</td>\n      <td>13731</td>\n      <td>1</td>\n      <td>1</td>\n    </tr>\n    <tr>\n      <th>72315</th>\n      <td>2024-06-30</td>\n      <td>13732</td>\n      <td>4</td>\n      <td>0</td>\n    </tr>\n    <tr>\n      <th>72316</th>\n      <td>2024-06-30</td>\n      <td>13733</td>\n      <td>4</td>\n      <td>0</td>\n    </tr>\n    <tr>\n      <th>72317</th>\n      <td>2024-06-30</td>\n      <td>13734</td>\n      <td>4</td>\n      <td>2</td>\n    </tr>\n    <tr>\n      <th>72318</th>\n      <td>2024-06-30</td>\n      <td>13735</td>\n      <td>1</td>\n      <td>0</td>\n    </tr>\n  </tbody>\n</table>\n<p>72319 rows × 4 columns</p>\n</div>"
     },
     "execution_count": 158,
     "metadata": {},
     "output_type": "execute_result"
    }
   ],
   "source": [
    "df_flares_count_small = df_flares_small.groupby(['Date', 'Region']).size().reset_index(name='Flare Count')\n",
    "df_merged_small = pd.merge(df_sunspot_small, df_flares_count_small, on=['Date', 'Region'], how='left').fillna({'Flare Count': 0})\n",
    "df_merged_small['Flare Count'] = df_merged_small['Flare Count'].astype(int)\n",
    "df_merged_small"
   ],
   "metadata": {
    "collapsed": false,
    "ExecuteTime": {
     "end_time": "2024-08-01T20:06:44.627218900Z",
     "start_time": "2024-08-01T20:06:44.586563200Z"
    }
   },
   "id": "fff9f1031adeb27d"
  },
  {
   "cell_type": "code",
   "execution_count": 159,
   "outputs": [],
   "source": [
    "df_merged_small['Year'] = df_merged_small['Date'].dt.year\n",
    "df_merged_small['Month'] = df_merged_small['Date'].dt.month\n",
    "df_merged_small['Day'] = df_merged_small['Date'].dt.day\n",
    "df_merged_small.drop('Date', axis=1, inplace=True)"
   ],
   "metadata": {
    "collapsed": false,
    "ExecuteTime": {
     "end_time": "2024-08-01T20:06:59.910376100Z",
     "start_time": "2024-08-01T20:06:59.890862100Z"
    }
   },
   "id": "906734a5a8313172"
  },
  {
   "cell_type": "code",
   "execution_count": 160,
   "outputs": [],
   "source": [
    "df_merged_small.to_csv(\"../data/merged_small.csv\", index=False)"
   ],
   "metadata": {
    "collapsed": false,
    "ExecuteTime": {
     "end_time": "2024-08-01T20:07:01.165671400Z",
     "start_time": "2024-08-01T20:07:01.070424Z"
    }
   },
   "id": "ee832c3628d9a341"
  },
  {
   "cell_type": "markdown",
   "source": [
    "## Longer data"
   ],
   "metadata": {
    "collapsed": false
   },
   "id": "84a61ac3cde3f3e4"
  },
  {
   "cell_type": "code",
   "execution_count": 206,
   "outputs": [
    {
     "data": {
      "text/plain": "X-ray class        26\nX-ray intensity    26\ndtype: int64"
     },
     "execution_count": 206,
     "metadata": {},
     "output_type": "execute_result"
    }
   ],
   "source": [
    "df_flares2 = df_flares.copy()\n",
    "df_flares2['Duration'] = (df_flares2['End'] - df_flares2['Start']).dt.total_seconds()\n",
    "df_flares2.drop(['Start', 'End'], axis=1, inplace=True)\n",
    "\n",
    "df_flares2['Duration'] = df_flares2['Duration'].astype(int)\n",
    "get_null_counts(df_flares2)"
   ],
   "metadata": {
    "collapsed": false,
    "ExecuteTime": {
     "end_time": "2024-08-02T01:26:59.062570300Z",
     "start_time": "2024-08-02T01:26:59.029630400Z"
    }
   },
   "id": "8601458e1f4a2dd0"
  },
  {
   "cell_type": "code",
   "execution_count": 207,
   "outputs": [],
   "source": [
    "df_flares2.dropna(inplace=True)"
   ],
   "metadata": {
    "collapsed": false,
    "ExecuteTime": {
     "end_time": "2024-08-02T01:26:59.229264500Z",
     "start_time": "2024-08-02T01:26:59.220740800Z"
    }
   },
   "id": "e9a252eee5e4c95b"
  },
  {
   "cell_type": "code",
   "execution_count": 208,
   "outputs": [
    {
     "name": "stdout",
     "output_type": "stream",
     "text": [
      "(3, 7)\n"
     ]
    },
    {
     "data": {
      "text/plain": "            Date Region  Flare Count             Maximum  Duration  \\\n0     1981-01-02                   2 1981-01-02 04:44:00       300   \n1     1981-01-03                   3 1981-01-03 10:30:00       660   \n2     1981-01-03   2857            2 1981-01-03 15:53:00       540   \n3     1981-01-03   2866            1 1981-01-03 22:32:00       840   \n4     1981-01-04                   5 1981-01-04 09:24:00       600   \n...          ...    ...          ...                 ...       ...   \n29920 2024-06-30  13723            1 2024-06-30 04:16:00      1260   \n29921 2024-06-30  13727            1 2024-06-30 21:03:00       840   \n29922 2024-06-30  13729            2 2024-06-30 22:28:00      1080   \n29923 2024-06-30  13731            1 2024-06-30 04:34:00       660   \n29924 2024-06-30  13734            2 2024-06-30 06:18:00      3060   \n\n       Max log10 X-ray intensity  \n0                      -5.744727  \n1                      -5.292430  \n2                      -5.657577  \n3                      -5.698970  \n4                      -5.638272  \n...                          ...  \n29920                  -5.638272  \n29921                  -5.552842  \n29922                  -5.638272  \n29923                  -5.698970  \n29924                  -5.420216  \n\n[29925 rows x 6 columns]",
      "text/html": "<div>\n<style scoped>\n    .dataframe tbody tr th:only-of-type {\n        vertical-align: middle;\n    }\n\n    .dataframe tbody tr th {\n        vertical-align: top;\n    }\n\n    .dataframe thead th {\n        text-align: right;\n    }\n</style>\n<table border=\"1\" class=\"dataframe\">\n  <thead>\n    <tr style=\"text-align: right;\">\n      <th></th>\n      <th>Date</th>\n      <th>Region</th>\n      <th>Flare Count</th>\n      <th>Maximum</th>\n      <th>Duration</th>\n      <th>Max log10 X-ray intensity</th>\n    </tr>\n  </thead>\n  <tbody>\n    <tr>\n      <th>0</th>\n      <td>1981-01-02</td>\n      <td></td>\n      <td>2</td>\n      <td>1981-01-02 04:44:00</td>\n      <td>300</td>\n      <td>-5.744727</td>\n    </tr>\n    <tr>\n      <th>1</th>\n      <td>1981-01-03</td>\n      <td></td>\n      <td>3</td>\n      <td>1981-01-03 10:30:00</td>\n      <td>660</td>\n      <td>-5.292430</td>\n    </tr>\n    <tr>\n      <th>2</th>\n      <td>1981-01-03</td>\n      <td>2857</td>\n      <td>2</td>\n      <td>1981-01-03 15:53:00</td>\n      <td>540</td>\n      <td>-5.657577</td>\n    </tr>\n    <tr>\n      <th>3</th>\n      <td>1981-01-03</td>\n      <td>2866</td>\n      <td>1</td>\n      <td>1981-01-03 22:32:00</td>\n      <td>840</td>\n      <td>-5.698970</td>\n    </tr>\n    <tr>\n      <th>4</th>\n      <td>1981-01-04</td>\n      <td></td>\n      <td>5</td>\n      <td>1981-01-04 09:24:00</td>\n      <td>600</td>\n      <td>-5.638272</td>\n    </tr>\n    <tr>\n      <th>...</th>\n      <td>...</td>\n      <td>...</td>\n      <td>...</td>\n      <td>...</td>\n      <td>...</td>\n      <td>...</td>\n    </tr>\n    <tr>\n      <th>29920</th>\n      <td>2024-06-30</td>\n      <td>13723</td>\n      <td>1</td>\n      <td>2024-06-30 04:16:00</td>\n      <td>1260</td>\n      <td>-5.638272</td>\n    </tr>\n    <tr>\n      <th>29921</th>\n      <td>2024-06-30</td>\n      <td>13727</td>\n      <td>1</td>\n      <td>2024-06-30 21:03:00</td>\n      <td>840</td>\n      <td>-5.552842</td>\n    </tr>\n    <tr>\n      <th>29922</th>\n      <td>2024-06-30</td>\n      <td>13729</td>\n      <td>2</td>\n      <td>2024-06-30 22:28:00</td>\n      <td>1080</td>\n      <td>-5.638272</td>\n    </tr>\n    <tr>\n      <th>29923</th>\n      <td>2024-06-30</td>\n      <td>13731</td>\n      <td>1</td>\n      <td>2024-06-30 04:34:00</td>\n      <td>660</td>\n      <td>-5.698970</td>\n    </tr>\n    <tr>\n      <th>29924</th>\n      <td>2024-06-30</td>\n      <td>13734</td>\n      <td>2</td>\n      <td>2024-06-30 06:18:00</td>\n      <td>3060</td>\n      <td>-5.420216</td>\n    </tr>\n  </tbody>\n</table>\n<p>29925 rows × 6 columns</p>\n</div>"
     },
     "execution_count": 208,
     "metadata": {},
     "output_type": "execute_result"
    }
   ],
   "source": [
    "# Keep strong xray row\n",
    "xray_class_priority = {'A': 1e-8, 'B': 1e-7, 'C': 1e-6, 'M': 1e-5, 'X': 1e-4}\n",
    "df_flares2['Max log10 X-ray intensity'] = df_flares2['X-ray class']\\\n",
    "                                  .map(xray_class_priority) * df_flares2['X-ray intensity']\n",
    "df_flares2['Max log10 X-ray intensity'] = df_flares2['Max log10 X-ray intensity']\\\n",
    "                                  .apply(lambda x: np.log10(x) if x != 0 else 0)\n",
    "print(df_flares2[df_flares2['Max log10 X-ray intensity'] == 0].shape)\n",
    "\n",
    "# Drop if max is 0, otherwise that'd be the highest value\n",
    "df_flares2 = df_flares2[df_flares2['Max log10 X-ray intensity'] != 0]\n",
    "\n",
    "df_flares2_max_class_tmp = df_flares2.\\\n",
    "  loc[df_flares2.groupby(['Date', 'Region'])['Max log10 X-ray intensity'].idxmax()]\n",
    "\n",
    "# Count total flares\n",
    "df_flares2_count_tmp = df_flares2.groupby(['Date', 'Region']).size().reset_index(name='Flare Count')\n",
    "\n",
    "# Merge\n",
    "df_flares2 = pd.merge(df_flares2_count_tmp, df_flares2_max_class_tmp, on=['Date', 'Region'], how='left')\n",
    "df_flares2.drop(['X-ray class', 'X-ray intensity'], axis=1, inplace=True)\n",
    "df_flares2"
   ],
   "metadata": {
    "collapsed": false,
    "ExecuteTime": {
     "end_time": "2024-08-02T01:26:59.494378100Z",
     "start_time": "2024-08-02T01:26:59.421595Z"
    }
   },
   "id": "c9c0d08f5250379"
  },
  {
   "cell_type": "markdown",
   "source": [
    "# Long merge (wip)"
   ],
   "metadata": {
    "collapsed": false
   },
   "id": "c210c8b0a615b9ef"
  },
  {
   "cell_type": "code",
   "execution_count": 213,
   "outputs": [
    {
     "data": {
      "text/plain": "(29925, 6)"
     },
     "execution_count": 213,
     "metadata": {},
     "output_type": "execute_result"
    }
   ],
   "source": [
    "# df_merged2 = pd.merge(df_sunspot_small, df_flares_count_small, on=['Date', 'Region'], how='left').fillna({'Flare Count': 0})\n",
    "# df_merged_small['Flare Count'] = df_merged_small['Flare Count'].astype(int)"
   ],
   "metadata": {
    "collapsed": false,
    "ExecuteTime": {
     "end_time": "2024-08-02T01:28:53.782053200Z",
     "start_time": "2024-08-02T01:28:53.754144Z"
    }
   },
   "id": "242f869d0b017a6b"
  },
  {
   "cell_type": "code",
   "execution_count": 214,
   "outputs": [
    {
     "data": {
      "text/plain": "(array(['F', 'E', 'C', 'D', 'B', 'H', 'A', nan, 'X'], dtype=object),\n array(['K', 'A', 'R', 'S', 'X', 'H', nan], dtype=object),\n array(['I', 'O', 'X', 'C', nan], dtype=object))"
     },
     "execution_count": 214,
     "metadata": {},
     "output_type": "execute_result"
    }
   ],
   "source": [
    "df_sunspot['Zurich Class'].unique(), df_sunspot['Penumbra Class'].unique(), df_sunspot['Compactness Class'].unique()"
   ],
   "metadata": {
    "collapsed": false,
    "ExecuteTime": {
     "end_time": "2024-08-02T01:38:49.466143800Z",
     "start_time": "2024-08-02T01:38:49.447124500Z"
    }
   },
   "id": "67537a382c7c49b0"
  },
  {
   "cell_type": "code",
   "execution_count": 216,
   "outputs": [
    {
     "data": {
      "text/plain": "Magnetic Classification     138\nZurich Class                  2\nPenumbra Class                1\nCompactness Class          5450\ndtype: int64"
     },
     "execution_count": 216,
     "metadata": {},
     "output_type": "execute_result"
    }
   ],
   "source": [
    "# df_sunspot[df_sunspot['Zurich Class'] == np.nan].shape[0], df_sunspot[df_sunspot['Penumbra Class'] == np.nan].shape[0], df_sunspot[df_sunspot['Compactness Class'] == np.nan].shape[0]\n",
    "get_null_counts(df_sunspot)"
   ],
   "metadata": {
    "collapsed": false,
    "ExecuteTime": {
     "end_time": "2024-08-02T01:40:13.846807900Z",
     "start_time": "2024-08-02T01:40:13.804020200Z"
    }
   },
   "id": "2b078b25a49b1d"
  },
  {
   "cell_type": "markdown",
   "source": [
    "## Algo\n",
    "  - Linear Regression\n",
    "  - Logistic Regression\n",
    "  - SVM\n",
    "  - KNN\n",
    "  - Naive Bayes\n",
    "  - Random Forest "
   ],
   "metadata": {
    "collapsed": false
   },
   "id": "2e380c05f476c703"
  },
  {
   "cell_type": "code",
   "execution_count": 144,
   "outputs": [
    {
     "data": {
      "text/plain": "            Date Region  Sunspot Number\n0     1981-12-01   3477              70\n1     1981-12-01   3478              32\n2     1981-12-01   3480               4\n3     1981-12-01   3481               8\n4     1981-12-01   3484              35\n...          ...    ...             ...\n72314 2024-06-30  13731               1\n72315 2024-06-30  13732               4\n72316 2024-06-30  13733               4\n72317 2024-06-30  13734               4\n72318 2024-06-30  13735               1\n\n[72319 rows x 3 columns]",
      "text/html": "<div>\n<style scoped>\n    .dataframe tbody tr th:only-of-type {\n        vertical-align: middle;\n    }\n\n    .dataframe tbody tr th {\n        vertical-align: top;\n    }\n\n    .dataframe thead th {\n        text-align: right;\n    }\n</style>\n<table border=\"1\" class=\"dataframe\">\n  <thead>\n    <tr style=\"text-align: right;\">\n      <th></th>\n      <th>Date</th>\n      <th>Region</th>\n      <th>Sunspot Number</th>\n    </tr>\n  </thead>\n  <tbody>\n    <tr>\n      <th>0</th>\n      <td>1981-12-01</td>\n      <td>3477</td>\n      <td>70</td>\n    </tr>\n    <tr>\n      <th>1</th>\n      <td>1981-12-01</td>\n      <td>3478</td>\n      <td>32</td>\n    </tr>\n    <tr>\n      <th>2</th>\n      <td>1981-12-01</td>\n      <td>3480</td>\n      <td>4</td>\n    </tr>\n    <tr>\n      <th>3</th>\n      <td>1981-12-01</td>\n      <td>3481</td>\n      <td>8</td>\n    </tr>\n    <tr>\n      <th>4</th>\n      <td>1981-12-01</td>\n      <td>3484</td>\n      <td>35</td>\n    </tr>\n    <tr>\n      <th>...</th>\n      <td>...</td>\n      <td>...</td>\n      <td>...</td>\n    </tr>\n    <tr>\n      <th>72314</th>\n      <td>2024-06-30</td>\n      <td>13731</td>\n      <td>1</td>\n    </tr>\n    <tr>\n      <th>72315</th>\n      <td>2024-06-30</td>\n      <td>13732</td>\n      <td>4</td>\n    </tr>\n    <tr>\n      <th>72316</th>\n      <td>2024-06-30</td>\n      <td>13733</td>\n      <td>4</td>\n    </tr>\n    <tr>\n      <th>72317</th>\n      <td>2024-06-30</td>\n      <td>13734</td>\n      <td>4</td>\n    </tr>\n    <tr>\n      <th>72318</th>\n      <td>2024-06-30</td>\n      <td>13735</td>\n      <td>1</td>\n    </tr>\n  </tbody>\n</table>\n<p>72319 rows × 3 columns</p>\n</div>"
     },
     "execution_count": 144,
     "metadata": {},
     "output_type": "execute_result"
    }
   ],
   "source": [
    "df_sunspot_small"
   ],
   "metadata": {
    "collapsed": false,
    "ExecuteTime": {
     "end_time": "2024-08-01T18:22:50.484498400Z",
     "start_time": "2024-08-01T18:22:50.464368Z"
    }
   },
   "id": "eb8b939d7e37c164"
  },
  {
   "cell_type": "code",
   "execution_count": 145,
   "outputs": [
    {
     "data": {
      "text/plain": "            Date Region\n0     1981-01-02       \n1     1981-01-02       \n2     1981-01-03       \n3     1981-01-03   2857\n4     1981-01-03       \n...          ...    ...\n84079 2024-06-30  13731\n84080 2024-06-30  13734\n84081 2024-06-30  13727\n84082 2024-06-30  13729\n84083 2024-06-30  13729\n\n[84084 rows x 2 columns]",
      "text/html": "<div>\n<style scoped>\n    .dataframe tbody tr th:only-of-type {\n        vertical-align: middle;\n    }\n\n    .dataframe tbody tr th {\n        vertical-align: top;\n    }\n\n    .dataframe thead th {\n        text-align: right;\n    }\n</style>\n<table border=\"1\" class=\"dataframe\">\n  <thead>\n    <tr style=\"text-align: right;\">\n      <th></th>\n      <th>Date</th>\n      <th>Region</th>\n    </tr>\n  </thead>\n  <tbody>\n    <tr>\n      <th>0</th>\n      <td>1981-01-02</td>\n      <td></td>\n    </tr>\n    <tr>\n      <th>1</th>\n      <td>1981-01-02</td>\n      <td></td>\n    </tr>\n    <tr>\n      <th>2</th>\n      <td>1981-01-03</td>\n      <td></td>\n    </tr>\n    <tr>\n      <th>3</th>\n      <td>1981-01-03</td>\n      <td>2857</td>\n    </tr>\n    <tr>\n      <th>4</th>\n      <td>1981-01-03</td>\n      <td></td>\n    </tr>\n    <tr>\n      <th>...</th>\n      <td>...</td>\n      <td>...</td>\n    </tr>\n    <tr>\n      <th>84079</th>\n      <td>2024-06-30</td>\n      <td>13731</td>\n    </tr>\n    <tr>\n      <th>84080</th>\n      <td>2024-06-30</td>\n      <td>13734</td>\n    </tr>\n    <tr>\n      <th>84081</th>\n      <td>2024-06-30</td>\n      <td>13727</td>\n    </tr>\n    <tr>\n      <th>84082</th>\n      <td>2024-06-30</td>\n      <td>13729</td>\n    </tr>\n    <tr>\n      <th>84083</th>\n      <td>2024-06-30</td>\n      <td>13729</td>\n    </tr>\n  </tbody>\n</table>\n<p>84084 rows × 2 columns</p>\n</div>"
     },
     "execution_count": 145,
     "metadata": {},
     "output_type": "execute_result"
    }
   ],
   "source": [
    "df_flares_small"
   ],
   "metadata": {
    "collapsed": false,
    "ExecuteTime": {
     "end_time": "2024-08-01T18:23:02.358061800Z",
     "start_time": "2024-08-01T18:23:02.334382100Z"
    }
   },
   "id": "f761289598daa460"
  },
  {
   "cell_type": "code",
   "execution_count": 140,
   "outputs": [
    {
     "data": {
      "text/plain": "       Region  Sunspot Number  Flare Count  Year  Month  Day\n0          -1             NaN            2  1981      1    2\n1          -1             NaN            3  1981      1    3\n2        2857             NaN            2  1981      1    3\n3        2866             NaN            1  1981      1    3\n4          -1             NaN            5  1981      1    4\n...       ...             ...          ...   ...    ...  ...\n88933   13731             1.0            1  2024      6   30\n88934   13732             4.0            0  2024      6   30\n88935   13733             4.0            0  2024      6   30\n88936   13734             4.0            2  2024      6   30\n88937   13735             1.0            0  2024      6   30\n\n[88938 rows x 6 columns]",
      "text/html": "<div>\n<style scoped>\n    .dataframe tbody tr th:only-of-type {\n        vertical-align: middle;\n    }\n\n    .dataframe tbody tr th {\n        vertical-align: top;\n    }\n\n    .dataframe thead th {\n        text-align: right;\n    }\n</style>\n<table border=\"1\" class=\"dataframe\">\n  <thead>\n    <tr style=\"text-align: right;\">\n      <th></th>\n      <th>Region</th>\n      <th>Sunspot Number</th>\n      <th>Flare Count</th>\n      <th>Year</th>\n      <th>Month</th>\n      <th>Day</th>\n    </tr>\n  </thead>\n  <tbody>\n    <tr>\n      <th>0</th>\n      <td>-1</td>\n      <td>NaN</td>\n      <td>2</td>\n      <td>1981</td>\n      <td>1</td>\n      <td>2</td>\n    </tr>\n    <tr>\n      <th>1</th>\n      <td>-1</td>\n      <td>NaN</td>\n      <td>3</td>\n      <td>1981</td>\n      <td>1</td>\n      <td>3</td>\n    </tr>\n    <tr>\n      <th>2</th>\n      <td>2857</td>\n      <td>NaN</td>\n      <td>2</td>\n      <td>1981</td>\n      <td>1</td>\n      <td>3</td>\n    </tr>\n    <tr>\n      <th>3</th>\n      <td>2866</td>\n      <td>NaN</td>\n      <td>1</td>\n      <td>1981</td>\n      <td>1</td>\n      <td>3</td>\n    </tr>\n    <tr>\n      <th>4</th>\n      <td>-1</td>\n      <td>NaN</td>\n      <td>5</td>\n      <td>1981</td>\n      <td>1</td>\n      <td>4</td>\n    </tr>\n    <tr>\n      <th>...</th>\n      <td>...</td>\n      <td>...</td>\n      <td>...</td>\n      <td>...</td>\n      <td>...</td>\n      <td>...</td>\n    </tr>\n    <tr>\n      <th>88933</th>\n      <td>13731</td>\n      <td>1.0</td>\n      <td>1</td>\n      <td>2024</td>\n      <td>6</td>\n      <td>30</td>\n    </tr>\n    <tr>\n      <th>88934</th>\n      <td>13732</td>\n      <td>4.0</td>\n      <td>0</td>\n      <td>2024</td>\n      <td>6</td>\n      <td>30</td>\n    </tr>\n    <tr>\n      <th>88935</th>\n      <td>13733</td>\n      <td>4.0</td>\n      <td>0</td>\n      <td>2024</td>\n      <td>6</td>\n      <td>30</td>\n    </tr>\n    <tr>\n      <th>88936</th>\n      <td>13734</td>\n      <td>4.0</td>\n      <td>2</td>\n      <td>2024</td>\n      <td>6</td>\n      <td>30</td>\n    </tr>\n    <tr>\n      <th>88937</th>\n      <td>13735</td>\n      <td>1.0</td>\n      <td>0</td>\n      <td>2024</td>\n      <td>6</td>\n      <td>30</td>\n    </tr>\n  </tbody>\n</table>\n<p>88938 rows × 6 columns</p>\n</div>"
     },
     "execution_count": 140,
     "metadata": {},
     "output_type": "execute_result"
    }
   ],
   "source": [
    "df_flares_count_small = df_flares_small.groupby(['Date', 'Region']).size().reset_index(name='Flare Count')\n",
    "\n",
    "df_merged_small = pd.merge(df_sunspot_small, df_flares_count_small, on=['Date', 'Region'], how='outer')\n",
    "\n",
    "df_merged_small['Year'] = df_merged_small['Date'].dt.year\n",
    "df_merged_small['Month'] = df_merged_small['Date'].dt.month\n",
    "df_merged_small['Day'] = df_merged_small['Date'].dt.day\n",
    "\n",
    "df_merged_small.drop(columns=['Date'], inplace=True)\n",
    "# df_merged_small['Sunspot Number'] = df_merged_small['Sunspot Number'].apply(\n",
    "#     lambda x: int(x) if pd.notna(x) else 0)\n",
    "df_merged_small['Flare Count'] = df_merged_small['Flare Count'].apply(\n",
    "    lambda x: int(x) if pd.notna(x) else 0)\n",
    "df_merged_small['Region'] = df_merged_small['Region'].apply(\n",
    "    lambda x: int(x) if x != '' else -1)\n",
    "df_merged_small"
   ],
   "metadata": {
    "collapsed": false,
    "ExecuteTime": {
     "end_time": "2024-08-01T18:18:55.684740400Z",
     "start_time": "2024-08-01T18:18:55.498710900Z"
    }
   },
   "id": "b84ba176864aa7a5"
  },
  {
   "cell_type": "code",
   "execution_count": 130,
   "outputs": [],
   "source": [
    "X = df_merged_small[['Region', 'Year', 'Month', 'Day']]\n",
    "y_sunspot = df_merged_small['Sunspot Number']\n",
    "y_flare = df_merged_small['Flare Count'].apply(lambda x: 1 if x > 0 else 0)\n",
    "\n",
    "X_train, X_test, y_sunspot_train, y_sunspot_test = train_test_split(X, y_sunspot, test_size=0.2, random_state=42)\n",
    "_, _, y_flare_train, y_flare_test = train_test_split(X, y_flare, test_size=0.2, random_state=42)"
   ],
   "metadata": {
    "collapsed": false,
    "ExecuteTime": {
     "end_time": "2024-07-31T16:29:02.739013Z",
     "start_time": "2024-07-31T16:29:02.703024500Z"
    }
   },
   "id": "c18d8e136e5e99f8"
  },
  {
   "cell_type": "code",
   "execution_count": 131,
   "outputs": [
    {
     "name": "stdout",
     "output_type": "stream",
     "text": [
      "Sunspot Prediction RMSE: 5.794223559582544\n",
      "Flare Prediction Accuracy: 0.8360130425005622\n"
     ]
    }
   ],
   "source": [
    "# regression model\n",
    "sunspot_model = RandomForestRegressor(random_state=42)\n",
    "sunspot_model.fit(X_train, y_sunspot_train)\n",
    "y_sunspot_pred = sunspot_model.predict(X_test)\n",
    "\n",
    "flare_model = RandomForestClassifier(random_state=42)\n",
    "flare_model.fit(X_train, y_flare_train)\n",
    "y_flare_pred = flare_model.predict(X_test)\n",
    "\n",
    "# Evaluate models\n",
    "sunspot_rmse = np.sqrt(mean_squared_error(y_sunspot_test, y_sunspot_pred))\n",
    "flare_accuracy = accuracy_score(y_flare_test, y_flare_pred)\n",
    "\n",
    "print(f\"Sunspot Prediction RMSE: {sunspot_rmse}\")\n",
    "print(f\"Flare Prediction Accuracy: {flare_accuracy}\")"
   ],
   "metadata": {
    "collapsed": false,
    "ExecuteTime": {
     "end_time": "2024-07-31T16:29:17.270235900Z",
     "start_time": "2024-07-31T16:29:03.518178800Z"
    }
   },
   "id": "8473da1004a64703"
  },
  {
   "cell_type": "code",
   "execution_count": 133,
   "outputs": [],
   "source": [
    "from sklearn.metrics import mean_absolute_error, r2_score"
   ],
   "metadata": {
    "collapsed": false,
    "ExecuteTime": {
     "end_time": "2024-07-31T16:33:11.744989400Z",
     "start_time": "2024-07-31T16:33:11.714540600Z"
    }
   },
   "id": "e56fd921db0a02b8"
  },
  {
   "cell_type": "code",
   "execution_count": 135,
   "outputs": [
    {
     "data": {
      "text/plain": "(3.3821036653923993, 0.7284249973932417)"
     },
     "execution_count": 135,
     "metadata": {},
     "output_type": "execute_result"
    }
   ],
   "source": [
    "sunspot_mae = mean_absolute_error(y_sunspot_test, y_sunspot_pred)\n",
    "sunspot_r2 = r2_score(y_sunspot_test, y_sunspot_pred)\n",
    "sunspot_mae, sunspot_r2"
   ],
   "metadata": {
    "collapsed": false,
    "ExecuteTime": {
     "end_time": "2024-07-31T16:33:20.734520800Z",
     "start_time": "2024-07-31T16:33:20.711025800Z"
    }
   },
   "id": "207c5f91a2d0b88"
  },
  {
   "cell_type": "code",
   "execution_count": 109,
   "outputs": [],
   "source": [
    "df_sunspot_small['Date'] = df_sunspot_small['Date'].apply(lambda x: int(pd.Timestamp(x).timestamp()))\n",
    "df_flares_small['Date'] = df_flares_small['Date'].apply(lambda x: int(pd.Timestamp(x).timestamp()))"
   ],
   "metadata": {
    "collapsed": false,
    "ExecuteTime": {
     "end_time": "2024-07-31T16:02:04.198024500Z",
     "start_time": "2024-07-31T16:02:03.972839700Z"
    }
   },
   "id": "88d23b5512a1a618"
  },
  {
   "cell_type": "code",
   "execution_count": 110,
   "outputs": [
    {
     "data": {
      "text/plain": "0         347241600\n1         347241600\n2         347328000\n3         347328000\n4         347328000\n            ...    \n84079    1719705600\n84080    1719705600\n84081    1719705600\n84082    1719705600\n84083    1719705600\nName: Date, Length: 84084, dtype: int64"
     },
     "execution_count": 110,
     "metadata": {},
     "output_type": "execute_result"
    }
   ],
   "source": [
    "df_flares_small['Date']"
   ],
   "metadata": {
    "collapsed": false,
    "ExecuteTime": {
     "end_time": "2024-07-31T16:02:04.440942500Z",
     "start_time": "2024-07-31T16:02:04.429400600Z"
    }
   },
   "id": "6450e8a526a54edd"
  },
  {
   "cell_type": "code",
   "execution_count": 216,
   "outputs": [],
   "source": [],
   "metadata": {
    "collapsed": false,
    "ExecuteTime": {
     "end_time": "2024-08-02T03:36:00.089246700Z",
     "start_time": "2024-08-02T03:36:00.089246700Z"
    }
   },
   "id": "c8e18cc257189a51"
  },
  {
   "cell_type": "code",
   "execution_count": 216,
   "outputs": [],
   "source": [],
   "metadata": {
    "collapsed": false,
    "ExecuteTime": {
     "end_time": "2024-08-02T03:36:00.287965300Z",
     "start_time": "2024-08-02T03:36:00.251927400Z"
    }
   },
   "id": "9f71c2d59b0d27bc"
  },
  {
   "cell_type": "code",
   "execution_count": 216,
   "outputs": [],
   "source": [],
   "metadata": {
    "collapsed": false,
    "ExecuteTime": {
     "end_time": "2024-08-02T03:36:00.461434900Z",
     "start_time": "2024-08-02T03:36:00.426378Z"
    }
   },
   "id": "134cbe70470b2e74"
  },
  {
   "cell_type": "code",
   "execution_count": null,
   "outputs": [],
   "source": [],
   "metadata": {
    "collapsed": false
   },
   "id": "3d6703ae430a341f"
  }
 ],
 "metadata": {
  "kernelspec": {
   "display_name": "Python 3",
   "language": "python",
   "name": "python3"
  },
  "language_info": {
   "codemirror_mode": {
    "name": "ipython",
    "version": 2
   },
   "file_extension": ".py",
   "mimetype": "text/x-python",
   "name": "python",
   "nbconvert_exporter": "python",
   "pygments_lexer": "ipython2",
   "version": "2.7.6"
  }
 },
 "nbformat": 4,
 "nbformat_minor": 5
}
